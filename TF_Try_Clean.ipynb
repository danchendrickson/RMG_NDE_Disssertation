{
 "cells": [
  {
   "cell_type": "code",
   "execution_count": 1,
   "id": "b366a51c",
   "metadata": {},
   "outputs": [
    {
     "name": "stderr",
     "output_type": "stream",
     "text": [
      "2022-09-03 12:13:15.495671: W tensorflow/stream_executor/platform/default/dso_loader.cc:64] Could not load dynamic library 'libcuda.so.1'; dlerror: libcuda.so.1: cannot open shared object file: No such file or directory; LD_LIBRARY_PATH: /usr/local/cuda-11.7/lib64:/usr/local/cuda-11.7/lib64/stubd:/usr/local/cuda-11.7/nvvm/lib64:/lib64:/usr/lib64:/usr/local/torque-6.1.1.1/lib:/usr/local/anaconda3-2021.11/lib\n",
      "2022-09-03 12:13:15.495723: W tensorflow/stream_executor/cuda/cuda_driver.cc:269] failed call to cuInit: UNKNOWN ERROR (303)\n",
      "2022-09-03 12:13:15.495760: I tensorflow/stream_executor/cuda/cuda_diagnostics.cc:156] kernel driver does not appear to be running on this host (hi01.sciclone.wm.edu): /proc/driver/nvidia/version does not exist\n"
     ]
    }
   ],
   "source": [
    "# hat tip: https://developers.google.com/codelabs/tensorflow-5-compleximages#0\n",
    "\n",
    "import tensorflow as tf\n",
    "from tensorflow.keras.optimizers import RMSprop\n",
    "from tensorflow.keras.preprocessing.image import ImageDataGenerator\n",
    "import matplotlib.pyplot as plt\n",
    "\n",
    "\n",
    "tf.config.set_visible_devices([], 'GPU')"
   ]
  },
  {
   "cell_type": "code",
   "execution_count": 2,
   "id": "8a12045a",
   "metadata": {},
   "outputs": [],
   "source": [
    "im_h = 500\n",
    "im_w = 10000\n",
    "\n",
    "batchSize = 8"
   ]
  },
  {
   "cell_type": "code",
   "execution_count": 3,
   "id": "91144b2b",
   "metadata": {},
   "outputs": [
    {
     "name": "stderr",
     "output_type": "stream",
     "text": [
      "2022-09-03 12:13:15.545443: I tensorflow/core/platform/cpu_feature_guard.cc:151] This TensorFlow binary is optimized with oneAPI Deep Neural Network Library (oneDNN) to use the following CPU instructions in performance-critical operations:  SSE4.1 SSE4.2 AVX AVX2 FMA\n",
      "To enable them in other operations, rebuild TensorFlow with the appropriate compiler flags.\n"
     ]
    }
   ],
   "source": [
    "model = tf.keras.models.Sequential([\n",
    "    # Note the input shape is the desired size of the image 300x300 with 3 bytes color\n",
    "    # This is the first convolution\n",
    "    tf.keras.layers.Conv2D(32, (6,6), activation='relu', input_shape=(im_h, im_w, 3)),\n",
    "    tf.keras.layers.MaxPooling2D(4, 4),\n",
    "    # The second convolution\n",
    "    tf.keras.layers.Conv2D(32, (4,4), activation='relu'),\n",
    "    tf.keras.layers.MaxPooling2D(2,2),\n",
    "    # The third convolution\n",
    "    tf.keras.layers.Conv2D(32, (4,4), activation='relu'),\n",
    "    tf.keras.layers.MaxPooling2D(2,2),\n",
    "    # Flatten the results to feed into a DNN\n",
    "    tf.keras.layers.Flatten(),\n",
    "    # 512 neuron hidden layer\n",
    "    tf.keras.layers.Dense(256, activation='relu'),\n",
    "    # Only 1 output neuron. It will contain a value from 0-1 where 0 for 1 class ('horses') and 1 for the other ('humans')\n",
    "    tf.keras.layers.Dense(1, activation='sigmoid')\n",
    "])\n"
   ]
  },
  {
   "cell_type": "code",
   "execution_count": 4,
   "id": "97d75b7f",
   "metadata": {},
   "outputs": [
    {
     "name": "stderr",
     "output_type": "stream",
     "text": [
      "/sciclone/home20/dchendrickson01/.conda/envs/TFGPU/lib/python3.9/site-packages/keras/optimizer_v2/rmsprop.py:130: UserWarning: The `lr` argument is deprecated, use `learning_rate` instead.\n",
      "  super(RMSprop, self).__init__(name, **kwargs)\n"
     ]
    }
   ],
   "source": [
    "model.compile(loss='binary_crossentropy',\n",
    "              optimizer=RMSprop(lr=0.001),\n",
    "              metrics=['acc'])\n"
   ]
  },
  {
   "cell_type": "code",
   "execution_count": 5,
   "id": "59d08d72",
   "metadata": {},
   "outputs": [],
   "source": [
    "imFolder = '/sciclone/scr10/dchendrickson01/BigPrints'"
   ]
  },
  {
   "cell_type": "code",
   "execution_count": 6,
   "id": "b68323a9",
   "metadata": {},
   "outputs": [
    {
     "name": "stdout",
     "output_type": "stream",
     "text": [
      "Found 151571 images belonging to 3 classes.\n"
     ]
    }
   ],
   "source": [
    "# All images will be rescaled by 1./255\n",
    "generator = ImageDataGenerator(rescale=1./255, validation_split = 0.2)\n",
    " \n",
    "# Flow training images in batches of 128 using train_datagen generator\n",
    "train_generator = generator.flow_from_directory(\n",
    "        imFolder,  # This is the source directory for training images\n",
    "        target_size=(im_h, im_w),  # All images will be resized to 150x150\n",
    "        batch_size=batchSize,\n",
    "        # Since we use binary_crossentropy loss, we need binary labels\n",
    "        class_mode='binary',\n",
    "        subset='training')\n"
   ]
  },
  {
   "cell_type": "code",
   "execution_count": 7,
   "id": "994c27b5",
   "metadata": {},
   "outputs": [
    {
     "name": "stdout",
     "output_type": "stream",
     "text": [
      "Found 37892 images belonging to 3 classes.\n"
     ]
    }
   ],
   "source": [
    "validation_generator = generator.flow_from_directory(\n",
    "        imFolder,  # This is the source directory for training images\n",
    "        target_size=(im_h, im_w),  # All images will be resized to 150x150\n",
    "        batch_size=batchSize,\n",
    "        class_mode='binary',\n",
    "        subset='validation')\n"
   ]
  },
  {
   "cell_type": "code",
   "execution_count": 8,
   "id": "55678e96",
   "metadata": {},
   "outputs": [
    {
     "name": "stdout",
     "output_type": "stream",
     "text": [
      "18947 4737\n"
     ]
    }
   ],
   "source": [
    "print(len(train_generator), len(validation_generator))"
   ]
  },
  {
   "cell_type": "code",
   "execution_count": 9,
   "id": "acd9f547",
   "metadata": {},
   "outputs": [],
   "source": [
    "StepsNeeded=8 #len(train_generator)"
   ]
  },
  {
   "cell_type": "code",
   "execution_count": 11,
   "id": "55725703",
   "metadata": {},
   "outputs": [
    {
     "name": "stdout",
     "output_type": "stream",
     "text": [
      "Epoch 1/5\n",
      "8/8 [==============================] - 8188s 1167s/step - loss: 0.7522 - acc: 0.4219 - val_loss: 0.7096 - val_acc: 0.4626\n",
      "Epoch 2/5\n",
      "8/8 [==============================] - 7590s 1082s/step - loss: 0.7132 - acc: 0.4219 - val_loss: 0.6889 - val_acc: 0.5625\n",
      "Epoch 3/5\n",
      "8/8 [==============================] - 7553s 1076s/step - loss: 0.6928 - acc: 0.5938 - val_loss: 0.6868 - val_acc: 0.5588\n",
      "Epoch 4/5\n",
      "8/8 [==============================] - 7569s 1079s/step - loss: 0.6896 - acc: 0.6094 - val_loss: 0.6864 - val_acc: 0.5664\n",
      "Epoch 5/5\n",
      "8/8 [==============================] - 7559s 1077s/step - loss: 0.6824 - acc: 0.5938 - val_loss: 0.6885 - val_acc: 0.5650\n"
     ]
    }
   ],
   "source": [
    "history = model.fit(\n",
    "      train_generator,\n",
    "      steps_per_epoch=StepsNeeded,  \n",
    "      epochs=5,\n",
    "      validation_data=validation_generator,\n",
    "      validation_steps=4, #len(validation_generator),\n",
    "      verbose=1)\n"
   ]
  },
  {
   "cell_type": "code",
   "execution_count": 14,
   "id": "e6b68d60",
   "metadata": {},
   "outputs": [
    {
     "name": "stdout",
     "output_type": "stream",
     "text": [
      "INFO:tensorflow:Assets written to: /sciclone/scr10/dchendrickson01/BigPrintsModel3/assets\n"
     ]
    },
    {
     "data": {
      "image/png": "[encoded data removed]",
      "text/plain": [
       "<Figure size 432x288 with 1 Axes>"
      ]
     },
     "metadata": {
      "needs_background": "light"
     },
     "output_type": "display_data"
    },
    {
     "data": {
      "image/png": "[encoded data removed]",
      "text/plain": [
       "<Figure size 432x288 with 1 Axes>"
      ]
     },
     "metadata": {
      "needs_background": "light"
     },
     "output_type": "display_data"
    }
   ],
   "source": [
    "\n",
    "model.save(imFolder+'Model3/')\n",
    "\n",
    "plt.plot(history.history['acc'])\n",
    "plt.plot(history.history['val_acc'])\n",
    "plt.title('model accuracy')\n",
    "plt.ylabel('accuracy')\n",
    "plt.xlabel('epoch')\n",
    "plt.legend(['train', 'test'], loc='upper left')\n",
    "plt.savefig(imFolder + 'ModelAccuracy3.png')\n",
    "plt.show()\n",
    "\n",
    "# summarize history for loss\n",
    "plt.plot(history.history['loss'])\n",
    "plt.plot(history.history['val_loss'])\n",
    "plt.title('model loss')\n",
    "plt.ylabel('loss')\n",
    "plt.xlabel('epoch')\n",
    "plt.legend(['train', 'test'], loc='upper left')\n",
    "plt.savefig(imFolder + 'ModelLoss3.png')\n",
    "plt.show()\n"
   ]
  },
  {
   "cell_type": "code",
   "execution_count": 13,
   "id": "a57fceee",
   "metadata": {},
   "outputs": [
    {
     "data": {
      "text/plain": [
       "{'loss': [0.752192497253418,\n",
       "  0.7131978273391724,\n",
       "  0.6927739381790161,\n",
       "  0.6895685195922852,\n",
       "  0.6823897957801819],\n",
       " 'acc': [0.421875, 0.421875, 0.59375, 0.609375, 0.59375],\n",
       " 'val_loss': [0.7096455097198486,\n",
       "  0.6888595819473267,\n",
       "  0.6868150234222412,\n",
       "  0.6864100694656372,\n",
       "  0.6884939074516296],\n",
       " 'val_acc': [0.46257784962654114,\n",
       "  0.5624670386314392,\n",
       "  0.5588250756263733,\n",
       "  0.5663992166519165,\n",
       "  0.5650005340576172]}"
      ]
     },
     "execution_count": 13,
     "metadata": {},
     "output_type": "execute_result"
    }
   ],
   "source": [
    "history.history"
   ]
  }
 ],
 "metadata": {
  "kernelspec": {
   "display_name": "TFGPU",
   "language": "python",
   "name": "tfgpu"
  },
  "language_info": {
   "codemirror_mode": {
    "name": "ipython",
    "version": 3
   },
   "file_extension": ".py",
   "mimetype": "text/x-python",
   "name": "python",
   "nbconvert_exporter": "python",
   "pygments_lexer": "ipython3",
   "version": "3.9.13"
  }
 },
 "nbformat": 4,
 "nbformat_minor": 5
}
