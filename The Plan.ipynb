{
 "cells": [
  {
   "cell_type": "markdown",
   "metadata": {},
   "source": [
    "## Overal Goals for Crane Data:\n",
    "1. Show comparison of Beta Wavelet with other standard for catagorizing fualts\n",
    "1. Compare standard Wavelet, with Fingerprint, with video, with image, with expert system, with straight signal\n",
    "\n",
    "## To do list for Beta Wavelet:\n",
    "1. <font color = 'blue'>make it work</font>\n",
    "1. <font color = 'blue'>make real time analysis</font>\n",
    "1. compare against all options with real time analysis\n",
    "\n",
    "## To Do list for Crane Data Analysis:\n",
    "1. <font color = 'blue'>Choose Random set from Repository</font>\n",
    "1. <font color = 'blue'>Parse Name to get accepted output vector</font>\n",
    "1. Train Models on data\n",
    "    * Data Prep:\n",
    "      * <font color = 'blue'>Try un smoothed</font>\n",
    "      * <font color = 'blue'>Try smoothed with rolling average</font>\n",
    "      * <font color = 'blue'>Make fingerprints by dimmension</font>\n",
    "      * <font color = 'blue'>Make fingerprints by r</font>\n",
    "      * <font color = 'blue'>try smooth with kalman</font>\n",
    "    * Model Types Video and Image\n",
    "      * Video:\n",
    "        * <font color = 'blue'>Rolling, 3x100, 3x changing frame sizes</font>\n",
    "        * <font color = 'blue'>overlapping segments, 3x?? hoping down line</font>\n",
    "        * <font color = 'blue'> rolling fingerprints</font>\n",
    "          * Try many fingerprints\n",
    "          * look at Beta, and classification as it is going\n",
    "      * Image:\n",
    "        * <font color = 'blue'>Fingerprint</font>\n",
    "        * <font color = 'blue'>3 x 60k image</font>\n",
    "1. Examine differences of results\n",
    "\n",
    "## Rail LASER\n",
    "1. <font color = 'blue'>Start data</font>\n",
    "1. Figure frequency needed\n",
    "1. Specific test cases\n",
    "    * <font color = 'blue'>'Singing track'</font>\n",
    "    * Over center anchor rise\n",
    "    * Old\n",
    "    * <font color = 'blue'>new</font>\n",
    "    * <font color = 'blue'>ground</font>\n",
    "    * <font color = 'blue'>rough</font>\n",
    "    * tamped\n",
    "\n",
    "## EFIT and related\n",
    "1. <font color = 'blue'>Write code</font>\n",
    "1. Get code working\n",
    "1. GPU parrallelization\n",
    "1. Inner simulation space bundary conditions\n",
    "1. Compare LASER measurement to EFIT"
   ]
  },
  {
   "cell_type": "code",
   "execution_count": null,
   "metadata": {},
   "outputs": [],
   "source": []
  }
 ],
 "metadata": {
  "kernelspec": {
   "display_name": "Python 3 (ipykernel)",
   "language": "python",
   "name": "python3"
  },
  "language_info": {
   "codemirror_mode": {
    "name": "ipython",
    "version": 3
   },
   "file_extension": ".py",
   "mimetype": "text/x-python",
   "name": "python",
   "nbconvert_exporter": "python",
   "pygments_lexer": "ipython3",
   "version": "3.9.7"
  },
  "vscode": {
   "interpreter": {
    "hash": "54d4a74d2acb620b973b6686d9e092ebabe111cf1da47c2d23b0fd51788c9859"
   }
  }
 },
 "nbformat": 4,
 "nbformat_minor": 4
}
