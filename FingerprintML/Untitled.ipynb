{
 "cells": [
  {
   "cell_type": "code",
   "execution_count": 1,
   "id": "1de1449d-67a0-4885-a426-e72b409e93dc",
   "metadata": {},
   "outputs": [],
   "source": [
    "import GPUtil"
   ]
  },
  {
   "cell_type": "code",
   "execution_count": 4,
   "id": "99a278e7-4cb9-4828-9641-01c8035a2ce5",
   "metadata": {},
   "outputs": [
    {
     "name": "stdout",
     "output_type": "stream",
     "text": [
      "| ID | GPU | MEM |\n",
      "------------------\n",
      "|  0 |  0% |  0% |\n"
     ]
    }
   ],
   "source": [
    "GPUtil.showUtilization()"
   ]
  },
  {
   "cell_type": "code",
   "execution_count": 1,
   "id": "b8955d56-707e-43f1-8c46-3c141e638d2d",
   "metadata": {},
   "outputs": [
    {
     "name": "stderr",
     "output_type": "stream",
     "text": [
      "2024-11-14 09:23:42.710801: E external/local_xla/xla/stream_executor/cuda/cuda_fft.cc:485] Unable to register cuFFT factory: Attempting to register factory for plugin cuFFT when one has already been registered\n",
      "2024-11-14 09:23:42.892458: E external/local_xla/xla/stream_executor/cuda/cuda_dnn.cc:8454] Unable to register cuDNN factory: Attempting to register factory for plugin cuDNN when one has already been registered\n",
      "2024-11-14 09:23:42.942590: E external/local_xla/xla/stream_executor/cuda/cuda_blas.cc:1452] Unable to register cuBLAS factory: Attempting to register factory for plugin cuBLAS when one has already been registered\n",
      "2024-11-14 09:23:43.388442: I tensorflow/core/platform/cpu_feature_guard.cc:210] This TensorFlow binary is optimized to use available CPU instructions in performance-critical operations.\n",
      "To enable the following instructions: AVX2 FMA, in other operations, rebuild TensorFlow with the appropriate compiler flags.\n"
     ]
    }
   ],
   "source": [
    "from tensorflow.python.client import device_lib\n",
    "\n",
    "def get_available_gpus():\n",
    "    local_device_protos = device_lib.list_local_devices()\n",
    "    return [x.name for x in local_device_protos if x.device_type == 'GPU']"
   ]
  },
  {
   "cell_type": "code",
   "execution_count": 2,
   "id": "698e63ef-b5dd-46ed-be3a-abd3baa6167b",
   "metadata": {},
   "outputs": [
    {
     "name": "stderr",
     "output_type": "stream",
     "text": [
      "2024-11-14 09:23:53.708054: I tensorflow/core/common_runtime/gpu/gpu_device.cc:2021] Created device /device:GPU:0 with 43598 MB memory:  -> device: 0, name: NVIDIA A40, pci bus id: 0000:21:00.0, compute capability: 8.6\n",
      "2024-11-14 09:23:53.709987: I tensorflow/core/common_runtime/gpu/gpu_device.cc:2021] Created device /device:GPU:1 with 14221 MB memory:  -> device: 1, name: NVIDIA A40, pci bus id: 0000:81:00.0, compute capability: 8.6\n"
     ]
    }
   ],
   "source": [
    "h = get_available_gpus()"
   ]
  },
  {
   "cell_type": "code",
   "execution_count": 3,
   "id": "57de52a5-346d-4641-8bb5-72f4e614ed96",
   "metadata": {},
   "outputs": [
    {
     "data": {
      "text/plain": [
       "['/device:GPU:0', '/device:GPU:1']"
      ]
     },
     "execution_count": 3,
     "metadata": {},
     "output_type": "execute_result"
    }
   ],
   "source": [
    "h"
   ]
  },
  {
   "cell_type": "code",
   "execution_count": 1,
   "id": "872fcda1-36d7-4465-b8fa-b9f6d7dba4e2",
   "metadata": {},
   "outputs": [
    {
     "name": "stdout",
     "output_type": "stream",
     "text": [
      "Thu Oct 31 15:24:55 2024\n"
     ]
    }
   ],
   "source": [
    "import time\n",
    "\n",
    "# Get the current timestamp\n",
    "timestamp = time.time()\n",
    "\n",
    "# Convert to a human-readable string\n",
    "readable_time = time.ctime(timestamp)\n",
    "print(readable_time)"
   ]
  },
  {
   "cell_type": "code",
   "execution_count": 1,
   "id": "b53a470d-fed6-42d7-9845-ff7caed628e1",
   "metadata": {},
   "outputs": [
    {
     "name": "stderr",
     "output_type": "stream",
     "text": [
      "2024-10-07 09:14:20.809862: E external/local_xla/xla/stream_executor/cuda/cuda_fft.cc:485] Unable to register cuFFT factory: Attempting to register factory for plugin cuFFT when one has already been registered\n",
      "2024-10-07 09:14:21.160493: E external/local_xla/xla/stream_executor/cuda/cuda_dnn.cc:8454] Unable to register cuDNN factory: Attempting to register factory for plugin cuDNN when one has already been registered\n",
      "2024-10-07 09:14:21.261244: E external/local_xla/xla/stream_executor/cuda/cuda_blas.cc:1452] Unable to register cuBLAS factory: Attempting to register factory for plugin cuBLAS when one has already been registered\n",
      "2024-10-07 09:14:22.097228: I tensorflow/core/platform/cpu_feature_guard.cc:210] This TensorFlow binary is optimized to use available CPU instructions in performance-critical operations.\n",
      "To enable the following instructions: AVX2 FMA, in other operations, rebuild TensorFlow with the appropriate compiler flags.\n"
     ]
    }
   ],
   "source": [
    "import keras"
   ]
  },
  {
   "cell_type": "code",
   "execution_count": 3,
   "id": "60bed752-1086-4f36-86df-db19602c8e29",
   "metadata": {},
   "outputs": [
    {
     "name": "stderr",
     "output_type": "stream",
     "text": [
      "2024-10-07 09:16:29.282489: I tensorflow/core/common_runtime/gpu/gpu_device.cc:2021] Created device /job:localhost/replica:0/task:0/device:GPU:0 with 43598 MB memory:  -> device: 0, name: NVIDIA A40, pci bus id: 0000:21:00.0, compute capability: 8.6\n"
     ]
    }
   ],
   "source": [
    "model = keras.models.load_model('/scratch/models/3DFP_1002_5_06.keras')"
   ]
  },
  {
   "cell_type": "code",
   "execution_count": 4,
   "id": "35f8b4e6-c1c3-449e-bca9-b17be0d32b37",
   "metadata": {},
   "outputs": [
    {
     "data": {
      "text/html": [
       "<pre style=\"white-space:pre;overflow-x:auto;line-height:normal;font-family:Menlo,'DejaVu Sans Mono',consolas,'Courier New',monospace\"><span style=\"font-weight: bold\">Model: \"autoencoder\"</span>\n",
       "</pre>\n"
      ],
      "text/plain": [
       "\u001b[1mModel: \"autoencoder\"\u001b[0m\n"
      ]
     },
     "metadata": {},
     "output_type": "display_data"
    },
    {
     "data": {
      "text/html": [
       "<pre style=\"white-space:pre;overflow-x:auto;line-height:normal;font-family:Menlo,'DejaVu Sans Mono',consolas,'Courier New',monospace\">┏━━━━━━━━━━━━━━━━━━━━━━━━━━━━━━━━━┳━━━━━━━━━━━━━━━━━━━━━━━━┳━━━━━━━━━━━━━━━┓\n",
       "┃<span style=\"font-weight: bold\"> Layer (type)                    </span>┃<span style=\"font-weight: bold\"> Output Shape           </span>┃<span style=\"font-weight: bold\">       Param # </span>┃\n",
       "┡━━━━━━━━━━━━━━━━━━━━━━━━━━━━━━━━━╇━━━━━━━━━━━━━━━━━━━━━━━━╇━━━━━━━━━━━━━━━┩\n",
       "│ input_layer (<span style=\"color: #0087ff; text-decoration-color: #0087ff\">InputLayer</span>)        │ (<span style=\"color: #00d7ff; text-decoration-color: #00d7ff\">None</span>, <span style=\"color: #00af00; text-decoration-color: #00af00\">32</span>, <span style=\"color: #00af00; text-decoration-color: #00af00\">600</span>, <span style=\"color: #00af00; text-decoration-color: #00af00\">3</span>)     │             <span style=\"color: #00af00; text-decoration-color: #00af00\">0</span> │\n",
       "├─────────────────────────────────┼────────────────────────┼───────────────┤\n",
       "│ encoder (<span style=\"color: #0087ff; text-decoration-color: #0087ff\">Functional</span>)            │ (<span style=\"color: #00d7ff; text-decoration-color: #00d7ff\">None</span>, <span style=\"color: #00af00; text-decoration-color: #00af00\">32</span>)             │     <span style=\"color: #00af00; text-decoration-color: #00af00\">1,249,472</span> │\n",
       "├─────────────────────────────────┼────────────────────────┼───────────────┤\n",
       "│ decoder (<span style=\"color: #0087ff; text-decoration-color: #0087ff\">Functional</span>)            │ (<span style=\"color: #00d7ff; text-decoration-color: #00d7ff\">None</span>, <span style=\"color: #00af00; text-decoration-color: #00af00\">32</span>, <span style=\"color: #00af00; text-decoration-color: #00af00\">600</span>, <span style=\"color: #00af00; text-decoration-color: #00af00\">3</span>)     │     <span style=\"color: #00af00; text-decoration-color: #00af00\">1,297,059</span> │\n",
       "└─────────────────────────────────┴────────────────────────┴───────────────┘\n",
       "</pre>\n"
      ],
      "text/plain": [
       "┏━━━━━━━━━━━━━━━━━━━━━━━━━━━━━━━━━┳━━━━━━━━━━━━━━━━━━━━━━━━┳━━━━━━━━━━━━━━━┓\n",
       "┃\u001b[1m \u001b[0m\u001b[1mLayer (type)                   \u001b[0m\u001b[1m \u001b[0m┃\u001b[1m \u001b[0m\u001b[1mOutput Shape          \u001b[0m\u001b[1m \u001b[0m┃\u001b[1m \u001b[0m\u001b[1m      Param #\u001b[0m\u001b[1m \u001b[0m┃\n",
       "┡━━━━━━━━━━━━━━━━━━━━━━━━━━━━━━━━━╇━━━━━━━━━━━━━━━━━━━━━━━━╇━━━━━━━━━━━━━━━┩\n",
       "│ input_layer (\u001b[38;5;33mInputLayer\u001b[0m)        │ (\u001b[38;5;45mNone\u001b[0m, \u001b[38;5;34m32\u001b[0m, \u001b[38;5;34m600\u001b[0m, \u001b[38;5;34m3\u001b[0m)     │             \u001b[38;5;34m0\u001b[0m │\n",
       "├─────────────────────────────────┼────────────────────────┼───────────────┤\n",
       "│ encoder (\u001b[38;5;33mFunctional\u001b[0m)            │ (\u001b[38;5;45mNone\u001b[0m, \u001b[38;5;34m32\u001b[0m)             │     \u001b[38;5;34m1,249,472\u001b[0m │\n",
       "├─────────────────────────────────┼────────────────────────┼───────────────┤\n",
       "│ decoder (\u001b[38;5;33mFunctional\u001b[0m)            │ (\u001b[38;5;45mNone\u001b[0m, \u001b[38;5;34m32\u001b[0m, \u001b[38;5;34m600\u001b[0m, \u001b[38;5;34m3\u001b[0m)     │     \u001b[38;5;34m1,297,059\u001b[0m │\n",
       "└─────────────────────────────────┴────────────────────────┴───────────────┘\n"
      ]
     },
     "metadata": {},
     "output_type": "display_data"
    },
    {
     "data": {
      "text/html": [
       "<pre style=\"white-space:pre;overflow-x:auto;line-height:normal;font-family:Menlo,'DejaVu Sans Mono',consolas,'Courier New',monospace\"><span style=\"font-weight: bold\"> Total params: </span><span style=\"color: #00af00; text-decoration-color: #00af00\">7,638,827</span> (29.14 MB)\n",
       "</pre>\n"
      ],
      "text/plain": [
       "\u001b[1m Total params: \u001b[0m\u001b[38;5;34m7,638,827\u001b[0m (29.14 MB)\n"
      ]
     },
     "metadata": {},
     "output_type": "display_data"
    },
    {
     "data": {
      "text/html": [
       "<pre style=\"white-space:pre;overflow-x:auto;line-height:normal;font-family:Menlo,'DejaVu Sans Mono',consolas,'Courier New',monospace\"><span style=\"font-weight: bold\"> Trainable params: </span><span style=\"color: #00af00; text-decoration-color: #00af00\">2,546,147</span> (9.71 MB)\n",
       "</pre>\n"
      ],
      "text/plain": [
       "\u001b[1m Trainable params: \u001b[0m\u001b[38;5;34m2,546,147\u001b[0m (9.71 MB)\n"
      ]
     },
     "metadata": {},
     "output_type": "display_data"
    },
    {
     "data": {
      "text/html": [
       "<pre style=\"white-space:pre;overflow-x:auto;line-height:normal;font-family:Menlo,'DejaVu Sans Mono',consolas,'Courier New',monospace\"><span style=\"font-weight: bold\"> Non-trainable params: </span><span style=\"color: #00af00; text-decoration-color: #00af00\">384</span> (1.50 KB)\n",
       "</pre>\n"
      ],
      "text/plain": [
       "\u001b[1m Non-trainable params: \u001b[0m\u001b[38;5;34m384\u001b[0m (1.50 KB)\n"
      ]
     },
     "metadata": {},
     "output_type": "display_data"
    },
    {
     "data": {
      "text/html": [
       "<pre style=\"white-space:pre;overflow-x:auto;line-height:normal;font-family:Menlo,'DejaVu Sans Mono',consolas,'Courier New',monospace\"><span style=\"font-weight: bold\"> Optimizer params: </span><span style=\"color: #00af00; text-decoration-color: #00af00\">5,092,296</span> (19.43 MB)\n",
       "</pre>\n"
      ],
      "text/plain": [
       "\u001b[1m Optimizer params: \u001b[0m\u001b[38;5;34m5,092,296\u001b[0m (19.43 MB)\n"
      ]
     },
     "metadata": {},
     "output_type": "display_data"
    }
   ],
   "source": [
    "model.summary()"
   ]
  },
  {
   "cell_type": "code",
   "execution_count": 5,
   "id": "cda9df9a-889c-47ba-9293-5135db089439",
   "metadata": {},
   "outputs": [
    {
     "ename": "AttributeError",
     "evalue": "'Functional' object has no attribute 'encoder'",
     "output_type": "error",
     "traceback": [
      "\u001b[0;31m---------------------------------------------------------------------------\u001b[0m",
      "\u001b[0;31mAttributeError\u001b[0m                            Traceback (most recent call last)",
      "Cell \u001b[0;32mIn[5], line 1\u001b[0m\n\u001b[0;32m----> 1\u001b[0m \u001b[43mmodel\u001b[49m\u001b[38;5;241;43m.\u001b[39;49m\u001b[43mencoder\u001b[49m\u001b[38;5;241m.\u001b[39msummary()\n",
      "\u001b[0;31mAttributeError\u001b[0m: 'Functional' object has no attribute 'encoder'"
     ]
    }
   ],
   "source": []
  },
  {
   "cell_type": "code",
   "execution_count": null,
   "id": "d495114a-35b1-43de-ad04-5178e745d6f4",
   "metadata": {},
   "outputs": [],
   "source": []
  },
  {
   "cell_type": "code",
   "execution_count": 1,
   "id": "df5a7460-efdf-4253-b1cb-c7d3a3bddcda",
   "metadata": {},
   "outputs": [],
   "source": [
    "import pandas as pd\n",
    "import numpy as np"
   ]
  },
  {
   "cell_type": "code",
   "execution_count": 25,
   "id": "67e47574-3887-40ad-9d01-808c82f846fa",
   "metadata": {},
   "outputs": [],
   "source": [
    "import matplotlib.pyplot as plt"
   ]
  },
  {
   "cell_type": "code",
   "execution_count": 7,
   "id": "432d9729-c278-4b8e-88f6-280221677a14",
   "metadata": {},
   "outputs": [],
   "source": [
    "from skimage.restoration import denoise_wavelet\n",
    "from time import time as ti"
   ]
  },
  {
   "cell_type": "code",
   "execution_count": 10,
   "id": "687a599a-6ca3-43eb-b1d9-216f635c3227",
   "metadata": {},
   "outputs": [],
   "source": [
    "TIME_STEPS = 1200\n",
    "Skips = 100"
   ]
  },
  {
   "cell_type": "code",
   "execution_count": 38,
   "id": "be9d5c70-565c-422b-9188-84c4c5b46056",
   "metadata": {},
   "outputs": [],
   "source": [
    "def RollingStdDevFaster(RawData, SmoothData, RollSize = 25):\n",
    "\n",
    "    Diffs = RawData - SmoothData\n",
    "    del RawData, SmoothData\n",
    "    \n",
    "    Sqs = Diffs * Diffs\n",
    "    del Diffs\n",
    "    \n",
    "    Sqs = Sqs.tolist() \n",
    "    Sqs.extend(np.zeros(RollSize))\n",
    "    mSqs = np.matrix(Sqs)\n",
    "    \n",
    "    for i in range(RollSize):\n",
    "        Sqs.insert(0, Sqs.pop())\n",
    "        mSqs = np.concatenate((np.matrix(Sqs),mSqs))\n",
    "    \n",
    "    sVect = mSqs.sum(axis=0)\n",
    "    eVect = (mSqs!=0).sum(axis=0)\n",
    "    del mSqs, Sqs\n",
    "    \n",
    "    VarVect = sVect / eVect\n",
    "    StdDevs = np.sqrt(VarVect)\n",
    "    return np.asarray(StdDevs[:-RollSize].T)\n",
    "\n",
    "def SquelchPattern(DataSet, StallRange = 5000, SquelchLevel = 0.02, verbose = False):\n",
    "    \n",
    "    SquelchSignal = np.ones(len(DataSet))\n",
    "    if verbose:\n",
    "        print(len(SquelchSignal))\n",
    "        \n",
    "    for i in range(len(DataSet)-2*StallRange):\n",
    "        if np.average(DataSet[i:i+StallRange]) < SquelchLevel:\n",
    "            SquelchSignal[i+StallRange]=0\n",
    "\n",
    "    return SquelchSignal\n",
    "\n",
    "def split_list_by_zeros(original_list, ones_list):\n",
    "    # modified split_list_by_ones function to instead split by the zeros.\n",
    "    #\n",
    "    #\n",
    "    # Created with Bing AI support\n",
    "    #  1st request: \"python split list into chunks based on value\"\n",
    "    #  2nd request: \"I want to split the list based on the values in a second list.  Second list is all 1s and 0s.  I want all 0s removed, and each set of consequtive ones as its own item\"\n",
    "    #  3rd request: \"That is close.  Here is an example of the two lists, and what I would want returned: original_list = [1, 2, 3, 8, 7, 4, 5, 6, 4, 7, 8, 9]\n",
    "    #                ones_list =     [1, 1, 1, 1, 0, 1, 1, 1, 0, 0, 1, 1]\n",
    "    #                return: [[1, 2, 3, 8], [4, 5, 6], [8,9]]\"\n",
    "    #\n",
    "    #This is the function that was created and seems to work on the short lists, going to use for long lists\n",
    "    \n",
    "    result_sublists = []\n",
    "    sublist = []\n",
    "\n",
    "    for val, is_one in zip(original_list, ones_list):\n",
    "        if not is_one:\n",
    "            sublist.append(val)\n",
    "        elif sublist:\n",
    "            result_sublists.append(sublist)\n",
    "            sublist = []\n",
    "\n",
    "    # Add the last sublist (if any)\n",
    "    if sublist:\n",
    "        result_sublists.append(sublist)\n",
    "\n",
    "    return result_sublists\n",
    "\n",
    "def split_list_by_ones(original_list, ones_list):\n",
    "    # modified split_list_by_ones function to instead split by the zeros.\n",
    "    #\n",
    "    #\n",
    "    # Created with Bing AI support\n",
    "    #  1st request: \"python split list into chunks based on value\"\n",
    "    #  2nd request: \"I want to split the list based on the values in a second list.  Second list is all 1s and 0s.  I want all 0s removed, and each set of consequtive ones as its own item\"\n",
    "    #  3rd request: \"That is close.  Here is an example of the two lists, and what I would want returned: original_list = [1, 2, 3, 8, 7, 4, 5, 6, 4, 7, 8, 9]\n",
    "    #                ones_list =     [1, 1, 1, 1, 0, 1, 1, 1, 0, 0, 1, 1]\n",
    "    #                return: [[1, 2, 3, 8], [4, 5, 6], [8,9]]\"\n",
    "    #\n",
    "    #This is the function that was created and seems to work on the short lists, going to use for long lists\n",
    "    \n",
    "    result_sublists = []\n",
    "    sublist = []\n",
    "\n",
    "    for val, is_one in zip(original_list, ones_list):\n",
    "        if is_one:\n",
    "            sublist.append(val)\n",
    "        elif sublist:\n",
    "            result_sublists.append(sublist)\n",
    "            sublist = []\n",
    "\n",
    "    # Add the last sublist (if any)\n",
    "    if sublist:\n",
    "        result_sublists.append(sublist)\n",
    "\n",
    "    return result_sublists\n",
    "\n",
    "# Generated training sequences for use in the model.\n",
    "def create_sequences(values, time_steps=TIME_STEPS, skips = Skips):\n",
    "    output = []\n",
    "    if len(values) > time_steps:\n",
    "        for i in range(int((len(values) - time_steps + skips)/skips)):\n",
    "            output.append(values[i*skips : (i*skips + time_steps)])\n",
    "        return np.stack(output)"
   ]
  },
  {
   "cell_type": "code",
   "execution_count": 4,
   "id": "017225be-2cd9-42c3-b93e-ca6fa63274a9",
   "metadata": {},
   "outputs": [],
   "source": [
    "def getVelocity(Acceleration, Timestamps = 0.003, Squelch = [], corrected = 0):\n",
    "    velocity = np.zeros(len(Acceleration))\n",
    "    \n",
    "    Acceleration -= np.average(Acceleration)\n",
    "    \n",
    "    if len(Timestamps) == 1:\n",
    "        dTime = np.ones(len(Acceleration),dtype=float) * Timestamps\n",
    "    elif len(Timestamps) == len(Acceleration):\n",
    "        dTime = np.zeros(len(Timestamps), dtype=float)\n",
    "        dTime[0]=1\n",
    "        for i in range(len(Timestamps)-1):\n",
    "            j = i+1\n",
    "            if Timestamps[j] > Timestamps[i]:\n",
    "                dTime[j]=Timestamps[j]-Timestamps[i]\n",
    "            else:\n",
    "                dTime[j]=Timestamps[j]-Timestamps[i]+10000.0\n",
    "        dTime /= 10000.0\n",
    "\n",
    "    velocity[0] = Acceleration[0] * (dTime[0])\n",
    "\n",
    "    for i in range(len(Acceleration)-1):\n",
    "        j = i + 1\n",
    "        if corrected ==2:\n",
    "            if Squelch[j]==0:\n",
    "                velocity[j]=0\n",
    "            else:\n",
    "                velocity[j] = velocity[i] + Acceleration[j] * dTime[j]                \n",
    "        else:\n",
    "            velocity[j] = velocity[i] + Acceleration[j] * dTime[j]\n",
    "\n",
    "    if corrected == 1:\n",
    "        PointVairance = velocity[-1:] / len(velocity)\n",
    "        for i in range(len(velocity)):\n",
    "            velocity[i] -=  PointVairance * i\n",
    "    \n",
    "    velocity *= 9.81\n",
    "\n",
    "    return velocity"
   ]
  },
  {
   "cell_type": "code",
   "execution_count": 19,
   "id": "204baf55-a732-409c-85d2-2c2cf4d9d7c8",
   "metadata": {},
   "outputs": [],
   "source": [
    "start=ti()"
   ]
  },
  {
   "cell_type": "code",
   "execution_count": 3,
   "id": "aecb72c5-9654-4c39-910e-1e0cd5b94c38",
   "metadata": {},
   "outputs": [],
   "source": [
    "DataFolder = '/scratch/Recordings2/'\n",
    "files=['230424 recording3.csv',\n",
    "       '230802 recording1.csv',\n",
    "       '230803 recording1.csv',\n",
    "       ]\n",
    "file = files[0]"
   ]
  },
  {
   "cell_type": "code",
   "execution_count": 7,
   "id": "0be2e359-01e3-442a-97eb-23b18cbc1a48",
   "metadata": {},
   "outputs": [],
   "source": [
    "dataset = pd.read_csv(DataFolder+file, delimiter =\",\", header=None, engine='python',on_bad_lines='skip')\n",
    "\n"
   ]
  },
  {
   "cell_type": "code",
   "execution_count": 8,
   "id": "520994aa-e05e-41a2-969e-85d2228f5bd2",
   "metadata": {},
   "outputs": [],
   "source": [
    "dataset = dataset.rename(columns={0:\"Day\"})\n",
    "dataset = dataset.rename(columns={1:\"Second\"})\n",
    "dataset = dataset.rename(columns={2:\"FracSec\"})\n",
    "dataset = dataset.rename(columns={3:\"p\"})\n",
    "dataset = dataset.rename(columns={4:\"h\"})\n",
    "dataset = dataset.rename(columns={5:\"v\"})\n",
    "dataset = dataset.rename(columns={6:\"Sensor\"})\n",
    "\n",
    "#dataset['Second'].replace('',0)\n",
    "#dataset['FracSec'].replace('',0)\n",
    "#dataset.replace([np.nan, np.inf, -np.inf],0,inplace=True)\n",
    "\n",
    "#dataset[['Day','Second']] = dataset[['Day','Second']].apply(lambda x: x.astype(int).astype(str).str.zfill(6))\n",
    "#dataset[['FracSec']] = dataset[['FracSec']].apply(lambda x: x.astype(int).astype(str).str.zfill(4))\n",
    "\n",
    "#dataset[\"timestamp\"] = pd.to_datetime(dataset.Day+dataset.Second+dataset.FracSec,format='%y%m%d%H%M%S%f')\n",
    "#dataset[\"timestamps\"] = dataset[\"timestamp\"]"
   ]
  },
  {
   "cell_type": "code",
   "execution_count": 9,
   "id": "9863cb43-4a00-4de2-b6fd-00883331862c",
   "metadata": {},
   "outputs": [
    {
     "data": {
      "text/html": [
       "<div>\n",
       "<style scoped>\n",
       "    .dataframe tbody tr th:only-of-type {\n",
       "        vertical-align: middle;\n",
       "    }\n",
       "\n",
       "    .dataframe tbody tr th {\n",
       "        vertical-align: top;\n",
       "    }\n",
       "\n",
       "    .dataframe thead th {\n",
       "        text-align: right;\n",
       "    }\n",
       "</style>\n",
       "<table border=\"1\" class=\"dataframe\">\n",
       "  <thead>\n",
       "    <tr style=\"text-align: right;\">\n",
       "      <th></th>\n",
       "      <th>Day</th>\n",
       "      <th>Second</th>\n",
       "      <th>FracSec</th>\n",
       "      <th>p</th>\n",
       "      <th>h</th>\n",
       "      <th>v</th>\n",
       "      <th>Sensor</th>\n",
       "    </tr>\n",
       "  </thead>\n",
       "  <tbody>\n",
       "    <tr>\n",
       "      <th>0</th>\n",
       "      <td>230424</td>\n",
       "      <td>134612</td>\n",
       "      <td>4418</td>\n",
       "      <td>-0.04630</td>\n",
       "      <td>-0.01281</td>\n",
       "      <td>0.00207</td>\n",
       "      <td>3</td>\n",
       "    </tr>\n",
       "    <tr>\n",
       "      <th>1</th>\n",
       "      <td>230424</td>\n",
       "      <td>134612</td>\n",
       "      <td>4449</td>\n",
       "      <td>-0.04630</td>\n",
       "      <td>-0.01281</td>\n",
       "      <td>-0.96471</td>\n",
       "      <td>3</td>\n",
       "    </tr>\n",
       "    <tr>\n",
       "      <th>2</th>\n",
       "      <td>230424</td>\n",
       "      <td>134612</td>\n",
       "      <td>4481</td>\n",
       "      <td>0.00300</td>\n",
       "      <td>-0.01794</td>\n",
       "      <td>-0.93908</td>\n",
       "      <td>3</td>\n",
       "    </tr>\n",
       "    <tr>\n",
       "      <th>3</th>\n",
       "      <td>230424</td>\n",
       "      <td>134612</td>\n",
       "      <td>4513</td>\n",
       "      <td>-0.01164</td>\n",
       "      <td>-0.02233</td>\n",
       "      <td>-0.93639</td>\n",
       "      <td>3</td>\n",
       "    </tr>\n",
       "    <tr>\n",
       "      <th>4</th>\n",
       "      <td>230424</td>\n",
       "      <td>134612</td>\n",
       "      <td>4544</td>\n",
       "      <td>-0.02604</td>\n",
       "      <td>-0.04381</td>\n",
       "      <td>-0.95324</td>\n",
       "      <td>3</td>\n",
       "    </tr>\n",
       "    <tr>\n",
       "      <th>...</th>\n",
       "      <td>...</td>\n",
       "      <td>...</td>\n",
       "      <td>...</td>\n",
       "      <td>...</td>\n",
       "      <td>...</td>\n",
       "      <td>...</td>\n",
       "      <td>...</td>\n",
       "    </tr>\n",
       "    <tr>\n",
       "      <th>5419642</th>\n",
       "      <td>230424</td>\n",
       "      <td>235959</td>\n",
       "      <td>9768</td>\n",
       "      <td>-0.07438</td>\n",
       "      <td>-0.02819</td>\n",
       "      <td>-0.97448</td>\n",
       "      <td>3</td>\n",
       "    </tr>\n",
       "    <tr>\n",
       "      <th>5419643</th>\n",
       "      <td>230424</td>\n",
       "      <td>235959</td>\n",
       "      <td>9833</td>\n",
       "      <td>0.01155</td>\n",
       "      <td>-0.00207</td>\n",
       "      <td>-0.97790</td>\n",
       "      <td>3</td>\n",
       "    </tr>\n",
       "    <tr>\n",
       "      <th>5419644</th>\n",
       "      <td>230424</td>\n",
       "      <td>235959</td>\n",
       "      <td>9894</td>\n",
       "      <td>-0.07389</td>\n",
       "      <td>-0.02819</td>\n",
       "      <td>-0.97228</td>\n",
       "      <td>3</td>\n",
       "    </tr>\n",
       "    <tr>\n",
       "      <th>5419645</th>\n",
       "      <td>230424</td>\n",
       "      <td>235959</td>\n",
       "      <td>9959</td>\n",
       "      <td>-0.05119</td>\n",
       "      <td>-0.01940</td>\n",
       "      <td>-0.95861</td>\n",
       "      <td>3</td>\n",
       "    </tr>\n",
       "    <tr>\n",
       "      <th>5419646</th>\n",
       "      <td>230425</td>\n",
       "      <td>0</td>\n",
       "      <td>24</td>\n",
       "      <td>0.01106</td>\n",
       "      <td>-0.00573</td>\n",
       "      <td>-0.98327</td>\n",
       "      <td>3</td>\n",
       "    </tr>\n",
       "  </tbody>\n",
       "</table>\n",
       "<p>5419647 rows × 7 columns</p>\n",
       "</div>"
      ],
      "text/plain": [
       "            Day  Second  FracSec        p        h        v  Sensor\n",
       "0        230424  134612     4418 -0.04630 -0.01281  0.00207       3\n",
       "1        230424  134612     4449 -0.04630 -0.01281 -0.96471       3\n",
       "2        230424  134612     4481  0.00300 -0.01794 -0.93908       3\n",
       "3        230424  134612     4513 -0.01164 -0.02233 -0.93639       3\n",
       "4        230424  134612     4544 -0.02604 -0.04381 -0.95324       3\n",
       "...         ...     ...      ...      ...      ...      ...     ...\n",
       "5419642  230424  235959     9768 -0.07438 -0.02819 -0.97448       3\n",
       "5419643  230424  235959     9833  0.01155 -0.00207 -0.97790       3\n",
       "5419644  230424  235959     9894 -0.07389 -0.02819 -0.97228       3\n",
       "5419645  230424  235959     9959 -0.05119 -0.01940 -0.95861       3\n",
       "5419646  230425       0       24  0.01106 -0.00573 -0.98327       3\n",
       "\n",
       "[5419647 rows x 7 columns]"
      ]
     },
     "execution_count": 9,
     "metadata": {},
     "output_type": "execute_result"
    }
   ],
   "source": [
    "dataset"
   ]
  },
  {
   "cell_type": "code",
   "execution_count": 11,
   "id": "793ea528-daac-47a9-a531-472b2728b962",
   "metadata": {},
   "outputs": [
    {
     "data": {
      "text/plain": [
       "Day        230424.00000\n",
       "Second     162504.00000\n",
       "FracSec      1480.00000\n",
       "p              -0.11442\n",
       "h              -0.04381\n",
       "v              -0.90930\n",
       "Sensor          3.00000\n",
       "Name: 1245425, dtype: float64"
      ]
     },
     "execution_count": 11,
     "metadata": {},
     "output_type": "execute_result"
    }
   ],
   "source": [
    "dataset.iloc[1245425]"
   ]
  },
  {
   "cell_type": "code",
   "execution_count": 12,
   "id": "303e8532-28fd-42e9-b2aa-04518d622a55",
   "metadata": {},
   "outputs": [
    {
     "data": {
      "text/plain": [
       "Day        230424.00000\n",
       "Second     223441.00000\n",
       "FracSec      3608.00000\n",
       "p               0.00422\n",
       "h              -0.00451\n",
       "v              -0.98473\n",
       "Sensor          3.00000\n",
       "Name: 4636884, dtype: float64"
      ]
     },
     "execution_count": 12,
     "metadata": {},
     "output_type": "execute_result"
    }
   ],
   "source": [
    "dataset.iloc[4636884]"
   ]
  },
  {
   "cell_type": "code",
   "execution_count": 14,
   "id": "aab6763a-4af8-4ed1-b596-b61491e52c7c",
   "metadata": {},
   "outputs": [
    {
     "data": {
      "text/plain": [
       "16.926944444444445"
      ]
     },
     "execution_count": 14,
     "metadata": {},
     "output_type": "execute_result"
    }
   ],
   "source": [
    "(dataset.iloc[4636884]['Second']-dataset.iloc[1245425]['Second'])/3600"
   ]
  },
  {
   "cell_type": "code",
   "execution_count": 26,
   "id": "45176a85-bee8-4344-977f-093100be74fd",
   "metadata": {},
   "outputs": [
    {
     "name": "stdout",
     "output_type": "stream",
     "text": [
      "15 23\n"
     ]
    }
   ],
   "source": [
    "i = 857312\n",
    "print(str(dataset.iloc[i]['Second'])[:2],str(dataset.iloc[i]['Second'])[3:5])"
   ]
  },
  {
   "cell_type": "code",
   "execution_count": 27,
   "id": "31020f2d-58ac-4a63-b1db-ed33f6efff8a",
   "metadata": {},
   "outputs": [
    {
     "name": "stdout",
     "output_type": "stream",
     "text": [
      "16 50\n"
     ]
    }
   ],
   "source": [
    "i = 1245425\n",
    "print(str(dataset.iloc[i]['Second'])[:2],str(dataset.iloc[i]['Second'])[3:5])"
   ]
  },
  {
   "cell_type": "code",
   "execution_count": 28,
   "id": "23fc0f1e-1e17-42e1-803d-372d91225a46",
   "metadata": {},
   "outputs": [
    {
     "name": "stdout",
     "output_type": "stream",
     "text": [
      "22 44\n"
     ]
    }
   ],
   "source": [
    "i = 4636884\n",
    "print(str(dataset.iloc[i]['Second'])[:2],str(dataset.iloc[i]['Second'])[3:5])"
   ]
  },
  {
   "cell_type": "code",
   "execution_count": 19,
   "id": "a5ede015-c001-48de-a39c-dfee7debc081",
   "metadata": {},
   "outputs": [
    {
     "name": "stdout",
     "output_type": "stream",
     "text": [
      "42.84166666666667 50.500000000000114\n",
      "45.14 0.0\n",
      "62.066944444444445 0.0\n"
     ]
    }
   ],
   "source": [
    "i = (dataset.iloc[857312]['Second']/3600 - int(dataset.iloc[857312]['Second']/3600))*60\n",
    "print(dataset.iloc[857312]['Second']/3600, i)\n",
    "i = (dataset.iloc[1245425]['Second']/3600 - int(dataset.iloc[1245425]['Second'])/3600)*60\n",
    "print(dataset.iloc[1245425]['Second']/3600,i)\n",
    "i = (dataset.iloc[4636884]['Second']/3600 - int(dataset.iloc[4636884]['Second'])/3600)*60\n",
    "print(dataset.iloc[4636884]['Second']/3600,i)"
   ]
  },
  {
   "cell_type": "code",
   "execution_count": 17,
   "id": "e5d502db-538f-46a1-936d-0abc397de263",
   "metadata": {},
   "outputs": [],
   "source": [
    "dataset[\"p\"] = dataset.p - np.average(dataset.p)\n",
    "dataset[\"h\"] = dataset.h - np.average(dataset.h)\n",
    "dataset[\"v\"] = dataset.v - np.average(dataset.v)\n",
    "#dataset[\"r\"] = np.sqrt(dataset.p**2 + dataset.h**2 + dataset.v**2)\n",
    "\n",
    "#dataset.index = dataset.timestamp"
   ]
  },
  {
   "cell_type": "code",
   "execution_count": 20,
   "id": "f2cdf852-96e7-4a04-98f3-3e24abb3a8cf",
   "metadata": {},
   "outputs": [
    {
     "name": "stdout",
     "output_type": "stream",
     "text": [
      "Data Cleaned 8.13189172744751 19255598\n"
     ]
    }
   ],
   "source": [
    "dataset[\"SmoothP\"] = denoise_wavelet(dataset.p, method='VisuShrink', mode='soft', wavelet_levels=3, wavelet='sym2', rescale_sigma='True')\n",
    "dataset[\"SmoothH\"] = denoise_wavelet(dataset.h, method='VisuShrink', mode='soft', wavelet_levels=3, wavelet='sym2', rescale_sigma='True')\n",
    "dataset[\"SmoothV\"] = denoise_wavelet(dataset.v, method='VisuShrink', mode='soft', wavelet_levels=3, wavelet='sym2', rescale_sigma='True')\n",
    "#dataset[\"SmoothR\"] = denoise_wavelet(dataset.r, method='VisuShrink', mode='soft', wavelet_levels=3, wavelet='sym2', rescale_sigma='True')\n",
    "\n",
    "print(\"Data Cleaned\", ti()-start, len(dataset.p))"
   ]
  },
  {
   "cell_type": "code",
   "execution_count": 21,
   "id": "f173b32b-54bb-4d7e-8b34-351795f297ff",
   "metadata": {},
   "outputs": [
    {
     "name": "stdout",
     "output_type": "stream",
     "text": [
      "Size StdDevsZ 65.26871347427368 (19255598,)\n"
     ]
    }
   ],
   "source": [
    "RawData = dataset.v\n",
    "SmoothData = dataset.SmoothV\n",
    "RollSize = 25\n",
    "\n",
    "Diffs = RawData - SmoothData\n",
    "\n",
    "Sqs = Diffs * Diffs\n",
    "\n",
    "Sqs = Sqs.tolist() \n",
    "\n",
    "Sqs.extend(np.zeros(RollSize))\n",
    "\n",
    "mSqs = np.matrix(Sqs)\n",
    "\n",
    "for i in range(RollSize):\n",
    "    Sqs.insert(0, Sqs.pop())\n",
    "    mSqs = np.concatenate((np.matrix(Sqs),mSqs))\n",
    "\n",
    "sVect = mSqs.sum(axis=0)\n",
    "eVect = (mSqs!=0).sum(axis=0)\n",
    "\n",
    "VarVect = sVect / eVect\n",
    "\n",
    "StdDevs = np.sqrt(VarVect)\n",
    "\n",
    "StdDevsZ = np.asarray(StdDevs)\n",
    "\n",
    "StdDevsZ=np.append(StdDevsZ,[0])\n",
    "\n",
    "StdDevsZ = np.asarray(StdDevsZ.T[:len(dataset.p)])\n",
    "\n",
    "print(\"Size StdDevsZ\", ti()-start, np.shape(StdDevsZ))"
   ]
  },
  {
   "cell_type": "code",
   "execution_count": 27,
   "id": "5b91b68a-80ca-43e4-a8a5-71c7d45c7b63",
   "metadata": {},
   "outputs": [
    {
     "data": {
      "image/png": "[encoded data removed]",
      "text/plain": [
       "<Figure size 640x480 with 1 Axes>"
      ]
     },
     "metadata": {},
     "output_type": "display_data"
    }
   ],
   "source": [
    "fig=plt.figure()\n",
    "plt.plot(StdDevsZ)\n",
    "plt.show()"
   ]
  },
  {
   "cell_type": "code",
   "execution_count": 22,
   "id": "da4648cb-9efa-4370-a0d5-7be5ffe33847",
   "metadata": {},
   "outputs": [
    {
     "name": "stdout",
     "output_type": "stream",
     "text": [
      "denoise 1 467.4059443473816 (19255598,)\n"
     ]
    }
   ],
   "source": [
    "StdDevsZ = np.nan_to_num(StdDevsZ)\n",
    "\n",
    "StdDevsZ[StdDevsZ == np.inf] = 0\n",
    "StdDevsZ[StdDevsZ == -np.inf] = 0\n",
    "\n",
    "SmoothDevZ = denoise_wavelet(StdDevsZ, method='VisuShrink', mode='soft', wavelet='sym2', rescale_sigma='True')\n",
    "\n",
    "print(\"denoise 1\", ti()-start, np.shape(StdDevsZ))"
   ]
  },
  {
   "cell_type": "code",
   "execution_count": 26,
   "id": "6ce679c3-20d9-4977-9041-d7641f1952fa",
   "metadata": {},
   "outputs": [
    {
     "data": {
      "image/png": "[encoded data removed]",
      "text/plain": [
       "<Figure size 640x480 with 1 Axes>"
      ]
     },
     "metadata": {},
     "output_type": "display_data"
    }
   ],
   "source": [
    "fig=plt.figure()\n",
    "plt.plot(SmoothDevZ)\n",
    "plt.show()"
   ]
  },
  {
   "cell_type": "code",
   "execution_count": 29,
   "id": "09716e37-65e4-4cf9-9803-7259a0bdd350",
   "metadata": {},
   "outputs": [
    {
     "data": {
      "image/png": "[encoded data removed]",
      "text/plain": [
       "<Figure size 640x480 with 1 Axes>"
      ]
     },
     "metadata": {},
     "output_type": "display_data"
    }
   ],
   "source": [
    "plt.hist(SmoothDevZ, bins=20)\n",
    "plt.xlabel(\"Values\")\n",
    "plt.ylabel(\"Count\")\n",
    "plt.show()"
   ]
  },
  {
   "cell_type": "code",
   "execution_count": 28,
   "id": "33ee620f-e7de-4773-bac3-05b5c9a0b441",
   "metadata": {},
   "outputs": [
    {
     "name": "stdout",
     "output_type": "stream",
     "text": [
      "SmoothDevz size (19255598,) 0.005\n"
     ]
    }
   ],
   "source": [
    "SmoothDevZ[np.isnan(SmoothDevZ)]=0\n",
    "\n",
    "Max = np.max(SmoothDevZ)\n",
    "\n",
    "buckets = int(Max / 0.005) + 1\n",
    "bins = np.linspace(0,buckets*0.005,buckets+1)\n",
    "counts, bins = np.histogram(SmoothDevZ,bins=bins)\n",
    "\n",
    "CummCount = 0\n",
    "HalfWay = 0\n",
    "for i in range(len(counts)):\n",
    "    CummCount += counts[i]\n",
    "    if CummCount / len(SmoothDevZ) >= 0.5:\n",
    "        if HalfWay == 0:\n",
    "            HalfWay = i\n",
    "\n",
    "SquelchLevel = bins[HalfWay] \n",
    "\n",
    "print(\"SmoothDevz size\", np.shape(SmoothDevZ),SquelchLevel)"
   ]
  },
  {
   "cell_type": "code",
   "execution_count": 31,
   "id": "37faad79-9a05-402d-b0d7-56e5ab5d874c",
   "metadata": {},
   "outputs": [
    {
     "name": "stdout",
     "output_type": "stream",
     "text": [
      "Squelch Made 837.8748118877411\n"
     ]
    }
   ],
   "source": [
    "dataset[\"IsMoving\"] = SquelchPattern(SmoothDevZ, 2000, 0.02, False)\n",
    "\n",
    "print(\"Squelch Made\", ti()-start)"
   ]
  },
  {
   "cell_type": "code",
   "execution_count": 32,
   "id": "aad47ff3-d4ab-4d0e-bd2e-f9316891dbe5",
   "metadata": {},
   "outputs": [],
   "source": [
    "velocity = getVelocity(dataset.p, dataset.FracSec, dataset.IsMoving, 2)"
   ]
  },
  {
   "cell_type": "code",
   "execution_count": 33,
   "id": "7468f751-8dfd-4361-b3df-6a7f03e6365c",
   "metadata": {},
   "outputs": [
    {
     "data": {
      "image/png": "[encoded data removed]",
      "text/plain": [
       "<Figure size 640x480 with 1 Axes>"
      ]
     },
     "metadata": {},
     "output_type": "display_data"
    }
   ],
   "source": [
    "fig=plt.figure()\n",
    "plt.plot(velocity)\n",
    "plt.show()"
   ]
  },
  {
   "cell_type": "code",
   "execution_count": null,
   "id": "373d37e9-075c-461c-ad47-3f2bc7a93883",
   "metadata": {},
   "outputs": [],
   "source": [
    "fig=plt.figure()\n",
    "plt.plot(dataset.IsMoving)\n",
    "plt.show()"
   ]
  },
  {
   "cell_type": "code",
   "execution_count": 34,
   "id": "ec4a79d0-dc0c-4a2f-8baf-9869709ae9f6",
   "metadata": {},
   "outputs": [],
   "source": [
    "df_pr = split_list_by_ones(dataset.p, dataset.IsMoving)\n",
    "df_hr = split_list_by_ones(dataset.h, dataset.IsMoving)\n",
    "df_vr = split_list_by_ones(dataset.v, dataset.IsMoving)"
   ]
  },
  {
   "cell_type": "code",
   "execution_count": 35,
   "id": "ca74a22d-3f43-4cdf-b22b-4c196067a849",
   "metadata": {},
   "outputs": [],
   "source": [
    "df_ps = split_list_by_zeros(dataset.SmoothP, dataset.IsMoving)\n",
    "df_hs = split_list_by_zeros(dataset.SmoothH, dataset.IsMoving)\n",
    "df_vs = split_list_by_zeros(dataset.SmoothV, dataset.IsMoving)"
   ]
  },
  {
   "cell_type": "code",
   "execution_count": 39,
   "id": "6f2f6cf2-fdf7-4b1e-9153-037fef8b9738",
   "metadata": {},
   "outputs": [
    {
     "ename": "TypeError",
     "evalue": "object of type 'NoneType' has no len()",
     "output_type": "error",
     "traceback": [
      "\u001b[0;31m---------------------------------------------------------------------------\u001b[0m",
      "\u001b[0;31mTypeError\u001b[0m                                 Traceback (most recent call last)",
      "Cell \u001b[0;32mIn[39], line 6\u001b[0m\n\u001b[1;32m      4\u001b[0m     tempH\u001b[38;5;241m=\u001b[39mcreate_sequences(df_hr[i])\n\u001b[1;32m      5\u001b[0m     tempV\u001b[38;5;241m=\u001b[39mcreate_sequences(df_vr[i])\n\u001b[0;32m----> 6\u001b[0m     \u001b[38;5;28;01mfor\u001b[39;00m j \u001b[38;5;129;01min\u001b[39;00m \u001b[38;5;28mrange\u001b[39m(\u001b[38;5;28;43mlen\u001b[39;49m\u001b[43m(\u001b[49m\u001b[43mtempP\u001b[49m\u001b[43m)\u001b[49m):\n\u001b[1;32m      7\u001b[0m         SmoothMove\u001b[38;5;241m.\u001b[39mappend(np\u001b[38;5;241m.\u001b[39mvstack((tempP[i],tempH[i],tempV[i]))) \u001b[38;5;66;03m#,df_rs[i])))\u001b[39;00m\n\u001b[1;32m      9\u001b[0m SmoothStop \u001b[38;5;241m=\u001b[39m []\n",
      "\u001b[0;31mTypeError\u001b[0m: object of type 'NoneType' has no len()"
     ]
    }
   ],
   "source": [
    "SmoothMove = []\n",
    "for i in range(len(df_pr)):\n",
    "    tempP=create_sequences(df_pr[i])\n",
    "    tempH=create_sequences(df_hr[i])\n",
    "    tempV=create_sequences(df_vr[i])\n",
    "    for j in range(len(tempP)):\n",
    "        SmoothMove.append(np.vstack((tempP[i],tempH[i],tempV[i]))) #,df_rs[i])))\n",
    "\n",
    "SmoothStop = []\n",
    "for i in range(len(df_ps)):\n",
    "    tempP=create_sequences(df_ps[i])\n",
    "    tempH=create_sequences(df_hs[i])\n",
    "    tempV=create_sequences(df_vs[i])\n",
    "    for j in range(len(tempP)):\n",
    "        SmoothStop.append(np.vstack((tempP[i],tempH[i],tempV[i]))) #,df_rs[i])))\n"
   ]
  },
  {
   "cell_type": "code",
   "execution_count": null,
   "id": "3a7980e8-56c3-450d-a611-51dd93c77b48",
   "metadata": {},
   "outputs": [],
   "source": [
    "len(SmoothMove)"
   ]
  },
  {
   "cell_type": "code",
   "execution_count": null,
   "id": "ab1448f5-0a1e-4700-a05f-140944291e09",
   "metadata": {},
   "outputs": [],
   "source": [
    "len(SmoothStop)"
   ]
  }
 ],
 "metadata": {
  "kernelspec": {
   "display_name": "Python 3 (ipykernel)",
   "language": "python",
   "name": "python3"
  },
  "language_info": {
   "codemirror_mode": {
    "name": "ipython",
    "version": 3
   },
   "file_extension": ".py",
   "mimetype": "text/x-python",
   "name": "python",
   "nbconvert_exporter": "python",
   "pygments_lexer": "ipython3",
   "version": "3.12.4"
  }
 },
 "nbformat": 4,
 "nbformat_minor": 5
}
