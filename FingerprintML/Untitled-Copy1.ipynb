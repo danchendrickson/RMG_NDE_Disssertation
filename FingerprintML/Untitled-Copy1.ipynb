{
 "cells": [
  {
   "cell_type": "code",
   "execution_count": 3,
   "id": "1de1449d-67a0-4885-a426-e72b409e93dc",
   "metadata": {},
   "outputs": [],
   "source": [
    "import GPUtil"
   ]
  },
  {
   "cell_type": "code",
   "execution_count": 4,
   "id": "99a278e7-4cb9-4828-9641-01c8035a2ce5",
   "metadata": {},
   "outputs": [
    {
     "name": "stdout",
     "output_type": "stream",
     "text": [
      "| ID | GPU | MEM |\n",
      "------------------\n",
      "|  0 |  0% |  0% |\n",
      "|  1 |  0% |  0% |\n"
     ]
    }
   ],
   "source": [
    "GPUtil.showUtilization()"
   ]
  },
  {
   "cell_type": "code",
   "execution_count": null,
   "id": "872fcda1-36d7-4465-b8fa-b9f6d7dba4e2",
   "metadata": {},
   "outputs": [],
   "source": []
  },
  {
   "cell_type": "code",
   "execution_count": 1,
   "id": "b53a470d-fed6-42d7-9845-ff7caed628e1",
   "metadata": {},
   "outputs": [
    {
     "name": "stderr",
     "output_type": "stream",
     "text": [
      "2024-10-07 09:14:20.809862: E external/local_xla/xla/stream_executor/cuda/cuda_fft.cc:485] Unable to register cuFFT factory: Attempting to register factory for plugin cuFFT when one has already been registered\n",
      "2024-10-07 09:14:21.160493: E external/local_xla/xla/stream_executor/cuda/cuda_dnn.cc:8454] Unable to register cuDNN factory: Attempting to register factory for plugin cuDNN when one has already been registered\n",
      "2024-10-07 09:14:21.261244: E external/local_xla/xla/stream_executor/cuda/cuda_blas.cc:1452] Unable to register cuBLAS factory: Attempting to register factory for plugin cuBLAS when one has already been registered\n",
      "2024-10-07 09:14:22.097228: I tensorflow/core/platform/cpu_feature_guard.cc:210] This TensorFlow binary is optimized to use available CPU instructions in performance-critical operations.\n",
      "To enable the following instructions: AVX2 FMA, in other operations, rebuild TensorFlow with the appropriate compiler flags.\n"
     ]
    }
   ],
   "source": [
    "import keras"
   ]
  },
  {
   "cell_type": "code",
   "execution_count": 3,
   "id": "cda9df9a-889c-47ba-9293-5135db089439",
   "metadata": {},
   "outputs": [],
   "source": [
    "file = '230425 recording1.csv'\n",
    "DataFolder = '/scratch/Recordings2/'\n",
    "ofile = '230425 recording1b.csv'\n"
   ]
  },
  {
   "cell_type": "code",
   "execution_count": 4,
   "id": "07f9b5fc-81ca-428e-8b13-cf9ae8562d58",
   "metadata": {},
   "outputs": [
    {
     "name": "stdout",
     "output_type": "stream",
     "text": [
      "Skipping line due to wrong number of columns: ['230425', ' 045941', ' 0988', ' -']\n",
      "   230425   000000   0212   -0.00584   0.00071   -0.96707   1\n",
      "0  230425        0    260    0.02174  -0.01344   -0.97513   1\n",
      "1  230425        0    306    0.01929  -0.01003   -1.02884   1\n",
      "2  230425        0    353    0.02393  -0.02052   -1.04715   1\n",
      "3  230425        0    400    0.00391   0.01121   -0.98465   1\n",
      "4  230425        0    448    0.01197   0.02756   -0.98538   1\n"
     ]
    }
   ],
   "source": [
    "import csv\n",
    "import pandas as pd\n",
    "\n",
    "input_file = DataFolder+file\n",
    "output_file = DataFolder+ofile\n",
    "expected_columns = 7  # Set this to the expected number of columns in your CSV\n",
    "\n",
    "with open(input_file, 'r', newline='', encoding='utf-8') as infile, \\\n",
    "     open(output_file, 'w', newline='', encoding='utf-8') as outfile:\n",
    "    reader = csv.reader(infile)\n",
    "    writer = csv.writer(outfile)\n",
    "    \n",
    "    for row in reader:\n",
    "        if len(row) == expected_columns:\n",
    "            writer.writerow(row)\n",
    "        else:\n",
    "            print(f\"Skipping line due to wrong number of columns: {row}\")\n",
    "\n",
    "# Load the cleaned CSV with pandas\n",
    "df = pd.read_csv(output_file)\n",
    "print(df.head())\n"
   ]
  },
  {
   "cell_type": "code",
   "execution_count": 4,
   "id": "be8b8119-8d4d-4303-b0a9-91c7879d2ab8",
   "metadata": {},
   "outputs": [
    {
     "name": "stdout",
     "output_type": "stream",
     "text": [
      "Processing file: 230723 recording1.csv\n",
      "Processing file: 230724 recording1.csv\n",
      "Processing file: 230725 recording1.csv\n",
      "Processing file: 230726 recording1.csv\n",
      "Processing file: 230726 recording3.csv\n",
      "Processing file: 230731 recording3.csv\n",
      "Processing file: 230731 recording1.csv\n",
      "Processing file: 230731 recording2.csv\n",
      "Processing file: 230727 recording1.csv\n",
      "Processing file: 230801 recording2.csv\n",
      "Processing file: 231004 recording2b.csv\n",
      "Processing file: 230926 recording2.csv\n",
      "Processing file: 230927 recording2.csv\n",
      "Processing file: 230929 recording2.csv\n",
      "Processing file: 231001 recording2.csv\n",
      "Processing file: 231002 recording2.csv\n",
      "Processing file: 230424 recording1a.csv\n",
      "All files processed.\n"
     ]
    }
   ],
   "source": [
    "import csv\n",
    "import pandas as pd\n",
    "import os\n",
    "DataFolder = '/scratch/Recordings2/'\n",
    "bad_files_list = 'BadInputs.text'\n",
    "expected_columns = 7  # Set this to the expected number of columns in your CSV\n",
    "\n",
    "# Function to clean a single CSV file\n",
    "def clean_csv_file(input_file, folder):\n",
    "    temp_file = 'temp_file.csv'\n",
    "    \n",
    "    with open(folder+input_file, 'r', newline='') as infile, \\\n",
    "         open(folder+temp_file, 'w', newline='', encoding='utf-8') as outfile:\n",
    "        reader = csv.reader(infile)\n",
    "        writer = csv.writer(outfile)\n",
    "        \n",
    "        for row in reader:\n",
    "            if len(row) == expected_columns:\n",
    "                writer.writerow(row)\n",
    "            else:\n",
    "                #print(f\"Skipping line in {input_file} due to wrong number of columns: {row}\")\n",
    "                pass\n",
    "                \n",
    "    # Replace the original file with the cleaned file\n",
    "    os.replace(folder+temp_file, folder+input_file)\n",
    "\n",
    "# Read the list of bad files and clean each one\n",
    "with open(bad_files_list, 'r', encoding='utf-8') as file_list:\n",
    "    for filename in file_list:\n",
    "        filename = filename.strip()  # Remove any leading/trailing whitespace\n",
    "        if filename:\n",
    "            print(f\"Processing file: {filename}\")\n",
    "            clean_csv_file(filename, DataFolder)\n",
    "\n",
    "print(\"All files processed.\")\n"
   ]
  },
  {
   "cell_type": "code",
   "execution_count": null,
   "id": "229ceb08-a69c-4220-ad3e-5820534ac1f0",
   "metadata": {},
   "outputs": [],
   "source": [
    "#230213 recording2a.csv"
   ]
  },
  {
   "cell_type": "code",
   "execution_count": null,
   "id": "214c0d21-c211-425c-8303-0040270b0942",
   "metadata": {},
   "outputs": [],
   "source": []
  },
  {
   "cell_type": "code",
   "execution_count": 6,
   "id": "0e51a6e9-a373-414b-96ba-aeccc23ff534",
   "metadata": {},
   "outputs": [
    {
     "name": "stdout",
     "output_type": "stream",
     "text": [
      "119\n",
      "117 3883 261084 121574.69230769231\n",
      "14224239\n",
      "[209834, 183784, 200087, 19415, 177181, 187610, 172812, 56460, 182439, 172639, 183530, 193146, 197576, 144695, 156388, 191835, 197036, 116176, 152445, 198383, 177255, 193944, 193255, 126685, 183061, 159942, 205666, 126869, 184891, 221743, 189053, 182186, 191373, 185302, 155713, 179434, 185087, 197615, 203939, 237115, 221676, 207059, 199511, 177248, 179771, 219403, 172974, 188651, 174980, 204014, 196360, 210756, 160185, 199782, 197772, 160287, 176620, 226527, 177457, 27059, 59035, 56763, 44321, 52804, 43495, 39263, 261084, 36186, 252269, 25883, 31594, 54007, 26281, 35896, 54419, 37499, 71255, 22888, 32511, 29553, 39043, 51483, 33427, 20541, 41484, 38362, 3883, 11953, 36895, 28295, 54693, 54361, 39888, 15795, 13499, 45496, 19944, 41684, 49585, 28705, 27449, 40610, 47492, 22735, 49617, 38579, 51542, 28569, 39563, 214364, 214364, 57353, 52677, 174402, 170617, 198744, 207849]\n"
     ]
    }
   ],
   "source": [
    "import os\n",
    "import re\n",
    "import numpy as np\n",
    "\n",
    "# Directory containing your files\n",
    "directory = '/scratch/Recordings2/MLPickles/'\n",
    "\n",
    "# Regex pattern to match filenames and extract the second number\n",
    "#r'3DFP_(\\d{4})_(\\d{3})-autoencoder\\.keras'\n",
    "pattern = re.compile(r'.*?_(\\d{4})_(\\d{6})\\.p')\n",
    "\n",
    "second_numbers = []\n",
    "\n",
    "files = os.listdir(directory)\n",
    "print(len(files))\n",
    "\n",
    "# Loop through all files in the directory\n",
    "for filename in files:\n",
    "    match = pattern.match(filename)\n",
    "    if match:\n",
    "        # Extract the second number\n",
    "        second_number = int(match.group(2))\n",
    "        second_numbers.append(second_number)\n",
    "\n",
    "print(len(second_numbers),np.min(second_numbers),np.max(second_numbers),np.average(second_numbers))\n",
    "print(sum(second_numbers))\n",
    "print(second_numbers)"
   ]
  },
  {
   "cell_type": "code",
   "execution_count": null,
   "id": "3c238611-3011-4272-8406-7751dc8d8575",
   "metadata": {},
   "outputs": [],
   "source": []
  },
  {
   "cell_type": "code",
   "execution_count": 15,
   "id": "062c675c-10ab-442b-83cf-ac7af7098f8b",
   "metadata": {},
   "outputs": [
    {
     "name": "stdout",
     "output_type": "stream",
     "text": [
      "1.0152994256286547\n"
     ]
    }
   ],
   "source": [
    "import os\n",
    "import re\n",
    "\n",
    "# Directory containing your files\n",
    "directory = '/scratch/Recordings2/'\n",
    "\n",
    "# Regex pattern to match filenames and extract the second number\n",
    "file_sizes = []\n",
    "\n",
    "# Loop through all files in the directory\n",
    "for filename in os.listdir(directory):\n",
    "\n",
    "    # Get the file size\n",
    "    file_size = os.path.getsize(os.path.join(directory, filename))\n",
    "    file_sizes.append(file_size)\n",
    "\n",
    "# Print the results\n",
    "print(sum(file_sizes)/ (1024 ** 4))"
   ]
  }
 ],
 "metadata": {
  "kernelspec": {
   "display_name": "Python 3 (ipykernel)",
   "language": "python",
   "name": "python3"
  },
  "language_info": {
   "codemirror_mode": {
    "name": "ipython",
    "version": 3
   },
   "file_extension": ".py",
   "mimetype": "text/x-python",
   "name": "python",
   "nbconvert_exporter": "python",
   "pygments_lexer": "ipython3",
   "version": "3.12.4"
  }
 },
 "nbformat": 4,
 "nbformat_minor": 5
}
