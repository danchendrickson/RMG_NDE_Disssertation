{
 "cells": [
  {
   "cell_type": "code",
   "execution_count": 12,
   "source": [
    "#Standard Header used on the projects\r\n",
    "\r\n",
    "#first the major packages used for math and graphing\r\n",
    "import numpy as np\r\n",
    "import matplotlib.pyplot as plt\r\n",
    "from cycler import cycler\r\n",
    "import scipy.special as sp\r\n",
    "\r\n",
    "#Custome graph format style sheet\r\n",
    "plt.style.use('Prospectus.mplstyle')\r\n",
    "\r\n",
    "#If being run by a seperate file, use the seperate file's graph format and saving paramaeters\r\n",
    "#otherwise set what is needed\r\n",
    "if not 'Saving' in locals():\r\n",
    "    Saving = False\r\n",
    "if not 'Titles' in locals():\r\n",
    "    Titles = True\r\n",
    "if not 'Ledgends' in locals():\r\n",
    "    Ledgends = True\r\n",
    "if not 'FFormat' in locals():\r\n",
    "    FFormat = '.eps'\r\n",
    "if not 'location' in locals():\r\n",
    "    #save location.  First one is for running on home PC, second for running on the work laptop.  May need to make a global change\r\n",
    "    location = 'E:\\\\Documents\\\\Dan\\\\Code\\\\FigsAndPlots\\\\FigsAndPlotsDocument\\\\Figures\\\\'\r\n",
    "    #location = 'C:\\\\Users\\\\dhendrickson\\\\Documents\\\\github\\\\FigsAndPlots\\\\FigsAndPlotsDocument\\\\Figures\\\\'\r\n",
    "\r\n",
    "my_cmap = plt.get_cmap('gray')\r\n",
    "#Standard cycle for collors and line styles\r\n",
    "default_cycler = (cycler('color', ['0.00', '0.40', '0.60', '0.70']) + cycler(linestyle=['-', '--', ':', '-.']))\r\n",
    "plt.rc('axes', prop_cycle=default_cycler)"
   ],
   "outputs": [],
   "metadata": {}
  },
  {
   "cell_type": "markdown",
   "source": [
    "#Project Specific packages:\r\n",
    "import zipfile\r\n",
    "#import DWFT as fp\r\n",
    "import os as os\r\n",
    "# import pywt as py\r\n",
    "import pandas as pd\r\n"
   ],
   "metadata": {}
  },
  {
   "cell_type": "markdown",
   "source": [
    "def PlotFingerPrint(FpScat, xName, title='', FP='mexh'):\r\n",
    "    \r\n",
    "    #FpScat = fp.getLabeledThumbprint(data, FP)\r\n",
    "    FpScat = np.matrix(FpScat)\r\n",
    "    \r\n",
    "    Al,Ms  = np.meshgrid(xName,np.linspace(1,50,50))\r\n",
    "\r\n",
    "    fig1 = plt.figure(figsize=(6.67,3.75))\r\n",
    "    ax1 = plt.axes()\r\n",
    "    cs1 = ax1.contourf(Al,Ms, FpScat,cmap=my_cmap,levels=10)\r\n",
    "\r\n",
    "    if Titles: plt.title(title)\r\n",
    "    if Saving: plt.savefig(location+title.replace(\" \", \"\").replace(\":\", \"\").replace(\",\", \"\").replace(\".txt\",\"\")+FFormat)\r\n",
    "\r\n",
    "    plt.show()"
   ],
   "metadata": {}
  },
  {
   "cell_type": "markdown",
   "source": [
    "Directory = \"E:\\\\Documents\\\\Dan\\\\PhD\\\\Play\\\\ASC\\\\\"\r\n",
    "files = os.listdir(Directory)\r\n",
    "Dots = 1000\r\n",
    "Start = 2615\r\n",
    "\r\n",
    "for Filename in files:\r\n",
    "    print(Filename[-3:])\r\n",
    "    if Filename[-3:] == 'csv':\r\n",
    "        Results = []\r\n",
    "        DataSet = np.genfromtxt(open(Directory+'/'+Filename,'r'), delimiter=',',skip_header=4)\r\n",
    "        #plt.plot(DataSet[:,0],DataSet[:,1], label = 'X')\r\n",
    "        #plt.plot(DataSet[:,0],DataSet[:,2], label = 'Y')\r\n",
    "        for j in range(Dots):\r\n",
    "            i = j + Start\r\n",
    "            Results.append([DataSet[i,1],np.sqrt(DataSet[i,2]**2+DataSet[i,3]**2+DataSet[i,4]**2)])\r\n",
    "        Results = np.matrix(Results)\r\n",
    "        plt.plot(Results[:,0],Results[:,1], label = 'R')\r\n",
    "\r\n",
    "        title = Filename + 'R-'\r\n",
    "        if Ledgends: plt.legend()\r\n",
    "        if Titles: plt.title(title)\r\n",
    "        if Saving: plt.savefig(location+title.replace(\" \", \"\").replace(\":\", \"\").replace(\",\", \"\")+FFormat)\r\n",
    "        plt.show()\r\n",
    "        PlotFingerPrint(np.ravel(Results[:,1]),Results[:,0],title)"
   ],
   "metadata": {}
  },
  {
   "cell_type": "markdown",
   "source": [
    "#DataSet = np.genfromtxt(open(\"E:\\\\Documents\\\\Dan\\\\PhD\\\\Play\\\\ASC\\\\60kPoints-210709-1026.csv\",'r'), delimiter=',',skip_header=4)\r\n",
    "#DataSet = np.genfromtxt(open(\"C:\\\\Users\\\\dhendrickson\\\\Pone Drive\\\\OneDrive - The Port of Virginia\\\\Shared with Everyone\\\\60kAccel-210713-1700.csv\",'r'), delimiter=',',skip_header=4)\r\n",
    "#folder = \"C:\\\\Users\\\\hendrickson\\\\Desktop\\\\temp\\\\\"\r\n",
    "#folder = \"g:\\\\\"\r\n",
    "folder = \"g:\\\\Excel Versions\\\\\"\r\n"
   ],
   "metadata": {}
  },
  {
   "cell_type": "markdown",
   "source": [
    "Results = []\r\n",
    "for i in range(np.shape(DataSet)[0]):\r\n",
    "    c = DataSet[i,1]\r\n",
    "    x = DataSet[i,2]\r\n",
    "    y = DataSet[i,3]\r\n",
    "    z = DataSet[i,4]\r\n",
    "    r = np.sqrt(x**2 + y**2 + z**2)\r\n",
    "    t = np.arccos(z / r)\r\n",
    "    p = np.arctan(y / x)\r\n",
    "    Results.append([c,x,y,z,r,t,p])\r\n",
    "Results = np.matrix(Results)\r\n",
    "\r\n",
    "Names = ['Time',\r\n",
    "         'x',\r\n",
    "         'y',\r\n",
    "         'z',\r\n",
    "         'r',\r\n",
    "         'theta',\r\n",
    "         'phi']\r\n",
    "\r\n",
    "StdDev = [  np.std(Results[:,1]),\r\n",
    "            np.std(Results[:,2]),\r\n",
    "            np.std(Results[:,3]),\r\n",
    "            np.std(Results[:,4]),\r\n",
    "            np.std(Results[:,5]),\r\n",
    "            np.std(Results[:,6])]"
   ],
   "metadata": {}
  },
  {
   "cell_type": "markdown",
   "source": [
    "Results = []\r\n",
    "for i in range(np.shape(DataSet)[0]):\r\n",
    "    c = DataSet[i,1]\r\n",
    "    x = DataSet[i,2]\r\n",
    "    y = DataSet[i,3]\r\n",
    "    z = DataSet[i,4]\r\n",
    "    r = np.sqrt(x**2 + y**2 + z**2)\r\n",
    "    t = np.arccos(z / r)\r\n",
    "    p = np.arctan(y / x)\r\n",
    "    Results.append([c,x,y,z,r,t,p])\r\n",
    "Results = np.matrix(Results)\r\n",
    "\r\n",
    "Names = ['Time',\r\n",
    "         'x',\r\n",
    "         'y',\r\n",
    "         'z',\r\n",
    "         'r',\r\n",
    "         'theta',\r\n",
    "         'phi']\r\n",
    "\r\n",
    "StdDev = [  np.std(Results[:,1]),\r\n",
    "            np.std(Results[:,2]),\r\n",
    "            np.std(Results[:,3]),\r\n",
    "            np.std(Results[:,4]),\r\n",
    "            np.std(Results[:,5]),\r\n",
    "            np.std(Results[:,6])]"
   ],
   "metadata": {}
  },
  {
   "cell_type": "markdown",
   "source": [
    "BlockSize = 500\r\n",
    "\r\n",
    "for i in range(int(np.shape(DataSet)[0]/BlockSize)):\r\n",
    "    Start = i * BlockSize\r\n",
    "    End = Start + BlockSize\r\n",
    "\r\n",
    "    LocalStdDev = [ np.std(Results[Start:End,1]),\r\n",
    "                    np.std(Results[Start:End,2]),\r\n",
    "                    np.std(Results[Start:End,3]),\r\n",
    "                    np.std(Results[Start:End,4]),\r\n",
    "                    np.std(Results[Start:End,5]),\r\n",
    "                    np.std(Results[Start:End,6])]\r\n",
    "    \r\n",
    "    for k in range(6):\r\n",
    "        \r\n",
    "        if np.abs((LocalStdDev[k])/StdDev[k]) > 2:\r\n",
    "            plt.plot(Results[Start:End,0],Results[Start:End,k], label = Names[k])\r\n",
    "\r\n",
    "            title = Names[k] + ' starting at step ' + str(i * BlockSize)\r\n",
    "            if Ledgends: plt.legend()\r\n",
    "            if Titles: plt.title(title)\r\n",
    "            if Saving: plt.savefig(location+title.replace(\" \", \"\").replace(\":\", \"\").replace(\",\", \"\")+FFormat)\r\n",
    "            plt.show()\r\n",
    "            PlotFingerPrint(np.ravel(Results[Start:End,k]),Results[Start:End,0],title)\r\n"
   ],
   "metadata": {}
  },
  {
   "cell_type": "markdown",
   "source": [
    "import random\r\n",
    "import multiprocessing\r\n",
    "from joblib import Parallel, delayed\r\n",
    "import tictoc as tt"
   ],
   "metadata": {}
  },
  {
   "cell_type": "markdown",
   "source": [
    "import pywt\r\n",
    "from pywt._extensions._pywt import (DiscreteContinuousWavelet, ContinuousWavelet,\r\n",
    "                                Wavelet, _check_dtype)\r\n",
    "from pywt._functions import integrate_wavelet, scale2frequency\r\n",
    "from time import time as ti"
   ],
   "metadata": {}
  },
  {
   "cell_type": "markdown",
   "source": [
    "def getThumbprint(data, wvt, ns=50, numslices=5, slicethickness=0.12, \r\n",
    "                  valleysorpeaks='both', normconstant=1, plot=True):\r\n",
    "    '''\r\n",
    "    STarted with Spenser Kirn's code, modifed by DCH\r\n",
    "    Updated version of the DWFT function above that allows plotting of just\r\n",
    "    valleys or just peaks or both. To plot just valleys set valleysorpeaks='valleys'\r\n",
    "    to plot just peaks set valleysorpeaks='peaks' or 'both' to plot both.\r\n",
    "    '''\r\n",
    "    # First take the wavelet transform and then normalize to one\r\n",
    "    cfX, freqs = cwt_fixed(data, np.arange(1,ns+1), wvt)\r\n",
    "    cfX = np.true_divide(cfX, abs(cfX).max()*normconstant)\r\n",
    "    \r\n",
    "    fp = np.zeros((len(data), ns), dtype=int)\r\n",
    "    \r\n",
    "    # Create the list of locations between -1 and 1 to preform slices. Valley\r\n",
    "    # slices will all be below 0 and peak slices will all be above 0.\r\n",
    "    if valleysorpeaks == 'both':\r\n",
    "        slicelocations1 = np.arange(-1 ,0.0/numslices, 1.0/numslices)\r\n",
    "        slicelocations2 = np.arange(1.0/numslices, 1+1.0/numslices, 1.0/numslices)\r\n",
    "        slicelocations = np.array(np.append(slicelocations1,slicelocations2))\r\n",
    "        \r\n",
    "    for loc in slicelocations:\r\n",
    "        for y in range(0, ns):\r\n",
    "            for x in range(0, len(data)):\r\n",
    "                if cfX[y, x]>=(loc-(slicethickness/2)) and cfX[y,x]<= (loc+(slicethickness/2)):\r\n",
    "                    fp[x,y] = 1\r\n",
    "                    \r\n",
    "    fp = np.transpose(fp[:,:ns])"
   ],
   "metadata": {}
  },
  {
   "cell_type": "markdown",
   "source": [
    "def getAcceleration(FileName):\r\n",
    "    try:\r\n",
    "        DataSet = np.genfromtxt(open(folder+FileName,'r'), delimiter=',',skip_header=4)\r\n",
    "        return [[FileName,'x',DataSet[:,2]],[FileName,'y',DataSet[:,3]],[FileName,'z',DataSet[:,4]]]\r\n",
    "    except:\r\n",
    "        return [False,FileName,False]\r\n",
    "\r\n",
    "def makePrints(DataArray):\r\n",
    "    FingerPrint = fp.getLabeledThumbprint(DataArray[2],'gaus2')\r\n",
    "    return [DataArray[0],DataArray[1],FingerPrint]\r\n",
    "\r\n",
    "def getResults(FPnMd):\r\n",
    "    Results = []\r\n",
    "    Ridges = fp.RidgeCount(FPnMd[2][:,500:59500])\r\n",
    "    return [FPnMd[0],FPnMd[1],Ridges]\r\n",
    "\r\n",
    "def CountAboveThreshold(Ridges, Threshold = 10):\r\n",
    "    Cnum = np.count_nonzero(Ridges[2] >= Threshold)\r\n",
    "    return [Ridges[0],Ridges[1],Cnum]\r\n"
   ],
   "metadata": {}
  },
  {
   "cell_type": "markdown",
   "source": [
    "num_cores = multiprocessing.cpu_count()\r\n",
    "files = os.listdir(folder)\r\n",
    "files = random.sample(files,350)\r\n",
    "\r\n",
    "if __name__ == \"__main__\":\r\n",
    "    tt.tic()\r\n",
    "    AllAccels = Parallel(n_jobs=num_cores)(delayed(getAcceleration)(file) for file in files)\r\n",
    "    print('open files', tt.toc())\r\n",
    "    Flattened = []\r\n",
    "    for i in range(np.shape(AllAccels)[0]):\r\n",
    "        if AllAccels[i][0] == False:\r\n",
    "            print(i,AllAccels[i][1])\r\n",
    "        else: \r\n",
    "            for j in range(3):\r\n",
    "                Flattened.append(AllAccels[i][j])\r\n",
    "    print('sort',tt.toc())\r\n",
    "    AllFingers =  Parallel(n_jobs=num_cores)(delayed(makePrints)(datas) for datas in Flattened)\r\n",
    "    print('Fingerprints',tt.toc())\r\n",
    "    AllRidges = Parallel(n_jobs=num_cores)(delayed(getResults)(datas) for datas in AllFingers)\r\n",
    "    print('ridge counts',tt.toc())\r\n",
    "    Events = Parallel(n_jobs=num_cores)(delayed(CountAboveThreshold)(datas) for datas in AllRidges)\r\n",
    "    print('events',tt.toc())\r\n"
   ],
   "metadata": {}
  },
  {
   "cell_type": "markdown",
   "source": [
    "Events = np.matrix(Events)\r\n",
    "\r\n",
    "df = pd.DataFrame(data=Events)\r\n",
    "df.to_csv('G:\\\\Random Check.csv', sep=',', index = False, header=False,quotechar='\"')"
   ],
   "metadata": {}
  }
 ],
 "metadata": {
  "interpreter": {
   "hash": "b3ba2566441a7c06988d0923437866b63cedc61552a5af99d1f4fb67d367b25f"
  },
  "kernelspec": {
   "name": "python3",
   "display_name": "Python 3.8.10 64-bit ('base': conda)"
  },
  "language_info": {
   "codemirror_mode": {
    "name": "ipython",
    "version": 3
   },
   "file_extension": ".py",
   "mimetype": "text/x-python",
   "name": "python",
   "nbconvert_exporter": "python",
   "pygments_lexer": "ipython3",
   "version": "3.8.10"
  },
  "orig_nbformat": 4
 },
 "nbformat": 4,
 "nbformat_minor": 2
}