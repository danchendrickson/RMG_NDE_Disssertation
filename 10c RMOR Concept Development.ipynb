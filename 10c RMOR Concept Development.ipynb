{
 "cells": [
  {
   "cell_type": "markdown",
   "metadata": {},
   "source": [
    "# Look at accelerometer data \n",
    "\n",
    "Finding Zero velocity times by rail axis acceleration noise levels, making summary statistics for the noise levels across the whole day files.  Spot check graphs to see what works"
   ]
  },
  {
   "cell_type": "code",
   "execution_count": 1,
   "metadata": {},
   "outputs": [],
   "source": [
    "#Standard Header used on the projects\n",
    "\n",
    "#first the major packages used for math and graphing\n",
    "import numpy as np\n",
    "import matplotlib.pyplot as plt\n",
    "from cycler import cycler\n",
    "import scipy.special as sp\n",
    "\n",
    "#Custome graph format style sheet\n",
    "#plt.style.use('Prospectus.mplstyle')\n",
    "\n",
    "#If being run by a seperate file, use the seperate file's graph format and saving paramaeters\n",
    "#otherwise set what is needed\n",
    "if not 'Saving' in locals():\n",
    "    Saving = False\n",
    "if not 'Titles' in locals():\n",
    "    Titles = True\n",
    "if not 'Ledgends' in locals():\n",
    "    Ledgends = True\n",
    "if not 'FFormat' in locals():\n",
    "    FFormat = '.png'\n",
    "\n",
    "#Standard cycle to make black and white images and dashed and line styles\n",
    "default_cycler = (cycler('color', ['0.00', '0.40', '0.60', '0.70']) + cycler(linestyle=['-', '--', ':', '-.']))\n",
    "plt.rc('axes', prop_cycle=default_cycler)\n",
    "my_cmap = plt.get_cmap('gray')"
   ]
  },
  {
   "cell_type": "code",
   "execution_count": 2,
   "metadata": {},
   "outputs": [],
   "source": [
    "#Extra Headers:\n",
    "import os as os\n",
    "import pywt as py\n",
    "import statistics as st\n",
    "import os as os\n",
    "import random\n",
    "import multiprocessing\n",
    "from joblib import Parallel, delayed\n",
    "import platform\n",
    "\n",
    "from time import time as ti"
   ]
  },
  {
   "cell_type": "code",
   "execution_count": 3,
   "metadata": {},
   "outputs": [],
   "source": [
    "import CoreFunctions as cf\n",
    "from skimage.restoration import denoise_wavelet"
   ]
  },
  {
   "cell_type": "markdown",
   "metadata": {},
   "source": [
    "## Choosing Platform\n",
    "Working is beinging conducted on several computers, and author needs to be able to run code on all without rewriting..  This segment of determines which computer is being used, and sets the directories accordingly."
   ]
  },
  {
   "cell_type": "code",
   "execution_count": 4,
   "metadata": {},
   "outputs": [],
   "source": [
    "HostName = platform.node()\n",
    "\n",
    "if HostName == \"Server\":\n",
    "    Computer = \"Desktop\"   \n",
    "elif HostName[-6:] == 'wm.edu':\n",
    "    Computer = \"SciClone\"\n",
    "elif HostName == \"SchoolLaptop\":\n",
    "    Computer = \"LinLap\"\n",
    "elif HostName == \"WTC-TAB-512\":\n",
    "    Computer = \"PortLap\"\n",
    "else:\n",
    "    Computer = \"WinLap\""
   ]
  },
  {
   "cell_type": "code",
   "execution_count": 5,
   "metadata": {},
   "outputs": [],
   "source": [
    "if Computer == \"SciClone\":\n",
    "    location = '/sciclone/home20/dchendrickson01/image/'\n",
    "elif Computer == \"WinLap\":\n",
    "    location = 'C:\\\\Data\\\\'\n",
    "elif Computer == \"Desktop\":\n",
    "    location = \"E:\\\\Backups\\\\Dan\\\\CraneData\\\\\"\n",
    "elif Computer == \"LinLap\":\n",
    "    location = '/home/dan/Output/'\n",
    "elif Computer == 'PortLap':\n",
    "    location = 'C:\\\\users\\\\dhendrickson\\\\Desktop\\\\AccelData\\\\'"
   ]
  },
  {
   "cell_type": "code",
   "execution_count": 6,
   "metadata": {},
   "outputs": [],
   "source": [
    "if Computer ==  \"SciClone\":\n",
    "    rootfolder = '/sciclone/home20/dchendrickson01/'\n",
    "    folder = '/sciclone/scr10/dchendrickson01/Recordings2/'\n",
    "elif Computer == \"Desktop\":\n",
    "    rootfolder = location\n",
    "    folder = rootfolder + \"Recordings2\\\\SubSet\\\\\"\n",
    "elif Computer ==\"WinLap\":\n",
    "    rootfolder = location\n",
    "    folder = rootfolder + \"Recordings2\\\\\"   \n",
    "elif Computer == \"LinLap\":\n",
    "    rootfolder = '/home/dan/Data/'\n",
    "    folder = rootfolder + 'Recordings2/'\n",
    "elif Computer =='PortLap':\n",
    "    rootfolder = location \n",
    "    folder = rootfolder + 'Recordings2\\\\'"
   ]
  },
  {
   "cell_type": "code",
   "execution_count": 7,
   "metadata": {},
   "outputs": [],
   "source": [
    "files = []\n",
    "files.append('220919 recording3.csv')\n",
    "files.append('230131 recording4.csv')\n",
    "files.append('230419 recording2.csv')"
   ]
  },
  {
   "cell_type": "code",
   "execution_count": 8,
   "metadata": {},
   "outputs": [],
   "source": [
    "Saving = False\n",
    "location = folder\n",
    "Titles = True\n",
    "Ledgends = True\n",
    "\n",
    "f = 0\n",
    "gdpi=2400\n"
   ]
  },
  {
   "cell_type": "code",
   "execution_count": 9,
   "metadata": {},
   "outputs": [],
   "source": [
    "def RollingStdDev(RawData, SmoothData, RollSize = 25):\n",
    "    StdDevs = []\n",
    "    for i in range(RollSize):\n",
    "        Diffs = RawData[0:i+1]-SmoothData[0:i+1]\n",
    "        Sqs = Diffs * Diffs\n",
    "        Var = sum(Sqs) / (i+1)\n",
    "        StdDev = np.sqrt(Var)\n",
    "        StdDevs.append(StdDev)\n",
    "    for i in range(len(RawData)-RollSize-1):\n",
    "        j = i + RollSize\n",
    "        Diffs = RawData[i:j]-SmoothData[i:j]\n",
    "        Sqs = Diffs * Diffs\n",
    "        Var = sum(Sqs) / RollSize\n",
    "        StdDev = np.sqrt(Var)\n",
    "        StdDevs.append(StdDev)  \n",
    "    \n",
    "    return StdDevs\n",
    "\n",
    "def RollingSum(Data, Length = 100):\n",
    "    RollSumStdDev = []\n",
    "    for i in range(Length):\n",
    "        RollSumStdDev.append(sum(Data[0:i+1]))\n",
    "    for i in range(len(Data) - Length):\n",
    "        RollSumStdDev.append(sum(Data[i:i+Length]))\n",
    "    return RollSumStdDev\n",
    "\n",
    "def SquelchPattern(DataSet, StallRange = 5000, SquelchLevel = 0.0086):\n",
    "    SquelchSignal = []\n",
    "\n",
    "    for i in range(StallRange):\n",
    "        SquelchSignal.append(1)\n",
    "\n",
    "    for i in range(len(DataSet)-2*StallRange):\n",
    "        if np.average(DataSet[i:i+2*StallRange]) < SquelchLevel:\n",
    "            SquelchSignal.append(0)\n",
    "        else:\n",
    "            SquelchSignal.append(1)\n",
    "\n",
    "    for i in range(StallRange+1):\n",
    "        SquelchSignal.append(1)    \n",
    "    \n",
    "    return SquelchSignal\n",
    "\n",
    "def getVelocity(Acceleration, Timestamps = 0.003, Squelch = [], corrected = 0):\n",
    "    velocity = np.zeros(len(Acceleration))\n",
    "    \n",
    "    if len(Timestamps) == 1:\n",
    "        dTime = Timestamps[0]\n",
    "    elif len(Timestamps) == len(Acceleration):\n",
    "        totTime = 0\n",
    "        for i in range(len(Timestamps)-1):\n",
    "            if Timestamps[i]<Timestamps[i+1]:\n",
    "                totTime += (Timestamps[i+1] - Timestamps[i])\n",
    "            else:\n",
    "                totTime += (Timestamps[i+1] - Timestamps[i] + 10000)\n",
    "        dTime = totTime / len(Timestamps)\n",
    "    else:\n",
    "        print('error')\n",
    "\n",
    "    dTime = dTime / 10000.0\n",
    "\n",
    "    velocity[0] = Acceleration[0] * (dTime)\n",
    "\n",
    "    for i in range(len(Acceleration)-1):\n",
    "        j = i + 1\n",
    "        if corrected ==2:\n",
    "            if Squelch[j]==0:\n",
    "                velocity[j]=0\n",
    "            else:\n",
    "                velocity[j] = velocity[i] + Acceleration[j] * dTime                \n",
    "        else:\n",
    "            velocity[j] = velocity[i] + Acceleration[j] * dTime\n",
    "\n",
    "    if corrected == 1:\n",
    "        PointVairance = velocity[-1:] / len(velocity)\n",
    "        for i in range(len(velocity)):\n",
    "            velocity[i] -=  PointVairance * i\n",
    "    \n",
    "    velocity *= 9.81\n",
    "\n",
    "    return velocity\n",
    "\n"
   ]
  },
  {
   "cell_type": "code",
   "execution_count": 10,
   "metadata": {},
   "outputs": [],
   "source": [
    "#Smooth = cf.Smoothing(ODataSet[:,3],2) #,50)\n",
    "def DeviationVelocity(file):\n",
    "    if file[-3:] =='csv':\n",
    "        #try: \n",
    "        ODataSet = np.genfromtxt(open(folder+file,'r'), delimiter=',',skip_header=0,missing_values=0,invalid_raise=False)\n",
    "        SmoothX = denoise_wavelet(ODataSet[:,3], method='VisuShrink', mode='soft', wavelet_levels=3, wavelet='sym2', rescale_sigma='True')\n",
    "        SmoothY = denoise_wavelet(ODataSet[:,4], method='VisuShrink', mode='soft', wavelet_levels=3, wavelet='sym2', rescale_sigma='True')\n",
    "        SmoothZ = denoise_wavelet(ODataSet[:,5], method='VisuShrink', mode='soft', wavelet_levels=3, wavelet='sym2', rescale_sigma='True')\n",
    "        StdDevsX = RollingStdDev(ODataSet[:,3],SmoothX)\n",
    "        StdDevsY = RollingStdDev(ODataSet[:,4],SmoothY)\n",
    "        StdDevsZ = RollingStdDev(ODataSet[:,5],SmoothZ)\n",
    "        StdDevsX.append(0)\n",
    "        StdDevsY.append(0)\n",
    "        StdDevsZ.append(0)\n",
    "        StdDevsX = np.asarray(StdDevsX)\n",
    "        StdDevsY = np.asarray(StdDevsY)\n",
    "        StdDevsZ = np.asarray(StdDevsZ)\n",
    "        SmoothDevX = denoise_wavelet(StdDevsX, method='VisuShrink', mode='soft', wavelet_levels=3, wavelet='sym2', rescale_sigma='True')\n",
    "        SmoothDevY = denoise_wavelet(StdDevsY, method='VisuShrink', mode='soft', wavelet_levels=3, wavelet='sym2', rescale_sigma='True')\n",
    "        SmoothDevZ = denoise_wavelet(StdDevsZ, method='VisuShrink', mode='soft', wavelet_levels=3, wavelet='sym2', rescale_sigma='True')\n",
    "        #RollSumStdDevX = RollingSum(SmoothDevX)\n",
    "        #RollSumStdDevX = np.asarray(RollSumStdDevX)\n",
    "        #RollSumStdDevY = RollingSum(SmoothDevY)\n",
    "        #RollSumStdDevY = np.asarray(RollSumStdDevY)\n",
    "        #RollSumStdDevZ = RollingSum(SmoothDevZ)\n",
    "        #RollSumStdDevZ = np.asarray(RollSumStdDevZ)\n",
    "        Max = np.max(SmoothDevX)\n",
    "        buckets = int(Max / 0.01) + 1\n",
    "        bins = np.linspace(0,buckets*0.01,buckets+1)\n",
    "        counts, bins = np.histogram(SmoothDevX,bins=bins)\n",
    "        SquelchLevel = bins[np.argmax(counts)] + 0.015\n",
    "        SquelchSignal = SquelchPattern(SmoothDevX, 5000, SquelchLevel)\n",
    "        SmoothX -= np.average(SmoothX)\n",
    "        Velocity = getVelocity(SmoothX, ODataSet[:,2],SquelchSignal, 2)\n",
    "        Velocity = np.asarray(Velocity)\n",
    "\n",
    "        '''except:\n",
    "            Velocity = file\n",
    "            StdDevsX = 0\n",
    "            SmoothDevX = 0\n",
    "            StdDevsY = 0\n",
    "            SmoothDevY = 0\n",
    "            StdDevsZ = 0\n",
    "            SmoothDevZ = 0\n",
    "            SquelchSignal=0\n",
    "            SmoothX=0\n",
    "            ODataSet=np.zeros((5,5))\n",
    "            print(file)\n",
    "        '''\n",
    "        return [Velocity, [SmoothDevX, SmoothDevY, SmoothDevZ], [StdDevsX,StdDevsY,StdDevsZ], SquelchSignal,SmoothX,ODataSet[:,3],ODataSet[:,1]]\n",
    "    else:\n",
    "        pass"
   ]
  },
  {
   "cell_type": "code",
   "execution_count": 11,
   "metadata": {},
   "outputs": [],
   "source": [
    "def getSecondsFromString(Value):\n",
    "    Hour = int(Value[0:2])\n",
    "    Minute = int(Value[2:4])\n",
    "    Seconds = int(Value[4:6])\n",
    "    \n",
    "    Total = (Hour * 3600) + (Minute * 60) + Seconds\n",
    "\n",
    "    return Total"
   ]
  },
  {
   "cell_type": "code",
   "execution_count": 12,
   "metadata": {},
   "outputs": [],
   "source": [
    "def getFixedTime(file):\n",
    "    ODataSet = np.genfromtxt(open(file,'r'), delimiter=',',skip_header=0,missing_values=0,invalid_raise=False)\n",
    "    \n",
    "    Timings = []\n",
    "    lastmicrosecond = 0\n",
    "    CurrentSecond = 0\n",
    "    \n",
    "    for row in ODataSet:\n",
    "        if row[2] < lastmicrosecond:\n",
    "            CurrentSecond+=1\n",
    "        lastmicrosecond = row[2]\n",
    "        \n",
    "        Hour = int(CurrentSecond / 3600)\n",
    "        Minute = int((CurrentSecond - (Hour * 3600)) / 60)\n",
    "        Second = CurrentSecond - (Hour * 3600) - (Minute * 60)\n",
    "        \n",
    "        Timings.append(str(Hour).zfill(2)+str(Minute).zfill(2) + str(Second).zfill(2))\n",
    "        \n",
    "    return Timings"
   ]
  },
  {
   "cell_type": "code",
   "execution_count": 13,
   "metadata": {},
   "outputs": [],
   "source": [
    "#files = fi2"
   ]
  },
  {
   "cell_type": "code",
   "execution_count": 14,
   "metadata": {},
   "outputs": [],
   "source": [
    "LoopFiles = 12\n",
    "loops = int(len(files) / LoopFiles) +1\n",
    "bump = 0"
   ]
  },
  {
   "cell_type": "code",
   "execution_count": null,
   "metadata": {},
   "outputs": [],
   "source": [
    "for j in range(loops-bump):\n",
    "    k = j + bump\n",
    "    if k == loops -1:\n",
    "        tfiles = files[k*LoopFiles:]\n",
    "    else:\n",
    "        tfiles = files[k*LoopFiles:(k+1)*LoopFiles]\n",
    "    Results = []\n",
    "    #for file in files:\n",
    "    #    result = DeviationVelocity(file)\n",
    "    #    Results.append(result)\n",
    "    Parallel(n_jobs=LoopFiles)(delayed(DeviationVelocity)(file) for file in tfiles)\n",
    "    Velocities = []\n",
    "    StdDevsX = []\n",
    "    SumStdDevsX = []\n",
    "    StdDevsY = []\n",
    "    SumStdDevsY = []\n",
    "    StdDevsZ = []\n",
    "    SumStdDevsZ = []\n",
    "    NewFiles=[]\n",
    "    SquelchSignals=[]\n",
    "    SmSignals=[]\n",
    "    RwSignals=[]\n",
    "    Timings=[]\n",
    "\n",
    "    for i in range(len(Results)):\n",
    "        if Results[i] != None:\n",
    "            Velocities.append(Results[i][0])\n",
    "            StdDevsX.append(Results[i][1][0])\n",
    "            SumStdDevsX.append(Results[i][2][0])\n",
    "            StdDevsY.append(Results[i][1][1])\n",
    "            SumStdDevsY.append(Results[i][2][1])\n",
    "            StdDevsZ.append(Results[i][1][2])\n",
    "            SumStdDevsZ.append(Results[i][2][2])\n",
    "            SquelchSignals.append(Results[i][3])\n",
    "            SmSignals.append(Results[i][4])\n",
    "            RwSignals.append(Results[i][5])\n",
    "            Timings.append(Results[i][6])\n",
    "            NewFiles.append(tfiles[i])\n",
    "            "
   ]
  },
  {
   "cell_type": "code",
   "execution_count": null,
   "metadata": {},
   "outputs": [],
   "source": [
    "f=1"
   ]
  },
  {
   "cell_type": "code",
   "execution_count": null,
   "metadata": {},
   "outputs": [],
   "source": [
    "try:\n",
    "    Seconds = getSecondsFromString(str(Timings[f][-3])) - getSecondsFromString(str(Timings[f][1]))\n",
    "except:\n",
    "    CheckT = getFixedTime(folder+NewFiles[f])\n",
    "    Timings[f] = CheckT\n",
    "    Seconds = getSecondsFromString(str(Timings[f][-3])) - getSecondsFromString(str(Timings[f][1]))"
   ]
  },
  {
   "cell_type": "code",
   "execution_count": null,
   "metadata": {},
   "outputs": [],
   "source": [
    "Seconds = getSecondsFromString(str(Timings[f][-3])) - getSecondsFromString(str(Timings[f][1]))\n",
    "TotalTime = np.linspace(0,Seconds/3600, np.shape(Timings[f])[0])"
   ]
  },
  {
   "cell_type": "code",
   "execution_count": null,
   "metadata": {},
   "outputs": [],
   "source": [
    "Vs = getVelocity(SmSignals[f],[33],[],0)"
   ]
  },
  {
   "cell_type": "code",
   "execution_count": null,
   "metadata": {},
   "outputs": [],
   "source": [
    "fig, ax = plt.subplots(1,1,figsize=(5,3),dpi=gdpi,linewidth=0.0625)\n",
    "ax.plot(TotalTime, Vs )\n",
    "ax.set_xlabel('Hours')\n",
    "ax.set_ylabel('m/s')"
   ]
  },
  {
   "cell_type": "code",
   "execution_count": null,
   "metadata": {},
   "outputs": [],
   "source": [
    "## for f=0\n",
    "#begin=1500000\n",
    "#finish=begin + 100000\n",
    "\n",
    "## for f = 1\n",
    "begin = 4000000\n",
    "finish = begin + 500000\n",
    "\n",
    "start = getSecondsFromString(str(Timings[f][finish])) \n",
    "end = getSecondsFromString(str(Timings[f][begin]))\n",
    "TotalTime = np.linspace(start/60,end/60, finish-begin)"
   ]
  },
  {
   "cell_type": "code",
   "execution_count": null,
   "metadata": {},
   "outputs": [],
   "source": [
    "vs = getVelocity(SmSignals[f][begin:finish],[33],[],1)\n"
   ]
  },
  {
   "cell_type": "code",
   "execution_count": null,
   "metadata": {},
   "outputs": [],
   "source": [
    "fig, ax1 = plt.subplots(figsize=(6.67,3.75),dpi=gdpi,linewidth=0.125) \n",
    "  \n",
    "ax1.set_ylabel('Acceleration (g)', color = 'blue') \n",
    "plt.ylim(-0.4,0.4)\n",
    "ax1.plot(TotalTime, SmSignals[f][begin:finish], color = 'blue') \n",
    "ax1.tick_params(axis ='y', labelcolor = 'blue') \n",
    "ax1.set_xlabel('minutes')\n",
    " \n",
    "# Adding Twin Axes\n",
    "\n",
    "ax2 = ax1.twinx() \n",
    "\n",
    "ax2.set_xlabel('minutes') \n",
    "ax2.set_ylabel('Velocity (m/s)', color = 'red') \n",
    "plt.ylim(-6,6)\n",
    "ax2.plot(TotalTime, Velocities[f][begin:finish], color = 'red', linestyle = 'dashed' )\n",
    "ax2.tick_params(axis ='y', labelcolor = 'red') \n",
    "\n",
    "# Show plot\n",
    "\n",
    "plt.show()"
   ]
  },
  {
   "cell_type": "code",
   "execution_count": null,
   "metadata": {},
   "outputs": [],
   "source": [
    "fig, ax1 = plt.subplots(figsize=(6.67,3.75),dpi=gdpi,linewidth=0.125) \n",
    "  \n",
    "ax1.set_ylabel('Acceleration (g)', color = 'blue') \n",
    "plt.ylim(-0.4,0.4)\n",
    "ax1.plot(TotalTime, SmSignals[f][begin:finish], color = 'blue') \n",
    "ax1.tick_params(axis ='y', labelcolor = 'blue') \n",
    "ax1.set_xlabel('minutes')\n",
    " \n",
    "# Adding Twin Axes\n",
    "\n",
    "ax2 = ax1.twinx() \n",
    "\n",
    "ax2.set_xlabel('minutes') \n",
    "ax2.set_ylabel('Velocity (m/s)', color = 'red') \n",
    "plt.ylim(-6,6)\n",
    "ax2.plot(TotalTime, vs, color = 'red', linestyle = 'dashed' )\n",
    "ax2.tick_params(axis ='y', labelcolor = 'red') \n",
    "\n",
    "# Show plot\n",
    "\n",
    "plt.show()"
   ]
  },
  {
   "cell_type": "code",
   "execution_count": null,
   "metadata": {},
   "outputs": [],
   "source": [
    "fig, ax1 = plt.subplots(figsize=(6.67,3.75),dpi=gdpi,linewidth=0.125) \n",
    "\n",
    "\n",
    "ax1.set_ylabel('RSD', color = 'blue') \n",
    "ax1.plot(TotalTime, StdDevsX[f][begin:finish], color = 'blue', label='Std Dev of Acceleration') \n",
    "ax1.tick_params(axis ='y', labelcolor = 'blue') \n",
    "#plt.ylim(0.0,0.6)\n",
    "\n",
    "# Adding Twin Axes\n",
    "ax2 = ax1.twinx() \n",
    "\n",
    "ax2.set_xlabel('Time') \n",
    "ax2.set_ylabel('Velocity', color = 'red') \n",
    "ax2.plot(TotalTime, np.abs(vs), color = 'red', linestyle = 'dashed', label='Velocity' )\n",
    "ax2.tick_params(axis ='y', labelcolor = 'red') \n",
    "plt.ylim(-0.2,6)\n",
    "\n",
    "# Show plot\n",
    "\n",
    "plt.show()"
   ]
  },
  {
   "cell_type": "code",
   "execution_count": null,
   "metadata": {},
   "outputs": [],
   "source": [
    "fig, ax1 = plt.subplots(figsize=(6.67,3.75),dpi=gdpi,linewidth=0.125) \n",
    "\n",
    "ax1.set_ylabel('RSD', color = 'blue') \n",
    "ax1.plot(TotalTime, StdDevsX[f][begin:finish], color = 'blue', label='Std Dev of Acceleration') \n",
    "ax1.tick_params(axis ='y', labelcolor = 'blue') \n",
    "\n",
    "# Adding Twin Axes\n",
    "ax2 = ax1.twinx() \n",
    "\n",
    "ax2.set_ylabel('Squelch Signal', color = 'green') \n",
    "ax2.plot(TotalTime, SquelchSignals[f][begin:finish], color = 'green', label='Std Dev of Acceleration') \n",
    "ax2.tick_params(axis ='y', labelcolor = 'green') \n",
    "plt.ylim(-0.1,1.1)\n",
    "\n",
    "# Show plot\n",
    "\n",
    "plt.show()"
   ]
  },
  {
   "cell_type": "code",
   "execution_count": null,
   "metadata": {},
   "outputs": [],
   "source": [
    "fig, ax1 = plt.subplots(figsize=(6.67,3.75),dpi=gdpi,linewidth=0.125) \n",
    "\n",
    "ax1.set_ylabel('Squelch Signal', color = 'green') \n",
    "ax1.plot(TotalTime, SquelchSignals[f][begin:finish], color = 'green', label='Std Dev of Acceleration') \n",
    "ax1.tick_params(axis ='y', labelcolor = 'green') \n",
    "plt.ylim(-0.1,1.1)\n",
    "\n",
    "# Adding Twin Axes\n",
    "ax2 = ax1.twinx() \n",
    "\n",
    "ax2.set_xlabel('Time') \n",
    "ax2.set_ylabel('Velocity', color = 'red') \n",
    "ax2.plot(TotalTime, vs, color = 'red', linestyle = 'dashed', label='Velocity' )\n",
    "ax2.tick_params(axis ='y', labelcolor = 'red') \n",
    "plt.ylim(-6,6)\n",
    "\n",
    "# Show plot\n",
    "\n",
    "plt.show()"
   ]
  },
  {
   "cell_type": "code",
   "execution_count": null,
   "metadata": {},
   "outputs": [],
   "source": [
    "Seconds = getSecondsFromString(str(Timings[f][-3])) - getSecondsFromString(str(Timings[f][1]))\n",
    "TotalTime = np.linspace(0,Seconds/3600, np.shape(Timings[f])[0])"
   ]
  },
  {
   "cell_type": "code",
   "execution_count": null,
   "metadata": {},
   "outputs": [],
   "source": [
    "fig, ax = plt.subplots(1,1,figsize=(5,3),dpi=gdpi,linewidth=0.0625)\n",
    "ax.plot(range(len(Velocities[f])), Velocities[f] )\n",
    "ax.set_xlabel('Hours')\n",
    "ax.set_ylabel('m/s')"
   ]
  },
  {
   "cell_type": "code",
   "execution_count": null,
   "metadata": {},
   "outputs": [],
   "source": []
  },
  {
   "cell_type": "code",
   "execution_count": null,
   "metadata": {},
   "outputs": [],
   "source": [
    "for RSD in StdDevsX:\n",
    "    Max = np.max(RSD)\n",
    "    buckets = int(Max / 0.01) + 1\n",
    "    bins = np.linspace(0,buckets*0.01,buckets+1)\n",
    "    fig,ax = plt.subplots()\n",
    "    ax.hist(RSD,bins=bins)\n",
    "    counts, bins = np.histogram(RSD,bins=bins)\n",
    "    print(counts,bins)\n",
    "    print(bins[np.argmax(counts)])\n",
    "    plt.show()"
   ]
  },
  {
   "cell_type": "code",
   "execution_count": null,
   "metadata": {},
   "outputs": [],
   "source": [
    "for d in StdDevsX:\n",
    "    fig = plt.figure()\n",
    "    plt.plot(d)\n",
    "    plt.show()"
   ]
  }
 ],
 "metadata": {
  "kernelspec": {
   "display_name": "Simple",
   "language": "python",
   "name": "simple"
  },
  "language_info": {
   "codemirror_mode": {
    "name": "ipython",
    "version": 3
   },
   "file_extension": ".py",
   "mimetype": "text/x-python",
   "name": "python",
   "nbconvert_exporter": "python",
   "pygments_lexer": "ipython3",
   "version": "3.10.9"
  }
 },
 "nbformat": 4,
 "nbformat_minor": 4
}
