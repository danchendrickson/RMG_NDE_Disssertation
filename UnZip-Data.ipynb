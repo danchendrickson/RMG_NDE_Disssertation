{
 "cells": [
  {
   "cell_type": "markdown",
   "metadata": {},
   "source": [
    "# Code Unzips the Accelerometer Data and copies to a local folder"
   ]
  },
  {
   "cell_type": "code",
   "execution_count": 3,
   "metadata": {},
   "outputs": [],
   "source": [
    "from zipfile import ZipFile\n",
    "\n",
    "\n",
    "ZipFolder = \"D:\\\\AccelData\\\\\"\n",
    "#ZipFolder = \"C:\\\\Users\\\\dhendrickson\\\\Desktop\\\\New Folder\\\\\"\n",
    "#ZipFolder = \"C:\\\\Users\\\\dhendrickson\\\\Desktop\\\\temp\\\\\"\n",
    "CsvFolder = \"C:\\\\Users\\\\dhendrickson\\\\Desktop\\\\AccelData\\\\\""
   ]
  },
  {
   "cell_type": "code",
   "execution_count": 4,
   "metadata": {},
   "outputs": [
    {
     "name": "stdout",
     "output_type": "stream",
     "text": [
      "60kGyro-211019-1656.zip 0\n"
     ]
    }
   ],
   "source": [
    "files = os.listdir(ZipFolder)\n",
    "i=0\n",
    "for Filename in files:\n",
    "    if Filename[-3:] == 'zip':\n",
    "        try:\n",
    "            with ZipFile(ZipFolder+Filename, 'r') as zipObj:\n",
    "            #zipObj.extract(FileName[:-4]+'.csv')\n",
    "                FileNames = zipObj.namelist()\n",
    "                for CsvFile in FileNames:\n",
    "                    zipObj.extract(CsvFile, CsvFolder)\n",
    "        except:\n",
    "            print(Filename, i)\n",
    "            i+=1\n",
    "    "
   ]
  }
 ],
 "metadata": {
  "interpreter": {
   "hash": "72674e6928aeb149b17451b3afa2eccc8eb91630257127848cb7dabc56ce48f2"
  },
  "kernelspec": {
   "display_name": "Python 3.8.10 64-bit ('base': conda)",
   "name": "python3"
  },
  "language_info": {
   "codemirror_mode": {
    "name": "ipython",
    "version": 3
   },
   "file_extension": ".py",
   "mimetype": "text/x-python",
   "name": "python",
   "nbconvert_exporter": "python",
   "pygments_lexer": "ipython3",
   "version": "3.8.10"
  },
  "orig_nbformat": 4
 },
 "nbformat": 4,
 "nbformat_minor": 2
}
