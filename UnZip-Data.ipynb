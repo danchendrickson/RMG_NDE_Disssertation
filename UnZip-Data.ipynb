{
 "cells": [
  {
   "cell_type": "markdown",
   "metadata": {},
   "source": [
    "# Code Unzips the Accelerometer Data and copies to a local folder"
   ]
  },
  {
   "cell_type": "code",
   "execution_count": 1,
   "metadata": {},
   "outputs": [],
   "source": [
    "from zipfile import ZipFile\n",
    "import os\n",
    "import shutil\n",
    "\n",
    "ZipFolder = \"D:\\\\AccelData\\\\\"\n",
    "ZipFolder = 'C:\\\\Users\\\\danhe\\\\Code\\\\TestData\\\\'\n",
    "#ZipFolder = \"C:\\\\Users\\\\dhendrickson\\\\Desktop\\\\New Folder\\\\\"\n",
    "#ZipFolder = \"C:\\\\Users\\\\dhendrickson\\\\Desktop\\\\temp\\\\\"\n",
    "#CsvFolder = \"C:\\\\Users\\\\dhendrickson\\\\Desktop\\\\AccelData\\\\\"\n",
    "CsvFolder = \"C:\\\\Users\\\\Dan\\\\Desktop\\\\AccelData\\\\\"\n",
    "CsvFolder = 'C:\\\\Users\\\\danhe\\\\Code\\\\TestData\\\\Temp\\\\'"
   ]
  },
  {
   "cell_type": "code",
   "execution_count": 6,
   "metadata": {},
   "outputs": [],
   "source": [
    "files = os.listdir(ZipFolder)\n",
    "i=0\n",
    "for Filename in files:\n",
    "    if Filename[-3:] == 'zip':\n",
    "        try:\n",
    "            with ZipFile(ZipFolder+Filename, 'r') as zipObj:\n",
    "            #zipObj.extract(FileName[:-4]+'.csv')\n",
    "                FileNames = zipObj.namelist()\n",
    "                for CsvFile in FileNames:\n",
    "                    zipObj.extract(CsvFile, CsvFolder)\n",
    "        except:\n",
    "            print(Filename, i)\n",
    "            i+=1\n",
    "    "
   ]
  },
  {
   "cell_type": "code",
   "execution_count": 12,
   "metadata": {},
   "outputs": [
    {
     "name": "stdout",
     "output_type": "stream",
     "text": [
      "60kAccelPoints-211121-1502-s2.csv csv s Acce\n",
      "60kPoints-222222-1234.csv csv 3 Poin\n",
      "desktop.ini ini o ktop\n",
      "Gyro yro  o\n",
      "1 1 0\n"
     ]
    }
   ],
   "source": [
    "Needed = 0\n",
    "#FinalFolder = \"C:\\\\Users\\Dan\\\\Desktop\\\\AccelData\\\\media\\\\pi\\\\1C73-885E\\\\AccelData\\\\\"\n",
    "FinalFolder = \"C:\\\\Users\\\\danhe\\\\OneDrive\\\\Desktop\\\\\"\n",
    "a=0\n",
    "b=0\n",
    "c=0\n",
    "\n",
    "\n",
    "\n",
    "if Needed == 1:\n",
    "    files = os.listdir(FinalFolder)\n",
    "\n",
    "    for Filename in files:\n",
    "        try:\n",
    "            print(Filename, Filename[-3:], Filename[-6:-5], Filename[3:7])\n",
    "            if Filename[3:8] == 'Accel':\n",
    "                newName = FinalFolder+'60kPoints' + str(Filename[8:]) \n",
    "                os.rename(FinalFolder+Filename, newName)\n",
    "                Filename = newName\n",
    "                a+=1\n",
    "            if Filename [-3:] == 'csv' and Filename[-6:-5] != 's':\n",
    "                newName = FinalFolder+Filename[:-4]+ '-s1.csv'\n",
    "                os.rename(FinalFolder+Filename, newName)\n",
    "                b+=1\n",
    "            if Filename[3:7] == 'Gyro':\n",
    "                shutil.move(FinalFolder+Filename, FinalFolder + 'Gyro\\\\'+Filename)\n",
    "                c+=1\n",
    "        except:\n",
    "            print(Filename)\n",
    "\n",
    "print(a,b,c)"
   ]
  },
  {
   "cell_type": "code",
   "execution_count": null,
   "metadata": {},
   "outputs": [],
   "source": [
    "# Check Folder\n",
    "folder = \"D:\\\\CraneData\\\\\"\n",
    "files = os.listdir(folder)\n",
    "i = 0\n",
    "\n",
    "for file in files:\n",
    "    i+=1\n",
    "    temp=truthVector(file)\n",
    "    if i%5000 == 0: print(i)"
   ]
  },
  {
   "cell_type": "code",
   "execution_count": 2,
   "metadata": {},
   "outputs": [],
   "source": [
    "if Needed == 4:\n",
    "    files = os.listdir('D:\\\\CraneData\\\\')\n",
    "\n",
    "    for file in files:\n",
    "        if file[:5]=='Accel':\n",
    "            os.rename('D:\\\\CraneData\\\\'+file,'D:\\\\CraneData\\\\'+'60kPoints'+file[8:])\n",
    "\n"
   ]
  }
 ],
 "metadata": {
  "interpreter": {
   "hash": "72674e6928aeb149b17451b3afa2eccc8eb91630257127848cb7dabc56ce48f2"
  },
  "kernelspec": {
   "display_name": "Python 3.8.10 64-bit ('base': conda)",
   "name": "python3"
  },
  "language_info": {
   "codemirror_mode": {
    "name": "ipython",
    "version": 3
   },
   "file_extension": ".py",
   "mimetype": "text/x-python",
   "name": "python",
   "nbconvert_exporter": "python",
   "pygments_lexer": "ipython3",
   "version": "3.10.4"
  },
  "orig_nbformat": 4
 },
 "nbformat": 4,
 "nbformat_minor": 2
}
