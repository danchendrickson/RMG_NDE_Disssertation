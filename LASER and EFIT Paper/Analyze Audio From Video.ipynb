{
 "cells": [
  {
   "cell_type": "code",
   "execution_count": null,
   "id": "bb97636a",
   "metadata": {},
   "outputs": [],
   "source": [
    "#Standard Header used on the projects\n",
    "\n",
    "#first the major packages used for math and graphing\n",
    "import numpy as np\n",
    "import matplotlib.pyplot as plt\n",
    "from cycler import cycler\n",
    "import scipy.special as sp\n",
    "import pandas as pd\n",
    "\n",
    "#Custome graph format style sheet\n",
    "#plt.style.use('Prospectus.mplstyle')\n",
    "\n",
    "#If being run by a seperate file, use the seperate file's graph format and saving paramaeters\n",
    "#otherwise set what is needed\n",
    "if not 'Saving' in locals():\n",
    "    Saving = False\n",
    "if not 'Titles' in locals():\n",
    "    Titles = True\n",
    "if not 'Ledgends' in locals():\n",
    "    Ledgends = True\n",
    "if not 'FFormat' in locals():\n",
    "    FFormat = '.png'\n",
    "\n",
    "#Standard cycle for collors and line styles\n",
    "default_cycler = (cycler('color', ['0.00', '0.40', '0.60', '0.70']) + cycler(linestyle=['-', '--', ':', '-.']))\n",
    "plt.rc('axes', prop_cycle=default_cycler)"
   ]
  },
  {
   "cell_type": "code",
   "execution_count": null,
   "id": "54532c84",
   "metadata": {},
   "outputs": [],
   "source": [
    "from pydub import AudioSegment\n",
    "from pydub.utils import mediainfo\n"
   ]
  },
  {
   "cell_type": "code",
   "execution_count": 3,
   "id": "5b9062f2",
   "metadata": {},
   "outputs": [],
   "source": [
    "import os"
   ]
  },
  {
   "cell_type": "code",
   "execution_count": 4,
   "id": "9525ab0d",
   "metadata": {},
   "outputs": [],
   "source": [
    "directory = '/media/dan/ShareBetweenOS/'\n",
    "files = os.listdir(directory)"
   ]
  },
  {
   "cell_type": "code",
   "execution_count": null,
   "metadata": {},
   "outputs": [],
   "source": [
    "# Load mp3 file\n",
    "i= 5\n",
    "song  = AudioSegment.from_mp3(directory+files[i])\n",
    "info = mediainfo(directory+files[i])\n",
    "SR = info['sample_rate']\n",
    "SR=int(SR)"
   ]
  },
  {
   "cell_type": "code",
   "execution_count": null,
   "id": "bdbb688e",
   "metadata": {},
   "outputs": [],
   "source": [
    "import librosa\n",
    "\n",
    "# 1. Get the file path to an included audio example\n",
    "filename = directory + files[0]\n",
    "\n",
    "\n",
    "# 2. Load the audio as a waveform `y`\n",
    "#    Store the sampling rate as `sr`\n",
    "y, sr = librosa.load(filename)\n"
   ]
  },
  {
   "cell_type": "code",
   "execution_count": null,
   "id": "94f25482",
   "metadata": {},
   "outputs": [],
   "source": [
    "AudioSegment.ffmpeg = '/sciclone/home/dchendrickson01/.conda/envs/torchmpi/bin/ffmpeg'\n",
    "AudioSegment.ffprobe = '/sciclone/home/dchendrickson01/.conda/envs/torchmpi/bin/ffprobe'"
   ]
  },
  {
   "cell_type": "code",
   "execution_count": null,
   "id": "2ec3c4f4",
   "metadata": {},
   "outputs": [],
   "source": [
    "# Load mp3 file\n",
    "song = AudioSegment.from_mp3(directory+files[0])"
   ]
  },
  {
   "cell_type": "code",
   "execution_count": null,
   "id": "b93def05",
   "metadata": {},
   "outputs": [],
   "source": [
    "# Convert stereo to mono\n",
    "song = song.set_channels(1)\n",
    "\n",
    "fig = plt.figure(figsize=(6,3),dpi=600)\n",
    "# Get the raw data\n",
    "left_data = np.array(song.set_channels(1).get_array_of_samples())\n",
    "right_data = np.array(song.set_channels(2).get_array_of_samples())\n",
    "\n",
    "# Perform FFT\n",
    "yfr = np.fft.rfft(left_data)\n",
    "xfr = np.fft.rfftfreq(len(left_data), 1/SR)\n",
    "yfl = np.fft.rfft(right_data)\n",
    "xfl = np.fft.rfftfreq(len(right_data), 1/SR)\n",
    "\n",
    "plt.plot(xfr, np.abs(yfr))\n",
    "#plt.plot(xfl, np.abs(yfl))\n",
    "plt.title('Frequency Distribution')\n",
    "plt.xlabel('Frequency')\n",
    "plt.show()\n",
    "#right_result = np.fft.rfftfreq(right_data, SR)\n"
   ]
  }
 ],
 "metadata": {
  "kernelspec": {
   "display_name": "Python 3",
   "language": "python",
   "name": "python3"
  },
  "language_info": {
   "codemirror_mode": {
    "name": "ipython",
    "version": 3
   },
   "file_extension": ".py",
   "mimetype": "text/x-python",
   "name": "python",
   "nbconvert_exporter": "python",
   "pygments_lexer": "ipython3",
   "version": "3.10.12"
  }
 },
 "nbformat": 4,
 "nbformat_minor": 5
}
