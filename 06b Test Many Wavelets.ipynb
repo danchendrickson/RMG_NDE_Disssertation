{
 "cells": [
  {
   "cell_type": "code",
   "execution_count": 1,
   "id": "027330c3",
   "metadata": {},
   "outputs": [],
   "source": [
    "#Standard Header used on the projects\n",
    "\n",
    "#first the major packages used for math and graphing\n",
    "import numpy as np\n",
    "import matplotlib.pyplot as plt\n",
    "from cycler import cycler\n",
    "import scipy.special as sp\n",
    "import pandas as pd\n",
    "\n",
    "#Custome graph format style sheet\n",
    "plt.style.use('Prospectus.mplstyle')\n",
    "\n",
    "#If being run by a seperate file, use the seperate file's graph format and saving paramaeters\n",
    "#otherwise set what is needed\n",
    "if not 'Saving' in locals():\n",
    "    Saving = True\n",
    "if not 'Titles' in locals():\n",
    "    Titles = True\n",
    "if not 'Ledgends' in locals():\n",
    "    Ledgends = True\n",
    "if not 'FFormat' in locals():\n",
    "    FFormat = '.png'\n",
    "Computer = \"SciClone\"   # \"SciClone\"    \"WinLap\"  \"LinLap\"   \"Desktop\" \n",
    "\n",
    "#Standard cycle for collors and line styles\n",
    "default_cycler = (cycler('color', ['0.00', '0.40', '0.60', '0.70']) + cycler(linestyle=['-', '--', ':', '-.']))\n",
    "plt.rc('axes', prop_cycle=default_cycler)\n",
    "my_cmap = plt.get_cmap('gray')"
   ]
  },
  {
   "cell_type": "code",
   "execution_count": 2,
   "id": "b1e786aa",
   "metadata": {},
   "outputs": [],
   "source": [
    "import multiprocessing\n",
    "from joblib import Parallel, delayed\n",
    "\n",
    "import pywt\n",
    "from pywt._extensions._pywt import (DiscreteContinuousWavelet, ContinuousWavelet,\n",
    "                                Wavelet, _check_dtype)\n",
    "from pywt._functions import integrate_wavelet, scale2frequency"
   ]
  },
  {
   "cell_type": "code",
   "execution_count": 3,
   "id": "53fcb4e2",
   "metadata": {},
   "outputs": [],
   "source": [
    "if Computer == \"SciClone\":\n",
    "    location = '/sciclone/home20/dchendrickson01/image/wvlts/'\n",
    "elif Computer == \"WinLap\":\n",
    "    location = 'C:\\\\Data\\\\'\n",
    "elif Computer == \"Desktop\":\n",
    "    location = \"E:\\\\Backups\\\\Dan\\\\CraneData\\\\\"\n",
    "elif Computer == \"LinLap\":\n",
    "    location = '/home/dan/Output/'\n",
    "    \n",
    "\n",
    "if Computer ==  \"SciClone\":\n",
    "    rootfolder = '/sciclone/home20/dchendrickson01/'\n",
    "    folder = '/sciclone/data10/dchendrickson01/SmallCopy/'\n",
    "elif Computer == \"Desktop\":\n",
    "    rootfolder = location\n",
    "    folder = rootfolder + \"SmallCopy\\\\\"\n",
    "elif Computer ==\"WinLap\":\n",
    "    rootfolder = location\n",
    "    folder = rootfolder + \"SmallCopy\\\\\"   \n",
    "elif Computer == \"LinLap\":\n",
    "    rootfolder = '/home/dan/Data/'\n",
    "    folder = rootfolder + 'SmallCopy/'\n",
    "    "
   ]
  },
  {
   "cell_type": "code",
   "execution_count": 4,
   "id": "cd81d6d0",
   "metadata": {},
   "outputs": [],
   "source": [
    "#Extra Headers:\n",
    "import os as os\n",
    "import statistics as st\n",
    "import os as os\n",
    "import pandas as pd\n",
    "import random\n",
    "import multiprocessing\n",
    "from joblib import Parallel, delayed\n",
    "import time"
   ]
  },
  {
   "cell_type": "code",
   "execution_count": 5,
   "id": "27e3ccdc",
   "metadata": {},
   "outputs": [],
   "source": [
    "#Columns names for a file with all 6 dimmensions\n",
    "Header = np.array(['t', 's','x','y','z','s'])"
   ]
  },
  {
   "cell_type": "code",
   "execution_count": 6,
   "id": "ca4bdf69",
   "metadata": {},
   "outputs": [],
   "source": [
    "def cwt_fixed(data, scales, wavelet, sampling_period=1.):\n",
    "    \"\"\"\n",
    "    COPIED AND FIXED FROM pywt.cwt TO BE ABLE TO USE WAVELET FAMILIES SUCH\n",
    "    AS COIF AND DB\n",
    "\n",
    "    COPIED From Spenser Kirn\n",
    "    \n",
    "    All wavelet work except bior family, rbio family, haar, and db1.\n",
    "    \n",
    "    cwt(data, scales, wavelet)\n",
    "\n",
    "    One dimensional Continuous Wavelet Transform.\n",
    "\n",
    "    Parameters\n",
    "    ----------\n",
    "    data : array_like\n",
    "        Input signal\n",
    "    scales : array_like\n",
    "        scales to use\n",
    "    wavelet : Wavelet object or name\n",
    "        Wavelet to use\n",
    "    sampling_period : float\n",
    "        Sampling period for frequencies output (optional)\n",
    "\n",
    "    Returns\n",
    "    -------\n",
    "    coefs : array_like\n",
    "        Continous wavelet transform of the input signal for the given scales\n",
    "        and wavelet\n",
    "    frequencies : array_like\n",
    "        if the unit of sampling period are seconds and given, than frequencies\n",
    "        are in hertz. Otherwise Sampling period of 1 is assumed.\n",
    "\n",
    "    Notes\n",
    "    -----\n",
    "    Size of coefficients arrays depends on the length of the input array and\n",
    "    the length of given scales.\n",
    "\n",
    "    Examples\n",
    "    --------\n",
    "    >>> import pywt\n",
    "    >>> import numpy as np\n",
    "    >>> import matplotlib.pyplot as plt\n",
    "    >>> x = np.arange(512)\n",
    "    >>> y = np.sin(2*np.pi*x/32)\n",
    "    >>> coef, freqs=pywt.cwt(y,np.arange(1,129),'gaus1')\n",
    "    >>> plt.matshow(coef) # doctest: +SKIP\n",
    "    >>> plt.show() # doctest: +SKIP\n",
    "    ----------\n",
    "    >>> import pywt\n",
    "    >>> import numpy as np\n",
    "    >>> import matplotlib.pyplot as plt\n",
    "    >>> t = np.linspace(-1, 1, 200, endpoint=False)\n",
    "    >>> sig  = np.cos(2 * np.pi * 7 * t) + np.real(np.exp(-7*(t-0.4)**2)*np.exp(1j*2*np.pi*2*(t-0.4)))\n",
    "    >>> widths = np.arange(1, 31)\n",
    "    >>> cwtmatr, freqs = pywt.cwt(sig, widths, 'mexh')\n",
    "    >>> plt.imshow(cwtmatr, extent=[-1, 1, 1, 31], cmap='PRGn', aspect='auto',\n",
    "    ...            vmax=abs(cwtmatr).max(), vmin=-abs(cwtmatr).max())  # doctest: +SKIP\n",
    "    >>> plt.show() # doctest: +SKIP\n",
    "    \"\"\"\n",
    "\n",
    "    # accept array_like input; make a copy to ensure a contiguous array\n",
    "    dt = _check_dtype(data)\n",
    "    data = np.array(data, dtype=dt)\n",
    "    if not isinstance(wavelet, (ContinuousWavelet, Wavelet)):\n",
    "        wavelet = DiscreteContinuousWavelet(wavelet)\n",
    "    if np.isscalar(scales):\n",
    "        scales = np.array([scales])\n",
    "    if data.ndim == 1:\n",
    "        try:\n",
    "            if wavelet.complex_cwt:\n",
    "                out = np.zeros((np.size(scales), data.size), dtype=complex)\n",
    "            else:\n",
    "                out = np.zeros((np.size(scales), data.size))\n",
    "        except AttributeError:\n",
    "            out = np.zeros((np.size(scales), data.size))\n",
    "        for i in np.arange(np.size(scales)):\n",
    "            precision = 10\n",
    "            int_psi, x = integrate_wavelet(wavelet, precision=precision)\n",
    "            step = x[1] - x[0]\n",
    "            j = np.floor(\n",
    "                np.arange(scales[i] * (x[-1] - x[0]) + 1) / (scales[i] * step))\n",
    "            if np.max(j) >= np.size(int_psi):\n",
    "                j = np.delete(j, np.where((j >= np.size(int_psi)))[0])\n",
    "            coef = - np.sqrt(scales[i]) * np.diff(\n",
    "                np.convolve(data, int_psi[j.astype(int)][::-1]))\n",
    "            d = (coef.size - data.size) / 2.\n",
    "            out[i, :] = coef[int(np.floor(d)):int(-np.ceil(d))]\n",
    "        frequencies = scale2frequency(wavelet, scales, precision)\n",
    "        if np.isscalar(frequencies):\n",
    "            frequencies = np.array([frequencies])\n",
    "        for i in np.arange(len(frequencies)):\n",
    "            frequencies[i] /= sampling_period\n",
    "        return out, frequencies\n",
    "    else:\n",
    "        raise ValueError(\"Only dim == 1 supported\")\n",
    "\n"
   ]
  },
  {
   "cell_type": "code",
   "execution_count": 7,
   "id": "f8f1727e",
   "metadata": {},
   "outputs": [],
   "source": [
    "scales = 2000\n",
    "\n",
    "def getThumbprint(data, wvt='gaus2', ns=scales, numslices=5, slicethickness=0.12, \n",
    "                  valleysorpeaks='both', normconstant=1, plot=True):\n",
    "    '''\n",
    "    STarted with Spenser Kirn's code, modifed by DCH\n",
    "    Updated version of the DWFT function above that allows plotting of just\n",
    "    valleys or just peaks or both. To plot just valleys set valleysorpeaks='valleys'\n",
    "    to plot just peaks set valleysorpeaks='peaks' or 'both' to plot both.\n",
    "    '''\n",
    "    # First take the wavelet transform and then normalize to one\n",
    "    cfX, freqs = cwt_fixed(data, np.arange(1,ns+1), wvt)\n",
    "    cfX = np.true_divide(cfX, abs(cfX).max()*normconstant)\n",
    "    \n",
    "    fp = np.zeros((len(data), ns), dtype=int)\n",
    "    \n",
    "    # Create the list of locations between -1 and 1 to preform slices. Valley\n",
    "    # slices will all be below 0 and peak slices will all be above 0.\n",
    "    if valleysorpeaks == 'both':\n",
    "        slicelocations1 = np.arange(-1 ,0.0/numslices, 1.0/numslices)\n",
    "        slicelocations2 = np.arange(1.0/numslices, 1+1.0/numslices, 1.0/numslices)\n",
    "        slicelocations = np.array(np.append(slicelocations1,slicelocations2))\n",
    "        \n",
    "    for loc in slicelocations:\n",
    "        for y in range(0, ns):\n",
    "            for x in range(0, len(data)):\n",
    "                if cfX[y, x]>=(loc-(slicethickness/2)) and cfX[y,x]<= (loc+(slicethickness/2)):\n",
    "                    fp[x,y] = 1\n",
    "                    \n",
    "    fp = np.transpose(fp[:,:ns])\n",
    "    return fp"
   ]
  },
  {
   "cell_type": "code",
   "execution_count": 8,
   "id": "b349dc89",
   "metadata": {},
   "outputs": [],
   "source": [
    "def PlotFingerPrint(Input):\n",
    "    \n",
    "    #FpScat=fp.getLabeledThumbprint(data, FP,scales,slices)\n",
    "    #print(np.shape(data)[1], scales)\n",
    "    \n",
    "    data = Input[0]\n",
    "    title = Input[1]\n",
    "    \n",
    "    scales = np.shape(data)[0]\n",
    "    trim=0\n",
    "    slices = 3\n",
    "    Show = False\n",
    "    \n",
    "    xName = np.arange(0,np.shape(data)[1]-2*trim,1)\n",
    "    \n",
    "    if trim == 0:\n",
    "        Al,Ms  = np.meshgrid(xName,np.linspace(1,scales,scales))\n",
    "    else:\n",
    "        Al,Ms  = np.meshgrid(xName,np.linspace(1,scales,scales))\n",
    "\n",
    "    \n",
    "\n",
    "    fig1 = plt.figure(figsize=(6.67,3.75),dpi=300)\n",
    "    ax1 = plt.axes()\n",
    "    if trim == 0:\n",
    "        cs1 = ax1.contourf(Al,Ms, data[:,:],levels=3,cmap=my_cmap)\n",
    "    else:\n",
    "        cs1 = ax1.contourf(Al,Ms, data[:,trim:-trim],levels=3,cmap=my_cmap)\n",
    "\n",
    "    if Titles: plt.title(title)\n",
    "    plt.savefig(location+title.replace(\" \", \"\").replace(\":\", \"\").replace(\",\", \"\").replace(\".txt\",\"\")+FFormat)\n",
    "\n",
    "    plt.show()\n",
    "    #plt.close(fig)\n",
    "        \n",
    "    return 1"
   ]
  },
  {
   "cell_type": "code",
   "execution_count": 9,
   "id": "49e5a116",
   "metadata": {},
   "outputs": [],
   "source": [
    "def TestWavelet(inputs):\n",
    "    wvlt = inputs[0]\n",
    "    data = inputs[1]\n",
    "    \n",
    "    scales = 10\n",
    "    slices = 5\n",
    "    try:\n",
    "        temp = getThumbprint(data, wvt=wvlt, ns=scales, numslices=slices)\n",
    "        title = wvlt + ' test'\n",
    "        temp = PlotFingerPrint([temp, title])\n",
    "        return 1\n",
    "    except:\n",
    "        return wvlt"
   ]
  },
  {
   "cell_type": "code",
   "execution_count": 10,
   "id": "1220d610",
   "metadata": {},
   "outputs": [],
   "source": [
    "def getAcceleration(FileName):\n",
    "    \n",
    "        DataSet = np.genfromtxt(open(FileName,'r'), delimiter=',',skip_header=0)\n",
    "        JustFileName = FileName.rsplit('/', 1)[-1]\n",
    "        if FileName[-20:-16] == 'Gyro':\n",
    "            return [False,FileName,False]\n",
    "        else:\n",
    "            if FileName[-6:-5] == 's':\n",
    "                FileDate = FileName[-18:-7]\n",
    "                sensor = FileName[-5:-4]\n",
    "            elif FileName[-21:-16] == 'Accel':\n",
    "                FileDate = FileName[-15:-4]\n",
    "                sensor = 1\n",
    "            else:\n",
    "                FileDate = FileName[-20:-4]\n",
    "                sensor = 1\n",
    "            return [[FileDate, 'x',DataSet[:,2], sensor,JustFileName],[FileDate,'y',DataSet[:,3],sensor,JustFileName],[FileDate,'z',DataSet[:,4],sensor,JustFileName]]\n",
    "    "
   ]
  },
  {
   "cell_type": "code",
   "execution_count": 11,
   "id": "ebe65de5",
   "metadata": {},
   "outputs": [],
   "source": [
    "num_cores = multiprocessing.cpu_count()-1\n",
    "RollingSize = 25"
   ]
  },
  {
   "cell_type": "code",
   "execution_count": 12,
   "id": "1b5dcba9",
   "metadata": {},
   "outputs": [],
   "source": [
    "#Data = getAcceleration(folder+'60kPoints-211227-0431-s3.csv')"
   ]
  },
  {
   "cell_type": "code",
   "execution_count": 14,
   "id": "de591e4c",
   "metadata": {},
   "outputs": [
    {
     "ename": "NameError",
     "evalue": "name 'Data' is not defined",
     "output_type": "error",
     "traceback": [
      "\u001b[0;31m---------------------------------------------------------------------------\u001b[0m",
      "\u001b[0;31mNameError\u001b[0m                                 Traceback (most recent call last)",
      "\u001b[0;32m/local/scr/dchendrickson01/TMPDIR/ipykernel_26314/997233523.py\u001b[0m in \u001b[0;36m<module>\u001b[0;34m\u001b[0m\n\u001b[1;32m      1\u001b[0m \u001b[0mAverage\u001b[0m \u001b[0;34m=\u001b[0m \u001b[0;34m[\u001b[0m\u001b[0;34m]\u001b[0m\u001b[0;34m\u001b[0m\u001b[0;34m\u001b[0m\u001b[0m\n\u001b[0;32m----> 2\u001b[0;31m \u001b[0mAverage\u001b[0m\u001b[0;34m.\u001b[0m\u001b[0mappend\u001b[0m\u001b[0;34m(\u001b[0m\u001b[0mData\u001b[0m\u001b[0;34m[\u001b[0m\u001b[0;36m0\u001b[0m\u001b[0;34m]\u001b[0m\u001b[0;34m[\u001b[0m\u001b[0;36m2\u001b[0m\u001b[0;34m]\u001b[0m\u001b[0;34m[\u001b[0m\u001b[0;36m0\u001b[0m\u001b[0;34m]\u001b[0m\u001b[0;34m)\u001b[0m\u001b[0;34m\u001b[0m\u001b[0;34m\u001b[0m\u001b[0m\n\u001b[0m\u001b[1;32m      3\u001b[0m \u001b[0;32mfor\u001b[0m \u001b[0mi\u001b[0m \u001b[0;32min\u001b[0m \u001b[0mrange\u001b[0m\u001b[0;34m(\u001b[0m\u001b[0mRollingSize\u001b[0m\u001b[0;34m)\u001b[0m\u001b[0;34m:\u001b[0m\u001b[0;34m\u001b[0m\u001b[0;34m\u001b[0m\u001b[0m\n\u001b[1;32m      4\u001b[0m     \u001b[0mAverage\u001b[0m\u001b[0;34m.\u001b[0m\u001b[0mappend\u001b[0m\u001b[0;34m(\u001b[0m\u001b[0mnp\u001b[0m\u001b[0;34m.\u001b[0m\u001b[0maverage\u001b[0m\u001b[0;34m(\u001b[0m\u001b[0mData\u001b[0m\u001b[0;34m[\u001b[0m\u001b[0;36m0\u001b[0m\u001b[0;34m]\u001b[0m\u001b[0;34m[\u001b[0m\u001b[0;36m2\u001b[0m\u001b[0;34m]\u001b[0m\u001b[0;34m[\u001b[0m\u001b[0;36m0\u001b[0m\u001b[0;34m:\u001b[0m\u001b[0mi\u001b[0m\u001b[0;34m+\u001b[0m\u001b[0;36m1\u001b[0m\u001b[0;34m]\u001b[0m\u001b[0;34m)\u001b[0m\u001b[0;34m)\u001b[0m\u001b[0;34m\u001b[0m\u001b[0;34m\u001b[0m\u001b[0m\n\u001b[1;32m      5\u001b[0m \u001b[0;32mfor\u001b[0m \u001b[0mi\u001b[0m \u001b[0;32min\u001b[0m \u001b[0mrange\u001b[0m\u001b[0;34m(\u001b[0m\u001b[0mnp\u001b[0m\u001b[0;34m.\u001b[0m\u001b[0mshape\u001b[0m\u001b[0;34m(\u001b[0m\u001b[0mData\u001b[0m\u001b[0;34m[\u001b[0m\u001b[0;36m0\u001b[0m\u001b[0;34m]\u001b[0m\u001b[0;34m[\u001b[0m\u001b[0;36m2\u001b[0m\u001b[0;34m]\u001b[0m\u001b[0;34m)\u001b[0m\u001b[0;34m[\u001b[0m\u001b[0;36m0\u001b[0m\u001b[0;34m]\u001b[0m\u001b[0;34m-\u001b[0m\u001b[0mRollingSize\u001b[0m\u001b[0;34m-\u001b[0m\u001b[0;36m1\u001b[0m\u001b[0;34m)\u001b[0m\u001b[0;34m:\u001b[0m\u001b[0;34m\u001b[0m\u001b[0;34m\u001b[0m\u001b[0m\n",
      "\u001b[0;31mNameError\u001b[0m: name 'Data' is not defined"
     ]
    }
   ],
   "source": [
    "Average = []\n",
    "Average.append(Data[0][2][0])\n",
    "for i in range(RollingSize):\n",
    "    Average.append(np.average(Data[0][2][0:i+1]))\n",
    "for i in range(np.shape(Data[0][2])[0]-RollingSize-1):\n",
    "    Average.append(np.average(Data[0][2][i*RollingSize:i*RollingSize+RollingSize]))"
   ]
  },
  {
   "cell_type": "code",
   "execution_count": null,
   "id": "514f3fdf",
   "metadata": {},
   "outputs": [],
   "source": [
    "WvltFam = pywt.families()\n",
    "Wvlts = []\n",
    "for Fam in WvltFam:\n",
    "    temp = pywt.wavelist(Fam)\n",
    "    for wvlt in temp:\n",
    "        Wvlts.append(wvlt)\n"
   ]
  },
  {
   "cell_type": "code",
   "execution_count": null,
   "id": "5e7d97c3",
   "metadata": {},
   "outputs": [],
   "source": [
    "result = Parallel(n_jobs=num_cores)(delayed(TestWavelet)([wvlt, Average]) for wvlt in Wvlts)"
   ]
  },
  {
   "cell_type": "code",
   "execution_count": null,
   "id": "a63ceb52",
   "metadata": {},
   "outputs": [],
   "source": [
    "length = np.shape(Average)[0]\n",
    "justifier = np.ones((length, np.shape(Average)[1]))\n",
    "average = np.zeros(length)\n",
    "for i in range(length):\n",
    "    average[i]= np.average(Average[i,:])\n",
    "justifier = justifier.T * average.T\n",
    "Average = Average - justifier.T"
   ]
  },
  {
   "cell_type": "code",
   "execution_count": null,
   "id": "d90bfdae",
   "metadata": {
    "scrolled": true
   },
   "outputs": [],
   "source": [
    "t = TestWavelet(['gaus2',Average])"
   ]
  },
  {
   "cell_type": "code",
   "execution_count": null,
   "id": "7cc605e0",
   "metadata": {},
   "outputs": [],
   "source": [
    "scales = 1000\n",
    "slices = 5\n",
    "wvlt = 'gaus2'\n",
    "\n",
    "temp = getThumbprint(Average, wvt=wvlt, ns=scales, numslices=slices)\n",
    "title = wvlt + ' -test'\n"
   ]
  },
  {
   "cell_type": "code",
   "execution_count": null,
   "id": "0ba9f384",
   "metadata": {},
   "outputs": [],
   "source": [
    "np.max(temp)"
   ]
  },
  {
   "cell_type": "code",
   "execution_count": null,
   "id": "e8c0e26f",
   "metadata": {
    "scrolled": true
   },
   "outputs": [],
   "source": [
    "temp2 = PlotFingerPrint([temp, title])"
   ]
  },
  {
   "cell_type": "code",
   "execution_count": null,
   "id": "56bf509b",
   "metadata": {},
   "outputs": [],
   "source": []
  }
 ],
 "metadata": {
  "kernelspec": {
   "display_name": "testenv2",
   "language": "python",
   "name": "testenv2"
  },
  "language_info": {
   "codemirror_mode": {
    "name": "ipython",
    "version": 3
   },
   "file_extension": ".py",
   "mimetype": "text/x-python",
   "name": "python",
   "nbconvert_exporter": "python",
   "pygments_lexer": "ipython3",
   "version": "3.7.12"
  }
 },
 "nbformat": 4,
 "nbformat_minor": 5
}
