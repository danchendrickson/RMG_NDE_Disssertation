{
 "cells": [
  {
   "cell_type": "code",
   "execution_count": 1,
   "metadata": {},
   "outputs": [],
   "source": [
    "#Standard Header used on the projects\n",
    "\n",
    "#first the major packages used for math and graphing\n",
    "import numpy as np\n",
    "import matplotlib.pyplot as plt\n",
    "import os as os"
   ]
  },
  {
   "cell_type": "code",
   "execution_count": 2,
   "metadata": {},
   "outputs": [],
   "source": [
    "#Extra Headers:\n",
    "import random\n",
    "import multiprocessing\n",
    "from joblib import Parallel, delayed\n",
    "import time\n",
    "import math\n",
    "import platform\n",
    "import CoreFunctions as cf"
   ]
  },
  {
   "cell_type": "code",
   "execution_count": 3,
   "metadata": {},
   "outputs": [],
   "source": [
    "PlotWidthIn = 11\n",
    "PlotHeightIn = 3.75\n",
    "PlotDPI = 120\n",
    "num_cores = multiprocessing.cpu_count()-2"
   ]
  },
  {
   "cell_type": "code",
   "execution_count": 4,
   "metadata": {},
   "outputs": [],
   "source": [
    "HostName = platform.node()\n",
    "\n",
    "if HostName == \"Server\":\n",
    "    Computer = \"Desktop\"   \n",
    "elif HostName[-6:] == 'wm.edu':\n",
    "    Computer = \"SciClone\"\n",
    "elif HostName == \"SchoolLaptop\":\n",
    "    Computer = \"LinLap\"\n",
    "elif HostName == \"WTC-TAB-512\":\n",
    "    Computer = \"PortLap\"\n",
    "else:\n",
    "    Computer = \"WinLap\""
   ]
  },
  {
   "cell_type": "code",
   "execution_count": 5,
   "metadata": {},
   "outputs": [],
   "source": [
    "if Computer == \"SciClone\":\n",
    "    location = '/sciclone/home20/dchendrickson01/image/'\n",
    "elif Computer == \"WinLap\":\n",
    "    location = 'C:\\\\Data\\\\'\n",
    "elif Computer == \"Desktop\":\n",
    "    location = \"E:\\\\Backups\\\\Dan\\\\CraneData\\\\\"\n",
    "elif Computer == \"LinLap\":\n",
    "    location = '/home/dan/Output/'\n",
    "elif Computer == 'PortLap':\n",
    "    location = 'C:\\\\users\\\\dhendrickson\\\\Desktop\\\\AccelData\\\\'\n",
    "    \n",
    "\n",
    "if Computer ==  \"SciClone\":\n",
    "    rootfolder = '/sciclone/home20/dchendrickson01/'\n",
    "    folder = '/sciclone/scr10/dchendrickson01/Recordings2/'\n",
    "elif Computer == \"Desktop\":\n",
    "    rootfolder = location\n",
    "    folder = rootfolder + \"Recordings2\\\\\"\n",
    "elif Computer ==\"WinLap\":\n",
    "    rootfolder = location\n",
    "    folder = rootfolder + \"Recordings2\\\\\"   \n",
    "elif Computer == \"LinLap\":\n",
    "    rootfolder = '/home/dan/Data/'\n",
    "    folder = rootfolder + 'Recordings2/'\n",
    "elif Computer =='PortLap':\n",
    "    rootfolder = location \n",
    "    folder = rootfolder + 'Recordings2\\\\'"
   ]
  },
  {
   "cell_type": "code",
   "execution_count": 6,
   "metadata": {},
   "outputs": [],
   "source": [
    "Cleanup = False\n",
    "if Cleanup:\n",
    "    files = os.listdir(folder+'cc\\\\')\n",
    "\n",
    "    AFw = open(folder+'cc\\\\'+files[0][:-5]+'csv','x')\n",
    "\n",
    "    for file in files:\n",
    "        print(file)\n",
    "        AF = open(folder+'cc\\\\'+file,'r')\n",
    "        while(True):\n",
    "            line = AF.readline()\n",
    "            if not line:\n",
    "                break;\n",
    "            else:\n",
    "                AFw.write(line)\n",
    "        AF.close()\n",
    "\n",
    "    AFw.close()\n"
   ]
  },
  {
   "cell_type": "code",
   "execution_count": 7,
   "metadata": {},
   "outputs": [],
   "source": [
    "Checking = False\n",
    "if Checking:\n",
    "    files = os.listdir(folder+'cc\\\\')\n",
    "    for file in files:\n",
    "        a=np.genfromtxt(open(folder+'cc\\\\'+file,'r'), delimiter=',',\n",
    "                skip_header=1, missing_values=0)"
   ]
  },
  {
   "cell_type": "code",
   "execution_count": 8,
   "metadata": {},
   "outputs": [],
   "source": [
    "capturingFails = False\n",
    "def getData(file):\n",
    "    try:\n",
    "        dataSet = np.genfromtxt(open(folder+file,'r'), delimiter=',',\n",
    "                skip_header=1, missing_values=0)\n",
    "    except:\n",
    "        if capturingFails:\n",
    "            AF = open(folder+file,'r')\n",
    "            i = 0\n",
    "            j = 0\n",
    "            AFw = open(folder+file[:-3]+str(j)+'.csv','x')\n",
    "            while(True):\n",
    "                line = AF.readline()\n",
    "                if not line:\n",
    "                    break;\n",
    "                else:\n",
    "                    i+=1\n",
    "                    AFw.write(line)\n",
    "                if i%1000000 == 0:\n",
    "                    AFw.close()\n",
    "                    j+=1\n",
    "                    AFw = open(folder+file[:-3]+str(j)+'.csv','x')\n",
    "            AFw.close()\n",
    "            AF.close\n",
    "        dataset = [[0,0,0,0,0,0,0],[0,0,0,0,0,0,0]]\n",
    "    return dataSet"
   ]
  },
  {
   "cell_type": "code",
   "execution_count": 9,
   "metadata": {},
   "outputs": [],
   "source": [
    "files = os.listdir(folder)\n",
    "\n",
    "AllData = Parallel(n_jobs=num_cores)(delayed(getData)(file) for file in files)"
   ]
  },
  {
   "cell_type": "code",
   "execution_count": null,
   "metadata": {},
   "outputs": [
    {
     "data": {
      "text/plain": [
       "(18,)"
      ]
     },
     "execution_count": 11,
     "metadata": {},
     "output_type": "execute_result"
    }
   ],
   "source": [
    "np.shape(AllData)"
   ]
  },
  {
   "cell_type": "code",
   "execution_count": null,
   "metadata": {},
   "outputs": [],
   "source": [
    "averages = []\n",
    "stdDevs = []\n",
    "minimums = []\n",
    "maximums = []\n",
    "\n",
    "for sets in AllData:\n",
    "    av = []\n",
    "    sd = []\n",
    "    mi = []\n",
    "    ma = []\n",
    "    for j in range(3):\n",
    "        i = j + 3\n",
    "        aver = np.average(set[:,i])\n",
    "        av.append(aver)\n",
    "        set[:,i]-=aver\n",
    "        sd.append(np.std(set[:,i]))\n",
    "        mi.append(np.min(set[:,i]))\n",
    "        ma.append(np.max(set[:,i]))\n",
    "    averages.append(av)\n",
    "    stdDevs.append(sd)\n",
    "    minimums.append(mi)\n",
    "    maximums.append(ma)\n"
   ]
  }
 ],
 "metadata": {
  "kernelspec": {
   "display_name": "Python 3.9.9 64-bit",
   "language": "python",
   "name": "python3"
  },
  "language_info": {
   "codemirror_mode": {
    "name": "ipython",
    "version": 3
   },
   "file_extension": ".py",
   "mimetype": "text/x-python",
   "name": "python",
   "nbconvert_exporter": "python",
   "pygments_lexer": "ipython3",
   "version": "3.9.9"
  },
  "orig_nbformat": 4,
  "vscode": {
   "interpreter": {
    "hash": "11c16a051206f53cf7fe024f12cacb318023d916d0a5509b7bf3391ee4b4163a"
   }
  }
 },
 "nbformat": 4,
 "nbformat_minor": 2
}
