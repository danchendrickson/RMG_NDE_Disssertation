{
 "cells": [
  {
   "cell_type": "code",
   "execution_count": null,
   "metadata": {},
   "outputs": [],
   "source": [
    "#!/sciclone/home20/dchendrickson01/.conda/envs/tfcgpu/bin/python\n",
    "\n",
    "\n",
    "#Standard Header used on the projects\n",
    "# %%\n",
    "\n",
    "dataSize = 'big' #'big'  # 'small'\n",
    "\n",
    "#first the major packages used for math and graphing\n",
    "import numpy as np\n",
    "\n",
    "import os as os\n",
    "import random\n",
    "import multiprocessing\n",
    "from joblib import Parallel, delayed\n",
    "\n",
    "import cv2\n",
    "from sklearn.model_selection import train_test_split\n",
    "\n",
    "import datetime\n",
    "\n",
    "import platform\n",
    "\n",
    "HostName = platform.node()\n",
    "\n",
    "if HostName == \"Server\":\n",
    "    Computer = \"Desktop\"   \n",
    "elif HostName[-6:] == 'wm.edu':\n",
    "    Computer = \"SciClone\"\n",
    "elif HostName == \"SchoolLaptop\":\n",
    "    Computer = \"LinLap\"\n",
    "elif HostName == \"WTC-TAB-512\":\n",
    "    Computer = \"PortLap\"\n",
    "else:\n",
    "    Computer = \"WinLap\"\n",
    "\n",
    "if Computer == \"SciClone\":\n",
    "    location = '/sciclone/home20/dchendrickson01/'\n",
    "elif Computer == \"WinLap\":\n",
    "    location = 'C:\\\\Data\\\\'\n",
    "elif Computer == \"Desktop\":\n",
    "    location = \"E:\\\\Backups\\\\Dan\\\\CraneData\\\\\"\n",
    "elif Computer == \"LinLap\":\n",
    "    location = '/home/dan/Output/'\n",
    "    \n",
    "\n",
    "if Computer ==  \"SciClone\":\n",
    "    rootfolder = '/sciclone/home20/dchendrickson01/'\n",
    "    if dataSize == 'big':\n",
    "        folder = '/sciclone/scr10/dchendrickson01/CraneData/'\n",
    "        imFolder ='/sciclone/scr10/dchendrickson01/BetaLow/'\n",
    "    else:\n",
    "        folder = '/sciclone/data10/dchendrickson01/SmallCopy/'\n",
    "        imFolder = '/sciclone/data10/dchendrickson01/SmallCopy/'\n",
    "elif Computer == \"Desktop\":\n",
    "    rootfolder = location\n",
    "    imFolder = \"E:\\\\Backups\\\\Dan\\\\CraneData\\\\Images\\\\\"\n",
    "    if dataSize == 'big':\n",
    "        folder = 'G:\\\\CraneData\\\\'\n",
    "    else:\n",
    "        folder = rootfolder + \"SmallCopy\\\\\"\n",
    "elif Computer ==\"WinLap\":\n",
    "    rootfolder = location\n",
    "    folder = rootfolder + \"SmallCopy\\\\\"   \n",
    "elif Computer == \"LinLap\":\n",
    "    rootfolder = '/home/dan/Data/'\n",
    "    folder = rootfolder + 'SmallCopy/'\n",
    "\n",
    "scales = 100\n",
    "#img_height , img_width = scales, 200\n",
    "DoSomeFiles = False\n",
    "\n",
    "SmoothType = 2  # 0 = none, 1 = rolling average, 2 = low pass filter, 3 = Kalman filter\n",
    "WaveletToUse = 'beta'\n",
    "\n",
    "num_cores = multiprocessing.cpu_count() -1\n",
    "NumberOfFiles = num_cores - 2\n",
    "GroupSize = NumberOfFiles\n",
    "\n",
    "\n",
    "files = os.listdir(folder)\n",
    "\n",
    "files=files[::-1]\n",
    "\n",
    "if DoSomeFiles: files = random.sample(files,NumberOfFiles*2)\n",
    "\n",
    "import CoreFunctions as cf\n",
    "\n",
    "def resizeImage(FP):\n",
    "    length = int(np.shape(FP)[1]/6)\n",
    "    width = int(np.shape(FP)[0])\n",
    "    res = cv2.resize(FP, dsize=(length, width), interpolation=cv2.INTER_LINEAR_EXACT)\n",
    "\n",
    "    return res\n",
    "\n",
    "def saveImage(FP, FName):\n",
    "    cv2.imwrite(imFolder + FName + '.png', FP)\n",
    "    return 1"
   ]
  },
  {
   "cell_type": "code",
   "execution_count": 3,
   "metadata": {},
   "outputs": [],
   "source": [
    "def MakeImageFiles(files):\n",
    "    numF = np.size(files)\n",
    "    Keep = np.ones(numF)\n",
    "    for i in range(numF):\n",
    "        if os.path.isfile(imFolder + files[i] + '.png'):\n",
    "            Keep[i]=0\n",
    "    Keep = np.array(Keep, dtype=bool)   \n",
    "    files=np.array(files)[Keep]\n",
    "    \n",
    "    AllAccels = Parallel(n_jobs=num_cores)(delayed(cf.getAcceleration)(file) for file in files)\n",
    "    Flattened = []\n",
    "    for j in range(np.shape(AllAccels)[0]):\n",
    "        if AllAccels[j][0] == False:\n",
    "            print(j,AllAccels[j][1])\n",
    "        else: \n",
    "            Flattened.append(AllAccels[j])\n",
    "\n",
    "    MetaData = []  #np.asarray([],dtype=object)\n",
    "    DataOnlyMatrix = np.asarray([],dtype=object)\n",
    "    for j in range(np.shape(AllAccels)[0]):\n",
    "        if AllAccels[j][0] == False or np.shape(AllAccels[j][0][2])[0] != 60000:\n",
    "            if AllAccels[j][1][4:9] =='Accel':\n",
    "                print(j,AllAccels[j][1])\n",
    "        else: \n",
    "            for k in range(3):\n",
    "                MetaData.append([AllAccels[j][k][0], AllAccels[j][k][1], AllAccels[j][k][3], AllAccels[j][k][4]])\n",
    "                if np.size(DataOnlyMatrix) == 0:\n",
    "                        DataOnlyMatrix =np.matrix(AllAccels[j][k][2])\n",
    "                else:\n",
    "                        DataOnlyMatrix = np.concatenate((DataOnlyMatrix,np.matrix(AllAccels[j][k][2])),axis=0)\n",
    "\n",
    "    MetaData = np.matrix(MetaData)\n",
    "\n",
    "    #AllAccels = cf.KalmanGroup(DataOnlyMatrix)\n",
    "    AllAccels = DataOnlyMatrix\n",
    "\n",
    "    del DataOnlyMatrix\n",
    "\n",
    "    maxes = np.amax(AllAccels[:,500:], axis = 1)\n",
    "    mins = np.amin(AllAccels[:,500:], axis = 1)\n",
    "\n",
    "    Keep = np.zeros(mins.size)\n",
    "    for i in range(mins.size):\n",
    "        if i % 3 == 0:\n",
    "            if maxes[i] > 0.01 and mins[i] < -0.01:\n",
    "                Keep[i]=1\n",
    "                Keep[i+1]=1\n",
    "                Keep[i+2]=1\n",
    "                #print(i)\n",
    "\n",
    "\n",
    "    Keep = np.array(Keep, dtype='bool')\n",
    "\n",
    "    AllAccels = AllAccels[Keep,:]\n",
    "    MetaData = MetaData[Keep,:]\n",
    "\n",
    "    MotionsLeft = int(np.shape(AllAccels)[0]/3.0)\n",
    "\n",
    "    #try:\n",
    "    #AllFingers =  Parallel(n_jobs=num_cores)(delayed(cf.makeMPFast)([AllAccels[i*3],AllAccels[i*3+1],AllAccels[i*3+2]], WaveletToUse, scales) for i in range(MotionsLeft))\n",
    "    #del AllAccels\n",
    "\n",
    "    #SmallFingers =  Parallel(n_jobs=num_cores)(delayed(resizeImage)(FP) for FP in AllFingers)\n",
    "    #del AllFingers\n",
    "\n",
    "    #count =  Parallel(n_jobs=num_cores)(delayed(saveImage)(SmallFingers[i], MetaData[i*3,3]) for i in range(MotionsLeft))\n",
    "    #except:\n",
    "    #    print(MetaData[:,3])\n",
    "    #    count=[0,0]\n",
    "        \n",
    "    return AllAccels  #sum(count)"
   ]
  },
  {
   "cell_type": "code",
   "execution_count": 4,
   "metadata": {},
   "outputs": [
    {
     "name": "stderr",
     "output_type": "stream",
     "text": [
      "/sciclone/home20/dchendrickson01/.conda/envs/visvis_tfcgpu/lib/python3.9/site-packages/numpy/core/fromnumeric.py:2007: VisibleDeprecationWarning: Creating an ndarray from ragged nested sequences (which is a list-or-tuple of lists-or-tuples-or ndarrays with different lengths or shapes) is deprecated. If you meant to do this, you must specify 'dtype=object' when creating the ndarray.\n",
      "  result = asarray(a).shape\n"
     ]
    }
   ],
   "source": [
    "h = MakeImageFiles(files[1:3])"
   ]
  },
  {
   "cell_type": "code",
   "execution_count": 5,
   "metadata": {},
   "outputs": [
    {
     "data": {
      "text/plain": [
       "(3, 60000)"
      ]
     },
     "execution_count": 5,
     "metadata": {},
     "output_type": "execute_result"
    }
   ],
   "source": [
    "np.shape(h)"
   ]
  },
  {
   "cell_type": "code",
   "execution_count": 10,
   "metadata": {},
   "outputs": [
    {
     "ename": "ValueError",
     "evalue": "could not broadcast input array from shape (0,) into shape (60000,)",
     "output_type": "error",
     "traceback": [
      "\u001b[0;31m---------------------------------------------------------------------------\u001b[0m",
      "\u001b[0;31mValueError\u001b[0m                                Traceback (most recent call last)",
      "Input \u001b[0;32mIn [10]\u001b[0m, in \u001b[0;36m<cell line: 1>\u001b[0;34m()\u001b[0m\n\u001b[0;32m----> 1\u001b[0m m \u001b[38;5;241m=\u001b[39m \u001b[43mcf\u001b[49m\u001b[38;5;241;43m.\u001b[39;49m\u001b[43mmakeMPFast\u001b[49m\u001b[43m(\u001b[49m\u001b[43m[\u001b[49m\u001b[43mh\u001b[49m\u001b[43m[\u001b[49m\u001b[38;5;241;43m0\u001b[39;49m\u001b[43m]\u001b[49m\u001b[43m,\u001b[49m\u001b[43mh\u001b[49m\u001b[43m[\u001b[49m\u001b[38;5;241;43m1\u001b[39;49m\u001b[43m]\u001b[49m\u001b[43m,\u001b[49m\u001b[43mh\u001b[49m\u001b[43m[\u001b[49m\u001b[38;5;241;43m2\u001b[39;49m\u001b[43m]\u001b[49m\u001b[43m]\u001b[49m\u001b[43m,\u001b[49m\u001b[43m \u001b[49m\u001b[38;5;124;43m'\u001b[39;49m\u001b[38;5;124;43mbeta\u001b[39;49m\u001b[38;5;124;43m'\u001b[39;49m\u001b[43m,\u001b[49m\u001b[43m \u001b[49m\u001b[38;5;241;43m100\u001b[39;49m\u001b[43m)\u001b[49m\n",
      "File \u001b[0;32m~/Code/RMG_NDE_Disssertation/CoreFunctions.py:926\u001b[0m, in \u001b[0;36mmakeMPFast\u001b[0;34m(DataMatrix, wvt, scales, spacer, title)\u001b[0m\n\u001b[1;32m    905\u001b[0m \u001b[38;5;28;01mdef\u001b[39;00m \u001b[38;5;21mmakeMPFast\u001b[39m(DataMatrix, wvt \u001b[38;5;241m=\u001b[39m WaveletToUse, scales \u001b[38;5;241m=\u001b[39m \u001b[38;5;241m1000\u001b[39m, spacer \u001b[38;5;241m=\u001b[39m \u001b[38;5;241m1\u001b[39m, title \u001b[38;5;241m=\u001b[39m \u001b[38;5;124m'\u001b[39m\u001b[38;5;124m'\u001b[39m):\n\u001b[1;32m    906\u001b[0m     \u001b[38;5;124;03m'''\u001b[39;00m\n\u001b[1;32m    907\u001b[0m \u001b[38;5;124;03m        Makes a 3D thumbprint images from a 3D motion source.\u001b[39;00m\n\u001b[1;32m    908\u001b[0m \u001b[38;5;124;03m        The XYZ components of Acceleration each are turned into a thumbprint\u001b[39;00m\n\u001b[0;32m   (...)\u001b[0m\n\u001b[1;32m    924\u001b[0m \u001b[38;5;124;03m    \u001b[39;00m\n\u001b[1;32m    925\u001b[0m \u001b[38;5;124;03m    '''\u001b[39;00m\n\u001b[0;32m--> 926\u001b[0m     xPrint \u001b[38;5;241m=\u001b[39m \u001b[43mgetThumbprint2\u001b[49m\u001b[43m(\u001b[49m\u001b[43mnp\u001b[49m\u001b[38;5;241;43m.\u001b[39;49m\u001b[43masarray\u001b[49m\u001b[43m(\u001b[49m\u001b[43mDataMatrix\u001b[49m\u001b[43m[\u001b[49m\u001b[38;5;241;43m0\u001b[39;49m\u001b[43m]\u001b[49m\u001b[43m)\u001b[49m\u001b[38;5;241;43m.\u001b[39;49m\u001b[43mflatten\u001b[49m\u001b[43m(\u001b[49m\u001b[43m)\u001b[49m\u001b[43m,\u001b[49m\u001b[43m \u001b[49m\u001b[43mwvt\u001b[49m\u001b[43m,\u001b[49m\u001b[43m \u001b[49m\u001b[43mscales\u001b[49m\u001b[43m,\u001b[49m\u001b[43m \u001b[49m\u001b[43mspacer\u001b[49m\u001b[43m)\u001b[49m\u001b[38;5;241m*\u001b[39m\u001b[38;5;241m255\u001b[39m\n\u001b[1;32m    927\u001b[0m     yPrint \u001b[38;5;241m=\u001b[39m getThumbprint2(np\u001b[38;5;241m.\u001b[39masarray(DataMatrix[\u001b[38;5;241m1\u001b[39m])\u001b[38;5;241m.\u001b[39mflatten(), wvt, scales, spacer)\u001b[38;5;241m*\u001b[39m\u001b[38;5;241m255\u001b[39m\n\u001b[1;32m    928\u001b[0m     zPrint \u001b[38;5;241m=\u001b[39m getThumbprint2(np\u001b[38;5;241m.\u001b[39masarray(DataMatrix[\u001b[38;5;241m2\u001b[39m])\u001b[38;5;241m.\u001b[39mflatten(), wvt, scales, spacer)\u001b[38;5;241m*\u001b[39m\u001b[38;5;241m255\u001b[39m\n",
      "File \u001b[0;32m~/Code/RMG_NDE_Disssertation/CoreFunctions.py:430\u001b[0m, in \u001b[0;36mgetThumbprint2\u001b[0;34m(data, wvt, ns, scalespace, numslices, slicethickness, valleysorpeaks, normconstant, plot)\u001b[0m\n\u001b[1;32m    427\u001b[0m     data \u001b[38;5;241m=\u001b[39m data[\u001b[38;5;241m0\u001b[39m]\n\u001b[1;32m    429\u001b[0m \u001b[38;5;66;03m#Get the coefficents\u001b[39;00m\n\u001b[0;32m--> 430\u001b[0m cfX \u001b[38;5;241m=\u001b[39m \u001b[43mcwt_fixed_scipy\u001b[49m\u001b[43m(\u001b[49m\u001b[43mdata\u001b[49m\u001b[43m,\u001b[49m\u001b[43m \u001b[49m\u001b[43mns\u001b[49m\u001b[43m,\u001b[49m\u001b[43m \u001b[49m\u001b[43mwvt\u001b[49m\u001b[43m,\u001b[49m\u001b[43mscalespace\u001b[49m\u001b[43m)\u001b[49m\n\u001b[1;32m    432\u001b[0m \u001b[38;5;66;03m#normalize the coefficents to values between 0 and 1\u001b[39;00m\n\u001b[1;32m    433\u001b[0m minVal \u001b[38;5;241m=\u001b[39m np\u001b[38;5;241m.\u001b[39mmin(cfX)\n",
      "File \u001b[0;32m~/Code/RMG_NDE_Disssertation/CoreFunctions.py:321\u001b[0m, in \u001b[0;36mcwt_fixed_scipy\u001b[0;34m(data, scales, wavelet, scalespace, sampling_period, betaParameters)\u001b[0m\n\u001b[1;32m    319\u001b[0m     coef \u001b[38;5;241m=\u001b[39m \u001b[38;5;241m-\u001b[39m np\u001b[38;5;241m.\u001b[39msqrt(scales[i]) \u001b[38;5;241m*\u001b[39m np\u001b[38;5;241m.\u001b[39mdiff(ss\u001b[38;5;241m.\u001b[39mfftconvolve(data, int_psi[j\u001b[38;5;241m.\u001b[39mastype(\u001b[38;5;28mint\u001b[39m)][::\u001b[38;5;241m-\u001b[39m\u001b[38;5;241m1\u001b[39m]))\n\u001b[1;32m    320\u001b[0m     d \u001b[38;5;241m=\u001b[39m (coef\u001b[38;5;241m.\u001b[39msize \u001b[38;5;241m-\u001b[39m data\u001b[38;5;241m.\u001b[39msize) \u001b[38;5;241m/\u001b[39m \u001b[38;5;241m2.\u001b[39m\n\u001b[0;32m--> 321\u001b[0m     out[i, :] \u001b[38;5;241m=\u001b[39m coef[\u001b[38;5;28mint\u001b[39m(np\u001b[38;5;241m.\u001b[39mfloor(d)):\u001b[38;5;28mint\u001b[39m(\u001b[38;5;241m-\u001b[39mnp\u001b[38;5;241m.\u001b[39mceil(d))]\n\u001b[1;32m    322\u001b[0m \u001b[38;5;66;03m#frequencies = scale2frequency(wavelet, scales, precision)\u001b[39;00m\n\u001b[1;32m    323\u001b[0m \u001b[38;5;66;03m#if np.isscalar(frequencies):\u001b[39;00m\n\u001b[1;32m    324\u001b[0m \u001b[38;5;66;03m#    frequencies = np.array([frequencies])\u001b[39;00m\n\u001b[1;32m    325\u001b[0m \u001b[38;5;66;03m#for i in np.arange(len(frequencies)):\u001b[39;00m\n\u001b[1;32m    326\u001b[0m \u001b[38;5;66;03m#    frequencies[i] /= sampling_period\u001b[39;00m\n\u001b[1;32m    327\u001b[0m \u001b[38;5;28;01mreturn\u001b[39;00m out\n",
      "\u001b[0;31mValueError\u001b[0m: could not broadcast input array from shape (0,) into shape (60000,)"
     ]
    }
   ],
   "source": [
    "m = cf.makeMPFast([h[0],h[1],h[2]], 'beta', 100)"
   ]
  }
 ],
 "metadata": {
  "kernelspec": {
   "display_name": "visvis_tfcgpu",
   "language": "python",
   "name": "visvis_tfcgpu"
  },
  "language_info": {
   "codemirror_mode": {
    "name": "ipython",
    "version": 3
   },
   "file_extension": ".py",
   "mimetype": "text/x-python",
   "name": "python",
   "nbconvert_exporter": "python",
   "pygments_lexer": "ipython3",
   "version": "3.9.13"
  },
  "toc-autonumbering": false,
  "toc-showcode": false,
  "toc-showmarkdowntxt": false,
  "vscode": {
   "interpreter": {
    "hash": "11c16a051206f53cf7fe024f12cacb318023d916d0a5509b7bf3391ee4b4163a"
   }
  }
 },
 "nbformat": 4,
 "nbformat_minor": 4
}
