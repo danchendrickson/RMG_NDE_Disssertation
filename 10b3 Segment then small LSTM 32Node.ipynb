{
 "cells": [
  {
   "cell_type": "markdown",
   "metadata": {},
   "source": [
    "# Look at accelerometer data \n",
    "\n",
    "Finding Zero velocity times by rail axis acceleration noise levels, making summary statistics for the noise levels across the whole day files.  Spot check graphs to see what works"
   ]
  },
  {
   "cell_type": "code",
   "execution_count": 1,
   "metadata": {},
   "outputs": [],
   "source": [
    "#Standard Header used on the projects\n",
    "\n",
    "#first the major packages used for math and graphing\n",
    "import numpy as np\n",
    "import matplotlib.pyplot as plt\n",
    "from cycler import cycler\n",
    "import scipy.special as sp\n",
    "\n",
    "#Custome graph format style sheet\n",
    "#plt.style.use('Prospectus.mplstyle')\n",
    "\n",
    "#If being run by a seperate file, use the seperate file's graph format and saving paramaeters\n",
    "#otherwise set what is needed\n",
    "if not 'Saving' in locals():\n",
    "    Saving = False\n",
    "if not 'Titles' in locals():\n",
    "    Titles = True\n",
    "if not 'Ledgends' in locals():\n",
    "    Ledgends = True\n",
    "if not 'FFormat' in locals():\n",
    "    FFormat = '.png'\n",
    "\n",
    "#Standard cycle to make black and white images and dashed and line styles\n",
    "default_cycler = (cycler('color', ['0.00', '0.40', '0.60', '0.70']) + cycler(linestyle=['-', '-', '-', '-']))\n",
    "plt.rc('axes', prop_cycle=default_cycler)\n",
    "my_cmap = plt.get_cmap('gray')"
   ]
  },
  {
   "cell_type": "code",
   "execution_count": 2,
   "metadata": {},
   "outputs": [],
   "source": [
    "#Extra Headers:\n",
    "import os as os\n",
    "import pywt as py\n",
    "import statistics as st\n",
    "import os as os\n",
    "import random\n",
    "import multiprocessing\n",
    "from joblib import Parallel, delayed\n",
    "import platform\n",
    "\n",
    "from time import time as ti"
   ]
  },
  {
   "cell_type": "code",
   "execution_count": 3,
   "metadata": {},
   "outputs": [],
   "source": [
    "import CoreFunctions as cf\n",
    "from skimage.restoration import denoise_wavelet"
   ]
  },
  {
   "cell_type": "markdown",
   "metadata": {},
   "source": [
    "## Choosing Platform\n",
    "Working is beinging conducted on several computers, and author needs to be able to run code on all without rewriting..  This segment of determines which computer is being used, and sets the directories accordingly."
   ]
  },
  {
   "cell_type": "code",
   "execution_count": 4,
   "metadata": {},
   "outputs": [],
   "source": [
    "HostName = platform.node()\n",
    "\n",
    "if HostName == \"Server\":\n",
    "    Computer = \"Desktop\"   \n",
    "elif HostName[-6:] == 'wm.edu':\n",
    "    Computer = \"SciClone\"\n",
    "elif HostName == \"SchoolLaptop\":\n",
    "    Computer = \"LinLap\"\n",
    "elif HostName == \"WTC-TAB-512\":\n",
    "    Computer = \"PortLap\"\n",
    "else:\n",
    "    Computer = \"WinLap\""
   ]
  },
  {
   "cell_type": "code",
   "execution_count": 5,
   "metadata": {},
   "outputs": [],
   "source": [
    "if Computer == \"SciClone\":\n",
    "    location = '/sciclone/home20/dchendrickson01/image/'\n",
    "elif Computer == \"WinLap\":\n",
    "    location = 'C:\\\\Data\\\\'\n",
    "elif Computer == \"Desktop\":\n",
    "    location = \"E:\\\\Backups\\\\Dan\\\\CraneData\\\\\"\n",
    "elif Computer == \"LinLap\":\n",
    "    location = '/home/dan/Output/'\n",
    "elif Computer == 'PortLap':\n",
    "    location = 'C:\\\\users\\\\dhendrickson\\\\Desktop\\\\AccelData\\\\'"
   ]
  },
  {
   "cell_type": "code",
   "execution_count": 6,
   "metadata": {},
   "outputs": [],
   "source": [
    "if Computer ==  \"SciClone\":\n",
    "    rootfolder = '/sciclone/home20/dchendrickson01/'\n",
    "    folder = '/sciclone/scr10/dchendrickson01/Recordings2/'\n",
    "    imageFolder = '/sciclone/scr10/dchendrickson01/Move3Dprint/'\n",
    "elif Computer == \"Desktop\":\n",
    "    rootfolder = location\n",
    "    folder = rootfolder + \"Recordings2\\\\\"\n",
    "elif Computer ==\"WinLap\":\n",
    "    rootfolder = location\n",
    "    folder = rootfolder + \"Recordings2\\\\\"   \n",
    "elif Computer == \"LinLap\":\n",
    "    rootfolder = '/home/dan/Data/'\n",
    "    folder = rootfolder + 'Recordings2/'\n",
    "elif Computer =='PortLap':\n",
    "    rootfolder = location \n",
    "    folder = rootfolder + 'Recordings2\\\\'"
   ]
  },
  {
   "cell_type": "markdown",
   "metadata": {},
   "source": [
    "## Global Variables"
   ]
  },
  {
   "cell_type": "code",
   "execution_count": 7,
   "metadata": {},
   "outputs": [],
   "source": [
    "Saving = False\n",
    "location = folder\n",
    "Titles = True\n",
    "Ledgends = True\n",
    "\n",
    "f = 0\n"
   ]
  },
  {
   "cell_type": "code",
   "execution_count": 8,
   "metadata": {},
   "outputs": [],
   "source": [
    "files = ['230418 recording1.csv','230419 recording1.csv','230420 recording1.csv','230421 recording1.csv',\n",
    "         '230418 recording2.csv','230419 recording2.csv','230420 recording2.csv','230421 recording2.csv']"
   ]
  },
  {
   "cell_type": "code",
   "execution_count": 9,
   "metadata": {},
   "outputs": [],
   "source": [
    "BeforeTamping = ['221206 recording1.csv','221207 recording1.csv','221208 recording1.csv','221209 recording1.csv',\n",
    "         '221206 recording2.csv','221207 recording2.csv','221208 recording2.csv','221209 recording2.csv']\n"
   ]
  },
  {
   "cell_type": "markdown",
   "metadata": {},
   "source": [
    "## Project Specific Functions"
   ]
  },
  {
   "cell_type": "code",
   "execution_count": 10,
   "metadata": {},
   "outputs": [],
   "source": [
    "#Smooth = cf.Smoothing(ODataSet[:,3],2) #,50)\n",
    "def SmoothMoves(file):\n",
    "    #    if file[-3:] =='csv':\n",
    "    ODataSet = np.genfromtxt(open(folder+file,'r'), delimiter=',',skip_header=0,missing_values=0,invalid_raise=False)\n",
    "    SmoothX = denoise_wavelet(ODataSet[:,3], method='VisuShrink', mode='soft', wavelet_levels=3, wavelet='sym2', rescale_sigma='True')\n",
    "    SmoothY = denoise_wavelet(ODataSet[:,4], method='VisuShrink', mode='soft', wavelet_levels=3, wavelet='sym2', rescale_sigma='True')\n",
    "    SmoothZ = denoise_wavelet(ODataSet[:,5], method='VisuShrink', mode='soft', wavelet_levels=3, wavelet='sym2', rescale_sigma='True')\n",
    "    SmoothX -= np.average(SmoothX)\n",
    "    SmoothY -= np.average(SmoothY)\n",
    "    SmoothZ -= np.average(SmoothZ)\n",
    "    MoveMatrix = np.matrix([SmoothX, SmoothY, SmoothZ])\n",
    "    return MoveMatrix\n",
    "    #else:\n",
    "    #    pass\n"
   ]
  },
  {
   "cell_type": "markdown",
   "metadata": {},
   "source": [
    "## Process Files"
   ]
  },
  {
   "cell_type": "code",
   "execution_count": 11,
   "metadata": {},
   "outputs": [],
   "source": [
    "LoopFiles = 8\n",
    "loops = int(len(files) / LoopFiles) \n",
    "if len(files)%LoopFiles != 0:\n",
    "    loops += 1\n"
   ]
  },
  {
   "cell_type": "code",
   "execution_count": 12,
   "metadata": {},
   "outputs": [
    {
     "data": {
      "text/plain": [
       "['230418 recording1.csv',\n",
       " '230419 recording1.csv',\n",
       " '230420 recording1.csv',\n",
       " '230421 recording1.csv',\n",
       " '230418 recording2.csv',\n",
       " '230419 recording2.csv',\n",
       " '230420 recording2.csv',\n",
       " '230421 recording2.csv']"
      ]
     },
     "execution_count": 12,
     "metadata": {},
     "output_type": "execute_result"
    }
   ],
   "source": [
    "files\n"
   ]
  },
  {
   "cell_type": "code",
   "execution_count": 13,
   "metadata": {},
   "outputs": [
    {
     "name": "stdout",
     "output_type": "stream",
     "text": [
      "0 1.792790945370992\n"
     ]
    }
   ],
   "source": [
    "\n",
    "st = ti()\n",
    "\n",
    "Moves = []\n",
    "\n",
    "for k in range(loops):\n",
    "    if k == loops -1:\n",
    "        tfiles = files[k*LoopFiles:]\n",
    "    else:\n",
    "        tfiles = files[k*LoopFiles:(k+1)*LoopFiles]\n",
    "    #Results = Parallel(n_jobs=LoopFiles)(delayed(DeviationVelocity)(file) for file in tfiles)\n",
    "    Results = Parallel(n_jobs=LoopFiles)(delayed(SmoothMoves)(file) for file in tfiles)\n",
    "    #Results =[]\n",
    "    #for file in tfiles:\n",
    "    #    Results.append(DeviationVelocity(file))\n",
    "    #    print(file, (ti()-st)/60.0)\n",
    "    for result in Results:\n",
    "        Moves.append(result)\n",
    "    print(k, (ti()-st)/60.0)\n",
    "        \n"
   ]
  },
  {
   "cell_type": "markdown",
   "metadata": {},
   "source": [
    "## Try LSTM Stuff"
   ]
  },
  {
   "cell_type": "markdown",
   "metadata": {},
   "source": [
    "https://machinelearningmastery.com/how-to-develop-lstm-models-for-time-series-forecasting/"
   ]
  },
  {
   "cell_type": "code",
   "execution_count": 33,
   "metadata": {},
   "outputs": [],
   "source": [
    "TimeSteps = 250\n",
    "StepSize = 15\n",
    "Features = np.shape(Moves[0])[0]"
   ]
  },
  {
   "cell_type": "code",
   "execution_count": 15,
   "metadata": {},
   "outputs": [
    {
     "data": {
      "text/plain": [
       "8"
      ]
     },
     "execution_count": 15,
     "metadata": {},
     "output_type": "execute_result"
    }
   ],
   "source": [
    "len(Moves)"
   ]
  },
  {
   "cell_type": "code",
   "execution_count": 16,
   "metadata": {},
   "outputs": [],
   "source": [
    "# split a multivariate sequence into samples\n",
    "def split_sequences(sequences, n_steps, s_step = 1):\n",
    "    X, y = list(), list()\n",
    "    Steps_to_take = int(len(sequences) / s_step)\n",
    "    for j in range(Steps_to_take):\n",
    "        i = j * s_step\n",
    "        # find the end of this pattern\n",
    "        end_ix = i + n_steps\n",
    "        # check if we are beyond the dataset\n",
    "        if end_ix > len(sequences)-1:\n",
    "            break\n",
    "        # gather input and output parts of the pattern\n",
    "        seq_x, seq_y = sequences[i:end_ix, :], sequences[end_ix, :]\n",
    "        X.append(seq_x)\n",
    "        y.append(seq_y)\n",
    "    return np.array(X), np.array(y)"
   ]
  },
  {
   "cell_type": "code",
   "execution_count": 34,
   "metadata": {},
   "outputs": [],
   "source": [
    "Sequences = []\n",
    "Outputs = []\n",
    "for move in Moves:\n",
    "    Seq, Out = split_sequences(move.T,TimeSteps,StepSize)\n",
    "    Sequences.append(Seq)\n",
    "    Outputs.append(Out)\n",
    "    "
   ]
  },
  {
   "cell_type": "code",
   "execution_count": 35,
   "metadata": {},
   "outputs": [],
   "source": [
    "MoveSegments = []\n",
    "for seq in Sequences:\n",
    "    for mv in seq:\n",
    "        MoveSegments.append(mv)\n",
    "NextDataPoint = []\n",
    "for out in Outputs:\n",
    "    for pt in out:\n",
    "        NextDataPoint.append(np.reshape(pt,(1,3)))"
   ]
  },
  {
   "cell_type": "code",
   "execution_count": 36,
   "metadata": {},
   "outputs": [
    {
     "data": {
      "text/plain": [
       "8569639"
      ]
     },
     "execution_count": 36,
     "metadata": {},
     "output_type": "execute_result"
    }
   ],
   "source": [
    "len(MoveSegments)"
   ]
  },
  {
   "cell_type": "code",
   "execution_count": 37,
   "metadata": {},
   "outputs": [],
   "source": [
    "from sklearn.model_selection import train_test_split"
   ]
  },
  {
   "cell_type": "code",
   "execution_count": 38,
   "metadata": {},
   "outputs": [],
   "source": [
    "from keras.layers import LSTM, Dense, RepeatVector, TimeDistributed, Masking\n",
    "from keras.models import Sequential\n",
    "import tensorflow as tf"
   ]
  },
  {
   "cell_type": "code",
   "execution_count": 39,
   "metadata": {},
   "outputs": [],
   "source": [
    "#tf.config.threading.set_intra_op_parallelism_threads(32)\n",
    "#tf.config.threading.set_inter_op_parallelism_threads(32)"
   ]
  },
  {
   "cell_type": "code",
   "execution_count": 40,
   "metadata": {},
   "outputs": [],
   "source": [
    "class LSTM_Autoencoder:\n",
    "  def __init__(self, optimizer='adam', loss='mse'):\n",
    "    self.optimizer = optimizer\n",
    "    self.loss = loss\n",
    "    self.n_features = Features\n",
    "    self.timesteps = TimeSteps\n",
    "    \n",
    "  def build_model(self):\n",
    "    timesteps = self.timesteps\n",
    "    n_features = self.n_features\n",
    "    model = Sequential()\n",
    "    \n",
    "    # Padding\n",
    "    #model.add(Masking(mask_value=0.0, input_shape=(timesteps, n_features)))\n",
    "\n",
    "    # Encoder\n",
    "    model.add(LSTM(timesteps, activation='relu', input_shape=(TimeSteps, Features), return_sequences=True))\n",
    "    model.add(LSTM(35, activation='relu', return_sequences=True))\n",
    "    model.add(LSTM(6, activation='relu'))\n",
    "    model.add(RepeatVector(timesteps))\n",
    "    \n",
    "    # Decoder\n",
    "    model.add(LSTM(timesteps, activation='relu', return_sequences=True))\n",
    "    model.add(LSTM(35, activation='relu', return_sequences=True))\n",
    "    model.add(TimeDistributed(Dense(n_features)))\n",
    "    \n",
    "    model.compile(optimizer=self.optimizer, loss=self.loss, metrics=['accuracy'])\n",
    "    model.summary()\n",
    "    self.model = model\n",
    "    \n",
    "  def simple_model(self):\n",
    "    \n",
    "    # define model\n",
    "    model = Sequential()\n",
    "    model.add(LSTM(150, input_shape=(self.timesteps, self.n_features)))\n",
    "    model.add(RepeatVector(self.timesteps))\n",
    "    model.add(LSTM(150, return_sequences=True))\n",
    "    model.add(TimeDistributed(Dense(self.n_features, activation='softmax')))\n",
    "    model.compile(loss='categorical_crossentropy', optimizer='adam', metrics=['accuracy'])\n",
    "    model.summary()\n",
    "    \n",
    "    self.model = model\n",
    "    \n",
    "  def fit(self, X, epochs=3, batch_size=32):\n",
    "    #self.timesteps = np.shape(X)[0]\n",
    "    self.build_model()\n",
    "    \n",
    "    #input_X = np.expand_dims(X, axis=1)\n",
    "    self.model.fit(X, X, epochs=epochs, batch_size=batch_size)\n",
    "    \n",
    "  def predict(self, X):\n",
    "    #input_X = np.expand_dims(X, axis=1)\n",
    "    output_X = self.model.predict(X)\n",
    "    reconstruction = np.squeeze(output_X)\n",
    "    return np.linalg.norm(X - reconstruction, axis=-1)\n",
    "  \n",
    "  def plot(self, scores, timeseries, threshold=0.95):\n",
    "    sorted_scores = sorted(scores)\n",
    "    threshold_score = sorted_scores[round(len(scores) * threshold)]\n",
    "    \n",
    "    plt.title(\"Reconstruction Error\")\n",
    "    plt.plot(scores)\n",
    "    plt.plot([threshold_score]*len(scores), c='r')\n",
    "    plt.show()\n",
    "    \n",
    "    anomalous = np.where(scores > threshold_score)\n",
    "    normal = np.where(scores <= threshold_score)\n",
    "    \n",
    "    plt.title(\"Anomalies\")\n",
    "    plt.scatter(normal, timeseries[normal][:,-1], s=3)\n",
    "    plt.scatter(anomalous, timeseries[anomalous][:,-1], s=5, c='r')\n",
    "    plt.show()"
   ]
  },
  {
   "cell_type": "code",
   "execution_count": 41,
   "metadata": {},
   "outputs": [],
   "source": [
    "#split = int(len(Moves)*.9)\n",
    "#Train_data = Moves[:split]\n",
    "#Test_data = Moves[split:]\n",
    "#Train_data = tf.ragged.constant(Train_data)\n",
    "#Test_data = tf.ragged.constant(Test_data)"
   ]
  },
  {
   "cell_type": "code",
   "execution_count": 42,
   "metadata": {},
   "outputs": [],
   "source": [
    "lstm_autoencoder2 = LSTM_Autoencoder(optimizer='adam', loss='mse')"
   ]
  },
  {
   "cell_type": "code",
   "execution_count": 43,
   "metadata": {},
   "outputs": [
    {
     "name": "stdout",
     "output_type": "stream",
     "text": [
      "Model: \"sequential_1\"\n",
      "_________________________________________________________________\n",
      " Layer (type)                Output Shape              Param #   \n",
      "=================================================================\n",
      " lstm_2 (LSTM)               (None, 150)               92400     \n",
      "                                                                 \n",
      " repeat_vector_1 (RepeatVect  (None, 250, 150)         0         \n",
      " or)                                                             \n",
      "                                                                 \n",
      " lstm_3 (LSTM)               (None, 250, 150)          180600    \n",
      "                                                                 \n",
      " time_distributed_1 (TimeDis  (None, 250, 3)           453       \n",
      " tributed)                                                       \n",
      "                                                                 \n",
      "=================================================================\n",
      "Total params: 273,453\n",
      "Trainable params: 273,453\n",
      "Non-trainable params: 0\n",
      "_________________________________________________________________\n"
     ]
    }
   ],
   "source": [
    "lstm_autoencoder2.simple_model()"
   ]
  },
  {
   "cell_type": "code",
   "execution_count": 44,
   "metadata": {},
   "outputs": [],
   "source": [
    "Batches = 32\n",
    "NumbBatches = 1000\n",
    "\n",
    "SamplesPerSet = Batches * NumbBatches\n"
   ]
  },
  {
   "cell_type": "code",
   "execution_count": 45,
   "metadata": {},
   "outputs": [
    {
     "data": {
      "text/plain": [
       "32000"
      ]
     },
     "execution_count": 45,
     "metadata": {},
     "output_type": "execute_result"
    }
   ],
   "source": [
    "SamplesPerSet"
   ]
  },
  {
   "cell_type": "code",
   "execution_count": 46,
   "metadata": {},
   "outputs": [
    {
     "name": "stdout",
     "output_type": "stream",
     "text": [
      "8569639 268\n"
     ]
    }
   ],
   "source": [
    "SetsNeeded = int(len(MoveSegments) / SamplesPerSet)\n",
    "if  int(len(MoveSegments) / SamplesPerSet) != 0:\n",
    "    SetsNeeded += 1\n",
    "print(len(MoveSegments), SetsNeeded)"
   ]
  },
  {
   "cell_type": "code",
   "execution_count": 47,
   "metadata": {},
   "outputs": [],
   "source": [
    "PercentPerSet = 1.0 / float(SetsNeeded)\n",
    "\n",
    "PercentHoldOutForNext=1.0"
   ]
  },
  {
   "cell_type": "code",
   "execution_count": 48,
   "metadata": {
    "scrolled": true
   },
   "outputs": [
    {
     "name": "stdout",
     "output_type": "stream",
     "text": [
      "Epoch 1/2\n",
      "1000/1000 [==============================] - 338s 334ms/step - loss: -7.9985e-04 - accuracy: 0.3265\n",
      "Epoch 2/2\n",
      "1000/1000 [==============================] - 340s 340ms/step - loss: -0.0052 - accuracy: 0.3352\n",
      "1 of 268 12.223058021068573 54.188891669379345\n",
      "Epoch 1/2\n",
      "1000/1000 [==============================] - 335s 334ms/step - loss: -0.0056 - accuracy: 0.3614\n",
      "Epoch 2/2\n",
      "1000/1000 [==============================] - 338s 338ms/step - loss: -0.0056 - accuracy: 0.3614\n",
      "2 of 268 23.5812428911527 52.07524496313599\n",
      "Epoch 1/2\n",
      "1000/1000 [==============================] - 339s 339ms/step - loss: -0.0071 - accuracy: 0.3630\n",
      "Epoch 2/2\n",
      "1000/1000 [==============================] - 329s 329ms/step - loss: -0.0071 - accuracy: 0.3630\n",
      "3 of 268 34.825545084476474 51.07746623423364\n",
      "Epoch 1/2\n",
      "1000/1000 [==============================] - 332s 332ms/step - loss: -0.0062 - accuracy: 0.3621\n",
      "Epoch 2/2\n",
      "1000/1000 [==============================] - 330s 330ms/step - loss: -0.0062 - accuracy: 0.3621\n",
      "4 of 268 45.980844442049666 50.387342129680846\n",
      "Epoch 1/2\n",
      "1000/1000 [==============================] - 331s 331ms/step - loss: -0.0060 - accuracy: 0.3613\n",
      "Epoch 2/2\n",
      "1000/1000 [==============================] - 333s 333ms/step - loss: -0.0061 - accuracy: 0.3614\n",
      "5 of 268 57.1813072125117 49.93834173931016\n",
      "Epoch 1/2\n",
      "1000/1000 [==============================] - 334s 334ms/step - loss: -0.0056 - accuracy: 0.3611\n",
      "Epoch 2/2\n",
      "1000/1000 [==============================] - 338s 338ms/step - loss: -0.0056 - accuracy: 0.3613\n",
      "6 of 268 68.51659281253815 49.6745299210151\n",
      "Epoch 1/2\n",
      "1000/1000 [==============================] - 341s 341ms/step - loss: -0.0038 - accuracy: 0.3600\n",
      "Epoch 2/2\n",
      "1000/1000 [==============================] - 340s 340ms/step - loss: -0.0038 - accuracy: 0.3600\n",
      "7 of 268 80.0064582546552 49.527807552010295\n",
      "Epoch 1/2\n",
      "1000/1000 [==============================] - 341s 341ms/step - loss: -0.0075 - accuracy: 0.3620\n",
      "Epoch 2/2\n",
      "1000/1000 [==============================] - 341s 341ms/step - loss: -0.0074 - accuracy: 0.3620\n",
      "8 of 268 91.49916993379593 49.37142713979714\n",
      "Epoch 1/2\n",
      "1000/1000 [==============================] - 335s 335ms/step - loss: -0.0082 - accuracy: 0.3625\n",
      "Epoch 2/2\n",
      "1000/1000 [==============================] - 330s 330ms/step - loss: -0.0083 - accuracy: 0.3626\n",
      "9 of 268 102.70151855945588 49.06850337202902\n",
      "Epoch 1/2\n",
      "1000/1000 [==============================] - 340s 340ms/step - loss: -0.0061 - accuracy: 0.3625\n",
      "Epoch 2/2\n",
      "1000/1000 [==============================] - 329s 329ms/step - loss: -0.0067 - accuracy: 0.3633\n",
      "10 of 268 113.97177883386613 48.817911965648335\n",
      "Epoch 1/2\n",
      "1000/1000 [==============================] - 328s 328ms/step - loss: -0.0073 - accuracy: 0.3641\n",
      "Epoch 2/2\n",
      "1000/1000 [==============================] - 334s 334ms/step - loss: -0.0072 - accuracy: 0.3640\n",
      "11 of 268 125.12833726008733 48.534627819109446\n",
      "Epoch 1/2\n",
      "1000/1000 [==============================] - 332s 332ms/step - loss: -0.0079 - accuracy: 0.3627\n",
      "Epoch 2/2\n",
      "1000/1000 [==============================] - 337s 337ms/step - loss: -0.0082 - accuracy: 0.3630\n",
      "12 of 268 136.39876768191655 48.30789691087273\n",
      "Epoch 1/2\n",
      "1000/1000 [==============================] - 333s 333ms/step - loss: -0.0121 - accuracy: 0.3693\n",
      "Epoch 2/2\n",
      "1000/1000 [==============================] - 327s 328ms/step - loss: -0.0147 - accuracy: 0.3734\n",
      "13 of 268 147.51073682308197 48.03554766919368\n",
      "Epoch 1/2\n",
      "1000/1000 [==============================] - 331s 331ms/step - loss: -0.0131 - accuracy: 0.3745\n",
      "Epoch 2/2\n",
      "1000/1000 [==============================] - 326s 326ms/step - loss: -0.0140 - accuracy: 0.3759\n",
      "14 of 268 158.56619288921357 47.75862716163434\n",
      "Epoch 1/2\n",
      "1000/1000 [==============================] - 330s 330ms/step - loss: -0.0165 - accuracy: 0.3774\n",
      "Epoch 2/2\n",
      "1000/1000 [==============================] - 322s 322ms/step - loss: -0.0164 - accuracy: 0.3773\n",
      "15 of 268 169.5331784963608 47.46929001405504\n",
      "Epoch 1/2\n",
      "1000/1000 [==============================] - 329s 329ms/step - loss: -0.0151 - accuracy: 0.3769\n",
      "Epoch 2/2\n",
      "1000/1000 [==============================] - 335s 335ms/step - loss: -0.0150 - accuracy: 0.3768\n",
      "16 of 268 180.69919537703197 47.245310481385225\n",
      "Epoch 1/2\n",
      "1000/1000 [==============================] - 338s 338ms/step - loss: -0.0168 - accuracy: 0.3771\n",
      "Epoch 2/2\n",
      "1000/1000 [==============================] - 336s 336ms/step - loss: -0.0166 - accuracy: 0.3767\n",
      "17 of 268 192.0254445552826 47.065059969682316\n",
      "Epoch 1/2\n",
      "1000/1000 [==============================] - 335s 335ms/step - loss: -0.0142 - accuracy: 0.3752\n",
      "Epoch 2/2\n",
      "1000/1000 [==============================] - 341s 341ms/step - loss: -0.0143 - accuracy: 0.3754\n",
      "18 of 268 203.41748507817587 46.89903129623996\n",
      "Epoch 1/2\n",
      "1000/1000 [==============================] - 333s 333ms/step - loss: -0.0163 - accuracy: 0.3763\n",
      "Epoch 2/2\n",
      "1000/1000 [==============================] - 341s 341ms/step - loss: -0.0158 - accuracy: 0.3735\n",
      "19 of 268 214.76786630153657 46.72143057820742\n",
      "Epoch 1/2\n",
      "1000/1000 [==============================] - 335s 335ms/step - loss: -0.0347 - accuracy: 0.3799\n",
      "Epoch 2/2\n",
      "1000/1000 [==============================] - 339s 339ms/step - loss: -0.0347 - accuracy: 0.3799\n",
      "20 of 268 226.09795502026876 46.53849575272533\n",
      "Epoch 1/2\n",
      "1000/1000 [==============================] - 337s 337ms/step - loss: -0.0357 - accuracy: 0.3806\n",
      "Epoch 2/2\n",
      "1000/1000 [==============================] - 333s 333ms/step - loss: -0.0356 - accuracy: 0.3806\n",
      "21 of 268 237.37745407422383 46.34512200633685\n",
      "Epoch 1/2\n",
      "1000/1000 [==============================] - 344s 344ms/step - loss: -0.0349 - accuracy: 0.3792\n",
      "Epoch 2/2\n",
      "1000/1000 [==============================] - 333s 333ms/step - loss: -0.0348 - accuracy: 0.3792\n",
      "22 of 268 248.7721508105596 46.17361892338353\n",
      "Epoch 1/2\n",
      "1000/1000 [==============================] - 336s 335ms/step - loss: -0.0360 - accuracy: 0.3823\n",
      "Epoch 2/2\n",
      "1000/1000 [==============================] - 340s 340ms/step - loss: -0.0361 - accuracy: 0.3824\n",
      "23 of 268 260.14457561969755 45.996577150870635\n",
      "Epoch 1/2\n",
      "1000/1000 [==============================] - 337s 337ms/step - loss: -0.0352 - accuracy: 0.3810\n",
      "Epoch 2/2\n",
      "1000/1000 [==============================] - 330s 330ms/step - loss: -0.0352 - accuracy: 0.3810\n",
      "24 of 268 271.37950824896495 45.79529203082952\n",
      "Epoch 1/2\n",
      "1000/1000 [==============================] - 334s 334ms/step - loss: -0.0341 - accuracy: 0.3786\n",
      "Epoch 2/2\n",
      "1000/1000 [==============================] - 336s 336ms/step - loss: -0.0340 - accuracy: 0.3786\n",
      "25 of 268 282.6476461927096 45.600486932664445\n",
      "Epoch 1/2\n",
      "1000/1000 [==============================] - 331s 331ms/step - loss: -0.0356 - accuracy: 0.3822\n",
      "Epoch 2/2\n",
      "1000/1000 [==============================] - 333s 333ms/step - loss: -0.0355 - accuracy: 0.3820\n",
      "26 of 268 293.80606877009075 45.389270894909515\n",
      "Epoch 1/2\n",
      "1000/1000 [==============================] - 335s 335ms/step - loss: -0.0366 - accuracy: 0.3838\n",
      "Epoch 2/2\n",
      " 485/1000 [=============>................] - ETA: 2:49 - loss: -0.0344 - accuracy: 0.3827"
     ]
    },
    {
     "name": "stderr",
     "output_type": "stream",
     "text": [
      "IOPub message rate exceeded.\n",
      "The notebook server will temporarily stop sending output\n",
      "to the client in order to avoid crashing it.\n",
      "To change this limit, set the config variable\n",
      "`--NotebookApp.iopub_msg_rate_limit`.\n",
      "\n",
      "Current values:\n",
      "NotebookApp.iopub_msg_rate_limit=1000.0 (msgs/sec)\n",
      "NotebookApp.rate_limit_window=3.0 (secs)\n",
      "\n"
     ]
    },
    {
     "name": "stdout",
     "output_type": "stream",
     "text": [
      "1000/1000 [==============================] - 337s 337ms/step - loss: -0.0344 - accuracy: 0.3793\n",
      "28 of 268 316.318430741628 45.000062479509246\n",
      "Epoch 1/2\n",
      "1000/1000 [==============================] - 333s 333ms/step - loss: -0.0334 - accuracy: 0.3820\n",
      "Epoch 2/2\n",
      "1000/1000 [==============================] - 333s 333ms/step - loss: -0.0335 - accuracy: 0.3820\n",
      "29 of 268 327.5477195382118 44.80250417447639\n",
      "Epoch 1/2\n",
      "1000/1000 [==============================] - 333s 333ms/step - loss: -0.0340 - accuracy: 0.3804\n",
      "Epoch 2/2\n",
      "1000/1000 [==============================] - 329s 329ms/step - loss: -0.0338 - accuracy: 0.3802\n",
      "30 of 268 338.6815383036931 44.59306921952964\n",
      "Epoch 1/2\n",
      "1000/1000 [==============================] - 338s 338ms/step - loss: -0.0344 - accuracy: 0.3810\n",
      "Epoch 2/2\n",
      "1000/1000 [==============================] - 341s 341ms/step - loss: -0.0344 - accuracy: 0.3810\n",
      "31 of 268 350.10967006285983 44.42251729844718\n",
      "Epoch 1/2\n",
      "1000/1000 [==============================] - 340s 340ms/step - loss: -0.0339 - accuracy: 0.3795\n",
      "Epoch 2/2\n",
      "1000/1000 [==============================] - 344s 344ms/step - loss: -0.0339 - accuracy: 0.3794\n",
      "32 of 268 361.62882203261057 44.26186104095437\n",
      "Epoch 1/2\n",
      "1000/1000 [==============================] - 339s 339ms/step - loss: -0.0353 - accuracy: 0.3788\n",
      "Epoch 2/2\n",
      "1000/1000 [==============================] - 336s 336ms/step - loss: -0.0351 - accuracy: 0.3786\n",
      "33 of 268 372.9963386297226 44.08138548120103\n",
      "Epoch 1/2\n",
      "1000/1000 [==============================] - 338s 338ms/step - loss: -0.0343 - accuracy: 0.3797\n",
      "Epoch 2/2\n",
      "1000/1000 [==============================] - 341s 341ms/step - loss: -0.0343 - accuracy: 0.3798\n",
      "34 of 268 384.4195011695226 43.90673715446315\n",
      "Epoch 1/2\n",
      "1000/1000 [==============================] - 338s 338ms/step - loss: -0.0332 - accuracy: 0.3794\n",
      "Epoch 2/2\n",
      " 641/1000 [==================>...........] - ETA: 1:58 - loss: -0.0328 - accuracy: 0.3797"
     ]
    },
    {
     "name": "stderr",
     "output_type": "stream",
     "text": [
      "IOPub message rate exceeded.\n",
      "The notebook server will temporarily stop sending output\n",
      "to the client in order to avoid crashing it.\n",
      "To change this limit, set the config variable\n",
      "`--NotebookApp.iopub_msg_rate_limit`.\n",
      "\n",
      "Current values:\n",
      "NotebookApp.iopub_msg_rate_limit=1000.0 (msgs/sec)\n",
      "NotebookApp.rate_limit_window=3.0 (secs)\n",
      "\n"
     ]
    },
    {
     "name": "stdout",
     "output_type": "stream",
     "text": [
      "1000/1000 [==============================] - 332s 332ms/step - loss: -0.0335 - accuracy: 0.3795\n",
      "Epoch 2/2\n",
      "1000/1000 [==============================] - 345s 345ms/step - loss: -0.0335 - accuracy: 0.3795\n",
      "37 of 268 418.2961110472679 43.33698449833614\n",
      "Epoch 1/2\n",
      "1000/1000 [==============================] - 336s 336ms/step - loss: -0.0333 - accuracy: 0.3782\n",
      "Epoch 2/2\n",
      " 256/1000 [======>.......................] - ETA: 4:08 - loss: -0.0329 - accuracy: 0.3763"
     ]
    },
    {
     "name": "stderr",
     "output_type": "stream",
     "text": [
      "IOPub message rate exceeded.\n",
      "The notebook server will temporarily stop sending output\n",
      "to the client in order to avoid crashing it.\n",
      "To change this limit, set the config variable\n",
      "`--NotebookApp.iopub_msg_rate_limit`.\n",
      "\n",
      "Current values:\n",
      "NotebookApp.iopub_msg_rate_limit=1000.0 (msgs/sec)\n",
      "NotebookApp.rate_limit_window=3.0 (secs)\n",
      "\n"
     ]
    },
    {
     "name": "stdout",
     "output_type": "stream",
     "text": [
      "1000/1000 [==============================] - 333s 333ms/step - loss: -0.0324 - accuracy: 0.3785\n",
      "39 of 268 440.85323236385983 42.95493033797822\n",
      "Epoch 1/2\n",
      "1000/1000 [==============================] - 334s 333ms/step - loss: -0.0321 - accuracy: 0.3761\n",
      "Epoch 2/2\n",
      "1000/1000 [==============================] - 338s 338ms/step - loss: -0.0319 - accuracy: 0.3759\n",
      "40 of 268 452.13778704007467 42.76469903406833\n",
      "Epoch 1/2\n",
      " 846/1000 [========================>.....] - ETA: 51s - loss: -0.0331 - accuracy: 0.3791"
     ]
    },
    {
     "name": "stderr",
     "output_type": "stream",
     "text": [
      "IOPub message rate exceeded.\n",
      "The notebook server will temporarily stop sending output\n",
      "to the client in order to avoid crashing it.\n",
      "To change this limit, set the config variable\n",
      "`--NotebookApp.iopub_msg_rate_limit`.\n",
      "\n",
      "Current values:\n",
      "NotebookApp.iopub_msg_rate_limit=1000.0 (msgs/sec)\n",
      "NotebookApp.rate_limit_window=3.0 (secs)\n",
      "\n"
     ]
    },
    {
     "name": "stdout",
     "output_type": "stream",
     "text": [
      "1000/1000 [==============================] - 335s 335ms/step - loss: -0.0304 - accuracy: 0.3748\n",
      "42 of 268 474.63103036880494 42.37777057707309\n",
      "Epoch 1/2\n",
      "1000/1000 [==============================] - 332s 332ms/step - loss: -0.0298 - accuracy: 0.3753\n",
      "Epoch 2/2\n",
      "1000/1000 [==============================] - 339s 339ms/step - loss: -0.0299 - accuracy: 0.3754\n",
      "43 of 268 485.9128108859062 42.187778936410446\n",
      "Epoch 1/2\n",
      "  33/1000 [..............................] - ETA: 5:12 - loss: -0.0303 - accuracy: 0.3893"
     ]
    },
    {
     "name": "stderr",
     "output_type": "stream",
     "text": [
      "IOPub message rate exceeded.\n",
      "The notebook server will temporarily stop sending output\n",
      "to the client in order to avoid crashing it.\n",
      "To change this limit, set the config variable\n",
      "`--NotebookApp.iopub_msg_rate_limit`.\n",
      "\n",
      "Current values:\n",
      "NotebookApp.iopub_msg_rate_limit=1000.0 (msgs/sec)\n",
      "NotebookApp.rate_limit_window=3.0 (secs)\n",
      "\n"
     ]
    },
    {
     "name": "stdout",
     "output_type": "stream",
     "text": [
      "1000/1000 [==============================] - 326s 325ms/step - loss: -0.0312 - accuracy: 0.3788\n",
      "Epoch 2/2\n",
      "1000/1000 [==============================] - 329s 329ms/step - loss: -0.0311 - accuracy: 0.3788\n",
      "45 of 268 508.24661492506664 41.78916612187138\n",
      "Epoch 1/2\n",
      "1000/1000 [==============================] - 325s 325ms/step - loss: -0.0310 - accuracy: 0.3769\n",
      "Epoch 2/2\n",
      " 583/1000 [================>.............] - ETA: 2:17 - loss: -0.0301 - accuracy: 0.3769"
     ]
    },
    {
     "name": "stderr",
     "output_type": "stream",
     "text": [
      "IOPub message rate exceeded.\n",
      "The notebook server will temporarily stop sending output\n",
      "to the client in order to avoid crashing it.\n",
      "To change this limit, set the config variable\n",
      "`--NotebookApp.iopub_msg_rate_limit`.\n",
      "\n",
      "Current values:\n",
      "NotebookApp.iopub_msg_rate_limit=1000.0 (msgs/sec)\n",
      "NotebookApp.rate_limit_window=3.0 (secs)\n",
      "\n"
     ]
    },
    {
     "name": "stdout",
     "output_type": "stream",
     "text": [
      "1000/1000 [==============================] - 332s 332ms/step - loss: -0.0304 - accuracy: 0.3759\n",
      "Epoch 2/2\n",
      "1000/1000 [==============================] - 332s 332ms/step - loss: -0.0297 - accuracy: 0.3751\n",
      "48 of 268 541.6056706309319 41.18459787781454\n",
      "Epoch 1/2\n",
      "1000/1000 [==============================] - 334s 334ms/step - loss: -0.0307 - accuracy: 0.3772\n",
      "Epoch 2/2\n",
      " 378/1000 [==========>...................] - ETA: 3:38 - loss: -0.0313 - accuracy: 0.3787"
     ]
    },
    {
     "name": "stderr",
     "output_type": "stream",
     "text": [
      "IOPub message rate exceeded.\n",
      "The notebook server will temporarily stop sending output\n",
      "to the client in order to avoid crashing it.\n",
      "To change this limit, set the config variable\n",
      "`--NotebookApp.iopub_msg_rate_limit`.\n",
      "\n",
      "Current values:\n",
      "NotebookApp.iopub_msg_rate_limit=1000.0 (msgs/sec)\n",
      "NotebookApp.rate_limit_window=3.0 (secs)\n",
      "\n"
     ]
    },
    {
     "name": "stdout",
     "output_type": "stream",
     "text": [
      "1000/1000 [==============================] - 334s 334ms/step - loss: -0.0305 - accuracy: 0.3742\n",
      "Epoch 2/2\n",
      "1000/1000 [==============================] - 336s 336ms/step - loss: -0.0303 - accuracy: 0.3740\n",
      "51 of 268 575.3609174132347 40.6137118208681\n",
      "Epoch 1/2\n",
      "1000/1000 [==============================] - 327s 327ms/step - loss: -0.0313 - accuracy: 0.3754\n",
      "Epoch 2/2\n",
      " 180/1000 [====>.........................] - ETA: 4:34 - loss: -0.0295 - accuracy: 0.3703"
     ]
    },
    {
     "name": "stderr",
     "output_type": "stream",
     "text": [
      "IOPub message rate exceeded.\n",
      "The notebook server will temporarily stop sending output\n",
      "to the client in order to avoid crashing it.\n",
      "To change this limit, set the config variable\n",
      "`--NotebookApp.iopub_msg_rate_limit`.\n",
      "\n",
      "Current values:\n",
      "NotebookApp.iopub_msg_rate_limit=1000.0 (msgs/sec)\n",
      "NotebookApp.rate_limit_window=3.0 (secs)\n",
      "\n"
     ]
    },
    {
     "name": "stdout",
     "output_type": "stream",
     "text": [
      "1000/1000 [==============================] - 328s 328ms/step - loss: -0.0283 - accuracy: 0.3728\n",
      "53 of 268 597.5308717926343 40.211197036533484\n",
      "Epoch 1/2\n",
      "1000/1000 [==============================] - 327s 327ms/step - loss: -0.0319 - accuracy: 0.3773\n",
      "Epoch 2/2\n",
      "1000/1000 [==============================] - 333s 333ms/step - loss: -0.0318 - accuracy: 0.3773\n",
      "54 of 268 608.6181954542795 40.01101100235074\n",
      "Epoch 1/2\n",
      " 455/1000 [============>.................] - ETA: 3:01 - loss: -0.0301 - accuracy: 0.3768"
     ]
    },
    {
     "name": "stderr",
     "output_type": "stream",
     "text": [
      "IOPub message rate exceeded.\n",
      "The notebook server will temporarily stop sending output\n",
      "to the client in order to avoid crashing it.\n",
      "To change this limit, set the config variable\n",
      "`--NotebookApp.iopub_msg_rate_limit`.\n",
      "\n",
      "Current values:\n",
      "NotebookApp.iopub_msg_rate_limit=1000.0 (msgs/sec)\n",
      "NotebookApp.rate_limit_window=3.0 (secs)\n",
      "\n"
     ]
    },
    {
     "name": "stdout",
     "output_type": "stream",
     "text": [
      "1000/1000 [==============================] - 324s 324ms/step - loss: -0.0293 - accuracy: 0.3764\n",
      "56 of 268 630.8272254427274 39.614447793377536\n",
      "Epoch 1/2\n",
      "1000/1000 [==============================] - 337s 337ms/step - loss: -0.0294 - accuracy: 0.3747\n",
      "Epoch 2/2\n",
      "1000/1000 [==============================] - 339s 339ms/step - loss: -0.0294 - accuracy: 0.3746\n",
      "57 of 268 642.1818404992422 39.43221827942029\n",
      "Epoch 1/2\n",
      " 205/1000 [=====>........................] - ETA: 4:31 - loss: -0.0279 - accuracy: 0.3750"
     ]
    },
    {
     "name": "stderr",
     "output_type": "stream",
     "text": [
      "IOPub message rate exceeded.\n",
      "The notebook server will temporarily stop sending output\n",
      "to the client in order to avoid crashing it.\n",
      "To change this limit, set the config variable\n",
      "`--NotebookApp.iopub_msg_rate_limit`.\n",
      "\n",
      "Current values:\n",
      "NotebookApp.iopub_msg_rate_limit=1000.0 (msgs/sec)\n",
      "NotebookApp.rate_limit_window=3.0 (secs)\n",
      "\n"
     ]
    },
    {
     "name": "stdout",
     "output_type": "stream",
     "text": [
      "1000/1000 [==============================] - 341s 341ms/step - loss: -0.0314 - accuracy: 0.3768\n",
      "Epoch 2/2\n",
      "1000/1000 [==============================] - 332s 332ms/step - loss: -0.0310 - accuracy: 0.3765\n",
      "59 of 268 664.8850362022717 39.066691396181426\n",
      "Epoch 1/2\n",
      "1000/1000 [==============================] - 331s 330ms/step - loss: -0.0274 - accuracy: 0.3740\n",
      "Epoch 2/2\n",
      " 890/1000 [=========================>....] - ETA: 36s - loss: -0.0266 - accuracy: 0.3731"
     ]
    },
    {
     "name": "stderr",
     "output_type": "stream",
     "text": [
      "IOPub message rate exceeded.\n",
      "The notebook server will temporarily stop sending output\n",
      "to the client in order to avoid crashing it.\n",
      "To change this limit, set the config variable\n",
      "`--NotebookApp.iopub_msg_rate_limit`.\n",
      "\n",
      "Current values:\n",
      "NotebookApp.iopub_msg_rate_limit=1000.0 (msgs/sec)\n",
      "NotebookApp.rate_limit_window=3.0 (secs)\n",
      "\n"
     ]
    },
    {
     "name": "stdout",
     "output_type": "stream",
     "text": [
      "1000/1000 [==============================] - 346s 346ms/step - loss: -0.0279 - accuracy: 0.3719\n",
      "Epoch 2/2\n",
      "1000/1000 [==============================] - 336s 336ms/step - loss: -0.0294 - accuracy: 0.3735\n",
      "62 of 268 698.7144554336866 38.50442564127907\n",
      "Epoch 1/2\n",
      "1000/1000 [==============================] - 339s 339ms/step - loss: -0.0296 - accuracy: 0.3754\n",
      "Epoch 2/2\n",
      " 681/1000 [===================>..........] - ETA: 1:49 - loss: -0.0299 - accuracy: 0.3771"
     ]
    },
    {
     "name": "stderr",
     "output_type": "stream",
     "text": [
      "IOPub message rate exceeded.\n",
      "The notebook server will temporarily stop sending output\n",
      "to the client in order to avoid crashing it.\n",
      "To change this limit, set the config variable\n",
      "`--NotebookApp.iopub_msg_rate_limit`.\n",
      "\n",
      "Current values:\n",
      "NotebookApp.iopub_msg_rate_limit=1000.0 (msgs/sec)\n",
      "NotebookApp.rate_limit_window=3.0 (secs)\n",
      "\n"
     ]
    },
    {
     "name": "stdout",
     "output_type": "stream",
     "text": [
      "1000/1000 [==============================] - 338s 338ms/step - loss: -0.0302 - accuracy: 0.3759\n",
      "64 of 268 721.6901900450389 38.151851200004\n",
      "Epoch 1/2\n",
      "1000/1000 [==============================] - 338s 338ms/step - loss: -0.0296 - accuracy: 0.3748\n",
      "Epoch 2/2\n",
      "1000/1000 [==============================] - 332s 332ms/step - loss: -0.0302 - accuracy: 0.3755\n",
      "65 of 268 732.9512048681577 37.96311369718649\n",
      "Epoch 1/2\n",
      " 804/1000 [=======================>......] - ETA: 1:06 - loss: -0.0281 - accuracy: 0.3746"
     ]
    },
    {
     "name": "stderr",
     "output_type": "stream",
     "text": [
      "IOPub message rate exceeded.\n",
      "The notebook server will temporarily stop sending output\n",
      "to the client in order to avoid crashing it.\n",
      "To change this limit, set the config variable\n",
      "`--NotebookApp.iopub_msg_rate_limit`.\n",
      "\n",
      "Current values:\n",
      "NotebookApp.iopub_msg_rate_limit=1000.0 (msgs/sec)\n",
      "NotebookApp.rate_limit_window=3.0 (secs)\n",
      "\n"
     ]
    },
    {
     "name": "stdout",
     "output_type": "stream",
     "text": [
      "1000/1000 [==============================] - 340s 340ms/step - loss: -0.0304 - accuracy: 0.3760\n",
      "67 of 268 755.5115949869156 37.587641544469555\n",
      "Epoch 1/2\n",
      "1000/1000 [==============================] - 331s 331ms/step - loss: -0.0293 - accuracy: 0.3742\n",
      "Epoch 2/2\n",
      "1000/1000 [==============================] - 343s 343ms/step - loss: -0.0305 - accuracy: 0.3755\n",
      "68 of 268 766.8409030914306 37.40228915013519\n",
      "Epoch 1/2\n",
      " 437/1000 [============>.................] - ETA: 3:09 - loss: -0.0319 - accuracy: 0.3778"
     ]
    },
    {
     "name": "stderr",
     "output_type": "stream",
     "text": [
      "IOPub message rate exceeded.\n",
      "The notebook server will temporarily stop sending output\n",
      "to the client in order to avoid crashing it.\n",
      "To change this limit, set the config variable\n",
      "`--NotebookApp.iopub_msg_rate_limit`.\n",
      "\n",
      "Current values:\n",
      "NotebookApp.iopub_msg_rate_limit=1000.0 (msgs/sec)\n",
      "NotebookApp.rate_limit_window=3.0 (secs)\n",
      "\n"
     ]
    },
    {
     "name": "stdout",
     "output_type": "stream",
     "text": [
      "1000/1000 [==============================] - 330s 330ms/step - loss: -0.0289 - accuracy: 0.3745\n",
      "70 of 268 789.4462977647781 37.02879063664921\n",
      "Epoch 1/2\n",
      "1000/1000 [==============================] - 341s 341ms/step - loss: -0.0285 - accuracy: 0.3731\n",
      "Epoch 2/2\n",
      "1000/1000 [==============================] - 341s 341ms/step - loss: -0.0282 - accuracy: 0.3727\n",
      "71 of 268 800.9116735816002 36.84945728711306\n",
      "Epoch 1/2\n",
      "  92/1000 [=>............................] - ETA: 5:09 - loss: -0.0333 - accuracy: 0.3780"
     ]
    },
    {
     "name": "stderr",
     "output_type": "stream",
     "text": [
      "IOPub message rate exceeded.\n",
      "The notebook server will temporarily stop sending output\n",
      "to the client in order to avoid crashing it.\n",
      "To change this limit, set the config variable\n",
      "`--NotebookApp.iopub_msg_rate_limit`.\n",
      "\n",
      "Current values:\n",
      "NotebookApp.iopub_msg_rate_limit=1000.0 (msgs/sec)\n",
      "NotebookApp.rate_limit_window=3.0 (secs)\n",
      "\n"
     ]
    },
    {
     "name": "stdout",
     "output_type": "stream",
     "text": [
      "1000/1000 [==============================] - 338s 338ms/step - loss: -0.0323 - accuracy: 0.3773\n",
      "Epoch 2/2\n",
      "1000/1000 [==============================] - 340s 339ms/step - loss: -0.0313 - accuracy: 0.3762\n",
      "73 of 268 823.6300270954767 36.48041672996099\n",
      "Epoch 1/2\n",
      "1000/1000 [==============================] - 344s 344ms/step - loss: -0.0321 - accuracy: 0.3774\n",
      "Epoch 2/2\n",
      " 868/1000 [=========================>....] - ETA: 44s - loss: -0.0333 - accuracy: 0.3781"
     ]
    },
    {
     "name": "stderr",
     "output_type": "stream",
     "text": [
      "IOPub message rate exceeded.\n",
      "The notebook server will temporarily stop sending output\n",
      "to the client in order to avoid crashing it.\n",
      "To change this limit, set the config variable\n",
      "`--NotebookApp.iopub_msg_rate_limit`.\n",
      "\n",
      "Current values:\n",
      "NotebookApp.iopub_msg_rate_limit=1000.0 (msgs/sec)\n",
      "NotebookApp.rate_limit_window=3.0 (secs)\n",
      "\n"
     ]
    },
    {
     "name": "stdout",
     "output_type": "stream",
     "text": [
      "1000/1000 [==============================] - 342s 341ms/step - loss: -0.0336 - accuracy: 0.3813\n",
      "Epoch 2/2\n",
      "1000/1000 [==============================] - 335s 336ms/step - loss: -0.0338 - accuracy: 0.3816\n",
      "76 of 268 857.5827196637789 35.92067970847962\n",
      "Epoch 1/2\n",
      "1000/1000 [==============================] - 339s 339ms/step - loss: -0.0358 - accuracy: 0.3821\n",
      "Epoch 2/2\n",
      " 594/1000 [================>.............] - ETA: 2:17 - loss: -0.0354 - accuracy: 0.3827"
     ]
    },
    {
     "name": "stderr",
     "output_type": "stream",
     "text": [
      "IOPub message rate exceeded.\n",
      "The notebook server will temporarily stop sending output\n",
      "to the client in order to avoid crashing it.\n",
      "To change this limit, set the config variable\n",
      "`--NotebookApp.iopub_msg_rate_limit`.\n",
      "\n",
      "Current values:\n",
      "NotebookApp.iopub_msg_rate_limit=1000.0 (msgs/sec)\n",
      "NotebookApp.rate_limit_window=3.0 (secs)\n",
      "\n"
     ]
    },
    {
     "name": "stdout",
     "output_type": "stream",
     "text": [
      "1000/1000 [==============================] - 341s 341ms/step - loss: -0.0333 - accuracy: 0.3803\n",
      "78 of 268 880.4607028961182 35.55706685150281\n",
      "Epoch 1/2\n",
      "1000/1000 [==============================] - 339s 339ms/step - loss: -0.0340 - accuracy: 0.3797\n",
      "Epoch 2/2\n",
      " 941/1000 [===========================>..] - ETA: 20s - loss: -0.0342 - accuracy: 0.3806"
     ]
    },
    {
     "name": "stderr",
     "output_type": "stream",
     "text": [
      "IOPub message rate exceeded.\n",
      "The notebook server will temporarily stop sending output\n",
      "to the client in order to avoid crashing it.\n",
      "To change this limit, set the config variable\n",
      "`--NotebookApp.iopub_msg_rate_limit`.\n",
      "\n",
      "Current values:\n",
      "NotebookApp.iopub_msg_rate_limit=1000.0 (msgs/sec)\n",
      "NotebookApp.rate_limit_window=3.0 (secs)\n",
      "\n"
     ]
    },
    {
     "name": "stdout",
     "output_type": "stream",
     "text": [
      "1000/1000 [==============================] - 344s 344ms/step - loss: -0.0374 - accuracy: 0.4118\n",
      "Epoch 2/2\n",
      "1000/1000 [==============================] - 337s 337ms/step - loss: -0.0369 - accuracy: 0.4114\n",
      "81 of 268 914.4611688137054 34.997896586700726\n",
      "Epoch 1/2\n",
      "1000/1000 [==============================] - 333s 333ms/step - loss: -0.0371 - accuracy: 0.4095\n",
      "Epoch 2/2\n",
      " 563/1000 [===============>..............] - ETA: 2:25 - loss: -0.0389 - accuracy: 0.4097"
     ]
    },
    {
     "name": "stderr",
     "output_type": "stream",
     "text": [
      "IOPub message rate exceeded.\n",
      "The notebook server will temporarily stop sending output\n",
      "to the client in order to avoid crashing it.\n",
      "To change this limit, set the config variable\n",
      "`--NotebookApp.iopub_msg_rate_limit`.\n",
      "\n",
      "Current values:\n",
      "NotebookApp.iopub_msg_rate_limit=1000.0 (msgs/sec)\n",
      "NotebookApp.rate_limit_window=3.0 (secs)\n",
      "\n"
     ]
    },
    {
     "name": "stdout",
     "output_type": "stream",
     "text": [
      "1000/1000 [==============================] - 331s 331ms/step - loss: -0.0350 - accuracy: 0.4093\n",
      "83 of 268 936.9386945883433 34.617815223822156\n",
      "Epoch 1/2\n",
      "1000/1000 [==============================] - 339s 339ms/step - loss: -0.0340 - accuracy: 0.4078\n",
      "Epoch 2/2\n",
      "1000/1000 [==============================] - 339s 339ms/step - loss: -0.0339 - accuracy: 0.4075\n",
      "84 of 268 948.310743077596 34.432711507458066\n",
      "Epoch 1/2\n",
      " 911/1000 [==========================>...] - ETA: 30s - loss: -0.0359 - accuracy: 0.4090"
     ]
    },
    {
     "name": "stderr",
     "output_type": "stream",
     "text": [
      "IOPub message rate exceeded.\n",
      "The notebook server will temporarily stop sending output\n",
      "to the client in order to avoid crashing it.\n",
      "To change this limit, set the config variable\n",
      "`--NotebookApp.iopub_msg_rate_limit`.\n",
      "\n",
      "Current values:\n",
      "NotebookApp.iopub_msg_rate_limit=1000.0 (msgs/sec)\n",
      "NotebookApp.rate_limit_window=3.0 (secs)\n",
      "\n"
     ]
    },
    {
     "name": "stdout",
     "output_type": "stream",
     "text": [
      "1000/1000 [==============================] - 335s 335ms/step - loss: -0.0338 - accuracy: 0.4057\n",
      "86 of 268 970.817479177316 34.05386894664715\n",
      "Epoch 1/2\n",
      "1000/1000 [==============================] - 332s 332ms/step - loss: -0.0344 - accuracy: 0.4077\n",
      "Epoch 2/2\n",
      "1000/1000 [==============================] - 331s 331ms/step - loss: -0.0346 - accuracy: 0.4080\n",
      "87 of 268 981.9471739888191 33.86024738106006\n",
      "Epoch 1/2\n",
      " 521/1000 [==============>...............] - ETA: 2:38 - loss: -0.0340 - accuracy: 0.4085"
     ]
    },
    {
     "name": "stderr",
     "output_type": "stream",
     "text": [
      "IOPub message rate exceeded.\n",
      "The notebook server will temporarily stop sending output\n",
      "to the client in order to avoid crashing it.\n",
      "To change this limit, set the config variable\n",
      "`--NotebookApp.iopub_msg_rate_limit`.\n",
      "\n",
      "Current values:\n",
      "NotebookApp.iopub_msg_rate_limit=1000.0 (msgs/sec)\n",
      "NotebookApp.rate_limit_window=3.0 (secs)\n",
      "\n"
     ]
    },
    {
     "name": "stdout",
     "output_type": "stream",
     "text": [
      "1000/1000 [==============================] - 334s 334ms/step - loss: -0.0351 - accuracy: 0.4061\n",
      "89 of 268 1004.4685119072597 33.482283731963896\n",
      "Epoch 1/2\n",
      "1000/1000 [==============================] - 333s 333ms/step - loss: -0.0334 - accuracy: 0.4059\n",
      "Epoch 2/2\n",
      "1000/1000 [==============================] - 338s 338ms/step - loss: -0.0332 - accuracy: 0.4055\n",
      "90 of 268 1015.734030298392 33.29350432826634\n",
      "Epoch 1/2\n",
      " 119/1000 [==>...........................] - ETA: 4:42 - loss: -0.0297 - accuracy: 0.3997"
     ]
    },
    {
     "name": "stderr",
     "output_type": "stream",
     "text": [
      "IOPub message rate exceeded.\n",
      "The notebook server will temporarily stop sending output\n",
      "to the client in order to avoid crashing it.\n",
      "To change this limit, set the config variable\n",
      "`--NotebookApp.iopub_msg_rate_limit`.\n",
      "\n",
      "Current values:\n",
      "NotebookApp.iopub_msg_rate_limit=1000.0 (msgs/sec)\n",
      "NotebookApp.rate_limit_window=3.0 (secs)\n",
      "\n"
     ]
    },
    {
     "name": "stdout",
     "output_type": "stream",
     "text": [
      "1000/1000 [==============================] - 333s 333ms/step - loss: -0.0331 - accuracy: 0.4065\n",
      "Epoch 2/2\n",
      "1000/1000 [==============================] - 331s 331ms/step - loss: -0.0316 - accuracy: 0.4041\n",
      "92 of 268 1038.2525842229525 32.915616355313055\n",
      "Epoch 1/2\n",
      "1000/1000 [==============================] - 327s 327ms/step - loss: -0.0299 - accuracy: 0.3987\n",
      "Epoch 2/2\n",
      " 766/1000 [=====================>........] - ETA: 1:16 - loss: -0.0255 - accuracy: 0.3918"
     ]
    },
    {
     "name": "stderr",
     "output_type": "stream",
     "text": [
      "IOPub message rate exceeded.\n",
      "The notebook server will temporarily stop sending output\n",
      "to the client in order to avoid crashing it.\n",
      "To change this limit, set the config variable\n",
      "`--NotebookApp.iopub_msg_rate_limit`.\n",
      "\n",
      "Current values:\n",
      "NotebookApp.iopub_msg_rate_limit=1000.0 (msgs/sec)\n",
      "NotebookApp.rate_limit_window=3.0 (secs)\n",
      "\n"
     ]
    },
    {
     "name": "stdout",
     "output_type": "stream",
     "text": [
      "1000/1000 [==============================] - 336s 336ms/step - loss: -0.0033 - accuracy: 0.3562\n",
      "Epoch 2/2\n",
      "1000/1000 [==============================] - 340s 340ms/step - loss: -0.0019 - accuracy: 0.3544\n",
      "95 of 268 1072.0887285391489 32.35074760127695\n",
      "Epoch 1/2\n",
      "1000/1000 [==============================] - 342s 342ms/step - loss: 4.1712e-04 - accuracy: 0.3531\n",
      "Epoch 2/2\n",
      " 335/1000 [=========>....................] - ETA: 3:46 - loss: -9.8712e-04 - accuracy: 0.3541"
     ]
    },
    {
     "name": "stderr",
     "output_type": "stream",
     "text": [
      "IOPub message rate exceeded.\n",
      "The notebook server will temporarily stop sending output\n",
      "to the client in order to avoid crashing it.\n",
      "To change this limit, set the config variable\n",
      "`--NotebookApp.iopub_msg_rate_limit`.\n",
      "\n",
      "Current values:\n",
      "NotebookApp.iopub_msg_rate_limit=1000.0 (msgs/sec)\n",
      "NotebookApp.rate_limit_window=3.0 (secs)\n",
      "\n"
     ]
    },
    {
     "name": "stdout",
     "output_type": "stream",
     "text": [
      "1000/1000 [==============================] - 336s 336ms/step - loss: -1.4260e-04 - accuracy: 0.3534\n",
      "97 of 268 1094.7250074068704 31.976503654138053\n",
      "Epoch 1/2\n",
      "1000/1000 [==============================] - 334s 334ms/step - loss: 4.9084e-04 - accuracy: 0.3530\n",
      "Epoch 2/2\n",
      "1000/1000 [==============================] - 332s 332ms/step - loss: 5.5100e-04 - accuracy: 0.3529\n",
      "98 of 268 1105.8974527994792 31.785147880147512\n",
      "Epoch 1/2\n",
      " 300/1000 [========>.....................] - ETA: 3:43 - loss: 4.6629e-04 - accuracy: 0.3525"
     ]
    },
    {
     "name": "stderr",
     "output_type": "stream",
     "text": [
      "IOPub message rate exceeded.\n",
      "The notebook server will temporarily stop sending output\n",
      "to the client in order to avoid crashing it.\n",
      "To change this limit, set the config variable\n",
      "`--NotebookApp.iopub_msg_rate_limit`.\n",
      "\n",
      "Current values:\n",
      "NotebookApp.iopub_msg_rate_limit=1000.0 (msgs/sec)\n",
      "NotebookApp.rate_limit_window=3.0 (secs)\n",
      "\n"
     ]
    },
    {
     "name": "stdout",
     "output_type": "stream",
     "text": [
      "1000/1000 [==============================] - 323s 323ms/step - loss: -0.0013 - accuracy: 0.3535\n",
      "Epoch 2/2\n",
      "1000/1000 [==============================] - 336s 336ms/step - loss: -0.0013 - accuracy: 0.3535\n",
      "100 of 268 1128.0148546179137 31.396413454527988\n",
      "Epoch 1/2\n",
      "1000/1000 [==============================] - 336s 336ms/step - loss: -6.8131e-04 - accuracy: 0.3538\n",
      "Epoch 2/2\n",
      " 962/1000 [===========================>..] - ETA: 12s - loss: 8.4258e-05 - accuracy: 0.3534"
     ]
    },
    {
     "name": "stderr",
     "output_type": "stream",
     "text": [
      "IOPub message rate exceeded.\n",
      "The notebook server will temporarily stop sending output\n",
      "to the client in order to avoid crashing it.\n",
      "To change this limit, set the config variable\n",
      "`--NotebookApp.iopub_msg_rate_limit`.\n",
      "\n",
      "Current values:\n",
      "NotebookApp.iopub_msg_rate_limit=1000.0 (msgs/sec)\n",
      "NotebookApp.rate_limit_window=3.0 (secs)\n",
      "\n"
     ]
    },
    {
     "name": "stdout",
     "output_type": "stream",
     "text": [
      "1000/1000 [==============================] - 331s 331ms/step - loss: -5.2592e-04 - accuracy: 0.3530\n",
      "Epoch 2/2\n",
      "1000/1000 [==============================] - 327s 327ms/step - loss: -5.2592e-04 - accuracy: 0.3530\n",
      "103 of 268 1161.6734944105149 30.827581406831744\n",
      "Epoch 1/2\n",
      "1000/1000 [==============================] - 333s 333ms/step - loss: -2.6744e-04 - accuracy: 0.3530\n",
      "Epoch 2/2\n",
      " 608/1000 [=================>............] - ETA: 2:07 - loss: -8.1817e-05 - accuracy: 0.3532"
     ]
    },
    {
     "name": "stderr",
     "output_type": "stream",
     "text": [
      "IOPub message rate exceeded.\n",
      "The notebook server will temporarily stop sending output\n",
      "to the client in order to avoid crashing it.\n",
      "To change this limit, set the config variable\n",
      "`--NotebookApp.iopub_msg_rate_limit`.\n",
      "\n",
      "Current values:\n",
      "NotebookApp.iopub_msg_rate_limit=1000.0 (msgs/sec)\n",
      "NotebookApp.rate_limit_window=3.0 (secs)\n",
      "\n"
     ]
    },
    {
     "name": "stdout",
     "output_type": "stream",
     "text": [
      "1000/1000 [==============================] - 340s 340ms/step - loss: 0.0019 - accuracy: 0.3523\n",
      "Epoch 2/2\n",
      "1000/1000 [==============================] - 342s 342ms/step - loss: 0.0019 - accuracy: 0.3523\n",
      "106 of 268 1195.365926082929 30.260049388810398\n",
      "Epoch 1/2\n",
      "1000/1000 [==============================] - 337s 337ms/step - loss: 0.0022 - accuracy: 0.3509\n",
      "Epoch 2/2\n",
      " 379/1000 [==========>...................] - ETA: 3:26 - loss: 0.0020 - accuracy: 0.3499"
     ]
    },
    {
     "name": "stderr",
     "output_type": "stream",
     "text": [
      "IOPub message rate exceeded.\n",
      "The notebook server will temporarily stop sending output\n",
      "to the client in order to avoid crashing it.\n",
      "To change this limit, set the config variable\n",
      "`--NotebookApp.iopub_msg_rate_limit`.\n",
      "\n",
      "Current values:\n",
      "NotebookApp.iopub_msg_rate_limit=1000.0 (msgs/sec)\n",
      "NotebookApp.rate_limit_window=3.0 (secs)\n",
      "\n"
     ]
    },
    {
     "name": "stdout",
     "output_type": "stream",
     "text": [
      "1000/1000 [==============================] - 337s 337ms/step - loss: 4.0899e-04 - accuracy: 0.3512\n",
      "Epoch 2/2\n",
      "1000/1000 [==============================] - 338s 338ms/step - loss: 4.0899e-04 - accuracy: 0.3512\n",
      "109 of 268 1229.4410314043364 29.702092197307753\n",
      "Epoch 1/2\n",
      "1000/1000 [==============================] - 337s 337ms/step - loss: 5.4350e-04 - accuracy: 0.3525\n",
      "Epoch 2/2\n",
      "  24/1000 [..............................] - ETA: 5:18 - loss: -0.0142 - accuracy: 0.3549"
     ]
    },
    {
     "name": "stderr",
     "output_type": "stream",
     "text": [
      "IOPub message rate exceeded.\n",
      "The notebook server will temporarily stop sending output\n",
      "to the client in order to avoid crashing it.\n",
      "To change this limit, set the config variable\n",
      "`--NotebookApp.iopub_msg_rate_limit`.\n",
      "\n",
      "Current values:\n",
      "NotebookApp.iopub_msg_rate_limit=1000.0 (msgs/sec)\n",
      "NotebookApp.rate_limit_window=3.0 (secs)\n",
      "\n"
     ]
    },
    {
     "name": "stdout",
     "output_type": "stream",
     "text": [
      "1000/1000 [==============================] - 331s 331ms/step - loss: -2.1157e-04 - accuracy: 0.3537\n",
      "111 of 268 1251.8412502328554 29.32240766408387\n",
      "Epoch 1/2\n",
      "1000/1000 [==============================] - 335s 335ms/step - loss: 4.2028e-04 - accuracy: 0.3533\n",
      "Epoch 2/2\n",
      "1000/1000 [==============================] - 358s 358ms/step - loss: 4.2028e-04 - accuracy: 0.3533\n",
      "112 of 268 1263.4433195988338 29.14192180754174\n",
      "Epoch 1/2\n",
      "1000/1000 [==============================] - 343s 343ms/step - loss: 4.9460e-04 - accuracy: 0.3527\n",
      "Epoch 2/2\n",
      "1000/1000 [==============================] - 343s 343ms/step - loss: 4.9460e-04 - accuracy: 0.3527\n",
      "113 of 268 1274.9293842116992 28.95857303537157\n",
      "Epoch 1/2\n",
      "1000/1000 [==============================] - 328s 328ms/step - loss: 9.4151e-04 - accuracy: 0.3532\n",
      "Epoch 2/2\n",
      "1000/1000 [==============================] - 342s 342ms/step - loss: 9.4151e-04 - accuracy: 0.3532\n",
      "114 of 268 1286.1736437916757 28.769673614578643\n",
      "Epoch 1/2\n",
      "1000/1000 [==============================] - 348s 348ms/step - loss: 0.0017 - accuracy: 0.3523\n",
      "Epoch 2/2\n",
      "1000/1000 [==============================] - 343s 343ms/step - loss: 0.0017 - accuracy: 0.3523\n",
      "115 of 268 1297.7729113141695 28.58862065588621\n",
      "Epoch 1/2\n",
      "1000/1000 [==============================] - 339s 339ms/step - loss: -0.0027 - accuracy: 0.3552\n",
      "Epoch 2/2\n",
      "1000/1000 [==============================] - 337s 337ms/step - loss: -0.0027 - accuracy: 0.3552\n",
      "116 of 268 1309.1072582681975 28.40160862227167\n",
      "Epoch 1/2\n",
      "1000/1000 [==============================] - 340s 340ms/step - loss: -1.6493e-04 - accuracy: 0.3526\n",
      "Epoch 2/2\n",
      "1000/1000 [==============================] - 332s 332ms/step - loss: -1.6493e-04 - accuracy: 0.3526\n",
      "117 of 268 1320.3676007231077 28.212982923008102\n",
      "Epoch 1/2\n",
      "1000/1000 [==============================] - 340s 340ms/step - loss: 1.1979e-04 - accuracy: 0.3538\n",
      "Epoch 2/2\n",
      "1000/1000 [==============================] - 333s 333ms/step - loss: 1.1979e-04 - accuracy: 0.3538\n",
      "118 of 268 1331.6470882217088 28.02477629292932\n",
      "Epoch 1/2\n",
      "1000/1000 [==============================] - 341s 341ms/step - loss: 0.0025 - accuracy: 0.3514\n",
      "Epoch 2/2\n",
      "1000/1000 [==============================] - 341s 341ms/step - loss: 0.0025 - accuracy: 0.3514\n",
      "119 of 268 1343.067617090543 27.839496825519397\n",
      "Epoch 1/2\n",
      "1000/1000 [==============================] - 337s 337ms/step - loss: 3.2431e-04 - accuracy: 0.3528\n",
      "Epoch 2/2\n",
      "1000/1000 [==============================] - 339s 339ms/step - loss: 3.2431e-04 - accuracy: 0.3528\n",
      "120 of 268 1354.392256573836 27.652175239268278\n",
      "Epoch 1/2\n",
      "1000/1000 [==============================] - 330s 330ms/step - loss: -0.0015 - accuracy: 0.3535\n",
      "Epoch 2/2\n",
      "1000/1000 [==============================] - 329s 329ms/step - loss: -0.0015 - accuracy: 0.3535\n",
      "121 of 268 1365.4403736154238 27.459269222268503\n",
      "Epoch 1/2\n",
      "1000/1000 [==============================] - 336s 336ms/step - loss: 0.0025 - accuracy: 0.3511\n",
      "Epoch 2/2\n",
      "1000/1000 [==============================] - 331s 331ms/step - loss: 0.0025 - accuracy: 0.3511\n",
      "122 of 268 1376.6193023880323 27.26909820403612\n",
      "Epoch 1/2\n",
      "1000/1000 [==============================] - 329s 329ms/step - loss: -9.6911e-04 - accuracy: 0.3549\n",
      "Epoch 2/2\n",
      "1000/1000 [==============================] - 336s 336ms/step - loss: -9.6911e-04 - accuracy: 0.3549\n",
      "123 of 268 1387.7601316213609 27.078246472146773\n",
      "Epoch 1/2\n",
      "1000/1000 [==============================] - 339s 339ms/step - loss: -1.4040e-05 - accuracy: 0.3527\n",
      "Epoch 2/2\n",
      "1000/1000 [==============================] - 342s 343ms/step - loss: -1.4039e-05 - accuracy: 0.3527\n",
      "124 of 268 1399.1860876758894 26.89295840839866\n",
      "Epoch 1/2\n",
      "1000/1000 [==============================] - 344s 344ms/step - loss: 7.8611e-04 - accuracy: 0.3522\n",
      "Epoch 2/2\n",
      "1000/1000 [==============================] - 346s 346ms/step - loss: 7.8611e-04 - accuracy: 0.3522\n",
      "125 of 268 1410.7570235093435 26.710332979325184\n",
      "Epoch 1/2\n",
      "1000/1000 [==============================] - 341s 341ms/step - loss: 0.0013 - accuracy: 0.3524\n",
      "Epoch 2/2\n",
      "1000/1000 [==============================] - 344s 344ms/step - loss: 0.0013 - accuracy: 0.3524\n",
      "126 of 268 1422.2510396083196 26.52611066044638\n",
      "Epoch 1/2\n",
      "1000/1000 [==============================] - 338s 338ms/step - loss: 0.0019 - accuracy: 0.3524\n",
      "Epoch 2/2\n",
      "1000/1000 [==============================] - 339s 339ms/step - loss: 0.0019 - accuracy: 0.3524\n",
      "127 of 268 1433.5950890580814 26.339017385331974\n",
      "Epoch 1/2\n",
      "1000/1000 [==============================] - 337s 337ms/step - loss: -0.0011 - accuracy: 0.3537\n",
      "Epoch 2/2\n",
      "1000/1000 [==============================] - 347s 347ms/step - loss: -0.0011 - accuracy: 0.3537\n",
      "128 of 268 1445.077559554577 26.154398540070073\n",
      "Epoch 1/2\n",
      "1000/1000 [==============================] - 339s 339ms/step - loss: -0.0019 - accuracy: 0.3539\n",
      "Epoch 2/2\n",
      "1000/1000 [==============================] - 334s 334ms/step - loss: -0.0019 - accuracy: 0.3539\n",
      "129 of 268 1456.3572269042334 25.966059085216944\n",
      "Epoch 1/2\n",
      "1000/1000 [==============================] - 336s 336ms/step - loss: 6.8495e-04 - accuracy: 0.3516\n",
      "Epoch 2/2\n",
      "1000/1000 [==============================] - 341s 341ms/step - loss: -0.0013 - accuracy: 0.3540\n",
      "Epoch 2/2\n",
      "1000/1000 [==============================] - 343s 343ms/step - loss: -0.0013 - accuracy: 0.3540\n",
      "131 of 268 1479.099834438165 25.592567110994388\n",
      "Epoch 1/2\n",
      "1000/1000 [==============================] - 341s 341ms/step - loss: -9.2450e-04 - accuracy: 0.3525\n",
      "Epoch 2/2\n",
      "1000/1000 [==============================] - 339s 339ms/step - loss: -9.2450e-04 - accuracy: 0.3525\n",
      "132 of 268 1490.485957356294 25.40601063757382\n",
      "Epoch 1/2\n",
      "1000/1000 [==============================] - 344s 344ms/step - loss: 8.1870e-04 - accuracy: 0.3528\n",
      "Epoch 2/2\n",
      "1000/1000 [==============================] - 342s 342ms/step - loss: 8.1870e-04 - accuracy: 0.3528\n",
      "133 of 268 1501.9928508202236 25.221433836967623\n",
      "Epoch 1/2\n",
      "1000/1000 [==============================] - 343s 343ms/step - loss: -7.4258e-04 - accuracy: 0.3542\n",
      "Epoch 2/2\n",
      "1000/1000 [==============================] - 342s 342ms/step - loss: -7.4258e-04 - accuracy: 0.3542\n",
      "134 of 268 1513.4868004600207 25.036535382120565\n",
      "Epoch 1/2\n",
      " 920/1000 [==========================>...] - ETA: 26s - loss: -3.8166e-04 - accuracy: 0.3534"
     ]
    },
    {
     "name": "stderr",
     "output_type": "stream",
     "text": [
      "IOPub message rate exceeded.\n",
      "The notebook server will temporarily stop sending output\n",
      "to the client in order to avoid crashing it.\n",
      "To change this limit, set the config variable\n",
      "`--NotebookApp.iopub_msg_rate_limit`.\n",
      "\n",
      "Current values:\n",
      "NotebookApp.iopub_msg_rate_limit=1000.0 (msgs/sec)\n",
      "NotebookApp.rate_limit_window=3.0 (secs)\n",
      "\n"
     ]
    },
    {
     "name": "stdout",
     "output_type": "stream",
     "text": [
      "1000/1000 [==============================] - 344s 344ms/step - loss: 1.8068e-04 - accuracy: 0.3524\n",
      "136 of 268 1536.3345361193021 24.664194147171436\n",
      "Epoch 1/2\n",
      "1000/1000 [==============================] - 347s 347ms/step - loss: -0.0022 - accuracy: 0.3541\n",
      "Epoch 2/2\n",
      "1000/1000 [==============================] - 340s 340ms/step - loss: -0.0022 - accuracy: 0.3541\n",
      "137 of 268 1547.8551500121753 24.47946101153177\n",
      "Epoch 1/2\n",
      " 573/1000 [================>.............] - ETA: 2:25 - loss: -0.0015 - accuracy: 0.3538"
     ]
    },
    {
     "name": "stderr",
     "output_type": "stream",
     "text": [
      "IOPub message rate exceeded.\n",
      "The notebook server will temporarily stop sending output\n",
      "to the client in order to avoid crashing it.\n",
      "To change this limit, set the config variable\n",
      "`--NotebookApp.iopub_msg_rate_limit`.\n",
      "\n",
      "Current values:\n",
      "NotebookApp.iopub_msg_rate_limit=1000.0 (msgs/sec)\n",
      "NotebookApp.rate_limit_window=3.0 (secs)\n",
      "\n"
     ]
    },
    {
     "name": "stdout",
     "output_type": "stream",
     "text": [
      "1000/1000 [==============================] - 342s 342ms/step - loss: -9.3422e-04 - accuracy: 0.3539\n",
      "Epoch 2/2\n",
      "1000/1000 [==============================] - 343s 343ms/step - loss: -9.3422e-04 - accuracy: 0.3539\n",
      "139 of 268 1570.762783018748 24.10763024404514\n",
      "Epoch 1/2\n",
      "1000/1000 [==============================] - 344s 344ms/step - loss: -7.3276e-04 - accuracy: 0.3529\n",
      "Epoch 2/2\n",
      "1000/1000 [==============================] - 341s 341ms/step - loss: -7.3276e-04 - accuracy: 0.3529\n",
      "140 of 268 1582.231929520766 23.921839887726396\n",
      "Epoch 1/2\n",
      "1000/1000 [==============================] - 325s 325ms/step - loss: 0.0022 - accuracy: 0.3522\n",
      "Epoch 2/2\n",
      "1000/1000 [==============================] - 333s 333ms/step - loss: 0.0022 - accuracy: 0.3522\n",
      "141 of 268 1593.2656536420186 23.729488459047698\n",
      "Epoch 1/2\n",
      "1000/1000 [==============================] - 336s 336ms/step - loss: -0.0011 - accuracy: 0.3530\n",
      "Epoch 2/2\n",
      "1000/1000 [==============================] - 338s 338ms/step - loss: -0.0011 - accuracy: 0.3530\n",
      "142 of 268 1604.5646605014801 23.54114818916075\n",
      "Epoch 1/2\n",
      "1000/1000 [==============================] - 346s 346ms/step - loss: -0.0037 - accuracy: 0.3542\n",
      "Epoch 2/2\n",
      "1000/1000 [==============================] - 342s 342ms/step - loss: -0.0037 - accuracy: 0.3542\n",
      "143 of 268 1616.0775570869446 23.355899427748042\n",
      "Epoch 1/2\n",
      "1000/1000 [==============================] - 347s 347ms/step - loss: -5.8394e-04 - accuracy: 0.3541\n",
      "Epoch 2/2\n",
      "1000/1000 [==============================] - 341s 341ms/step - loss: -5.8394e-04 - accuracy: 0.3541\n",
      "144 of 268 1627.5819973270097 23.170438157068915\n",
      "Epoch 1/2\n",
      "1000/1000 [==============================] - 336s 336ms/step - loss: 5.4754e-04 - accuracy: 0.3522\n",
      "Epoch 2/2\n",
      "1000/1000 [==============================] - 338s 338ms/step - loss: 5.4754e-04 - accuracy: 0.3522\n",
      "145 of 268 1638.8618882258734 22.981741422083644\n",
      "Epoch 1/2\n",
      " 345/1000 [=========>....................] - ETA: 3:39 - loss: -0.0030 - accuracy: 0.3552"
     ]
    },
    {
     "name": "stderr",
     "output_type": "stream",
     "text": [
      "IOPub message rate exceeded.\n",
      "The notebook server will temporarily stop sending output\n",
      "to the client in order to avoid crashing it.\n",
      "To change this limit, set the config variable\n",
      "`--NotebookApp.iopub_msg_rate_limit`.\n",
      "\n",
      "Current values:\n",
      "NotebookApp.iopub_msg_rate_limit=1000.0 (msgs/sec)\n",
      "NotebookApp.rate_limit_window=3.0 (secs)\n",
      "\n"
     ]
    },
    {
     "name": "stdout",
     "output_type": "stream",
     "text": [
      "1000/1000 [==============================] - 339s 339ms/step - loss: 0.0017 - accuracy: 0.3526\n",
      "Epoch 2/2\n",
      "1000/1000 [==============================] - 339s 339ms/step - loss: 0.0017 - accuracy: 0.3526\n",
      "147 of 268 1661.562670036157 22.60629483130513\n",
      "Epoch 1/2\n",
      "1000/1000 [==============================] - 339s 339ms/step - loss: -0.0026 - accuracy: 0.3540\n",
      "Epoch 2/2\n",
      " 484/1000 [=============>................] - ETA: 2:53 - loss: -0.0034 - accuracy: 0.3546"
     ]
    },
    {
     "name": "stderr",
     "output_type": "stream",
     "text": [
      "IOPub message rate exceeded.\n",
      "The notebook server will temporarily stop sending output\n",
      "to the client in order to avoid crashing it.\n",
      "To change this limit, set the config variable\n",
      "`--NotebookApp.iopub_msg_rate_limit`.\n",
      "\n",
      "Current values:\n",
      "NotebookApp.iopub_msg_rate_limit=1000.0 (msgs/sec)\n",
      "NotebookApp.rate_limit_window=3.0 (secs)\n",
      "\n"
     ]
    },
    {
     "name": "stdout",
     "output_type": "stream",
     "text": [
      "1000/1000 [==============================] - 334s 334ms/step - loss: -7.3512e-04 - accuracy: 0.3523\n",
      "Epoch 2/2\n",
      "1000/1000 [==============================] - 339s 339ms/step - loss: -7.3512e-04 - accuracy: 0.3523\n",
      "150 of 268 1695.5412578384082 22.042036352660922\n",
      "Epoch 1/2\n",
      "1000/1000 [==============================] - 339s 339ms/step - loss: 0.0025 - accuracy: 0.3507\n",
      "Epoch 2/2\n",
      " 122/1000 [==>...........................] - ETA: 5:11 - loss: 0.0046 - accuracy: 0.3489"
     ]
    },
    {
     "name": "stderr",
     "output_type": "stream",
     "text": [
      "IOPub message rate exceeded.\n",
      "The notebook server will temporarily stop sending output\n",
      "to the client in order to avoid crashing it.\n",
      "To change this limit, set the config variable\n",
      "`--NotebookApp.iopub_msg_rate_limit`.\n",
      "\n",
      "Current values:\n",
      "NotebookApp.iopub_msg_rate_limit=1000.0 (msgs/sec)\n",
      "NotebookApp.rate_limit_window=3.0 (secs)\n",
      "\n"
     ]
    },
    {
     "name": "stdout",
     "output_type": "stream",
     "text": [
      "1000/1000 [==============================] - 343s 343ms/step - loss: -5.1352e-04 - accuracy: 0.3538\n",
      "152 of 268 1718.4667603453001 21.669262878036026\n",
      "Epoch 1/2\n",
      "1000/1000 [==============================] - 337s 337ms/step - loss: 4.7646e-04 - accuracy: 0.3531\n",
      "Epoch 2/2\n",
      "1000/1000 [==============================] - 338s 338ms/step - loss: 4.7646e-04 - accuracy: 0.3531\n",
      "153 of 268 1729.7567190289496 21.48063899546018\n",
      "Epoch 1/2\n",
      " 777/1000 [======================>.......] - ETA: 1:13 - loss: 0.0023 - accuracy: 0.3514"
     ]
    },
    {
     "name": "stderr",
     "output_type": "stream",
     "text": [
      "IOPub message rate exceeded.\n",
      "The notebook server will temporarily stop sending output\n",
      "to the client in order to avoid crashing it.\n",
      "To change this limit, set the config variable\n",
      "`--NotebookApp.iopub_msg_rate_limit`.\n",
      "\n",
      "Current values:\n",
      "NotebookApp.iopub_msg_rate_limit=1000.0 (msgs/sec)\n",
      "NotebookApp.rate_limit_window=3.0 (secs)\n",
      "\n"
     ]
    },
    {
     "name": "stdout",
     "output_type": "stream",
     "text": [
      "1000/1000 [==============================] - 333s 333ms/step - loss: 5.8623e-04 - accuracy: 0.3530\n",
      "155 of 268 1751.8550494591395 21.097609198770645\n",
      "Epoch 1/2\n",
      "1000/1000 [==============================] - 333s 333ms/step - loss: 1.0740e-04 - accuracy: 0.3541\n",
      "Epoch 2/2\n",
      "1000/1000 [==============================] - 334s 334ms/step - loss: 1.0740e-04 - accuracy: 0.3541\n",
      "156 of 268 1763.031604429086 20.907746591276332\n",
      "Epoch 1/2\n",
      " 394/1000 [==========>...................] - ETA: 3:23 - loss: 8.4468e-04 - accuracy: 0.3529"
     ]
    },
    {
     "name": "stderr",
     "output_type": "stream",
     "text": [
      "IOPub message rate exceeded.\n",
      "The notebook server will temporarily stop sending output\n",
      "to the client in order to avoid crashing it.\n",
      "To change this limit, set the config variable\n",
      "`--NotebookApp.iopub_msg_rate_limit`.\n",
      "\n",
      "Current values:\n",
      "NotebookApp.iopub_msg_rate_limit=1000.0 (msgs/sec)\n",
      "NotebookApp.rate_limit_window=3.0 (secs)\n",
      "\n"
     ]
    },
    {
     "name": "stdout",
     "output_type": "stream",
     "text": [
      "1000/1000 [==============================] - 329s 329ms/step - loss: 3.5647e-04 - accuracy: 0.3533\n",
      "Epoch 2/2\n",
      "1000/1000 [==============================] - 333s 333ms/step - loss: 3.5647e-04 - accuracy: 0.3533\n",
      "158 of 268 1785.1504719138145 20.525464287355394\n",
      "Epoch 1/2\n",
      "1000/1000 [==============================] - 319s 319ms/step - loss: 2.7714e-04 - accuracy: 0.3526\n",
      "Epoch 2/2\n",
      " 478/1000 [=============>................] - ETA: 2:52 - loss: 0.0037 - accuracy: 0.3505"
     ]
    },
    {
     "name": "stderr",
     "output_type": "stream",
     "text": [
      "IOPub message rate exceeded.\n",
      "The notebook server will temporarily stop sending output\n",
      "to the client in order to avoid crashing it.\n",
      "To change this limit, set the config variable\n",
      "`--NotebookApp.iopub_msg_rate_limit`.\n",
      "\n",
      "Current values:\n",
      "NotebookApp.iopub_msg_rate_limit=1000.0 (msgs/sec)\n",
      "NotebookApp.rate_limit_window=3.0 (secs)\n",
      "\n"
     ]
    },
    {
     "name": "stdout",
     "output_type": "stream",
     "text": [
      "1000/1000 [==============================] - 326s 326ms/step - loss: 8.9765e-04 - accuracy: 0.3523\n",
      "Epoch 2/2\n",
      "1000/1000 [==============================] - 331s 331ms/step - loss: 8.9765e-04 - accuracy: 0.3523\n",
      "161 of 268 1818.1008519927661 19.950174981085407\n",
      "Epoch 1/2\n",
      "1000/1000 [==============================] - 335s 335ms/step - loss: 8.8416e-04 - accuracy: 0.3525\n",
      "Epoch 2/2\n",
      " 114/1000 [==>...........................] - ETA: 4:59 - loss: 0.0047 - accuracy: 0.3490"
     ]
    },
    {
     "name": "stderr",
     "output_type": "stream",
     "text": [
      "IOPub message rate exceeded.\n",
      "The notebook server will temporarily stop sending output\n",
      "to the client in order to avoid crashing it.\n",
      "To change this limit, set the config variable\n",
      "`--NotebookApp.iopub_msg_rate_limit`.\n",
      "\n",
      "Current values:\n",
      "NotebookApp.iopub_msg_rate_limit=1000.0 (msgs/sec)\n",
      "NotebookApp.rate_limit_window=3.0 (secs)\n",
      "\n"
     ]
    },
    {
     "name": "stdout",
     "output_type": "stream",
     "text": [
      "1000/1000 [==============================] - 342s 342ms/step - loss: 0.0029 - accuracy: 0.3515\n",
      "163 of 268 1840.5945292870204 19.572784361012065\n",
      "Epoch 1/2\n",
      "1000/1000 [==============================] - 341s 341ms/step - loss: -0.0018 - accuracy: 0.3538\n",
      "Epoch 2/2\n",
      "1000/1000 [==============================] - 332s 332ms/step - loss: -0.0018 - accuracy: 0.3538\n",
      "164 of 268 1851.8694649338722 19.3844059850744\n",
      "Epoch 1/2\n",
      " 746/1000 [=====================>........] - ETA: 1:24 - loss: 0.0015 - accuracy: 0.3528"
     ]
    },
    {
     "name": "stderr",
     "output_type": "stream",
     "text": [
      "IOPub message rate exceeded.\n",
      "The notebook server will temporarily stop sending output\n",
      "to the client in order to avoid crashing it.\n",
      "To change this limit, set the config variable\n",
      "`--NotebookApp.iopub_msg_rate_limit`.\n",
      "\n",
      "Current values:\n",
      "NotebookApp.iopub_msg_rate_limit=1000.0 (msgs/sec)\n",
      "NotebookApp.rate_limit_window=3.0 (secs)\n",
      "\n"
     ]
    },
    {
     "name": "stdout",
     "output_type": "stream",
     "text": [
      "1000/1000 [==============================] - 339s 339ms/step - loss: 0.0010 - accuracy: 0.3530\n",
      "166 of 268 1874.3310764153798 19.006770956112515\n",
      "Epoch 1/2\n",
      "1000/1000 [==============================] - 339s 339ms/step - loss: -0.0019 - accuracy: 0.3539\n",
      "Epoch 2/2\n",
      "1000/1000 [==============================] - 335s 335ms/step - loss: -0.0019 - accuracy: 0.3539\n",
      "167 of 268 1885.6069487015407 18.818432622312386\n",
      "Epoch 1/2\n",
      " 349/1000 [=========>....................] - ETA: 3:40 - loss: -0.0037 - accuracy: 0.3555"
     ]
    },
    {
     "name": "stderr",
     "output_type": "stream",
     "text": [
      "IOPub message rate exceeded.\n",
      "The notebook server will temporarily stop sending output\n",
      "to the client in order to avoid crashing it.\n",
      "To change this limit, set the config variable\n",
      "`--NotebookApp.iopub_msg_rate_limit`.\n",
      "\n",
      "Current values:\n",
      "NotebookApp.iopub_msg_rate_limit=1000.0 (msgs/sec)\n",
      "NotebookApp.rate_limit_window=3.0 (secs)\n",
      "\n"
     ]
    },
    {
     "name": "stdout",
     "output_type": "stream",
     "text": [
      "1000/1000 [==============================] - 334s 334ms/step - loss: 2.9179e-05 - accuracy: 0.3523\n",
      "169 of 268 1908.0849575718244 18.441057775772617\n",
      "Epoch 1/2\n",
      "1000/1000 [==============================] - 328s 328ms/step - loss: 0.0015 - accuracy: 0.3528\n",
      "Epoch 2/2\n",
      "1000/1000 [==============================] - 331s 331ms/step - loss: 0.0015 - accuracy: 0.3528\n",
      "170 of 268 1919.1041216810545 18.250303902703948\n",
      "Epoch 1/2\n",
      "   3/1000 [..............................] - ETA: 5:00 - loss: -0.0274 - accuracy: 0.3730"
     ]
    },
    {
     "name": "stderr",
     "output_type": "stream",
     "text": [
      "IOPub message rate exceeded.\n",
      "The notebook server will temporarily stop sending output\n",
      "to the client in order to avoid crashing it.\n",
      "To change this limit, set the config variable\n",
      "`--NotebookApp.iopub_msg_rate_limit`.\n",
      "\n",
      "Current values:\n",
      "NotebookApp.iopub_msg_rate_limit=1000.0 (msgs/sec)\n",
      "NotebookApp.rate_limit_window=3.0 (secs)\n",
      "\n"
     ]
    },
    {
     "name": "stdout",
     "output_type": "stream",
     "text": [
      "1000/1000 [==============================] - 330s 330ms/step - loss: -0.0027 - accuracy: 0.3534\n",
      "Epoch 2/2\n",
      "1000/1000 [==============================] - 335s 335ms/step - loss: -0.0027 - accuracy: 0.3534\n",
      "172 of 268 1941.4120213707288 17.87152539104031\n",
      "Epoch 1/2\n",
      "1000/1000 [==============================] - 339s 339ms/step - loss: -7.1395e-04 - accuracy: 0.3534\n",
      "Epoch 2/2\n",
      " 663/1000 [==================>...........] - ETA: 1:50 - loss: 4.4160e-05 - accuracy: 0.3532"
     ]
    },
    {
     "name": "stderr",
     "output_type": "stream",
     "text": [
      "IOPub message rate exceeded.\n",
      "The notebook server will temporarily stop sending output\n",
      "to the client in order to avoid crashing it.\n",
      "To change this limit, set the config variable\n",
      "`--NotebookApp.iopub_msg_rate_limit`.\n",
      "\n",
      "Current values:\n",
      "NotebookApp.iopub_msg_rate_limit=1000.0 (msgs/sec)\n",
      "NotebookApp.rate_limit_window=3.0 (secs)\n",
      "\n"
     ]
    },
    {
     "name": "stdout",
     "output_type": "stream",
     "text": [
      "1000/1000 [==============================] - 328s 328ms/step - loss: -0.0021 - accuracy: 0.3548\n",
      "Epoch 2/2\n",
      "1000/1000 [==============================] - 322s 322ms/step - loss: -0.0021 - accuracy: 0.3548\n",
      "175 of 268 1974.6362264593442 17.301574556465003\n",
      "Epoch 1/2\n",
      "1000/1000 [==============================] - 329s 329ms/step - loss: 1.7048e-04 - accuracy: 0.3535\n",
      "Epoch 2/2\n",
      " 300/1000 [========>.....................] - ETA: 3:55 - loss: 0.0028 - accuracy: 0.3516"
     ]
    },
    {
     "name": "stderr",
     "output_type": "stream",
     "text": [
      "IOPub message rate exceeded.\n",
      "The notebook server will temporarily stop sending output\n",
      "to the client in order to avoid crashing it.\n",
      "To change this limit, set the config variable\n",
      "`--NotebookApp.iopub_msg_rate_limit`.\n",
      "\n",
      "Current values:\n",
      "NotebookApp.iopub_msg_rate_limit=1000.0 (msgs/sec)\n",
      "NotebookApp.rate_limit_window=3.0 (secs)\n",
      "\n"
     ]
    },
    {
     "name": "stdout",
     "output_type": "stream",
     "text": [
      "1000/1000 [==============================] - 328s 328ms/step - loss: -0.0020 - accuracy: 0.3531\n",
      "177 of 268 1996.695516359806 16.921148445113456\n",
      "Epoch 1/2\n",
      "1000/1000 [==============================] - 331s 331ms/step - loss: 0.0010 - accuracy: 0.3525\n",
      "Epoch 2/2\n",
      "1000/1000 [==============================] - 333s 333ms/step - loss: 0.0010 - accuracy: 0.3525\n",
      "178 of 268 2007.7969865441323 16.731641554865572\n",
      "Epoch 1/2\n",
      " 651/1000 [==================>...........] - ETA: 1:56 - loss: -9.6464e-04 - accuracy: 0.3535"
     ]
    },
    {
     "name": "stderr",
     "output_type": "stream",
     "text": [
      "IOPub message rate exceeded.\n",
      "The notebook server will temporarily stop sending output\n",
      "to the client in order to avoid crashing it.\n",
      "To change this limit, set the config variable\n",
      "`--NotebookApp.iopub_msg_rate_limit`.\n",
      "\n",
      "Current values:\n",
      "NotebookApp.iopub_msg_rate_limit=1000.0 (msgs/sec)\n",
      "NotebookApp.rate_limit_window=3.0 (secs)\n",
      "\n"
     ]
    },
    {
     "name": "stdout",
     "output_type": "stream",
     "text": [
      "1000/1000 [==============================] - 338s 338ms/step - loss: -7.0626e-04 - accuracy: 0.3527\n",
      "180 of 268 2030.0839351614316 16.35345392327287\n",
      "Epoch 1/2\n",
      "1000/1000 [==============================] - 332s 332ms/step - loss: 0.0011 - accuracy: 0.3530\n",
      "Epoch 2/2\n",
      "1000/1000 [==============================] - 335s 335ms/step - loss: 0.0011 - accuracy: 0.3530\n",
      "181 of 268 2041.234365594387 16.164471035274424\n",
      "Epoch 1/2\n",
      " 253/1000 [======>.......................] - ETA: 4:01 - loss: -6.3423e-04 - accuracy: 0.3531"
     ]
    },
    {
     "name": "stderr",
     "output_type": "stream",
     "text": [
      "IOPub message rate exceeded.\n",
      "The notebook server will temporarily stop sending output\n",
      "to the client in order to avoid crashing it.\n",
      "To change this limit, set the config variable\n",
      "`--NotebookApp.iopub_msg_rate_limit`.\n",
      "\n",
      "Current values:\n",
      "NotebookApp.iopub_msg_rate_limit=1000.0 (msgs/sec)\n",
      "NotebookApp.rate_limit_window=3.0 (secs)\n",
      "\n"
     ]
    },
    {
     "name": "stdout",
     "output_type": "stream",
     "text": [
      "1000/1000 [==============================] - 331s 331ms/step - loss: 0.0014 - accuracy: 0.3520\n",
      "Epoch 2/2\n",
      "1000/1000 [==============================] - 338s 338ms/step - loss: 0.0014 - accuracy: 0.3520\n",
      "183 of 268 2063.3617957433066 15.78528149772863\n",
      "Epoch 1/2\n",
      "1000/1000 [==============================] - 338s 338ms/step - loss: 2.6955e-04 - accuracy: 0.3523\n",
      "Epoch 2/2\n",
      " 969/1000 [============================>.] - ETA: 10s - loss: -2.2285e-05 - accuracy: 0.3525"
     ]
    },
    {
     "name": "stderr",
     "output_type": "stream",
     "text": [
      "IOPub message rate exceeded.\n",
      "The notebook server will temporarily stop sending output\n",
      "to the client in order to avoid crashing it.\n",
      "To change this limit, set the config variable\n",
      "`--NotebookApp.iopub_msg_rate_limit`.\n",
      "\n",
      "Current values:\n",
      "NotebookApp.iopub_msg_rate_limit=1000.0 (msgs/sec)\n",
      "NotebookApp.rate_limit_window=3.0 (secs)\n",
      "\n"
     ]
    },
    {
     "name": "stdout",
     "output_type": "stream",
     "text": [
      "1000/1000 [==============================] - 338s 338ms/step - loss: -7.8618e-04 - accuracy: 0.3531\n",
      "185 of 268 2085.829997376601 15.40883421503567\n",
      "Epoch 1/2\n",
      "1000/1000 [==============================] - 339s 339ms/step - loss: 5.1102e-04 - accuracy: 0.3519\n",
      "Epoch 2/2\n",
      "1000/1000 [==============================] - 343s 343ms/step - loss: 5.1101e-04 - accuracy: 0.3519\n",
      "186 of 268 2097.2304173231123 15.22183367420696\n",
      "Epoch 1/2\n",
      " 186/1000 [====>.........................] - ETA: 4:46 - loss: -0.0013 - accuracy: 0.3535"
     ]
    },
    {
     "name": "stderr",
     "output_type": "stream",
     "text": [
      "IOPub message rate exceeded.\n",
      "The notebook server will temporarily stop sending output\n",
      "to the client in order to avoid crashing it.\n",
      "To change this limit, set the config variable\n",
      "`--NotebookApp.iopub_msg_rate_limit`.\n",
      "\n",
      "Current values:\n",
      "NotebookApp.iopub_msg_rate_limit=1000.0 (msgs/sec)\n",
      "NotebookApp.rate_limit_window=3.0 (secs)\n",
      "\n"
     ]
    },
    {
     "name": "stdout",
     "output_type": "stream",
     "text": [
      "1000/1000 [==============================] - 339s 339ms/step - loss: 6.6508e-04 - accuracy: 0.3525\n",
      "Epoch 2/2\n",
      "1000/1000 [==============================] - 330s 330ms/step - loss: 6.6508e-04 - accuracy: 0.3525\n",
      "188 of 268 2119.7480486710865 14.845753178538379\n",
      "Epoch 1/2\n",
      "1000/1000 [==============================] - 343s 343ms/step - loss: 7.4969e-04 - accuracy: 0.3529\n",
      "Epoch 2/2\n",
      " 799/1000 [======================>.......] - ETA: 1:06 - loss: 6.1517e-04 - accuracy: 0.3535"
     ]
    },
    {
     "name": "stderr",
     "output_type": "stream",
     "text": [
      "IOPub message rate exceeded.\n",
      "The notebook server will temporarily stop sending output\n",
      "to the client in order to avoid crashing it.\n",
      "To change this limit, set the config variable\n",
      "`--NotebookApp.iopub_msg_rate_limit`.\n",
      "\n",
      "Current values:\n",
      "NotebookApp.iopub_msg_rate_limit=1000.0 (msgs/sec)\n",
      "NotebookApp.rate_limit_window=3.0 (secs)\n",
      "\n"
     ]
    },
    {
     "name": "stdout",
     "output_type": "stream",
     "text": [
      "1000/1000 [==============================] - 356s 356ms/step - loss: 0.0016 - accuracy: 0.3531\n",
      "Epoch 2/2\n",
      "1000/1000 [==============================] - 369s 369ms/step - loss: 0.0016 - accuracy: 0.3531\n",
      "191 of 268 2154.602109917005 14.288809804103966\n",
      "Epoch 1/2\n",
      "1000/1000 [==============================] - 372s 372ms/step - loss: -5.2614e-04 - accuracy: 0.3533\n",
      "Epoch 2/2\n",
      " 406/1000 [===========>..................] - ETA: 3:31 - loss: 3.7684e-04 - accuracy: 0.3531"
     ]
    },
    {
     "name": "stderr",
     "output_type": "stream",
     "text": [
      "IOPub message rate exceeded.\n",
      "The notebook server will temporarily stop sending output\n",
      "to the client in order to avoid crashing it.\n",
      "To change this limit, set the config variable\n",
      "`--NotebookApp.iopub_msg_rate_limit`.\n",
      "\n",
      "Current values:\n",
      "NotebookApp.iopub_msg_rate_limit=1000.0 (msgs/sec)\n",
      "NotebookApp.rate_limit_window=3.0 (secs)\n",
      "\n"
     ]
    },
    {
     "name": "stdout",
     "output_type": "stream",
     "text": [
      "1000/1000 [==============================] - 373s 373ms/step - loss: -0.0026 - accuracy: 0.3549\n",
      "193 of 268 2179.1438779592513 13.925444470615515\n",
      "Epoch 1/2\n",
      "1000/1000 [==============================] - 341s 341ms/step - loss: -4.7202e-06 - accuracy: 0.3532\n",
      "Epoch 2/2\n",
      "1000/1000 [==============================] - 356s 356ms/step - loss: -4.7205e-06 - accuracy: 0.3532\n",
      "194 of 268 2190.7979083657265 13.739540147134457\n",
      "Epoch 1/2\n",
      " 987/1000 [============================>.] - ETA: 4s - loss: -8.7285e-04 - accuracy: 0.3534"
     ]
    },
    {
     "name": "stderr",
     "output_type": "stream",
     "text": [
      "IOPub message rate exceeded.\n",
      "The notebook server will temporarily stop sending output\n",
      "to the client in order to avoid crashing it.\n",
      "To change this limit, set the config variable\n",
      "`--NotebookApp.iopub_msg_rate_limit`.\n",
      "\n",
      "Current values:\n",
      "NotebookApp.iopub_msg_rate_limit=1000.0 (msgs/sec)\n",
      "NotebookApp.rate_limit_window=3.0 (secs)\n",
      "\n"
     ]
    },
    {
     "name": "stdout",
     "output_type": "stream",
     "text": [
      "1000/1000 [==============================] - 358s 357ms/step - loss: -3.9364e-04 - accuracy: 0.3535\n",
      "196 of 268 2214.9938061237335 13.372836754753548\n",
      "Epoch 1/2\n",
      "1000/1000 [==============================] - 371s 371ms/step - loss: 0.0018 - accuracy: 0.3530\n",
      "Epoch 2/2\n",
      "1000/1000 [==============================] - 352s 352ms/step - loss: 0.0018 - accuracy: 0.3530\n",
      "197 of 268 2227.0746252934136 13.18910522565691\n",
      "Epoch 1/2\n",
      " 669/1000 [===================>..........] - ETA: 1:51 - loss: 0.0017 - accuracy: 0.3523"
     ]
    },
    {
     "name": "stderr",
     "output_type": "stream",
     "text": [
      "IOPub message rate exceeded.\n",
      "The notebook server will temporarily stop sending output\n",
      "to the client in order to avoid crashing it.\n",
      "To change this limit, set the config variable\n",
      "`--NotebookApp.iopub_msg_rate_limit`.\n",
      "\n",
      "Current values:\n",
      "NotebookApp.iopub_msg_rate_limit=1000.0 (msgs/sec)\n",
      "NotebookApp.rate_limit_window=3.0 (secs)\n",
      "\n"
     ]
    },
    {
     "name": "stdout",
     "output_type": "stream",
     "text": [
      "1000/1000 [==============================] - 349s 349ms/step - loss: 7.3935e-04 - accuracy: 0.3535\n",
      "199 of 268 2250.8512924075126 12.818918583238677\n",
      "Epoch 1/2\n",
      "1000/1000 [==============================] - 359s 359ms/step - loss: -7.1462e-05 - accuracy: 0.3525\n",
      "Epoch 2/2\n",
      "1000/1000 [==============================] - 348s 348ms/step - loss: -7.1461e-05 - accuracy: 0.3525\n",
      "200 of 268 2262.6770835876464 12.633280383322965\n",
      "Epoch 1/2\n",
      " 349/1000 [=========>....................] - ETA: 3:57 - loss: 3.1722e-04 - accuracy: 0.3530"
     ]
    },
    {
     "name": "stderr",
     "output_type": "stream",
     "text": [
      "IOPub message rate exceeded.\n",
      "The notebook server will temporarily stop sending output\n",
      "to the client in order to avoid crashing it.\n",
      "To change this limit, set the config variable\n",
      "`--NotebookApp.iopub_msg_rate_limit`.\n",
      "\n",
      "Current values:\n",
      "NotebookApp.iopub_msg_rate_limit=1000.0 (msgs/sec)\n",
      "NotebookApp.rate_limit_window=3.0 (secs)\n",
      "\n"
     ]
    },
    {
     "name": "stdout",
     "output_type": "stream",
     "text": [
      "1000/1000 [==============================] - 376s 376ms/step - loss: -9.6940e-04 - accuracy: 0.3531\n",
      "Epoch 2/2\n",
      "1000/1000 [==============================] - 360s 361ms/step - loss: -9.6940e-04 - accuracy: 0.3531\n",
      "202 of 268 2286.9155303955076 12.264811012665886\n",
      "Epoch 1/2\n",
      "1000/1000 [==============================] - 364s 364ms/step - loss: -0.0014 - accuracy: 0.3545\n",
      "Epoch 2/2\n",
      " 830/1000 [=======================>......] - ETA: 1:00 - loss: -0.0012 - accuracy: 0.3541"
     ]
    },
    {
     "name": "stderr",
     "output_type": "stream",
     "text": [
      "IOPub message rate exceeded.\n",
      "The notebook server will temporarily stop sending output\n",
      "to the client in order to avoid crashing it.\n",
      "To change this limit, set the config variable\n",
      "`--NotebookApp.iopub_msg_rate_limit`.\n",
      "\n",
      "Current values:\n",
      "NotebookApp.iopub_msg_rate_limit=1000.0 (msgs/sec)\n",
      "NotebookApp.rate_limit_window=3.0 (secs)\n",
      "\n"
     ]
    },
    {
     "name": "stdout",
     "output_type": "stream",
     "text": [
      "1000/1000 [==============================] - 371s 371ms/step - loss: 2.8868e-04 - accuracy: 0.3540\n",
      "Epoch 2/2\n",
      "1000/1000 [==============================] - 367s 367ms/step - loss: 2.8868e-04 - accuracy: 0.3540\n",
      "205 of 268 2323.103461976846 11.709952409929375\n",
      "Epoch 1/2\n",
      "1000/1000 [==============================] - 377s 377ms/step - loss: 3.3074e-04 - accuracy: 0.3534\n",
      "Epoch 2/2\n",
      " 293/1000 [=======>......................] - ETA: 4:38 - loss: 9.3093e-04 - accuracy: 0.3531"
     ]
    },
    {
     "name": "stderr",
     "output_type": "stream",
     "text": [
      "IOPub message rate exceeded.\n",
      "The notebook server will temporarily stop sending output\n",
      "to the client in order to avoid crashing it.\n",
      "To change this limit, set the config variable\n",
      "`--NotebookApp.iopub_msg_rate_limit`.\n",
      "\n",
      "Current values:\n",
      "NotebookApp.iopub_msg_rate_limit=1000.0 (msgs/sec)\n",
      "NotebookApp.rate_limit_window=3.0 (secs)\n",
      "\n"
     ]
    },
    {
     "name": "stdout",
     "output_type": "stream",
     "text": [
      "1000/1000 [==============================] - 376s 376ms/step - loss: 4.2660e-04 - accuracy: 0.3531\n",
      "207 of 268 2348.5646534641583 11.345722963649678\n",
      "Epoch 1/2\n",
      "1000/1000 [==============================] - 378s 378ms/step - loss: 0.0012 - accuracy: 0.3519\n",
      "Epoch 2/2\n",
      "1000/1000 [==============================] - 373s 373ms/step - loss: 0.0012 - accuracy: 0.3519\n",
      "208 of 268 2361.1210422794024 11.162351081173263\n",
      "Epoch 1/2\n",
      " 888/1000 [=========================>....] - ETA: 42s - loss: -0.0013 - accuracy: 0.3547"
     ]
    },
    {
     "name": "stderr",
     "output_type": "stream",
     "text": [
      "IOPub message rate exceeded.\n",
      "The notebook server will temporarily stop sending output\n",
      "to the client in order to avoid crashing it.\n",
      "To change this limit, set the config variable\n",
      "`--NotebookApp.iopub_msg_rate_limit`.\n",
      "\n",
      "Current values:\n",
      "NotebookApp.iopub_msg_rate_limit=1000.0 (msgs/sec)\n",
      "NotebookApp.rate_limit_window=3.0 (secs)\n",
      "\n"
     ]
    },
    {
     "name": "stdout",
     "output_type": "stream",
     "text": [
      "1000/1000 [==============================] - 368s 368ms/step - loss: -7.1090e-04 - accuracy: 0.3531\n",
      "210 of 268 2385.9875695705414 10.793753290641876\n",
      "Epoch 1/2\n",
      "1000/1000 [==============================] - 367s 367ms/step - loss: 2.3913e-04 - accuracy: 0.3518\n",
      "Epoch 2/2\n",
      "1000/1000 [==============================] - 373s 373ms/step - loss: 2.3913e-04 - accuracy: 0.3518\n",
      "211 of 268 2398.3553045988083 10.608838629945135\n",
      "Epoch 1/2\n",
      " 241/1000 [======>.......................] - ETA: 4:58 - loss: 0.0035 - accuracy: 0.3538"
     ]
    },
    {
     "name": "stderr",
     "output_type": "stream",
     "text": [
      "IOPub message rate exceeded.\n",
      "The notebook server will temporarily stop sending output\n",
      "to the client in order to avoid crashing it.\n",
      "To change this limit, set the config variable\n",
      "`--NotebookApp.iopub_msg_rate_limit`.\n",
      "\n",
      "Current values:\n",
      "NotebookApp.iopub_msg_rate_limit=1000.0 (msgs/sec)\n",
      "NotebookApp.rate_limit_window=3.0 (secs)\n",
      "\n"
     ]
    },
    {
     "name": "stdout",
     "output_type": "stream",
     "text": [
      "1000/1000 [==============================] - 395s 395ms/step - loss: 0.0013 - accuracy: 0.3516\n",
      "Epoch 2/2\n",
      "1000/1000 [==============================] - 372s 371ms/step - loss: 0.0013 - accuracy: 0.3516\n",
      "213 of 268 2424.1957341273624 10.243080567092589\n",
      "Epoch 1/2\n",
      "1000/1000 [==============================] - 381s 381ms/step - loss: -8.2003e-04 - accuracy: 0.3528\n",
      "Epoch 2/2\n",
      " 621/1000 [=================>............] - ETA: 2:22 - loss: -0.0021 - accuracy: 0.3531"
     ]
    },
    {
     "name": "stderr",
     "output_type": "stream",
     "text": [
      "IOPub message rate exceeded.\n",
      "The notebook server will temporarily stop sending output\n",
      "to the client in order to avoid crashing it.\n",
      "To change this limit, set the config variable\n",
      "`--NotebookApp.iopub_msg_rate_limit`.\n",
      "\n",
      "Current values:\n",
      "NotebookApp.iopub_msg_rate_limit=1000.0 (msgs/sec)\n",
      "NotebookApp.rate_limit_window=3.0 (secs)\n",
      "\n"
     ]
    },
    {
     "name": "stdout",
     "output_type": "stream",
     "text": [
      "1000/1000 [==============================] - 371s 371ms/step - loss: 0.0010 - accuracy: 0.3526\n",
      "Epoch 2/2\n",
      "1000/1000 [==============================] - 387s 387ms/step - loss: 0.0010 - accuracy: 0.3526\n",
      "216 of 268 2462.6124812165895 9.690836152683614\n",
      "Epoch 1/2\n",
      "1000/1000 [==============================] - 365s 365ms/step - loss: -9.2972e-04 - accuracy: 0.3543\n",
      "Epoch 2/2\n",
      " 121/1000 [==>...........................] - ETA: 4:44 - loss: -9.3869e-04 - accuracy: 0.3535"
     ]
    },
    {
     "name": "stderr",
     "output_type": "stream",
     "text": [
      "IOPub message rate exceeded.\n",
      "The notebook server will temporarily stop sending output\n",
      "to the client in order to avoid crashing it.\n",
      "To change this limit, set the config variable\n",
      "`--NotebookApp.iopub_msg_rate_limit`.\n",
      "\n",
      "Current values:\n",
      "NotebookApp.iopub_msg_rate_limit=1000.0 (msgs/sec)\n",
      "NotebookApp.rate_limit_window=3.0 (secs)\n",
      "\n"
     ]
    },
    {
     "name": "stdout",
     "output_type": "stream",
     "text": [
      "1000/1000 [==============================] - 343s 343ms/step - loss: 0.0024 - accuracy: 0.3510\n",
      "218 of 268 2485.744539443652 9.312039941012795\n",
      "Epoch 1/2\n",
      "1000/1000 [==============================] - 349s 349ms/step - loss: 0.0011 - accuracy: 0.3531\n",
      "Epoch 2/2\n",
      "1000/1000 [==============================] - 340s 340ms/step - loss: 0.0011 - accuracy: 0.3531\n",
      "219 of 268 2497.242683843772 9.12234770337832\n",
      "Epoch 1/2\n",
      " 500/1000 [==============>...............] - ETA: 2:53 - loss: -0.0028 - accuracy: 0.3548"
     ]
    },
    {
     "name": "stderr",
     "output_type": "stream",
     "text": [
      "IOPub message rate exceeded.\n",
      "The notebook server will temporarily stop sending output\n",
      "to the client in order to avoid crashing it.\n",
      "To change this limit, set the config variable\n",
      "`--NotebookApp.iopub_msg_rate_limit`.\n",
      "\n",
      "Current values:\n",
      "NotebookApp.iopub_msg_rate_limit=1000.0 (msgs/sec)\n",
      "NotebookApp.rate_limit_window=3.0 (secs)\n",
      "\n"
     ]
    },
    {
     "name": "stdout",
     "output_type": "stream",
     "text": [
      "1000/1000 [==============================] - 343s 343ms/step - loss: 7.2658e-05 - accuracy: 0.3530\n",
      "Epoch 2/2\n",
      "1000/1000 [==============================] - 336s 336ms/step - loss: 7.2658e-05 - accuracy: 0.3530\n",
      "221 of 268 2520.11059991916 8.742465127725703\n",
      "Epoch 1/2\n",
      "1000/1000 [==============================] - 337s 337ms/step - loss: 8.4416e-05 - accuracy: 0.3526\n",
      "Epoch 2/2\n",
      " 895/1000 [=========================>....] - ETA: 35s - loss: -5.0421e-04 - accuracy: 0.3531"
     ]
    },
    {
     "name": "stderr",
     "output_type": "stream",
     "text": [
      "IOPub message rate exceeded.\n",
      "The notebook server will temporarily stop sending output\n",
      "to the client in order to avoid crashing it.\n",
      "To change this limit, set the config variable\n",
      "`--NotebookApp.iopub_msg_rate_limit`.\n",
      "\n",
      "Current values:\n",
      "NotebookApp.iopub_msg_rate_limit=1000.0 (msgs/sec)\n",
      "NotebookApp.rate_limit_window=3.0 (secs)\n",
      "\n"
     ]
    },
    {
     "name": "stdout",
     "output_type": "stream",
     "text": [
      "1000/1000 [==============================] - 343s 343ms/step - loss: 6.6377e-04 - accuracy: 0.3528\n",
      "Epoch 2/2\n",
      "1000/1000 [==============================] - 338s 338ms/step - loss: 6.6377e-04 - accuracy: 0.3528\n",
      "224 of 268 2554.5218817035357 8.172949472276104\n",
      "Epoch 1/2\n",
      "1000/1000 [==============================] - 344s 344ms/step - loss: 0.0015 - accuracy: 0.3524\n",
      "Epoch 2/2\n",
      " 281/1000 [=======>......................] - ETA: 4:10 - loss: 0.0026 - accuracy: 0.3526"
     ]
    },
    {
     "name": "stderr",
     "output_type": "stream",
     "text": [
      "IOPub message rate exceeded.\n",
      "The notebook server will temporarily stop sending output\n",
      "to the client in order to avoid crashing it.\n",
      "To change this limit, set the config variable\n",
      "`--NotebookApp.iopub_msg_rate_limit`.\n",
      "\n",
      "Current values:\n",
      "NotebookApp.iopub_msg_rate_limit=1000.0 (msgs/sec)\n",
      "NotebookApp.rate_limit_window=3.0 (secs)\n",
      "\n"
     ]
    },
    {
     "name": "stdout",
     "output_type": "stream",
     "text": [
      "1000/1000 [==============================] - 344s 344ms/step - loss: 0.0014 - accuracy: 0.3520\n",
      "226 of 268 2577.380089863141 7.7929633982457585\n",
      "Epoch 1/2\n",
      "1000/1000 [==============================] - 340s 340ms/step - loss: -2.4063e-04 - accuracy: 0.3540\n",
      "Epoch 2/2\n",
      "1000/1000 [==============================] - 342s 342ms/step - loss: -2.4063e-04 - accuracy: 0.3540\n",
      "227 of 268 2588.7660742084186 7.602837222028869\n",
      "Epoch 1/2\n",
      " 680/1000 [===================>..........] - ETA: 1:48 - loss: 0.0010 - accuracy: 0.3526"
     ]
    },
    {
     "name": "stderr",
     "output_type": "stream",
     "text": [
      "IOPub message rate exceeded.\n",
      "The notebook server will temporarily stop sending output\n",
      "to the client in order to avoid crashing it.\n",
      "To change this limit, set the config variable\n",
      "`--NotebookApp.iopub_msg_rate_limit`.\n",
      "\n",
      "Current values:\n",
      "NotebookApp.iopub_msg_rate_limit=1000.0 (msgs/sec)\n",
      "NotebookApp.rate_limit_window=3.0 (secs)\n",
      "\n"
     ]
    },
    {
     "name": "stdout",
     "output_type": "stream",
     "text": [
      "1000/1000 [==============================] - 341s 341ms/step - loss: -7.6542e-04 - accuracy: 0.3534\n",
      "229 of 268 2611.630030186971 7.222848700396587\n",
      "Epoch 1/2\n",
      "1000/1000 [==============================] - 339s 339ms/step - loss: 9.5965e-04 - accuracy: 0.3527\n",
      "Epoch 2/2\n",
      "1000/1000 [==============================] - 340s 340ms/step - loss: 9.5965e-04 - accuracy: 0.3527\n",
      "230 of 268 2622.9586127916973 7.032570193387178\n",
      "Epoch 1/2\n",
      " 195/1000 [====>.........................] - ETA: 4:36 - loss: 0.0013 - accuracy: 0.3511  "
     ]
    },
    {
     "name": "stderr",
     "output_type": "stream",
     "text": [
      "IOPub message rate exceeded.\n",
      "The notebook server will temporarily stop sending output\n",
      "to the client in order to avoid crashing it.\n",
      "To change this limit, set the config variable\n",
      "`--NotebookApp.iopub_msg_rate_limit`.\n",
      "\n",
      "Current values:\n",
      "NotebookApp.iopub_msg_rate_limit=1000.0 (msgs/sec)\n",
      "NotebookApp.rate_limit_window=3.0 (secs)\n",
      "\n"
     ]
    },
    {
     "name": "stdout",
     "output_type": "stream",
     "text": [
      "1000/1000 [==============================] - 340s 340ms/step - loss: -6.0246e-04 - accuracy: 0.3532\n",
      "Epoch 2/2\n",
      "1000/1000 [==============================] - 343s 343ms/step - loss: -6.0246e-04 - accuracy: 0.3532\n",
      "232 of 268 2645.7968527674675 6.652506454322074\n",
      "Epoch 1/2\n",
      "1000/1000 [==============================] - 345s 345ms/step - loss: 3.3050e-04 - accuracy: 0.3528\n",
      "Epoch 2/2\n",
      " 781/1000 [======================>.......] - ETA: 1:16 - loss: -7.8074e-04 - accuracy: 0.3535"
     ]
    },
    {
     "name": "stderr",
     "output_type": "stream",
     "text": [
      "IOPub message rate exceeded.\n",
      "The notebook server will temporarily stop sending output\n",
      "to the client in order to avoid crashing it.\n",
      "To change this limit, set the config variable\n",
      "`--NotebookApp.iopub_msg_rate_limit`.\n",
      "\n",
      "Current values:\n",
      "NotebookApp.iopub_msg_rate_limit=1000.0 (msgs/sec)\n",
      "NotebookApp.rate_limit_window=3.0 (secs)\n",
      "\n"
     ]
    },
    {
     "name": "stdout",
     "output_type": "stream",
     "text": [
      "1000/1000 [==============================] - 342s 342ms/step - loss: 6.6135e-04 - accuracy: 0.3529\n",
      "Epoch 2/2\n",
      "1000/1000 [==============================] - 338s 338ms/step - loss: 6.6135e-04 - accuracy: 0.3529\n",
      "235 of 268 2680.1894395709037 6.0826994370286895\n",
      "Epoch 1/2\n",
      "1000/1000 [==============================] - 340s 340ms/step - loss: 0.0012 - accuracy: 0.3530\n",
      "Epoch 2/2\n",
      " 287/1000 [=======>......................] - ETA: 4:00 - loss: 8.8227e-04 - accuracy: 0.3526"
     ]
    },
    {
     "name": "stderr",
     "output_type": "stream",
     "text": [
      "IOPub message rate exceeded.\n",
      "The notebook server will temporarily stop sending output\n",
      "to the client in order to avoid crashing it.\n",
      "To change this limit, set the config variable\n",
      "`--NotebookApp.iopub_msg_rate_limit`.\n",
      "\n",
      "Current values:\n",
      "NotebookApp.iopub_msg_rate_limit=1000.0 (msgs/sec)\n",
      "NotebookApp.rate_limit_window=3.0 (secs)\n",
      "\n"
     ]
    },
    {
     "name": "stdout",
     "output_type": "stream",
     "text": [
      "1000/1000 [==============================] - 333s 333ms/step - loss: -0.0025 - accuracy: 0.3545\n",
      "237 of 268 2702.8742645462353 5.7022663805789895\n",
      "Epoch 1/2\n",
      "1000/1000 [==============================] - 339s 339ms/step - loss: 1.1363e-04 - accuracy: 0.3531\n",
      "Epoch 2/2\n",
      "1000/1000 [==============================] - 336s 336ms/step - loss: 1.1363e-04 - accuracy: 0.3531\n",
      "238 of 268 2714.128835527102 5.5118862903162675\n",
      "Epoch 1/2\n",
      " 767/1000 [======================>.......] - ETA: 1:18 - loss: -0.0012 - accuracy: 0.3529"
     ]
    },
    {
     "name": "stderr",
     "output_type": "stream",
     "text": [
      "IOPub message rate exceeded.\n",
      "The notebook server will temporarily stop sending output\n",
      "to the client in order to avoid crashing it.\n",
      "To change this limit, set the config variable\n",
      "`--NotebookApp.iopub_msg_rate_limit`.\n",
      "\n",
      "Current values:\n",
      "NotebookApp.iopub_msg_rate_limit=1000.0 (msgs/sec)\n",
      "NotebookApp.rate_limit_window=3.0 (secs)\n",
      "\n"
     ]
    },
    {
     "name": "stdout",
     "output_type": "stream",
     "text": [
      "1000/1000 [==============================] - 327s 327ms/step - loss: 7.1388e-04 - accuracy: 0.3528\n",
      "240 of 268 2736.3427851835886 5.13064272189803\n",
      "Epoch 1/2\n",
      "1000/1000 [==============================] - 334s 334ms/step - loss: -7.5721e-04 - accuracy: 0.3531\n",
      "Epoch 2/2\n",
      "1000/1000 [==============================] - 335s 335ms/step - loss: -7.5721e-04 - accuracy: 0.3531\n",
      "241 of 268 2747.495328092575 4.940171405418563\n",
      "Epoch 1/2\n",
      " 179/1000 [====>.........................] - ETA: 4:29 - loss: 8.6031e-04 - accuracy: 0.3511"
     ]
    },
    {
     "name": "stderr",
     "output_type": "stream",
     "text": [
      "IOPub message rate exceeded.\n",
      "The notebook server will temporarily stop sending output\n",
      "to the client in order to avoid crashing it.\n",
      "To change this limit, set the config variable\n",
      "`--NotebookApp.iopub_msg_rate_limit`.\n",
      "\n",
      "Current values:\n",
      "NotebookApp.iopub_msg_rate_limit=1000.0 (msgs/sec)\n",
      "NotebookApp.rate_limit_window=3.0 (secs)\n",
      "\n"
     ]
    },
    {
     "name": "stdout",
     "output_type": "stream",
     "text": [
      "1000/1000 [==============================] - 332s 332ms/step - loss: 9.4778e-04 - accuracy: 0.3527\n",
      "Epoch 2/2\n",
      "1000/1000 [==============================] - 330s 330ms/step - loss: 9.4778e-04 - accuracy: 0.3527\n",
      "243 of 268 2769.7240369757014 4.55921652141095\n",
      "Epoch 1/2\n",
      "1000/1000 [==============================] - 342s 342ms/step - loss: -8.8910e-04 - accuracy: 0.3541\n",
      "Epoch 2/2\n",
      " 578/1000 [================>.............] - ETA: 2:22 - loss: 3.1341e-04 - accuracy: 0.3545"
     ]
    },
    {
     "name": "stderr",
     "output_type": "stream",
     "text": [
      "IOPub message rate exceeded.\n",
      "The notebook server will temporarily stop sending output\n",
      "to the client in order to avoid crashing it.\n",
      "To change this limit, set the config variable\n",
      "`--NotebookApp.iopub_msg_rate_limit`.\n",
      "\n",
      "Current values:\n",
      "NotebookApp.iopub_msg_rate_limit=1000.0 (msgs/sec)\n",
      "NotebookApp.rate_limit_window=3.0 (secs)\n",
      "\n"
     ]
    },
    {
     "name": "stdout",
     "output_type": "stream",
     "text": [
      "1000/1000 [==============================] - 336s 336ms/step - loss: -7.9610e-04 - accuracy: 0.3533\n",
      "245 of 268 2792.269664112727 4.178906979851438\n",
      "Epoch 1/2\n",
      "1000/1000 [==============================] - 331s 331ms/step - loss: -2.5058e-04 - accuracy: 0.3525\n",
      "Epoch 2/2\n",
      "1000/1000 [==============================] - 333s 333ms/step - loss: -2.5058e-04 - accuracy: 0.3525\n",
      "246 of 268 2803.340994445483 3.9884932843084893\n",
      "Epoch 1/2\n",
      " 988/1000 [============================>.] - ETA: 3s - loss: -0.0021 - accuracy: 0.3546"
     ]
    },
    {
     "name": "stderr",
     "output_type": "stream",
     "text": [
      "IOPub message rate exceeded.\n",
      "The notebook server will temporarily stop sending output\n",
      "to the client in order to avoid crashing it.\n",
      "To change this limit, set the config variable\n",
      "`--NotebookApp.iopub_msg_rate_limit`.\n",
      "\n",
      "Current values:\n",
      "NotebookApp.iopub_msg_rate_limit=1000.0 (msgs/sec)\n",
      "NotebookApp.rate_limit_window=3.0 (secs)\n",
      "\n"
     ]
    },
    {
     "name": "stdout",
     "output_type": "stream",
     "text": [
      "1000/1000 [==============================] - 334s 334ms/step - loss: 0.0026 - accuracy: 0.3512\n",
      "248 of 268 2825.680064670245 3.6080592218968053\n",
      "Epoch 1/2\n",
      "1000/1000 [==============================] - 340s 340ms/step - loss: 1.4684e-04 - accuracy: 0.3529\n",
      "Epoch 2/2\n",
      "1000/1000 [==============================] - 341s 341ms/step - loss: -1.0557e-04 - accuracy: 0.3529\n",
      "Epoch 2/2\n",
      "1000/1000 [==============================] - 336s 336ms/step - loss: -1.0557e-04 - accuracy: 0.3529\n",
      "250 of 268 2848.593870762984 3.228406386509208\n",
      "Epoch 1/2\n",
      "1000/1000 [==============================] - 340s 340ms/step - loss: 0.0013 - accuracy: 0.3525\n",
      "Epoch 2/2\n",
      "1000/1000 [==============================] - 338s 338ms/step - loss: 0.0013 - accuracy: 0.3525\n",
      "251 of 268 2859.9037686785064 3.0384103780393827\n",
      "Epoch 1/2\n",
      "1000/1000 [==============================] - 342s 342ms/step - loss: -0.0010 - accuracy: 0.3538\n",
      "Epoch 2/2\n",
      "1000/1000 [==============================] - 338s 338ms/step - loss: -0.0010 - accuracy: 0.3538\n",
      "252 of 268 2871.2535873413085 2.848465859937294\n",
      "Epoch 1/2\n",
      "1000/1000 [==============================] - 338s 338ms/step - loss: 6.6277e-04 - accuracy: 0.3524\n",
      "Epoch 2/2\n",
      "1000/1000 [==============================] - 336s 336ms/step - loss: 6.6277e-04 - accuracy: 0.3524\n",
      "253 of 268 2882.497596995036 2.6584299307928125\n",
      "Epoch 1/2\n",
      "1000/1000 [==============================] - 340s 340ms/step - loss: -0.0014 - accuracy: 0.3540\n",
      "Epoch 2/2\n",
      "1000/1000 [==============================] - 335s 335ms/step - loss: -0.0014 - accuracy: 0.3540\n",
      "254 of 268 2893.7577516118686 2.4684285276017426\n",
      "Epoch 1/2\n",
      " 783/1000 [======================>.......] - ETA: 1:14 - loss: 5.3737e-04 - accuracy: 0.3537"
     ]
    },
    {
     "name": "stderr",
     "output_type": "stream",
     "text": [
      "IOPub message rate exceeded.\n",
      "The notebook server will temporarily stop sending output\n",
      "to the client in order to avoid crashing it.\n",
      "To change this limit, set the config variable\n",
      "`--NotebookApp.iopub_msg_rate_limit`.\n",
      "\n",
      "Current values:\n",
      "NotebookApp.iopub_msg_rate_limit=1000.0 (msgs/sec)\n",
      "NotebookApp.rate_limit_window=3.0 (secs)\n",
      "\n"
     ]
    },
    {
     "name": "stdout",
     "output_type": "stream",
     "text": [
      "1000/1000 [==============================] - 340s 340ms/step - loss: 0.0021 - accuracy: 0.3522\n",
      "Epoch 2/2\n",
      "1000/1000 [==============================] - 335s 335ms/step - loss: 0.0021 - accuracy: 0.3522\n",
      "256 of 268 2916.380101931095 2.0885534583161482\n",
      "Epoch 1/2\n",
      "1000/1000 [==============================] - 346s 346ms/step - loss: -1.0625e-04 - accuracy: 0.3530\n",
      "Epoch 2/2\n",
      "1000/1000 [==============================] - 334s 334ms/step - loss: -1.0625e-04 - accuracy: 0.3530\n",
      "257 of 268 2927.723980863889 1.8986536835616588\n",
      "Epoch 1/2\n",
      "1000/1000 [==============================] - 339s 339ms/step - loss: -9.3068e-04 - accuracy: 0.3542\n",
      "Epoch 2/2\n",
      "1000/1000 [==============================] - 345s 345ms/step - loss: -9.3068e-04 - accuracy: 0.3542\n",
      "258 of 268 2939.1344880104066 1.7087991205373854\n",
      "Epoch 1/2\n",
      "1000/1000 [==============================] - 344s 344ms/step - loss: 2.4009e-04 - accuracy: 0.3523\n",
      "Epoch 2/2\n",
      "1000/1000 [==============================] - 338s 338ms/step - loss: 2.4009e-04 - accuracy: 0.3523\n",
      "259 of 268 2950.5052461147307 1.5189216190990797\n",
      "Epoch 1/2\n",
      "1000/1000 [==============================] - 341s 341ms/step - loss: 2.9460e-04 - accuracy: 0.3536\n",
      "Epoch 2/2\n",
      "1000/1000 [==============================] - 333s 333ms/step - loss: 2.9460e-04 - accuracy: 0.3536\n",
      "260 of 268 2961.751649308205 1.3289911241434635\n",
      "Epoch 1/2\n",
      "1000/1000 [==============================] - 336s 336ms/step - loss: -5.2244e-04 - accuracy: 0.3533\n",
      "Epoch 2/2\n",
      "1000/1000 [==============================] - 340s 340ms/step - loss: -5.2244e-04 - accuracy: 0.3533\n",
      "261 of 268 2973.030351952712 1.1390920883173548\n",
      "Epoch 1/2\n",
      "1000/1000 [==============================] - 341s 341ms/step - loss: -2.0982e-04 - accuracy: 0.3531\n",
      "Epoch 2/2\n",
      "1000/1000 [==============================] - 341s 341ms/step - loss: -0.0011 - accuracy: 0.3527\n",
      "Epoch 2/2\n",
      "1000/1000 [==============================] - 341s 341ms/step - loss: -0.0011 - accuracy: 0.3527\n",
      "263 of 268 2995.8336660901705 0.7594001683435393\n",
      "Epoch 1/2\n",
      "1000/1000 [==============================] - 340s 340ms/step - loss: 8.9922e-04 - accuracy: 0.3524\n",
      "Epoch 2/2\n",
      "  24/1000 [..............................] - ETA: 5:28 - loss: -0.0137 - accuracy: 0.3603"
     ]
    },
    {
     "name": "stderr",
     "output_type": "stream",
     "text": [
      "IOPub message rate exceeded.\n",
      "The notebook server will temporarily stop sending output\n",
      "to the client in order to avoid crashing it.\n",
      "To change this limit, set the config variable\n",
      "`--NotebookApp.iopub_msg_rate_limit`.\n",
      "\n",
      "Current values:\n",
      "NotebookApp.iopub_msg_rate_limit=1000.0 (msgs/sec)\n",
      "NotebookApp.rate_limit_window=3.0 (secs)\n",
      "\n"
     ]
    }
   ],
   "source": [
    "st = ti()\n",
    "\n",
    "for i in range(SetsNeeded-1):\n",
    "    PercentHoldOutForNext = 1.0 - (SamplesPerSet / len(MoveSegments))\n",
    "    seq_train, seq_test, out_train, out_test = train_test_split(MoveSegments, NextDataPoint, test_size=PercentHoldOutForNext, shuffle=True, random_state=0)\n",
    "    seq_train = np.asarray(seq_train)\n",
    "    lstm_autoencoder2.model.fit(seq_train, seq_train, epochs=2, batch_size=32, verbose=1)\n",
    "    MoveSegments = seq_test\n",
    "    NextDataPoint = out_test\n",
    "    print(str(i+1)+' of ' + str(SetsNeeded), (ti()-st)/60, (((ti()-st)/(i+1) * ( SetsNeeded -1) - (ti()-st) )/60/60))"
   ]
  },
  {
   "cell_type": "code",
   "execution_count": 49,
   "metadata": {},
   "outputs": [
    {
     "name": "stderr",
     "output_type": "stream",
     "text": [
      "WARNING:absl:Found untraced functions such as lstm_cell_2_layer_call_fn, lstm_cell_2_layer_call_and_return_conditional_losses, lstm_cell_3_layer_call_fn, lstm_cell_3_layer_call_and_return_conditional_losses while saving (showing 4 of 4). These functions will not be directly callable after loading.\n"
     ]
    },
    {
     "name": "stdout",
     "output_type": "stream",
     "text": [
      "INFO:tensorflow:Assets written to: LSTM_sm2_FullDays/assets\n"
     ]
    },
    {
     "name": "stderr",
     "output_type": "stream",
     "text": [
      "INFO:tensorflow:Assets written to: LSTM_sm2_FullDays/assets\n"
     ]
    }
   ],
   "source": [
    "\n",
    "lstm_autoencoder2.model.save(\"LSTM_sm2_FullDays\")"
   ]
  },
  {
   "cell_type": "code",
   "execution_count": 56,
   "metadata": {},
   "outputs": [],
   "source": [
    "MoveSegments = np.asarray(MoveSegments)"
   ]
  },
  {
   "cell_type": "code",
   "execution_count": 57,
   "metadata": {},
   "outputs": [
    {
     "name": "stdout",
     "output_type": "stream",
     "text": [
      "802/802 [==============================] - 101s 124ms/step\n"
     ]
    }
   ],
   "source": [
    "output_X = lstm_autoencoder2.model.predict(MoveSegments)"
   ]
  },
  {
   "cell_type": "code",
   "execution_count": null,
   "metadata": {},
   "outputs": [],
   "source": [
    "reconstruction = np.squeeze(output_X)"
   ]
  },
  {
   "cell_type": "code",
   "execution_count": 59,
   "metadata": {},
   "outputs": [],
   "source": [
    "scores = np.linalg.norm(MoveSegments - output_X, axis=-1)"
   ]
  },
  {
   "cell_type": "code",
   "execution_count": null,
   "metadata": {},
   "outputs": [],
   "source": [
    "output_X[1]"
   ]
  },
  {
   "cell_type": "code",
   "execution_count": 60,
   "metadata": {},
   "outputs": [],
   "source": [
    "maxes = np.max(scores, axis = 0)"
   ]
  },
  {
   "cell_type": "code",
   "execution_count": 61,
   "metadata": {},
   "outputs": [
    {
     "data": {
      "text/plain": [
       "(250,)"
      ]
     },
     "execution_count": 61,
     "metadata": {},
     "output_type": "execute_result"
    }
   ],
   "source": [
    "np.shape(maxes)"
   ]
  },
  {
   "cell_type": "code",
   "execution_count": 65,
   "metadata": {},
   "outputs": [
    {
     "data": {
      "image/png": "[encoded data removed]",
      "text/plain": [
       "<Figure size 640x480 with 1 Axes>"
      ]
     },
     "metadata": {},
     "output_type": "display_data"
    }
   ],
   "source": [
    "threshold_score=0.95\n",
    "anomalous = np.where(maxes > threshold_score)\n",
    "normal = np.where(maxes <= threshold_score)\n",
    "\n",
    "plt.title(\"Anomalies\")\n",
    "plt.scatter(normal, seq_train[normal][:,-1], s=3)\n",
    "#plt.scatter(anomalous, seq_train[anomalous][:,-1], s=5, c='r')\n",
    "plt.show()"
   ]
  },
  {
   "cell_type": "code",
   "execution_count": 66,
   "metadata": {},
   "outputs": [
    {
     "data": {
      "text/plain": [
       "(array([  0,   1,   2,   3,   4,   5,   6,   7,   8,   9,  10,  11,  12,\n",
       "         13,  14,  15,  16,  17,  18,  19,  20,  21,  22,  23,  24,  25,\n",
       "         26,  27,  28,  29,  30,  31,  32,  33,  34,  35,  36,  37,  38,\n",
       "         39,  40,  41,  42,  43,  44,  45,  46,  47,  48,  49,  50,  51,\n",
       "         52,  53,  54,  55,  56,  57,  58,  59,  60,  61,  62,  63,  64,\n",
       "         65,  66,  67,  68,  69,  70,  71,  72,  73,  74,  75,  76,  77,\n",
       "         78,  79,  80,  81,  82,  83,  84,  85,  86,  87,  88,  89,  90,\n",
       "         91,  92,  93,  94,  95,  96,  97,  98,  99, 100, 101, 102, 103,\n",
       "        104, 105, 106, 107, 108, 109, 110, 111, 112, 113, 114, 115, 116,\n",
       "        117, 118, 119, 120, 121, 122, 123, 124, 125, 126, 127, 128, 129,\n",
       "        130, 131, 132, 133, 134, 135, 136, 137, 138, 139, 140, 141, 142,\n",
       "        143, 144, 145, 146, 147, 148, 149, 150, 151, 152, 153, 154, 155,\n",
       "        156, 157, 158, 159, 160, 161, 162, 163, 164, 165, 166, 167, 168,\n",
       "        169, 170, 171, 172, 173, 174, 175, 176, 177, 178, 179, 180, 181,\n",
       "        182, 183, 184, 185, 186, 187, 188, 189, 190, 191, 192, 193, 194,\n",
       "        195, 196, 197, 198, 199, 200, 201, 202, 203, 204, 205, 206, 207,\n",
       "        208, 209, 210, 211, 212, 213, 214, 215, 216, 217, 218, 219, 220,\n",
       "        221, 222, 223, 224, 225, 226, 227, 228, 229, 230, 231, 232, 233,\n",
       "        234, 235, 236, 237, 238, 239, 240, 241, 242, 243, 244, 245, 246,\n",
       "        247, 248, 249]),)"
      ]
     },
     "execution_count": 66,
     "metadata": {},
     "output_type": "execute_result"
    }
   ],
   "source": [
    "anomalous"
   ]
  },
  {
   "cell_type": "code",
   "execution_count": 62,
   "metadata": {},
   "outputs": [
    {
     "data": {
      "image/png": "[encoded data removed]",
      "text/plain": [
       "<Figure size 640x480 with 1 Axes>"
      ]
     },
     "metadata": {},
     "output_type": "display_data"
    },
    {
     "ename": "ValueError",
     "evalue": "x and y must be the same size",
     "output_type": "error",
     "traceback": [
      "\u001b[0;31m---------------------------------------------------------------------------\u001b[0m",
      "\u001b[0;31mValueError\u001b[0m                                Traceback (most recent call last)",
      "Cell \u001b[0;32mIn[62], line 1\u001b[0m\n\u001b[0;32m----> 1\u001b[0m \u001b[43mlstm_autoencoder2\u001b[49m\u001b[38;5;241;43m.\u001b[39;49m\u001b[43mplot\u001b[49m\u001b[43m(\u001b[49m\u001b[43mmaxes\u001b[49m\u001b[43m,\u001b[49m\u001b[43m \u001b[49m\u001b[43mseq_train\u001b[49m\u001b[43m,\u001b[49m\u001b[43m \u001b[49m\u001b[43mthreshold\u001b[49m\u001b[38;5;241;43m=\u001b[39;49m\u001b[38;5;241;43m0.95\u001b[39;49m\u001b[43m)\u001b[49m\n",
      "Cell \u001b[0;32mIn[40], line 70\u001b[0m, in \u001b[0;36mLSTM_Autoencoder.plot\u001b[0;34m(self, scores, timeseries, threshold)\u001b[0m\n\u001b[1;32m     67\u001b[0m normal \u001b[38;5;241m=\u001b[39m np\u001b[38;5;241m.\u001b[39mwhere(scores \u001b[38;5;241m<\u001b[39m\u001b[38;5;241m=\u001b[39m threshold_score)\n\u001b[1;32m     69\u001b[0m plt\u001b[38;5;241m.\u001b[39mtitle(\u001b[38;5;124m\"\u001b[39m\u001b[38;5;124mAnomalies\u001b[39m\u001b[38;5;124m\"\u001b[39m)\n\u001b[0;32m---> 70\u001b[0m \u001b[43mplt\u001b[49m\u001b[38;5;241;43m.\u001b[39;49m\u001b[43mscatter\u001b[49m\u001b[43m(\u001b[49m\u001b[43mnormal\u001b[49m\u001b[43m,\u001b[49m\u001b[43m \u001b[49m\u001b[43mtimeseries\u001b[49m\u001b[43m[\u001b[49m\u001b[43mnormal\u001b[49m\u001b[43m]\u001b[49m\u001b[43m[\u001b[49m\u001b[43m:\u001b[49m\u001b[43m,\u001b[49m\u001b[38;5;241;43m-\u001b[39;49m\u001b[38;5;241;43m1\u001b[39;49m\u001b[43m]\u001b[49m\u001b[43m,\u001b[49m\u001b[43m \u001b[49m\u001b[43ms\u001b[49m\u001b[38;5;241;43m=\u001b[39;49m\u001b[38;5;241;43m3\u001b[39;49m\u001b[43m)\u001b[49m\n\u001b[1;32m     71\u001b[0m plt\u001b[38;5;241m.\u001b[39mscatter(anomalous, timeseries[anomalous][:,\u001b[38;5;241m-\u001b[39m\u001b[38;5;241m1\u001b[39m], s\u001b[38;5;241m=\u001b[39m\u001b[38;5;241m5\u001b[39m, c\u001b[38;5;241m=\u001b[39m\u001b[38;5;124m'\u001b[39m\u001b[38;5;124mr\u001b[39m\u001b[38;5;124m'\u001b[39m)\n\u001b[1;32m     72\u001b[0m plt\u001b[38;5;241m.\u001b[39mshow()\n",
      "File \u001b[0;32m/sciclone/home20/dchendrickson01/.conda/envs/simple/lib/python3.10/site-packages/matplotlib/pyplot.py:2835\u001b[0m, in \u001b[0;36mscatter\u001b[0;34m(x, y, s, c, marker, cmap, norm, vmin, vmax, alpha, linewidths, edgecolors, plotnonfinite, data, **kwargs)\u001b[0m\n\u001b[1;32m   2830\u001b[0m \u001b[38;5;129m@_copy_docstring_and_deprecators\u001b[39m(Axes\u001b[38;5;241m.\u001b[39mscatter)\n\u001b[1;32m   2831\u001b[0m \u001b[38;5;28;01mdef\u001b[39;00m \u001b[38;5;21mscatter\u001b[39m(\n\u001b[1;32m   2832\u001b[0m         x, y, s\u001b[38;5;241m=\u001b[39m\u001b[38;5;28;01mNone\u001b[39;00m, c\u001b[38;5;241m=\u001b[39m\u001b[38;5;28;01mNone\u001b[39;00m, marker\u001b[38;5;241m=\u001b[39m\u001b[38;5;28;01mNone\u001b[39;00m, cmap\u001b[38;5;241m=\u001b[39m\u001b[38;5;28;01mNone\u001b[39;00m, norm\u001b[38;5;241m=\u001b[39m\u001b[38;5;28;01mNone\u001b[39;00m,\n\u001b[1;32m   2833\u001b[0m         vmin\u001b[38;5;241m=\u001b[39m\u001b[38;5;28;01mNone\u001b[39;00m, vmax\u001b[38;5;241m=\u001b[39m\u001b[38;5;28;01mNone\u001b[39;00m, alpha\u001b[38;5;241m=\u001b[39m\u001b[38;5;28;01mNone\u001b[39;00m, linewidths\u001b[38;5;241m=\u001b[39m\u001b[38;5;28;01mNone\u001b[39;00m, \u001b[38;5;241m*\u001b[39m,\n\u001b[1;32m   2834\u001b[0m         edgecolors\u001b[38;5;241m=\u001b[39m\u001b[38;5;28;01mNone\u001b[39;00m, plotnonfinite\u001b[38;5;241m=\u001b[39m\u001b[38;5;28;01mFalse\u001b[39;00m, data\u001b[38;5;241m=\u001b[39m\u001b[38;5;28;01mNone\u001b[39;00m, \u001b[38;5;241m*\u001b[39m\u001b[38;5;241m*\u001b[39mkwargs):\n\u001b[0;32m-> 2835\u001b[0m     __ret \u001b[38;5;241m=\u001b[39m \u001b[43mgca\u001b[49m\u001b[43m(\u001b[49m\u001b[43m)\u001b[49m\u001b[38;5;241;43m.\u001b[39;49m\u001b[43mscatter\u001b[49m\u001b[43m(\u001b[49m\n\u001b[1;32m   2836\u001b[0m \u001b[43m        \u001b[49m\u001b[43mx\u001b[49m\u001b[43m,\u001b[49m\u001b[43m \u001b[49m\u001b[43my\u001b[49m\u001b[43m,\u001b[49m\u001b[43m \u001b[49m\u001b[43ms\u001b[49m\u001b[38;5;241;43m=\u001b[39;49m\u001b[43ms\u001b[49m\u001b[43m,\u001b[49m\u001b[43m \u001b[49m\u001b[43mc\u001b[49m\u001b[38;5;241;43m=\u001b[39;49m\u001b[43mc\u001b[49m\u001b[43m,\u001b[49m\u001b[43m \u001b[49m\u001b[43mmarker\u001b[49m\u001b[38;5;241;43m=\u001b[39;49m\u001b[43mmarker\u001b[49m\u001b[43m,\u001b[49m\u001b[43m \u001b[49m\u001b[43mcmap\u001b[49m\u001b[38;5;241;43m=\u001b[39;49m\u001b[43mcmap\u001b[49m\u001b[43m,\u001b[49m\u001b[43m \u001b[49m\u001b[43mnorm\u001b[49m\u001b[38;5;241;43m=\u001b[39;49m\u001b[43mnorm\u001b[49m\u001b[43m,\u001b[49m\n\u001b[1;32m   2837\u001b[0m \u001b[43m        \u001b[49m\u001b[43mvmin\u001b[49m\u001b[38;5;241;43m=\u001b[39;49m\u001b[43mvmin\u001b[49m\u001b[43m,\u001b[49m\u001b[43m \u001b[49m\u001b[43mvmax\u001b[49m\u001b[38;5;241;43m=\u001b[39;49m\u001b[43mvmax\u001b[49m\u001b[43m,\u001b[49m\u001b[43m \u001b[49m\u001b[43malpha\u001b[49m\u001b[38;5;241;43m=\u001b[39;49m\u001b[43malpha\u001b[49m\u001b[43m,\u001b[49m\u001b[43m \u001b[49m\u001b[43mlinewidths\u001b[49m\u001b[38;5;241;43m=\u001b[39;49m\u001b[43mlinewidths\u001b[49m\u001b[43m,\u001b[49m\n\u001b[1;32m   2838\u001b[0m \u001b[43m        \u001b[49m\u001b[43medgecolors\u001b[49m\u001b[38;5;241;43m=\u001b[39;49m\u001b[43medgecolors\u001b[49m\u001b[43m,\u001b[49m\u001b[43m \u001b[49m\u001b[43mplotnonfinite\u001b[49m\u001b[38;5;241;43m=\u001b[39;49m\u001b[43mplotnonfinite\u001b[49m\u001b[43m,\u001b[49m\n\u001b[1;32m   2839\u001b[0m \u001b[43m        \u001b[49m\u001b[38;5;241;43m*\u001b[39;49m\u001b[38;5;241;43m*\u001b[39;49m\u001b[43m(\u001b[49m\u001b[43m{\u001b[49m\u001b[38;5;124;43m\"\u001b[39;49m\u001b[38;5;124;43mdata\u001b[39;49m\u001b[38;5;124;43m\"\u001b[39;49m\u001b[43m:\u001b[49m\u001b[43m \u001b[49m\u001b[43mdata\u001b[49m\u001b[43m}\u001b[49m\u001b[43m \u001b[49m\u001b[38;5;28;43;01mif\u001b[39;49;00m\u001b[43m \u001b[49m\u001b[43mdata\u001b[49m\u001b[43m \u001b[49m\u001b[38;5;129;43;01mis\u001b[39;49;00m\u001b[43m \u001b[49m\u001b[38;5;129;43;01mnot\u001b[39;49;00m\u001b[43m \u001b[49m\u001b[38;5;28;43;01mNone\u001b[39;49;00m\u001b[43m \u001b[49m\u001b[38;5;28;43;01melse\u001b[39;49;00m\u001b[43m \u001b[49m\u001b[43m{\u001b[49m\u001b[43m}\u001b[49m\u001b[43m)\u001b[49m\u001b[43m,\u001b[49m\u001b[43m \u001b[49m\u001b[38;5;241;43m*\u001b[39;49m\u001b[38;5;241;43m*\u001b[39;49m\u001b[43mkwargs\u001b[49m\u001b[43m)\u001b[49m\n\u001b[1;32m   2840\u001b[0m     sci(__ret)\n\u001b[1;32m   2841\u001b[0m     \u001b[38;5;28;01mreturn\u001b[39;00m __ret\n",
      "File \u001b[0;32m/sciclone/home20/dchendrickson01/.conda/envs/simple/lib/python3.10/site-packages/matplotlib/__init__.py:1442\u001b[0m, in \u001b[0;36m_preprocess_data.<locals>.inner\u001b[0;34m(ax, data, *args, **kwargs)\u001b[0m\n\u001b[1;32m   1439\u001b[0m \u001b[38;5;129m@functools\u001b[39m\u001b[38;5;241m.\u001b[39mwraps(func)\n\u001b[1;32m   1440\u001b[0m \u001b[38;5;28;01mdef\u001b[39;00m \u001b[38;5;21minner\u001b[39m(ax, \u001b[38;5;241m*\u001b[39margs, data\u001b[38;5;241m=\u001b[39m\u001b[38;5;28;01mNone\u001b[39;00m, \u001b[38;5;241m*\u001b[39m\u001b[38;5;241m*\u001b[39mkwargs):\n\u001b[1;32m   1441\u001b[0m     \u001b[38;5;28;01mif\u001b[39;00m data \u001b[38;5;129;01mis\u001b[39;00m \u001b[38;5;28;01mNone\u001b[39;00m:\n\u001b[0;32m-> 1442\u001b[0m         \u001b[38;5;28;01mreturn\u001b[39;00m \u001b[43mfunc\u001b[49m\u001b[43m(\u001b[49m\u001b[43max\u001b[49m\u001b[43m,\u001b[49m\u001b[43m \u001b[49m\u001b[38;5;241;43m*\u001b[39;49m\u001b[38;5;28;43mmap\u001b[39;49m\u001b[43m(\u001b[49m\u001b[43msanitize_sequence\u001b[49m\u001b[43m,\u001b[49m\u001b[43m \u001b[49m\u001b[43margs\u001b[49m\u001b[43m)\u001b[49m\u001b[43m,\u001b[49m\u001b[43m \u001b[49m\u001b[38;5;241;43m*\u001b[39;49m\u001b[38;5;241;43m*\u001b[39;49m\u001b[43mkwargs\u001b[49m\u001b[43m)\u001b[49m\n\u001b[1;32m   1444\u001b[0m     bound \u001b[38;5;241m=\u001b[39m new_sig\u001b[38;5;241m.\u001b[39mbind(ax, \u001b[38;5;241m*\u001b[39margs, \u001b[38;5;241m*\u001b[39m\u001b[38;5;241m*\u001b[39mkwargs)\n\u001b[1;32m   1445\u001b[0m     auto_label \u001b[38;5;241m=\u001b[39m (bound\u001b[38;5;241m.\u001b[39marguments\u001b[38;5;241m.\u001b[39mget(label_namer)\n\u001b[1;32m   1446\u001b[0m                   \u001b[38;5;129;01mor\u001b[39;00m bound\u001b[38;5;241m.\u001b[39mkwargs\u001b[38;5;241m.\u001b[39mget(label_namer))\n",
      "File \u001b[0;32m/sciclone/home20/dchendrickson01/.conda/envs/simple/lib/python3.10/site-packages/matplotlib/axes/_axes.py:4584\u001b[0m, in \u001b[0;36mAxes.scatter\u001b[0;34m(self, x, y, s, c, marker, cmap, norm, vmin, vmax, alpha, linewidths, edgecolors, plotnonfinite, **kwargs)\u001b[0m\n\u001b[1;32m   4582\u001b[0m y \u001b[38;5;241m=\u001b[39m np\u001b[38;5;241m.\u001b[39mma\u001b[38;5;241m.\u001b[39mravel(y)\n\u001b[1;32m   4583\u001b[0m \u001b[38;5;28;01mif\u001b[39;00m x\u001b[38;5;241m.\u001b[39msize \u001b[38;5;241m!=\u001b[39m y\u001b[38;5;241m.\u001b[39msize:\n\u001b[0;32m-> 4584\u001b[0m     \u001b[38;5;28;01mraise\u001b[39;00m \u001b[38;5;167;01mValueError\u001b[39;00m(\u001b[38;5;124m\"\u001b[39m\u001b[38;5;124mx and y must be the same size\u001b[39m\u001b[38;5;124m\"\u001b[39m)\n\u001b[1;32m   4586\u001b[0m \u001b[38;5;28;01mif\u001b[39;00m s \u001b[38;5;129;01mis\u001b[39;00m \u001b[38;5;28;01mNone\u001b[39;00m:\n\u001b[1;32m   4587\u001b[0m     s \u001b[38;5;241m=\u001b[39m (\u001b[38;5;241m20\u001b[39m \u001b[38;5;28;01mif\u001b[39;00m mpl\u001b[38;5;241m.\u001b[39mrcParams[\u001b[38;5;124m'\u001b[39m\u001b[38;5;124m_internal.classic_mode\u001b[39m\u001b[38;5;124m'\u001b[39m] \u001b[38;5;28;01melse\u001b[39;00m\n\u001b[1;32m   4588\u001b[0m          mpl\u001b[38;5;241m.\u001b[39mrcParams[\u001b[38;5;124m'\u001b[39m\u001b[38;5;124mlines.markersize\u001b[39m\u001b[38;5;124m'\u001b[39m] \u001b[38;5;241m*\u001b[39m\u001b[38;5;241m*\u001b[39m \u001b[38;5;241m2.0\u001b[39m)\n",
      "\u001b[0;31mValueError\u001b[0m: x and y must be the same size"
     ]
    },
    {
     "data": {
      "image/png": "[encoded data removed]",
      "text/plain": [
       "<Figure size 640x480 with 1 Axes>"
      ]
     },
     "metadata": {},
     "output_type": "display_data"
    }
   ],
   "source": [
    "lstm_autoencoder2.plot(maxes, seq_train, threshold=0.95)"
   ]
  },
  {
   "cell_type": "code",
   "execution_count": 67,
   "metadata": {},
   "outputs": [
    {
     "name": "stdout",
     "output_type": "stream",
     "text": [
      "0 2.5975878477096557\n"
     ]
    }
   ],
   "source": [
    "LoopFiles = 9\n",
    "loops = int(len(BeforeTamping) / LoopFiles) \n",
    "if len(files)%LoopFiles != 0:\n",
    "    loops += 1\n",
    "\n",
    "st = ti()\n",
    "\n",
    "Moves = []\n",
    "\n",
    "for k in range(loops):\n",
    "    if k == loops -1:\n",
    "        tfiles = BeforeTamping[k*LoopFiles:]\n",
    "    else:\n",
    "        tfiles = BeforeTamping[k*LoopFiles:(k+1)*LoopFiles]\n",
    "    #Results = Parallel(n_jobs=LoopFiles)(delayed(DeviationVelocity)(file) for file in tfiles)\n",
    "    Results = Parallel(n_jobs=LoopFiles)(delayed(SmoothMoves)(file) for file in tfiles)\n",
    "    #Results =[]\n",
    "    #for file in tfiles:\n",
    "    #    Results.append(DeviationVelocity(file))\n",
    "    #    print(file, (ti()-st)/60.0)\n",
    "    for result in Results:\n",
    "        Moves.append(result)\n",
    "    print(k, (ti()-st)/60.0)\n",
    "        \n",
    "Sequences = []\n",
    "Outputs = []\n",
    "for move in Moves:\n",
    "    Seq, Out = split_sequences(move.T,TimeSteps,StepSize)\n",
    "    Sequences.append(Seq)\n",
    "    Outputs.append(Out)\n",
    "print('Sequence Made ', (ti()-st)/60.0)\n",
    "MoveSegments = []\n",
    "for seq in Sequences:\n",
    "    for mv in seq:\n",
    "        MoveSegments.append(mv)\n",
    "NextDataPoint = []\n",
    "print('Moves Segmented ', (ti()-st)/60.0)\n",
    "for out in Outputs:\n",
    "    for pt in out:\n",
    "        NextDataPoint.append(np.reshape(pt,(1,3)))\n",
    "print('Done Prep ',(ti()-st)/60.0)"
   ]
  },
  {
   "cell_type": "code",
   "execution_count": 74,
   "metadata": {},
   "outputs": [
    {
     "name": "stdout",
     "output_type": "stream",
     "text": [
      "32/32 [==============================] - 4s 111ms/step\n"
     ]
    }
   ],
   "source": [
    "Check1 = np.asarray(MoveSegments[:1000])\n",
    "\n",
    "output_X = lstm_autoencoder2.model.predict(Check1)"
   ]
  },
  {
   "cell_type": "code",
   "execution_count": null,
   "metadata": {},
   "outputs": [],
   "source": [
    "scores = np.linalg.norm(Check1 - output_X, axis=-1)"
   ]
  },
  {
   "cell_type": "code",
   "execution_count": 81,
   "metadata": {},
   "outputs": [],
   "source": [
    "maxes = np.max(scores, axis = 1)"
   ]
  },
  {
   "cell_type": "code",
   "execution_count": 82,
   "metadata": {},
   "outputs": [
    {
     "data": {
      "text/plain": [
       "(1000,)"
      ]
     },
     "execution_count": 82,
     "metadata": {},
     "output_type": "execute_result"
    }
   ],
   "source": [
    "np.shape(maxes)\n"
   ]
  },
  {
   "cell_type": "code",
   "execution_count": 88,
   "metadata": {},
   "outputs": [
    {
     "data": {
      "image/png": "[encoded data removed]",
      "text/plain": [
       "<Figure size 640x480 with 1 Axes>"
      ]
     },
     "metadata": {},
     "output_type": "display_data"
    }
   ],
   "source": [
    "plt.title('random Comparison')\n",
    "#plt.plot(MoveSegments[1][:,0])\n",
    "plt.plot(output_X[99])\n",
    "plt.show()"
   ]
  },
  {
   "cell_type": "code",
   "execution_count": 83,
   "metadata": {},
   "outputs": [
    {
     "data": {
      "image/png": "[encoded data removed]",
      "text/plain": [
       "<Figure size 640x480 with 1 Axes>"
      ]
     },
     "metadata": {},
     "output_type": "display_data"
    }
   ],
   "source": [
    "threshold = 0.95\n",
    "\n",
    "sorted_scores = sorted(maxes)\n",
    "threshold_score = sorted_scores[round(len(maxes) * threshold)]\n",
    "\n",
    "plt.title(\"Reconstruction Error\")\n",
    "plt.plot(maxes)\n",
    "plt.plot([threshold_score]*len(scores), c='r')\n",
    "plt.show()\n"
   ]
  }
 ],
 "metadata": {
  "kernelspec": {
   "display_name": "Simple",
   "language": "python",
   "name": "simple"
  },
  "language_info": {
   "codemirror_mode": {
    "name": "ipython",
    "version": 3
   },
   "file_extension": ".py",
   "mimetype": "text/x-python",
   "name": "python",
   "nbconvert_exporter": "python",
   "pygments_lexer": "ipython3",
   "version": "3.10.9"
  },
  "vscode": {
   "interpreter": {
    "hash": "178f6c3502586c94dc93af50f98dbd15c5205250cbf2345a6eb57380f8c77d96"
   }
  }
 },
 "nbformat": 4,
 "nbformat_minor": 4
}
