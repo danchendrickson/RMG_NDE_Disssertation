{
 "cells": [
  {
   "cell_type": "markdown",
   "metadata": {},
   "source": [
    "# Look at accelerometer data \n",
    "\n",
    "From Jeep and Focus at various speeds over various potholes and storm drain channels."
   ]
  },
  {
   "cell_type": "code",
   "execution_count": 1,
   "metadata": {},
   "outputs": [],
   "source": [
    "#Standard Header used on the projects\n",
    "\n",
    "#first the major packages used for math and graphing\n",
    "import numpy as np\n",
    "import matplotlib.pyplot as plt\n",
    "from cycler import cycler\n",
    "import scipy.special as sp\n",
    "import platform\n",
    "\n",
    "#Custome graph format style sheet\n",
    "#plt.style.use('Prospectus.mplstyle')\n",
    "\n",
    "#If being run by a seperate file, use the seperate file's graph format and saving paramaeters\n",
    "#otherwise set what is needed\n",
    "if not 'Saving' in locals():\n",
    "    Saving = False\n",
    "if not 'Titles' in locals():\n",
    "    Titles = True\n",
    "if not 'Ledgends' in locals():\n",
    "    Ledgends = True\n",
    "if not 'FFormat' in locals():\n",
    "    FFormat = '.png'\n",
    "\n",
    "#Standard cycle for collors and line styles\n",
    "default_cycler = (cycler('color', ['0.00', '0.40', '0.60', '0.70']) + cycler(linestyle=['-', '--', ':', '-.']))\n",
    "plt.rc('axes', prop_cycle=default_cycler)"
   ]
  },
  {
   "cell_type": "code",
   "execution_count": 2,
   "metadata": {},
   "outputs": [],
   "source": [
    "HostName = platform.node()\n",
    "\n",
    "if HostName == \"Server\":\n",
    "    Computer = \"Desktop\"   \n",
    "elif HostName[-6:] == 'wm.edu':\n",
    "    Computer = \"SciClone\"\n",
    "elif HostName == \"SchoolLaptop\":\n",
    "    Computer = \"LinLap\"\n",
    "elif HostName == \"WTC-TAB-512\":\n",
    "    Computer = \"PortLap\"\n",
    "else:\n",
    "    Computer = \"WinLap\""
   ]
  },
  {
   "cell_type": "code",
   "execution_count": 3,
   "metadata": {},
   "outputs": [],
   "source": [
    "if Computer == \"SciClone\":\n",
    "    location = '/sciclone/home20/dchendrickson01/image/'\n",
    "elif Computer == \"WinLap\":\n",
    "    location = 'C:\\\\Data\\\\'\n",
    "elif Computer == \"Desktop\":\n",
    "    location = \"E:\\\\Backups\\\\Dan\\\\CraneData\\\\\"\n",
    "elif Computer == \"LinLap\":\n",
    "    location = '/home/dan/Output/'\n",
    "elif Computer == 'PortLap':\n",
    "    location = 'C:\\\\users\\\\dhendrickson\\\\Desktop\\\\AccelData\\\\'"
   ]
  },
  {
   "cell_type": "code",
   "execution_count": 4,
   "metadata": {},
   "outputs": [],
   "source": [
    "if Computer ==  \"SciClone\":\n",
    "    rootfolder = '/sciclone/home20/dchendrickson01/'\n",
    "    folder = '/sciclone/scr10/dchendrickson01/Laser Data/'\n",
    "elif Computer == \"Desktop\":\n",
    "    rootfolder = location\n",
    "    folder = rootfolder + \"Recordings2\\\\SubSet\\\\\"\n",
    "elif Computer ==\"WinLap\":\n",
    "    rootfolder = location\n",
    "    folder = rootfolder + \"Recordings2\\\\\"   \n",
    "elif Computer == \"LinLap\":\n",
    "    rootfolder = '/home/dan/Data/'\n",
    "    folder = rootfolder + 'Recordings2/'\n",
    "elif Computer =='PortLap':\n",
    "    rootfolder = location \n",
    "    folder = rootfolder + 'Recordings2\\\\'"
   ]
  },
  {
   "cell_type": "code",
   "execution_count": 5,
   "metadata": {},
   "outputs": [
    {
     "name": "stdout",
     "output_type": "stream",
     "text": [
      "SciClone /sciclone/scr10/dchendrickson01/Laser Data/ /sciclone/home20/dchendrickson01/\n"
     ]
    }
   ],
   "source": [
    "print(Computer, folder, rootfolder)"
   ]
  },
  {
   "cell_type": "code",
   "execution_count": 6,
   "metadata": {},
   "outputs": [],
   "source": [
    "#Extra Headers:\n",
    "import os as os\n",
    "import statistics as st\n",
    "import random\n",
    "#import multiprocessing\n",
    "#from joblib import Parallel, delayed\n",
    "import time\n",
    "import CoreFunctions as cf\n",
    "import pywt\n",
    "\n",
    "my_cmap = plt.get_cmap('gray')"
   ]
  },
  {
   "cell_type": "code",
   "execution_count": 7,
   "metadata": {},
   "outputs": [],
   "source": [
    "#DataSet = np.genfromtxt(open('./Data/Jeep SD 10.txt','r'), delimiter=',',skip_header=4)\n",
    "Header = np.array(['Top1', 'Top2','Top3']) #','Z1','X2','Y2','Z2'])\n",
    "#Header = np.array(['Date', 'Hour', 'Minute', 'Second', 'Sec Fraction', 'Sen0x', 'Sen0y', 'Sen0z', 'Sen1x', 'Sen1y', 'Sen1z', 'Sen2x', 'Sen2y', 'Sen2z', 'Sen3x', 'Sen3y', 'Sen3z', 'Sen4x', 'Sen4y', 'Sen4z', 'Sen5x', 'Sen5y', 'Sen5z'])\n"
   ]
  },
  {
   "cell_type": "markdown",
   "metadata": {},
   "source": [
    "fig=plt.figure(figsize=(6.67,3.75))\n",
    "plt.plot(DataSet[:,0],DataSet[:,1], label = 'X')\n",
    "plt.plot(DataSet[:,0],DataSet[:,2], label = 'Y')\n",
    "plt.plot(DataSet[:,0],DataSet[:,3], label = 'Z')\n",
    "plt.plot(DataSet[:,0],DataSet[:,4], label = 'R')\n",
    "\n",
    "title = '4 Magnitude Acceleration Curves'\n",
    "if Ledgends: plt.legend()\n",
    "if Titles: plt.title(title)\n",
    "if Saving: plt.savefig(location+title.replace(\" \", \"\").replace(\":\", \"\").replace(\",\", \"\")+FFormat)\n",
    "plt.show()"
   ]
  },
  {
   "cell_type": "markdown",
   "metadata": {},
   "source": [
    "def PlotFingerPrint(data, xName='a', title='', FP='mexh',scales = 50, slices=10, trim=0):\n",
    "    \n",
    "    FpScat=fp.getLabeledThumbprint(data, FP,scales,slices)\n",
    "    #print(np.shape(data)[1], scales)\n",
    "    if xName == 'a':\n",
    "        xName = np.arange(0,np.shape(FpScat)[1]-2*trim,1)\n",
    "    if trim == 0:\n",
    "        Al,Ms  = np.meshgrid(xName,np.linspace(1,scales,scales))\n",
    "    else:\n",
    "        Al,Ms  = np.meshgrid(xName,np.linspace(1,scales,scales))\n",
    "\n",
    "    \n",
    "\n",
    "    fig1 = plt.figure(figsize=(6.67,3.75), dpi=600)\n",
    "    ax1 = plt.axes()\n",
    "    if trim == 0:\n",
    "        cs1 = ax1.contourf(Al,Ms, FpScat[:,:],cmap=my_cmap,levels=slices)\n",
    "    else:\n",
    "        cs1 = ax1.contourf(Al,Ms, FpScat[:,trim:-trim],cmap=my_cmap,levels=slices)\n",
    "\n",
    "    if Titles: plt.title(title)\n",
    "    if Saving: plt.savefig(location+title.replace(\" \", \"\").replace(\":\", \"\").replace(\",\", \"\").replace(\".txt\",\"\")+FFormat)\n",
    "\n",
    "    plt.show()"
   ]
  },
  {
   "cell_type": "code",
   "execution_count": 8,
   "metadata": {},
   "outputs": [],
   "source": [
    "# Directory = './Data'\n",
    "#Directory = 'C:\\\\Users\\\\Dan\\\\Desktop\\\\Temp\\\\'\n",
    "#Directory = 'C:\\\\Users\\\\dhendrickson\\\\Desktop\\\\AccelData\\\\home\\\\pi\\\\AccelData\\\\'\n",
    "files = os.listdir(folder)\n",
    "\n",
    "#files = random.sample(files,2)\n",
    "\n",
    "# Reorder_cycler = (cycler('color', ['0.00', '0.70', '0.40', '0.90']) + cycler(linestyle=['-', '--', ':', '-.']))\n",
    "# plt.rc('axes', prop_cycle=Reorder_cycler)\n",
    "\n",
    "#start = 1538500\n",
    "#end  =   start + 5000 #1649552\n",
    "#start = 54000\n",
    "#end = 56000\n",
    "start = 0\n",
    "end = 160000\n",
    "\n",
    "size = 5000\n",
    "Arange = 10\n",
    "coord = 2\n",
    "\n",
    "Saving = True\n",
    "#location = Directory\n",
    "Titles = True"
   ]
  },
  {
   "cell_type": "code",
   "execution_count": 9,
   "metadata": {},
   "outputs": [
    {
     "name": "stdout",
     "output_type": "stream",
     "text": [
      "0 stack 27 moving away rom close.csv\n",
      "1 Satck 25 starting to hoist.csv\n",
      "2 stack 27 accelerating out of tz.csv\n",
      "3 Stack 25 accelerating away end of transfer zone.csv\n",
      "4 stack 25 leaving waterside transfer 1.csv\n",
      "5 Stack 25 both cranes moving away, half speed by center anchor.csv\n",
      "6 stack 27 bar impacting 20 foot contaienr.csv\n",
      "7 Stack 25 empty bar hoist down in transfer zone.csv\n",
      "8 stack 25 spreader hitting container.csv\n",
      "9 Stack 25 full speed towards me, 200 foot away, noise in track.csv\n",
      "10 stack 27 slowly entering tz.csv\n",
      "11 Stack 25 hoisting up.csv\n",
      "12 stack 27 coming towards and slowing down 2.csv\n",
      "13 Stack 25 leaving waterside transfer.csv\n",
      "14 stack 27 accelerating out of tz 3.csv\n",
      "15 Stack 26 both cranes moving toward, halfway down track.csv\n",
      "16 stack 27 both cranes moving fast away.csv\n",
      "17 top and end - enter tz.csv\n",
      "18 Stack 26 far crane moving near crane half way down stack stationary.csv\n",
      "19 stack 27 coming towards and slowing down.csv\n",
      "20 Stack 26 stationary crane far down track.csv\n",
      "21 stack 27 5 bays down accelerating towards tz.csv\n",
      "22 Stack 27 both cranes moving slowly near crane decclerating.csv\n",
      "23 stack 27 runnding down track away.csv\n",
      "24 Stack 27 entering transfer zone.csv\n",
      "25 stack 25 haflway down track coming towards.csv\n",
      "26 Stack 27 nnear crane stopped second crane moving toward over rough track.csv\n",
      "27 stack 27 accelerating out of tz 4.csv\n",
      "28 Stack 52 - picking up box and leaving transfer zone.csv\n",
      "29 Stack 18 test 10 crane enter tz.csv\n",
      "30 Stack 54 not moving.csv\n",
      "31 stack 27 crane moving away third down track.csv\n",
      "32 Test Stand 120Hz at 200khz sampling.csv\n",
      "33 stack 27 decelerating to enter tz.csv\n",
      "34 Test Stand 15000Hz at 200khz sampling.csv\n",
      "35 stack 27 entering tz 2.csv\n",
      "36 Test Stand 3khz at 50khz sampling.csv\n",
      "37 stack 27 hoisting in tz.csv\n",
      "38 Test Stand 5000Hz at 200khz sampling.csv\n",
      "39 stack 27 leaving tz.csv\n",
      "40 Test Stand 500Hz at 200khz sampling.csv\n",
      "41 stack 27 accelerating out of tz 2.csv\n",
      "42 Test Stand 500hz at 50khz sampling - high volume - 0.00 um.csv\n",
      "43 stack 27 bar impacting container in tz.csv\n",
      "44 Test Stand 500hz at 50khz sampling - high volume.csv\n",
      "45 stack 27 lowering empty bar.csv\n",
      "46 Test Stand 500hz at 50khz sampling.csv\n",
      "47 stack 27 lowering box 6 bays down.csv\n",
      "48 Test Stand 60Hz at 200khz sampling.csv\n",
      "49 stack 27 medium distance moving towards.csv\n",
      "50 Test Stand at rest at 200khz sampling.csv\n",
      "51 stack 54 - 2nd crane moving slow speed.csv\n",
      "52 stack 25 coming into zone.csv\n",
      "53 Stack 18 test 1.csv\n",
      "54 stack 25 coming towards.csv\n",
      "55 stack 27 lowering ocntainer in tz.csv\n",
      "56 stack 25 crane leaving transfer zone.csv\n",
      "57 stack 27 bar landing on tank container 3rd try - probably human driven.csv\n",
      "58 stack 27 moving towards while shuttle enters tz.csv\n",
      "59 stack 27 bar landing on tank container.csv\n",
      "60 stack 27 lowering bar maybe getting impact wiht box.csv\n",
      "61 stack 27 both moving fast towards halfway down.csv\n",
      "62 top and web - 1 spread impact container tz.csv\n",
      "63 stack 27 cranes moving towards eachother half way down track.csv\n",
      "64 top and web - 2 accel out of tz.csv\n",
      "65 stack 27 near crane stationary second crane moving away.csv\n",
      "66 Stack 13 - Head end - crane way down track not moving 3.csv\n",
      "67 Stack 13 - Head end - crane way down track not moving.csv\n",
      "68 Stack 13 - Head end - crane way down track.csv\n",
      "69 Stack 13 - Web L1 R2 - accel away close.csv\n",
      "70 Stack 13 - Web L1 R2 - entring tz slow.csv\n",
      "71 Stack 13 - Web L1 R2 - stoping in tz supper close.csv\n",
      "72 Stack 14 - Head end - crane accel out of tz.csv\n",
      "73 Stack 14 - Head end - crane coming toward area.csv\n",
      "74 Stack 14 - Head end - crane hoist in tz.csv\n",
      "75 Stack 14 - Head end - crane leaving area.csv\n",
      "76 Stack 14 - Head end - crane slow entering tz.csv\n",
      "77 Stack 14 - Head end - going away from down track.csv\n",
      "78 Stack 14 - Web L1 R2 - accel out of tz.csv\n",
      "79 Stack 14 - Web L1 R2 - coming toward close.csv\n",
      "80 Stack 14 - Web L1 R2 - coming toward mid down track 2.csv\n",
      "81 Stack 14 - Web L1 R2 - coming toward mid down track.csv\n",
      "82 Stack 14 - Web L1 R2 - coming toward way down track.csv\n",
      "83 Stack 14 - Web L1 R2 - leaving tz.csv\n",
      "84 Stack 14 - Web L1 R2 - moving away down track 2.csv\n",
      "85 Stack 14 - Web L1 R2 - moving away down track.csv\n",
      "86 Stack 14 - Web L1 R2 - moving away way down track 2.csv\n",
      "87 Stack 14 - Web L1 R2 - moving away way down track.csv\n",
      "88 Stack 14 - Web L1 R2 - slow in tz.csv\n",
      "89 Stack 14 - Web L1 R2 - spred hitting container.csv\n",
      "90 Stack 14 - Web L1 R2 - start hoist.csv\n",
      "91 Stack 14 - Web L1 R2 - stationary down tack.csv\n",
      "92 Stack 14 - Web L1 R2 - stationary down track 2.csv\n",
      "93 Stack 18 test 11 start hoist container.csv\n",
      "94 Stack 18 test 12 accel away with container.csv\n",
      "95 Stack 18 test 13 stopping down track.csv\n",
      "96 Stack 18 test 14 shuttle drop box in tz.csv\n",
      "97 Stack 18 test 15 crane decell at tz.csv\n",
      "98 Stack 18 test 16 spread land on container.csv\n",
      "99 Stack 18 test 17 crane accel out of tz.csv\n",
      "100 Stack 18 test 18 lowering container 160 feet down track.csv\n",
      "101 Stack 18 test 19 accel away from 160 feet down track.csv\n",
      "102 Stack 18 test 2 cluncked with weight.csv\n",
      "103 Stack 18 test 3 cluncked with weight.csv\n",
      "104 Stack 18 test 4 crane in TZ.csv\n",
      "105 Stack 18 test 5 crane trolley and leave tz.csv\n",
      "106 Stack 18 test 6 clunk past anchor.csv\n",
      "107 Stack 18 test 7 shuttle driving past.csv\n",
      "108 Stack 18 test 8 crane by center anchor.csv\n",
      "109 Stack 18 test 9 crane inbound at speed.csv\n",
      "110 top and end - accel away from dwon track.csv\n",
      "111 top and end - accel out of tz 2.csv\n",
      "112 top and end - accel out of tz.csv\n",
      "113 top and end - brakeing in tz.csv\n",
      "114 top and end - clunk track with rebar.csv\n",
      "115 top and end - clunk track with rebar running away 2.csv\n",
      "116 top and end - clunk track with rebar running away.csv\n",
      "117 top and end - comming towad.csv\n",
      "118 top and end - container down 240 foot down track 2.csv\n",
      "119 top and end - container down 240 foot down track.csv\n",
      "120 top and end - hoisting.csv\n",
      "121 top and end - hoisting in tz.csv\n",
      "122 top and end - leave tx.csv\n",
      "123 top and end - lowering bar in tz.csv\n",
      "124 top and end - rolling into tz.csv\n",
      "125 top and end - spread on container.csv\n",
      "126 top and end - stoppin down track.csv\n",
      "127 top and web - 3 top only put container in tz.csv\n",
      "128 top and web - 4 top only accel out of tz.csv\n",
      "129 top and web - 5 top only get containter 160 feet away.csv\n",
      "130 top and web - 6 top only drive into tz.csv\n",
      "131 top and web - 7 top only creep close.csv\n",
      "132 top and web - 8 accel away from very close.csv\n"
     ]
    }
   ],
   "source": [
    "for i in range(len(files)):\n",
    "    print(i,files[i])"
   ]
  },
  {
   "cell_type": "code",
   "execution_count": 10,
   "metadata": {},
   "outputs": [
    {
     "name": "stdout",
     "output_type": "stream",
     "text": [
      "['haar', 'db1', 'db2', 'db3', 'db4', 'db5', 'db6', 'db7', 'db8', 'db9', 'db10', 'db11', 'db12', 'db13', 'db14', 'db15', 'db16', 'db17', 'db18', 'db19', 'db20', 'db21', 'db22', 'db23', 'db24', 'db25', 'db26', 'db27', 'db28', 'db29', 'db30', 'db31', 'db32', 'db33', 'db34', 'db35', 'db36', 'db37', 'db38', 'sym2', 'sym3', 'sym4', 'sym5', 'sym6', 'sym7', 'sym8', 'sym9', 'sym10', 'sym11', 'sym12', 'sym13', 'sym14', 'sym15', 'sym16', 'sym17', 'sym18', 'sym19', 'sym20', 'coif1', 'coif2', 'coif3', 'coif4', 'coif5', 'coif6', 'coif7', 'coif8', 'coif9', 'coif10', 'coif11', 'coif12', 'coif13', 'coif14', 'coif15', 'coif16', 'coif17', 'bior1.1', 'bior1.3', 'bior1.5', 'bior2.2', 'bior2.4', 'bior2.6', 'bior2.8', 'bior3.1', 'bior3.3', 'bior3.5', 'bior3.7', 'bior3.9', 'bior4.4', 'bior5.5', 'bior6.8', 'rbio1.1', 'rbio1.3', 'rbio1.5', 'rbio2.2', 'rbio2.4', 'rbio2.6', 'rbio2.8', 'rbio3.1', 'rbio3.3', 'rbio3.5', 'rbio3.7', 'rbio3.9', 'rbio4.4', 'rbio5.5', 'rbio6.8', 'dmey', 'gaus1', 'gaus2', 'gaus3', 'gaus4', 'gaus5', 'gaus6', 'gaus7', 'gaus8', 'mexh', 'morl', 'cgau1', 'cgau2', 'cgau3', 'cgau4', 'cgau5', 'cgau6', 'cgau7', 'cgau8', 'shan', 'fbsp', 'cmor', 'beta']\n"
     ]
    }
   ],
   "source": [
    "WvltFam = pywt.families()\n",
    "Wvlts = []\n",
    "for Fam in WvltFam:\n",
    "    temp = pywt.wavelist(Fam)\n",
    "    for wvlt in temp:\n",
    "        Wvlts.append(wvlt)\n",
    "Wvlts.append('beta')        \n",
    "print(Wvlts)"
   ]
  },
  {
   "cell_type": "code",
   "execution_count": 11,
   "metadata": {},
   "outputs": [],
   "source": [
    "location = '/sciclone/scr10/dchendrickson01/LaserPrints3/'\n",
    "\n",
    "stime = time.time()\n",
    "\n",
    "chunkSize=5000\n",
    "\n",
    "#for file in files[:9]:\n",
    "def fileImages(file, wvlt):\n",
    "    if file[-4:] ==  '.csv':\n",
    "        try:\n",
    "            ODataSet = np.genfromtxt(open(folder+'/'+file,'r'), delimiter=',',skip_header=1)\n",
    "    \n",
    "            ODataSet = ODataSet[:,2:4]\n",
    "\n",
    "            for coord in range(2):\n",
    "                for j in range(np.shape(ODataSet)[0]-1):\n",
    "                    try:\n",
    "                        ODataSet[j,coord] = float(ODataSet[j,coord])\n",
    "                    except:\n",
    "                        ODataSet[j,coord] = ODataSet[j-1,coord]\n",
    "                    if ODataSet[j,coord] == -999.999:\n",
    "                        ODataSet[j,coord] = ODataSet[j-1,coord]\n",
    "\n",
    "            Diffs = np.zeros(np.shape(ODataSet)[0])\n",
    "            for j in range(np.shape(ODataSet)[0]-1):\n",
    "                Diffs[j] = ODataSet[j,0] - ODataSet[j,1]\n",
    "            norm = np.average(ODataSet[:,0])\n",
    "            ODataSet[:,0]-=norm\n",
    "            norm = np.average(ODataSet[:,1])\n",
    "            ODataSet[:,1]-=norm\n",
    "            norm = np.average(Diffs)\n",
    "            Diffs[:]-=norm\n",
    "\n",
    "            CleanDiff = cf.Smoothing(Diffs,2)\n",
    "            Clean0 = cf.Smoothing(ODataSet[:,0],2)\n",
    "            Clean1 = cf.Smoothing(ODataSet[:,1],2)\n",
    "\n",
    "            for i in range(int(len(CleanDiff)/chunkSize)):\n",
    "                start = i*chunkSize\n",
    "                end = start+chunkSize-1\n",
    "\n",
    "                fprint = cf.getThumbprint2(CleanDiff[start:end], wvlt, 500,10)\n",
    "                cf.PlotFingerPrint(fprint.T, 'Channel Differences '+wvlt + file + ' at ' + str(start), location, True, Show=False)\n",
    "\n",
    "                fprint = cf.getThumbprint2(Clean0[start:end], wvlt, 500, 10)\n",
    "                cf.PlotFingerPrint(fprint.T, 'Channel 0 '+wvlt + file + ' at ' + str(start), location, True, Show=False)\n",
    "\n",
    "                fprint = cf.getThumbprint2(Clean1[start:end], wvlt, 500, 10)\n",
    "                cf.PlotFingerPrint(fprint.T, 'Channel 1 '+wvlt+ + file + ' at ' + str(start), location, True, Show=False)\n",
    "        except:\n",
    "            print(file)\n",
    "    \n",
    "    return 0\n",
    "    "
   ]
  },
  {
   "cell_type": "code",
   "execution_count": 12,
   "metadata": {},
   "outputs": [],
   "source": [
    "import multiprocessing\n",
    "from joblib import Parallel, delayed"
   ]
  },
  {
   "cell_type": "code",
   "execution_count": 13,
   "metadata": {},
   "outputs": [],
   "source": [
    "#nothiing = Parallel(n_jobs=30)(delayed(fileImages)(file) for file in files)"
   ]
  },
  {
   "cell_type": "code",
   "execution_count": 97,
   "metadata": {},
   "outputs": [
    {
     "name": "stdout",
     "output_type": "stream",
     "text": [
      "Done\n"
     ]
    }
   ],
   "source": [
    "print('Done')\n",
    "i = 48\n",
    "file =files[i]"
   ]
  },
  {
   "cell_type": "code",
   "execution_count": 98,
   "metadata": {},
   "outputs": [],
   "source": [
    "# make all wavelets one file\n",
    "ODataSet = np.genfromtxt(open(folder+'/'+file,'r'), delimiter=',',skip_header=1)\n",
    "    \n",
    "ODataSet = ODataSet[:,2:4]"
   ]
  },
  {
   "cell_type": "code",
   "execution_count": 99,
   "metadata": {},
   "outputs": [
    {
     "ename": "IndexError",
     "evalue": "index 0 is out of bounds for axis 1 with size 0",
     "output_type": "error",
     "traceback": [
      "\u001b[0;31m---------------------------------------------------------------------------\u001b[0m",
      "\u001b[0;31mIndexError\u001b[0m                                Traceback (most recent call last)",
      "Cell \u001b[0;32mIn[99], line 4\u001b[0m\n\u001b[1;32m      3\u001b[0m \u001b[38;5;28;01mtry\u001b[39;00m:\n\u001b[0;32m----> 4\u001b[0m     ODataSet[j,coord] \u001b[38;5;241m=\u001b[39m \u001b[38;5;28mfloat\u001b[39m(ODataSet[j,coord])\n\u001b[1;32m      5\u001b[0m \u001b[38;5;28;01mexcept\u001b[39;00m:\n",
      "\u001b[0;31mIndexError\u001b[0m: index 0 is out of bounds for axis 1 with size 0",
      "\nDuring handling of the above exception, another exception occurred:\n",
      "\u001b[0;31mIndexError\u001b[0m                                Traceback (most recent call last)",
      "Cell \u001b[0;32mIn[99], line 6\u001b[0m\n\u001b[1;32m      4\u001b[0m     ODataSet[j,coord] \u001b[38;5;241m=\u001b[39m \u001b[38;5;28mfloat\u001b[39m(ODataSet[j,coord])\n\u001b[1;32m      5\u001b[0m \u001b[38;5;28;01mexcept\u001b[39;00m:\n\u001b[0;32m----> 6\u001b[0m     ODataSet[j,coord] \u001b[38;5;241m=\u001b[39m ODataSet[j\u001b[38;5;241m-\u001b[39m\u001b[38;5;241m1\u001b[39m,coord]\n\u001b[1;32m      7\u001b[0m \u001b[38;5;28;01mif\u001b[39;00m ODataSet[j,coord] \u001b[38;5;241m==\u001b[39m \u001b[38;5;241m-\u001b[39m\u001b[38;5;241m999.999\u001b[39m:\n\u001b[1;32m      8\u001b[0m     ODataSet[j,coord] \u001b[38;5;241m=\u001b[39m ODataSet[j\u001b[38;5;241m-\u001b[39m\u001b[38;5;241m1\u001b[39m,coord]\n",
      "\u001b[0;31mIndexError\u001b[0m: index 0 is out of bounds for axis 1 with size 0"
     ]
    }
   ],
   "source": [
    "for coord in range(2):\n",
    "    for j in range(np.shape(ODataSet)[0]-1):\n",
    "        try:\n",
    "            ODataSet[j,coord] = float(ODataSet[j,coord])\n",
    "        except:\n",
    "            ODataSet[j,coord] = ODataSet[j-1,coord]\n",
    "        if ODataSet[j,coord] == -999.999:\n",
    "            ODataSet[j,coord] = ODataSet[j-1,coord]\n",
    "\n",
    "Diffs = np.zeros(np.shape(ODataSet)[0])\n",
    "for j in range(np.shape(ODataSet)[0]-1):\n",
    "    Diffs[j] = ODataSet[j,0] - ODataSet[j,1]\n",
    "\n",
    "norm = np.average(ODataSet[:,0])\n",
    "ODataSet[:,0]-=norm\n",
    "norm = np.average(ODataSet[:,1])\n",
    "ODataSet[:,1]-=norm\n",
    "norm = np.average(Diffs)\n",
    "Diffs[:]-=norm\n",
    "\n",
    "CleanDiff = cf.Smoothing(Diffs,2)\n",
    "Clean0 = cf.Smoothing(ODataSet[:,0],2)\n",
    "Clean1 = cf.Smoothing(ODataSet[:,1],2)\n"
   ]
  },
  {
   "cell_type": "code",
   "execution_count": null,
   "metadata": {},
   "outputs": [],
   "source": [
    "wvlt = 'gaus4'\n",
    "Fdpi = 300\n",
    "scales=500\n"
   ]
  },
  {
   "cell_type": "code",
   "execution_count": null,
   "metadata": {},
   "outputs": [],
   "source": [
    "fig,axs = plt.subplots(3,figsize=(6,3), dpi=Fdpi)\n",
    "plt.subplots_adjust(hspace=0.3)\n",
    "axs[0].plot(Clean0[25:-50], label='Channel 0',linewidth=0.5)\n",
    "axs[0].set_title('Channel 0', fontsize=7)\n",
    "axs[0].set_xticks([])\n",
    "axs[1].plot(Clean1[25:-50], label='Channel 1',linewidth=0.5, color='0.4')\n",
    "axs[1].set_title('Channel 1', fontsize=7)\n",
    "axs[1].set_xticks([])\n",
    "axs[2].plot(CleanDiff[25:-50], label='Differences',linewidth=0.5,color='0.66')\n",
    "axs[2].set_title('Differences', fontsize=7)\n",
    "plt.show()"
   ]
  },
  {
   "cell_type": "code",
   "execution_count": 100,
   "metadata": {},
   "outputs": [],
   "source": [
    "fprintD = cf.getThumbprint2(CleanDiff, wvlt, scales,2)\n",
    "fprint0 = cf.getThumbprint2(Clean0, wvlt, scales, 2)\n",
    "fprint1 = cf.getThumbprint2(Clean1, wvlt, scales, 2)\n"
   ]
  },
  {
   "cell_type": "code",
   "execution_count": null,
   "metadata": {
    "scrolled": true
   },
   "outputs": [],
   "source": [
    "#\n",
    "#     data, title = '', SaveSpot = location, ToSave = Saving, Show = True, Pdpi =PlotDPI, Titles=False\n",
    "cf.PlotFingerPrint(fprint0.T, 'Channel 0 ' , ToSave =  False, Show=True, Titles=True, Pdpi=Fdpi)\n",
    "cf.PlotFingerPrint(fprint1.T, 'Channel 1 ', ToSave =  False, Show=True, Titles=True, Pdpi=Fdpi)\n",
    "cf.PlotFingerPrint(fprintD.T, 'Channel Differences ' , ToSave =  False, Show=True, Titles=True, Pdpi=Fdpi)\n",
    "\n"
   ]
  },
  {
   "cell_type": "code",
   "execution_count": null,
   "metadata": {},
   "outputs": [],
   "source": [
    "start=340000\n",
    "end = 360000"
   ]
  },
  {
   "cell_type": "code",
   "execution_count": null,
   "metadata": {
    "scrolled": true
   },
   "outputs": [],
   "source": [
    "fig,axs = plt.subplots(3,figsize=(6,3), dpi=Fdpi)\n",
    "plt.subplots_adjust(hspace=0.3)\n",
    "axs[0].plot(Clean0[start:end], label='Channel 0',linewidth=0.5)\n",
    "axs[0].set_title('Channel 0', fontsize=7)\n",
    "axs[0].set_xticks([])\n",
    "axs[1].plot(Clean1[start:end], label='Channel 1',linewidth=0.5, color='0.4')\n",
    "axs[1].set_title('Channel 1', fontsize=7)\n",
    "axs[1].set_xticks([])\n",
    "axs[2].plot(CleanDiff[start:end], label='Differences',linewidth=0.5,color='0.66')\n",
    "axs[2].set_title('Differences', fontsize=7)\n",
    "plt.show()"
   ]
  },
  {
   "cell_type": "code",
   "execution_count": 23,
   "metadata": {},
   "outputs": [
    {
     "data": {
      "text/plain": [
       "'db4'"
      ]
     },
     "execution_count": 23,
     "metadata": {},
     "output_type": "execute_result"
    }
   ],
   "source": [
    "wvlt"
   ]
  },
  {
   "cell_type": "code",
   "execution_count": null,
   "metadata": {
    "scrolled": true
   },
   "outputs": [],
   "source": [
    "#\n",
    "#     data, title = '', SaveSpot = location, ToSave = Saving, Show = True, Pdpi =PlotDPI, Titles=False\n",
    "cf.PlotFingerPrint(fprint0[start:end].T, 'Channel 0 ' , ToSave =  False, Show=True, Titles=True, Pdpi=Fdpi)\n",
    "cf.PlotFingerPrint(fprint1[start:end].T, 'Channel 1 ', ToSave =  False, Show=True, Titles=True, Pdpi=Fdpi)\n",
    "cf.PlotFingerPrint(fprintD[start:end].T, 'Channel Differences ' , ToSave =  False, Show=True, Titles=True, Pdpi=Fdpi)\n",
    "\n"
   ]
  },
  {
   "cell_type": "code",
   "execution_count": null,
   "metadata": {},
   "outputs": [],
   "source": [
    "fprintDs = cf.getThumbprint2((CleanDiff[start:end]-np.average(CleanDiff[start:end])), wvlt, scales,2)\n",
    "fprint0s = cf.getThumbprint2((Clean0[start:end]-np.average(Clean0[start:end])), wvlt, scales, 2)\n",
    "fprint1s = cf.getThumbprint2((Clean1[start:end]-np.average(Clean1[start:end])), wvlt, scales, 2)\n"
   ]
  },
  {
   "cell_type": "code",
   "execution_count": null,
   "metadata": {
    "scrolled": false
   },
   "outputs": [],
   "source": [
    "cf.PlotFingerPrint(fprint0s.T, 'Channel 0 ' , ToSave =  False, Show=True, Titles=True, Pdpi=Fdpi)\n",
    "cf.PlotFingerPrint(fprint1s.T, 'Channel 1 ', ToSave =  False, Show=True, Titles=True, Pdpi=Fdpi)\n",
    "cf.PlotFingerPrint(fprintDs.T, 'Channel Differences ' , ToSave =  False, Show=True, Titles=True, Pdpi=Fdpi)\n",
    "\n"
   ]
  },
  {
   "cell_type": "code",
   "execution_count": null,
   "metadata": {},
   "outputs": [],
   "source": [
    "fprintDss = cf.getThumbprint2(CleanDiff[start-2000:end+2000], wvlt, scales,2)\n",
    "fprint0ss = cf.getThumbprint2(Clean0[start-2000:end+2000], wvlt, scales, 2)\n",
    "fprint1ss = cf.getThumbprint2(Clean1[start-2000:end+2000], wvlt, scales, 2)\n"
   ]
  },
  {
   "cell_type": "code",
   "execution_count": null,
   "metadata": {},
   "outputs": [],
   "source": [
    "cf.PlotFingerPrint(fprint0ss[2000:-2000].T, 'Channel 0 ' , ToSave =  False, Show=True, Titles=True, Pdpi=Fdpi)\n",
    "cf.PlotFingerPrint(fprint1ss[2000:-2000].T, 'Channel 1 ', ToSave =  False, Show=True, Titles=True, Pdpi=Fdpi)\n",
    "cf.PlotFingerPrint(fprintDss[2000:-2000].T, 'Channel Differences ' , ToSave =  False, Show=True, Titles=True, Pdpi=Fdpi)\n"
   ]
  },
  {
   "cell_type": "code",
   "execution_count": null,
   "metadata": {},
   "outputs": [],
   "source": [
    "Ridges0 = cf.RidgeCount(fprint0[start:end].T)\n",
    "Ridges1 = cf.RidgeCount(fprint1[start:end].T)\n",
    "RidgesD = cf.RidgeCount(fprintD[start:end].T)"
   ]
  },
  {
   "cell_type": "code",
   "execution_count": null,
   "metadata": {},
   "outputs": [],
   "source": [
    "fig = plt.figure(figsize=(6,4), dpi=Fdpi)\n",
    "plt.plot(Ridges0)\n",
    "plt.plot(Ridges1)\n",
    "plt.plot(RidgesD)\n",
    "plt.show()"
   ]
  },
  {
   "cell_type": "code",
   "execution_count": 31,
   "metadata": {},
   "outputs": [],
   "source": [
    "import DWFT as dwft"
   ]
  },
  {
   "cell_type": "code",
   "execution_count": 32,
   "metadata": {},
   "outputs": [
    {
     "ename": "SyntaxError",
     "evalue": "invalid syntax (796784281.py, line 2)",
     "output_type": "error",
     "traceback": [
      "\u001b[0;36m  Cell \u001b[0;32mIn[32], line 2\u001b[0;36m\u001b[0m\n\u001b[0;31m    valleysorpeaks='both', normconstant=1, plot=True):\u001b[0m\n\u001b[0m                                                     ^\u001b[0m\n\u001b[0;31mSyntaxError\u001b[0m\u001b[0;31m:\u001b[0m invalid syntax\n"
     ]
    }
   ],
   "source": [
    "getThumbprint(data, wvt, ns=50, numslices=5, slicethickness=0.12, \n",
    "                  valleysorpeaks='both', normconstant=1, plot=True):"
   ]
  },
  {
   "cell_type": "code",
   "execution_count": null,
   "metadata": {},
   "outputs": [],
   "source": [
    "result = dwft.FPFeatureVector(fprint0ss[2000:-2000].T)"
   ]
  },
  {
   "cell_type": "code",
   "execution_count": null,
   "metadata": {},
   "outputs": [],
   "source": [
    "Wvlts"
   ]
  },
  {
   "cell_type": "code",
   "execution_count": null,
   "metadata": {},
   "outputs": [],
   "source": [
    "wvlt = 'mexh'\n",
    "fprintD = cf.getThumbprint2(CleanDiff, wvlt, scales,2)\n",
    "cf.PlotFingerPrint(fprintD[start:end].T, 'Channel Differences ' , ToSave =  False, Show=True, Titles=True, Pdpi=Fdpi)\n"
   ]
  },
  {
   "cell_type": "code",
   "execution_count": null,
   "metadata": {},
   "outputs": [],
   "source": [
    "asdfasdf"
   ]
  },
  {
   "cell_type": "code",
   "execution_count": null,
   "metadata": {
    "scrolled": true
   },
   "outputs": [],
   "source": [
    "for i in range(120):\n",
    "    start = i*2500\n",
    "    end = start+2499\n",
    "    \n",
    "    fig=plt.figure(figsize=(6.67,3.75),dpi=800,linewidth=0.2)\n",
    "    plt.plot(CleanDiff[start:end], label='Diffs')\n",
    "    plt.plot(Clean0[start:end], label='Chan0')\n",
    "    plt.plot(Clean1[start:end], label='Chan1')\n",
    "    plt.title=('Source '+file)\n",
    "    #plt.title()\n",
    "    plt.savefig('Source'+file+str(start)+'.png')\n",
    "    plt.show()\n",
    "    \n",
    "fig, ax1 = plt.subplots(figsize=(6.67,3.75),dpi=800,linewidth=0.1) \n",
    "plt.plot(CleanDiff, label='Diffs')\n",
    "plt.plot(Clean0, label='Chan0')\n",
    "plt.plot(Clean1, label='Chan1')\n",
    "plt.title=('Source '+file)\n",
    "#plt.savefig('SourceAll'+file+'.png')\n",
    "plt.show()\n"
   ]
  },
  {
   "cell_type": "code",
   "execution_count": null,
   "metadata": {},
   "outputs": [],
   "source": [
    "def MakeWvltImages(wvlt):\n",
    "    try:\n",
    "        for i in range(12):\n",
    "            start = i*25000\n",
    "            end = start+24999\n",
    "\n",
    "            fprint = cf.getThumbprint2(CleanDiff[start:end], wvlt, 1000,10)\n",
    "            cf.PlotFingerPrint(fprint.T, 'Channel Differences ' + wvlt + file + ' at ' + str(start), location, True, Show=False)\n",
    "\n",
    "            fprint = cf.getThumbprint2(Clean0[start:end], wvlt, 1000, 10)\n",
    "            cf.PlotFingerPrint(fprint.T, 'Channel 0 ' + wvlt + file + ' at ' + str(start), location, True, Show=False)\n",
    "\n",
    "            fprint = cf.getThumbprint2(Clean1[start:end], wvlt, 1000, 10)\n",
    "            cf.PlotFingerPrint(fprint.T, 'Channel 1 ' + wvlt + file + ' at ' + str(start), location, True, Show=False)\n",
    "\n",
    "    except:\n",
    "        print(wvlt)\n",
    "    \n",
    "    return 0"
   ]
  },
  {
   "cell_type": "code",
   "execution_count": null,
   "metadata": {},
   "outputs": [],
   "source": [
    "nothiing = Parallel(n_jobs=30)(delayed(MakeWvltImages)(wvlt) for wvlt in Wvlts)"
   ]
  },
  {
   "cell_type": "code",
   "execution_count": null,
   "metadata": {},
   "outputs": [],
   "source": [
    "for wvlt in Wvlts:\n",
    "    MakeWvltImages(wvlt)\n",
    "    print(wvlt)"
   ]
  },
  {
   "cell_type": "code",
   "execution_count": null,
   "metadata": {},
   "outputs": [],
   "source": [
    "ODataSet = np.genfromtxt(open(folder+'/'+files[2],'r'), delimiter=',',skip_header=1)\n",
    "#ODataSet = ODataSet[150000:200000,:]\n",
    "length = np.shape(ODataSet)[0]\n",
    "\n",
    "#Header = ODataSet[0,:]\n",
    "\n",
    "\n",
    "#SmoothRDataSet = np.zeros(np.shape(ODataSet)[0])\n",
    "SmoothXDataSet = np.zeros((np.shape(ODataSet)[0],18))\n",
    "#TdDataSet = np.zeros(np.shape(ODataSet)[0])\n",
    "\n",
    "results =[]\n",
    "Results = []\n",
    "#fig=plt.figure(figsize=(6.67,3.75), dpi=1200)"
   ]
  },
  {
   "cell_type": "code",
   "execution_count": null,
   "metadata": {},
   "outputs": [],
   "source": [
    "ODataSet = ODataSet[:,2:4]"
   ]
  },
  {
   "cell_type": "code",
   "execution_count": null,
   "metadata": {},
   "outputs": [],
   "source": [
    "for coord in range(2):\n",
    "    for j in range(np.shape(ODataSet)[0]-1):\n",
    "        try:\n",
    "            ODataSet[j,coord] = float(ODataSet[j,coord])\n",
    "        except:\n",
    "            ODataSet[j,coord] = ODataSet[j-1,coord]\n",
    "        if ODataSet[j,coord] == -999.999:\n",
    "            ODataSet[j,coord] = ODataSet[j-1,coord]\n",
    "\n",
    "Diffs = np.zeros(np.shape(ODataSet)[0])\n",
    "for j in range(np.shape(ODataSet)[0]-1):\n",
    "    Diffs[j] = ODataSet[j,0] - ODataSet[j,1]\n",
    "norm = np.average(ODataSet[:,0])\n",
    "ODataSet[:,0]-=norm\n",
    "norm = np.average(ODataSet[:,1])\n",
    "ODataSet[:,1]-=norm\n",
    "norm = np.average(Diffs)\n",
    "Diffs[:]-=norm"
   ]
  },
  {
   "cell_type": "code",
   "execution_count": null,
   "metadata": {},
   "outputs": [],
   "source": [
    "fig = plt.figure(figsize=(16,3))\n",
    "plt.plot(ODataSet[:,0])\n",
    "plt.plot(ODataSet[:,1])\n",
    "plt.show()"
   ]
  },
  {
   "cell_type": "code",
   "execution_count": null,
   "metadata": {},
   "outputs": [],
   "source": [
    "fig = plt.figure(figsize=(16,3))\n",
    "plt.plot(Diffs[:-1])\n",
    "plt.show()"
   ]
  },
  {
   "cell_type": "code",
   "execution_count": null,
   "metadata": {},
   "outputs": [],
   "source": [
    "fprint = cf.getThumbprint2(Diffs, 'mexh', 500,5)"
   ]
  },
  {
   "cell_type": "code",
   "execution_count": null,
   "metadata": {},
   "outputs": [],
   "source": [
    "cf.PlotFingerPrint(fprint.T, 'Try 1', location, False)"
   ]
  },
  {
   "cell_type": "code",
   "execution_count": null,
   "metadata": {},
   "outputs": [],
   "source": [
    "CleanDiff = cf.Smoothing(Diffs,2)\n",
    "fprint = cf.getThumbprint2(CleanDiff, 'mexh', 500,5)\n",
    "cf.PlotFingerPrint(fprint.T, 'Clean', location, False)"
   ]
  },
  {
   "cell_type": "code",
   "execution_count": null,
   "metadata": {},
   "outputs": [],
   "source": [
    "fprint = cf.getThumbprint2(ODataSet[:,1], 'mexh', 500,5)\n",
    "cf.PlotFingerPrint(fprint.T, 'Original1', location, False)"
   ]
  },
  {
   "cell_type": "code",
   "execution_count": null,
   "metadata": {},
   "outputs": [],
   "source": [
    "CleanD = cf.Smoothing(ODataSet[:,1],2)\n",
    "fprint = cf.getThumbprint2(CleanD, 'mexh', 500,5)\n",
    "cf.PlotFingerPrint(fprint.T, 'Clean1', location, False)"
   ]
  },
  {
   "cell_type": "code",
   "execution_count": null,
   "metadata": {},
   "outputs": [],
   "source": [
    "fprint = cf.getThumbprint2(ODataSet[:,0], 'mexh', 500,5)\n",
    "cf.PlotFingerPrint(fprint.T, 'Original0', location, False)"
   ]
  },
  {
   "cell_type": "code",
   "execution_count": null,
   "metadata": {},
   "outputs": [],
   "source": [
    "CleanD = cf.Smoothing(ODataSet[:,0],2)\n",
    "fprint = cf.getThumbprint2(CleanD, 'mexh', 500,5)\n",
    "cf.PlotFingerPrint(fprint.T, 'Clean0', location, False)"
   ]
  },
  {
   "cell_type": "code",
   "execution_count": null,
   "metadata": {},
   "outputs": [],
   "source": [
    "#for i in range(int(length/size)):\n",
    "for i in range(2):\n",
    "    fig=plt.figure(figsize=(6.67,3.75), dpi=600)\n",
    "    # StdDev = np.zeros(length)\n",
    "    # StdDevSmooth = np.zeros(length)\n",
    "    coord = i#+5\n",
    "    results =[]\n",
    "    signchange = 0\n",
    "    sign=1\n",
    "    for j in range(np.shape(ODataSet)[0]-1):\n",
    "        if not isinstance(ODataSet[j,coord],float):\n",
    "            ODataSet[j,coord] = ODataSet[j-1,coord]\n",
    "\n",
    "    norm = np.average(ODataSet[:,coord])\n",
    "    ODataSet[:,coord]-=norm\n",
    "\n",
    "    for j in range(np.shape(ODataSet)[0]-1):\n",
    "        if sign != np.sign(ODataSet[j+1,coord]*ODataSet[j,coord]):\n",
    "            signchange+=1\n",
    "            sign = np.sign(ODataSet[j+1,coord]*ODataSet[j,coord])\n",
    "        results.append(sign*np.abs(np.abs(ODataSet[j+1,coord])-np.abs(ODataSet[j,coord])))\n",
    "    print(Header[coord],np.average(results),st.stdev(results),signchange)\n",
    "    Results.append(results)\n",
    "    # SmoothRDataSet[0] = 0\n",
    "    SmoothXDataSet[0] = 0\n",
    "    # StdDev[0]=0\n",
    "    # StdDevSmooth[0]=0\n",
    "\n",
    "    # factor = np.average(np.power(np.power(ODataSet[:,1],2)+np.power(ODataSet[:,2],2),0.5))\n",
    "\n",
    "    # TdDataSet[0] = np.sqrt(ODataSet[0,1]**2+ODataSet[0,2]**2)-factor\n",
    "    # TdDataSet[1] = np.sqrt(ODataSet[1,1]**2+ODataSet[1,2]**2)-factor\n",
    "    # for j in range(Arange-1):\n",
    "    #     k = j+2\n",
    "    #     TdDataSet[k] = np.sqrt(ODataSet[k,1]**2+ODataSet[k,2]**2)-factor\n",
    "    # for j in range(length-Arange):\n",
    "    #     k = (length-1)-j\n",
    "    #     TdDataSet[k] = np.sqrt(ODataSet[k,1]**2+ODataSet[k,2]**2)-factor\n",
    "    for j in range(Arange-1):\n",
    "        k = j+2\n",
    "        SmoothXDataSet[k,i] = np.average(ODataSet[0:k,coord])\n",
    "    #     #StdDev[k]=st.stdev(ODataSet[0:k,coord])\n",
    "    #     StdDevSmooth[k] = st.stdev(TdDataSet[0:k])\n",
    "    #     SmoothRDataSet[k] = np.average(TdDataSet[0:k])\n",
    "    for j in range(length-Arange):\n",
    "        k = (length-1)-j\n",
    "        SmoothXDataSet[k,i] = np.average(ODataSet[k-Arange:k,coord])\n",
    "    #     #StdDev[k]=st.stdev(ODataSet[k-Arange:k,coord])\n",
    "    #     StdDevSmooth[k]=st.stdev(TdDataSet[k-Arange:k])\n",
    "    #     SmoothRDataSet[k] = np.average(TdDataSet[k-Arange:k])\n",
    "    signchange = 0\n",
    "    sign=1\n",
    "    results =[]\n",
    "    for j in range(np.shape(ODataSet)[0]-1):\n",
    "        if sign != np.sign(SmoothXDataSet[j+1,i]*SmoothXDataSet[j,i]):\n",
    "            signchange+=1\n",
    "            sign = np.sign(SmoothXDataSet[j+1,i]*SmoothXDataSet[j,i])\n",
    "        results.append(sign*np.abs(np.abs(SmoothXDataSet[j+1,i])-np.abs(SmoothXDataSet[j,i])))\n",
    "    print(Header[coord]+' Smoothed',np.average(results),st.stdev(results),signchange)\n",
    "    plt.plot(ODataSet[:,coord], label = 'Original ' + Header[coord])\n",
    "    plt.plot(SmoothXDataSet[:,i], label = 'Smooth ' + Header[coord])\n",
    "    plt.plot(results[:], label = 'Changes')\n",
    "    # #plt.plot(StdDevSmooth[start:end]) #,label = 'StdDev of signal')\n",
    "    # #plt.plot(SmoothRDataSet[start:end]) #, label = 'Smoothed Signal')\n",
    "\n",
    "    # plt.legend()            \n",
    "    plt.show()\n",
    "    # #print(title,max(StdDev),max(SmoothXDataSet[start:end]))\n",
    "\n",
    "# title = Filename #+ ' ' + Header[coord]\n",
    "# if Saving: plt.savefig(location+title.replace(\" \", \"\").replace(\":\", \"\").replace(\",\", \"\")+FFormat)\n",
    "\n",
    "# if Ledgends: plt.legend()\n",
    "# if Titles: plt.title(title)\n",
    "\n",
    "\n",
    "\n",
    "#plt.show()\n",
    "\n",
    "#results.append([np.average(DataSet[:,1][i*size:(i+1)*size]), np.average(DataSet[:,2][i*size:(i+1)*size]),np.average(DataSet[:,3][i*size:(i+1)*size])])\n",
    "\n",
    "#results = np.matrix(results)\n",
    "#df = pd.DataFrame(data=results.astype('float'))\n",
    "#df.to_csv('C:\\\\Users\\\\dhendrickson\\\\Desktop\\\\Phone Acceleration\\\\Gyro-output-' + Filename[10:20] + '.csv', sep=',', header=False, float_format='%.8f')\n",
    "#PlotFingerPrint(DataSet[:,coor"
   ]
  },
  {
   "cell_type": "code",
   "execution_count": null,
   "metadata": {},
   "outputs": [],
   "source": [
    "for Filename in files:\n",
    "    if Filename[-4:] ==  '.csv':\n",
    "        ODataSet = np.genfromtxt(open(folder+'/'+Filename,'r'), delimiter=',',skip_header=1)\n",
    "        ODataSet = ODataSet[start:end,:]\n",
    "        length = np.shape(ODataSet)[0]\n",
    "\n",
    "        #Header = ODataSet[0,:]\n",
    "\n",
    "\n",
    "        #SmoothRDataSet = np.zeros(np.shape(ODataSet)[0])\n",
    "        SmoothXDataSet = np.zeros((np.shape(ODataSet)[0],18))\n",
    "        #TdDataSet = np.zeros(np.shape(ODataSet)[0])\n",
    "\n",
    "        results =[]\n",
    "        Results = []\n",
    "        #fig=plt.figure(figsize=(6.67,3.75), dpi=1200)\n",
    "\n",
    "        \n",
    "       \n",
    "\n",
    "        #for i in range(int(length/size)):\n",
    "        for i in range(3):\n",
    "            fig=plt.figure(figsize=(6.67,3.75), dpi=600)\n",
    "            # StdDev = np.zeros(length)\n",
    "            # StdDevSmooth = np.zeros(length)\n",
    "            coord = i#+5\n",
    "            results =[]\n",
    "            signchange = 0\n",
    "            sign=1\n",
    "\n",
    "            norm = np.average(ODataSet[:,coord])\n",
    "            ODataSet[:,coord]-=norm\n",
    "\n",
    "            for j in range(np.shape(ODataSet)[0]-1):\n",
    "                if sign != np.sign(ODataSet[j+1,coord]*ODataSet[j,coord]):\n",
    "                    signchange+=1\n",
    "                    sign = np.sign(ODataSet[j+1,coord]*ODataSet[j,coord])\n",
    "                results.append(sign*np.abs(np.abs(ODataSet[j+1,coord])-np.abs(ODataSet[j,coord])))\n",
    "            print(Header[coord],np.average(results),st.stdev(results),signchange)\n",
    "            Results.append(results)\n",
    "            # SmoothRDataSet[0] = 0\n",
    "            SmoothXDataSet[0] = 0\n",
    "            # StdDev[0]=0\n",
    "            # StdDevSmooth[0]=0\n",
    "\n",
    "            # factor = np.average(np.power(np.power(ODataSet[:,1],2)+np.power(ODataSet[:,2],2),0.5))\n",
    "\n",
    "            # TdDataSet[0] = np.sqrt(ODataSet[0,1]**2+ODataSet[0,2]**2)-factor\n",
    "            # TdDataSet[1] = np.sqrt(ODataSet[1,1]**2+ODataSet[1,2]**2)-factor\n",
    "            # for j in range(Arange-1):\n",
    "            #     k = j+2\n",
    "            #     TdDataSet[k] = np.sqrt(ODataSet[k,1]**2+ODataSet[k,2]**2)-factor\n",
    "            # for j in range(length-Arange):\n",
    "            #     k = (length-1)-j\n",
    "            #     TdDataSet[k] = np.sqrt(ODataSet[k,1]**2+ODataSet[k,2]**2)-factor\n",
    "            for j in range(Arange-1):\n",
    "                k = j+2\n",
    "                SmoothXDataSet[k,i] = np.average(ODataSet[0:k,coord])\n",
    "            #     #StdDev[k]=st.stdev(ODataSet[0:k,coord])\n",
    "            #     StdDevSmooth[k] = st.stdev(TdDataSet[0:k])\n",
    "            #     SmoothRDataSet[k] = np.average(TdDataSet[0:k])\n",
    "            for j in range(length-Arange):\n",
    "                k = (length-1)-j\n",
    "                SmoothXDataSet[k,i] = np.average(ODataSet[k-Arange:k,coord])\n",
    "            #     #StdDev[k]=st.stdev(ODataSet[k-Arange:k,coord])\n",
    "            #     StdDevSmooth[k]=st.stdev(TdDataSet[k-Arange:k])\n",
    "            #     SmoothRDataSet[k] = np.average(TdDataSet[k-Arange:k])\n",
    "            signchange = 0\n",
    "            sign=1\n",
    "            results =[]\n",
    "            for j in range(np.shape(ODataSet)[0]-1):\n",
    "                if sign != np.sign(SmoothXDataSet[j+1,i]*SmoothXDataSet[j,i]):\n",
    "                    signchange+=1\n",
    "                    sign = np.sign(SmoothXDataSet[j+1,i]*SmoothXDataSet[j,i])\n",
    "                results.append(sign*np.abs(np.abs(SmoothXDataSet[j+1,i])-np.abs(SmoothXDataSet[j,i])))\n",
    "            print(Header[coord]+' Smoothed',np.average(results),st.stdev(results),signchange)\n",
    "            plt.plot(ODataSet[:,coord], label = 'Original ' + Header[coord])\n",
    "            plt.plot(SmoothXDataSet[:,i], label = 'Smooth ' + Header[coord])\n",
    "            plt.plot(results[:], label = 'Changes')\n",
    "            # #plt.plot(StdDevSmooth[start:end]) #,label = 'StdDev of signal')\n",
    "            # #plt.plot(SmoothRDataSet[start:end]) #, label = 'Smoothed Signal')\n",
    "            \n",
    "            # plt.legend()            \n",
    "            plt.show()\n",
    "            # #print(title,max(StdDev),max(SmoothXDataSet[start:end]))\n",
    "        \n",
    "        # title = Filename #+ ' ' + Header[coord]\n",
    "        # if Saving: plt.savefig(location+title.replace(\" \", \"\").replace(\":\", \"\").replace(\",\", \"\")+FFormat)\n",
    "        \n",
    "        # if Ledgends: plt.legend()\n",
    "        # if Titles: plt.title(title)\n",
    "        \n",
    "        \n",
    "\n",
    "        #plt.show()\n",
    "        \n",
    "        #results.append([np.average(DataSet[:,1][i*size:(i+1)*size]), np.average(DataSet[:,2][i*size:(i+1)*size]),np.average(DataSet[:,3][i*size:(i+1)*size])])\n",
    "\n",
    "        #results = np.matrix(results)\n",
    "        #df = pd.DataFrame(data=results.astype('float'))\n",
    "        #df.to_csv('C:\\\\Users\\\\dhendrickson\\\\Desktop\\\\Phone Acceleration\\\\Gyro-output-' + Filename[10:20] + '.csv', sep=',', header=False, float_format='%.8f')\n",
    "        #PlotFingerPrint(DataSet[:,coord][start:end],'a',title,'coif1')\n",
    "\n",
    "# Saving = False\n",
    "# Titles = True\n",
    "\n",
    "#title='Highlighted Sensor Dimmension'\n",
    "#fig=plt.figure(figsize=(6.67,3.75), dpi=1200)\n",
    "#plt.plot(ODataSet[start:end,3], label = 'Original ' + Header[3])\n",
    "#if Ledgends: plt.legend()\n",
    "#if Titles: plt.title(title)\n",
    "#if Saving: plt.savefig(location+title.replace(\" \", \"\").replace(\":\", \"\").replace(\",\", \"\")+FFormat)\n",
    "#plt.show()"
   ]
  },
  {
   "cell_type": "code",
   "execution_count": null,
   "metadata": {},
   "outputs": [],
   "source": [
    "trys = ['coif1','coif2','mexh','gaus2','dmey','gaus1','morl','cgau1','cgau2','db1','db2','sym1','sym2','sym3']\n",
    "#trys = ['coif2','mexh','gaus2','db1','sym2']\n",
    "#trys = ['gaus2'] #,'gaus1','gaus2','gaus3','gaus5']\n",
    "wvlt = 'gaus2'\n",
    "\n",
    "Titles = True\n",
    "Saving = False\n",
    "\n",
    "start = 40000\n",
    "end = 60000\n",
    "coord = 1\n",
    "scales = 500\n",
    "slices = 2\n",
    "trim = 200\n",
    "\n",
    "for cord in range(1):\n",
    "   coord = cord + 2\n",
    "   for id in trys:\n",
    "      try:\n",
    "       \n",
    "            PlotFingerPrint(ODataSet[start:end,coord],'a','Raw data from '+str(start)+' to '+str(end),id,scales,slices,trim)\n",
    "            # PlotFingerPrint(SmoothXDataSet[start:end,cord],'a','Smoothed data from '+str(start+trim)+' to '+str(end-trim)+', '+id+' wavelet, '+Header[coord],id,scales,slices,trim)\n",
    "            # PlotFingerPrint(StdDev[start:end],'a',id + 'StdDev from '+str(start)+' to '+str(end),id,scales,slices,trim)\n",
    "            # PlotFingerPrint(StdDevSmooth[start:end],'a',id + 'Wavelet from '+str(start)+' to '+str(end),id,500,5)\n",
    "            # PlotFingerPrint(TdDataSet[start:end],'a',id + 'Wavelet on r series from '+str(start)+' to '+str(end),id,500,5)\n",
    "            # PlotFingerPrint(SmoothDataSet[start:end],'a','Smoothed r data from '+str(start)+' to '+str(end),id,scales,slices,trim)\n",
    "            \n",
    "      except:\n",
    "         print(id)"
   ]
  },
  {
   "cell_type": "code",
   "execution_count": null,
   "metadata": {},
   "outputs": [],
   "source": [
    "np.shape(ODataSet[start:end,coord])"
   ]
  },
  {
   "cell_type": "code",
   "execution_count": null,
   "metadata": {},
   "outputs": [],
   "source": [
    "# #y = np.linspace(0, BeamLength, np.shape(CenterZResults[0][0])[1])\n",
    "# #x = np.linspace(0, BeamHeight, np.shape(CenterZResults[0][0])[0])\n",
    "\n",
    "# import matplotlib.animation as animation\n",
    "\n",
    "# fig = plt.figure(figsize=(6.67,3.75), dpi=300)\n",
    "\n",
    "# y = np.linspace(0, scales-1, scales)\n",
    "# x = np.linspace(0, 1000, num=1000, endpoint=False)\n",
    "# x,y = np.meshgrid(x,y)\n",
    "\n",
    "# plt.ylabel(r'scales')\n",
    "# plt.xlabel(r'data points')\n",
    "\n",
    "# def animate(i):\n",
    "    \n",
    "#     #if 'ax' in locals: ax.clear()\n",
    "#     start = i * 250\n",
    "#     end = start + 1000 \n",
    "\n",
    "#     z = np.matrix(FpScat[:,start:end])\n",
    "#     plt.title('Data Points ' +str(start) + ' : ' + str(end))\n",
    "#     cont = plt.contourf(x, y, z, levels=scales, cmap='gray',vmin=-0, vmax=18935)\n",
    "#     #plt.axes.clear()\n",
    "#     #ax = plt.axes(xlim=(start, end), ylim=(0, scales))  \n",
    "#     #time.sleep(1)\n",
    "#     return cont  \n",
    "\n",
    "# for i in range(18):\n",
    "#     coord = i+5\n",
    "#     FpScat = fp.getLabeledThumbprint(ODataSet[start:end,coord], wvlt,scales,slices,0.12,'both',True)\n",
    "#     PlotFingerPrint(FpScat,'a',Filename[:-4] + ' Wavelet on r series from '+str(start)+' to '+str(end),id,scales,slices,trim)\n",
    "    \n",
    "#     anim = animation.FuncAnimation(fig, animate, frames=17)\n",
    "#     anim.save('animation-'+ Header[coord] +'.gif')"
   ]
  },
  {
   "cell_type": "code",
   "execution_count": null,
   "metadata": {},
   "outputs": [],
   "source": [
    "# yy = np.linspace(0, scales, scales+1)\n",
    "# xx = np.linspace(250, 1250, num=1000, endpoint=False)\n",
    "# xxx,yyy = np.meshgrid(xx,yy)\n",
    "# yyy"
   ]
  },
  {
   "cell_type": "code",
   "execution_count": null,
   "metadata": {},
   "outputs": [],
   "source": [
    "# PlotFingerPrint(FpScat,'a',Filename[:-4] + ' Wavelet on r series from '+str(start)+' to '+str(end),id,scales,slices,trim)"
   ]
  },
  {
   "cell_type": "code",
   "execution_count": null,
   "metadata": {},
   "outputs": [],
   "source": [
    "# FpScatR = fp.getLabeledThumbprint(SmoothRDataSet[start:end], wvlt,scales,slices)"
   ]
  },
  {
   "cell_type": "code",
   "execution_count": null,
   "metadata": {},
   "outputs": [],
   "source": [
    "# PlotFingerPrint(FpScatR,'a',Filename[:-4] + ' Smoothed r data from '+str(start)+' to '+str(end),id,scales,slices,trim)"
   ]
  },
  {
   "cell_type": "code",
   "execution_count": null,
   "metadata": {},
   "outputs": [],
   "source": [
    "# FpScatX = fp.getLabeledThumbprint(SmoothXDataSet[start:end], wvlt,scales,slices)"
   ]
  },
  {
   "cell_type": "code",
   "execution_count": null,
   "metadata": {},
   "outputs": [],
   "source": [
    "# PlotFingerPrint(FpScatX,'a','Smoothed X data from '+str(start)+' to '+str(end),id,scales,slices,trim)"
   ]
  }
 ],
 "metadata": {
  "interpreter": {
   "hash": "b3ba2566441a7c06988d0923437866b63cedc61552a5af99d1f4fb67d367b25f"
  },
  "kernelspec": {
   "display_name": "torchmpi",
   "language": "python",
   "name": "torchmpi"
  },
  "language_info": {
   "codemirror_mode": {
    "name": "ipython",
    "version": 3
   },
   "file_extension": ".py",
   "mimetype": "text/x-python",
   "name": "python",
   "nbconvert_exporter": "python",
   "pygments_lexer": "ipython3",
   "version": "3.11.4"
  }
 },
 "nbformat": 4,
 "nbformat_minor": 4
}
