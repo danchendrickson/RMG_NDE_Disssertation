{
 "cells": [
  {
   "cell_type": "markdown",
   "metadata": {},
   "source": [
    "# Look at accelerometer data \n",
    "\n",
    "From Jeep and Focus at various speeds over various potholes and storm drain channels."
   ]
  },
  {
   "cell_type": "code",
   "execution_count": null,
   "metadata": {},
   "outputs": [],
   "source": [
    "#Standard Header used on the projects\n",
    "\n",
    "#first the major packages used for math and graphing\n",
    "import numpy as np\n",
    "import matplotlib.pyplot as plt\n",
    "from cycler import cycler\n",
    "import scipy.special as sp\n",
    "import platform\n",
    "\n",
    "#Custome graph format style sheet\n",
    "#plt.style.use('Prospectus.mplstyle')\n",
    "\n",
    "#If being run by a seperate file, use the seperate file's graph format and saving paramaeters\n",
    "#otherwise set what is needed\n",
    "if not 'Saving' in locals():\n",
    "    Saving = False\n",
    "if not 'Titles' in locals():\n",
    "    Titles = True\n",
    "if not 'Ledgends' in locals():\n",
    "    Ledgends = True\n",
    "if not 'FFormat' in locals():\n",
    "    FFormat = '.png'\n",
    "\n",
    "#Standard cycle for collors and line styles\n",
    "default_cycler = (cycler('color', ['0.00', '0.40', '0.60', '0.70']) + cycler(linestyle=['-', '--', ':', '-.']))\n",
    "plt.rc('axes', prop_cycle=default_cycler)"
   ]
  },
  {
   "cell_type": "code",
   "execution_count": null,
   "metadata": {},
   "outputs": [],
   "source": [
    "HostName = platform.node()\n",
    "\n",
    "if HostName == \"Server\":\n",
    "    Computer = \"Desktop\"   \n",
    "elif HostName[-6:] == 'wm.edu':\n",
    "    Computer = \"SciClone\"\n",
    "elif HostName == \"SchoolLaptop\":\n",
    "    Computer = \"LinLap\"\n",
    "elif HostName == \"WTC-TAB-512\":\n",
    "    Computer = \"PortLap\"\n",
    "else:\n",
    "    Computer = \"WinLap\""
   ]
  },
  {
   "cell_type": "code",
   "execution_count": null,
   "metadata": {},
   "outputs": [],
   "source": [
    "if Computer == \"SciClone\":\n",
    "    location = '/sciclone/home20/dchendrickson01/image/'\n",
    "elif Computer == \"WinLap\":\n",
    "    location = 'C:\\\\Data\\\\'\n",
    "elif Computer == \"Desktop\":\n",
    "    location = \"E:\\\\Backups\\\\Dan\\\\CraneData\\\\\"\n",
    "elif Computer == \"LinLap\":\n",
    "    location = '/home/dan/Output/'\n",
    "elif Computer == 'PortLap':\n",
    "    location = 'C:\\\\users\\\\dhendrickson\\\\Desktop\\\\AccelData\\\\'"
   ]
  },
  {
   "cell_type": "code",
   "execution_count": null,
   "metadata": {},
   "outputs": [],
   "source": [
    "if Computer ==  \"SciClone\":\n",
    "    rootfolder = '/sciclone/home20/dchendrickson01/'\n",
    "    folder = '/sciclone/scr10/dchendrickson01/Laser Data/'\n",
    "elif Computer == \"Desktop\":\n",
    "    rootfolder = location\n",
    "    folder = rootfolder + \"Recordings2\\\\SubSet\\\\\"\n",
    "elif Computer ==\"WinLap\":\n",
    "    rootfolder = location\n",
    "    folder = rootfolder + \"Recordings2\\\\\"   \n",
    "elif Computer == \"LinLap\":\n",
    "    rootfolder = '/home/dan/Data/'\n",
    "    folder = rootfolder + 'Recordings2/'\n",
    "elif Computer =='PortLap':\n",
    "    rootfolder = location \n",
    "    folder = rootfolder + 'Recordings2\\\\'"
   ]
  },
  {
   "cell_type": "code",
   "execution_count": null,
   "metadata": {},
   "outputs": [],
   "source": [
    "print(Computer, folder, rootfolder)"
   ]
  },
  {
   "cell_type": "code",
   "execution_count": null,
   "metadata": {},
   "outputs": [],
   "source": [
    "#Extra Headers:\n",
    "import os as os\n",
    "import statistics as st\n",
    "import random\n",
    "#import multiprocessing\n",
    "#from joblib import Parallel, delayed\n",
    "import time\n",
    "import CoreFunctions as cf\n",
    "import pywt\n",
    "\n",
    "my_cmap = plt.get_cmap('gray')"
   ]
  },
  {
   "cell_type": "code",
   "execution_count": null,
   "metadata": {},
   "outputs": [],
   "source": [
    "#DataSet = np.genfromtxt(open('./Data/Jeep SD 10.txt','r'), delimiter=',',skip_header=4)\n",
    "Header = np.array(['Top1', 'Top2','Top3']) #','Z1','X2','Y2','Z2'])\n",
    "#Header = np.array(['Date', 'Hour', 'Minute', 'Second', 'Sec Fraction', 'Sen0x', 'Sen0y', 'Sen0z', 'Sen1x', 'Sen1y', 'Sen1z', 'Sen2x', 'Sen2y', 'Sen2z', 'Sen3x', 'Sen3y', 'Sen3z', 'Sen4x', 'Sen4y', 'Sen4z', 'Sen5x', 'Sen5y', 'Sen5z'])\n"
   ]
  },
  {
   "cell_type": "markdown",
   "metadata": {},
   "source": [
    "fig=plt.figure(figsize=(6.67,3.75))\n",
    "plt.plot(DataSet[:,0],DataSet[:,1], label = 'X')\n",
    "plt.plot(DataSet[:,0],DataSet[:,2], label = 'Y')\n",
    "plt.plot(DataSet[:,0],DataSet[:,3], label = 'Z')\n",
    "plt.plot(DataSet[:,0],DataSet[:,4], label = 'R')\n",
    "\n",
    "title = '4 Magnitude Acceleration Curves'\n",
    "if Ledgends: plt.legend()\n",
    "if Titles: plt.title(title)\n",
    "if Saving: plt.savefig(location+title.replace(\" \", \"\").replace(\":\", \"\").replace(\",\", \"\")+FFormat)\n",
    "plt.show()"
   ]
  },
  {
   "cell_type": "markdown",
   "metadata": {},
   "source": [
    "def PlotFingerPrint(data, xName='a', title='', FP='mexh',scales = 50, slices=10, trim=0):\n",
    "    \n",
    "    FpScat=fp.getLabeledThumbprint(data, FP,scales,slices)\n",
    "    #print(np.shape(data)[1], scales)\n",
    "    if xName == 'a':\n",
    "        xName = np.arange(0,np.shape(FpScat)[1]-2*trim,1)\n",
    "    if trim == 0:\n",
    "        Al,Ms  = np.meshgrid(xName,np.linspace(1,scales,scales))\n",
    "    else:\n",
    "        Al,Ms  = np.meshgrid(xName,np.linspace(1,scales,scales))\n",
    "\n",
    "    \n",
    "\n",
    "    fig1 = plt.figure(figsize=(6.67,3.75), dpi=600)\n",
    "    ax1 = plt.axes()\n",
    "    if trim == 0:\n",
    "        cs1 = ax1.contourf(Al,Ms, FpScat[:,:],cmap=my_cmap,levels=slices)\n",
    "    else:\n",
    "        cs1 = ax1.contourf(Al,Ms, FpScat[:,trim:-trim],cmap=my_cmap,levels=slices)\n",
    "\n",
    "    if Titles: plt.title(title)\n",
    "    if Saving: plt.savefig(location+title.replace(\" \", \"\").replace(\":\", \"\").replace(\",\", \"\").replace(\".txt\",\"\")+FFormat)\n",
    "\n",
    "    plt.show()"
   ]
  },
  {
   "cell_type": "code",
   "execution_count": null,
   "metadata": {},
   "outputs": [],
   "source": [
    "# Directory = './Data'\n",
    "#Directory = 'C:\\\\Users\\\\Dan\\\\Desktop\\\\Temp\\\\'\n",
    "#Directory = 'C:\\\\Users\\\\dhendrickson\\\\Desktop\\\\AccelData\\\\home\\\\pi\\\\AccelData\\\\'\n",
    "files = os.listdir(folder)\n",
    "\n",
    "#files = random.sample(files,2)\n",
    "\n",
    "# Reorder_cycler = (cycler('color', ['0.00', '0.70', '0.40', '0.90']) + cycler(linestyle=['-', '--', ':', '-.']))\n",
    "# plt.rc('axes', prop_cycle=Reorder_cycler)\n",
    "\n",
    "#start = 1538500\n",
    "#end  =   start + 5000 #1649552\n",
    "#start = 54000\n",
    "#end = 56000\n",
    "start = 0\n",
    "end = 160000\n",
    "\n",
    "size = 5000\n",
    "Arange = 10\n",
    "coord = 2\n",
    "\n",
    "Saving = True\n",
    "#location = Directory\n",
    "Titles = True"
   ]
  },
  {
   "cell_type": "code",
   "execution_count": null,
   "metadata": {},
   "outputs": [],
   "source": [
    "for i in range(len(files)):\n",
    "    print(i,files[i])"
   ]
  },
  {
   "cell_type": "code",
   "execution_count": null,
   "metadata": {},
   "outputs": [],
   "source": [
    "WvltFam = pywt.families()\n",
    "Wvlts = []\n",
    "for Fam in WvltFam:\n",
    "    temp = pywt.wavelist(Fam)\n",
    "    for wvlt in temp:\n",
    "        Wvlts.append(wvlt)\n",
    "Wvlts.append('beta')        \n",
    "print(Wvlts)"
   ]
  },
  {
   "cell_type": "code",
   "execution_count": null,
   "metadata": {},
   "outputs": [],
   "source": [
    "location = '/sciclone/scr10/dchendrickson01/LaserPrints3/'\n",
    "\n",
    "stime = time.time()\n",
    "\n",
    "chunkSize=5000\n",
    "\n",
    "#for file in files[:9]:\n",
    "def fileImages(file, wvlt):\n",
    "    if file[-4:] ==  '.csv':\n",
    "        try:\n",
    "            ODataSet = np.genfromtxt(open(folder+'/'+file,'r'), delimiter=',',skip_header=1)\n",
    "    \n",
    "            ODataSet = ODataSet[:,2:4]\n",
    "\n",
    "            for coord in range(2):\n",
    "                for j in range(np.shape(ODataSet)[0]-1):\n",
    "                    try:\n",
    "                        ODataSet[j,coord] = float(ODataSet[j,coord])\n",
    "                    except:\n",
    "                        ODataSet[j,coord] = ODataSet[j-1,coord]\n",
    "                    if ODataSet[j,coord] == -999.999:\n",
    "                        ODataSet[j,coord] = ODataSet[j-1,coord]\n",
    "\n",
    "            Diffs = np.zeros(np.shape(ODataSet)[0])\n",
    "            for j in range(np.shape(ODataSet)[0]-1):\n",
    "                Diffs[j] = ODataSet[j,0] - ODataSet[j,1]\n",
    "            norm = np.average(ODataSet[:,0])\n",
    "            ODataSet[:,0]-=norm\n",
    "            norm = np.average(ODataSet[:,1])\n",
    "            ODataSet[:,1]-=norm\n",
    "            norm = np.average(Diffs)\n",
    "            Diffs[:]-=norm\n",
    "\n",
    "            CleanDiff = cf.Smoothing(Diffs,2)\n",
    "            Clean0 = cf.Smoothing(ODataSet[:,0],2)\n",
    "            Clean1 = cf.Smoothing(ODataSet[:,1],2)\n",
    "\n",
    "            for i in range(int(len(CleanDiff)/chunkSize)):\n",
    "                start = i*chunkSize\n",
    "                end = start+chunkSize-1\n",
    "\n",
    "                fprint = cf.getThumbprint2(CleanDiff[start:end], wvlt, 500,10)\n",
    "                cf.PlotFingerPrint(fprint.T, 'Channel Differences '+wvlt + file + ' at ' + str(start), location, True, Show=False)\n",
    "\n",
    "                fprint = cf.getThumbprint2(Clean0[start:end], wvlt, 500, 10)\n",
    "                cf.PlotFingerPrint(fprint.T, 'Channel 0 '+wvlt + file + ' at ' + str(start), location, True, Show=False)\n",
    "\n",
    "                fprint = cf.getThumbprint2(Clean1[start:end], wvlt, 500, 10)\n",
    "                cf.PlotFingerPrint(fprint.T, 'Channel 1 '+wvlt+ + file + ' at ' + str(start), location, True, Show=False)\n",
    "        except:\n",
    "            print(file)\n",
    "    \n",
    "    return 0\n",
    "    "
   ]
  },
  {
   "cell_type": "code",
   "execution_count": null,
   "metadata": {},
   "outputs": [],
   "source": [
    "import multiprocessing\n",
    "from joblib import Parallel, delayed"
   ]
  },
  {
   "cell_type": "code",
   "execution_count": null,
   "metadata": {},
   "outputs": [],
   "source": [
    "#nothiing = Parallel(n_jobs=30)(delayed(fileImages)(file) for file in files)"
   ]
  },
  {
   "cell_type": "code",
   "execution_count": null,
   "metadata": {},
   "outputs": [],
   "source": [
    "print('Done')\n",
    "i = 79\n",
    "file =files[i]"
   ]
  },
  {
   "cell_type": "code",
   "execution_count": null,
   "metadata": {},
   "outputs": [],
   "source": [
    "# make all wavelets one file\n",
    "ODataSet = np.genfromtxt(open(folder+'/'+file,'r'), delimiter=',',skip_header=1)\n",
    "    \n",
    "ODataSet = ODataSet[:,2:4]"
   ]
  },
  {
   "cell_type": "code",
   "execution_count": null,
   "metadata": {},
   "outputs": [],
   "source": [
    "for coord in range(2):\n",
    "    for j in range(np.shape(ODataSet)[0]-1):\n",
    "        try:\n",
    "            ODataSet[j,coord] = float(ODataSet[j,coord])\n",
    "        except:\n",
    "            ODataSet[j,coord] = ODataSet[j-1,coord]\n",
    "        if ODataSet[j,coord] == -999.999:\n",
    "            ODataSet[j,coord] = ODataSet[j-1,coord]\n",
    "\n",
    "Diffs = np.zeros(np.shape(ODataSet)[0])\n",
    "for j in range(np.shape(ODataSet)[0]-1):\n",
    "    Diffs[j] = ODataSet[j,0] - ODataSet[j,1]\n",
    "norm = np.average(ODataSet[:,0])\n",
    "ODataSet[:,0]-=norm\n",
    "norm = np.average(ODataSet[:,1])\n",
    "ODataSet[:,1]-=norm\n",
    "norm = np.average(Diffs)\n",
    "Diffs[:]-=norm\n",
    "\n",
    "CleanDiff = cf.Smoothing(Diffs,2)\n",
    "Clean0 = cf.Smoothing(ODataSet[:,0],2)\n",
    "Clean1 = cf.Smoothing(ODataSet[:,1],2)\n"
   ]
  },
  {
   "cell_type": "code",
   "execution_count": null,
   "metadata": {},
   "outputs": [],
   "source": [
    "wvlt = 'mexh'\n",
    "start=0"
   ]
  },
  {
   "cell_type": "code",
   "execution_count": null,
   "metadata": {},
   "outputs": [],
   "source": [
    "fig,axs = plt.subplots(3,figsize=(6,3), dpi=600)\n",
    "plt.subplots_adjust(hspace=0.3)\n",
    "axs[0].plot(Clean0[25:-50], label='Channel 0',linewidth=0.5)\n",
    "axs[0].set_title('Channel 0', fontsize=7)\n",
    "axs[0].set_xticks([])\n",
    "axs[1].plot(Clean1[25:-50], label='Channel 1',linewidth=0.5, color='0.4')\n",
    "axs[1].set_title('Channel 1', fontsize=7)\n",
    "axs[1].set_xticks([])\n",
    "axs[2].plot(CleanDiff[25:-50], label='Differences',linewidth=0.5,color='0.66')\n",
    "axs[2].set_title('Differences', fontsize=7)\n",
    "plt.show()"
   ]
  },
  {
   "cell_type": "code",
   "execution_count": null,
   "metadata": {},
   "outputs": [],
   "source": [
    "fprintD = cf.getThumbprint2(CleanDiff, wvlt, 200,2)\n",
    "fprint0 = cf.getThumbprint2(Clean0, wvlt, 200, 2)\n",
    "fprint1 = cf.getThumbprint2(Clean1, wvlt, 200, 2)\n"
   ]
  },
  {
   "cell_type": "code",
   "execution_count": null,
   "metadata": {
    "scrolled": true
   },
   "outputs": [],
   "source": [
    "#\n",
    "#     data, title = '', SaveSpot = location, ToSave = Saving, Show = True, Pdpi =PlotDPI, Titles=False\n",
    "cf.PlotFingerPrint(fprintD.T, 'Channel Differences ' , ToSave =  False, Show=True, Titles=True)\n",
    "cf.PlotFingerPrint(fprint0.T, 'Channel 0 ' , ToSave =  False, Show=True, Titles=True)\n",
    "cf.PlotFingerPrint(fprint1.T, 'Channel 1 ', ToSave =  False, Show=True, Titles=True)\n",
    "\n"
   ]
  },
  {
   "cell_type": "code",
   "execution_count": null,
   "metadata": {},
   "outputs": [],
   "source": [
    "fig,axs = plt.subplots(3,figsize=(6,3), dpi=600)\n",
    "plt.subplots_adjust(hspace=0.3)\n",
    "axs[0].plot(Clean0[5000:7500], label='Channel 0',linewidth=0.5)\n",
    "axs[0].set_title('Channel 0', fontsize=7)\n",
    "axs[0].set_xticks([])\n",
    "axs[1].plot(Clean1[5000:7500], label='Channel 1',linewidth=0.5, color='0.4')\n",
    "axs[1].set_title('Channel 1', fontsize=7)\n",
    "axs[1].set_xticks([])\n",
    "axs[2].plot(CleanDiff[5000:7500], label='Differences',linewidth=0.5,color='0.66')\n",
    "axs[2].set_title('Differences', fontsize=7)\n",
    "plt.show()"
   ]
  },
  {
   "cell_type": "code",
   "execution_count": null,
   "metadata": {
    "scrolled": false
   },
   "outputs": [],
   "source": [
    "#\n",
    "#     data, title = '', SaveSpot = location, ToSave = Saving, Show = True, Pdpi =PlotDPI, Titles=False\n",
    "cf.PlotFingerPrint(fprintD[5000:7500].T, 'Channel Differences ' , ToSave =  False, Show=True, Titles=True)\n",
    "cf.PlotFingerPrint(fprint0[5000:7500].T, 'Channel 0 ' , ToSave =  False, Show=True, Titles=True)\n",
    "cf.PlotFingerPrint(fprint1[5000:7500].T, 'Channel 1 ', ToSave =  False, Show=True, Titles=True)\n",
    "\n"
   ]
  },
  {
   "cell_type": "code",
   "execution_count": null,
   "metadata": {},
   "outputs": [],
   "source": [
    "fprintDs = cf.getThumbprint2(CleanDiff[5000:7500], wvlt, 200,2)\n",
    "fprint0s = cf.getThumbprint2(Clean0[5000:7500], wvlt, 200, 2)\n",
    "fprint1s = cf.getThumbprint2(Clean1[5000:7500], wvlt, 200, 2)\n"
   ]
  },
  {
   "cell_type": "code",
   "execution_count": null,
   "metadata": {
    "scrolled": false
   },
   "outputs": [],
   "source": [
    "cf.PlotFingerPrint(fprintDs.T, 'Channel Differences ' , ToSave =  False, Show=True, Titles=True)\n",
    "cf.PlotFingerPrint(fprint0s.T, 'Channel 0 ' , ToSave =  False, Show=True, Titles=True)\n",
    "cf.PlotFingerPrint(fprint1s.T, 'Channel 1 ', ToSave =  False, Show=True, Titles=True)\n",
    "\n"
   ]
  },
  {
   "cell_type": "code",
   "execution_count": null,
   "metadata": {},
   "outputs": [],
   "source": [
    "fprintDss = cf.getThumbprint2(CleanDiff[4000:8500], wvlt, 200,2)\n",
    "fprint0ss = cf.getThumbprint2(Clean0[4000:8500], wvlt, 200, 2)\n",
    "fprint1ss = cf.getThumbprint2(Clean1[4000:8500], wvlt, 200, 2)\n"
   ]
  },
  {
   "cell_type": "code",
   "execution_count": null,
   "metadata": {},
   "outputs": [],
   "source": [
    "cf.PlotFingerPrint(fprintDss[1000:3500].T, 'Channel Differences ' , ToSave =  False, Show=True, Titles=True)\n",
    "cf.PlotFingerPrint(fprint0ss[1000:3500].T, 'Channel 0 ' , ToSave =  False, Show=True, Titles=True)\n",
    "cf.PlotFingerPrint(fprint1ss[1000:3500].T, 'Channel 1 ', ToSave =  False, Show=True, Titles=True)\n"
   ]
  },
  {
   "cell_type": "code",
   "execution_count": null,
   "metadata": {},
   "outputs": [],
   "source": [
    "asdfasdf"
   ]
  },
  {
   "cell_type": "code",
   "execution_count": null,
   "metadata": {
    "scrolled": true
   },
   "outputs": [],
   "source": [
    "for i in range(120):\n",
    "    start = i*2500\n",
    "    end = start+2499\n",
    "    \n",
    "    fig=plt.figure(figsize=(6.67,3.75),dpi=800,linewidth=0.2)\n",
    "    plt.plot(CleanDiff[start:end], label='Diffs')\n",
    "    plt.plot(Clean0[start:end], label='Chan0')\n",
    "    plt.plot(Clean1[start:end], label='Chan1')\n",
    "    plt.title=('Source '+file)\n",
    "    #plt.title()\n",
    "    plt.savefig('Source'+file+str(start)+'.png')\n",
    "    plt.show()\n",
    "    \n",
    "fig, ax1 = plt.subplots(figsize=(6.67,3.75),dpi=800,linewidth=0.1) \n",
    "plt.plot(CleanDiff, label='Diffs')\n",
    "plt.plot(Clean0, label='Chan0')\n",
    "plt.plot(Clean1, label='Chan1')\n",
    "plt.title=('Source '+file)\n",
    "#plt.savefig('SourceAll'+file+'.png')\n",
    "plt.show()\n"
   ]
  },
  {
   "cell_type": "code",
   "execution_count": null,
   "metadata": {},
   "outputs": [],
   "source": [
    "def MakeWvltImages(wvlt):\n",
    "    try:\n",
    "        for i in range(12):\n",
    "            start = i*25000\n",
    "            end = start+24999\n",
    "\n",
    "            fprint = cf.getThumbprint2(CleanDiff[start:end], wvlt, 1000,10)\n",
    "            cf.PlotFingerPrint(fprint.T, 'Channel Differences ' + wvlt + file + ' at ' + str(start), location, True, Show=False)\n",
    "\n",
    "            fprint = cf.getThumbprint2(Clean0[start:end], wvlt, 1000, 10)\n",
    "            cf.PlotFingerPrint(fprint.T, 'Channel 0 ' + wvlt + file + ' at ' + str(start), location, True, Show=False)\n",
    "\n",
    "            fprint = cf.getThumbprint2(Clean1[start:end], wvlt, 1000, 10)\n",
    "            cf.PlotFingerPrint(fprint.T, 'Channel 1 ' + wvlt + file + ' at ' + str(start), location, True, Show=False)\n",
    "\n",
    "    except:\n",
    "        print(wvlt)\n",
    "    \n",
    "    return 0"
   ]
  },
  {
   "cell_type": "code",
   "execution_count": null,
   "metadata": {},
   "outputs": [],
   "source": [
    "nothiing = Parallel(n_jobs=30)(delayed(MakeWvltImages)(wvlt) for wvlt in Wvlts)"
   ]
  },
  {
   "cell_type": "code",
   "execution_count": null,
   "metadata": {},
   "outputs": [],
   "source": [
    "for wvlt in Wvlts:\n",
    "    MakeWvltImages(wvlt)\n",
    "    print(wvlt)"
   ]
  },
  {
   "cell_type": "code",
   "execution_count": null,
   "metadata": {},
   "outputs": [],
   "source": [
    "ODataSet = np.genfromtxt(open(folder+'/'+files[2],'r'), delimiter=',',skip_header=1)\n",
    "#ODataSet = ODataSet[150000:200000,:]\n",
    "length = np.shape(ODataSet)[0]\n",
    "\n",
    "#Header = ODataSet[0,:]\n",
    "\n",
    "\n",
    "#SmoothRDataSet = np.zeros(np.shape(ODataSet)[0])\n",
    "SmoothXDataSet = np.zeros((np.shape(ODataSet)[0],18))\n",
    "#TdDataSet = np.zeros(np.shape(ODataSet)[0])\n",
    "\n",
    "results =[]\n",
    "Results = []\n",
    "#fig=plt.figure(figsize=(6.67,3.75), dpi=1200)"
   ]
  },
  {
   "cell_type": "code",
   "execution_count": null,
   "metadata": {},
   "outputs": [],
   "source": [
    "ODataSet = ODataSet[:,2:4]"
   ]
  },
  {
   "cell_type": "code",
   "execution_count": null,
   "metadata": {},
   "outputs": [],
   "source": [
    "for coord in range(2):\n",
    "    for j in range(np.shape(ODataSet)[0]-1):\n",
    "        try:\n",
    "            ODataSet[j,coord] = float(ODataSet[j,coord])\n",
    "        except:\n",
    "            ODataSet[j,coord] = ODataSet[j-1,coord]\n",
    "        if ODataSet[j,coord] == -999.999:\n",
    "            ODataSet[j,coord] = ODataSet[j-1,coord]\n",
    "\n",
    "Diffs = np.zeros(np.shape(ODataSet)[0])\n",
    "for j in range(np.shape(ODataSet)[0]-1):\n",
    "    Diffs[j] = ODataSet[j,0] - ODataSet[j,1]\n",
    "norm = np.average(ODataSet[:,0])\n",
    "ODataSet[:,0]-=norm\n",
    "norm = np.average(ODataSet[:,1])\n",
    "ODataSet[:,1]-=norm\n",
    "norm = np.average(Diffs)\n",
    "Diffs[:]-=norm"
   ]
  },
  {
   "cell_type": "code",
   "execution_count": null,
   "metadata": {},
   "outputs": [],
   "source": [
    "fig = plt.figure(figsize=(16,3))\n",
    "plt.plot(ODataSet[:,0])\n",
    "plt.plot(ODataSet[:,1])\n",
    "plt.show()"
   ]
  },
  {
   "cell_type": "code",
   "execution_count": null,
   "metadata": {},
   "outputs": [],
   "source": [
    "fig = plt.figure(figsize=(16,3))\n",
    "plt.plot(Diffs[:-1])\n",
    "plt.show()"
   ]
  },
  {
   "cell_type": "code",
   "execution_count": null,
   "metadata": {},
   "outputs": [],
   "source": [
    "fprint = cf.getThumbprint2(Diffs, 'mexh', 500,5)"
   ]
  },
  {
   "cell_type": "code",
   "execution_count": null,
   "metadata": {},
   "outputs": [],
   "source": [
    "cf.PlotFingerPrint(fprint.T, 'Try 1', location, False)"
   ]
  },
  {
   "cell_type": "code",
   "execution_count": null,
   "metadata": {},
   "outputs": [],
   "source": [
    "CleanDiff = cf.Smoothing(Diffs,2)\n",
    "fprint = cf.getThumbprint2(CleanDiff, 'mexh', 500,5)\n",
    "cf.PlotFingerPrint(fprint.T, 'Clean', location, False)"
   ]
  },
  {
   "cell_type": "code",
   "execution_count": null,
   "metadata": {},
   "outputs": [],
   "source": [
    "fprint = cf.getThumbprint2(ODataSet[:,1], 'mexh', 500,5)\n",
    "cf.PlotFingerPrint(fprint.T, 'Original1', location, False)"
   ]
  },
  {
   "cell_type": "code",
   "execution_count": null,
   "metadata": {},
   "outputs": [],
   "source": [
    "CleanD = cf.Smoothing(ODataSet[:,1],2)\n",
    "fprint = cf.getThumbprint2(CleanD, 'mexh', 500,5)\n",
    "cf.PlotFingerPrint(fprint.T, 'Clean1', location, False)"
   ]
  },
  {
   "cell_type": "code",
   "execution_count": null,
   "metadata": {},
   "outputs": [],
   "source": [
    "fprint = cf.getThumbprint2(ODataSet[:,0], 'mexh', 500,5)\n",
    "cf.PlotFingerPrint(fprint.T, 'Original0', location, False)"
   ]
  },
  {
   "cell_type": "code",
   "execution_count": null,
   "metadata": {},
   "outputs": [],
   "source": [
    "CleanD = cf.Smoothing(ODataSet[:,0],2)\n",
    "fprint = cf.getThumbprint2(CleanD, 'mexh', 500,5)\n",
    "cf.PlotFingerPrint(fprint.T, 'Clean0', location, False)"
   ]
  },
  {
   "cell_type": "code",
   "execution_count": null,
   "metadata": {},
   "outputs": [],
   "source": [
    "#for i in range(int(length/size)):\n",
    "for i in range(2):\n",
    "    fig=plt.figure(figsize=(6.67,3.75), dpi=600)\n",
    "    # StdDev = np.zeros(length)\n",
    "    # StdDevSmooth = np.zeros(length)\n",
    "    coord = i#+5\n",
    "    results =[]\n",
    "    signchange = 0\n",
    "    sign=1\n",
    "    for j in range(np.shape(ODataSet)[0]-1):\n",
    "        if not isinstance(ODataSet[j,coord],float):\n",
    "            ODataSet[j,coord] = ODataSet[j-1,coord]\n",
    "\n",
    "    norm = np.average(ODataSet[:,coord])\n",
    "    ODataSet[:,coord]-=norm\n",
    "\n",
    "    for j in range(np.shape(ODataSet)[0]-1):\n",
    "        if sign != np.sign(ODataSet[j+1,coord]*ODataSet[j,coord]):\n",
    "            signchange+=1\n",
    "            sign = np.sign(ODataSet[j+1,coord]*ODataSet[j,coord])\n",
    "        results.append(sign*np.abs(np.abs(ODataSet[j+1,coord])-np.abs(ODataSet[j,coord])))\n",
    "    print(Header[coord],np.average(results),st.stdev(results),signchange)\n",
    "    Results.append(results)\n",
    "    # SmoothRDataSet[0] = 0\n",
    "    SmoothXDataSet[0] = 0\n",
    "    # StdDev[0]=0\n",
    "    # StdDevSmooth[0]=0\n",
    "\n",
    "    # factor = np.average(np.power(np.power(ODataSet[:,1],2)+np.power(ODataSet[:,2],2),0.5))\n",
    "\n",
    "    # TdDataSet[0] = np.sqrt(ODataSet[0,1]**2+ODataSet[0,2]**2)-factor\n",
    "    # TdDataSet[1] = np.sqrt(ODataSet[1,1]**2+ODataSet[1,2]**2)-factor\n",
    "    # for j in range(Arange-1):\n",
    "    #     k = j+2\n",
    "    #     TdDataSet[k] = np.sqrt(ODataSet[k,1]**2+ODataSet[k,2]**2)-factor\n",
    "    # for j in range(length-Arange):\n",
    "    #     k = (length-1)-j\n",
    "    #     TdDataSet[k] = np.sqrt(ODataSet[k,1]**2+ODataSet[k,2]**2)-factor\n",
    "    for j in range(Arange-1):\n",
    "        k = j+2\n",
    "        SmoothXDataSet[k,i] = np.average(ODataSet[0:k,coord])\n",
    "    #     #StdDev[k]=st.stdev(ODataSet[0:k,coord])\n",
    "    #     StdDevSmooth[k] = st.stdev(TdDataSet[0:k])\n",
    "    #     SmoothRDataSet[k] = np.average(TdDataSet[0:k])\n",
    "    for j in range(length-Arange):\n",
    "        k = (length-1)-j\n",
    "        SmoothXDataSet[k,i] = np.average(ODataSet[k-Arange:k,coord])\n",
    "    #     #StdDev[k]=st.stdev(ODataSet[k-Arange:k,coord])\n",
    "    #     StdDevSmooth[k]=st.stdev(TdDataSet[k-Arange:k])\n",
    "    #     SmoothRDataSet[k] = np.average(TdDataSet[k-Arange:k])\n",
    "    signchange = 0\n",
    "    sign=1\n",
    "    results =[]\n",
    "    for j in range(np.shape(ODataSet)[0]-1):\n",
    "        if sign != np.sign(SmoothXDataSet[j+1,i]*SmoothXDataSet[j,i]):\n",
    "            signchange+=1\n",
    "            sign = np.sign(SmoothXDataSet[j+1,i]*SmoothXDataSet[j,i])\n",
    "        results.append(sign*np.abs(np.abs(SmoothXDataSet[j+1,i])-np.abs(SmoothXDataSet[j,i])))\n",
    "    print(Header[coord]+' Smoothed',np.average(results),st.stdev(results),signchange)\n",
    "    plt.plot(ODataSet[:,coord], label = 'Original ' + Header[coord])\n",
    "    plt.plot(SmoothXDataSet[:,i], label = 'Smooth ' + Header[coord])\n",
    "    plt.plot(results[:], label = 'Changes')\n",
    "    # #plt.plot(StdDevSmooth[start:end]) #,label = 'StdDev of signal')\n",
    "    # #plt.plot(SmoothRDataSet[start:end]) #, label = 'Smoothed Signal')\n",
    "\n",
    "    # plt.legend()            \n",
    "    plt.show()\n",
    "    # #print(title,max(StdDev),max(SmoothXDataSet[start:end]))\n",
    "\n",
    "# title = Filename #+ ' ' + Header[coord]\n",
    "# if Saving: plt.savefig(location+title.replace(\" \", \"\").replace(\":\", \"\").replace(\",\", \"\")+FFormat)\n",
    "\n",
    "# if Ledgends: plt.legend()\n",
    "# if Titles: plt.title(title)\n",
    "\n",
    "\n",
    "\n",
    "#plt.show()\n",
    "\n",
    "#results.append([np.average(DataSet[:,1][i*size:(i+1)*size]), np.average(DataSet[:,2][i*size:(i+1)*size]),np.average(DataSet[:,3][i*size:(i+1)*size])])\n",
    "\n",
    "#results = np.matrix(results)\n",
    "#df = pd.DataFrame(data=results.astype('float'))\n",
    "#df.to_csv('C:\\\\Users\\\\dhendrickson\\\\Desktop\\\\Phone Acceleration\\\\Gyro-output-' + Filename[10:20] + '.csv', sep=',', header=False, float_format='%.8f')\n",
    "#PlotFingerPrint(DataSet[:,coor"
   ]
  },
  {
   "cell_type": "code",
   "execution_count": null,
   "metadata": {},
   "outputs": [],
   "source": [
    "for Filename in files:\n",
    "    if Filename[-4:] ==  '.csv':\n",
    "        ODataSet = np.genfromtxt(open(folder+'/'+Filename,'r'), delimiter=',',skip_header=1)\n",
    "        ODataSet = ODataSet[start:end,:]\n",
    "        length = np.shape(ODataSet)[0]\n",
    "\n",
    "        #Header = ODataSet[0,:]\n",
    "\n",
    "\n",
    "        #SmoothRDataSet = np.zeros(np.shape(ODataSet)[0])\n",
    "        SmoothXDataSet = np.zeros((np.shape(ODataSet)[0],18))\n",
    "        #TdDataSet = np.zeros(np.shape(ODataSet)[0])\n",
    "\n",
    "        results =[]\n",
    "        Results = []\n",
    "        #fig=plt.figure(figsize=(6.67,3.75), dpi=1200)\n",
    "\n",
    "        \n",
    "       \n",
    "\n",
    "        #for i in range(int(length/size)):\n",
    "        for i in range(3):\n",
    "            fig=plt.figure(figsize=(6.67,3.75), dpi=600)\n",
    "            # StdDev = np.zeros(length)\n",
    "            # StdDevSmooth = np.zeros(length)\n",
    "            coord = i#+5\n",
    "            results =[]\n",
    "            signchange = 0\n",
    "            sign=1\n",
    "\n",
    "            norm = np.average(ODataSet[:,coord])\n",
    "            ODataSet[:,coord]-=norm\n",
    "\n",
    "            for j in range(np.shape(ODataSet)[0]-1):\n",
    "                if sign != np.sign(ODataSet[j+1,coord]*ODataSet[j,coord]):\n",
    "                    signchange+=1\n",
    "                    sign = np.sign(ODataSet[j+1,coord]*ODataSet[j,coord])\n",
    "                results.append(sign*np.abs(np.abs(ODataSet[j+1,coord])-np.abs(ODataSet[j,coord])))\n",
    "            print(Header[coord],np.average(results),st.stdev(results),signchange)\n",
    "            Results.append(results)\n",
    "            # SmoothRDataSet[0] = 0\n",
    "            SmoothXDataSet[0] = 0\n",
    "            # StdDev[0]=0\n",
    "            # StdDevSmooth[0]=0\n",
    "\n",
    "            # factor = np.average(np.power(np.power(ODataSet[:,1],2)+np.power(ODataSet[:,2],2),0.5))\n",
    "\n",
    "            # TdDataSet[0] = np.sqrt(ODataSet[0,1]**2+ODataSet[0,2]**2)-factor\n",
    "            # TdDataSet[1] = np.sqrt(ODataSet[1,1]**2+ODataSet[1,2]**2)-factor\n",
    "            # for j in range(Arange-1):\n",
    "            #     k = j+2\n",
    "            #     TdDataSet[k] = np.sqrt(ODataSet[k,1]**2+ODataSet[k,2]**2)-factor\n",
    "            # for j in range(length-Arange):\n",
    "            #     k = (length-1)-j\n",
    "            #     TdDataSet[k] = np.sqrt(ODataSet[k,1]**2+ODataSet[k,2]**2)-factor\n",
    "            for j in range(Arange-1):\n",
    "                k = j+2\n",
    "                SmoothXDataSet[k,i] = np.average(ODataSet[0:k,coord])\n",
    "            #     #StdDev[k]=st.stdev(ODataSet[0:k,coord])\n",
    "            #     StdDevSmooth[k] = st.stdev(TdDataSet[0:k])\n",
    "            #     SmoothRDataSet[k] = np.average(TdDataSet[0:k])\n",
    "            for j in range(length-Arange):\n",
    "                k = (length-1)-j\n",
    "                SmoothXDataSet[k,i] = np.average(ODataSet[k-Arange:k,coord])\n",
    "            #     #StdDev[k]=st.stdev(ODataSet[k-Arange:k,coord])\n",
    "            #     StdDevSmooth[k]=st.stdev(TdDataSet[k-Arange:k])\n",
    "            #     SmoothRDataSet[k] = np.average(TdDataSet[k-Arange:k])\n",
    "            signchange = 0\n",
    "            sign=1\n",
    "            results =[]\n",
    "            for j in range(np.shape(ODataSet)[0]-1):\n",
    "                if sign != np.sign(SmoothXDataSet[j+1,i]*SmoothXDataSet[j,i]):\n",
    "                    signchange+=1\n",
    "                    sign = np.sign(SmoothXDataSet[j+1,i]*SmoothXDataSet[j,i])\n",
    "                results.append(sign*np.abs(np.abs(SmoothXDataSet[j+1,i])-np.abs(SmoothXDataSet[j,i])))\n",
    "            print(Header[coord]+' Smoothed',np.average(results),st.stdev(results),signchange)\n",
    "            plt.plot(ODataSet[:,coord], label = 'Original ' + Header[coord])\n",
    "            plt.plot(SmoothXDataSet[:,i], label = 'Smooth ' + Header[coord])\n",
    "            plt.plot(results[:], label = 'Changes')\n",
    "            # #plt.plot(StdDevSmooth[start:end]) #,label = 'StdDev of signal')\n",
    "            # #plt.plot(SmoothRDataSet[start:end]) #, label = 'Smoothed Signal')\n",
    "            \n",
    "            # plt.legend()            \n",
    "            plt.show()\n",
    "            # #print(title,max(StdDev),max(SmoothXDataSet[start:end]))\n",
    "        \n",
    "        # title = Filename #+ ' ' + Header[coord]\n",
    "        # if Saving: plt.savefig(location+title.replace(\" \", \"\").replace(\":\", \"\").replace(\",\", \"\")+FFormat)\n",
    "        \n",
    "        # if Ledgends: plt.legend()\n",
    "        # if Titles: plt.title(title)\n",
    "        \n",
    "        \n",
    "\n",
    "        #plt.show()\n",
    "        \n",
    "        #results.append([np.average(DataSet[:,1][i*size:(i+1)*size]), np.average(DataSet[:,2][i*size:(i+1)*size]),np.average(DataSet[:,3][i*size:(i+1)*size])])\n",
    "\n",
    "        #results = np.matrix(results)\n",
    "        #df = pd.DataFrame(data=results.astype('float'))\n",
    "        #df.to_csv('C:\\\\Users\\\\dhendrickson\\\\Desktop\\\\Phone Acceleration\\\\Gyro-output-' + Filename[10:20] + '.csv', sep=',', header=False, float_format='%.8f')\n",
    "        #PlotFingerPrint(DataSet[:,coord][start:end],'a',title,'coif1')\n",
    "\n",
    "# Saving = False\n",
    "# Titles = True\n",
    "\n",
    "#title='Highlighted Sensor Dimmension'\n",
    "#fig=plt.figure(figsize=(6.67,3.75), dpi=1200)\n",
    "#plt.plot(ODataSet[start:end,3], label = 'Original ' + Header[3])\n",
    "#if Ledgends: plt.legend()\n",
    "#if Titles: plt.title(title)\n",
    "#if Saving: plt.savefig(location+title.replace(\" \", \"\").replace(\":\", \"\").replace(\",\", \"\")+FFormat)\n",
    "#plt.show()"
   ]
  },
  {
   "cell_type": "code",
   "execution_count": null,
   "metadata": {},
   "outputs": [],
   "source": [
    "trys = ['coif1','coif2','mexh','gaus2','dmey','gaus1','morl','cgau1','cgau2','db1','db2','sym1','sym2','sym3']\n",
    "#trys = ['coif2','mexh','gaus2','db1','sym2']\n",
    "#trys = ['gaus2'] #,'gaus1','gaus2','gaus3','gaus5']\n",
    "wvlt = 'gaus2'\n",
    "\n",
    "Titles = True\n",
    "Saving = False\n",
    "\n",
    "start = 40000\n",
    "end = 60000\n",
    "coord = 1\n",
    "scales = 500\n",
    "slices = 2\n",
    "trim = 200\n",
    "\n",
    "for cord in range(1):\n",
    "   coord = cord + 2\n",
    "   for id in trys:\n",
    "      try:\n",
    "       \n",
    "            PlotFingerPrint(ODataSet[start:end,coord],'a','Raw data from '+str(start)+' to '+str(end),id,scales,slices,trim)\n",
    "            # PlotFingerPrint(SmoothXDataSet[start:end,cord],'a','Smoothed data from '+str(start+trim)+' to '+str(end-trim)+', '+id+' wavelet, '+Header[coord],id,scales,slices,trim)\n",
    "            # PlotFingerPrint(StdDev[start:end],'a',id + 'StdDev from '+str(start)+' to '+str(end),id,scales,slices,trim)\n",
    "            # PlotFingerPrint(StdDevSmooth[start:end],'a',id + 'Wavelet from '+str(start)+' to '+str(end),id,500,5)\n",
    "            # PlotFingerPrint(TdDataSet[start:end],'a',id + 'Wavelet on r series from '+str(start)+' to '+str(end),id,500,5)\n",
    "            # PlotFingerPrint(SmoothDataSet[start:end],'a','Smoothed r data from '+str(start)+' to '+str(end),id,scales,slices,trim)\n",
    "            \n",
    "      except:\n",
    "         print(id)"
   ]
  },
  {
   "cell_type": "code",
   "execution_count": null,
   "metadata": {},
   "outputs": [],
   "source": [
    "np.shape(ODataSet[start:end,coord])"
   ]
  },
  {
   "cell_type": "code",
   "execution_count": null,
   "metadata": {},
   "outputs": [],
   "source": [
    "# #y = np.linspace(0, BeamLength, np.shape(CenterZResults[0][0])[1])\n",
    "# #x = np.linspace(0, BeamHeight, np.shape(CenterZResults[0][0])[0])\n",
    "\n",
    "# import matplotlib.animation as animation\n",
    "\n",
    "# fig = plt.figure(figsize=(6.67,3.75), dpi=300)\n",
    "\n",
    "# y = np.linspace(0, scales-1, scales)\n",
    "# x = np.linspace(0, 1000, num=1000, endpoint=False)\n",
    "# x,y = np.meshgrid(x,y)\n",
    "\n",
    "# plt.ylabel(r'scales')\n",
    "# plt.xlabel(r'data points')\n",
    "\n",
    "# def animate(i):\n",
    "    \n",
    "#     #if 'ax' in locals: ax.clear()\n",
    "#     start = i * 250\n",
    "#     end = start + 1000 \n",
    "\n",
    "#     z = np.matrix(FpScat[:,start:end])\n",
    "#     plt.title('Data Points ' +str(start) + ' : ' + str(end))\n",
    "#     cont = plt.contourf(x, y, z, levels=scales, cmap='gray',vmin=-0, vmax=18935)\n",
    "#     #plt.axes.clear()\n",
    "#     #ax = plt.axes(xlim=(start, end), ylim=(0, scales))  \n",
    "#     #time.sleep(1)\n",
    "#     return cont  \n",
    "\n",
    "# for i in range(18):\n",
    "#     coord = i+5\n",
    "#     FpScat = fp.getLabeledThumbprint(ODataSet[start:end,coord], wvlt,scales,slices,0.12,'both',True)\n",
    "#     PlotFingerPrint(FpScat,'a',Filename[:-4] + ' Wavelet on r series from '+str(start)+' to '+str(end),id,scales,slices,trim)\n",
    "    \n",
    "#     anim = animation.FuncAnimation(fig, animate, frames=17)\n",
    "#     anim.save('animation-'+ Header[coord] +'.gif')"
   ]
  },
  {
   "cell_type": "code",
   "execution_count": null,
   "metadata": {},
   "outputs": [],
   "source": [
    "# yy = np.linspace(0, scales, scales+1)\n",
    "# xx = np.linspace(250, 1250, num=1000, endpoint=False)\n",
    "# xxx,yyy = np.meshgrid(xx,yy)\n",
    "# yyy"
   ]
  },
  {
   "cell_type": "code",
   "execution_count": null,
   "metadata": {},
   "outputs": [],
   "source": [
    "# PlotFingerPrint(FpScat,'a',Filename[:-4] + ' Wavelet on r series from '+str(start)+' to '+str(end),id,scales,slices,trim)"
   ]
  },
  {
   "cell_type": "code",
   "execution_count": null,
   "metadata": {},
   "outputs": [],
   "source": [
    "# FpScatR = fp.getLabeledThumbprint(SmoothRDataSet[start:end], wvlt,scales,slices)"
   ]
  },
  {
   "cell_type": "code",
   "execution_count": null,
   "metadata": {},
   "outputs": [],
   "source": [
    "# PlotFingerPrint(FpScatR,'a',Filename[:-4] + ' Smoothed r data from '+str(start)+' to '+str(end),id,scales,slices,trim)"
   ]
  },
  {
   "cell_type": "code",
   "execution_count": null,
   "metadata": {},
   "outputs": [],
   "source": [
    "# FpScatX = fp.getLabeledThumbprint(SmoothXDataSet[start:end], wvlt,scales,slices)"
   ]
  },
  {
   "cell_type": "code",
   "execution_count": null,
   "metadata": {},
   "outputs": [],
   "source": [
    "# PlotFingerPrint(FpScatX,'a','Smoothed X data from '+str(start)+' to '+str(end),id,scales,slices,trim)"
   ]
  }
 ],
 "metadata": {
  "interpreter": {
   "hash": "b3ba2566441a7c06988d0923437866b63cedc61552a5af99d1f4fb67d367b25f"
  },
  "kernelspec": {
   "display_name": "torchmpi",
   "language": "python",
   "name": "torchmpi"
  },
  "language_info": {
   "codemirror_mode": {
    "name": "ipython",
    "version": 3
   },
   "file_extension": ".py",
   "mimetype": "text/x-python",
   "name": "python",
   "nbconvert_exporter": "python",
   "pygments_lexer": "ipython3",
   "version": "3.11.4"
  }
 },
 "nbformat": 4,
 "nbformat_minor": 4
}
