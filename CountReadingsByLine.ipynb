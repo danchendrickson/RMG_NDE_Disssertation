{
 "cells": [
  {
   "cell_type": "code",
   "execution_count": 2,
   "metadata": {},
   "outputs": [],
   "source": [
    "import os\n",
    "import datetime\n",
    "import numpy as np\n",
    "import multiprocessing\n",
    "from joblib import Parallel, delayed\n",
    "import shutil"
   ]
  },
  {
   "cell_type": "code",
   "execution_count": 2,
   "metadata": {},
   "outputs": [],
   "source": [
    "rootfolder = \"G:\\\\\"\n",
    "#folder = rootfolder+\"CraneData\\\\\"\n",
    "folder = \"E:\\\\Documents\\\\Dan\\\\Port Work\\\\OneDrive\\\\OneDrive - The Port of Virginia\\\\Shared with Everyone\\\\Crane Data\\\\\"\n",
    "SensorPositonFile = rootfolder + 'SensorStatsSmall.csv'\n",
    "OutputVectors = np.genfromtxt(open(SensorPositonFile,'r'), delimiter=',',skip_header=1,dtype=int, missing_values=0)"
   ]
  },
  {
   "cell_type": "code",
   "execution_count": 3,
   "metadata": {},
   "outputs": [],
   "source": [
    "def IndexFile(Filename):\n",
    "    \n",
    "    try:\n",
    "        #Parsing the file name.  Assuming it is in the standard format\n",
    "        sSensor = Filename[23]\n",
    "        sDate = datetime.datetime.strptime('20'+Filename[10:21],\"%Y%m%d-%H%M\")\n",
    "\n",
    "        i=0\n",
    "        j = 0\n",
    "        #loops through the known sensor movements, and creates a filter mask\n",
    "        for spf in OutputVectors:\n",
    "            \n",
    "            startDate = datetime.datetime.strptime(str(spf[0])+str(spf[1]).zfill(2)+str(spf[2]).zfill(2)\n",
    "                +str(spf[3]).zfill(2)+str(spf[4]).zfill(2),\"%Y%m%d%H%M\")\n",
    "            #datetime.date(int(spf[0]), int(spf[1]), int(spf[2])) + datetime.timedelta(hours=spf[3]) + datetime.timedelta(minutes=spf[4])\n",
    "            endDate = datetime.datetime.strptime(str(spf[5])+str(spf[6]).zfill(2)+str(spf[7]).zfill(2)\n",
    "                +str(spf[8]).zfill(2)+str(spf[9]).zfill(2),\"%Y%m%d%H%M\")\n",
    "            #datetime.date(int(spf[5]), int(spf[6]), int(spf[7])) + datetime.timedelta(hours=spf[8]) + datetime.timedelta(minutes=spf[9])\n",
    "            \n",
    "            if sDate >= startDate and sDate <= endDate and int(spf[10]) == int(sSensor):\n",
    "                i+=1\n",
    "                result = j\n",
    "            else:\n",
    "                pass\n",
    "            j += 1\n",
    "            \n",
    "        if i != 1: \n",
    "            print('error ', i, Filename)\n",
    "            result = np.shape(OutputVectors)[0]\n",
    "    except:\n",
    "        result = 'fail'\n",
    "\n",
    " \n",
    "    return result"
   ]
  },
  {
   "cell_type": "code",
   "execution_count": 9,
   "metadata": {},
   "outputs": [],
   "source": [
    "def CheckArrayOfFiles(Files):\n",
    "\n",
    "    Results = np.zeros(np.shape(OutputVectors)[0]+2)\n",
    "\n",
    "    for file in Files:\n",
    "        if file [-3:] != 'csv': \n",
    "            Results[np.shape(OutputVectors)[0]+1] +=1\n",
    "        else:\n",
    "            ind = IndexFile(file)\n",
    "            Results[ind] += 1\n",
    "\n",
    "    return Results"
   ]
  },
  {
   "cell_type": "code",
   "execution_count": 5,
   "metadata": {},
   "outputs": [],
   "source": [
    "Groups = multiprocessing.cpu_count() -2"
   ]
  },
  {
   "cell_type": "code",
   "execution_count": 10,
   "metadata": {},
   "outputs": [],
   "source": [
    "AllFiles = os.listdir(folder)"
   ]
  },
  {
   "cell_type": "code",
   "execution_count": 11,
   "metadata": {},
   "outputs": [],
   "source": [
    "AllFiles = [AllFiles[x:x+Groups] for x in range(0, len(AllFiles), Groups)]"
   ]
  },
  {
   "cell_type": "code",
   "execution_count": 12,
   "metadata": {},
   "outputs": [],
   "source": [
    "Results = Parallel(n_jobs=Groups)(delayed(CheckArrayOfFiles)(ListFiles) for ListFiles in AllFiles)"
   ]
  },
  {
   "cell_type": "code",
   "execution_count": 13,
   "metadata": {},
   "outputs": [],
   "source": [
    "np.matrix(Results)\n",
    "Final = np.sum(Results, axis = 0)"
   ]
  },
  {
   "cell_type": "code",
   "execution_count": 14,
   "metadata": {},
   "outputs": [
    {
     "data": {
      "text/plain": [
       "array([1.7200e+02, 2.0000e+00, 4.1600e+02, 4.9100e+02, 3.0000e+02,\n",
       "       0.0000e+00, 6.4700e+02, 4.3900e+02, 4.3400e+02, 3.7500e+02,\n",
       "       2.8500e+02, 4.6700e+02, 2.7800e+02, 3.3000e+02, 4.6600e+02,\n",
       "       3.3300e+02, 1.2240e+03, 1.0590e+03, 7.9900e+02, 2.8400e+02,\n",
       "       9.3600e+02, 3.0100e+02, 5.0500e+02, 6.1600e+02, 7.2500e+02,\n",
       "       5.1200e+02, 7.9800e+02, 1.4350e+03, 2.1130e+03, 8.1000e+02,\n",
       "       9.9500e+02, 8.8200e+02, 8.4900e+02, 1.6100e+03, 9.4100e+02,\n",
       "       1.2300e+02, 1.9540e+03, 9.8900e+02, 1.6400e+03, 1.5860e+03,\n",
       "       1.4960e+03, 5.8870e+03, 5.6610e+03, 2.2000e+01, 1.7180e+03,\n",
       "       0.0000e+00, 9.0000e+00, 3.0930e+03, 1.2370e+03, 9.3200e+02,\n",
       "       9.5100e+02, 1.2820e+03, 2.0180e+03, 2.2110e+03, 1.5710e+03,\n",
       "       2.1520e+03, 1.3205e+04, 1.6283e+04, 2.1890e+03, 1.5650e+03,\n",
       "       9.4490e+03, 6.8530e+03, 1.6808e+04, 1.1513e+04, 0.0000e+00,\n",
       "       2.0880e+04, 7.1750e+03, 1.1000e+01, 1.5660e+03, 1.7490e+03,\n",
       "       2.1620e+03, 0.0000e+00, 7.5820e+03, 6.6300e+02, 0.0000e+00,\n",
       "       1.0000e+00, 1.6840e+03, 0.0000e+00, 0.0000e+00, 5.0640e+03,\n",
       "       4.3720e+03, 0.0000e+00, 0.0000e+00, 0.0000e+00, 1.5220e+03,\n",
       "       1.5960e+03, 1.2340e+03, 8.8100e+02, 0.0000e+00, 1.7050e+03,\n",
       "       4.2720e+03, 3.2740e+03, 8.4100e+02, 4.0080e+03, 0.0000e+00,\n",
       "       7.2500e+02, 1.2350e+03, 2.9940e+03, 0.0000e+00, 9.4000e+02,\n",
       "       3.4050e+03, 3.8280e+03, 2.9760e+03, 0.0000e+00, 2.1950e+03,\n",
       "       0.0000e+00, 0.0000e+00, 0.0000e+00, 3.0800e+03, 0.0000e+00,\n",
       "       0.0000e+00, 1.6460e+04, 2.0000e+00])"
      ]
     },
     "execution_count": 14,
     "metadata": {},
     "output_type": "execute_result"
    }
   ],
   "source": [
    "Final"
   ]
  },
  {
   "cell_type": "code",
   "execution_count": null,
   "metadata": {},
   "outputs": [],
   "source": [
    "def CheckValidFileName(FileName):\n",
    "    test = IndexFile(FileName)\n",
    "    if test == 'fail':\n",
    "        result = True\n",
    "    else:\n",
    "        result = False\n",
    "    return result"
   ]
  },
  {
   "cell_type": "code",
   "execution_count": null,
   "metadata": {},
   "outputs": [],
   "source": [
    "def CheckListofFileNames(Files):\n",
    "    BadGuys = []\n",
    "    for file in Files:\n",
    "        Check = CheckValidFileName(file)\n",
    "        if Check == True:\n",
    "            BadGuys.append(file)\n",
    "\n",
    "    return BadGuys"
   ]
  },
  {
   "cell_type": "code",
   "execution_count": null,
   "metadata": {},
   "outputs": [],
   "source": [
    "BadGuys = Parallel(n_jobs=Groups)(delayed(CheckListofFileNames)(ListFiles) for ListFiles in AllFiles)\n"
   ]
  },
  {
   "cell_type": "code",
   "execution_count": null,
   "metadata": {},
   "outputs": [],
   "source": [
    "j=[]\n",
    "for r in BadGuys:\n",
    "    if r ==[]:\n",
    "        pass\n",
    "    else:\n",
    "        for t in r:\n",
    "            if t ==[]: pass\n",
    "            else:\n",
    "                j.append(r)"
   ]
  },
  {
   "cell_type": "code",
   "execution_count": null,
   "metadata": {},
   "outputs": [],
   "source": [
    "j"
   ]
  },
  {
   "cell_type": "code",
   "execution_count": null,
   "metadata": {},
   "outputs": [],
   "source": [
    "a=0\n",
    "b=0\n",
    "c=0\n",
    "folder = \"C:\\\\Users\\\\Dan\\\\Desktop\\\\Temp\\\\\"\n",
    "FLists = os.listdir(folder)\n",
    "for FLists in j:\n",
    "    for Filename in FLists:\n",
    "        #print(Filename, Filename[-3:], Filename[-6:-5], Filename[3:7])\n",
    "        #if Filename[0:5] == 'Accel':\n",
    "        newName = '60kPoints' + str(Filename[8:]) \n",
    "        os.rename(os.path.join(folder,Filename), \n",
    "            os.path.join(folder,newName))\n",
    "        a+=1\n",
    "        #if Filename [-3:] == 'csv' and Filename[-6:-5] != 's':\n",
    "        #    newName = folder+Filename[:-4]+ '-s1a.csv'\n",
    "        #    os.rename(folder+Filename, newName)\n",
    "        #    b+=1\n",
    "        #if Filename[3:7] == 'Gyro':\n",
    "        #    shutil.move(folder+Filename, folder + 'Gyro\\\\'+Filename)\n",
    "        #    c+=1\n",
    "\n",
    "print(a,b,c)"
   ]
  },
  {
   "cell_type": "code",
   "execution_count": null,
   "metadata": {},
   "outputs": [],
   "source": [
    "import os\n",
    "\n",
    "dir = (\"C:\\\\test\")\n",
    "\n",
    "# check that the folder exists\n",
    "if os.path.isdir(dir):\n",
    "    print('folder exists')\n",
    "else:\n",
    "    print('folder does not exist')\n",
    "    exit()\n",
    "\n",
    "for f in os.listdir(dir):\n",
    "\n",
    "    a = os.path.join(dir, f)\n",
    "    f2 = '60kPoints' + f[8:]\n",
    "    b = os.path.join(dir, f2).replace('_', '').replace(' ', '').lower()\n",
    "    os.rename(a, b)\n",
    "    print('file names updated')\n",
    "\n"
   ]
  },
  {
   "cell_type": "code",
   "execution_count": 19,
   "metadata": {},
   "outputs": [],
   "source": [
    "import os\n",
    "import datetime\n",
    "import shutil\n",
    "\n",
    "Sensor = 2\n",
    "Groups = 2\n",
    "startDate = datetime.datetime.strptime(str(202205261537),\"%Y%m%d%H%M\")\n",
    "            #datetime.date(int(spf[0]), int(spf[1]), int(spf[2])) + datetime.timedelta(hours=spf[3]) + datetime.timedelta(minutes=spf[4])\n",
    "endDate = datetime.datetime.strptime(str(202206021200),\"%Y%m%d%H%M\")\n",
    "folder = \"E:\\\\Documents\\\\Dan\\\\Port Work\\\\OneDrive\\\\OneDrive - The Port of Virginia\\\\Shared with Everyone\\\\Crane Data\\\\\"\n",
    "FLists = os.listdir(folder)\n",
    "NewFolder = \"C:\\\\Users\\\\Dan\\\\OneDrive\\\\For F8F\\\\Crane Moves\\\\RMG 4w\\\\\"\n",
    "\n",
    "def CopyFile(Filename):\n",
    "    s=0\n",
    "    \n",
    "    if Filename[-3:] == 'csv':\n",
    "        sSensor = int(Filename[23])\n",
    "        sDate = datetime.datetime.strptime('20'+Filename[10:21],\"%Y%m%d-%H%M\")\n",
    "        \n",
    "        if sDate >= startDate and sDate <= endDate and Sensor == int(sSensor):\n",
    "            shutil.copyfile(folder+Filename, NewFolder+Filename)\n",
    "            #print('Yes', Filename, sSensor)\n",
    "            s=1\n",
    "    return s\n",
    "z=0\n",
    "\n",
    "for file in FLists:\n",
    "    z += CopyFile(file)\n"
   ]
  },
  {
   "cell_type": "code",
   "execution_count": 16,
   "metadata": {},
   "outputs": [
    {
     "name": "stdout",
     "output_type": "stream",
     "text": [
      "2021-07-09 07:15:00 2022-05-26 15:37:00 2022-06-02 12:00:00\n"
     ]
    }
   ],
   "source": [
    "h = datetime.datetime.strptime('20'+FLists[0][10:21],\"%Y%m%d-%H%M\")\n",
    "print(h , startDate, endDate)    "
   ]
  }
 ],
 "metadata": {
  "interpreter": {
   "hash": "11c16a051206f53cf7fe024f12cacb318023d916d0a5509b7bf3391ee4b4163a"
  },
  "kernelspec": {
   "display_name": "Python 3 (ipykernel)",
   "language": "python",
   "name": "python3"
  },
  "language_info": {
   "codemirror_mode": {
    "name": "ipython",
    "version": 3
   },
   "file_extension": ".py",
   "mimetype": "text/x-python",
   "name": "python",
   "nbconvert_exporter": "python",
   "pygments_lexer": "ipython3",
   "version": "3.12.4"
  }
 },
 "nbformat": 4,
 "nbformat_minor": 4
}
