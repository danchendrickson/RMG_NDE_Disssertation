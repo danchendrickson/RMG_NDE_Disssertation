{
 "cells": [
  {
   "cell_type": "markdown",
   "metadata": {},
   "source": [
    "# Using Tensorflow to build a nueral network to segment 60k accelerometer signal into classes\n",
    "\n",
    "Based on code found on a search taken from:\n",
    "https://stackoverflow.com/questions/38719091/tensorflow-segmenting-a-signal\n",
    "It needed some updates to work with newest versions.\n",
    "Also updated with new get_data() to pull data and masks from csv.\n",
    "\n",
    "The data needs to be manual albeled.  The file 06 Make Many .... was used for graphs to be manually segmented and labeled.\n",
    "\n"
   ]
  },
  {
   "cell_type": "code",
   "execution_count": 2,
   "metadata": {},
   "outputs": [],
   "source": [
    "import tensorflow as tf\n",
    "from tensorflow.python.platform import flags \n",
    "FLAGS = flags.FLAGS\n",
    "flags.DEFINE_string('train_dir', 'data', 'Directory to put the training data.')\n",
    "import numpy as np\n",
    "from skimage import exposure\n",
    "import os\n",
    "import matplotlib.pyplot as plt\n",
    "import random"
   ]
  },
  {
   "cell_type": "code",
   "execution_count": 3,
   "metadata": {},
   "outputs": [],
   "source": [
    "def weight_variable(shape):\n",
    "    initial = tf.truncated_normal(shape, stddev=0.1)\n",
    "    return tf.Variable(initial)"
   ]
  },
  {
   "cell_type": "code",
   "execution_count": 4,
   "metadata": {},
   "outputs": [],
   "source": [
    "def bias_variable(shape):\n",
    "    #initial = tf.constant(0.5, shape=shape)\n",
    "    initial = tf.truncated_normal(shape, stddev=0.1)\n",
    "    return tf.Variable(initial)"
   ]
  },
  {
   "cell_type": "code",
   "execution_count": 5,
   "metadata": {},
   "outputs": [],
   "source": [
    "def conv2d(x, W):\n",
    "    return tf.nn.conv2d(x, W, strides=[1, 1, 1, 1 ], padding='SAME')"
   ]
  },
  {
   "cell_type": "code",
   "execution_count": 6,
   "metadata": {},
   "outputs": [],
   "source": [
    "def get_data():\n",
    "    image_dims = [100]\n",
    "    np_array_mask = np.zeros(image_dims)\n",
    "    x = random.sample(range(0,100),2)\n",
    "    x.sort()\n",
    "    np_array_mask[x[0]:x[1]]=1.0\n",
    "    np_array = np_array_mask + np.random.normal(np.zeros(image_dims),0.01)\n",
    "    return (np_array,np_array_mask)"
   ]
  },
  {
   "cell_type": "code",
   "execution_count": 7,
   "metadata": {},
   "outputs": [],
   "source": [
    "def training():\n",
    "    with tf.Session() as sess:\n",
    "        segment_size = (100,1)\n",
    "        flat_size = np.prod(segment_size)\n",
    "        x = tf.placeholder(tf.float32, shape=[None, flat_size])\n",
    "        y_ = tf.placeholder(tf.float32, shape=[None, flat_size])\n",
    "        x_shape = [-1] + list(segment_size) + [1]\n",
    "        x_image = tf.reshape(x, x_shape)\n",
    "        W_conv1 = weight_variable([7, 1, 1, 32])\n",
    "        b_conv1 = bias_variable([32])\n",
    "        h_conv1 = tf.nn.relu(conv2d(x_image, W_conv1) + b_conv1)\n",
    "\n",
    "        W_conv2 = weight_variable([7, 1, 32, 32])\n",
    "        b_conv2 = bias_variable([32])\n",
    "        h_conv2 = tf.nn.relu(conv2d(h_conv1, W_conv2) + b_conv2)\n",
    "\n",
    "        W_fc1 = weight_variable([flat_size*32, flat_size])\n",
    "        b_fc1 = bias_variable([flat_size])\n",
    "        h_conv1_flat = tf.reshape(h_conv2, [-1, flat_size*32])\n",
    "        h_fc1 = tf.nn.relu(tf.matmul(h_conv1_flat, W_fc1) + b_fc1)\n",
    "\n",
    "        keep_prob = tf.placeholder(tf.float32)\n",
    "        #h_fc1_drop = tf.nn.dropout(h_fc1, keep_prob)\n",
    "\n",
    "        W_fc2 = weight_variable([flat_size, flat_size])\n",
    "        b_fc2 = bias_variable([flat_size])\n",
    "\n",
    "        #y_conv=tf.sigmoid(tf.matmul(x, W_fc2) + b_fc2)\n",
    "        y_conv=tf.sigmoid(tf.matmul(h_fc1, W_fc2) + b_fc2)\n",
    "\n",
    "        step = tf.Variable(0)\n",
    "        learning_rate = tf.train.exponential_decay(\n",
    "            1e-5,   # Base learning rate.\n",
    "            step,  # Current index into the dataset.\n",
    "            .01,     # Decay step.\n",
    "            0.01    # Decay rate\n",
    "        )\n",
    "\n",
    "        #opt = tf.train.GradientDescentOptimizer(learning_rate)\n",
    "        #opt = tf.train.GradientDescentOptimizer(1e-5)\n",
    "        opt = tf.train.GradientDescentOptimizer(0.5)\n",
    "        #cost = tf.reduce_mean(tf.nn.sigmoid_cross_entropy_with_logits(y_conv ,y_))\n",
    "        cost = tf.reduce_mean(tf.squared_difference(y_, y_conv))\n",
    "        #cost = tf.reduce_mean(tf.reduce_sum(tf.square(y_-y_conv),reduction_indices=[1]))\n",
    "        #cost = tf.reduce_mean(-tf.reduce_sum(y_*tf.log(y_conv)))\n",
    "        train_op = opt.minimize(cost,global_step=step)\n",
    "        correct_prediction = tf.div(tf.reduce_sum(tf.mul(y_conv,y_)),tf.reduce_sum(y_conv))\n",
    "        accuracy = tf.reduce_mean(tf.cast(correct_prediction, tf.float32))\n",
    "        data = [get_data() for i in range(0,1000)]\n",
    "        #summary_op = tf.merge_all_summaries()\n",
    "        #summary_writer = tf.train.SummaryWriter(FLAGS.train_dir, sess.graph)\n",
    "        sess.run(tf.initialize_all_variables())\n",
    "        for epoch in range(0,20):\n",
    "            random.shuffle(data)\n",
    "            train_data = data[0:500]\n",
    "            for i in range(100):\n",
    "                #batch = [exposure.rescale_intensity(vol[1],out_range=(0,1)) for j in range(50*i,50*i+50) for vol in train_data] \n",
    "                #batchy = [train_data[i][1] for j in range(50*i, 50*i+50) for vol in train_data ] \n",
    "                batch = [exposure.rescale_intensity(vol[0],out_range=(-1,1)) for vol in train_data] \n",
    "                batchy = [vol[1] for vol in train_data] \n",
    "                feed_dict = {x:batch, y_: batchy, keep_prob: 0.01}\n",
    "                if i%10 == 0:\n",
    "                    train_accuracy, cost_val, pred_vals = sess.run([accuracy,cost,y_conv],feed_dict={x:batch, y_: batchy, keep_prob: 1.0})\n",
    "                    print(cost_val)\n",
    "                    #print(pred_vals[0],batchy[0])\n",
    "                    print(\"step %d, epoch %d training accuracy %g, cost %g \"%(i, epoch, train_accuracy, cost_val))\n",
    "                _, loss_val = sess.run([train_op,cost],feed_dict=feed_dict)\n",
    "        ind = random.randrange(800,1000)\n",
    "        test_case = get_data()\n",
    "        batch = [exposure.rescale_intensity(test_case[0],out_range=(-1,1))] \n",
    "        batchy = [test_case[1]] \n",
    "        y_out = sess.run(y_conv,feed_dict={x:batch, keep_prob: 1.0})\n",
    "        y_out = np.reshape(y_out,[100])\n",
    "\n",
    "        plt.plot(batch[0])\n",
    "        plt.plot(batchy[0])\n",
    "        plt.plot(y_out,'or')\n",
    "        plt.show()"
   ]
  },
  {
   "cell_type": "code",
   "execution_count": 8,
   "metadata": {},
   "outputs": [],
   "source": [
    "def main():\n",
    "    training()"
   ]
  },
  {
   "cell_type": "code",
   "execution_count": 29,
   "metadata": {},
   "outputs": [],
   "source": [
    "np_array,np_array_mask = get_data()"
   ]
  },
  {
   "cell_type": "code",
   "execution_count": 30,
   "metadata": {},
   "outputs": [
    {
     "data": {
      "image/png": "[encoded data removed]",
      "text/plain": [
       "<Figure size 432x288 with 1 Axes>"
      ]
     },
     "metadata": {
      "needs_background": "light"
     },
     "output_type": "display_data"
    }
   ],
   "source": [
    "plt.plot(np_array)\n",
    "plt.plot(np_array_mask)\n",
    "plt.show()"
   ]
  }
 ],
 "metadata": {
  "interpreter": {
   "hash": "c81fa076aeee1253ea90d918e51bf8233268ffae4e578373f00cbeda6d65c3b9"
  },
  "kernelspec": {
   "display_name": "Python 3.9.9 64-bit",
   "language": "python",
   "name": "python3"
  },
  "language_info": {
   "codemirror_mode": {
    "name": "ipython",
    "version": 3
   },
   "file_extension": ".py",
   "mimetype": "text/x-python",
   "name": "python",
   "nbconvert_exporter": "python",
   "pygments_lexer": "ipython3",
   "version": "3.9.9"
  },
  "orig_nbformat": 4
 },
 "nbformat": 4,
 "nbformat_minor": 2
}
