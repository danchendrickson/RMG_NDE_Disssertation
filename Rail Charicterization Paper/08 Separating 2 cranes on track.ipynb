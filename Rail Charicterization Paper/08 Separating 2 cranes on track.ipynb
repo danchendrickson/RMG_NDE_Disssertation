{
 "cells": [
  {
   "cell_type": "markdown",
   "metadata": {},
   "source": [
    "# Look at accelerometer data \n",
    "\n",
    "Finding Zero velocity times by rail axis acceleration noise levels, making summary statistics for the noise levels across the whole day files.  Spot check graphs to see what works"
   ]
  },
  {
   "cell_type": "code",
   "execution_count": 1,
   "metadata": {},
   "outputs": [],
   "source": [
    "#Standard Header used on the projects\n",
    "\n",
    "#first the major packages used for math and graphing\n",
    "import numpy as np\n",
    "import matplotlib.pyplot as plt\n",
    "from cycler import cycler\n",
    "import scipy.special as sp\n",
    "\n",
    "#Custome graph format style sheet\n",
    "#plt.style.use('Prospectus.mplstyle')\n",
    "\n",
    "#If being run by a seperate file, use the seperate file's graph format and saving paramaeters\n",
    "#otherwise set what is needed\n",
    "if not 'Saving' in locals():\n",
    "    Saving = False\n",
    "if not 'Titles' in locals():\n",
    "    Titles = True\n",
    "if not 'Ledgends' in locals():\n",
    "    Ledgends = True\n",
    "if not 'FFormat' in locals():\n",
    "    FFormat = '.png'\n",
    "\n",
    "#Standard cycle to make black and white images and dashed and line styles\n",
    "default_cycler = (cycler('color', ['0.00', '0.40', '0.60', '0.70']) + cycler(linestyle=['-', '--', ':', '-.']))\n",
    "plt.rc('axes', prop_cycle=default_cycler)\n",
    "my_cmap = plt.get_cmap('gray')"
   ]
  },
  {
   "cell_type": "code",
   "execution_count": 2,
   "metadata": {},
   "outputs": [],
   "source": [
    "#Extra Headers:\n",
    "import os as os\n",
    "import pywt as py\n",
    "import statistics as st\n",
    "import os as os\n",
    "import random\n",
    "import multiprocessing\n",
    "from joblib import Parallel, delayed\n",
    "import platform\n",
    "\n",
    "from time import time as ti"
   ]
  },
  {
   "cell_type": "code",
   "execution_count": 3,
   "metadata": {},
   "outputs": [],
   "source": [
    "import CoreFunctions as cf\n",
    "from skimage.restoration import denoise_wavelet"
   ]
  },
  {
   "cell_type": "markdown",
   "metadata": {},
   "source": [
    "## Choosing Platform\n",
    "Working is beinging conducted on several computers, and author needs to be able to run code on all without rewriting..  This segment of determines which computer is being used, and sets the directories accordingly."
   ]
  },
  {
   "cell_type": "code",
   "execution_count": 4,
   "metadata": {},
   "outputs": [],
   "source": [
    "HostName = platform.node()\n",
    "\n",
    "if HostName == \"Server\":\n",
    "    Computer = \"Desktop\"   \n",
    "elif HostName[-6:] == 'wm.edu':\n",
    "    Computer = \"SciClone\"\n",
    "elif HostName == \"SchoolLaptop\":\n",
    "    Computer = \"LinLap\"\n",
    "elif HostName == \"WTC-TAB-512\":\n",
    "    Computer = \"PortLap\"\n",
    "else:\n",
    "    Computer = \"WinLap\""
   ]
  },
  {
   "cell_type": "code",
   "execution_count": 5,
   "metadata": {},
   "outputs": [],
   "source": [
    "if Computer == \"SciClone\":\n",
    "    location = '/sciclone/home/dchendrickson01/image/'\n",
    "elif Computer == \"WinLap\":\n",
    "    location = 'C:\\\\Data\\\\'\n",
    "elif Computer == \"Desktop\":\n",
    "    location = \"E:\\\\Backups\\\\Dan\\\\CraneData\\\\\"\n",
    "elif Computer == \"LinLap\":\n",
    "    location = '/home/dan/Output/'\n",
    "elif Computer == 'PortLap':\n",
    "    location = 'C:\\\\users\\\\dhendrickson\\\\Desktop\\\\AccelData\\\\'"
   ]
  },
  {
   "cell_type": "code",
   "execution_count": 6,
   "metadata": {},
   "outputs": [],
   "source": [
    "if Computer ==  \"SciClone\":\n",
    "    rootfolder = '/sciclone/home/dchendrickson01/'\n",
    "    folder = '/sciclone/scr10/dchendrickson01/Recordings2/Recent/'\n",
    "elif Computer == \"Desktop\":\n",
    "    rootfolder = location\n",
    "    folder = rootfolder + \"Recordings2\\\\SubSet\\\\\"\n",
    "elif Computer ==\"WinLap\":\n",
    "    rootfolder = location\n",
    "    folder = rootfolder + \"Recordings2\\\\\"   \n",
    "elif Computer == \"LinLap\":\n",
    "    rootfolder = '/home/dan/Data/'\n",
    "    folder = rootfolder + 'Recordings2/'\n",
    "elif Computer =='PortLap':\n",
    "    rootfolder = location \n",
    "    folder = rootfolder + 'Recordings2\\\\'"
   ]
  },
  {
   "cell_type": "code",
   "execution_count": 7,
   "metadata": {},
   "outputs": [],
   "source": [
    "files = os.listdir(folder)\n",
    "#files=files[15:30]"
   ]
  },
  {
   "cell_type": "code",
   "execution_count": 8,
   "metadata": {},
   "outputs": [],
   "source": [
    "Saving = False\n",
    "location = folder\n",
    "Titles = True\n",
    "Ledgends = True\n",
    "\n",
    "f = 0\n"
   ]
  },
  {
   "cell_type": "code",
   "execution_count": 9,
   "metadata": {},
   "outputs": [],
   "source": [
    "def RollingStdDev(RawData, SmoothData, RollSize = 25):\n",
    "    StdDevs = []\n",
    "    for i in range(RollSize):\n",
    "        Diffs = RawData[0:i+1]-SmoothData[0:i+1]\n",
    "        Sqs = Diffs * Diffs\n",
    "        Var = sum(Sqs) / (i+1)\n",
    "        StdDev = np.sqrt(Var)\n",
    "        StdDevs.append(StdDev)\n",
    "    for i in range(len(RawData)-RollSize-1):\n",
    "        j = i + RollSize\n",
    "        Diffs = RawData[i:j]-SmoothData[i:j]\n",
    "        Sqs = Diffs * Diffs\n",
    "        Var = sum(Sqs) / RollSize\n",
    "        StdDev = np.sqrt(Var)\n",
    "        StdDevs.append(StdDev)  \n",
    "    \n",
    "    return StdDevs\n",
    "\n",
    "def RollingSum(Data, Length = 100):\n",
    "    RollSumStdDev = []\n",
    "    for i in range(Length):\n",
    "        RollSumStdDev.append(sum(Data[0:i+1]))\n",
    "    for i in range(len(Data) - Length):\n",
    "        RollSumStdDev.append(sum(Data[i:i+Length]))\n",
    "    return RollSumStdDev\n",
    "\n",
    "def SquelchPattern(DataSet, StallRange = 5000, SquelchLevel = 0.0086):\n",
    "    SquelchSignal = []\n",
    "\n",
    "    for i in range(StallRange):\n",
    "        SquelchSignal.append(1)\n",
    "\n",
    "    for i in range(len(DataSet)-2*StallRange):\n",
    "        if np.average(DataSet[i:i+2*StallRange]) < SquelchLevel:\n",
    "            SquelchSignal.append(0)\n",
    "        else:\n",
    "            SquelchSignal.append(1)\n",
    "\n",
    "    for i in range(StallRange+1):\n",
    "        SquelchSignal.append(1)    \n",
    "    \n",
    "    return SquelchSignal\n",
    "\n",
    "def getVelocity(Acceleration, Timestamps = 0.003, Squelch = [], corrected = 0):\n",
    "    velocity = np.zeros(len(Acceleration))\n",
    "    \n",
    "    if len(Timestamps) == 1:\n",
    "        dTime = Timestamps\n",
    "    elif len(Timestamps) == len(Acceleration):\n",
    "        totTime = 0\n",
    "        for i in range(len(Timestamps)-1):\n",
    "            if Timestamps[i]<Timestamps[i+1]:\n",
    "                totTime += (Timestamps[i+1] - Timestamps[i])\n",
    "            else:\n",
    "                totTime += (Timestamps[i+1] - Timestamps[i] + 10000)\n",
    "        dTime = totTime / len(Timestamps)\n",
    "    else:\n",
    "        print('error')\n",
    "\n",
    "    dTime = dTime / 10000.0\n",
    "\n",
    "    velocity[0] = Acceleration[0] * (dTime)\n",
    "\n",
    "    for i in range(len(Acceleration)-1):\n",
    "        j = i + 1\n",
    "        if corrected ==2:\n",
    "            if Squelch[j]==0:\n",
    "                velocity[j]=0\n",
    "            else:\n",
    "                velocity[j] = velocity[i] + Acceleration[j] * dTime                \n",
    "        else:\n",
    "            velocity[j] = velocity[i] + Acceleration[j] * dTime\n",
    "\n",
    "    if corrected == 1:\n",
    "        PointVairance = velocity[-1:] / len(velocity)\n",
    "        for i in range(len(velocity)):\n",
    "            velocity[i] -=  PointVairance * i\n",
    "    \n",
    "    velocity *= 9.81\n",
    "\n",
    "    return velocity\n",
    "\n"
   ]
  },
  {
   "cell_type": "code",
   "execution_count": 10,
   "metadata": {},
   "outputs": [],
   "source": [
    "#Smooth = cf.Smoothing(ODataSet[:,3],2) #,50)\n",
    "def DeviationVelocity(file):\n",
    "    if file[-3:] =='csv':\n",
    "        #try: \n",
    "        ODataSet = np.genfromtxt(open(folder+file,'r'), delimiter=',',skip_header=0,missing_values=0,invalid_raise=False)\n",
    "        SmoothX = denoise_wavelet(ODataSet[:,3], method='VisuShrink', mode='soft', wavelet_levels=3, wavelet='sym2', rescale_sigma='True')\n",
    "        SmoothY = denoise_wavelet(ODataSet[:,4], method='VisuShrink', mode='soft', wavelet_levels=3, wavelet='sym2', rescale_sigma='True')\n",
    "        SmoothZ = denoise_wavelet(ODataSet[:,5], method='VisuShrink', mode='soft', wavelet_levels=3, wavelet='sym2', rescale_sigma='True')\n",
    "        StdDevsX = RollingStdDev(ODataSet[:,3],SmoothX)\n",
    "        StdDevsY = RollingStdDev(ODataSet[:,4],SmoothY)\n",
    "        StdDevsZ = RollingStdDev(ODataSet[:,5],SmoothZ)\n",
    "        StdDevsX.append(0)\n",
    "        StdDevsY.append(0)\n",
    "        StdDevsZ.append(0)\n",
    "        StdDevsX = np.asarray(StdDevsX)\n",
    "        StdDevsY = np.asarray(StdDevsY)\n",
    "        StdDevsZ = np.asarray(StdDevsZ)\n",
    "        SmoothDevX = denoise_wavelet(StdDevsX, method='VisuShrink', mode='soft', wavelet_levels=3, wavelet='sym2', rescale_sigma='True')\n",
    "        SmoothDevY = denoise_wavelet(StdDevsY, method='VisuShrink', mode='soft', wavelet_levels=3, wavelet='sym2', rescale_sigma='True')\n",
    "        SmoothDevZ = denoise_wavelet(StdDevsZ, method='VisuShrink', mode='soft', wavelet_levels=3, wavelet='sym2', rescale_sigma='True')\n",
    "        RollSumStdDevX = RollingSum(SmoothDevX)\n",
    "        RollSumStdDevX = np.asarray(RollSumStdDevX)\n",
    "        RollSumStdDevY = RollingSum(SmoothDevY)\n",
    "        RollSumStdDevY = np.asarray(RollSumStdDevY)\n",
    "        RollSumStdDevZ = RollingSum(SmoothDevZ)\n",
    "        RollSumStdDevZ = np.asarray(RollSumStdDevZ)\n",
    "        SquelchSignal = SquelchPattern(SmoothDevX, 3000, 0.01)\n",
    "        Velocity = getVelocity(ODataSet[:,3], ODataSet[:,2],SquelchSignal, 2)\n",
    "        Velocity = np.asarray(Velocity)\n",
    "\n",
    "        #except:\n",
    "        #    Velocity = file\n",
    "        #    StdDevsX = 0\n",
    "        #    RollSumStdDevX = 0\n",
    "        #    StdDevsY = 0\n",
    "        #    RollSumStdDevY = 0\n",
    "        #    StdDevsZ = 0\n",
    "        #    RollSumStdDevZ = 0\n",
    "        #    print(file)\n",
    "        return [Velocity, [StdDevsX, StdDevsY, StdDevsZ], [RollSumStdDevX,RollSumStdDevY,RollSumStdDevZ]]\n",
    "    else:\n",
    "        pass"
   ]
  },
  {
   "cell_type": "markdown",
   "metadata": {},
   "source": [
    "import os\n",
    "import datetime as dt\n",
    "\n",
    "fi2 = []\n",
    "\n",
    "now = dt.datetime.now()\n",
    "ago = now-dt.timedelta(days=60) #last run 1/19\n",
    "\n",
    "for root, dirs,files in os.walk(folder):  \n",
    "    for fname in files:\n",
    "        path = os.path.join(root, fname)\n",
    "        st = os.stat(path)    \n",
    "        mtime = dt.datetime.fromtimestamp(st.st_ctime)\n",
    "        if mtime > ago:\n",
    "            fi2.append(fname)"
   ]
  },
  {
   "cell_type": "code",
   "execution_count": 11,
   "metadata": {},
   "outputs": [],
   "source": [
    "LoopFiles = 12\n",
    "loops = int(len(files) / LoopFiles) +1"
   ]
  },
  {
   "cell_type": "code",
   "execution_count": 12,
   "metadata": {},
   "outputs": [
    {
     "data": {
      "text/plain": [
       "'/sciclone/home/dchendrickson01/'"
      ]
     },
     "execution_count": 12,
     "metadata": {},
     "output_type": "execute_result"
    }
   ],
   "source": [
    "rootfolder"
   ]
  },
  {
   "cell_type": "code",
   "execution_count": 13,
   "metadata": {},
   "outputs": [],
   "source": [
    "NeedHeader = True\n",
    "if os.path.exists(rootfolder + 'StdDevBySpeedSummaryStatistics6.csv'):\n",
    "    NeedHeader=False\n",
    "\n",
    "WriteFile = open(rootfolder + 'StdDevBySpeedSummaryStatistics6.csv','a')\n",
    "if NeedHeader:\n",
    "    WriteFile.write('Year, Month, Day, Sensor, am, np.average(MovingDevX), np.average(StopedDevX), np.average(MovingDevY), np.average(StopedDevY), np.average(MovingDevY), np.average(StopedDevY), DevX0, DevX1, DevX2, DevX3, DevX4, DevX5p,DevY0, DevY1, DevY2, DevY3, DevY4, DevY5p,DevZ0, DevZ1, DevZ2, DevZ3, DevZ4, DevZ5p \\n')\n",
    "\n",
    "#k = 22\n",
    "#LoopFiles = 12"
   ]
  },
  {
   "cell_type": "code",
   "execution_count": 14,
   "metadata": {
    "scrolled": true
   },
   "outputs": [],
   "source": [
    "WriteFile\n",
    "\n",
    "st = ti()\n",
    "\n",
    "#loops = 30\n",
    "bump = 0\n",
    "#LoopFiles = 1"
   ]
  },
  {
   "cell_type": "code",
   "execution_count": 15,
   "metadata": {},
   "outputs": [
    {
     "data": {
      "text/plain": [
       "7"
      ]
     },
     "execution_count": 15,
     "metadata": {},
     "output_type": "execute_result"
    }
   ],
   "source": [
    "loops"
   ]
  },
  {
   "cell_type": "code",
   "execution_count": null,
   "metadata": {
    "scrolled": false
   },
   "outputs": [
    {
     "name": "stderr",
     "output_type": "stream",
     "text": [
      "/sciclone/home20/dchendrickson01/.conda/envs/simple/lib/python3.10/site-packages/numpy/lib/function_base.py:518: RuntimeWarning: Mean of empty slice.\n",
      "  avg = a.mean(axis, **keepdims_kw)\n",
      "/sciclone/home20/dchendrickson01/.conda/envs/simple/lib/python3.10/site-packages/numpy/core/_methods.py:190: RuntimeWarning: invalid value encountered in double_scalars\n",
      "  ret = ret.dtype.type(ret / rcount)\n"
     ]
    },
    {
     "name": "stdout",
     "output_type": "stream",
     "text": [
      "0 12 31.105741127332053\n",
      "1 12 57.960186115900676\n"
     ]
    },
    {
     "name": "stderr",
     "output_type": "stream",
     "text": [
      "/local/scr/dchendrickson01/TMPDIR/ipykernel_168274/2857278787.py:5: ConversionWarning: Some errors were detected !\n",
      "    Line #22828535 (got 2 columns instead of 7)\n"
     ]
    }
   ],
   "source": [
    "for j in range(loops):\n",
    "    k = j\n",
    "    if k == loops -1:\n",
    "        tfiles = files[k*LoopFiles:]\n",
    "    else:\n",
    "        tfiles = files[k*LoopFiles:(k+1)*LoopFiles]\n",
    "    Results = Parallel(n_jobs=LoopFiles)(delayed(DeviationVelocity)(file) for file in tfiles)\n",
    "    Velocities = []\n",
    "    StdDevsX = []\n",
    "    SumStdDevsX = []\n",
    "    StdDevsY = []\n",
    "    SumStdDevsY = []\n",
    "    StdDevsZ = []\n",
    "    SumStdDevsZ = []\n",
    "    NewFiles=[]\n",
    "\n",
    "    for i in range(len(Results)):\n",
    "        if Results[i] != None:\n",
    "            Velocities.append(Results[i][0])\n",
    "            StdDevsX.append(Results[i][1][0])\n",
    "            SumStdDevsX.append(Results[i][2][0])\n",
    "            StdDevsY.append(Results[i][1][1])\n",
    "            SumStdDevsY.append(Results[i][2][1])\n",
    "            StdDevsZ.append(Results[i][1][2])\n",
    "            SumStdDevsZ.append(Results[i][2][2])\n",
    "            NewFiles.append(tfiles[i])\n",
    "    MaxDevX=[]\n",
    "    MaxRollX=[]\n",
    "    MaxDevY=[]\n",
    "    MaxRollY=[]\n",
    "    MaxDevZ=[]\n",
    "    MaxRollZ=[]\n",
    "    for i in range(len(StdDevsZ)):\n",
    "        MaxDevX.append(np.max(StdDevsX[i]))\n",
    "        MaxRollX.append(np.max(SumStdDevsX[i]))\n",
    "        MaxDevY.append(np.max(StdDevsY[i]))\n",
    "        MaxRollY.append(np.max(SumStdDevsY[i]))\n",
    "        MaxDevZ.append(np.max(StdDevsZ[i]))\n",
    "        MaxRollZ.append(np.max(SumStdDevsZ[i]))\n",
    "    \n",
    "    Results = []\n",
    "    for i in range(len(MaxDevZ)):\n",
    "        if MaxDevX[i] != 0:\n",
    "            UnitSpeeds = np.abs(Velocities[i]).astype('int')\n",
    "            MovingDevX = StdDevsX[i][np.abs(Velocities[i]) > 1]\n",
    "            StopedDevX = StdDevsX[i][np.abs(Velocities[i]) < 1]\n",
    "            MovingDevY = StdDevsY[i][np.abs(Velocities[i]) > 1]\n",
    "            StopedDevY = StdDevsY[i][np.abs(Velocities[i]) < 1]\n",
    "            MovingDevZ = StdDevsZ[i][np.abs(Velocities[i]) > 1]\n",
    "            StopedDevZ = StdDevsZ[i][np.abs(Velocities[i]) < 1]\n",
    "            DevX0 = np.average(StdDevsX[i][UnitSpeeds < 1])\n",
    "            DevX1 = np.average(StdDevsX[i][(UnitSpeeds < 2) & (UnitSpeeds >= 1)])\n",
    "            DevX2 = np.average(StdDevsX[i][(UnitSpeeds < 3) & (UnitSpeeds >= 2)])\n",
    "            DevX3 = np.average(StdDevsX[i][(UnitSpeeds < 4) & (UnitSpeeds >= 3)])\n",
    "            DevX4 = np.average(StdDevsX[i][(UnitSpeeds < 5) & (UnitSpeeds >= 4)])\n",
    "            DevX5p = np.average(StdDevsX[i][UnitSpeeds >= 3])\n",
    "            DevY0 = np.average(StdDevsY[i][UnitSpeeds < 1])\n",
    "            DevY1 = np.average(StdDevsY[i][(UnitSpeeds < 2) & (UnitSpeeds >= 1)])\n",
    "            DevY2 = np.average(StdDevsY[i][(UnitSpeeds < 3) & (UnitSpeeds >= 2)])\n",
    "            DevY3 = np.average(StdDevsY[i][(UnitSpeeds < 4) & (UnitSpeeds >= 3)])\n",
    "            DevY4 = np.average(StdDevsY[i][(UnitSpeeds < 5) & (UnitSpeeds >= 4)])\n",
    "            DevY5p = np.average(StdDevsY[i][UnitSpeeds >= 3])\n",
    "            DevZ0 = np.average(StdDevsZ[i][UnitSpeeds < 1])\n",
    "            DevZ1 = np.average(StdDevsZ[i][(UnitSpeeds < 2) & (UnitSpeeds >= 1)])\n",
    "            DevZ2 = np.average(StdDevsZ[i][(UnitSpeeds < 3) & (UnitSpeeds >= 2)])\n",
    "            DevZ3 = np.average(StdDevsZ[i][(UnitSpeeds < 4) & (UnitSpeeds >= 3)])\n",
    "            DevZ4 = np.average(StdDevsZ[i][(UnitSpeeds < 5) & (UnitSpeeds >= 4)])\n",
    "            DevZ5p = np.average(StdDevsZ[i][UnitSpeeds >= 3])\n",
    "\n",
    "            if NewFiles[i][17:18] == 'a':\n",
    "                am = 1\n",
    "            else:\n",
    "                am = 0\n",
    "\n",
    "            Results.append([int(NewFiles[i][:2]), int(NewFiles[i][2:4]), int(NewFiles[i][4:6]), int(NewFiles[i][16:17]), am, np.average(MovingDevX), np.average(StopedDevX), \n",
    "                            np.average(MovingDevY), np.average(StopedDevY), np.average(MovingDevY), \n",
    "                            np.average(StopedDevY), DevX0, DevX1, DevX2, DevX3, DevX4, DevX5p,\n",
    "                            DevY0, DevY1, DevY2, DevY3, DevY4, DevY5p,\n",
    "                            DevZ0, DevZ1, DevZ2, DevZ3, DevZ4, DevZ5p])\n",
    "\n",
    "    for i in range(len(Results)):\n",
    "        line = ''\n",
    "        for j in range(len(Results[i])):\n",
    "            line += str(Results[i][j])+', ' \n",
    "        line += '\\n'\n",
    "        WriteFile.write(line)\n",
    "    print(k, len(Results), (ti()-st)/60.0)\n",
    "\n",
    "    WriteFile.close()\n",
    "    WriteFile = open(rootfolder + 'StdDevBySpeedSummaryStatistics6.csv','a')\n",
    "    \n",
    "\n",
    "WriteFile.close()"
   ]
  },
  {
   "cell_type": "code",
   "execution_count": null,
   "metadata": {},
   "outputs": [],
   "source": [
    "f=4"
   ]
  },
  {
   "cell_type": "code",
   "execution_count": null,
   "metadata": {},
   "outputs": [],
   "source": [
    "fig, ax1 = plt.subplots(figsize=(6.67,3.75),dpi=800,linewidth=0.5) \n",
    "\n",
    "PlotLength = min(len(Velocities[f]), len(StdDevsY[f]))\n",
    "v = Velocities[f][:PlotLength]\n",
    "sd = StdDevsY[f][:PlotLength]\n",
    "\n",
    "ax1.set_xlabel('Time') \n",
    "ax1.set_ylabel('Velocity', color = 'red') \n",
    "ax1.plot(range(PlotLength), v, color = 'red', linestyle = 'dashed', label='Velocity' )\n",
    "ax1.tick_params(axis ='y', labelcolor = 'red') \n",
    "#plt.ylim(-6,6)\n",
    "legend_1 = ax1.legend(loc=2)\n",
    "legend_1.remove()\n",
    "\n",
    "# Adding Twin Axes\n",
    "\n",
    "ax2 = ax1.twinx() \n",
    "\n",
    "ax2.set_ylabel('Acceleration', color = 'blue') \n",
    "ax2.plot(range(PlotLength), sd, color = 'blue', label='Std Dev of Acceleration') \n",
    "ax2.tick_params(axis ='y', labelcolor = 'blue') \n",
    "#plt.ylim(0.0,0.6)\n",
    "ax2.legend(loc=1)\n",
    "ax2.add_artist(legend_1)\n",
    "# Show plot\n",
    "\n",
    "plt.show()"
   ]
  },
  {
   "cell_type": "code",
   "execution_count": null,
   "metadata": {},
   "outputs": [],
   "source": [
    "start = 3800000\n",
    "length = 200000\n",
    "end = start+length"
   ]
  },
  {
   "cell_type": "code",
   "execution_count": null,
   "metadata": {},
   "outputs": [],
   "source": [
    "fig, ax1 = plt.subplots(figsize=(6.67,3.75),dpi=800,linewidth=0.5) \n",
    "\n",
    "ax1.set_xlabel('Time') \n",
    "ax1.set_ylabel('m/s', color = 'red') \n",
    "#ax1.plot(range(length), Velocity[start:end], color = 'red', linestyle = 'dashed', label='Velocity' )\n",
    "ax1.plot(range(length), Velocities[f][start:end], color = 'red', linestyle = 'dashed', label='Velocity' )\n",
    "ax1.tick_params(axis ='y', labelcolor = 'red') \n",
    "#plt.ylim(-6,6)\n",
    "legend_1 = ax1.legend(loc=2)\n",
    "legend_1.remove()\n",
    "\n",
    "# Adding Twin Axes\n",
    "\n",
    "ax2 = ax1.twinx() \n",
    "\n",
    "ax2.set_ylabel('Acceleration', color = 'blue') \n",
    "ax2.plot(range(length), StdDevsY[f][start:end], color = 'blue', label='g of Acceleration') \n",
    "ax2.tick_params(axis ='y', labelcolor = 'blue') \n",
    "#plt.ylim(0.0,0.6)\n",
    "ax2.legend(loc=1)\n",
    "ax2.add_artist(legend_1)\n",
    "# Show plot\n",
    "\n",
    "plt.show()"
   ]
  },
  {
   "cell_type": "code",
   "execution_count": null,
   "metadata": {},
   "outputs": [],
   "source": [
    "\n",
    "    "
   ]
  },
  {
   "cell_type": "code",
   "execution_count": null,
   "metadata": {},
   "outputs": [],
   "source": [
    "for i in range(len(MaxDevZ)):\n",
    "    print(NewFiles[i],MaxDevX[i], MaxRollX[i],MaxDevY[i], MaxRollY[i],MaxDevZ[i], MaxRollZ[i])"
   ]
  },
  {
   "cell_type": "code",
   "execution_count": null,
   "metadata": {},
   "outputs": [],
   "source": [
    "Results = []\n",
    "for i in range(len(MaxDevZ)):\n",
    "    if MaxDevX[i] != 0:\n",
    "        UnitSpeeds = np.abs(Velocities[i]).astype('int')\n",
    "        MovingDevX = StdDevsX[i][np.abs(Velocities[i]) > 1]\n",
    "        StopedDevX = StdDevsX[i][np.abs(Velocities[i]) < 1]\n",
    "        MovingDevY = StdDevsY[i][np.abs(Velocities[i]) > 1]\n",
    "        StopedDevY = StdDevsY[i][np.abs(Velocities[i]) < 1]\n",
    "        MovingDevZ = StdDevsZ[i][np.abs(Velocities[i]) > 1]\n",
    "        StopedDevZ = StdDevsZ[i][np.abs(Velocities[i]) < 1]\n",
    "        DevX0 = np.average(StdDevsX[i][UnitSpeeds < 1])\n",
    "        DevX1 = np.average(StdDevsX[i][(UnitSpeeds < 2) & (UnitSpeeds >= 1)])\n",
    "        DevX2 = np.average(StdDevsX[i][(UnitSpeeds < 3) & (UnitSpeeds >= 2)])\n",
    "        DevX3 = np.average(StdDevsX[i][(UnitSpeeds < 4) & (UnitSpeeds >= 3)])\n",
    "        DevX4 = np.average(StdDevsX[i][(UnitSpeeds < 5) & (UnitSpeeds >= 4)])\n",
    "        DevX5p = np.average(StdDevsX[i][UnitSpeeds >= 1])\n",
    "        DevY0 = np.average(StdDevsY[i][UnitSpeeds < 1])\n",
    "        DevY1 = np.average(StdDevsY[i][(UnitSpeeds < 2) & (UnitSpeeds >= 1)])\n",
    "        DevY2 = np.average(StdDevsY[i][(UnitSpeeds < 3) & (UnitSpeeds >= 2)])\n",
    "        DevY3 = np.average(StdDevsY[i][(UnitSpeeds < 4) & (UnitSpeeds >= 3)])\n",
    "        DevY4 = np.average(StdDevsY[i][(UnitSpeeds < 5) & (UnitSpeeds >= 4)])\n",
    "        DevY5p = np.average(StdDevsY[i][UnitSpeeds >= 5])\n",
    "        DevZ0 = np.average(StdDevsZ[i][UnitSpeeds < 1])\n",
    "        DevZ1 = np.average(StdDevsZ[i][(UnitSpeeds < 2) & (UnitSpeeds >= 1)])\n",
    "        DevZ2 = np.average(StdDevsZ[i][(UnitSpeeds < 3) & (UnitSpeeds >= 2)])\n",
    "        DevZ3 = np.average(StdDevsZ[i][(UnitSpeeds < 4) & (UnitSpeeds >= 3)])\n",
    "        DevZ4 = np.average(StdDevsZ[i][(UnitSpeeds < 5) & (UnitSpeeds >= 4)])\n",
    "        DevZ5p = np.average(StdDevsZ[i][UnitSpeeds >= 5])\n",
    "        \n",
    "        if NewFiles[i][16:17] == 'a':\n",
    "            am = 1\n",
    "        else:\n",
    "            am = 0\n",
    "        \n",
    "        Results.append([int(NewFiles[i][:2]), int(NewFiles[i][2:4]), int(NewFiles[i][4:6]), int(NewFiles[i][16:17]), am, np.average(MovingDevX), np.average(StopedDevX), \n",
    "                        np.average(MovingDevY), np.average(StopedDevY), np.average(MovingDevY), \n",
    "                        np.average(StopedDevY), DevX0, DevX1, DevX2, DevX3, DevX4, DevX5p,\n",
    "                        DevY0, DevY1, DevY2, DevY3, DevY4, DevY5p,\n",
    "                        DevZ0, DevZ1, DevZ2, DevZ3, DevZ4, DevZ5p])\n",
    "        \n",
    "        print(NewFiles[i], np.average(MovingDevX)/np.average(StopedDevX), \n",
    "          np.average(MovingDevY)/np.average(StopedDevY), np.average(MovingDevY)/np.average(StopedDevY))"
   ]
  },
  {
   "cell_type": "code",
   "execution_count": null,
   "metadata": {},
   "outputs": [],
   "source": [
    "7+3\n"
   ]
  }
 ],
 "metadata": {
  "kernelspec": {
   "display_name": "Simple",
   "language": "python",
   "name": "simple"
  },
  "language_info": {
   "codemirror_mode": {
    "name": "ipython",
    "version": 3
   },
   "file_extension": ".py",
   "mimetype": "text/x-python",
   "name": "python",
   "nbconvert_exporter": "python",
   "pygments_lexer": "ipython3",
   "version": "3.10.9"
  },
  "vscode": {
   "interpreter": {
    "hash": "11c16a051206f53cf7fe024f12cacb318023d916d0a5509b7bf3391ee4b4163a"
   }
  }
 },
 "nbformat": 4,
 "nbformat_minor": 4
}
