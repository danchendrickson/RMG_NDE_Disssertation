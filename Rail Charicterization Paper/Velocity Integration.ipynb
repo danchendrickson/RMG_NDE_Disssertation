{
 "cells": [
  {
   "cell_type": "markdown",
   "metadata": {},
   "source": [
    "# Look at accelerometer data \n",
    "\n",
    "Finding Zero velocity times by rail axis acceleration noise levels, making summary statistics for the noise levels across the whole day files.  Spot check graphs to see what works"
   ]
  },
  {
   "cell_type": "code",
   "execution_count": 1,
   "metadata": {},
   "outputs": [
    {
     "name": "stderr",
     "output_type": "stream",
     "text": [
      "/usr/local/anaconda3-2021.11/lib/python3.9/site-packages/scipy/__init__.py:146: UserWarning: A NumPy version >=1.16.5 and <1.23.0 is required for this version of SciPy (detected version 1.26.4\n",
      "  warnings.warn(f\"A NumPy version >={np_minversion} and <{np_maxversion}\"\n"
     ]
    }
   ],
   "source": [
    "#Standard Header used on the projects\n",
    "\n",
    "#first the major packages used for math and graphing\n",
    "import numpy as np\n",
    "import matplotlib.pyplot as plt\n",
    "from cycler import cycler\n",
    "import scipy.special as sp\n",
    "\n",
    "#Custome graph format style sheet\n",
    "#plt.style.use('Prospectus.mplstyle')\n",
    "\n",
    "#If being run by a seperate file, use the seperate file's graph format and saving paramaeters\n",
    "#otherwise set what is needed\n",
    "if not 'Saving' in locals():\n",
    "    Saving = False\n",
    "if not 'Titles' in locals():\n",
    "    Titles = True\n",
    "if not 'Ledgends' in locals():\n",
    "    Ledgends = True\n",
    "if not 'FFormat' in locals():\n",
    "    FFormat = '.png'\n",
    "\n",
    "#Standard cycle to make black and white images and dashed and line styles\n",
    "default_cycler = (cycler('color', ['0.00', '0.40', '0.60', '0.70']) + cycler(linestyle=['-', '--', ':', '-.']))\n",
    "plt.rc('axes', prop_cycle=default_cycler)\n",
    "my_cmap = plt.get_cmap('gray')"
   ]
  },
  {
   "cell_type": "code",
   "execution_count": 2,
   "metadata": {},
   "outputs": [],
   "source": [
    "#Extra Headers:\n",
    "import os as os\n",
    "import pywt as py\n",
    "import statistics as st\n",
    "import os as os\n",
    "import random\n",
    "import multiprocessing\n",
    "from joblib import Parallel, delayed\n",
    "import platform\n",
    "\n",
    "from time import time as ti"
   ]
  },
  {
   "cell_type": "code",
   "execution_count": 3,
   "metadata": {},
   "outputs": [
    {
     "ename": "ModuleNotFoundError",
     "evalue": "No module named 'cv2'",
     "output_type": "error",
     "traceback": [
      "\u001b[0;31m---------------------------------------------------------------------------\u001b[0m",
      "\u001b[0;31mModuleNotFoundError\u001b[0m                       Traceback (most recent call last)",
      "\u001b[0;32m/local/scr/dchendrickson01/TMPDIR/ipykernel_50712/2064108213.py\u001b[0m in \u001b[0;36m<module>\u001b[0;34m\u001b[0m\n\u001b[0;32m----> 1\u001b[0;31m \u001b[0;32mimport\u001b[0m \u001b[0mCoreFunctions\u001b[0m \u001b[0;32mas\u001b[0m \u001b[0mcf\u001b[0m\u001b[0;34m\u001b[0m\u001b[0;34m\u001b[0m\u001b[0m\n\u001b[0m\u001b[1;32m      2\u001b[0m \u001b[0;32mfrom\u001b[0m \u001b[0mskimage\u001b[0m\u001b[0;34m.\u001b[0m\u001b[0mrestoration\u001b[0m \u001b[0;32mimport\u001b[0m \u001b[0mdenoise_wavelet\u001b[0m\u001b[0;34m\u001b[0m\u001b[0;34m\u001b[0m\u001b[0m\n",
      "\u001b[0;32m~/Code/RMG_NDE_Disssertation/Rail Charicterization Paper/CoreFunctions.py\u001b[0m in \u001b[0;36m<module>\u001b[0;34m\u001b[0m\n\u001b[1;32m     18\u001b[0m \u001b[0;34m\u001b[0m\u001b[0m\n\u001b[1;32m     19\u001b[0m \u001b[0;32mimport\u001b[0m \u001b[0mos\u001b[0m\u001b[0;34m\u001b[0m\u001b[0;34m\u001b[0m\u001b[0m\n\u001b[0;32m---> 20\u001b[0;31m \u001b[0;32mimport\u001b[0m \u001b[0mcv2\u001b[0m\u001b[0;34m\u001b[0m\u001b[0;34m\u001b[0m\u001b[0m\n\u001b[0m\u001b[1;32m     21\u001b[0m \u001b[0;34m\u001b[0m\u001b[0m\n\u001b[1;32m     22\u001b[0m \u001b[0;32mimport\u001b[0m \u001b[0mmultiprocessing\u001b[0m\u001b[0;34m\u001b[0m\u001b[0;34m\u001b[0m\u001b[0m\n",
      "\u001b[0;31mModuleNotFoundError\u001b[0m: No module named 'cv2'"
     ]
    }
   ],
   "source": [
    "import CoreFunctions as cf\n",
    "from skimage.restoration import denoise_wavelet"
   ]
  },
  {
   "cell_type": "markdown",
   "metadata": {},
   "source": [
    "## Choosing Platform\n",
    "Working is beinging conducted on several computers, and author needs to be able to run code on all without rewriting..  This segment of determines which computer is being used, and sets the directories accordingly."
   ]
  },
  {
   "cell_type": "code",
   "execution_count": null,
   "metadata": {},
   "outputs": [],
   "source": [
    "HostName = platform.node()\n",
    "\n",
    "if HostName == \"Server\":\n",
    "    Computer = \"Desktop\"   \n",
    "elif HostName[-6:] == 'wm.edu':\n",
    "    Computer = \"SciClone\"\n",
    "elif HostName == \"SchoolLaptop\":\n",
    "    Computer = \"LinLap\"\n",
    "elif HostName == \"WTC-TAB-512\":\n",
    "    Computer = \"PortLap\"\n",
    "else:\n",
    "    Computer = \"WinLap\""
   ]
  },
  {
   "cell_type": "code",
   "execution_count": null,
   "metadata": {},
   "outputs": [],
   "source": [
    "if Computer == \"SciClone\":\n",
    "    location = '/sciclone/home20/dchendrickson01/image/'\n",
    "elif Computer == \"WinLap\":\n",
    "    location = 'C:\\\\Data\\\\'\n",
    "elif Computer == \"Desktop\":\n",
    "    location = \"E:\\\\Backups\\\\Dan\\\\CraneData\\\\\"\n",
    "elif Computer == \"LinLap\":\n",
    "    location = '/home/dan/Output/'\n",
    "elif Computer == 'PortLap':\n",
    "    location = 'C:\\\\users\\\\dhendrickson\\\\Desktop\\\\AccelData\\\\'"
   ]
  },
  {
   "cell_type": "code",
   "execution_count": null,
   "metadata": {},
   "outputs": [],
   "source": [
    "if Computer ==  \"SciClone\":\n",
    "    rootfolder = '/sciclone/home20/dchendrickson01/'\n",
    "    folder = '/sciclone/scr10/dchendrickson01/Recordings2/'\n",
    "elif Computer == \"Desktop\":\n",
    "    rootfolder = location\n",
    "    folder = rootfolder + \"Recordings2\\\\\"\n",
    "elif Computer ==\"WinLap\":\n",
    "    rootfolder = location\n",
    "    folder = rootfolder + \"Recordings2\\\\\"   \n",
    "elif Computer == \"LinLap\":\n",
    "    rootfolder = '/home/dan/Data/'\n",
    "    folder = rootfolder + 'Recordings2/'\n",
    "elif Computer =='PortLap':\n",
    "    rootfolder = location \n",
    "    folder = rootfolder + 'Recordings2\\\\'"
   ]
  },
  {
   "cell_type": "code",
   "execution_count": null,
   "metadata": {},
   "outputs": [],
   "source": [
    "files = os.listdir(folder)\n"
   ]
  },
  {
   "cell_type": "code",
   "execution_count": null,
   "metadata": {},
   "outputs": [],
   "source": [
    "len(files)"
   ]
  },
  {
   "cell_type": "code",
   "execution_count": null,
   "metadata": {},
   "outputs": [],
   "source": [
    "Saving = False\n",
    "#location = folder\n",
    "Titles = True\n",
    "Ledgends = True\n",
    "\n",
    "f = 0\n"
   ]
  },
  {
   "cell_type": "code",
   "execution_count": null,
   "metadata": {},
   "outputs": [],
   "source": [
    "def RollingStdDev(RawData, SmoothData, RollSize = 25):\n",
    "    StdDevs = []\n",
    "    for i in range(RollSize):\n",
    "        Diffs = RawData[0:i+1]-SmoothData[0:i+1]\n",
    "        Sqs = Diffs * Diffs\n",
    "        Var = sum(Sqs) / (i+1)\n",
    "        StdDev = np.sqrt(Var)\n",
    "        StdDevs.append(StdDev)\n",
    "    for i in range(len(RawData)-RollSize-1):\n",
    "        j = i + RollSize\n",
    "        Diffs = RawData[i:j]-SmoothData[i:j]\n",
    "        Sqs = Diffs * Diffs\n",
    "        Var = sum(Sqs) / RollSize\n",
    "        StdDev = np.sqrt(Var)\n",
    "        StdDevs.append(StdDev)  \n",
    "    \n",
    "    return StdDevs\n",
    "\n",
    "def RollingSum(Data, Length = 100):\n",
    "    RollSumStdDev = []\n",
    "    for i in range(Length):\n",
    "        RollSumStdDev.append(sum(Data[0:i+1]))\n",
    "    for i in range(len(Data) - Length):\n",
    "        RollSumStdDev.append(sum(Data[i:i+Length]))\n",
    "    return RollSumStdDev\n",
    "\n",
    "def SquelchPattern(DataSet, StallRange = 5000, SquelchLevel = 0.0086):\n",
    "    SquelchSignal = []\n",
    "\n",
    "    for i in range(StallRange):\n",
    "        SquelchSignal.append(1)\n",
    "\n",
    "    for i in range(len(DataSet)-2*StallRange):\n",
    "        if np.average(DataSet[i:i+2*StallRange]) < SquelchLevel:\n",
    "            SquelchSignal.append(0)\n",
    "        else:\n",
    "            SquelchSignal.append(1)\n",
    "\n",
    "    for i in range(StallRange+1):\n",
    "        SquelchSignal.append(1)    \n",
    "    \n",
    "    return SquelchSignal\n",
    "\n",
    "def getVelocity(Acceleration, Timestamps = 0.003, Squelch = [], corrected = 0):\n",
    "    velocity = np.zeros(len(Acceleration))\n",
    "    \n",
    "    if len(Timestamps) == 1:\n",
    "        dTime = Timestamps\n",
    "    elif len(Timestamps) == len(Acceleration):\n",
    "        totTime = 0\n",
    "        for i in range(len(Timestamps)-1):\n",
    "            if Timestamps[i]<Timestamps[i+1]:\n",
    "                totTime += (Timestamps[i+1] - Timestamps[i])\n",
    "            else:\n",
    "                totTime += (Timestamps[i+1] - Timestamps[i] + 10000)\n",
    "        dTime = totTime / len(Timestamps)\n",
    "    else:\n",
    "        print('error')\n",
    "\n",
    "    dTime = dTime / 10000.0\n",
    "\n",
    "    velocity[0] = Acceleration[0] * (dTime)\n",
    "\n",
    "    for i in range(len(Acceleration)-1):\n",
    "        j = i + 1\n",
    "        if corrected ==2:\n",
    "            if Squelch[j]==0:\n",
    "                velocity[j]=0\n",
    "            else:\n",
    "                velocity[j] = velocity[i] + Acceleration[j] * dTime                \n",
    "        else:\n",
    "            velocity[j] = velocity[i] + Acceleration[j] * dTime\n",
    "\n",
    "    if corrected == 1:\n",
    "        PointVairance = velocity[-1:] / len(velocity)\n",
    "        for i in range(len(velocity)):\n",
    "            velocity[i] -=  PointVairance * i\n",
    "    \n",
    "    velocity *= 9.81\n",
    "\n",
    "    return velocity\n",
    "\n"
   ]
  },
  {
   "cell_type": "code",
   "execution_count": null,
   "metadata": {},
   "outputs": [],
   "source": [
    "i = 0\n",
    "#for file in files:\n",
    "def doGreatThings(file):\n",
    "    if file[-4:] == '.csv':\n",
    "        try:\n",
    "            ODataSet = np.genfromtxt(open(folder+file,'r'), delimiter=',',skip_header=0,missing_values=0)\n",
    "            #Smooth = denoise_wavelet(ODataSet[:,3], method='VisuShrink', mode='soft', wavelet_levels=3, wavelet='sym2', rescale_sigma='True')\n",
    "            #StdDevs = RollingStdDev(ODataSet[:,3],Smooth)\n",
    "            #StdDevs.append(0)\n",
    "            #StdDevs = np.asarray(StdDevs)\n",
    "            #SmoothDev = denoise_wavelet(StdDevs, method='VisuShrink', mode='soft', wavelet_levels=3, wavelet='sym2', rescale_sigma='True')\n",
    "            #SquelchSignal = SquelchPattern(SmoothDev, 3000, 0.01)\n",
    "            Velocity = getVelocity(ODataSet[:,3], ODataSet[:,2])\n",
    "\n",
    "            fig=plt.figure(figsize=(6.67,3.75),dpi=900,linewidth=0.25)\n",
    "            plt.plot(Velocity)\n",
    "            plt.title(\"File number \" + str(i)+ \" name \" + file[-4:])\n",
    "            plt.savefig(location + \"runs/\" + file[:-4]+\".png\")\n",
    "            plt.show()\n",
    "        except:\n",
    "            pass\n",
    "    return 1\n",
    "                    \n",
    "whatEvs = Parallel(n_jobs=7)(delayed(doGreatThings)(file) for file in files[:3])"
   ]
  },
  {
   "cell_type": "code",
   "execution_count": null,
   "metadata": {},
   "outputs": [],
   "source": [
    "location + \"runs/\" + files[5][-4:]+\".png\""
   ]
  },
  {
   "cell_type": "code",
   "execution_count": null,
   "metadata": {},
   "outputs": [],
   "source": [
    "def getVelocity0(Acceleration, Timestamps = 0.003, Squelch = [], corrected = 0):\n",
    "    velocity = np.zeros(len(Acceleration))\n",
    "    \n",
    "    if len(Timestamps) == len(Acceleration):\n",
    "        pass\n",
    "    else:\n",
    "        print('error')\n",
    "\n",
    "    #dTime = dTime / 10000.0\n",
    "\n",
    "    for i in range(len(Acceleration)-1):\n",
    "        j = i + 1\n",
    "        dTime = Timestamps[j]-Timestamps[i]\n",
    "        if dTime < 0: dTime -= 10000\n",
    "        dTime /= 10000\n",
    "        velocity[j] = velocity[i] + Acceleration[j] * dTime\n",
    "    \n",
    "    velocity *= 9.81\n",
    "\n",
    "    return velocity\n"
   ]
  },
  {
   "cell_type": "code",
   "execution_count": null,
   "metadata": {},
   "outputs": [],
   "source": [
    "i = 0\n",
    "for file in files[:3]:\n",
    "    \n",
    "    try:\n",
    "        ODataSet = np.genfromtxt(open(folder+files[i],'r'), delimiter=',',skip_header=0,missing_values=0)\n",
    "\n",
    "        Velocity = getVelocity0(ODataSet[:,3], ODataSet[:,2])\n",
    "        \n",
    "        fig=plt.figure(figsize=(6.67,3.75),dpi=800,linewidth=0.25)\n",
    "        plt.plot(Velocity)\n",
    "        plt.title(\"File number \" + str(i))\n",
    "        plt.show()\n",
    "    except:\n",
    "        pass\n",
    "\n",
    "    i+=1"
   ]
  },
  {
   "cell_type": "code",
   "execution_count": null,
   "metadata": {},
   "outputs": [],
   "source": []
  },
  {
   "cell_type": "code",
   "execution_count": null,
   "metadata": {},
   "outputs": [],
   "source": [
    "def getVelocity1(Acceleration, Timestamps = 0.003, Squelch = [], corrected = 0):\n",
    "    velocity = np.zeros(len(Acceleration))\n",
    "    \n",
    "    if len(Timestamps) == len(Acceleration):\n",
    "        pass\n",
    "    else:\n",
    "        print('error')\n",
    "\n",
    "    #dTime = dTime / 10000.0\n",
    "\n",
    "    for i in range(len(Acceleration)-1):\n",
    "        j = i + 1\n",
    "        dTime = Timestamps[j]-Timestamps[i]\n",
    "        if dTime < 0: dTime -= 10000\n",
    "        dTime /= 10000\n",
    "        velocity[j] = velocity[i] + Acceleration[j] * dTime\n",
    "    \n",
    "    velocity *= 9.81\n",
    "    \n",
    "    PointVairance = velocity[-1:] / len(velocity)\n",
    "    for i in range(len(velocity)):\n",
    "        velocity[i] -=  PointVairance * i\n",
    "    return velocity        "
   ]
  },
  {
   "cell_type": "code",
   "execution_count": null,
   "metadata": {},
   "outputs": [],
   "source": [
    "i=0\n",
    "for file in files[:3]:\n",
    "    try:\n",
    "        ODataSet = np.genfromtxt(open(folder+files[i],'r'), delimiter=',',skip_header=0,missing_values=0)\n",
    "\n",
    "        Velocity = getVelocity1(ODataSet[:,3], ODataSet[:,2])\n",
    "        \n",
    "        fig=plt.figure(figsize=(6.67,3.75),dpi=800,linewidth=0.25)\n",
    "        plt.plot(Velocity)\n",
    "        plt.title(\"File number \" + str(i))\n",
    "        plt.show()\n",
    "    except:\n",
    "        pass\n",
    "    i+=1"
   ]
  },
  {
   "cell_type": "code",
   "execution_count": null,
   "metadata": {},
   "outputs": [],
   "source": [
    "i=2\n",
    "for file in files[:3]:\n",
    "    try:\n",
    "        ODataSet = np.genfromtxt(open(folder+files[i],'r'), delimiter=',',skip_header=0,missing_values=0)\n",
    "        Smooth = denoise_wavelet(ODataSet[:,3], method='VisuShrink', mode='soft', wavelet_levels=3, wavelet='sym2', rescale_sigma='True')\n",
    "        StdDevs = RollingStdDev(ODataSet[:,3],Smooth)\n",
    "        StdDevs.append(0)\n",
    "        StdDevs = np.asarray(StdDevs)\n",
    "        SmoothDev = denoise_wavelet(StdDevs, method='VisuShrink', mode='soft', wavelet_levels=3, wavelet='sym2', rescale_sigma='True')\n",
    "        SquelchSignal = SquelchPattern(SmoothDev, 3000, 0.01)\n",
    "        Velocity = getVelocity(ODataSet[:,3], ODataSet[:,2],SquelchSignal, 2)\n",
    "        \n",
    "        fig=plt.figure(figsize=(6.67,3.75),dpi=800,linewidth=0.25)\n",
    "        plt.plot(Velocity)\n",
    "        plt.title(\"File number \" + str(i))\n",
    "        plt.show()\n",
    "    except:\n",
    "        pass\n",
    "    i+=1"
   ]
  },
  {
   "cell_type": "code",
   "execution_count": null,
   "metadata": {},
   "outputs": [],
   "source": [
    "#Smooth = cf.Smoothing(ODataSet[:,3],2) #,50)\n",
    "def DeviationVelocity(file):\n",
    "    if file[-3:] =='csv':\n",
    "        try:\n",
    "            ODataSet = np.genfromtxt(open(folder+file,'r'), delimiter=',',skip_header=0,missing_values=0)\n",
    "            Smooth = denoise_wavelet(ODataSet[:,3], method='VisuShrink', mode='soft', wavelet_levels=3, wavelet='sym2', rescale_sigma='True')\n",
    "            #Smooth = cf.Smoothing(ODataSet[:,3],3)\n",
    "            StdDevs = RollingStdDev(ODataSet[:,3],Smooth)\n",
    "            #SmoothDev = cf.Smoothing(StdDevs,3)\n",
    "            StdDevs.append(0)\n",
    "            StdDevs = np.asarray(StdDevs)\n",
    "            SmoothDev = denoise_wavelet(StdDevs, method='VisuShrink', mode='soft', wavelet_levels=3, wavelet='sym2', rescale_sigma='True')\n",
    "            SquelchSignal = SquelchPattern(SmoothDev, 3000, 0.01)\n",
    "            Velocity = getVelocity(ODataSet[:,3], ODataSet[:,2],SquelchSignal, 2)\n",
    "            RollSumStdDev = RollingSum(SmoothDev)\n",
    "            #RollSumStdDev.append(0)\n",
    "            RollSumStdDev = np.asarray(RollSumStdDev)\n",
    "            Velocity = np.asarray(Velocity)\n",
    "        except:\n",
    "            Velocity = file\n",
    "            StdDevs = 0\n",
    "            RollSumStdDev = 0\n",
    "            Smooth = 0\n",
    "        return [Velocity, StdDevs, RollSumStdDev, Smooth]\n",
    "    else:\n",
    "        pass"
   ]
  },
  {
   "cell_type": "code",
   "execution_count": null,
   "metadata": {},
   "outputs": [],
   "source": [
    "i=2\n",
    "ODataSet = np.genfromtxt(open(folder+files[i],'r'), delimiter=',',skip_header=0,missing_values=0)"
   ]
  },
  {
   "cell_type": "code",
   "execution_count": null,
   "metadata": {},
   "outputs": [],
   "source": [
    "files[1][:-4]"
   ]
  },
  {
   "cell_type": "code",
   "execution_count": null,
   "metadata": {},
   "outputs": [],
   "source": [
    "start = 0\n",
    "end =   100000\n",
    "\n",
    "Smooth = Smooth = denoise_wavelet(ODataSet[start:end+1,3], method='VisuShrink', mode='soft', wavelet_levels=3, wavelet='sym2', rescale_sigma='True')        \n",
    "Velocity = getVelocity(Smooth, ODataSet[start:end+1,2])\n"
   ]
  },
  {
   "cell_type": "code",
   "execution_count": null,
   "metadata": {},
   "outputs": [],
   "source": [
    "fig, ax1 = plt.subplots(figsize=(6.67,3.75),dpi=200,linewidth=0.5) \n",
    "\n",
    "PlotLength = end-start+1\n",
    "v = Velocity\n",
    "sd = Smooth\n",
    "\n",
    "ax1.set_xlabel('Time') \n",
    "ax1.set_ylabel('Velocity (m/s)', color = 'red') \n",
    "ax1.plot(np.linspace(start,end,PlotLength), v, color = 'red', linestyle = 'dashed', label='Velocity' )\n",
    "ax1.tick_params(axis ='y', labelcolor = 'red') \n",
    "#plt.ylim(-6,6)\n",
    "#legend_1 = ax1.legend(loc=2)\n",
    "#legend_1.remove()\n",
    "\n",
    "# Adding Twin Axes\n",
    "\n",
    "ax2 = ax1.twinx() \n",
    "\n",
    "ax2.set_ylabel('Acceleration (g)', color = 'blue') \n",
    "ax2.plot(np.linspace(start,end,PlotLength), sd, color = 'blue', label='Acceleration') \n",
    "ax2.tick_params(axis ='y', labelcolor = 'blue') \n",
    "#plt.ylim(0.0,0.6)\n",
    "#ax2.legend(loc=1)\n",
    "#ax2.add_artist(legend_1)\n",
    "# Show plot\n",
    "\n",
    "plt.show()"
   ]
  },
  {
   "cell_type": "code",
   "execution_count": null,
   "metadata": {
    "scrolled": true
   },
   "outputs": [],
   "source": [
    "Results = Parallel(n_jobs=16)(delayed(DeviationVelocity)(file) for file in files[:3])\n",
    "#Velocities, StdDevs, SumStdDevs, *fails = Parallel(n_jobs=17)(delayed(DeviationVelocity)(file) for file in files)"
   ]
  },
  {
   "cell_type": "code",
   "execution_count": null,
   "metadata": {},
   "outputs": [],
   "source": [
    "Velocities = []\n",
    "StdDevs = []\n",
    "SumStdDevs = []\n",
    "NewFiles=[]\n",
    "Accels = []\n",
    "\n",
    "for i in range(len(Results)):\n",
    "    if Results[i] != None:\n",
    "        Velocities.append(Results[i][0])\n",
    "        StdDevs.append(Results[i][1])\n",
    "        SumStdDevs.append(Results[i][2])\n",
    "        NewFiles.append(files[i])\n",
    "        Accels.append(Results[i][3])"
   ]
  },
  {
   "cell_type": "code",
   "execution_count": null,
   "metadata": {},
   "outputs": [],
   "source": [
    "for i in range(len(Results)):\n",
    "    print(np.shape(SumStdDevs[i]))"
   ]
  },
  {
   "cell_type": "code",
   "execution_count": null,
   "metadata": {},
   "outputs": [],
   "source": [
    "start = 10000000\n",
    "length = 200000\n",
    "end = start+length"
   ]
  },
  {
   "cell_type": "code",
   "execution_count": null,
   "metadata": {},
   "outputs": [],
   "source": [
    "fig, ax1 = plt.subplots(figsize=(6.67,3.75),dpi=800,linewidth=0.5) \n",
    "\n",
    "ax1.set_xlabel('Time') \n",
    "ax1.set_ylabel('m/s', color = 'red') \n",
    "#ax1.plot(range(length), Velocity[start:end], color = 'red', linestyle = 'dashed', label='Velocity' )\n",
    "ax1.plot(range(length), Velocities[f][start:end], color = 'red', linestyle = 'dashed', label='Velocity' )\n",
    "ax1.tick_params(axis ='y', labelcolor = 'red') \n",
    "#plt.ylim(-6,6)\n",
    "legend_1 = ax1.legend(loc=2)\n",
    "legend_1.remove()\n",
    "\n",
    "# Adding Twin Axes\n",
    "\n",
    "ax2 = ax1.twinx() \n",
    "\n",
    "ax2.set_ylabel('Acceleration', color = 'blue') \n",
    "ax2.plot(range(length), StdDevs[f][start:end], color = 'blue', label='g of Acceleration') \n",
    "ax2.tick_params(axis ='y', labelcolor = 'blue') \n",
    "#plt.ylim(0.0,0.6)\n",
    "ax2.legend(loc=1)\n",
    "ax2.add_artist(legend_1)\n",
    "# Show plot\n",
    "\n",
    "plt.show()"
   ]
  },
  {
   "cell_type": "code",
   "execution_count": null,
   "metadata": {},
   "outputs": [],
   "source": [
    "MaxDev=[]\n",
    "MaxRoll=[]\n",
    "for i in range(len(StdDevs)):\n",
    "    MaxDev.append(np.max(StdDevs[i]))\n",
    "    MaxRoll.append(np.max(SumStdDevs[i]))"
   ]
  },
  {
   "cell_type": "code",
   "execution_count": null,
   "metadata": {},
   "outputs": [],
   "source": [
    "for i in range(len(MaxDev)):\n",
    "    print(NewFiles[i],MaxDev[i], MaxRoll[i])"
   ]
  },
  {
   "cell_type": "code",
   "execution_count": null,
   "metadata": {},
   "outputs": [],
   "source": []
  },
  {
   "cell_type": "code",
   "execution_count": null,
   "metadata": {},
   "outputs": [],
   "source": []
  }
 ],
 "metadata": {
  "kernelspec": {
   "display_name": "TFGPU",
   "language": "python",
   "name": "tfgpu"
  },
  "language_info": {
   "codemirror_mode": {
    "name": "ipython",
    "version": 3
   },
   "file_extension": ".py",
   "mimetype": "text/x-python",
   "name": "python",
   "nbconvert_exporter": "python",
   "pygments_lexer": "ipython3",
   "version": "3.9.7"
  }
 },
 "nbformat": 4,
 "nbformat_minor": 4
}
