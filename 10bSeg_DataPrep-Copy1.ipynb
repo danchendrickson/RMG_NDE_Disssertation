{
 "cells": [
  {
   "cell_type": "markdown",
   "id": "2798050b",
   "metadata": {},
   "source": [
    "## Look at accelerometer data \n",
    " \n",
    "Finding Zero velocity times by rail axis acceleration noise levels, making summary statistics for the noise levels across the whole day files.  Spot check graphs to see what works\n",
    "\n",
    "# %%"
   ]
  },
  {
   "cell_type": "code",
   "execution_count": 1,
   "id": "832b98c8",
   "metadata": {},
   "outputs": [],
   "source": [
    "#Standard Header used on the projects\n",
    "\n",
    "#first the major packages used for math and graphing\n",
    "import numpy as np\n",
    "import matplotlib.pyplot as plt\n",
    "from cycler import cycler\n",
    "import scipy.special as sp\n",
    "import pickle\n",
    "\n",
    "#Custome graph format style sheet\n",
    "#plt.style.use('Prospectus.mplstyle')\n",
    "\n",
    "#If being run by a seperate file, use the seperate file's graph format and saving paramaeters\n",
    "#otherwise set what is needed\n",
    "if not 'Saving' in locals():\n",
    "    Saving = False\n",
    "if not 'Titles' in locals():\n",
    "    Titles = True\n",
    "if not 'Ledgends' in locals():\n",
    "    Ledgends = True\n",
    "if not 'FFormat' in locals():\n",
    "    FFormat = '.png'\n",
    "\n",
    "#Standard cycle to make black and white images and dashed and line styles\n",
    "default_cycler = (cycler('color', ['0.00', '0.40', '0.60', '0.70']) + cycler(linestyle=['-', '-', '-', '-']))\n",
    "plt.rc('axes', prop_cycle=default_cycler)\n",
    "my_cmap = plt.get_cmap('gray')"
   ]
  },
  {
   "cell_type": "code",
   "execution_count": 2,
   "id": "dac58654",
   "metadata": {},
   "outputs": [],
   "source": [
    "#Extra Headers:\n",
    "import os as os\n",
    "import pywt as py\n",
    "import statistics as st\n",
    "import os as os\n",
    "import random\n",
    "import multiprocessing\n",
    "from joblib import Parallel, delayed\n",
    "import platform\n",
    "\n",
    "from time import time as ti\n",
    "\n",
    "# %%\n",
    "import CoreFunctions as cf\n",
    "from skimage.restoration import denoise_wavelet\n",
    "# %%\n",
    "from sklearn.model_selection import train_test_split\n",
    "#import dask.dataframe as dd"
   ]
  },
  {
   "cell_type": "markdown",
   "id": "87ef0ac3",
   "metadata": {},
   "source": [
    "from keras.layers import LSTM, Dense, RepeatVector, TimeDistributed, Masking\n",
    "from keras.callbacks import ModelCheckpoint\n",
    "from keras.models import Sequential\n",
    "import tensorflow as tf"
   ]
  },
  {
   "cell_type": "code",
   "execution_count": 3,
   "id": "7103d810",
   "metadata": {},
   "outputs": [],
   "source": [
    "# ## Choosing Platform\n",
    "# Working is beinging conducted on several computers, and author needs to be able to run code on all without rewriting..  This segment of determines which computer is being used, and sets the directories accordingly.\n",
    "\n",
    "# %%\n",
    "HostName = platform.node()\n",
    "\n",
    "if HostName == \"Server\":\n",
    "    Computer = \"Desktop\"   \n",
    "elif HostName[-6:] == 'wm.edu':\n",
    "    Computer = \"SciClone\"\n",
    "elif HostName == \"SchoolLaptop\":\n",
    "    Computer = \"LinLap\"\n",
    "elif HostName == \"WTC-TAB-512\":\n",
    "    Computer = \"PortLap\"\n",
    "else:\n",
    "    Computer = \"WinLap\"\n",
    "\n",
    "# %%\n",
    "if Computer == \"SciClone\":\n",
    "    location = '/sciclone/home/dchendrickson01/image/'\n",
    "elif Computer == \"WinLap\":\n",
    "    location = 'C:\\\\Data\\\\'\n",
    "elif Computer == \"Desktop\":\n",
    "    location = \"E:\\\\Backups\\\\Dan\\\\CraneData\\\\\"\n",
    "elif Computer == \"LinLap\":\n",
    "    location = '/home/dan/Output/'\n",
    "elif Computer == 'PortLap':\n",
    "    location = 'C:\\\\users\\\\dhendrickson\\\\Desktop\\\\AccelData\\\\'"
   ]
  },
  {
   "cell_type": "code",
   "execution_count": 4,
   "id": "28da8f0d",
   "metadata": {},
   "outputs": [],
   "source": [
    "if Computer ==  \"SciClone\":\n",
    "    rootfolder = '/sciclone/home/dchendrickson01/'\n",
    "    folder = '/scratch/Recordings2/'\n",
    "    imageFolder = '/scratch/Move3Dprint/'\n",
    "    \n",
    "    rootfolder = '/sciclone/home/dchendrickson01/'\n",
    "    folder = '//sciclone/scr10/dchendrickson01/Recordings2/'\n",
    "    imageFolder = '//sciclone/scr10/dchendrickson01/Move3Dprint/'\n",
    "\n",
    "    \n",
    "    \n",
    "elif Computer == \"Desktop\":\n",
    "    rootfolder = location\n",
    "    folder = rootfolder + \"Recordings2\\\\\"\n",
    "elif Computer ==\"WinLap\":\n",
    "    rootfolder = location\n",
    "    folder = rootfolder + \"Recordings2\\\\\"   \n",
    "elif Computer == \"LinLap\":\n",
    "    rootfolder = '/home/dan/Data/'\n",
    "    folder = rootfolder + 'Recordings2/'\n",
    "elif Computer =='PortLap':\n",
    "    rootfolder = location \n",
    "    folder = rootfolder + 'Recordings2\\\\'\n",
    "\n",
    "# %% [markdown]\n",
    "# ## Global Variables"
   ]
  },
  {
   "cell_type": "code",
   "execution_count": 5,
   "id": "79cd0cf9",
   "metadata": {},
   "outputs": [],
   "source": [
    "Saving = False\n",
    "location = folder\n",
    "Titles = True\n",
    "Ledgends = True\n",
    "\n",
    "f = 0"
   ]
  },
  {
   "cell_type": "code",
   "execution_count": 6,
   "id": "e9ec246a",
   "metadata": {},
   "outputs": [],
   "source": [
    "files = ['230418 recording1.csv','230419 recording1.csv','230420 recording1.csv','230421 recording1.csv']#,\n",
    "#         '230418 recording2.csv','230419 recording2.csv','230420 recording2.csv','230421 recording2.csv',\n",
    "#         '230425 recording1.csv','230425 recording2.csv','230426 recording2.csv','230427 recording2.csv',\n",
    "#         '230428 recording2.csv','230509 recording1.csv','230510 recording1.csv','230511 recording1.csv']\n",
    "\n",
    "# %%\n",
    "BeforeTamping = ['221206 recording1.csv','221207 recording1.csv','221208 recording1.csv','221209 recording1.csv',\n",
    "         '221206 recording2.csv','221207 recording2.csv','221208 recording2.csv','221209 recording2.csv']\n",
    "\n",
    "\n",
    "# %% [markdown]\n",
    "# ## Project Specific Functions"
   ]
  },
  {
   "cell_type": "code",
   "execution_count": 7,
   "id": "d64c836f",
   "metadata": {},
   "outputs": [],
   "source": [
    "def RollingStdDev(RawData, SmoothData, RollSize = 25):\n",
    "    StdDevs = []\n",
    "    for i in range(RollSize):\n",
    "        Diffs = RawData[0:i+1]-SmoothData[0:i+1]\n",
    "        Sqs = Diffs * Diffs\n",
    "        Var = sum(Sqs) / (i+1)\n",
    "        StdDev = np.sqrt(Var)\n",
    "        StdDevs.append(StdDev)\n",
    "    for i in range(len(RawData)-RollSize-1):\n",
    "        j = i + RollSize\n",
    "        Diffs = RawData[i:j]-SmoothData[i:j]\n",
    "        Sqs = Diffs * Diffs\n",
    "        Var = sum(Sqs) / RollSize\n",
    "        StdDev = np.sqrt(Var)\n",
    "        StdDevs.append(StdDev)  \n",
    "    \n",
    "    return StdDevs\n",
    "\n",
    "def RollingSum(Data, Length = 100):\n",
    "    RollSumStdDev = []\n",
    "    for i in range(Length):\n",
    "        RollSumStdDev.append(sum(Data[0:i+1]))\n",
    "    for i in range(len(Data) - Length):\n",
    "        RollSumStdDev.append(sum(Data[i:i+Length]))\n",
    "    return RollSumStdDev\n",
    "\n",
    "def SquelchPattern(DataSet, StallRange = 5000, SquelchLevel = 0.02):\n",
    "    SquelchSignal = np.ones(len(DataSet))\n",
    "\n",
    "    for i in range(len(DataSet)-2*StallRange):\n",
    "        if np.average(DataSet[i:i+StallRange]) < SquelchLevel:\n",
    "            SquelchSignal[i+StallRange]=0\n",
    "\n",
    "    return SquelchSignal\n",
    "\n",
    "def getVelocity(Acceleration, Timestamps = 0.003, Squelch = [], corrected = 0):\n",
    "    velocity = np.zeros(len(Acceleration))\n",
    "    \n",
    "    Acceleration -= np.average(Acceleration)\n",
    "    \n",
    "    if len(Timestamps) == 1:\n",
    "        dTime = np.ones(len(Acceleration),dtype=float) * Timestamps\n",
    "    elif len(Timestamps) == len(Acceleration):\n",
    "        dTime = np.zeros(len(Timestamps), dtype=float)\n",
    "        dTime[0]=1\n",
    "        for i in range(len(Timestamps)-1):\n",
    "            j = i+1\n",
    "            if Timestamps[j] > Timestamps[i]:\n",
    "                dTime[j]=Timestamps[j]-Timestamps[i]\n",
    "            else:\n",
    "                dTime[j]=Timestamps[j]-Timestamps[i]+10000.0\n",
    "        dTime /= 10000.0\n",
    "\n",
    "    velocity[0] = Acceleration[0] * (dTime[0])\n",
    "\n",
    "    for i in range(len(Acceleration)-1):\n",
    "        j = i + 1\n",
    "        if corrected ==2:\n",
    "            if Squelch[j]==0:\n",
    "                velocity[j]=0\n",
    "            else:\n",
    "                velocity[j] = velocity[i] + Acceleration[j] * dTime[j]                \n",
    "        else:\n",
    "            velocity[j] = velocity[i] + Acceleration[j] * dTime[j]\n",
    "\n",
    "    if corrected == 1:\n",
    "        PointVairance = velocity[-1:] / len(velocity)\n",
    "        for i in range(len(velocity)):\n",
    "            velocity[i] -=  PointVairance * i\n",
    "    \n",
    "    velocity *= 9.81\n",
    "\n",
    "    return velocity\n",
    "\n",
    "def MakeDTs(Seconds, Miliseconds):\n",
    "    dts = np.zeros(len(Miliseconds), dtype=float)\n",
    "    dts[0]=1\n",
    "    for i in range(len(MiliSeconds)-1):\n",
    "        j = i+1\n",
    "        if Seconds[j]==Seconds[i]:\n",
    "            dts[j]=Miliseconds[j]-Miliseconds[i]\n",
    "        else:\n",
    "            dts[j]=Miliseconds[j]-Miliseconds[i]+1000\n",
    "    dts /= 10000\n",
    "    return dts"
   ]
  },
  {
   "cell_type": "code",
   "execution_count": 8,
   "id": "ad6c33eb",
   "metadata": {},
   "outputs": [],
   "source": [
    "def SepreateMovements(SquelchSignal, RawData, FileName, verbose=False):\n",
    "    Moves= []\n",
    "    MoveNames = []\n",
    "    Move = np.zeros((1,3), dtype=float)\n",
    "    i = 0\n",
    "    for j in range(len(SquelchSignal)-1):\n",
    "        if SquelchSignal[j] == 1:\n",
    "            #try:\n",
    "            Move = np.concatenate((Move, RawData[:,j].T), axis=0)\n",
    "            #except:\n",
    "            #    print(j)\n",
    "            if SquelchSignal[j+1] == 0:\n",
    "                #Move = np.matrix(Move)\n",
    "                Moves.append(Move)\n",
    "                MoveNames.append(FileName + str(i).zfill(3))\n",
    "                i+=1\n",
    "                Move = np.zeros((1,3), dtype=float)\n",
    "                #Move[0,2]=0\n",
    "        if verbose:\n",
    "            if j % 10000 == 0:\n",
    "                print(j)\n",
    "    Moves.append(Move)\n",
    "    MoveNames.append(FileName + str(i).zfill(4))\n",
    "    return (Moves, MoveNames)\n",
    "    \n",
    "\n",
    "\n",
    "\n",
    "    "
   ]
  },
  {
   "cell_type": "code",
   "execution_count": 9,
   "id": "9e8244b7",
   "metadata": {},
   "outputs": [],
   "source": [
    "def splitLong(Moves, maxLength = 4000, minLength = 1000, MoveNames = []):\n",
    "    if len(MoveNames) <=1:\n",
    "        MoveNames = ['null'  for x in range(len(Moves))]\n",
    "    Xmoves = []\n",
    "    Xnames = []\n",
    "    for i in range(len(Moves)):\n",
    "        if np.shape(Moves[i])[0] > maxLength: \n",
    "            Xmoves.append(Moves[i][:int(len(Moves[i])/2),:])\n",
    "            Xnames.append(MoveNames[i] + 'a')\n",
    "            Xmoves.append(Moves[i][int(len(Moves[i])/2):,:])\n",
    "            Xnames.append(MoveNames[i] + 'b')\n",
    "        else:\n",
    "            if np.shape(Moves[i])[0] < minLength:\n",
    "                pass\n",
    "            else:\n",
    "                Xmoves.append(Moves[i])\n",
    "                Xnames.append(MoveNames[i])\n",
    "    return Xmoves, Xnames\n",
    "\n",
    "def findMaxLength(Moves):\n",
    "    maxLength = 0\n",
    "    LongMove = 0\n",
    "    for i in range(len(Moves)):\n",
    "        if np.shape(Moves[i])[0] > maxLength: \n",
    "            maxLength =  np.shape(Moves[i])[0]\n",
    "            LongMove = i\n",
    "    return maxLength, LongMove\n",
    "\n",
    "def findMinLength(Moves):\n",
    "    minLength = 9999999\n",
    "    SmallMove = 0\n",
    "    for i in range(len(Moves)):\n",
    "        if np.shape(Moves[i])[0] < minLength: \n",
    "            minLength =  np.shape(Moves[i])[0]\n",
    "            SmallMove = i\n",
    "    return minLength, SmallMove\n",
    "\n",
    "\n",
    "\n",
    "# %% [markdown]\n",
    "# ## Process Files"
   ]
  },
  {
   "cell_type": "code",
   "execution_count": 10,
   "id": "e1359668",
   "metadata": {},
   "outputs": [
    {
     "name": "stdout",
     "output_type": "stream",
     "text": [
      "files 4 1\n"
     ]
    }
   ],
   "source": [
    "LoopFiles = 4\n",
    "loops = int(len(files) / LoopFiles) \n",
    "if len(files)%LoopFiles != 0:\n",
    "    loops += 1\n",
    "\n",
    "print('files', len(files), loops)\n",
    "\n"
   ]
  },
  {
   "cell_type": "code",
   "execution_count": 15,
   "id": "fdc4f894",
   "metadata": {},
   "outputs": [],
   "source": [
    "#Smooth = cf.Smoothing(ODataSet[:,3],2) #,50)\n",
    "def DeviationVelocity(file):\n",
    "    if file[-3:] =='csv':\n",
    "        ODataSet = np.genfromtxt(open(folder+file,'r'), delimiter=',',skip_header=0,missing_values=0,invalid_raise=False)\n",
    "        remainder = len(ODataSet[:,3]) % 10\n",
    "        try:\n",
    "            SmoothX = cf.Smoothing(ODataSet[:,3].T[:-remainder],2,dets_to_remove=3) #denoise_wavelet(ODataSet[:,3], method='VisuShrink', mode='soft', wavelet_levels=3, wavelet='sym2', rescale_sigma='True')\n",
    "            SmoothY = cf.Smoothing(ODataSet[:,4].T[:-remainder],2,dets_to_remove=3) #denoise_wavelet(ODataSet[:,4], method='VisuShrink', mode='soft', wavelet_levels=3, wavelet='sym2', rescale_sigma='True')\n",
    "            SmoothZ = cf.Smoothing(ODataSet[:,5].T[:-remainder],2,dets_to_remove=3) #denoise_wavelet(ODataSet[:,5], method='VisuShrink', mode='soft', wavelet_levels=3, wavelet='sym2', rescale_sigma='True')\n",
    "        except:\n",
    "            try:\n",
    "                remainder+=2\n",
    "                SmoothX = cf.Smoothing(ODataSet[:,3].T[:-remainder],2,dets_to_remove=3) #denoise_wavelet(ODataSet[:,3], method='VisuShrink', mode='soft', wavelet_levels=3, wavelet='sym2', rescale_sigma='True')\n",
    "                SmoothY = cf.Smoothing(ODataSet[:,4].T[:-remainder],2,dets_to_remove=3) #denoise_wavelet(ODataSet[:,4], method='VisuShrink', mode='soft', wavelet_levels=3, wavelet='sym2', rescale_sigma='True')\n",
    "                SmoothZ = cf.Smoothing(ODataSet[:,5].T[:-remainder],2,dets_to_remove=3) #denoise_wavelet(ODataSet[:,5], method='VisuShrink', mode='soft', wavelet_levels=3, wavelet='sym2', rescale_sigma='True')\n",
    "            except:\n",
    "                remainder+=2\n",
    "                SmoothX = cf.Smoothing(ODataSet[:,3].T[:-remainder],2,dets_to_remove=3) #denoise_wavelet(ODataSet[:,3], method='VisuShrink', mode='soft', wavelet_levels=3, wavelet='sym2', rescale_sigma='True')\n",
    "                SmoothY = cf.Smoothing(ODataSet[:,4].T[:-remainder],2,dets_to_remove=3) #denoise_wavelet(ODataSet[:,4], method='VisuShrink', mode='soft', wavelet_levels=3, wavelet='sym2', rescale_sigma='True')\n",
    "                SmoothZ = cf.Smoothing(ODataSet[:,5].T[:-remainder],2,dets_to_remove=3) #denoise_wavelet(ODataSet[:,5], method='VisuShrink', mode='soft', wavelet_levels=3, wavelet='sym2', rescale_sigma='True')\n",
    "        SmoothX -= np.average(SmoothX)\n",
    "        SmoothY -= np.average(SmoothY)\n",
    "        SmoothZ -= np.average(SmoothZ)\n",
    "        StdDevsX = RollingStdDev(ODataSet[:,3][:-remainder],SmoothX)\n",
    "        StdDevsX.append(0)\n",
    "        StdDevsX = np.asarray(StdDevsX).flatten()\n",
    "        SmoothDevX = cf.Smoothing(StdDevsX,2,dets_to_remove=3)\n",
    "        AverageStdDev = np.average(StdDevsX)\n",
    "        StdDevsX -= AverageStdDev\n",
    "        SquelchSignal = SquelchPattern(np.abs(SmoothX), 500, 0.02)\n",
    "        last = 0\n",
    "        running = 0\n",
    "        for j in range(len(SquelchSignal)):\n",
    "            if SquelchSignal[j] == 1:\n",
    "                running+=1\n",
    "                last = 1\n",
    "            else:\n",
    "                if last == 1:\n",
    "                    if running < 500:\n",
    "                        SquelchSignal[j-running-1:j+1] = 1\n",
    "                    running = 0\n",
    "                last = 0\n",
    "        #Velocity = getVelocity(ODataSet[:,3], ODataSet[:,2],SquelchSignal, 2)\n",
    "        #Velocity = np.asarray(Velocity)\n",
    "        MoveMatrix = np.matrix([SmoothX, SmoothY, SmoothZ])\n",
    "        return [SquelchSignal,MoveMatrix,StdDevsX,file[:-4]]\n",
    "    else:\n",
    "        pass"
   ]
  },
  {
   "cell_type": "code",
   "execution_count": 54,
   "id": "b11a19b4",
   "metadata": {},
   "outputs": [
    {
     "name": "stdout",
     "output_type": "stream",
     "text": [
      "[[1, 2, 3, 8], [4, 5, 6], [8, 9]]\n"
     ]
    }
   ],
   "source": [
    "original_list = [1, 2, 3, 8, 7, 4, 5, 6, 4, 7, 8, 9]\n",
    "ones_list = [1.0, 1.0, 1.0, 1.0, 0.0, 1.0, 1.0, 1.0, 0.0, 0.0, 1.0, 1.0]\n",
    "result = split_list_by_one(original_list, ones_list)\n",
    "\n",
    "print(result)  # Output: [[1, 2, 3, 8], [4, 5, 6], [8, 9]]"
   ]
  },
  {
   "cell_type": "code",
   "execution_count": 53,
   "id": "45634a54",
   "metadata": {},
   "outputs": [],
   "source": [
    "def split_list_by_one(original_list, ones_list):\n",
    "    # Created with Bing AI support\n",
    "    #  1st request: \"python split list into chunks based on value\"\n",
    "    #  2nd request: \"I want to split the list based on the values in a second list.  Second list is all 1s and 0s.  I want all 0s removed, and each set of consequtive ones as its own item\"\n",
    "    #  3rd request: \"That is close.  Here is an example of the two lists, and what I would want returned: original_list = [1, 2, 3, 8, 7, 4, 5, 6, 4, 7, 8, 9]\n",
    "    #                ones_list =     [1, 1, 1, 1, 0, 1, 1, 1, 0, 0, 1, 1]\n",
    "    #                return: [[1, 2, 3, 8], [4, 5, 6], [8,9]]\"\n",
    "    #\n",
    "    #This is the function that was created and seems to work on the short lists, goin to use fo rlong lists\n",
    "    \n",
    "    result_sublists = []\n",
    "    sublist = []\n",
    "\n",
    "    for val, is_one in zip(original_list, ones_list):\n",
    "        if is_one:\n",
    "            sublist.append(val)\n",
    "        elif sublist:\n",
    "            result_sublists.append(sublist)\n",
    "            sublist = []\n",
    "\n",
    "    # Add the last sublist (if any)\n",
    "    if sublist:\n",
    "        result_sublists.append(sublist)\n",
    "\n",
    "    return result_sublists"
   ]
  },
  {
   "cell_type": "code",
   "execution_count": 13,
   "id": "1690111e",
   "metadata": {},
   "outputs": [],
   "source": [
    "# %%\n",
    "SquelchSignal = []\n",
    "RawData=[]\n",
    "OrderedFileNames=[]\n",
    "StdDevs=[]\n"
   ]
  },
  {
   "cell_type": "code",
   "execution_count": 16,
   "id": "78b11445",
   "metadata": {
    "scrolled": true
   },
   "outputs": [
    {
     "name": "stdout",
     "output_type": "stream",
     "text": [
      "0 4 5.459183442592621\n"
     ]
    }
   ],
   "source": [
    "st = ti()\n",
    "\n",
    "for k in range(loops):\n",
    "    if k == loops -1:\n",
    "        tfiles = files[k*LoopFiles:]\n",
    "    else:\n",
    "        tfiles = files[k*LoopFiles:(k+1)*LoopFiles]\n",
    "    Results = Parallel(n_jobs=LoopFiles)(delayed(DeviationVelocity)(file) for file in tfiles)\n",
    "    #Results =[]\n",
    "    #for file in tfiles:\n",
    "    #    Results.append(DeviationVelocity(file))\n",
    "    #    print(file, (ti()-st)/60.0)\n",
    "        \n",
    "    for i in range(len(Results)):       \n",
    "        SquelchSignal.append(Results[i][0])\n",
    "        RawData.append(Results[i][1])\n",
    "        StdDevs.append(Results[i][2])\n",
    "        OrderedFileNames.append(Results[i][3])\n",
    "    print(k, len(Results), (ti()-st)/60.0)\n",
    "    "
   ]
  },
  {
   "cell_type": "code",
   "execution_count": 17,
   "id": "34f2c383",
   "metadata": {},
   "outputs": [
    {
     "name": "stdout",
     "output_type": "stream",
     "text": [
      "got data 4 4 (3, 18659120)\n"
     ]
    }
   ],
   "source": [
    "print('got data', len(RawData), len(SquelchSignal), np.shape(RawData[0]))"
   ]
  },
  {
   "cell_type": "code",
   "execution_count": 28,
   "id": "225f28fd-669a-464a-98c0-20a20c950174",
   "metadata": {},
   "outputs": [],
   "source": [
    "f = 0\n",
    "row = np.abs(RawData[f][0,1::100])\n",
    "np.shape(row)\n",
    "SS = SquelchSignal[f][1::100]\n",
    "SD = StdDevs[f][1::100]"
   ]
  },
  {
   "cell_type": "code",
   "execution_count": 29,
   "id": "3c763446",
   "metadata": {
    "scrolled": false
   },
   "outputs": [
    {
     "data": {
      "image/png": "[encoded data removed]",
      "text/plain": [
       "<Figure size 1800x900 with 2 Axes>"
      ]
     },
     "metadata": {},
     "output_type": "display_data"
    }
   ],
   "source": [
    "fig,ax1 = plt.subplots(figsize=(6,3),dpi=300)\n",
    "ax1.plot(SS[:],color='r')\n",
    "#plt.plot(np.asarray(MoveMatrix[0,:15]))\n",
    "#ax1.plot(row.T[85000:90000])\n",
    "ax2=ax1.twinx()\n",
    "ax2.plot(row.T[:])\n",
    "ax2.plot(SD[:], color='b')\n",
    "plt.show()"
   ]
  },
  {
   "cell_type": "code",
   "execution_count": 42,
   "id": "c433ee5e",
   "metadata": {},
   "outputs": [
    {
     "ename": "IndexError",
     "evalue": "list index out of range",
     "output_type": "error",
     "traceback": [
      "\u001b[0;31m---------------------------------------------------------------------------\u001b[0m",
      "\u001b[0;31mIndexError\u001b[0m                                Traceback (most recent call last)",
      "Cell \u001b[0;32mIn[42], line 3\u001b[0m\n\u001b[1;32m      1\u001b[0m AllMoves \u001b[38;5;241m=\u001b[39m []\n\u001b[1;32m      2\u001b[0m \u001b[38;5;28;01mfor\u001b[39;00m i \u001b[38;5;129;01min\u001b[39;00m \u001b[38;5;28mrange\u001b[39m(\u001b[38;5;241m16\u001b[39m):\n\u001b[0;32m----> 3\u001b[0m     AllMovesX \u001b[38;5;241m=\u001b[39m split_list_by_ones(RawData[i][\u001b[38;5;241m0\u001b[39m,:]\u001b[38;5;241m.\u001b[39mtolist(),SquelchSignal[i]\u001b[38;5;241m.\u001b[39mtolist())\n\u001b[1;32m      4\u001b[0m     AllMovesY \u001b[38;5;241m=\u001b[39m split_list_by_ones(RawData[i][\u001b[38;5;241m1\u001b[39m,:]\u001b[38;5;241m.\u001b[39mtolist(),SquelchSignal[i]\u001b[38;5;241m.\u001b[39mtolist())\n\u001b[1;32m      5\u001b[0m     AllMovesZ \u001b[38;5;241m=\u001b[39m split_list_by_ones(RawData[i][\u001b[38;5;241m2\u001b[39m,:]\u001b[38;5;241m.\u001b[39mtolist(),SquelchSignal[i]\u001b[38;5;241m.\u001b[39mtolist())\n",
      "\u001b[0;31mIndexError\u001b[0m: list index out of range"
     ]
    }
   ],
   "source": [
    "AllMoves = []\n",
    "for i in range(16):\n",
    "    AllMovesX = split_list_by_ones(RawData[i][0,:].T.tolist(),SquelchSignal[i].tolist())\n",
    "    AllMovesY = split_list_by_ones(RawData[i][1,:].T.tolist(),SquelchSignal[i].tolist())\n",
    "    AllMovesZ = split_list_by_ones(RawData[i][2,:].T.tolist(),SquelchSignal[i].tolist())\n",
    "    \n",
    "    for j in range(len(AllMovesX)):\n",
    "        AllMoves.append(np.matrix(np.stack((AllMovesX[j],AllMovesY[j],AllMovesZ[j]),axis=1)))"
   ]
  },
  {
   "cell_type": "code",
   "execution_count": 59,
   "id": "5ec978d1",
   "metadata": {},
   "outputs": [],
   "source": [
    "def split_list_by_ones(original_list, ones_list):\n",
    "    result = []\n",
    "    current_chunk = []\n",
    "\n",
    "    for value, is_one in zip(original_list, ones_list):\n",
    "        if is_one == 1.0:  # Adapted condition for 1.0\n",
    "            current_chunk.append(value)\n",
    "        elif current_chunk:\n",
    "            result.append(current_chunk)\n",
    "            current_chunk = []\n",
    "\n",
    "    if current_chunk:\n",
    "        result.append(current_chunk)\n",
    "\n",
    "    return result"
   ]
  },
  {
   "cell_type": "code",
   "execution_count": 71,
   "id": "617a6d03",
   "metadata": {},
   "outputs": [],
   "source": [
    "# Example usage\n",
    "i=1\n",
    "original_list = [1, 2, 3, 8, 7, 4, 5, 6, 4, 7, 8, 9]\n",
    "original_list = RawData[i][0,:].T.tolist()\n",
    "ones_list = [1, 1, 1, 1, 0, 0, 1, 1, 0, 0, 1, 1]\n",
    "ones_list = SquelchSignal[i].tolist()\n",
    "\n",
    "AllMovesX = split_list_by_ones(original_list,ones_list)"
   ]
  },
  {
   "cell_type": "code",
   "execution_count": 70,
   "id": "fd7e451d",
   "metadata": {},
   "outputs": [
    {
     "data": {
      "text/plain": [
       "18897948"
      ]
     },
     "execution_count": 70,
     "metadata": {},
     "output_type": "execute_result"
    }
   ],
   "source": [
    "i=1\n",
    "len(RawData[i][0,:].T.tolist())"
   ]
  },
  {
   "cell_type": "code",
   "execution_count": 72,
   "id": "65ccc6ff",
   "metadata": {},
   "outputs": [
    {
     "data": {
      "text/plain": [
       "1150"
      ]
     },
     "execution_count": 72,
     "metadata": {},
     "output_type": "execute_result"
    }
   ],
   "source": [
    "len(AllMovesX)"
   ]
  },
  {
   "cell_type": "code",
   "execution_count": 57,
   "id": "bf6c4703",
   "metadata": {},
   "outputs": [
    {
     "ename": "TypeError",
     "evalue": "'zip' object is not subscriptable",
     "output_type": "error",
     "traceback": [
      "\u001b[0;31m---------------------------------------------------------------------------\u001b[0m",
      "\u001b[0;31mTypeError\u001b[0m                                 Traceback (most recent call last)",
      "Cell \u001b[0;32mIn[57], line 5\u001b[0m\n\u001b[1;32m      3\u001b[0m original_list \u001b[38;5;241m=\u001b[39m RawData[i][\u001b[38;5;241m0\u001b[39m,:]\u001b[38;5;241m.\u001b[39mtolist()  \u001b[38;5;66;03m# Your large original list\u001b[39;00m\n\u001b[1;32m      4\u001b[0m ones_list \u001b[38;5;241m=\u001b[39m SquelchSignal[i]\u001b[38;5;241m.\u001b[39mtolist()  \u001b[38;5;66;03m# Your large ones list\u001b[39;00m\n\u001b[0;32m----> 5\u001b[0m result \u001b[38;5;241m=\u001b[39m split_list_by_ones(original_list, ones_list)\n\u001b[1;32m      7\u001b[0m \u001b[38;5;28mprint\u001b[39m(result)\n",
      "Cell \u001b[0;32mIn[55], line 17\u001b[0m, in \u001b[0;36msplit_list_by_ones\u001b[0;34m(original_list, ones_list, chunk_size)\u001b[0m\n\u001b[1;32m     15\u001b[0m \u001b[38;5;66;03m# Create chunks of (value, is_one) pairs\u001b[39;00m\n\u001b[1;32m     16\u001b[0m chunks \u001b[38;5;241m=\u001b[39m \u001b[38;5;28mzip\u001b[39m(original_list, ones_list)\n\u001b[0;32m---> 17\u001b[0m chunked_data \u001b[38;5;241m=\u001b[39m [chunks[i:i \u001b[38;5;241m+\u001b[39m chunk_size] \u001b[38;5;28;01mfor\u001b[39;00m i \u001b[38;5;129;01min\u001b[39;00m \u001b[38;5;28mrange\u001b[39m(\u001b[38;5;241m0\u001b[39m, \u001b[38;5;28mlen\u001b[39m(original_list), chunk_size)]\n\u001b[1;32m     19\u001b[0m \u001b[38;5;66;03m# Process each chunk in parallel\u001b[39;00m\n\u001b[1;32m     20\u001b[0m \u001b[38;5;28;01mfrom\u001b[39;00m \u001b[38;5;21;01mconcurrent\u001b[39;00m\u001b[38;5;21;01m.\u001b[39;00m\u001b[38;5;21;01mfutures\u001b[39;00m \u001b[38;5;28;01mimport\u001b[39;00m ThreadPoolExecutor\n",
      "Cell \u001b[0;32mIn[55], line 17\u001b[0m, in \u001b[0;36m<listcomp>\u001b[0;34m(.0)\u001b[0m\n\u001b[1;32m     15\u001b[0m \u001b[38;5;66;03m# Create chunks of (value, is_one) pairs\u001b[39;00m\n\u001b[1;32m     16\u001b[0m chunks \u001b[38;5;241m=\u001b[39m \u001b[38;5;28mzip\u001b[39m(original_list, ones_list)\n\u001b[0;32m---> 17\u001b[0m chunked_data \u001b[38;5;241m=\u001b[39m [chunks[i:i \u001b[38;5;241m+\u001b[39m chunk_size] \u001b[38;5;28;01mfor\u001b[39;00m i \u001b[38;5;129;01min\u001b[39;00m \u001b[38;5;28mrange\u001b[39m(\u001b[38;5;241m0\u001b[39m, \u001b[38;5;28mlen\u001b[39m(original_list), chunk_size)]\n\u001b[1;32m     19\u001b[0m \u001b[38;5;66;03m# Process each chunk in parallel\u001b[39;00m\n\u001b[1;32m     20\u001b[0m \u001b[38;5;28;01mfrom\u001b[39;00m \u001b[38;5;21;01mconcurrent\u001b[39;00m\u001b[38;5;21;01m.\u001b[39;00m\u001b[38;5;21;01mfutures\u001b[39;00m \u001b[38;5;28;01mimport\u001b[39;00m ThreadPoolExecutor\n",
      "\u001b[0;31mTypeError\u001b[0m: 'zip' object is not subscriptable"
     ]
    }
   ],
   "source": [
    "# Example usage\n",
    "i=0\n",
    "original_list = RawData[i][0,:].tolist()  # Your large original list\n",
    "ones_list = SquelchSignal[i].tolist()  # Your large ones list\n",
    "result = split_list_by_ones(original_list, ones_list)\n",
    "\n",
    "print(result)"
   ]
  },
  {
   "cell_type": "code",
   "execution_count": null,
   "id": "e5f4f524-f1f1-4cad-a9dc-34e4cdbbf4ce",
   "metadata": {},
   "outputs": [],
   "source": [
    "MoveData = Parallel(n_jobs=31)(delayed(SepreateMovements)(SquelchSignal[i], RawData[i], OrderedFileNames[i])\n",
    "                                       for i in range(len(RawData)))"
   ]
  },
  {
   "cell_type": "code",
   "execution_count": null,
   "id": "aa8fea83-e753-4cd0-b128-f029e95f4578",
   "metadata": {},
   "outputs": [],
   "source": [
    "asdfasdf"
   ]
  },
  {
   "cell_type": "code",
   "execution_count": null,
   "id": "ade79b23",
   "metadata": {},
   "outputs": [],
   "source": [
    "#Movements = []\n",
    "#GroupNames = []\n",
    "#for move in MoveData:\n",
    "#    Movements.append(move[0])\n",
    "#    GroupNames.append(move[1])\n",
    "\n",
    "#print('Move and Name Sepreated', len(Movements), (ti()-st)/60.0)"
   ]
  },
  {
   "cell_type": "code",
   "execution_count": null,
   "id": "ffb21fb9-f579-4a49-860a-c2b9e8da595a",
   "metadata": {
    "scrolled": true
   },
   "outputs": [],
   "source": [
    "MoveData = []\n",
    "Moves = []\n",
    "MoveNames = []\n",
    "\n",
    "for i in range(len(RawData)):\n",
    "    temp = SepreateMovements(SquelchSignal[i], RawData[i].T, OrderedFileNames[i])\n",
    "    print(i, len(temp), len(temp[0]), len(temp[1]))\n",
    "    for j in range(len(temp[0])):\n",
    "        Moves.append(temp[0][j])\n",
    "        MoveNames.append(temp[1][j])\n",
    "    #MoveData.append(temp)\n",
    "\n",
    "print('Moves Seperated', len(Moves), (ti()-st)/60.0)\n",
    "    "
   ]
  },
  {
   "cell_type": "code",
   "execution_count": null,
   "id": "48b4cbee",
   "metadata": {
    "scrolled": true
   },
   "outputs": [],
   "source": [
    "[SquelchSignal,MoveMatrix,SmoothDevX,filename] = DeviationVelocity(files[5])"
   ]
  },
  {
   "cell_type": "code",
   "execution_count": null,
   "id": "e4c29e4e",
   "metadata": {},
   "outputs": [],
   "source": [
    "np.shape(RawData[0])"
   ]
  },
  {
   "cell_type": "code",
   "execution_count": null,
   "id": "85be3987",
   "metadata": {},
   "outputs": [],
   "source": [
    "#Moves=[]\n",
    "\n",
    "#for Groups in Movements:\n",
    "#    for Move in Groups:\n",
    "#        Moves.append(np.asarray(Move).astype('float32'))\n",
    "#Moves = np.asarray(Moves)\n",
    "\n",
    "#MoveNames = []\n",
    "#for Groups in GroupNames:\n",
    "#    for name in Groups:\n",
    "#        MoveNames.append(name)"
   ]
  },
  {
   "cell_type": "code",
   "execution_count": null,
   "id": "18961dce",
   "metadata": {},
   "outputs": [],
   "source": [
    "#print('made moves')\n",
    "\n",
    "del SquelchSignal\n",
    "del RawData\n",
    "#del Movements\n",
    "#del GroupNames\n",
    "#del MoveData\n",
    "#del OrderedFileNames"
   ]
  },
  {
   "cell_type": "code",
   "execution_count": null,
   "id": "a1e6f0fa",
   "metadata": {},
   "outputs": [],
   "source": [
    "longMove, MoveNumb = findMaxLength(Moves)"
   ]
  },
  {
   "cell_type": "code",
   "execution_count": null,
   "id": "f5478906",
   "metadata": {},
   "outputs": [],
   "source": [
    "minLength = 750"
   ]
  },
  {
   "cell_type": "code",
   "execution_count": null,
   "id": "ed65e017",
   "metadata": {},
   "outputs": [],
   "source": [
    "Moves, MoveNames = splitLong(Moves, longMove+1, minLength, MoveNames)\n",
    "\n",
    "print('Post split length', len(Moves), np.shape(Moves[0]))"
   ]
  },
  {
   "cell_type": "code",
   "execution_count": null,
   "id": "279bf798",
   "metadata": {},
   "outputs": [],
   "source": [
    "#padding moves.  Not needed, need sequences, not moves\n",
    "\n",
    "#Moves2 = []\n",
    "#for move in Moves:\n",
    "#    if np.shape(move)[0] < longMove:\n",
    "#        padding = np.zeros((longMove-np.shape(move)[0], 3))\n",
    "#        tempMove = np.concatenate((move, padding), axis=0)\n",
    "#        Moves2.append(tempMove)\n",
    "#    else:\n",
    "#        Moves2.append(move)\n",
    "#Moves = Moves2\n",
    "\n",
    "#del Moves2"
   ]
  },
  {
   "cell_type": "markdown",
   "id": "f2dcfdae",
   "metadata": {},
   "source": [
    "## Try LSTM Stuff"
   ]
  },
  {
   "cell_type": "markdown",
   "id": "7306ea69",
   "metadata": {},
   "source": [
    " https://machinelearningmastery.com/how-to-develop-lstm-models-for-time-series-forecasting/"
   ]
  },
  {
   "cell_type": "code",
   "execution_count": null,
   "id": "859e8b67",
   "metadata": {},
   "outputs": [],
   "source": [
    "TimeSteps = 250\n",
    "Features = np.shape(Moves[0])[1]\n",
    "\n",
    "# %%\n",
    "# split a multivariate sequence into samples\n",
    "def split_sequences(sequences, n_steps):\n",
    "    X, y = list(), list()\n",
    "    for i in range(len(sequences)):\n",
    "        # find the end of this pattern\n",
    "        end_ix = i + n_steps\n",
    "        # check if we are beyond the dataset\n",
    "        if end_ix > len(sequences)-1:\n",
    "            break\n",
    "        # gather input and output parts of the pattern\n",
    "        seq_x, seq_y = sequences[i:end_ix, :], sequences[end_ix, :]\n",
    "        X.append(seq_x)\n",
    "        y.append(seq_y)\n",
    "    return np.array(X), np.array(y)\n",
    "\n",
    "# %%\n",
    "Sequences = []\n",
    "Outputs = []\n",
    "for move in Moves:\n",
    "    Seq, Out = split_sequences(move,TimeSteps)\n",
    "    Sequences.append(Seq)\n",
    "    Outputs.append(Out)\n",
    "    \n",
    "\n",
    "# %%\n",
    "MoveSegments = []\n",
    "for seq in Sequences:\n",
    "    for mv in seq:\n",
    "        MoveSegments.append(mv)\n",
    "NextDataPoint = []\n",
    "for out in Outputs:\n",
    "    for pt in out:\n",
    "        NextDataPoint.append(pt)\n",
    "\n",
    "# %%\n",
    "print('data split', len(MoveSegments))\n",
    "print('Shape next data point', np.shape(NextDataPoint))\n",
    "\n",
    "\n",
    "file=open('/scratch/PrepAccel/Data-20240307-16files-250pts.p','wb')\n",
    "pickle.dump([MoveSegments, NextDataPoint],file)\n",
    "file.close()"
   ]
  }
 ],
 "metadata": {
  "kernelspec": {
   "display_name": "torchmpi",
   "language": "python",
   "name": "torchmpi"
  },
  "language_info": {
   "codemirror_mode": {
    "name": "ipython",
    "version": 3
   },
   "file_extension": ".py",
   "mimetype": "text/x-python",
   "name": "python",
   "nbconvert_exporter": "python",
   "pygments_lexer": "ipython3",
   "version": "3.11.4"
  }
 },
 "nbformat": 4,
 "nbformat_minor": 5
}
