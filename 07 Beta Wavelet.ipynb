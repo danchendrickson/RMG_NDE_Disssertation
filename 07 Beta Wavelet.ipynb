{
 "cells": [
  {
   "cell_type": "code",
   "execution_count": 69,
   "metadata": {},
   "outputs": [],
   "source": [
    "#Standard Header used on the projects\n",
    "\n",
    "#first the major packages used for math and graphing\n",
    "import numpy as np\n",
    "import matplotlib.pyplot as plt\n",
    "from cycler import cycler\n",
    "import scipy.special as sp\n",
    "import scipy.stats as st\n",
    "import pandas as pd\n",
    "\n",
    "#Custome graph format style sheet\n",
    "#plt.style.use('Prospectus.mplstyle')\n",
    "\n",
    "#If being run by a seperate file, use the seperate file's graph format and saving paramaeters\n",
    "#otherwise set what is needed\n",
    "if not 'Saving' in locals():\n",
    "    Saving = True\n",
    "if not 'Titles' in locals():\n",
    "    Titles = True\n",
    "if not 'Ledgends' in locals():\n",
    "    Ledgends = True\n",
    "if not 'FFormat' in locals():\n",
    "    FFormat = '.png'\n",
    "\n",
    "Computer = \"SciClone\"   # \"SciClone\"    \"WinLap\"  \"LinLap\"   \"Desktop\"  \"PortLap\"\n",
    "\n",
    "#Standard cycle for collors and line styles\n",
    "default_cycler = (cycler('color', ['0.00', '0.40', '0.60', '0.70']) + cycler(linestyle=['-', '--', ':', '-.']))\n",
    "plt.rc('axes', prop_cycle=default_cycler)\n",
    "my_cmap = plt.get_cmap('gray')\n",
    "PlotWidthIn = 11\n",
    "PlotHeightIn = 3.75\n",
    "PlotDPI = 120"
   ]
  },
  {
   "cell_type": "code",
   "execution_count": 70,
   "metadata": {},
   "outputs": [],
   "source": [
    "#Extra Headers:\n",
    "import os as os\n",
    "#import statistics as st\n",
    "import pandas as pd\n",
    "import random\n",
    "import multiprocessing\n",
    "from joblib import Parallel, delayed\n",
    "import time\n",
    "import math\n",
    "\n",
    "import pywt\n",
    "from pywt._extensions._pywt import (DiscreteContinuousWavelet, ContinuousWavelet,\n",
    "                                Wavelet, _check_dtype)\n",
    "from pywt._functions import integrate_wavelet, scale2frequency \n",
    "from scipy.optimize import curve_fit\n"
   ]
  },
  {
   "cell_type": "code",
   "execution_count": 71,
   "metadata": {},
   "outputs": [],
   "source": [
    "if Computer == \"SciClone\":\n",
    "    location = '/sciclone/home20/dchendrickson01/image/'\n",
    "elif Computer == \"WinLap\":\n",
    "    location = 'C:\\\\Data\\\\'\n",
    "elif Computer == \"Desktop\":\n",
    "    location = \"E:\\\\Backups\\\\Dan\\\\CraneData\\\\\"\n",
    "elif Computer == \"LinLap\":\n",
    "    location = '/home/dan/Output/'\n",
    "elif Computer == 'PortLap':\n",
    "    location = 'C:\\\\users\\\\dhendrickson\\\\Desktop\\\\AccelData\\\\'\n",
    "    \n",
    "\n",
    "if Computer ==  \"SciClone\":\n",
    "    rootfolder = '/sciclone/home20/dchendrickson01/'\n",
    "    folder = '/sciclone/data10/dchendrickson01/SmallCopy/'\n",
    "elif Computer == \"Desktop\":\n",
    "    rootfolder = location\n",
    "    folder = rootfolder + \"SmallCopy\\\\\"\n",
    "elif Computer ==\"WinLap\":\n",
    "    rootfolder = location\n",
    "    folder = rootfolder + \"SmallCopy\\\\\"   \n",
    "elif Computer == \"LinLap\":\n",
    "    rootfolder = '/home/dan/Data/'\n",
    "    folder = rootfolder + 'SmallCopy/'\n",
    "elif Computer =='PortLap':\n",
    "    rootfolder = location \n",
    "    folder = rootfolder + 'SmallCopy\\\\'"
   ]
  },
  {
   "cell_type": "code",
   "execution_count": 113,
   "metadata": {},
   "outputs": [],
   "source": [
    "beta_a = 2\n",
    "beta_b = 5\n",
    "beta_cycles = 4\n",
    "beta_sineCosine = 1\n",
    "\n",
    "\n",
    "def BetaWavelet(sizes, a = beta_a, b = beta_b, cycle = beta_cycles, sineCosine = beta_sineCosine):\n",
    "    beta = np.zeros(sizes)\n",
    "    beWave = np.zeros(sizes)\n",
    "    x = np.zeros(sizes)\n",
    "    for i in range(sizes):\n",
    "        j = i / sizes\n",
    "        beta[i] = st.beta.pdf(j,a,b)\n",
    "        if sineCosine ==1:\n",
    "            beWave[i] = beta[i] * math.sin(j*math.pi*cycle)\n",
    "        else:\n",
    "            beWave[i] = beta[i] * math.cos(j*math.pi*cycle)\n",
    "        x[i]=j\n",
    "\n",
    "    beWav2 = beWave[::-1]\n",
    "    return beWav2, x"
   ]
  },
  {
   "cell_type": "code",
   "execution_count": 98,
   "metadata": {},
   "outputs": [],
   "source": [
    "def cwt_fixed(data, scales, wavelet, scalespace =1, sampling_period=1.):\n",
    "    \"\"\"\n",
    "    COPIED AND FIXED FROM pywt.cwt TO BE ABLE TO USE WAVELET FAMILIES SUCH\n",
    "    AS COIF AND DB\n",
    "\n",
    "    COPIED From Spenser Kirn\n",
    "    \n",
    "    All wavelet work except bior family, rbio family, haar, and db1.\n",
    "    \n",
    "    cwt(data, scales, wavelet)\n",
    "\n",
    "    One dimensional Continuous Wavelet Transform.\n",
    "\n",
    "    Parameters\n",
    "    ----------\n",
    "    data : array_like\n",
    "        Input signal\n",
    "    scales : array_like\n",
    "        scales to use\n",
    "    wavelet : Wavelet object or name\n",
    "        Wavelet to use\n",
    "    sampling_period : float\n",
    "        Sampling period for frequencies output (optional)\n",
    "\n",
    "    Returns\n",
    "    -------\n",
    "    coefs : array_like\n",
    "        Continous wavelet transform of the input signal for the given scales\n",
    "        and wavelet\n",
    "    frequencies : array_like\n",
    "        if the unit of sampling period are seconds and given, than frequencies\n",
    "        are in hertz. Otherwise Sampling period of 1 is assumed.\n",
    "\n",
    "    Notes\n",
    "    -----\n",
    "    Size of coefficients arrays depends on the length of the input array and\n",
    "    the length of given scales.\n",
    "\n",
    "    Examples\n",
    "    --------\n",
    "    >>> import pywt\n",
    "    >>> import numpy as np\n",
    "    >>> import matplotlib.pyplot as plt\n",
    "    >>> x = np.arange(512)\n",
    "    >>> y = np.sin(2*np.pi*x/32)\n",
    "    >>> coef, freqs=pywt.cwt(y,np.arange(1,129),'gaus1')\n",
    "    >>> plt.matshow(coef) # doctest: +SKIP\n",
    "    >>> plt.show() # doctest: +SKIP\n",
    "    ----------\n",
    "    >>> import pywt\n",
    "    >>> import numpy as np\n",
    "    >>> import matplotlib.pyplot as plt\n",
    "    >>> t = np.linspace(-1, 1, 200, endpoint=False)\n",
    "    >>> sig  = np.cos(2 * np.pi * 7 * t) + np.real(np.exp(-7*(t-0.4)**2)*np.exp(1j*2*np.pi*2*(t-0.4)))\n",
    "    >>> widths = np.arange(1, 31)\n",
    "    >>> cwtmatr, freqs = pywt.cwt(sig, widths, 'mexh')\n",
    "    >>> plt.imshow(cwtmatr, extent=[-1, 1, 1, 31], cmap='PRGn', aspect='auto',\n",
    "    ...            vmax=abs(cwtmatr).max(), vmin=-abs(cwtmatr).max())  # doctest: +SKIP\n",
    "    >>> plt.show() # doctest: +SKIP\n",
    "    \"\"\"\n",
    "    \n",
    "    #scales = get_primelist(10000)\n",
    "    \n",
    "    # accept array_like input; make a copy to ensure a contiguous array\n",
    "    dt = _check_dtype(data)\n",
    "    data = np.array(data, dtype=dt)\n",
    "    if wavelet == 'beta':\n",
    "        pass\n",
    "    else:\n",
    "        if not isinstance(wavelet, (ContinuousWavelet, Wavelet)):\n",
    "            wavelet = DiscreteContinuousWavelet(wavelet)\n",
    "    if np.isscalar(scales):\n",
    "        scales = np.r_[1:scales+1] * scalespace\n",
    "    if data.ndim == 1:\n",
    "        try:\n",
    "            if wavelet.complex_cwt:\n",
    "                out = np.zeros((np.size(scales), data.size), dtype=complex)\n",
    "            else:\n",
    "                out = np.zeros((np.size(scales), data.size))\n",
    "        except AttributeError:\n",
    "            out = np.zeros((np.size(scales), data.size))\n",
    "        precision = 10\n",
    "        if wavelet == 'beta':\n",
    "            int_psi, x = BetaWavelet(10000, 2,  5, 3, 2)\n",
    "        else:    \n",
    "            int_psi, x = integrate_wavelet(wavelet, precision=precision)\n",
    "        step = x[1] - x[0]\n",
    "        for i in np.arange(np.size(scales)):\n",
    "            j = np.floor(\n",
    "                np.arange(scales[i] * (x[-1] - x[0]) + 1) / (scales[i] * step))\n",
    "            if np.max(j) >= np.size(int_psi):\n",
    "                j = np.delete(j, np.where((j >= np.size(int_psi)))[0])\n",
    "            coef = - np.sqrt(scales[i]) * np.diff(np.convolve(data, int_psi[j.astype(int)][::-1]))\n",
    "            d = (coef.size - data.size) / 2.\n",
    "            out[i, :] = coef[int(np.floor(d)):int(-np.ceil(d))]\n",
    "        #frequencies = scale2frequency(wavelet, scales, precision)\n",
    "        #if np.isscalar(frequencies):\n",
    "        #    frequencies = np.array([frequencies])\n",
    "        #for i in np.arange(len(frequencies)):\n",
    "        #    frequencies[i] /= sampling_period\n",
    "        return out\n",
    "    else:\n",
    "        raise ValueError(\"Only dim == 1 supported\")\n"
   ]
  },
  {
   "cell_type": "code",
   "execution_count": 89,
   "metadata": {},
   "outputs": [],
   "source": [
    "WaveletToUse = 'gaus2'\n",
    "#scales = np.linspace(0,2000,1001, dtype=int)\n",
    "scales = 500\n",
    "spacer = 10\n",
    "    \n",
    "\n",
    "\n",
    "def getThumbprint(data, wvt=WaveletToUse, ns=scales, scalespace = spacer, numslices=5, slicethickness=0.12, \n",
    "                  valleysorpeaks='both', normconstant=1, plot=False):\n",
    "    '''\n",
    "    Updated version of the DWFT function above that allows plotting of just\n",
    "    valleys or just peaks or both. To plot just valleys set valleysorpeaks='valleys'\n",
    "    to plot just peaks set valleysorpeaks='peaks' or 'both' to plot both.\n",
    "    '''\n",
    "    # First take the wavelet transform and then normalize to one\n",
    "    if np.shape(data)[0] == 2:\n",
    "        wvt = data[1]\n",
    "        data = data[0]\n",
    "    \n",
    "    #try:\n",
    "    cfX = cwt_fixed(data, ns, wvt,scalespace)\n",
    "    cfX = np.true_divide(cfX, abs(cfX).max()*normconstant)\n",
    "\n",
    "    ns = np.shape(cfX)[0]\n",
    "\n",
    "    fp = np.zeros((len(data), ns), dtype=int)\n",
    "\n",
    "    # Create the list of locations between -1 and 1 to preform slices. Valley\n",
    "    # slices will all be below 0 and peak slices will all be above 0.\n",
    "    if valleysorpeaks == 'both':\n",
    "        slicelocations1 = np.arange(-1 ,0.0/numslices, 1.0/numslices)\n",
    "        slicelocations2 = np.arange(1.0/numslices, 1+1.0/numslices, 1.0/numslices)\n",
    "        slicelocations = np.array(np.append(slicelocations1,slicelocations2))\n",
    "\n",
    "    if valleysorpeaks == 'peaks':\n",
    "        slicelocations = np.arange(1.0/numslices, 1+1.0/numslices, 1.0/numslices)\n",
    "\n",
    "    if valleysorpeaks == 'valleys':\n",
    "        slicelocations = np.arange(-1, 0.0/numslices, 1.0/numslices)\n",
    "\n",
    "    for loc in slicelocations:\n",
    "        for y in range(0, ns):\n",
    "            for x in range(0, len(data)):\n",
    "                if cfX[y, x]>=(loc-(slicethickness/2)) and cfX[y,x]<= (loc+(slicethickness/2)):\n",
    "                    fp[x,y] = 1\n",
    "\n",
    "    fp = np.transpose(fp[:,:ns])\n",
    "    #except:\n",
    "    #    fp = 'fail'\n",
    "    \n",
    "    return fp"
   ]
  },
  {
   "cell_type": "code",
   "execution_count": 116,
   "metadata": {},
   "outputs": [],
   "source": [
    "def RidgeCount(fingerprint):\n",
    "    '''\n",
    "    Count the number of times the fingerprint changes from 0 to 1 or 1 to 0 in \n",
    "    consective rows. Gives a vector representation of the DWFT\n",
    "    '''\n",
    "    diff = np.zeros((fingerprint.shape))\n",
    "    \n",
    "    for i, row in enumerate(fingerprint):\n",
    "        if i==0:\n",
    "            prev = row\n",
    "        else:\n",
    "            # First row (i=0) of diff will always be 0s because it does not\n",
    "            # matter what values are present. \n",
    "            # First find where the rows differ\n",
    "            diff_vec = abs(row-prev)\n",
    "            # Then set those differences to 1 to be added later\n",
    "            diff_vec[diff_vec != 0] = 1\n",
    "            diff[i, :] = diff_vec\n",
    "            \n",
    "            prev = row\n",
    "            \n",
    "    ridgeCount = diff.sum(axis=0)\n",
    "    \n",
    "    return ridgeCount"
   ]
  },
  {
   "cell_type": "code",
   "execution_count": 86,
   "metadata": {},
   "outputs": [],
   "source": [
    "def PlotFingerPrint(Input):\n",
    "    \n",
    "    #FpScat=fp.getLabeledThumbprint(data, FP,scales,slices)\n",
    "    #print(np.shape(data)[1], scales)\n",
    "\n",
    "    \n",
    "    data = Input[0]\n",
    "    title = Input[1]\n",
    "    \n",
    "    scales = np.shape(data)[0]\n",
    "    trim=0\n",
    "    slices = 3\n",
    "    Show = False\n",
    "    \n",
    "    xName = np.arange(0,np.shape(data)[1]-2*trim,1)\n",
    "    \n",
    "    if trim == 0:\n",
    "        Al,Ms  = np.meshgrid(xName,np.linspace(1,scales,scales))\n",
    "    else:\n",
    "        Al,Ms  = np.meshgrid(xName,np.linspace(1,scales,scales))\n",
    "\n",
    "    \n",
    "\n",
    "    fig1 = plt.figure(figsize=(PlotWidthIn,PlotHeightIn),dpi=PlotDPI)\n",
    "    ax1 = plt.axes()\n",
    "    if trim == 0:\n",
    "        cs1 = ax1.contourf(Al,Ms, data[:,:],cmap=my_cmap,levels=slices)\n",
    "    else:\n",
    "        cs1 = ax1.contourf(Al,Ms, data[:,trim:-trim],cmap=my_cmap,levels=slices)\n",
    "\n",
    "    if Titles: plt.title(title)\n",
    "    if Saving: plt.savefig(location+title.replace(\" \", \"\").replace(\":\", \"\").replace(\",\", \"\").replace(\".txt\",\"\")+FFormat)\n",
    "\n",
    "    if Show: plt.show()\n",
    "    else: plt.close(fig)\n",
    "        \n",
    "    return 1"
   ]
  },
  {
   "cell_type": "code",
   "execution_count": 76,
   "metadata": {},
   "outputs": [],
   "source": [
    "def getAcceleration(FileName):\n",
    "    \n",
    "        DataSet = np.genfromtxt(open(FileName,'r'), delimiter=',',skip_header=0)\n",
    "        JustFileName = FileName.rsplit('/', 1)[-1]\n",
    "        if FileName[-20:-16] == 'Gyro':\n",
    "            return [False,FileName,False]\n",
    "        else:\n",
    "            if FileName[-6:-5] == 's':\n",
    "                FileDate = FileName[-18:-7]\n",
    "                sensor = FileName[-5:-4]\n",
    "            elif FileName[-21:-16] == 'Accel':\n",
    "                FileDate = FileName[-15:-4]\n",
    "                sensor = 1\n",
    "            else:\n",
    "                FileDate = FileName[-20:-4]\n",
    "                sensor = 1\n",
    "            return [[FileDate, 'x',DataSet[:,2], sensor,JustFileName],[FileDate,'y',DataSet[:,3],sensor,JustFileName],[FileDate,'z',DataSet[:,4],sensor,JustFileName]]\n",
    "\n",
    "def KalmanFilterDenoise(data, rate=1):\n",
    "\n",
    "    #https://jamwheeler.com/college-productivity/how-to-denoise-a-1-d-signal-with-a-kalman-filter-with-python/\n",
    "    #\n",
    "\n",
    "    def oavar(data, rate, numpoints=30):\n",
    "\n",
    "        x = np.cumsum(data)\n",
    "\n",
    "        max_ratio = 1/9\n",
    "        num_points = 30\n",
    "        ms = np.unique(\n",
    "            np.logspace(0, np.log10(len(x) * max_ratio), numpoints\n",
    "           ).astype(int))        \n",
    "\n",
    "        oavars = np.empty(len(ms))\n",
    "        for i, m in enumerate(ms):\n",
    "            oavars[i] = (\n",
    "                (x[2*m:] - 2*x[m:-m] + x[:-2*m])**2\n",
    "            ).mean() / (2*m**2)\n",
    "\n",
    "        return ms / rate, oavars\n",
    "\n",
    "    def ln_NKfit(ln_tau, ln_N, ln_K):\n",
    "        tau = np.exp(ln_tau)\n",
    "        N, K = np.exp([ln_N, ln_K])\n",
    "        oadev = N**2 / tau + K**2 * (tau/3)\n",
    "        return np.log(oadev)\n",
    "\n",
    "    def get_NK(data, rate):\n",
    "        taus, oavars = oavar(data, rate)\n",
    "\n",
    "        ln_params, ln_varmatrix = (\n",
    "            curve_fit(ln_NKfit, np.log(taus), np.log(oavars))\n",
    "        )\n",
    "        return np.exp(ln_params)    \n",
    "\n",
    "    # Initialize state and uncertainty\n",
    "    state = data[0]\n",
    "    output = np.empty(len(data))\n",
    "\n",
    "    #rate = 1 # We can set this to 1, if we're calculating N, K internally\n",
    "    # N and K will just be scaled relative to the sampling rate internally\n",
    "    dt = 1/rate\n",
    "\n",
    "    N, K = get_NK(data, rate)\n",
    "\n",
    "    process_noise = K**2 * dt\n",
    "    measurement_noise = N**2 / dt\n",
    "\n",
    "    covariance = measurement_noise\n",
    "\n",
    "    for index, measurement in enumerate(data):\n",
    "        # 1. Predict state using system's model\n",
    "\n",
    "        covariance += process_noise\n",
    "\n",
    "        # Update\n",
    "        kalman_gain = covariance / (covariance + measurement_noise)\n",
    "\n",
    "        state += kalman_gain * (measurement - state)\n",
    "        covariance = (1 - kalman_gain) * covariance\n",
    "\n",
    "        output[index] = state\n",
    "\n",
    "    return output"
   ]
  },
  {
   "cell_type": "code",
   "execution_count": 133,
   "metadata": {},
   "outputs": [],
   "source": [
    "file = '60kPoints-220111-1554-s2.csv'\n",
    "file = '60kPoints-210916-0418-s1.csv'\n",
    "file = '60kPoints-211116-0418-s1.csv'"
   ]
  },
  {
   "cell_type": "code",
   "execution_count": 134,
   "metadata": {},
   "outputs": [],
   "source": [
    "Accels = getAcceleration(folder+file)"
   ]
  },
  {
   "cell_type": "code",
   "execution_count": 135,
   "metadata": {},
   "outputs": [],
   "source": [
    "AllAccels = [Accels, Accels]"
   ]
  },
  {
   "cell_type": "code",
   "execution_count": 136,
   "metadata": {},
   "outputs": [
    {
     "name": "stderr",
     "output_type": "stream",
     "text": [
      "/sciclone/home20/dchendrickson01/.conda/envs/testenv2/lib/python3.7/site-packages/numpy/core/_asarray.py:83: VisibleDeprecationWarning: Creating an ndarray from ragged nested sequences (which is a list-or-tuple of lists-or-tuples-or ndarrays with different lengths or shapes) is deprecated. If you meant to do this, you must specify 'dtype=object' when creating the ndarray\n",
      "  return array(a, dtype, copy=False, order=order)\n"
     ]
    }
   ],
   "source": [
    "MetaData = []  #np.asarray([],dtype=object)\n",
    "DataOnlyMatrix = np.asarray([],dtype=object)\n",
    "for j in range(np.shape(AllAccels)[0]):\n",
    "    if AllAccels[j][0] == False :\n",
    "        if AllAccels[j][1][4:9] =='Accel':\n",
    "            print(j,AllAccels[j][1])\n",
    "    else: \n",
    "        for k in range(3):\n",
    "            MetaData.append([AllAccels[j][k][0], AllAccels[j][k][1], AllAccels[j][k][3], AllAccels[j][k][4]])\n",
    "            if np.size(DataOnlyMatrix) == 0:\n",
    "                    DataOnlyMatrix =np.matrix(AllAccels[j][k][2])\n",
    "            else:\n",
    "                    DataOnlyMatrix = np.concatenate((DataOnlyMatrix,np.matrix(AllAccels[j][k][2])),axis=0)\n",
    "\n",
    "MetaData = np.matrix(MetaData)"
   ]
  },
  {
   "cell_type": "code",
   "execution_count": 137,
   "metadata": {},
   "outputs": [],
   "source": [
    "num_cores = 30\n",
    "waveKalmaned = np.asarray([],dtype=object)\n",
    "waveKalmaned = Parallel(n_jobs=num_cores)(delayed(KalmanFilterDenoise)(np.asarray(data).flatten()) for data in DataOnlyMatrix)\n",
    "waveKalmaned = np.matrix(waveKalmaned)\n"
   ]
  },
  {
   "cell_type": "code",
   "execution_count": 138,
   "metadata": {},
   "outputs": [],
   "source": [
    "length = np.shape(waveKalmaned)[0]\n",
    "justifier = np.ones((length, np.shape(waveKalmaned)[1]))\n",
    "average = np.zeros(length)\n",
    "for i in range(length):\n",
    "    average[i]= np.average(waveKalmaned[i][:])\n",
    "justifier = justifier.T * average.T\n",
    "waveKalmaned = waveKalmaned - justifier.T"
   ]
  },
  {
   "cell_type": "code",
   "execution_count": 139,
   "metadata": {},
   "outputs": [
    {
     "name": "stdout",
     "output_type": "stream",
     "text": [
      "0\n",
      "3\n"
     ]
    }
   ],
   "source": [
    "maxes = np.amax(waveKalmaned[:,500:], axis = 1)\n",
    "mins = np.amin(waveKalmaned[:,500:], axis = 1)\n",
    "\n",
    "Keep = np.zeros(mins.size)\n",
    "for i in range(mins.size):\n",
    "    if i % 3 == 0:\n",
    "        if maxes[i] > 0.01 and mins[i] < -0.01:\n",
    "            Keep[i]=1\n",
    "            #Keep[i+1]=1\n",
    "            #Keep[i+2]=1\n",
    "            print(i)\n",
    "            \n",
    "\n",
    "Keep = np.array(Keep, dtype='bool')\n",
    "            \n",
    "waveKalmaned = waveKalmaned[Keep,:]\n",
    "MetaData = MetaData[Keep,:]"
   ]
  },
  {
   "cell_type": "code",
   "execution_count": 140,
   "metadata": {},
   "outputs": [],
   "source": [
    "data = waveKalmaned[0]\n",
    "wavelet = 'beta'\n",
    "scales = 300\n",
    "scalespace = 5"
   ]
  },
  {
   "cell_type": "code",
   "execution_count": 141,
   "metadata": {},
   "outputs": [],
   "source": [
    "test = getThumbprint(np.asarray(data).flatten(), wavelet)"
   ]
  },
  {
   "cell_type": "code",
   "execution_count": 142,
   "metadata": {},
   "outputs": [
    {
     "data": {
      "image/png": "[encoded data removed]",
      "text/plain": [
       "<Figure size 1320x450 with 1 Axes>"
      ]
     },
     "metadata": {
      "needs_background": "light"
     },
     "output_type": "display_data"
    }
   ],
   "source": [
    "a = PlotFingerPrint([test, 'first try at beta'])"
   ]
  },
  {
   "cell_type": "code",
   "execution_count": 143,
   "metadata": {},
   "outputs": [
    {
     "data": {
      "image/png": "[encoded data removed]",
      "text/plain": [
       "<Figure size 1320x450 with 1 Axes>"
      ]
     },
     "metadata": {
      "needs_background": "light"
     },
     "output_type": "display_data"
    }
   ],
   "source": [
    "fig=plt.figure(figsize=(PlotWidthIn,PlotHeightIn),dpi=PlotDPI)\n",
    "y =BetaWavelet(10000, 2,  5, 3, 2)[0]\n",
    "plt.plot(y, label = 'Beta Wavelet')\n",
    "plt.show()\n",
    "#BetaWavelet(sizes, a = 2, b = 5, cycle = 4)"
   ]
  },
  {
   "cell_type": "code",
   "execution_count": 144,
   "metadata": {},
   "outputs": [],
   "source": [
    "Ridges = RidgeCount(test)"
   ]
  },
  {
   "cell_type": "code",
   "execution_count": 145,
   "metadata": {},
   "outputs": [
    {
     "data": {
      "image/png": "[encoded data removed]",
      "text/plain": [
       "<Figure size 1320x450 with 1 Axes>"
      ]
     },
     "metadata": {
      "needs_background": "light"
     },
     "output_type": "display_data"
    }
   ],
   "source": [
    "fig=plt.figure(figsize=(PlotWidthIn,PlotHeightIn),dpi=PlotDPI)\n",
    "plt.plot(Ridges, label = 'Beta Wavelet Derived Ridgecount')\n",
    "plt.show()"
   ]
  },
  {
   "cell_type": "code",
   "execution_count": null,
   "metadata": {},
   "outputs": [],
   "source": []
  }
 ],
 "metadata": {
  "kernelspec": {
   "display_name": "testenv2",
   "language": "python",
   "name": "testenv2"
  },
  "language_info": {
   "codemirror_mode": {
    "name": "ipython",
    "version": 3
   },
   "file_extension": ".py",
   "mimetype": "text/x-python",
   "name": "python",
   "nbconvert_exporter": "python",
   "pygments_lexer": "ipython3",
   "version": "3.7.12"
  }
 },
 "nbformat": 4,
 "nbformat_minor": 4
}
