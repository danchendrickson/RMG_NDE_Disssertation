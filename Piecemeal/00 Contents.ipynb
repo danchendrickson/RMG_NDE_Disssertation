{
 "cells": [
  {
   "cell_type": "markdown",
   "metadata": {},
   "source": [
    "## Plan\n",
    "Have files here that can create data in each data type, save or run directly.  Sepereate it into sepreate py classes.\n",
    "\n",
    "\n",
    "1. Choose Random set from Repository\n",
    "1. Parse Name to get accepted output vector\n",
    "* Data Prep:\n",
    "* Try un smoothed\n",
    "* Try smoothed with rolling average\n",
    "* Make fingerprints by dimmension\n",
    "* Make fingerprints by r\n",
    "* try smooth with kalman\n",
    "    \n",
    "    * Model TypesVideo and Image\n",
    "      * Video:\n",
    "        * Rolling, 3x100, 3x changing frame sizes\n",
    "        * overlapping segments, 3x?? hoping down line\n",
    "        * rolling fingerprints\n",
    "          * Try many fingerprints\n",
    "          * look at Beta, and classification as it is going\n",
    "      * Image:\n",
    "        * Fingerprint\n",
    "        * 4 x 60k image\n"
   ]
  }
 ],
 "metadata": {
  "language_info": {
   "name": "python"
  },
  "orig_nbformat": 4
 },
 "nbformat": 4,
 "nbformat_minor": 2
}
