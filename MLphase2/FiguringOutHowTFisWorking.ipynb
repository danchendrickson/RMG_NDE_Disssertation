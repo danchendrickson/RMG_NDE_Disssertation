{
 "cells": [
  {
   "cell_type": "code",
   "execution_count": 1,
   "id": "c31a62d4",
   "metadata": {},
   "outputs": [
    {
     "name": "stdout",
     "output_type": "stream",
     "text": [
      "CPU times: user 4.84 s, sys: 2.78 s, total: 7.62 s\n",
      "Wall time: 5.5 s\n"
     ]
    }
   ],
   "source": [
    "%%time\n",
    "#Standard Header used on the projects\n",
    "\n",
    "#first the major packages used for math and graphing\n",
    "import numpy as np\n",
    "import matplotlib.pyplot as plt\n",
    "from cycler import cycler\n",
    "import scipy.special as sp\n",
    "\n",
    "#Custome graph format style sheet\n",
    "#plt.style.use('Prospectus.mplstyle')\n",
    "\n",
    "#If being run by a seperate file, use the seperate file's graph format and saving paramaeters\n",
    "#otherwise set what is needed\n",
    "if not 'Saving' in locals():\n",
    "    Saving = False\n",
    "if not 'Titles' in locals():\n",
    "    Titles = True\n",
    "if not 'Ledgends' in locals():\n",
    "    Ledgends = True\n",
    "if not 'FFormat' in locals():\n",
    "    FFormat = '.png'\n",
    "\n",
    "#Standard cycle to make black and white images and dashed and line styles\n",
    "default_cycler = (cycler('color', ['0.00', '0.40', '0.60', '0.70']) + cycler(linestyle=['-', '-', '-', '-']))\n",
    "plt.rc('axes', prop_cycle=default_cycler)\n",
    "my_cmap = plt.get_cmap('gray')\n",
    "\n",
    "#Extra Headers:\n",
    "import os as os\n",
    "import pywt as py\n",
    "import statistics as st\n",
    "import os as os\n",
    "import random\n",
    "import multiprocessing\n",
    "from joblib import Parallel, delayed\n",
    "import platform\n",
    "import random\n",
    "\n",
    "\n",
    "from time import time as ti\n",
    "\n",
    "import CoreFunctions as cf\n",
    "#from skimage.restoration import denoise_wavelet\n",
    "\n",
    "import os\n",
    "import pickle\n",
    "\n",
    "# currently running pid 4010813\n",
    "\n",
    "HostName = platform.node()\n",
    "\n",
    "if HostName == \"Server\":\n",
    "    Computer = \"Desktop\"   \n",
    "elif HostName[-6:] == 'wm.edu':\n",
    "    Computer = \"SciClone\"\n",
    "elif HostName == \"SchoolLaptop\":\n",
    "    Computer = \"LinLap\"\n",
    "elif HostName == \"WTC-TAB-512\":\n",
    "    Computer = \"PortLap\"\n",
    "else:\n",
    "    Computer = \"WinLap\"\n",
    "\n",
    "if Computer == \"SciClone\":\n",
    "    location = '/sciclone/home20/dchendrickson01/image/'\n",
    "elif Computer == \"WinLap\":\n",
    "    location = 'C:\\\\Data\\\\'\n",
    "elif Computer == \"Desktop\":\n",
    "    location = \"E:\\\\Backups\\\\Dan\\\\CraneData\\\\\"\n",
    "elif Computer == \"LinLap\":\n",
    "    location = '/home/dan/Output/'\n",
    "elif Computer == 'PortLap':\n",
    "    location = 'C:\\\\users\\\\dhendrickson\\\\Desktop\\\\AccelData\\\\'\n",
    "\n",
    "if Computer ==  \"SciClone\":\n",
    "    rootfolder = '/sciclone/home20/dchendrickson01/'\n",
    "    folder = '/scratch/RecordingsSplit/xFold/'\n",
    "    #folder = '/sciclone/scr10/dchendrickson01/RecordingsSplit/xFold/'\n",
    "elif Computer == \"Desktop\":\n",
    "    rootfolder = location\n",
    "    folder = rootfolder + \"Recordings2\\\\\"\n",
    "elif Computer ==\"WinLap\":\n",
    "    rootfolder = location\n",
    "    folder = rootfolder + \"Recordings2\\\\\"   \n",
    "elif Computer == \"LinLap\":\n",
    "    rootfolder = '/home/dan/Data/'\n",
    "    folder = rootfolder + 'Recordings2/'\n",
    "elif Computer =='PortLap':\n",
    "    rootfolder = location \n",
    "    folder = rootfolder + 'Recordings2\\\\'\n",
    "\n",
    "def Openfile(file):\n",
    "    try:\n",
    "        ff = open(folder+file,'rb')\n",
    "        dump = pickle.load(ff)\n",
    "    \n",
    "        return dump[0], dump[1]\n",
    "    except:\n",
    "        print(\"bad file \",file)"
   ]
  },
  {
   "cell_type": "code",
   "execution_count": 2,
   "id": "e95fb8ca",
   "metadata": {},
   "outputs": [
    {
     "name": "stdout",
     "output_type": "stream",
     "text": [
      "CPU times: user 13 μs, sys: 0 ns, total: 13 μs\n",
      "Wall time: 21.5 μs\n"
     ]
    }
   ],
   "source": [
    "%%time\n",
    "location = folder\n",
    "Titles = True\n",
    "Ledgends = True\n",
    "\n",
    "FileBatch = 20000\n",
    "\n",
    "TimeSteps = 750\n",
    "PredictSize = 25\n",
    "Features = 3\n",
    "\n",
    "MiddleLayerSize = 100\n",
    "CompressedVectorSize = 20\n",
    "\n",
    "Batches = 2\n",
    "\n",
    "num_cores = 30\n",
    "num_gpus = 1"
   ]
  },
  {
   "cell_type": "code",
   "execution_count": 3,
   "id": "1fb8d839-32eb-450b-af6a-971d9037f8f4",
   "metadata": {},
   "outputs": [],
   "source": [
    "from sys import getsizeof"
   ]
  },
  {
   "cell_type": "code",
   "execution_count": 4,
   "id": "9c624220",
   "metadata": {},
   "outputs": [
    {
     "name": "stderr",
     "output_type": "stream",
     "text": [
      "2024-07-02 09:33:43.142487: I tensorflow/core/util/port.cc:113] oneDNN custom operations are on. You may see slightly different numerical results due to floating-point round-off errors from different computation orders. To turn them off, set the environment variable `TF_ENABLE_ONEDNN_OPTS=0`.\n",
      "2024-07-02 09:33:43.202522: I tensorflow/core/platform/cpu_feature_guard.cc:210] This TensorFlow binary is optimized to use available CPU instructions in performance-critical operations.\n",
      "To enable the following instructions: AVX2 AVX512F AVX512_VNNI FMA, in other operations, rebuild TensorFlow with the appropriate compiler flags.\n"
     ]
    },
    {
     "name": "stdout",
     "output_type": "stream",
     "text": [
      "CPU times: user 1.72 s, sys: 1.66 s, total: 3.38 s\n",
      "Wall time: 4.54 s\n"
     ]
    }
   ],
   "source": [
    "%%time\n",
    "from sklearn.model_selection import train_test_split\n",
    "from keras.layers import LSTM, Dense, RepeatVector, TimeDistributed, Masking, Lambda, Input\n",
    "from keras.models import Sequential\n",
    "import tensorflow as tf\n",
    "\n",
    "class LSTM_Autoencoder:\n",
    "  def __init__(self, optimizer='adam', loss='mse'):\n",
    "    self.optimizer = optimizer\n",
    "    self.loss = loss\n",
    "    self.n_features = Features\n",
    "    self.timesteps = TimeSteps\n",
    "    \n",
    "  def build_model(self):\n",
    "    timesteps = self.timesteps\n",
    "    n_features = self.n_features\n",
    "    model = Sequential()\n",
    "    \n",
    "    # Padding\n",
    "    #model.add(Masking(mask_value=0.0, input_shape=(timesteps, n_features)))\n",
    "\n",
    "    # Encoder\n",
    "    model.add(Input(shape=(TimeSteps, Features)))\n",
    "    model.add(LSTM(timesteps, activation='relu', return_sequences=True))\n",
    "    model.add(LSTM(MiddleLayerSize, activation='relu', return_sequences=True))\n",
    "    model.add(LSTM(CompressedVectorSize, activation='relu'))\n",
    "    model.add(RepeatVector(timesteps))\n",
    "    \n",
    "    # Decoder\n",
    "    model.add(LSTM(timesteps, activation='relu', return_sequences=True))\n",
    "    model.add(LSTM(MiddleLayerSize, activation='relu', return_sequences=True))\n",
    "    model.add(TimeDistributed(Dense(n_features)))\n",
    "    \n",
    "    model.compile(optimizer=self.optimizer, loss=self.loss, metrics=['accuracy'])\n",
    "    model.summary()\n",
    "    self.model = model\n",
    "    \n",
    "  def fit(self, X, epochs=3, batch_size=32):\n",
    "    #self.timesteps = np.shape(X)[0]\n",
    "    #self.build_model()\n",
    "    \n",
    "    #input_X = np.expand_dims(X, axis=1)\n",
    "    self.model.fit(X, X, epochs=epochs, batch_size=batch_size)\n",
    "    \n",
    "  def predict(self, X):\n",
    "    #input_X = np.expand_dims(X, axis=1)\n",
    "    output_X = self.model.predict(X)\n",
    "    reconstruction = np.squeeze(output_X)\n",
    "    return np.linalg.norm(X - reconstruction, axis=-1)\n",
    "  \n",
    "  def plot(self, scores, timeseries, threshold=0.95):\n",
    "    sorted_scores = sorted(scores)\n",
    "    threshold_score = sorted_scores[round(len(scores) * threshold)]\n",
    "    \n",
    "    plt.title(\"Reconstruction Error\")\n",
    "    plt.plot(scores)\n",
    "    plt.plot([threshold_score]*len(scores), c='r')\n",
    "    plt.show()\n",
    "    \n",
    "    anomalous = np.where(scores > threshold_score)\n",
    "    normal = np.where(scores <= threshold_score)\n",
    "    \n",
    "    plt.title(\"Anomalies\")\n",
    "    plt.scatter(normal, timeseries[normal][:,-1], s=3)\n",
    "    plt.scatter(anomalous, timeseries[anomalous][:,-1], s=5, c='r')\n",
    "    plt.show()"
   ]
  },
  {
   "cell_type": "code",
   "execution_count": 5,
   "id": "56db67b7-3fd4-4c10-a952-ae32c8567ab7",
   "metadata": {},
   "outputs": [
    {
     "name": "stdout",
     "output_type": "stream",
     "text": [
      "CPU times: user 46.9 ms, sys: 432 ms, total: 479 ms\n",
      "Wall time: 514 ms\n"
     ]
    },
    {
     "name": "stderr",
     "output_type": "stream",
     "text": [
      "2024-07-02 09:33:46.912433: I tensorflow/core/common_runtime/gpu/gpu_device.cc:1928] Created device /job:localhost/replica:0/task:0/device:GPU:0 with 22287 MB memory:  -> device: 0, name: NVIDIA A30, pci bus id: 0000:19:00.0, compute capability: 8.0\n"
     ]
    }
   ],
   "source": [
    "%%time\n",
    "lstm_autoencoder2 = LSTM_Autoencoder(optimizer='adam', loss='mse')\n",
    "\n",
    "from tensorflow.python.keras import backend as K\n",
    "config = tf.compat.v1.ConfigProto(intra_op_parallelism_threads=num_cores,\n",
    "                        inter_op_parallelism_threads=num_cores, \n",
    "                        allow_soft_placement=True,\n",
    "                        device_count = {'CPU' : num_cores,\n",
    "                                        'GPU' : num_gpus}\n",
    "                       )\n",
    "session = tf.compat.v1.Session(config=config)\n",
    "K.set_session(session)"
   ]
  },
  {
   "cell_type": "code",
   "execution_count": 6,
   "id": "a4c79f14-38db-4225-b4e8-59dda7c54bb9",
   "metadata": {},
   "outputs": [],
   "source": [
    "from tensorflow.keras.utils import Sequence\n",
    "\n",
    "class DataGenerator(Sequence):\n",
    "    def __init__(self, x_set, y_set, batch_size):\n",
    "        super().__init__(workers = num_cores, use_multiprocessing=True, max_queue_size=1)\n",
    "        self.x, self.y = x_set, y_set\n",
    "        self.batch_size = batch_size\n",
    "    def __len__(self):\n",
    "        return int(np.ceil(len(self.x) / float(self.batch_size)))\n",
    "\n",
    "    def __getitem__(self, idx):\n",
    "        batch_x = self.x[idx * self.batch_size:(idx + 1) * self.batch_size]\n",
    "        batch_y = self.y[idx * self.batch_size:(idx + 1) * self.batch_size]\n",
    "        return batch_x, batch_y"
   ]
  },
  {
   "cell_type": "code",
   "execution_count": 7,
   "id": "2c41f7e3-0864-49e8-a0df-6a43ba0d2442",
   "metadata": {},
   "outputs": [
    {
     "name": "stderr",
     "output_type": "stream",
     "text": [
      "2024-07-02 09:33:46.960413: I tensorflow/core/common_runtime/gpu/gpu_device.cc:1928] Created device /job:localhost/replica:0/task:0/device:GPU:0 with 22287 MB memory:  -> device: 0, name: NVIDIA A30, pci bus id: 0000:19:00.0, compute capability: 8.0\n"
     ]
    },
    {
     "data": {
      "text/html": [
       "<pre style=\"white-space:pre;overflow-x:auto;line-height:normal;font-family:Menlo,'DejaVu Sans Mono',consolas,'Courier New',monospace\"><span style=\"font-weight: bold\">Model: \"sequential\"</span>\n",
       "</pre>\n"
      ],
      "text/plain": [
       "\u001b[1mModel: \"sequential\"\u001b[0m\n"
      ]
     },
     "metadata": {},
     "output_type": "display_data"
    },
    {
     "data": {
      "text/html": [
       "<pre style=\"white-space:pre;overflow-x:auto;line-height:normal;font-family:Menlo,'DejaVu Sans Mono',consolas,'Courier New',monospace\">┏━━━━━━━━━━━━━━━━━━━━━━━━━━━━━━━━━┳━━━━━━━━━━━━━━━━━━━━━━━━┳━━━━━━━━━━━━━━━┓\n",
       "┃<span style=\"font-weight: bold\"> Layer (type)                    </span>┃<span style=\"font-weight: bold\"> Output Shape           </span>┃<span style=\"font-weight: bold\">       Param # </span>┃\n",
       "┡━━━━━━━━━━━━━━━━━━━━━━━━━━━━━━━━━╇━━━━━━━━━━━━━━━━━━━━━━━━╇━━━━━━━━━━━━━━━┩\n",
       "│ lstm (<span style=\"color: #0087ff; text-decoration-color: #0087ff\">LSTM</span>)                     │ (<span style=\"color: #00d7ff; text-decoration-color: #00d7ff\">None</span>, <span style=\"color: #00af00; text-decoration-color: #00af00\">750</span>, <span style=\"color: #00af00; text-decoration-color: #00af00\">750</span>)       │     <span style=\"color: #00af00; text-decoration-color: #00af00\">2,262,000</span> │\n",
       "├─────────────────────────────────┼────────────────────────┼───────────────┤\n",
       "│ lstm_1 (<span style=\"color: #0087ff; text-decoration-color: #0087ff\">LSTM</span>)                   │ (<span style=\"color: #00d7ff; text-decoration-color: #00d7ff\">None</span>, <span style=\"color: #00af00; text-decoration-color: #00af00\">750</span>, <span style=\"color: #00af00; text-decoration-color: #00af00\">100</span>)       │       <span style=\"color: #00af00; text-decoration-color: #00af00\">340,400</span> │\n",
       "├─────────────────────────────────┼────────────────────────┼───────────────┤\n",
       "│ lstm_2 (<span style=\"color: #0087ff; text-decoration-color: #0087ff\">LSTM</span>)                   │ (<span style=\"color: #00d7ff; text-decoration-color: #00d7ff\">None</span>, <span style=\"color: #00af00; text-decoration-color: #00af00\">20</span>)             │         <span style=\"color: #00af00; text-decoration-color: #00af00\">9,680</span> │\n",
       "├─────────────────────────────────┼────────────────────────┼───────────────┤\n",
       "│ repeat_vector (<span style=\"color: #0087ff; text-decoration-color: #0087ff\">RepeatVector</span>)    │ (<span style=\"color: #00d7ff; text-decoration-color: #00d7ff\">None</span>, <span style=\"color: #00af00; text-decoration-color: #00af00\">750</span>, <span style=\"color: #00af00; text-decoration-color: #00af00\">20</span>)        │             <span style=\"color: #00af00; text-decoration-color: #00af00\">0</span> │\n",
       "├─────────────────────────────────┼────────────────────────┼───────────────┤\n",
       "│ lstm_3 (<span style=\"color: #0087ff; text-decoration-color: #0087ff\">LSTM</span>)                   │ (<span style=\"color: #00d7ff; text-decoration-color: #00d7ff\">None</span>, <span style=\"color: #00af00; text-decoration-color: #00af00\">750</span>, <span style=\"color: #00af00; text-decoration-color: #00af00\">750</span>)       │     <span style=\"color: #00af00; text-decoration-color: #00af00\">2,313,000</span> │\n",
       "├─────────────────────────────────┼────────────────────────┼───────────────┤\n",
       "│ lstm_4 (<span style=\"color: #0087ff; text-decoration-color: #0087ff\">LSTM</span>)                   │ (<span style=\"color: #00d7ff; text-decoration-color: #00d7ff\">None</span>, <span style=\"color: #00af00; text-decoration-color: #00af00\">750</span>, <span style=\"color: #00af00; text-decoration-color: #00af00\">100</span>)       │       <span style=\"color: #00af00; text-decoration-color: #00af00\">340,400</span> │\n",
       "├─────────────────────────────────┼────────────────────────┼───────────────┤\n",
       "│ time_distributed                │ (<span style=\"color: #00d7ff; text-decoration-color: #00d7ff\">None</span>, <span style=\"color: #00af00; text-decoration-color: #00af00\">750</span>, <span style=\"color: #00af00; text-decoration-color: #00af00\">3</span>)         │           <span style=\"color: #00af00; text-decoration-color: #00af00\">303</span> │\n",
       "│ (<span style=\"color: #0087ff; text-decoration-color: #0087ff\">TimeDistributed</span>)               │                        │               │\n",
       "└─────────────────────────────────┴────────────────────────┴───────────────┘\n",
       "</pre>\n"
      ],
      "text/plain": [
       "┏━━━━━━━━━━━━━━━━━━━━━━━━━━━━━━━━━┳━━━━━━━━━━━━━━━━━━━━━━━━┳━━━━━━━━━━━━━━━┓\n",
       "┃\u001b[1m \u001b[0m\u001b[1mLayer (type)                   \u001b[0m\u001b[1m \u001b[0m┃\u001b[1m \u001b[0m\u001b[1mOutput Shape          \u001b[0m\u001b[1m \u001b[0m┃\u001b[1m \u001b[0m\u001b[1m      Param #\u001b[0m\u001b[1m \u001b[0m┃\n",
       "┡━━━━━━━━━━━━━━━━━━━━━━━━━━━━━━━━━╇━━━━━━━━━━━━━━━━━━━━━━━━╇━━━━━━━━━━━━━━━┩\n",
       "│ lstm (\u001b[38;5;33mLSTM\u001b[0m)                     │ (\u001b[38;5;45mNone\u001b[0m, \u001b[38;5;34m750\u001b[0m, \u001b[38;5;34m750\u001b[0m)       │     \u001b[38;5;34m2,262,000\u001b[0m │\n",
       "├─────────────────────────────────┼────────────────────────┼───────────────┤\n",
       "│ lstm_1 (\u001b[38;5;33mLSTM\u001b[0m)                   │ (\u001b[38;5;45mNone\u001b[0m, \u001b[38;5;34m750\u001b[0m, \u001b[38;5;34m100\u001b[0m)       │       \u001b[38;5;34m340,400\u001b[0m │\n",
       "├─────────────────────────────────┼────────────────────────┼───────────────┤\n",
       "│ lstm_2 (\u001b[38;5;33mLSTM\u001b[0m)                   │ (\u001b[38;5;45mNone\u001b[0m, \u001b[38;5;34m20\u001b[0m)             │         \u001b[38;5;34m9,680\u001b[0m │\n",
       "├─────────────────────────────────┼────────────────────────┼───────────────┤\n",
       "│ repeat_vector (\u001b[38;5;33mRepeatVector\u001b[0m)    │ (\u001b[38;5;45mNone\u001b[0m, \u001b[38;5;34m750\u001b[0m, \u001b[38;5;34m20\u001b[0m)        │             \u001b[38;5;34m0\u001b[0m │\n",
       "├─────────────────────────────────┼────────────────────────┼───────────────┤\n",
       "│ lstm_3 (\u001b[38;5;33mLSTM\u001b[0m)                   │ (\u001b[38;5;45mNone\u001b[0m, \u001b[38;5;34m750\u001b[0m, \u001b[38;5;34m750\u001b[0m)       │     \u001b[38;5;34m2,313,000\u001b[0m │\n",
       "├─────────────────────────────────┼────────────────────────┼───────────────┤\n",
       "│ lstm_4 (\u001b[38;5;33mLSTM\u001b[0m)                   │ (\u001b[38;5;45mNone\u001b[0m, \u001b[38;5;34m750\u001b[0m, \u001b[38;5;34m100\u001b[0m)       │       \u001b[38;5;34m340,400\u001b[0m │\n",
       "├─────────────────────────────────┼────────────────────────┼───────────────┤\n",
       "│ time_distributed                │ (\u001b[38;5;45mNone\u001b[0m, \u001b[38;5;34m750\u001b[0m, \u001b[38;5;34m3\u001b[0m)         │           \u001b[38;5;34m303\u001b[0m │\n",
       "│ (\u001b[38;5;33mTimeDistributed\u001b[0m)               │                        │               │\n",
       "└─────────────────────────────────┴────────────────────────┴───────────────┘\n"
      ]
     },
     "metadata": {},
     "output_type": "display_data"
    },
    {
     "data": {
      "text/html": [
       "<pre style=\"white-space:pre;overflow-x:auto;line-height:normal;font-family:Menlo,'DejaVu Sans Mono',consolas,'Courier New',monospace\"><span style=\"font-weight: bold\"> Total params: </span><span style=\"color: #00af00; text-decoration-color: #00af00\">5,265,783</span> (20.09 MB)\n",
       "</pre>\n"
      ],
      "text/plain": [
       "\u001b[1m Total params: \u001b[0m\u001b[38;5;34m5,265,783\u001b[0m (20.09 MB)\n"
      ]
     },
     "metadata": {},
     "output_type": "display_data"
    },
    {
     "data": {
      "text/html": [
       "<pre style=\"white-space:pre;overflow-x:auto;line-height:normal;font-family:Menlo,'DejaVu Sans Mono',consolas,'Courier New',monospace\"><span style=\"font-weight: bold\"> Trainable params: </span><span style=\"color: #00af00; text-decoration-color: #00af00\">5,265,783</span> (20.09 MB)\n",
       "</pre>\n"
      ],
      "text/plain": [
       "\u001b[1m Trainable params: \u001b[0m\u001b[38;5;34m5,265,783\u001b[0m (20.09 MB)\n"
      ]
     },
     "metadata": {},
     "output_type": "display_data"
    },
    {
     "data": {
      "text/html": [
       "<pre style=\"white-space:pre;overflow-x:auto;line-height:normal;font-family:Menlo,'DejaVu Sans Mono',consolas,'Courier New',monospace\"><span style=\"font-weight: bold\"> Non-trainable params: </span><span style=\"color: #00af00; text-decoration-color: #00af00\">0</span> (0.00 B)\n",
       "</pre>\n"
      ],
      "text/plain": [
       "\u001b[1m Non-trainable params: \u001b[0m\u001b[38;5;34m0\u001b[0m (0.00 B)\n"
      ]
     },
     "metadata": {},
     "output_type": "display_data"
    }
   ],
   "source": [
    "lstm_autoencoder2.build_model()"
   ]
  },
  {
   "cell_type": "code",
   "execution_count": 8,
   "id": "0682bd44",
   "metadata": {
    "scrolled": true
   },
   "outputs": [
    {
     "name": "stdout",
     "output_type": "stream",
     "text": [
      "files:  678618\n",
      "CPU times: user 200 ms, sys: 486 ms, total: 686 ms\n",
      "Wall time: 2.09 s\n"
     ]
    }
   ],
   "source": [
    "%%time\n",
    "files = os.listdir(folder)\n",
    "print('files: ', len(files))\n",
    "\n",
    "TotalMoves=0\n",
    "Loops=int(len(files)/FileBatch)+1"
   ]
  },
  {
   "cell_type": "code",
   "execution_count": 9,
   "id": "f850992b",
   "metadata": {},
   "outputs": [
    {
     "name": "stdout",
     "output_type": "stream",
     "text": [
      "CPU times: user 1min 38s, sys: 3min 18s, total: 4min 57s\n",
      "Wall time: 5min 32s\n"
     ]
    }
   ],
   "source": [
    "%%time\n",
    "k=0\n",
    "start = k * FileBatch\n",
    "random.shuffle(files)\n",
    "\n",
    "Results = Parallel(n_jobs=num_cores)(delayed(Openfile)(file) for file in files[start:start+FileBatch])\n",
    "\n",
    "X = list()"
   ]
  },
  {
   "cell_type": "code",
   "execution_count": 10,
   "id": "aac6073d",
   "metadata": {},
   "outputs": [
    {
     "name": "stdout",
     "output_type": "stream",
     "text": [
      "CPU times: user 2.33 s, sys: 401 ms, total: 2.73 s\n",
      "Wall time: 2.74 s\n"
     ]
    }
   ],
   "source": [
    "%%time\n",
    "for result in Results:\n",
    "    try:\n",
    "        for j in range(len(result[0])):\n",
    "            X.append(result[0][j,:,:])\n",
    "            TotalMoves+=1\n",
    "    except:\n",
    "        print(np.shape(result[0]),result[1])\n",
    "del Results"
   ]
  },
  {
   "cell_type": "code",
   "execution_count": 11,
   "id": "1c61c90e-f6e8-4b04-970d-3151b017541a",
   "metadata": {},
   "outputs": [
    {
     "data": {
      "text/plain": [
       "55621560"
      ]
     },
     "execution_count": 11,
     "metadata": {},
     "output_type": "execute_result"
    }
   ],
   "source": [
    "getsizeof(X)"
   ]
  },
  {
   "cell_type": "code",
   "execution_count": 12,
   "id": "ed41818c-d69c-42b3-8c93-ad69e11a7497",
   "metadata": {
    "scrolled": true
   },
   "outputs": [
    {
     "name": "stdout",
     "output_type": "stream",
     "text": [
      "CPU times: user 1h 3min 49s, sys: 42.9 s, total: 1h 4min 32s\n",
      "Wall time: 1h 4min 23s\n"
     ]
    }
   ],
   "source": [
    "%%time\n",
    "with tf.device('/cpu:0'):\n",
    "    X = tf.convert_to_tensor(X, np.float32)\n",
    "#y = tf.convert_to_tensor(y, np.float32)"
   ]
  },
  {
   "cell_type": "code",
   "execution_count": 13,
   "id": "a5fb7aa5-ecc7-422a-9786-8c4aa8401348",
   "metadata": {},
   "outputs": [],
   "source": [
    "test_gen = DataGenerator(X, X, Batches)"
   ]
  },
  {
   "cell_type": "code",
   "execution_count": 14,
   "id": "fe26cdf1-bba2-4f39-b470-be1bdd6c2ce0",
   "metadata": {},
   "outputs": [
    {
     "data": {
      "text/plain": [
       "168"
      ]
     },
     "execution_count": 14,
     "metadata": {},
     "output_type": "execute_result"
    }
   ],
   "source": [
    "getsizeof(X)"
   ]
  },
  {
   "cell_type": "code",
   "execution_count": 15,
   "id": "96e2a692-72df-4ac0-80f2-c39f23cc1ead",
   "metadata": {},
   "outputs": [
    {
     "data": {
      "text/plain": [
       "56"
      ]
     },
     "execution_count": 15,
     "metadata": {},
     "output_type": "execute_result"
    }
   ],
   "source": [
    "getsizeof(test_gen)"
   ]
  },
  {
   "cell_type": "code",
   "execution_count": 16,
   "id": "c936d46f-dc95-416a-92fb-e40421906b04",
   "metadata": {},
   "outputs": [
    {
     "name": "stderr",
     "output_type": "stream",
     "text": [
      "2024-07-02 10:43:50.113571: I tensorflow/core/common_runtime/gpu/gpu_device.cc:1928] Created device /job:localhost/replica:0/task:0/device:GPU:0 with 22287 MB memory:  -> device: 0, name: NVIDIA A30, pci bus id: 0000:19:00.0, compute capability: 8.0\n"
     ]
    }
   ],
   "source": [
    "from tensorflow.compat.v1 import ConfigProto\n",
    "from tensorflow.compat.v1 import InteractiveSession\n",
    "\n",
    "config = ConfigProto()\n",
    "config.gpu_options.per_process_gpu_memory_fraction = 0.333\n",
    "session = InteractiveSession(config=config)\n"
   ]
  },
  {
   "cell_type": "code",
   "execution_count": 17,
   "id": "a76c94fc",
   "metadata": {
    "scrolled": true
   },
   "outputs": [
    {
     "name": "stderr",
     "output_type": "stream",
     "text": [
      "2024-07-02 10:44:00.132215: W external/local_tsl/tsl/framework/bfc_allocator.cc:487] Allocator (GPU_0_bfc) ran out of memory trying to allocate 51.83GiB (rounded to 55654794240)requested by op StridedSlice\n",
      "If the cause is memory fragmentation maybe the environment variable 'TF_GPU_ALLOCATOR=cuda_malloc_async' will improve the situation. \n",
      "Current allocation summary follows.\n",
      "Current allocation summary follows.\n",
      "2024-07-02 10:44:00.132286: I external/local_tsl/tsl/framework/bfc_allocator.cc:1044] BFCAllocator dump for GPU_0_bfc\n",
      "2024-07-02 10:44:00.132308: I external/local_tsl/tsl/framework/bfc_allocator.cc:1051] Bin (256): \tTotal Chunks: 25, Chunks in use: 24. 6.2KiB allocated for chunks. 6.0KiB in use in bin. 128B client-requested in use in bin.\n",
      "2024-07-02 10:44:00.132323: I external/local_tsl/tsl/framework/bfc_allocator.cc:1051] Bin (512): \tTotal Chunks: 1, Chunks in use: 1. 768B allocated for chunks. 768B in use in bin. 320B client-requested in use in bin.\n",
      "2024-07-02 10:44:00.132338: I external/local_tsl/tsl/framework/bfc_allocator.cc:1051] Bin (1024): \tTotal Chunks: 4, Chunks in use: 4. 6.0KiB allocated for chunks. 6.0KiB in use in bin. 5.3KiB client-requested in use in bin.\n",
      "2024-07-02 10:44:00.132352: I external/local_tsl/tsl/framework/bfc_allocator.cc:1051] Bin (2048): \tTotal Chunks: 1, Chunks in use: 0. 3.2KiB allocated for chunks. 0B in use in bin. 0B client-requested in use in bin.\n",
      "2024-07-02 10:44:00.132366: I external/local_tsl/tsl/framework/bfc_allocator.cc:1051] Bin (4096): \tTotal Chunks: 1, Chunks in use: 1. 6.2KiB allocated for chunks. 6.2KiB in use in bin. 6.2KiB client-requested in use in bin.\n",
      "2024-07-02 10:44:00.132382: I external/local_tsl/tsl/framework/bfc_allocator.cc:1051] Bin (8192): \tTotal Chunks: 3, Chunks in use: 2. 35.5KiB allocated for chunks. 24.2KiB in use in bin. 23.4KiB client-requested in use in bin.\n",
      "2024-07-02 10:44:00.132396: I external/local_tsl/tsl/framework/bfc_allocator.cc:1051] Bin (16384): \tTotal Chunks: 1, Chunks in use: 1. 31.2KiB allocated for chunks. 31.2KiB in use in bin. 31.2KiB client-requested in use in bin.\n",
      "2024-07-02 10:44:00.132412: I external/local_tsl/tsl/framework/bfc_allocator.cc:1051] Bin (32768): \tTotal Chunks: 2, Chunks in use: 1. 82.0KiB allocated for chunks. 35.2KiB in use in bin. 35.2KiB client-requested in use in bin.\n",
      "2024-07-02 10:44:00.132425: I external/local_tsl/tsl/framework/bfc_allocator.cc:1051] Bin (65536): \tTotal Chunks: 1, Chunks in use: 0. 93.8KiB allocated for chunks. 0B in use in bin. 0B client-requested in use in bin.\n",
      "2024-07-02 10:44:00.132442: I external/local_tsl/tsl/framework/bfc_allocator.cc:1051] Bin (131072): \tTotal Chunks: 5, Chunks in use: 3. 859.8KiB allocated for chunks. 547.0KiB in use in bin. 546.9KiB client-requested in use in bin.\n",
      "2024-07-02 10:44:00.132455: I external/local_tsl/tsl/framework/bfc_allocator.cc:1051] Bin (262144): \tTotal Chunks: 0, Chunks in use: 0. 0B allocated for chunks. 0B in use in bin. 0B client-requested in use in bin.\n",
      "2024-07-02 10:44:00.132467: I external/local_tsl/tsl/framework/bfc_allocator.cc:1051] Bin (524288): \tTotal Chunks: 0, Chunks in use: 0. 0B allocated for chunks. 0B in use in bin. 0B client-requested in use in bin.\n",
      "2024-07-02 10:44:00.132482: I external/local_tsl/tsl/framework/bfc_allocator.cc:1051] Bin (1048576): \tTotal Chunks: 4, Chunks in use: 2. 4.73MiB allocated for chunks. 2.29MiB in use in bin. 2.29MiB client-requested in use in bin.\n",
      "2024-07-02 10:44:00.132494: I external/local_tsl/tsl/framework/bfc_allocator.cc:1051] Bin (2097152): \tTotal Chunks: 0, Chunks in use: 0. 0B allocated for chunks. 0B in use in bin. 0B client-requested in use in bin.\n",
      "2024-07-02 10:44:00.132506: I external/local_tsl/tsl/framework/bfc_allocator.cc:1051] Bin (4194304): \tTotal Chunks: 0, Chunks in use: 0. 0B allocated for chunks. 0B in use in bin. 0B client-requested in use in bin.\n",
      "2024-07-02 10:44:00.132522: I external/local_tsl/tsl/framework/bfc_allocator.cc:1051] Bin (8388608): \tTotal Chunks: 3, Chunks in use: 2. 28.61MiB allocated for chunks. 20.17MiB in use in bin. 17.17MiB client-requested in use in bin.\n",
      "2024-07-02 10:44:00.132535: I external/local_tsl/tsl/framework/bfc_allocator.cc:1051] Bin (16777216): \tTotal Chunks: 0, Chunks in use: 0. 0B allocated for chunks. 0B in use in bin. 0B client-requested in use in bin.\n",
      "2024-07-02 10:44:00.132553: I external/local_tsl/tsl/framework/bfc_allocator.cc:1051] Bin (33554432): \tTotal Chunks: 0, Chunks in use: 0. 0B allocated for chunks. 0B in use in bin. 0B client-requested in use in bin.\n",
      "2024-07-02 10:44:00.132565: I external/local_tsl/tsl/framework/bfc_allocator.cc:1051] Bin (67108864): \tTotal Chunks: 0, Chunks in use: 0. 0B allocated for chunks. 0B in use in bin. 0B client-requested in use in bin.\n",
      "2024-07-02 10:44:00.132578: I external/local_tsl/tsl/framework/bfc_allocator.cc:1051] Bin (134217728): \tTotal Chunks: 0, Chunks in use: 0. 0B allocated for chunks. 0B in use in bin. 0B client-requested in use in bin.\n",
      "2024-07-02 10:44:00.132591: I external/local_tsl/tsl/framework/bfc_allocator.cc:1051] Bin (268435456): \tTotal Chunks: 1, Chunks in use: 0. 21.73GiB allocated for chunks. 0B in use in bin. 0B client-requested in use in bin.\n",
      "2024-07-02 10:44:00.132605: I external/local_tsl/tsl/framework/bfc_allocator.cc:1067] Bin for 51.83GiB was 256.00MiB, Chunk State: \n",
      "2024-07-02 10:44:00.132626: I external/local_tsl/tsl/framework/bfc_allocator.cc:1073]   Size: 21.73GiB | Requested Size: 8.58MiB | in_use: 0 | bin_num: 20, prev:   Size: 8.58MiB | Requested Size: 8.58MiB | in_use: 1 | bin_num: -1\n",
      "2024-07-02 10:44:00.132636: I external/local_tsl/tsl/framework/bfc_allocator.cc:1080] Next region of size 23370334208\n",
      "2024-07-02 10:44:00.132650: I external/local_tsl/tsl/framework/bfc_allocator.cc:1100] InUse at 14ec56000000 of size 256 next 1\n",
      "2024-07-02 10:44:00.132661: I external/local_tsl/tsl/framework/bfc_allocator.cc:1100] InUse at 14ec56000100 of size 1280 next 2\n",
      "2024-07-02 10:44:00.132671: I external/local_tsl/tsl/framework/bfc_allocator.cc:1100] InUse at 14ec56000600 of size 256 next 3\n",
      "2024-07-02 10:44:00.132680: I external/local_tsl/tsl/framework/bfc_allocator.cc:1100] InUse at 14ec56000700 of size 256 next 4\n",
      "2024-07-02 10:44:00.132689: I external/local_tsl/tsl/framework/bfc_allocator.cc:1100] InUse at 14ec56000800 of size 256 next 5\n",
      "2024-07-02 10:44:00.132698: I external/local_tsl/tsl/framework/bfc_allocator.cc:1100] InUse at 14ec56000900 of size 256 next 7\n",
      "2024-07-02 10:44:00.132708: I external/local_tsl/tsl/framework/bfc_allocator.cc:1100] InUse at 14ec56000a00 of size 256 next 8\n",
      "2024-07-02 10:44:00.132717: I external/local_tsl/tsl/framework/bfc_allocator.cc:1100] InUse at 14ec56000b00 of size 256 next 9\n",
      "2024-07-02 10:44:00.132726: I external/local_tsl/tsl/framework/bfc_allocator.cc:1100] InUse at 14ec56000c00 of size 256 next 15\n",
      "2024-07-02 10:44:00.132735: I external/local_tsl/tsl/framework/bfc_allocator.cc:1100] InUse at 14ec56000d00 of size 256 next 12\n",
      "2024-07-02 10:44:00.132744: I external/local_tsl/tsl/framework/bfc_allocator.cc:1100] InUse at 14ec56000e00 of size 256 next 16\n",
      "2024-07-02 10:44:00.132754: I external/local_tsl/tsl/framework/bfc_allocator.cc:1100] InUse at 14ec56000f00 of size 256 next 18\n",
      "2024-07-02 10:44:00.132763: I external/local_tsl/tsl/framework/bfc_allocator.cc:1100] InUse at 14ec56001000 of size 256 next 21\n",
      "2024-07-02 10:44:00.132772: I external/local_tsl/tsl/framework/bfc_allocator.cc:1100] InUse at 14ec56001100 of size 256 next 25\n",
      "2024-07-02 10:44:00.132781: I external/local_tsl/tsl/framework/bfc_allocator.cc:1100] InUse at 14ec56001200 of size 256 next 27\n",
      "2024-07-02 10:44:00.132790: I external/local_tsl/tsl/framework/bfc_allocator.cc:1100] InUse at 14ec56001300 of size 256 next 29\n",
      "2024-07-02 10:44:00.132799: I external/local_tsl/tsl/framework/bfc_allocator.cc:1100] InUse at 14ec56001400 of size 256 next 28\n",
      "2024-07-02 10:44:00.132810: I external/local_tsl/tsl/framework/bfc_allocator.cc:1100] InUse at 14ec56001500 of size 768 next 19\n",
      "2024-07-02 10:44:00.132822: I external/local_tsl/tsl/framework/bfc_allocator.cc:1100] InUse at 14ec56001800 of size 1792 next 26\n",
      "2024-07-02 10:44:00.132832: I external/local_tsl/tsl/framework/bfc_allocator.cc:1100] InUse at 14ec56001f00 of size 256 next 32\n",
      "2024-07-02 10:44:00.132843: I external/local_tsl/tsl/framework/bfc_allocator.cc:1100] InUse at 14ec56002000 of size 256 next 43\n",
      "2024-07-02 10:44:00.132852: I external/local_tsl/tsl/framework/bfc_allocator.cc:1100] InUse at 14ec56002100 of size 256 next 36\n",
      "2024-07-02 10:44:00.132862: I external/local_tsl/tsl/framework/bfc_allocator.cc:1100] InUse at 14ec56002200 of size 256 next 46\n",
      "2024-07-02 10:44:00.132871: I external/local_tsl/tsl/framework/bfc_allocator.cc:1100] InUse at 14ec56002300 of size 256 next 49\n",
      "2024-07-02 10:44:00.132880: I external/local_tsl/tsl/framework/bfc_allocator.cc:1100] InUse at 14ec56002400 of size 256 next 47\n",
      "2024-07-02 10:44:00.132889: I external/local_tsl/tsl/framework/bfc_allocator.cc:1100] InUse at 14ec56002500 of size 256 next 48\n",
      "2024-07-02 10:44:00.132898: I external/local_tsl/tsl/framework/bfc_allocator.cc:1100] InUse at 14ec56002600 of size 256 next 51\n",
      "2024-07-02 10:44:00.132927: I external/local_tsl/tsl/framework/bfc_allocator.cc:1100] Free  at 14ec56002700 of size 256 next 40\n",
      "2024-07-02 10:44:00.132937: I external/local_tsl/tsl/framework/bfc_allocator.cc:1100] InUse at 14ec56002800 of size 1792 next 45\n",
      "2024-07-02 10:44:00.132946: I external/local_tsl/tsl/framework/bfc_allocator.cc:1100] Free  at 14ec56002f00 of size 3328 next 6\n",
      "2024-07-02 10:44:00.132956: I external/local_tsl/tsl/framework/bfc_allocator.cc:1100] InUse at 14ec56003c00 of size 12032 next 13\n",
      "2024-07-02 10:44:00.132966: I external/local_tsl/tsl/framework/bfc_allocator.cc:1100] Free  at 14ec56006b00 of size 47872 next 10\n",
      "2024-07-02 10:44:00.132975: I external/local_tsl/tsl/framework/bfc_allocator.cc:1100] InUse at 14ec56012600 of size 36096 next 11\n",
      "2024-07-02 10:44:00.132987: I external/local_tsl/tsl/framework/bfc_allocator.cc:1100] InUse at 14ec5601b300 of size 1280 next 50\n",
      "2024-07-02 10:44:00.132996: I external/local_tsl/tsl/framework/bfc_allocator.cc:1100] Free  at 14ec5601b800 of size 11520 next 33\n",
      "2024-07-02 10:44:00.133006: I external/local_tsl/tsl/framework/bfc_allocator.cc:1100] InUse at 14ec5601e500 of size 6400 next 34\n",
      "2024-07-02 10:44:00.133017: I external/local_tsl/tsl/framework/bfc_allocator.cc:1100] InUse at 14ec5601fe00 of size 12800 next 31\n",
      "2024-07-02 10:44:00.133027: I external/local_tsl/tsl/framework/bfc_allocator.cc:1100] InUse at 14ec56023000 of size 32000 next 30\n",
      "2024-07-02 10:44:00.133038: I external/local_tsl/tsl/framework/bfc_allocator.cc:1100] Free  at 14ec5602ad00 of size 96000 next 20\n",
      "2024-07-02 10:44:00.133048: I external/local_tsl/tsl/framework/bfc_allocator.cc:1100] InUse at 14ec56042400 of size 160000 next 24\n",
      "2024-07-02 10:44:00.133057: I external/local_tsl/tsl/framework/bfc_allocator.cc:1100] Free  at 14ec56069500 of size 160000 next 35\n",
      "2024-07-02 10:44:00.133067: I external/local_tsl/tsl/framework/bfc_allocator.cc:1100] InUse at 14ec56090600 of size 160000 next 44\n",
      "2024-07-02 10:44:00.133076: I external/local_tsl/tsl/framework/bfc_allocator.cc:1100] Free  at 14ec560b7700 of size 160256 next 39\n",
      "2024-07-02 10:44:00.133086: I external/local_tsl/tsl/framework/bfc_allocator.cc:1100] InUse at 14ec560de900 of size 240128 next 38\n",
      "2024-07-02 10:44:00.133096: I external/local_tsl/tsl/framework/bfc_allocator.cc:1100] Free  at 14ec56119300 of size 1359872 next 23\n",
      "2024-07-02 10:44:00.133105: I external/local_tsl/tsl/framework/bfc_allocator.cc:1100] InUse at 14ec56265300 of size 1200128 next 22\n",
      "2024-07-02 10:44:00.133116: I external/local_tsl/tsl/framework/bfc_allocator.cc:1100] Free  at 14ec5638a300 of size 1200128 next 42\n",
      "2024-07-02 10:44:00.133126: I external/local_tsl/tsl/framework/bfc_allocator.cc:1100] InUse at 14ec564af300 of size 1200128 next 41\n",
      "2024-07-02 10:44:00.133135: I external/local_tsl/tsl/framework/bfc_allocator.cc:1100] Free  at 14ec565d4300 of size 8850176 next 37\n",
      "2024-07-02 10:44:00.133145: I external/local_tsl/tsl/framework/bfc_allocator.cc:1100] InUse at 14ec56e44e00 of size 12149760 next 14\n",
      "2024-07-02 10:44:00.133158: I external/local_tsl/tsl/framework/bfc_allocator.cc:1100] InUse at 14ec579db200 of size 9000192 next 17\n",
      "2024-07-02 10:44:00.133168: I external/local_tsl/tsl/framework/bfc_allocator.cc:1100] Free  at 14ec58270700 of size 23334222080 next 18446744073709551615\n",
      "2024-07-02 10:44:00.133178: I external/local_tsl/tsl/framework/bfc_allocator.cc:1105]      Summary of in-use Chunks by size: \n",
      "2024-07-02 10:44:00.133192: I external/local_tsl/tsl/framework/bfc_allocator.cc:1108] 24 Chunks of size 256 totalling 6.0KiB\n",
      "2024-07-02 10:44:00.133203: I external/local_tsl/tsl/framework/bfc_allocator.cc:1108] 1 Chunks of size 768 totalling 768B\n",
      "2024-07-02 10:44:00.133214: I external/local_tsl/tsl/framework/bfc_allocator.cc:1108] 2 Chunks of size 1280 totalling 2.5KiB\n",
      "2024-07-02 10:44:00.133225: I external/local_tsl/tsl/framework/bfc_allocator.cc:1108] 2 Chunks of size 1792 totalling 3.5KiB\n",
      "2024-07-02 10:44:00.133236: I external/local_tsl/tsl/framework/bfc_allocator.cc:1108] 1 Chunks of size 6400 totalling 6.2KiB\n",
      "2024-07-02 10:44:00.133247: I external/local_tsl/tsl/framework/bfc_allocator.cc:1108] 1 Chunks of size 12032 totalling 11.8KiB\n",
      "2024-07-02 10:44:00.133258: I external/local_tsl/tsl/framework/bfc_allocator.cc:1108] 1 Chunks of size 12800 totalling 12.5KiB\n",
      "2024-07-02 10:44:00.133270: I external/local_tsl/tsl/framework/bfc_allocator.cc:1108] 1 Chunks of size 32000 totalling 31.2KiB\n",
      "2024-07-02 10:44:00.133281: I external/local_tsl/tsl/framework/bfc_allocator.cc:1108] 1 Chunks of size 36096 totalling 35.2KiB\n",
      "2024-07-02 10:44:00.133292: I external/local_tsl/tsl/framework/bfc_allocator.cc:1108] 2 Chunks of size 160000 totalling 312.5KiB\n",
      "2024-07-02 10:44:00.133304: I external/local_tsl/tsl/framework/bfc_allocator.cc:1108] 1 Chunks of size 240128 totalling 234.5KiB\n",
      "2024-07-02 10:44:00.133315: I external/local_tsl/tsl/framework/bfc_allocator.cc:1108] 2 Chunks of size 1200128 totalling 2.29MiB\n",
      "2024-07-02 10:44:00.133325: I external/local_tsl/tsl/framework/bfc_allocator.cc:1108] 1 Chunks of size 9000192 totalling 8.58MiB\n",
      "2024-07-02 10:44:00.133337: I external/local_tsl/tsl/framework/bfc_allocator.cc:1108] 1 Chunks of size 12149760 totalling 11.59MiB\n",
      "2024-07-02 10:44:00.133349: I external/local_tsl/tsl/framework/bfc_allocator.cc:1112] Sum Total of in-use chunks: 23.10MiB\n",
      "2024-07-02 10:44:00.133360: I external/local_tsl/tsl/framework/bfc_allocator.cc:1114] Total bytes in pool: 23370334208 memory_limit_: 23370334208 available bytes: 0 curr_region_allocation_bytes_: 46740668416\n",
      "2024-07-02 10:44:00.133377: I external/local_tsl/tsl/framework/bfc_allocator.cc:1119] Stats: \n",
      "Limit:                     23370334208\n",
      "InUse:                        24222720\n",
      "MaxInUse:                     43102464\n",
      "NumAllocs:                         167\n",
      "MaxAllocSize:                 14400000\n",
      "Reserved:                            0\n",
      "PeakReserved:                        0\n",
      "LargestFreeBlock:                    0\n",
      "\n",
      "2024-07-02 10:44:00.133394: W external/local_tsl/tsl/framework/bfc_allocator.cc:499] *___________________________________________________________________________________________________\n"
     ]
    },
    {
     "ename": "InternalError",
     "evalue": "Failed copying input tensor from /job:localhost/replica:0/task:0/device:CPU:0 to /job:localhost/replica:0/task:0/device:GPU:0 in order to run StridedSlice: Dst tensor is not initialized. [Op:StridedSlice] name: strided_slice/",
     "output_type": "error",
     "traceback": [
      "\u001b[0;31m---------------------------------------------------------------------------\u001b[0m",
      "\u001b[0;31mInternalError\u001b[0m                             Traceback (most recent call last)",
      "File \u001b[0;32m<timed exec>:1\u001b[0m\n",
      "File \u001b[0;32m/usr/local/lib/python3.11/dist-packages/keras/src/utils/traceback_utils.py:123\u001b[0m, in \u001b[0;36mfilter_traceback.<locals>.error_handler\u001b[0;34m(*args, **kwargs)\u001b[0m\n\u001b[1;32m    120\u001b[0m     filtered_tb \u001b[38;5;241m=\u001b[39m _process_traceback_frames(e\u001b[38;5;241m.\u001b[39m__traceback__)\n\u001b[1;32m    121\u001b[0m     \u001b[38;5;66;03m# To get the full stack trace, call:\u001b[39;00m\n\u001b[1;32m    122\u001b[0m     \u001b[38;5;66;03m# `keras.config.disable_traceback_filtering()`\u001b[39;00m\n\u001b[0;32m--> 123\u001b[0m     \u001b[38;5;28;01mraise\u001b[39;00m e\u001b[38;5;241m.\u001b[39mwith_traceback(filtered_tb) \u001b[38;5;28;01mfrom\u001b[39;00m \u001b[38;5;28;01mNone\u001b[39;00m\n\u001b[1;32m    124\u001b[0m \u001b[38;5;28;01mfinally\u001b[39;00m:\n\u001b[1;32m    125\u001b[0m     \u001b[38;5;28;01mdel\u001b[39;00m filtered_tb\n",
      "Cell \u001b[0;32mIn[6], line 12\u001b[0m, in \u001b[0;36mDataGenerator.__getitem__\u001b[0;34m(self, idx)\u001b[0m\n\u001b[1;32m     11\u001b[0m \u001b[38;5;28;01mdef\u001b[39;00m \u001b[38;5;21m__getitem__\u001b[39m(\u001b[38;5;28mself\u001b[39m, idx):\n\u001b[0;32m---> 12\u001b[0m     batch_x \u001b[38;5;241m=\u001b[39m \u001b[38;5;28;43mself\u001b[39;49m\u001b[38;5;241;43m.\u001b[39;49m\u001b[43mx\u001b[49m\u001b[43m[\u001b[49m\u001b[43midx\u001b[49m\u001b[43m \u001b[49m\u001b[38;5;241;43m*\u001b[39;49m\u001b[43m \u001b[49m\u001b[38;5;28;43mself\u001b[39;49m\u001b[38;5;241;43m.\u001b[39;49m\u001b[43mbatch_size\u001b[49m\u001b[43m:\u001b[49m\u001b[43m(\u001b[49m\u001b[43midx\u001b[49m\u001b[43m \u001b[49m\u001b[38;5;241;43m+\u001b[39;49m\u001b[43m \u001b[49m\u001b[38;5;241;43m1\u001b[39;49m\u001b[43m)\u001b[49m\u001b[43m \u001b[49m\u001b[38;5;241;43m*\u001b[39;49m\u001b[43m \u001b[49m\u001b[38;5;28;43mself\u001b[39;49m\u001b[38;5;241;43m.\u001b[39;49m\u001b[43mbatch_size\u001b[49m\u001b[43m]\u001b[49m\n\u001b[1;32m     13\u001b[0m     batch_y \u001b[38;5;241m=\u001b[39m \u001b[38;5;28mself\u001b[39m\u001b[38;5;241m.\u001b[39my[idx \u001b[38;5;241m*\u001b[39m \u001b[38;5;28mself\u001b[39m\u001b[38;5;241m.\u001b[39mbatch_size:(idx \u001b[38;5;241m+\u001b[39m \u001b[38;5;241m1\u001b[39m) \u001b[38;5;241m*\u001b[39m \u001b[38;5;28mself\u001b[39m\u001b[38;5;241m.\u001b[39mbatch_size]\n\u001b[1;32m     14\u001b[0m     \u001b[38;5;28;01mreturn\u001b[39;00m batch_x, batch_y\n",
      "\u001b[0;31mInternalError\u001b[0m: Failed copying input tensor from /job:localhost/replica:0/task:0/device:CPU:0 to /job:localhost/replica:0/task:0/device:GPU:0 in order to run StridedSlice: Dst tensor is not initialized. [Op:StridedSlice] name: strided_slice/"
     ]
    }
   ],
   "source": [
    "%%time\n",
    "lstm_autoencoder2.model.fit(test_gen, epochs=4, batch_size=Batches, verbose=2)\n",
    "lstm_autoencoder2.model.save(\"LSTM_750_self.keras\")\n",
    "\n",
    "print('Total Moves ',TotalMoves)"
   ]
  },
  {
   "cell_type": "code",
   "execution_count": null,
   "id": "1e2cabe9",
   "metadata": {},
   "outputs": [
    {
     "name": "stdout",
     "output_type": "stream",
     "text": [
      "Starting Loop 1 of 35 elapsted time: 0\n"
     ]
    }
   ],
   "source": [
    "tic = ti()\n",
    "\n",
    "for j in range(15):\n",
    "\n",
    "    random.shuffle(files)\n",
    "\n",
    "    for k in range(Loops):\n",
    "        print(\"Starting Loop \"+str(k+1)+\" of \"+str(Loops+1)+\" elapsted time: \"+str(int((ti()-tic)/100)*100))\n",
    "\n",
    "        start = k * FileBatch\n",
    "\n",
    "        Results = Parallel(n_jobs=num_cores)(delayed(Openfile)(file) for file in files[start:start+FileBatch])\n",
    "\n",
    "        X = list()\n",
    "        \n",
    "        for result in Results:\n",
    "            try:\n",
    "                for j in range(len(result[0])):\n",
    "                    X.append(result[0][j,:,:])\n",
    "                    TotalMoves+=1\n",
    "            except:\n",
    "                print(np.shape(result[0]),result[1])\n",
    "        del Results\n",
    "\n",
    "\n",
    "\n",
    "        with tf.device('/cpu:0'):\n",
    "            X = tf.convert_to_tensor(X, np.float32)\n",
    "            #y = tf.convert_to_tensor(y, np.float32)\n",
    "\n",
    "        test_gen = DataGenerator(X, X, Batches)\n",
    "    \n",
    "            \n",
    "        lstm_autoencoder2.model.fit(test_gen, epochs=4, batch_size=Batches, verbose=2)\n",
    "        lstm_autoencoder2.model.save(\"LSTM_750_self.keras\")\n",
    "\n",
    "        print('Total Moves ',TotalMoves)\n",
    "\n",
    "        del X"
   ]
  }
 ],
 "metadata": {
  "kernelspec": {
   "display_name": "Python 3 (ipykernel)",
   "language": "python",
   "name": "python3"
  },
  "language_info": {
   "codemirror_mode": {
    "name": "ipython",
    "version": 3
   },
   "file_extension": ".py",
   "mimetype": "text/x-python",
   "name": "python",
   "nbconvert_exporter": "python",
   "pygments_lexer": "ipython3",
   "version": "3.11.0rc1"
  }
 },
 "nbformat": 4,
 "nbformat_minor": 5
}
