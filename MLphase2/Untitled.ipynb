{
 "cells": [
  {
   "cell_type": "code",
   "execution_count": 1,
   "id": "4607bed2-ef3e-4c42-80a9-43e986e02d45",
   "metadata": {},
   "outputs": [
    {
     "name": "stdout",
     "output_type": "stream",
     "text": [
      "| ID | GPU | MEM |\n",
      "------------------\n",
      "|  0 |  0% |  0% |\n",
      "|  1 |  0% |  0% |\n"
     ]
    }
   ],
   "source": [
    "import GPUtil\n",
    "GPUtil.showUtilization()"
   ]
  },
  {
   "cell_type": "markdown",
   "id": "01e50358-679e-4197-80a9-898af8c4617d",
   "metadata": {},
   "source": [
    "import sys\n",
    "!{sys.executable} -m pip install gpustat"
   ]
  },
  {
   "cell_type": "code",
   "execution_count": 3,
   "id": "1cb314d8-d003-4749-be5c-b888cc7f9840",
   "metadata": {},
   "outputs": [],
   "source": [
    "#Standard Header used on the projects\n",
    "\n",
    "#first the major packages used for math and graphing\n",
    "import numpy as np\n",
    "import matplotlib.pyplot as plt\n",
    "from cycler import cycler\n",
    "import scipy.special as sp\n",
    "\n",
    "#Custome graph format style sheet\n",
    "#plt.style.use('Prospectus.mplstyle')\n",
    "\n",
    "#If being run by a seperate file, use the seperate file's graph format and saving paramaeters\n",
    "#otherwise set what is needed\n",
    "if not 'Saving' in locals():\n",
    "    Saving = False\n",
    "if not 'Titles' in locals():\n",
    "    Titles = True\n",
    "if not 'Ledgends' in locals():\n",
    "    Ledgends = True\n",
    "if not 'FFormat' in locals():\n",
    "    FFormat = '.png'\n",
    "\n",
    "#Standard cycle to make black and white images and dashed and line styles\n",
    "default_cycler = (cycler('color', ['0.00', '0.40', '0.60', '0.70']) + cycler(linestyle=['-', '-', '-', '-']))\n",
    "plt.rc('axes', prop_cycle=default_cycler)\n",
    "my_cmap = plt.get_cmap('gray')\n",
    "\n",
    "#Extra Headers:\n",
    "import os as os\n",
    "import pywt as py\n",
    "import statistics as st\n",
    "import os as os\n",
    "import random\n",
    "import multiprocessing\n",
    "from joblib import Parallel, delayed\n",
    "import platform\n",
    "import random\n",
    "\n",
    "\n",
    "from time import time as ti\n",
    "\n",
    "import CoreFunctions as cf\n",
    "#from skimage.restoration import denoise_wavelet\n",
    "\n",
    "import os\n",
    "import pickle\n",
    "\n",
    "# currently running pid 4010813\n",
    "\n",
    "HostName = platform.node()\n",
    "\n",
    "location = '/sciclone/home/dchendrickson01/image/'\n",
    "rootfolder = '/sciclone/home/dchendrickson01/'\n",
    "folder = '/scratch/RecordingsSplit/xFold/'\n",
    "\n",
    "def Openfile(file):\n",
    "    try:\n",
    "        ff = open(folder+file,'rb')\n",
    "        dump = pickle.load(ff)\n",
    "    \n",
    "        return dump[0], dump[1]\n",
    "    except:\n",
    "        print(\"bad file \",file)"
   ]
  },
  {
   "cell_type": "code",
   "execution_count": 4,
   "id": "958f1188-8bef-4dfd-87b3-9442b503a1b4",
   "metadata": {},
   "outputs": [
    {
     "name": "stdout",
     "output_type": "stream",
     "text": [
      "files:  678618\n"
     ]
    }
   ],
   "source": [
    "location = folder\n",
    "Titles = True\n",
    "Ledgends = True\n",
    "\n",
    "FileBatch = 20000\n",
    "\n",
    "TimeSteps = 350\n",
    "PredictSize = 25\n",
    "Features = 3\n",
    "MiddleLayerSize = 500\n",
    "\n",
    "num_cores = 30\n",
    "num_gpus = 2\n",
    "\n",
    "files = os.listdir(folder)\n",
    "print('files: ', len(files))\n",
    "\n",
    "random.shuffle(files)"
   ]
  },
  {
   "cell_type": "code",
   "execution_count": 6,
   "id": "712e310c-1753-4f47-9f86-4d9e1055fbcf",
   "metadata": {},
   "outputs": [
    {
     "data": {
      "text/plain": [
       "'230510 recording1-0006'"
      ]
     },
     "execution_count": 6,
     "metadata": {},
     "output_type": "execute_result"
    }
   ],
   "source": [
    "files[0][:-4]"
   ]
  },
  {
   "cell_type": "code",
   "execution_count": 2,
   "id": "d40915f4",
   "metadata": {},
   "outputs": [
    {
     "name": "stderr",
     "output_type": "stream",
     "text": [
      "2024-06-17 15:04:08.348757: I tensorflow/core/util/port.cc:113] oneDNN custom operations are on. You may see slightly different numerical results due to floating-point round-off errors from different computation orders. To turn them off, set the environment variable `TF_ENABLE_ONEDNN_OPTS=0`.\n",
      "2024-06-17 15:04:08.404965: I tensorflow/core/platform/cpu_feature_guard.cc:210] This TensorFlow binary is optimized to use available CPU instructions in performance-critical operations.\n",
      "To enable the following instructions: AVX2 AVX512F AVX512_VNNI FMA, in other operations, rebuild TensorFlow with the appropriate compiler flags.\n"
     ]
    }
   ],
   "source": [
    "#from sklearn.model_selection import train_test_split\n",
    "from keras.layers import LSTM, Dense, RepeatVector, TimeDistributed, Masking, Lambda\n",
    "from keras.models import Sequential\n",
    "import tensorflow as tf"
   ]
  },
  {
   "cell_type": "code",
   "execution_count": 5,
   "id": "68a28a74",
   "metadata": {},
   "outputs": [],
   "source": [
    "class LSTM_Autoencoder:\n",
    "  def __init__(self, optimizer='adam', loss='mse'):\n",
    "    self.optimizer = optimizer\n",
    "    self.loss = loss\n",
    "    self.n_features = Features\n",
    "    self.timesteps = TimeSteps\n",
    "    \n",
    "  def build_model(self):\n",
    "    timesteps = self.timesteps\n",
    "    n_features = self.n_features\n",
    "    model = Sequential()\n",
    "    \n",
    "    # Padding\n",
    "    #model.add(Masking(mask_value=0.0, input_shape=(timesteps, n_features)))\n",
    "\n",
    "    # Encoder\n",
    "    model.add(LSTM(timesteps, activation='relu', input_shape=(TimeSteps, Features), return_sequences=True))\n",
    "    model.add(LSTM(50, activation='relu', return_sequences=True))\n",
    "    model.add(LSTM(12, activation='relu'))\n",
    "    model.add(RepeatVector(timesteps))\n",
    "    \n",
    "    # Decoder\n",
    "    model.add(LSTM(timesteps, activation='relu', return_sequences=True))\n",
    "    model.add(LSTM(50, activation='relu', return_sequences=True))\n",
    "    model.add(TimeDistributed(Dense(n_features)))\n",
    "    \n",
    "    model.compile(optimizer=self.optimizer, loss=self.loss, metrics=['accuracy'])\n",
    "    model.summary()\n",
    "    self.model = model\n",
    "    \n",
    "  def simple_model(self):\n",
    "    \n",
    "    # define model\n",
    "    model = Sequential(name='DanModel')\n",
    "    model.add(LSTM(MiddleLayerSize, input_shape=(TimeSteps * Features,1), return_sequences=True,name='danLSTM'))\n",
    "    #model.add(RepeatVector(TimeSteps))\n",
    "    #model.add(RepeatVector(PredictSize))\n",
    "    \n",
    "    #model.add(LSTM(25, return_sequences=True))\n",
    "    \n",
    "    model.add(TimeDistributed(Dense( MiddleLayerSize, activation='softmax',name='DanDense')))\n",
    "\n",
    "    model.add(Lambda(lambda x: x[:, -PredictSize * Features:,1], name='DanLambda')) #Select last N from output  \n",
    "    #https://stackoverflow.com/questions/43034960/many-to-one-and-many-to-many-lstm-examples-in-keras?noredirect=1&lq=1\n",
    "\n",
    "    model.compile(loss='categorical_crossentropy', optimizer='adam', metrics=['accuracy'])\n",
    "    model.summary()\n",
    "    \n",
    "    self.model = model\n",
    "    \n",
    "  def fit(self, X, epochs=3, batch_size=32):\n",
    "    #self.timesteps = np.shape(X)[0]\n",
    "    #self.build_model()\n",
    "    \n",
    "    #input_X = np.expand_dims(X, axis=1)\n",
    "    self.model.fit(X, X, epochs=epochs, batch_size=batch_size)\n",
    "    \n",
    "  def predict(self, X):\n",
    "    #input_X = np.expand_dims(X, axis=1)\n",
    "    output_X = self.model.predict(X)\n",
    "    reconstruction = np.squeeze(output_X)\n",
    "    return np.linalg.norm(X - reconstruction, axis=-1)\n",
    "  \n",
    "  def plot(self, scores, timeseries, threshold=0.95):\n",
    "    sorted_scores = sorted(scores)\n",
    "    threshold_score = sorted_scores[round(len(scores) * threshold)]\n",
    "    \n",
    "    plt.title(\"Reconstruction Error\")\n",
    "    plt.plot(scores)\n",
    "    plt.plot([threshold_score]*len(scores), c='r')\n",
    "    plt.show()\n",
    "    \n",
    "    anomalous = np.where(scores > threshold_score)\n",
    "    normal = np.where(scores <= threshold_score)\n",
    "    \n",
    "    plt.title(\"Anomalies\")\n",
    "    plt.scatter(normal, timeseries[normal][:,-1], s=3)\n",
    "    plt.scatter(anomalous, timeseries[anomalous][:,-1], s=5, c='r')\n",
    "    plt.show()\n",
    "\n",
    "lstm_autoencoder2 = LSTM_Autoencoder(optimizer='adam', loss='mse')"
   ]
  },
  {
   "cell_type": "code",
   "execution_count": 7,
   "id": "919b551b",
   "metadata": {},
   "outputs": [
    {
     "name": "stderr",
     "output_type": "stream",
     "text": [
      "2024-06-17 12:06:30.994309: I tensorflow/core/common_runtime/gpu/gpu_device.cc:1928] Created device /job:localhost/replica:0/task:0/device:GPU:0 with 22287 MB memory:  -> device: 0, name: NVIDIA A30, pci bus id: 0000:19:00.0, compute capability: 8.0\n",
      "2024-06-17 12:06:30.998269: I tensorflow/core/common_runtime/gpu/gpu_device.cc:1928] Created device /job:localhost/replica:0/task:0/device:GPU:1 with 22287 MB memory:  -> device: 1, name: NVIDIA A30, pci bus id: 0000:1c:00.0, compute capability: 8.0\n"
     ]
    }
   ],
   "source": [
    "from tensorflow.python.keras import backend as K\n",
    "config = tf.compat.v1.ConfigProto(intra_op_parallelism_threads=num_cores,\n",
    "                        inter_op_parallelism_threads=num_cores, \n",
    "                        allow_soft_placement=True,\n",
    "                        device_count = {'CPU' : num_cores,\n",
    "                                        'GPU' : num_gpus}\n",
    "                       )\n",
    "session = tf.compat.v1.Session(config=config)\n",
    "K.set_session(session)"
   ]
  },
  {
   "cell_type": "code",
   "execution_count": 8,
   "id": "f450b09a",
   "metadata": {},
   "outputs": [
    {
     "name": "stderr",
     "output_type": "stream",
     "text": [
      "2024-06-17 12:06:31.070388: I tensorflow/core/common_runtime/gpu/gpu_device.cc:1928] Created device /job:localhost/replica:0/task:0/device:GPU:0 with 22287 MB memory:  -> device: 0, name: NVIDIA A30, pci bus id: 0000:19:00.0, compute capability: 8.0\n",
      "2024-06-17 12:06:31.072496: I tensorflow/core/common_runtime/gpu/gpu_device.cc:1928] Created device /job:localhost/replica:0/task:0/device:GPU:1 with 22287 MB memory:  -> device: 1, name: NVIDIA A30, pci bus id: 0000:1c:00.0, compute capability: 8.0\n",
      "/sciclone/home/dchendrickson01/.local/lib/python3.10/site-packages/keras/src/layers/rnn/rnn.py:204: UserWarning: Do not pass an `input_shape`/`input_dim` argument to a layer. When using Sequential models, prefer using an `Input(shape)` object as the first layer in the model instead.\n",
      "  super().__init__(**kwargs)\n"
     ]
    },
    {
     "data": {
      "text/html": [
       "<pre style=\"white-space:pre;overflow-x:auto;line-height:normal;font-family:Menlo,'DejaVu Sans Mono',consolas,'Courier New',monospace\"><span style=\"font-weight: bold\">Model: \"sequential\"</span>\n",
       "</pre>\n"
      ],
      "text/plain": [
       "\u001b[1mModel: \"sequential\"\u001b[0m\n"
      ]
     },
     "metadata": {},
     "output_type": "display_data"
    },
    {
     "data": {
      "text/html": [
       "<pre style=\"white-space:pre;overflow-x:auto;line-height:normal;font-family:Menlo,'DejaVu Sans Mono',consolas,'Courier New',monospace\">┏━━━━━━━━━━━━━━━━━━━━━━━━━━━━━━━━━┳━━━━━━━━━━━━━━━━━━━━━━━━┳━━━━━━━━━━━━━━━┓\n",
       "┃<span style=\"font-weight: bold\"> Layer (type)                    </span>┃<span style=\"font-weight: bold\"> Output Shape           </span>┃<span style=\"font-weight: bold\">       Param # </span>┃\n",
       "┡━━━━━━━━━━━━━━━━━━━━━━━━━━━━━━━━━╇━━━━━━━━━━━━━━━━━━━━━━━━╇━━━━━━━━━━━━━━━┩\n",
       "│ lstm (<span style=\"color: #0087ff; text-decoration-color: #0087ff\">LSTM</span>)                     │ (<span style=\"color: #00d7ff; text-decoration-color: #00d7ff\">None</span>, <span style=\"color: #00af00; text-decoration-color: #00af00\">350</span>, <span style=\"color: #00af00; text-decoration-color: #00af00\">350</span>)       │       <span style=\"color: #00af00; text-decoration-color: #00af00\">495,600</span> │\n",
       "├─────────────────────────────────┼────────────────────────┼───────────────┤\n",
       "│ lstm_1 (<span style=\"color: #0087ff; text-decoration-color: #0087ff\">LSTM</span>)                   │ (<span style=\"color: #00d7ff; text-decoration-color: #00d7ff\">None</span>, <span style=\"color: #00af00; text-decoration-color: #00af00\">350</span>, <span style=\"color: #00af00; text-decoration-color: #00af00\">50</span>)        │        <span style=\"color: #00af00; text-decoration-color: #00af00\">80,200</span> │\n",
       "├─────────────────────────────────┼────────────────────────┼───────────────┤\n",
       "│ lstm_2 (<span style=\"color: #0087ff; text-decoration-color: #0087ff\">LSTM</span>)                   │ (<span style=\"color: #00d7ff; text-decoration-color: #00d7ff\">None</span>, <span style=\"color: #00af00; text-decoration-color: #00af00\">12</span>)             │         <span style=\"color: #00af00; text-decoration-color: #00af00\">3,024</span> │\n",
       "├─────────────────────────────────┼────────────────────────┼───────────────┤\n",
       "│ repeat_vector (<span style=\"color: #0087ff; text-decoration-color: #0087ff\">RepeatVector</span>)    │ (<span style=\"color: #00d7ff; text-decoration-color: #00d7ff\">None</span>, <span style=\"color: #00af00; text-decoration-color: #00af00\">350</span>, <span style=\"color: #00af00; text-decoration-color: #00af00\">12</span>)        │             <span style=\"color: #00af00; text-decoration-color: #00af00\">0</span> │\n",
       "├─────────────────────────────────┼────────────────────────┼───────────────┤\n",
       "│ lstm_3 (<span style=\"color: #0087ff; text-decoration-color: #0087ff\">LSTM</span>)                   │ (<span style=\"color: #00d7ff; text-decoration-color: #00d7ff\">None</span>, <span style=\"color: #00af00; text-decoration-color: #00af00\">350</span>, <span style=\"color: #00af00; text-decoration-color: #00af00\">350</span>)       │       <span style=\"color: #00af00; text-decoration-color: #00af00\">508,200</span> │\n",
       "├─────────────────────────────────┼────────────────────────┼───────────────┤\n",
       "│ lstm_4 (<span style=\"color: #0087ff; text-decoration-color: #0087ff\">LSTM</span>)                   │ (<span style=\"color: #00d7ff; text-decoration-color: #00d7ff\">None</span>, <span style=\"color: #00af00; text-decoration-color: #00af00\">350</span>, <span style=\"color: #00af00; text-decoration-color: #00af00\">50</span>)        │        <span style=\"color: #00af00; text-decoration-color: #00af00\">80,200</span> │\n",
       "├─────────────────────────────────┼────────────────────────┼───────────────┤\n",
       "│ time_distributed                │ (<span style=\"color: #00d7ff; text-decoration-color: #00d7ff\">None</span>, <span style=\"color: #00af00; text-decoration-color: #00af00\">350</span>, <span style=\"color: #00af00; text-decoration-color: #00af00\">3</span>)         │           <span style=\"color: #00af00; text-decoration-color: #00af00\">153</span> │\n",
       "│ (<span style=\"color: #0087ff; text-decoration-color: #0087ff\">TimeDistributed</span>)               │                        │               │\n",
       "└─────────────────────────────────┴────────────────────────┴───────────────┘\n",
       "</pre>\n"
      ],
      "text/plain": [
       "┏━━━━━━━━━━━━━━━━━━━━━━━━━━━━━━━━━┳━━━━━━━━━━━━━━━━━━━━━━━━┳━━━━━━━━━━━━━━━┓\n",
       "┃\u001b[1m \u001b[0m\u001b[1mLayer (type)                   \u001b[0m\u001b[1m \u001b[0m┃\u001b[1m \u001b[0m\u001b[1mOutput Shape          \u001b[0m\u001b[1m \u001b[0m┃\u001b[1m \u001b[0m\u001b[1m      Param #\u001b[0m\u001b[1m \u001b[0m┃\n",
       "┡━━━━━━━━━━━━━━━━━━━━━━━━━━━━━━━━━╇━━━━━━━━━━━━━━━━━━━━━━━━╇━━━━━━━━━━━━━━━┩\n",
       "│ lstm (\u001b[38;5;33mLSTM\u001b[0m)                     │ (\u001b[38;5;45mNone\u001b[0m, \u001b[38;5;34m350\u001b[0m, \u001b[38;5;34m350\u001b[0m)       │       \u001b[38;5;34m495,600\u001b[0m │\n",
       "├─────────────────────────────────┼────────────────────────┼───────────────┤\n",
       "│ lstm_1 (\u001b[38;5;33mLSTM\u001b[0m)                   │ (\u001b[38;5;45mNone\u001b[0m, \u001b[38;5;34m350\u001b[0m, \u001b[38;5;34m50\u001b[0m)        │        \u001b[38;5;34m80,200\u001b[0m │\n",
       "├─────────────────────────────────┼────────────────────────┼───────────────┤\n",
       "│ lstm_2 (\u001b[38;5;33mLSTM\u001b[0m)                   │ (\u001b[38;5;45mNone\u001b[0m, \u001b[38;5;34m12\u001b[0m)             │         \u001b[38;5;34m3,024\u001b[0m │\n",
       "├─────────────────────────────────┼────────────────────────┼───────────────┤\n",
       "│ repeat_vector (\u001b[38;5;33mRepeatVector\u001b[0m)    │ (\u001b[38;5;45mNone\u001b[0m, \u001b[38;5;34m350\u001b[0m, \u001b[38;5;34m12\u001b[0m)        │             \u001b[38;5;34m0\u001b[0m │\n",
       "├─────────────────────────────────┼────────────────────────┼───────────────┤\n",
       "│ lstm_3 (\u001b[38;5;33mLSTM\u001b[0m)                   │ (\u001b[38;5;45mNone\u001b[0m, \u001b[38;5;34m350\u001b[0m, \u001b[38;5;34m350\u001b[0m)       │       \u001b[38;5;34m508,200\u001b[0m │\n",
       "├─────────────────────────────────┼────────────────────────┼───────────────┤\n",
       "│ lstm_4 (\u001b[38;5;33mLSTM\u001b[0m)                   │ (\u001b[38;5;45mNone\u001b[0m, \u001b[38;5;34m350\u001b[0m, \u001b[38;5;34m50\u001b[0m)        │        \u001b[38;5;34m80,200\u001b[0m │\n",
       "├─────────────────────────────────┼────────────────────────┼───────────────┤\n",
       "│ time_distributed                │ (\u001b[38;5;45mNone\u001b[0m, \u001b[38;5;34m350\u001b[0m, \u001b[38;5;34m3\u001b[0m)         │           \u001b[38;5;34m153\u001b[0m │\n",
       "│ (\u001b[38;5;33mTimeDistributed\u001b[0m)               │                        │               │\n",
       "└─────────────────────────────────┴────────────────────────┴───────────────┘\n"
      ]
     },
     "metadata": {},
     "output_type": "display_data"
    },
    {
     "data": {
      "text/html": [
       "<pre style=\"white-space:pre;overflow-x:auto;line-height:normal;font-family:Menlo,'DejaVu Sans Mono',consolas,'Courier New',monospace\"><span style=\"font-weight: bold\"> Total params: </span><span style=\"color: #00af00; text-decoration-color: #00af00\">1,167,377</span> (4.45 MB)\n",
       "</pre>\n"
      ],
      "text/plain": [
       "\u001b[1m Total params: \u001b[0m\u001b[38;5;34m1,167,377\u001b[0m (4.45 MB)\n"
      ]
     },
     "metadata": {},
     "output_type": "display_data"
    },
    {
     "data": {
      "text/html": [
       "<pre style=\"white-space:pre;overflow-x:auto;line-height:normal;font-family:Menlo,'DejaVu Sans Mono',consolas,'Courier New',monospace\"><span style=\"font-weight: bold\"> Trainable params: </span><span style=\"color: #00af00; text-decoration-color: #00af00\">1,167,377</span> (4.45 MB)\n",
       "</pre>\n"
      ],
      "text/plain": [
       "\u001b[1m Trainable params: \u001b[0m\u001b[38;5;34m1,167,377\u001b[0m (4.45 MB)\n"
      ]
     },
     "metadata": {},
     "output_type": "display_data"
    },
    {
     "data": {
      "text/html": [
       "<pre style=\"white-space:pre;overflow-x:auto;line-height:normal;font-family:Menlo,'DejaVu Sans Mono',consolas,'Courier New',monospace\"><span style=\"font-weight: bold\"> Non-trainable params: </span><span style=\"color: #00af00; text-decoration-color: #00af00\">0</span> (0.00 B)\n",
       "</pre>\n"
      ],
      "text/plain": [
       "\u001b[1m Non-trainable params: \u001b[0m\u001b[38;5;34m0\u001b[0m (0.00 B)\n"
      ]
     },
     "metadata": {},
     "output_type": "display_data"
    }
   ],
   "source": [
    "lstm_autoencoder2.build_model()"
   ]
  },
  {
   "cell_type": "code",
   "execution_count": 10,
   "id": "a859f035-bef6-4b2c-b495-6a03eeca7e5f",
   "metadata": {},
   "outputs": [],
   "source": [
    "Datas = Openfile(files[3])"
   ]
  },
  {
   "cell_type": "code",
   "execution_count": 13,
   "id": "5f4c86a6-5929-4bc0-83c8-2f07e6a2ebb1",
   "metadata": {},
   "outputs": [
    {
     "data": {
      "text/plain": [
       "(93, 750, 3)"
      ]
     },
     "execution_count": 13,
     "metadata": {},
     "output_type": "execute_result"
    }
   ],
   "source": [
    "np.shape(Datas[0])"
   ]
  },
  {
   "cell_type": "code",
   "execution_count": null,
   "id": "ff7d80cb-77ce-44bb-bd8b-632db6cb6898",
   "metadata": {},
   "outputs": [],
   "source": []
  },
  {
   "cell_type": "code",
   "execution_count": null,
   "id": "d87cd396-b50b-4274-b638-1f39b1e12c64",
   "metadata": {},
   "outputs": [],
   "source": []
  },
  {
   "cell_type": "code",
   "execution_count": 6,
   "id": "79170ced",
   "metadata": {},
   "outputs": [
    {
     "name": "stdout",
     "output_type": "stream",
     "text": [
      "Starting Loop 1 of 35\n"
     ]
    },
    {
     "name": "stderr",
     "output_type": "stream",
     "text": [
      "/usr/local/anaconda3-2021.11/lib/python3.9/site-packages/joblib/externals/loky/process_executor.py:702: UserWarning: A worker stopped while some jobs were given to the executor. This can be caused by a too short worker timeout or by a memory leak.\n",
      "  warnings.warn(\n"
     ]
    },
    {
     "name": "stdout",
     "output_type": "stream",
     "text": [
      "bad file  230111 recording4-002243.p\n",
      "bad file  230210 recording1-001099.p\n"
     ]
    }
   ],
   "source": [
    "TotalMoves=0\n",
    "Loops=int(len(files)/FileBatch)+1\n",
    "\n",
    "\n",
    "random.shuffle(files)\n",
    "\n",
    "k=0\n",
    "print(\"Starting Loop \"+str(k+1)+\" of \"+str(Loops+1))\n",
    "\n",
    "start = k * FileBatch\n",
    "\n",
    "Results = Parallel(n_jobs=2)(delayed(Openfile)(file) for file in files[start:start+FileBatch])\n",
    "\n",
    "Moves = []\n",
    "Names = []\n",
    "for result in Results:\n",
    "    try:\n",
    "        for j in range(len(result[0])):\n",
    "            Moves.append(result[0][j,:,:])\n",
    "            Names.append(result[1]+str(i).zfill(5))\n",
    "            i+=1\n",
    "    except:\n",
    "        pass\n",
    "\n",
    "del Results"
   ]
  },
  {
   "cell_type": "code",
   "execution_count": 7,
   "id": "66063d65",
   "metadata": {},
   "outputs": [
    {
     "data": {
      "text/plain": [
       "19194"
      ]
     },
     "execution_count": 7,
     "metadata": {},
     "output_type": "execute_result"
    }
   ],
   "source": [
    "len(Moves)"
   ]
  },
  {
   "cell_type": "code",
   "execution_count": null,
   "id": "19030a68",
   "metadata": {},
   "outputs": [],
   "source": [
    "X, y = list(), list()\n",
    "for move in Moves:\n",
    "    X.append(move[:TimeSteps,:].flatten())\n",
    "    y.append(move[TimeSteps:TimeSteps+PredictSize,:].flatten())\n",
    "    X.append(move[TimeSteps+PredictSize:2*TimeSteps+PredictSize,:].flatten())\n",
    "    y.append(move[2*TimeSteps+PredictSize:,:].flatten())\n",
    "    TotalMoves+=1\n",
    "\n",
    "Batches = 32\n",
    "\n",
    "with tf.device('/cpu:0'):\n",
    "    X = tf.convert_to_tensor(X, np.float32)\n",
    "    y = tf.convert_to_tensor(y, np.float32)\n",
    "\n",
    "lstm_autoencoder2.model.fit(X, y, epochs=4, batch_size=Batches, verbose=2)\n",
    "\n",
    "lstm_autoencoder2.model.save(\"LSTM_AtOnce_350p25\")\n",
    "\n",
    "print('Total Moves ',TotalMoves)\n",
    "\n",
    "del X, y, Moves, Names"
   ]
  },
  {
   "cell_type": "code",
   "execution_count": 2,
   "id": "f28fa44c",
   "metadata": {},
   "outputs": [],
   "source": [
    "import numpy as np"
   ]
  },
  {
   "cell_type": "code",
   "execution_count": 42,
   "id": "35d7b25a",
   "metadata": {},
   "outputs": [],
   "source": [
    "Test = [1,2,3,4,5,6,7,8,9]"
   ]
  },
  {
   "cell_type": "code",
   "execution_count": 43,
   "id": "5f51f500",
   "metadata": {},
   "outputs": [
    {
     "ename": "AttributeError",
     "evalue": "'list' object has no attribute 'type'",
     "output_type": "error",
     "traceback": [
      "\u001b[0;31m---------------------------------------------------------------------------\u001b[0m",
      "\u001b[0;31mAttributeError\u001b[0m                            Traceback (most recent call last)",
      "\u001b[0;32m/local/scr/dchendrickson01/TMPDIR/ipykernel_157563/397801066.py\u001b[0m in \u001b[0;36m<module>\u001b[0;34m\u001b[0m\n\u001b[0;32m----> 1\u001b[0;31m \u001b[0mTest\u001b[0m\u001b[0;34m.\u001b[0m\u001b[0mtype\u001b[0m\u001b[0;34m(\u001b[0m\u001b[0;34m)\u001b[0m\u001b[0;34m\u001b[0m\u001b[0;34m\u001b[0m\u001b[0m\n\u001b[0m",
      "\u001b[0;31mAttributeError\u001b[0m: 'list' object has no attribute 'type'"
     ]
    }
   ],
   "source": [
    "Test.type()"
   ]
  },
  {
   "cell_type": "code",
   "execution_count": 11,
   "id": "05198a44",
   "metadata": {},
   "outputs": [
    {
     "data": {
      "text/plain": [
       "[1, 2, 3, 4, 5, 6, 7, 8, 9, 0.0, 0.0, 0.0, 0.0, 0.0]"
      ]
     },
     "execution_count": 11,
     "metadata": {},
     "output_type": "execute_result"
    }
   ],
   "source": [
    "Test.extend(np.zeros(5))\n",
    "Test"
   ]
  },
  {
   "cell_type": "code",
   "execution_count": 14,
   "id": "9a1eb2df",
   "metadata": {},
   "outputs": [],
   "source": [
    "test = np.matrix(Test)"
   ]
  },
  {
   "cell_type": "code",
   "execution_count": 33,
   "id": "676f65c0",
   "metadata": {},
   "outputs": [],
   "source": [
    "Test.insert(0, Test.pop())"
   ]
  },
  {
   "cell_type": "code",
   "execution_count": 34,
   "id": "af74e09d",
   "metadata": {},
   "outputs": [],
   "source": [
    "test = np.concatenate((np.matrix(Test),test))"
   ]
  },
  {
   "cell_type": "code",
   "execution_count": 35,
   "id": "c926c093",
   "metadata": {},
   "outputs": [
    {
     "data": {
      "text/plain": [
       "matrix([[0., 0., 0., 0., 0., 1., 2., 3., 4., 5., 6., 7., 8., 9.],\n",
       "        [0., 0., 0., 0., 1., 2., 3., 4., 5., 6., 7., 8., 9., 0.],\n",
       "        [0., 0., 0., 1., 2., 3., 4., 5., 6., 7., 8., 9., 0., 0.],\n",
       "        [0., 0., 1., 2., 3., 4., 5., 6., 7., 8., 9., 0., 0., 0.],\n",
       "        [0., 1., 2., 3., 4., 5., 6., 7., 8., 9., 0., 0., 0., 0.],\n",
       "        [1., 2., 3., 4., 5., 6., 7., 8., 9., 0., 0., 0., 0., 0.]])"
      ]
     },
     "execution_count": 35,
     "metadata": {},
     "output_type": "execute_result"
    }
   ],
   "source": [
    "test"
   ]
  },
  {
   "cell_type": "code",
   "execution_count": 36,
   "id": "6b9f8e91",
   "metadata": {},
   "outputs": [],
   "source": [
    "sVect = test.sum(axis=0)"
   ]
  },
  {
   "cell_type": "code",
   "execution_count": 37,
   "id": "d1517295",
   "metadata": {},
   "outputs": [
    {
     "data": {
      "text/plain": [
       "matrix([[ 1.,  3.,  6., 10., 15., 21., 27., 33., 39., 35., 30., 24., 17.,\n",
       "          9.]])"
      ]
     },
     "execution_count": 37,
     "metadata": {},
     "output_type": "execute_result"
    }
   ],
   "source": [
    "sVect"
   ]
  },
  {
   "cell_type": "code",
   "execution_count": 38,
   "id": "c8a557f9",
   "metadata": {},
   "outputs": [
    {
     "data": {
      "text/plain": [
       "matrix([[1, 2, 3, 4, 5, 6, 6, 6, 6, 5, 4, 3, 2, 1]])"
      ]
     },
     "execution_count": 38,
     "metadata": {},
     "output_type": "execute_result"
    }
   ],
   "source": [
    "eVect = (test!=0).sum(axis=0)\n",
    "eVect"
   ]
  },
  {
   "cell_type": "code",
   "execution_count": 39,
   "id": "60e9ca6f",
   "metadata": {},
   "outputs": [],
   "source": [
    "VarVect = sVect / eVect"
   ]
  },
  {
   "cell_type": "code",
   "execution_count": 40,
   "id": "158e6c44",
   "metadata": {},
   "outputs": [],
   "source": [
    "StdDev = np.sqrt(VarVect)"
   ]
  },
  {
   "cell_type": "code",
   "execution_count": 41,
   "id": "6c171294",
   "metadata": {},
   "outputs": [
    {
     "data": {
      "text/plain": [
       "matrix([[1.        , 1.22474487, 1.41421356, 1.58113883, 1.73205081,\n",
       "         1.87082869, 2.12132034, 2.34520788, 2.54950976, 2.64575131,\n",
       "         2.73861279, 2.82842712, 2.91547595, 3.        ]])"
      ]
     },
     "execution_count": 41,
     "metadata": {},
     "output_type": "execute_result"
    }
   ],
   "source": [
    "StdDev"
   ]
  },
  {
   "cell_type": "code",
   "execution_count": 45,
   "id": "077eb107",
   "metadata": {},
   "outputs": [],
   "source": [
    "StdDev = np.asarray(StdDev)"
   ]
  },
  {
   "cell_type": "code",
   "execution_count": 46,
   "id": "8507c660",
   "metadata": {},
   "outputs": [
    {
     "data": {
      "text/plain": [
       "array([1.        , 1.22474487, 1.41421356, 1.58113883, 1.73205081,\n",
       "       1.87082869, 2.12132034, 2.34520788, 2.54950976, 2.64575131,\n",
       "       2.73861279, 2.82842712, 2.91547595, 3.        , 0.        ])"
      ]
     },
     "execution_count": 46,
     "metadata": {},
     "output_type": "execute_result"
    }
   ],
   "source": [
    "np.append(StdDev,[0])"
   ]
  },
  {
   "cell_type": "code",
   "execution_count": 49,
   "id": "ae171101",
   "metadata": {
    "scrolled": true
   },
   "outputs": [
    {
     "data": {
      "text/plain": [
       "matrix([[0.16666667, 0.5       , 1.        , 1.66666667, 2.5       ,\n",
       "         3.5       , 4.5       , 5.5       , 6.5       , 5.83333333,\n",
       "         5.        , 4.        , 2.83333333, 1.5       ]])"
      ]
     },
     "execution_count": 49,
     "metadata": {},
     "output_type": "execute_result"
    }
   ],
   "source": [
    "np.average(test,axis=0)"
   ]
  },
  {
   "cell_type": "code",
   "execution_count": null,
   "id": "9ad30ece-aa51-40d2-b1bb-7caa351f2840",
   "metadata": {},
   "outputs": [],
   "source": []
  },
  {
   "cell_type": "code",
   "execution_count": null,
   "id": "a97944be-9d20-4570-875c-730de047d14d",
   "metadata": {},
   "outputs": [],
   "source": []
  },
  {
   "cell_type": "code",
   "execution_count": 1,
   "id": "862f6bfc-cbdc-4733-a8a7-d994d1fdfbce",
   "metadata": {},
   "outputs": [],
   "source": [
    "import os\n",
    "import shutil"
   ]
  },
  {
   "cell_type": "code",
   "execution_count": 2,
   "id": "76202d0d-6d8a-4a25-9643-3c289aa2c9ab",
   "metadata": {},
   "outputs": [],
   "source": [
    "Folder = '/scratch/1000Input/'"
   ]
  },
  {
   "cell_type": "code",
   "execution_count": null,
   "id": "c5eba703-988b-4706-b8a3-1f949edbbe77",
   "metadata": {},
   "outputs": [],
   "source": [
    "%%time\n",
    "file_list = [\n",
    "    os.path.join(Folder,file)\n",
    "    for file in os.listdir(Folder) if file.endswith('Data.csv') and file.startswith('2')\n",
    "]"
   ]
  },
  {
   "cell_type": "code",
   "execution_count": null,
   "id": "83c8a4de-e9b4-4bd3-9797-b974733073f0",
   "metadata": {},
   "outputs": [],
   "source": []
  },
  {
   "cell_type": "code",
   "execution_count": 1,
   "id": "cb666606-8beb-4c9c-ba5a-72c6a47707b6",
   "metadata": {},
   "outputs": [],
   "source": [
    "import glob"
   ]
  },
  {
   "cell_type": "code",
   "execution_count": 7,
   "id": "4fc71536-312f-4804-a04e-0fe853f263d3",
   "metadata": {},
   "outputs": [
    {
     "name": "stdout",
     "output_type": "stream",
     "text": [
      "CPU times: user 1min 3s, sys: 3min 50s, total: 4min 53s\n",
      "Wall time: 1h 32min 51s\n"
     ]
    }
   ],
   "source": [
    "%%time\n",
    "file_list = glob.glob(os.path.join(Folder, '*Data.csv'))"
   ]
  },
  {
   "cell_type": "code",
   "execution_count": 8,
   "id": "693bdf38-afbf-4482-8d5c-3f439d08895a",
   "metadata": {},
   "outputs": [
    {
     "data": {
      "text/plain": [
       "31584432"
      ]
     },
     "execution_count": 8,
     "metadata": {},
     "output_type": "execute_result"
    }
   ],
   "source": [
    "len(file_list)\n"
   ]
  },
  {
   "cell_type": "code",
   "execution_count": 3,
   "id": "e3eeaa8e-cc64-4402-8aa8-31903228c868",
   "metadata": {},
   "outputs": [],
   "source": [
    "def list_csv_files(directory):\n",
    "    csv_files = []\n",
    "    with os.scandir(directory) as entries:\n",
    "        for entry in entries:\n",
    "            if entry.is_file() and entry.name.endswith('Data.csv'):\n",
    "                csv_files.append(entry.path)\n",
    "    return csv_files"
   ]
  },
  {
   "cell_type": "code",
   "execution_count": null,
   "id": "012c8321-f04b-4428-8c95-b15a847a8ef2",
   "metadata": {},
   "outputs": [],
   "source": [
    "%%time\n",
    "csv_files = list_csv_files(Folder)"
   ]
  },
  {
   "cell_type": "code",
   "execution_count": null,
   "id": "42030e30-01f1-4fe3-9ecf-5dcd6c5679b7",
   "metadata": {},
   "outputs": [],
   "source": [
    "len(csv_files)\n"
   ]
  },
  {
   "cell_type": "code",
   "execution_count": null,
   "id": "e48e2151-ae82-4ce1-b173-2b6a0126e5d3",
   "metadata": {},
   "outputs": [],
   "source": []
  },
  {
   "cell_type": "code",
   "execution_count": null,
   "id": "efc0d1a6-4bba-468d-b535-b6e42c0b248e",
   "metadata": {},
   "outputs": [],
   "source": [
    "from pathlib import Path"
   ]
  },
  {
   "cell_type": "code",
   "execution_count": null,
   "id": "97176c87-7a01-4391-8c3b-63805bf2ee20",
   "metadata": {},
   "outputs": [],
   "source": [
    "[str(p) for p in Path(directory).iterdir() if p.is_file() and ]"
   ]
  },
  {
   "cell_type": "code",
   "execution_count": null,
   "id": "f043a908-a18d-4bae-91f3-efa0bcdd494a",
   "metadata": {},
   "outputs": [],
   "source": []
  },
  {
   "cell_type": "code",
   "execution_count": 4,
   "id": "bb8dade5-29b0-43e7-96ce-dda691027e4c",
   "metadata": {},
   "outputs": [],
   "source": [
    "import random"
   ]
  },
  {
   "cell_type": "code",
   "execution_count": 5,
   "id": "8192cee6-9d5c-44d8-81e9-86dc5e3f1ca9",
   "metadata": {},
   "outputs": [],
   "source": [
    "random.shuffle(file_list)"
   ]
  },
  {
   "cell_type": "code",
   "execution_count": 8,
   "id": "3639a0f2-8c78-40a6-9273-ef5fa1951e28",
   "metadata": {},
   "outputs": [],
   "source": [
    "for i in range(2000):\n",
    "    shutil.copy(file_list[i],'/scratch/1000Sm/')\n",
    "    shutil.copy(file_list[i][:-8]+'Outs.csv','/scratch/1000Sm/')"
   ]
  },
  {
   "cell_type": "code",
   "execution_count": null,
   "id": "9faa7cc6-287d-44f9-b1d0-26a832d626a9",
   "metadata": {},
   "outputs": [],
   "source": []
  },
  {
   "cell_type": "code",
   "execution_count": null,
   "id": "af9881cc-9c25-489a-8867-437d9f0193b4",
   "metadata": {},
   "outputs": [],
   "source": []
  }
 ],
 "metadata": {
  "kernelspec": {
   "display_name": "Python 3 (ipykernel)",
   "language": "python",
   "name": "python3"
  },
  "language_info": {
   "codemirror_mode": {
    "name": "ipython",
    "version": 3
   },
   "file_extension": ".py",
   "mimetype": "text/x-python",
   "name": "python",
   "nbconvert_exporter": "python",
   "pygments_lexer": "ipython3",
   "version": "3.11.0rc1"
  }
 },
 "nbformat": 4,
 "nbformat_minor": 5
}
