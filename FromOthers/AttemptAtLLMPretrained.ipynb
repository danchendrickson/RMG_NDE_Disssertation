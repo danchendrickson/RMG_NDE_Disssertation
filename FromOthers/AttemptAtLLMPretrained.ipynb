{
 "cells": [
  {
   "cell_type": "markdown",
   "id": "51af3168-6b78-4e94-b6a4-c6f29b749a64",
   "metadata": {},
   "source": [
    "# Running a demo on training a pretrained"
   ]
  },
  {
   "cell_type": "markdown",
   "id": "66b5be87-2fb6-4c0c-b566-37fee5e6cb53",
   "metadata": {},
   "source": [
    "Going to try this wiht text prediction, and then use the pretrain to just choose numbers for acceleration, not sure if it will work, but it is in line with several papers\n",
    "\n",
    "https://www.datacamp.com/tutorial/how-to-train-a-llm-with-pytorch"
   ]
  },
  {
   "cell_type": "markdown",
   "id": "49911042-906d-4b69-9e80-5454a3e61113",
   "metadata": {},
   "source": []
  },
  {
   "cell_type": "code",
   "execution_count": 2,
   "id": "e8b306e5-64f6-4eb4-bd19-886fc723d317",
   "metadata": {},
   "outputs": [],
   "source": [
    "import torch\n",
    "from trl import SFTTrainer\n",
    "from datasets import load_dataset\n",
    "from peft import LoraConfig, get_peft_model, prepare_model_for_kbit_training\n",
    "from transformers import AutoModelForCausalLM, AutoTokenizer, TrainingArguments"
   ]
  },
  {
   "cell_type": "code",
   "execution_count": 3,
   "id": "f79c0239-59eb-4cf6-9ff3-691905022b16",
   "metadata": {},
   "outputs": [
    {
     "name": "stderr",
     "output_type": "stream",
     "text": [
      "Downloading readme: 100%|██████████████████████████████████████████████████| 7.47k/7.47k [00:00<00:00, 20.0MB/s]\n",
      "Downloading data: 100%|████████████████████████████████████████████████████| 24.2M/24.2M [00:00<00:00, 36.1MB/s]\n",
      "Generating train split: 52002 examples [00:00, 115721.30 examples/s]\n"
     ]
    },
    {
     "name": "stdout",
     "output_type": "stream",
     "text": [
      "Dataset({\n",
      "    features: ['instruction', 'input', 'output', 'text'],\n",
      "    num_rows: 52002\n",
      "})\n"
     ]
    }
   ],
   "source": [
    "train_dataset = load_dataset(\"tatsu-lab/alpaca\", split=\"train\")\n",
    "print(train_dataset)"
   ]
  },
  {
   "cell_type": "code",
   "execution_count": 7,
   "id": "4943439a-21d7-4e55-9d00-e2f9d8ffb64e",
   "metadata": {},
   "outputs": [
    {
     "data": {
      "text/plain": [
       "{'instruction': 'Generate name ideas for a pet shop.',\n",
       " 'input': '',\n",
       " 'output': \"1. Furry Friends Emporium\\n2. Paws-itively Purrfect\\n3. Critter Corner\\n4. Zoomin' Pet Store \\n5. Snuggle Safari \\n6. Pawsibilities Unleashed\\n7. Pet Paradise\\n8. Tail Waggin' Outlet\",\n",
       " 'text': \"Below is an instruction that describes a task. Write a response that appropriately completes the request.\\n\\n### Instruction:\\nGenerate name ideas for a pet shop.\\n\\n### Response:\\n1. Furry Friends Emporium\\n2. Paws-itively Purrfect\\n3. Critter Corner\\n4. Zoomin' Pet Store \\n5. Snuggle Safari \\n6. Pawsibilities Unleashed\\n7. Pet Paradise\\n8. Tail Waggin' Outlet\"}"
      ]
     },
     "execution_count": 7,
     "metadata": {},
     "output_type": "execute_result"
    }
   ],
   "source": [
    "train_dataset[9950]"
   ]
  },
  {
   "cell_type": "code",
   "execution_count": 8,
   "id": "a985fda7-0dd6-4be4-aaee-b2113beb8abc",
   "metadata": {},
   "outputs": [
    {
     "data": {
      "text/html": [
       "<div>\n",
       "<style scoped>\n",
       "    .dataframe tbody tr th:only-of-type {\n",
       "        vertical-align: middle;\n",
       "    }\n",
       "\n",
       "    .dataframe tbody tr th {\n",
       "        vertical-align: top;\n",
       "    }\n",
       "\n",
       "    .dataframe thead th {\n",
       "        text-align: right;\n",
       "    }\n",
       "</style>\n",
       "<table border=\"1\" class=\"dataframe\">\n",
       "  <thead>\n",
       "    <tr style=\"text-align: right;\">\n",
       "      <th></th>\n",
       "      <th>instruction</th>\n",
       "      <th>input</th>\n",
       "      <th>output</th>\n",
       "      <th>text</th>\n",
       "    </tr>\n",
       "  </thead>\n",
       "  <tbody>\n",
       "    <tr>\n",
       "      <th>0</th>\n",
       "      <td>Give three tips for staying healthy.</td>\n",
       "      <td></td>\n",
       "      <td>1.Eat a balanced diet and make sure to include...</td>\n",
       "      <td>Below is an instruction that describes a task....</td>\n",
       "    </tr>\n",
       "    <tr>\n",
       "      <th>1</th>\n",
       "      <td>What are the three primary colors?</td>\n",
       "      <td></td>\n",
       "      <td>The three primary colors are red, blue, and ye...</td>\n",
       "      <td>Below is an instruction that describes a task....</td>\n",
       "    </tr>\n",
       "    <tr>\n",
       "      <th>2</th>\n",
       "      <td>Describe the structure of an atom.</td>\n",
       "      <td></td>\n",
       "      <td>An atom is made up of a nucleus, which contain...</td>\n",
       "      <td>Below is an instruction that describes a task....</td>\n",
       "    </tr>\n",
       "    <tr>\n",
       "      <th>3</th>\n",
       "      <td>How can we reduce air pollution?</td>\n",
       "      <td></td>\n",
       "      <td>There are a number of ways to reduce air pollu...</td>\n",
       "      <td>Below is an instruction that describes a task....</td>\n",
       "    </tr>\n",
       "    <tr>\n",
       "      <th>4</th>\n",
       "      <td>Describe a time when you had to make a difficu...</td>\n",
       "      <td></td>\n",
       "      <td>I had to make a difficult decision when I was ...</td>\n",
       "      <td>Below is an instruction that describes a task....</td>\n",
       "    </tr>\n",
       "  </tbody>\n",
       "</table>\n",
       "</div>"
      ],
      "text/plain": [
       "                                         instruction input  \\\n",
       "0               Give three tips for staying healthy.         \n",
       "1                 What are the three primary colors?         \n",
       "2                 Describe the structure of an atom.         \n",
       "3                   How can we reduce air pollution?         \n",
       "4  Describe a time when you had to make a difficu...         \n",
       "\n",
       "                                              output  \\\n",
       "0  1.Eat a balanced diet and make sure to include...   \n",
       "1  The three primary colors are red, blue, and ye...   \n",
       "2  An atom is made up of a nucleus, which contain...   \n",
       "3  There are a number of ways to reduce air pollu...   \n",
       "4  I had to make a difficult decision when I was ...   \n",
       "\n",
       "                                                text  \n",
       "0  Below is an instruction that describes a task....  \n",
       "1  Below is an instruction that describes a task....  \n",
       "2  Below is an instruction that describes a task....  \n",
       "3  Below is an instruction that describes a task....  \n",
       "4  Below is an instruction that describes a task....  "
      ]
     },
     "metadata": {},
     "output_type": "display_data"
    }
   ],
   "source": [
    "pandas_format = train_dataset.to_pandas()\n",
    "display(pandas_format.head())"
   ]
  },
  {
   "cell_type": "code",
   "execution_count": 9,
   "id": "8d196376-d7d3-4bef-8bf4-5bacc97140f5",
   "metadata": {},
   "outputs": [
    {
     "name": "stderr",
     "output_type": "stream",
     "text": [
      "Downloading shards: 100%|████████████████████████████████████████████████████████| 3/3 [10:17<00:00, 205.79s/it]\n",
      "Loading checkpoint shards: 100%|██████████████████████████████████████████████████| 3/3 [00:30<00:00, 10.03s/it]\n",
      "A new version of the following files was downloaded from https://huggingface.co/Salesforce/xgen-7b-8k-base:\n",
      "- tokenization_xgen.py\n",
      ". Make sure to double-check they do not contain any added malicious code. To avoid downloading new versions of the code file, you can pin a revision.\n"
     ]
    }
   ],
   "source": [
    "pretrained_model_name = \"Salesforce/xgen-7b-8k-base\"\n",
    "model = AutoModelForCausalLM.from_pretrained(pretrained_model_name, torch_dtype=torch.bfloat16)\n",
    "tokenizer = AutoTokenizer.from_pretrained(pretrained_model_name, trust_remote_code=True)"
   ]
  },
  {
   "cell_type": "code",
   "execution_count": 10,
   "id": "761530dc-b84c-4dcb-a7c8-ecea24b1e784",
   "metadata": {},
   "outputs": [],
   "source": [
    "model_training_args = TrainingArguments(\n",
    "       output_dir=\"xgen-7b-8k-base-fine-tuned\",\n",
    "       per_device_train_batch_size=4,\n",
    "       optim=\"adamw_torch\",\n",
    "       logging_steps=80,\n",
    "       learning_rate=2e-4,\n",
    "       warmup_ratio=0.1,\n",
    "       lr_scheduler_type=\"linear\",\n",
    "       num_train_epochs=1,\n",
    "       save_strategy=\"epoch\"\n",
    "   )"
   ]
  },
  {
   "cell_type": "code",
   "execution_count": 11,
   "id": "0b865384-4a0a-4ca8-af0c-d7f41eea6d7a",
   "metadata": {},
   "outputs": [
    {
     "data": {
      "image/png": "[encoded data removed]",
      "text/plain": [
       "<Figure size 1000x600 with 1 Axes>"
      ]
     },
     "metadata": {},
     "output_type": "display_data"
    }
   ],
   "source": [
    "import matplotlib.pyplot as plt\n",
    "\n",
    "\n",
    "pandas_format['text_length'] = pandas_format['text'].apply(len)\n",
    "\n",
    "\n",
    "plt.figure(figsize=(10,6))\n",
    "plt.hist(pandas_format['text_length'], bins=50, alpha=0.5, color='g')\n",
    "plt.title('Distribution of Length of Text')\n",
    "plt.xlabel('Length of Text')\n",
    "plt.ylabel('Frequency')\n",
    "plt.grid(True)\n",
    "plt.show()"
   ]
  },
  {
   "cell_type": "code",
   "execution_count": 12,
   "id": "ac3b5b7e-7de3-4e6a-80d8-5662f31b1b0e",
   "metadata": {},
   "outputs": [
    {
     "ename": "NameError",
     "evalue": "name 'lora_peft_config' is not defined",
     "output_type": "error",
     "traceback": [
      "\u001b[0;31m---------------------------------------------------------------------------\u001b[0m",
      "\u001b[0;31mNameError\u001b[0m                                 Traceback (most recent call last)",
      "Cell \u001b[0;32mIn[12], line 9\u001b[0m\n\u001b[1;32m      1\u001b[0m SFT_trainer \u001b[38;5;241m=\u001b[39m SFTTrainer(\n\u001b[1;32m      2\u001b[0m        model\u001b[38;5;241m=\u001b[39mmodel,\n\u001b[1;32m      3\u001b[0m        train_dataset\u001b[38;5;241m=\u001b[39mtrain_dataset,\n\u001b[1;32m      4\u001b[0m        dataset_text_field\u001b[38;5;241m=\u001b[39m\u001b[38;5;124m\"\u001b[39m\u001b[38;5;124mtext\u001b[39m\u001b[38;5;124m\"\u001b[39m,\n\u001b[1;32m      5\u001b[0m        max_seq_length\u001b[38;5;241m=\u001b[39m\u001b[38;5;241m1024\u001b[39m,\n\u001b[1;32m      6\u001b[0m        tokenizer\u001b[38;5;241m=\u001b[39mtokenizer,\n\u001b[1;32m      7\u001b[0m        args\u001b[38;5;241m=\u001b[39mmodel_training_args,\n\u001b[1;32m      8\u001b[0m        packing\u001b[38;5;241m=\u001b[39m\u001b[38;5;28;01mTrue\u001b[39;00m,\n\u001b[0;32m----> 9\u001b[0m        peft_config\u001b[38;5;241m=\u001b[39m\u001b[43mlora_peft_config\u001b[49m,\n\u001b[1;32m     10\u001b[0m    )\n",
      "\u001b[0;31mNameError\u001b[0m: name 'lora_peft_config' is not defined"
     ]
    }
   ],
   "source": [
    "SFT_trainer = SFTTrainer(\n",
    "       model=model,\n",
    "       train_dataset=train_dataset,\n",
    "       dataset_text_field=\"text\",\n",
    "       max_seq_length=1024,\n",
    "       tokenizer=tokenizer,\n",
    "       args=model_training_args,\n",
    "       packing=True,\n",
    "       peft_config=lora_peft_config,\n",
    "   )\n"
   ]
  }
 ],
 "metadata": {
  "kernelspec": {
   "display_name": "Python 3 (ipykernel)",
   "language": "python",
   "name": "python3"
  },
  "language_info": {
   "codemirror_mode": {
    "name": "ipython",
    "version": 3
   },
   "file_extension": ".py",
   "mimetype": "text/x-python",
   "name": "python",
   "nbconvert_exporter": "python",
   "pygments_lexer": "ipython3",
   "version": "3.10.13"
  }
 },
 "nbformat": 4,
 "nbformat_minor": 5
}
