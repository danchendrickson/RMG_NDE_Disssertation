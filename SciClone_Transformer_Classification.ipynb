{
 "cells": [
  {
   "cell_type": "code",
   "execution_count": 1,
   "metadata": {},
   "outputs": [],
   "source": [
    "import numpy as np\n",
    "import matplotlib.pyplot as plt\n",
    "\n",
    "import os\n",
    "import random\n",
    "import datetime\n",
    "\n",
    "import multiprocessing\n",
    "from joblib import Parallel, delayed\n",
    "\n",
    "\n",
    "import keras\n",
    "#from keras import applications\n",
    "#from keras.preprocessing.image import ImageDataGenerator\n",
    "#from keras import optimizers\n",
    "from keras.models import Sequential, Model \n",
    "from keras import layers\n",
    "#from keras.callbacks import ModelCheckpoint, LearningRateScheduler, TensorBoard, EarlyStopping\n",
    " \n",
    "#import cv2\n",
    "from sklearn.model_selection import train_test_split\n",
    "import keras_metrics as km\n",
    "  \n",
    "#from sklearn.metrics import accuracy_score\n",
    "#from sklearn.metrics import precision_score\n",
    "#from sklearn.metrics import recall_score\n",
    "#from sklearn.metrics import f1_score\n",
    "#from sklearn.metrics import cohen_kappa_score\n",
    "#from sklearn.metrics import roc_auc_score\n",
    "#from sklearn.metrics import multilabel_confusion_matrix\n"
   ]
  },
  {
   "cell_type": "code",
   "execution_count": 2,
   "metadata": {},
   "outputs": [],
   "source": [
    "\n",
    "import tensorflow as tf\n",
    "\n"
   ]
  },
  {
   "cell_type": "code",
   "execution_count": 3,
   "metadata": {},
   "outputs": [],
   "source": [
    "\n",
    "SensorPositonFile = 'D:\\\\SensorStatsSmall.csv'\n",
    "folder = 'D:\\\\CraneData\\\\'\n",
    "SaveModelFolder = 'D:\\\\SavedModel\\\\'\n",
    "\n",
    "img_height , img_width = 3, 100\n",
    "FrameLength = img_width\n",
    "numberFrames = 1200\n",
    "NumberOfFiles = 100\n",
    "DataSmoothing = 1 # 0 = none, 1 = rolling average, 2 = rolling StdDev\n",
    "num_cores = multiprocessing.cpu_count() -1\n",
    "\n",
    "OutputVectors = np.genfromtxt(open(SensorPositonFile,'r'), delimiter=',',skip_header=1,dtype=int, missing_values=0)\n"
   ]
  },
  {
   "cell_type": "code",
   "execution_count": 4,
   "metadata": {},
   "outputs": [],
   "source": [
    "\n",
    "def truthVector(Filename):\n",
    "    # Parses the filename, and compares it against the record of sensor position on cranes\n",
    "    # inputs: filename\n",
    "    # outputs: truth vector\n",
    "\n",
    "\n",
    "    #Parsing the file name.  Assuming it is in the standard format\n",
    "    sSensor = Filename[23]\n",
    "    sDate = datetime.datetime.strptime('20'+Filename[10:21],\"%Y%m%d-%H%M\")\n",
    "\n",
    "    mask = []\n",
    "\n",
    "    i=0\n",
    "    #loops through the known sensor movements, and creates a filter mask\n",
    "    for spf in OutputVectors:\n",
    "        \n",
    "        startDate = datetime.datetime.strptime(str(spf[0])+str(spf[1]).zfill(2)+str(spf[2]).zfill(2)\n",
    "            +str(spf[3]).zfill(2)+str(spf[4]).zfill(2),\"%Y%m%d%H%M\")\n",
    "        #datetime.date(int(spf[0]), int(spf[1]), int(spf[2])) + datetime.timedelta(hours=spf[3]) + datetime.timedelta(minutes=spf[4])\n",
    "        endDate = datetime.datetime.strptime(str(spf[5])+str(spf[6]).zfill(2)+str(spf[7]).zfill(2)\n",
    "            +str(spf[8]).zfill(2)+str(spf[9]).zfill(2),\"%Y%m%d%H%M\")\n",
    "        #datetime.date(int(spf[5]), int(spf[6]), int(spf[7])) + datetime.timedelta(hours=spf[8]) + datetime.timedelta(minutes=spf[9])\n",
    "        \n",
    "        if sDate >= startDate and sDate <= endDate and int(spf[10]) == int(sSensor):\n",
    "            mask.append(True)\n",
    "            i+=1\n",
    "        else:\n",
    "            mask.append(False)\n",
    "        \n",
    "    if i != 1: print('error ', i, Filename)\n",
    "\n",
    "    results = OutputVectors[mask,11:]\n",
    "\n",
    "    if i > 1: \n",
    "        print('Found Two ', Filename)\n",
    "        results = results[0,:]\n",
    "    #np.array(results)\n",
    "\n",
    "    return results\n"
   ]
  },
  {
   "cell_type": "code",
   "execution_count": 5,
   "metadata": {},
   "outputs": [],
   "source": [
    "\n",
    "def makeFrames(input): #,sequ,frameLength):\n",
    "    frames=[] #np.array([],dtype=object,)\n",
    "    segmentGap = int((np.shape(input)[0]-FrameLength)/numberFrames)\n",
    "    #print(segmentGap,sequ, frameLength)\n",
    "    for i in range(numberFrames):\n",
    "        start = i * segmentGap\n",
    "        imageMatrix = input[start:start+FrameLength,:]\n",
    "        np.matrix(imageMatrix)\n",
    "        imageMatrix = imageMatrix.T\n",
    "        frames.append(imageMatrix)\n",
    "    \n",
    "    return frames\n"
   ]
  },
  {
   "cell_type": "code",
   "execution_count": 15,
   "metadata": {},
   "outputs": [],
   "source": [
    "\n",
    "def Smoothing(RawData, SmoothType = 1, SmoothDistance=15):\n",
    "\n",
    "    if SmoothType == 0:\n",
    "        SmoothedData = RawData\n",
    "    elif SmoothType ==1:\n",
    "        SmoothedData = RawData\n",
    "        for i in range(SmoothDistance):\n",
    "            for j in range(3):\n",
    "                SmoothedData[j,i]=np.average(RawData[j,0:i])\n",
    "        for i in range(np.shape(RawData)[0]-SmoothDistance):\n",
    "            for j in range(3):\n",
    "                SmoothedData[j,i+SmoothDistance]=np.average(RawData[j,i:i+SmoothDistance])\n",
    "\n",
    "\n",
    "    return SmoothedData\n"
   ]
  },
  {
   "cell_type": "code",
   "execution_count": 7,
   "metadata": {},
   "outputs": [],
   "source": [
    "\n",
    "def ParseFile(Filename):\n",
    "\n",
    "    Results = truthVector(Filename)\n",
    "    print(\"have results\")\n",
    "    fileData = np.genfromtxt(open(folder+Filename,'r'), delimiter=',',skip_header=0,missing_values=0).T[2:5,:]\n",
    "    print(\"have file\")\n",
    "    smoothData = Smoothing(fileData)\n",
    "    print(\"smoothed\")\n",
    "    #frames = makeFrames(smoothData.T) #,numberFrames,img_width)\n",
    "    #frames = np.asarray(frames)\n",
    "    \n",
    "    return smoothData, Results\n"
   ]
  },
  {
   "cell_type": "code",
   "execution_count": 16,
   "metadata": {},
   "outputs": [
    {
     "name": "stdout",
     "output_type": "stream",
     "text": [
      "Sample Created\n"
     ]
    }
   ],
   "source": [
    "\n",
    "files = os.listdir(folder)\n",
    "files = random.sample(files,NumberOfFiles)\n",
    "\n",
    "print('Sample Created')\n",
    "\n",
    "ResultsSet = np.zeros((len(files),np.shape(OutputVectors[:,11:])[1]))\n",
    "\n",
    "i=0\n"
   ]
  },
  {
   "cell_type": "code",
   "execution_count": 9,
   "metadata": {},
   "outputs": [],
   "source": [
    "\n",
    "Data = Parallel(n_jobs=num_cores)(delayed(ParseFile)(file) for file in files)\n"
   ]
  },
  {
   "cell_type": "code",
   "execution_count": 10,
   "metadata": {},
   "outputs": [
    {
     "name": "stdout",
     "output_type": "stream",
     "text": [
      "Data Parsed\n"
     ]
    }
   ],
   "source": [
    "\n",
    "DataSet = [] \n",
    "i=0\n",
    "for datum in Data:\n",
    "    DataSet.append(datum[0])\n",
    "    ResultsSet[i]=datum[1][0]\n",
    "    i+=1\n",
    "\n",
    "DataSet = np.asarray(DataSet)\n",
    "\n",
    "print('Data Parsed')\n",
    "\n",
    "#ResultsSet = ResultsSet[0:np.shape(DataSet)[0],:]\n",
    "\n",
    "x_train, x_test, y_train, y_test = train_test_split(DataSet, ResultsSet, test_size=0.20, shuffle=True, random_state=0)\n"
   ]
  },
  {
   "cell_type": "code",
   "execution_count": 11,
   "metadata": {},
   "outputs": [
    {
     "data": {
      "text/plain": [
       "(100, 4)"
      ]
     },
     "execution_count": 11,
     "metadata": {},
     "output_type": "execute_result"
    }
   ],
   "source": [
    "np.shape(ResultsSet)"
   ]
  },
  {
   "cell_type": "code",
   "execution_count": 12,
   "metadata": {},
   "outputs": [],
   "source": [
    "def transformer_encoder(inputs, head_size, num_heads, ff_dim, dropout=0):\n",
    "    # Normalization and Attention\n",
    "    x = layers.LayerNormalization(epsilon=1e-6)(inputs)\n",
    "    x = layers.MultiHeadAttention(\n",
    "        key_dim=head_size, num_heads=num_heads, dropout=dropout\n",
    "    )(x, x)\n",
    "    x = layers.Dropout(dropout)(x)\n",
    "    res = x + inputs\n",
    "\n",
    "    # Feed Forward Part\n",
    "    x = layers.LayerNormalization(epsilon=1e-6)(res)\n",
    "    x = layers.Conv1D(filters=ff_dim, kernel_size=1, activation=\"relu\")(x)\n",
    "    x = layers.Dropout(dropout)(x)\n",
    "    x = layers.Conv1D(filters=inputs.shape[-1], kernel_size=1)(x)\n",
    "    return x + res"
   ]
  },
  {
   "cell_type": "code",
   "execution_count": 13,
   "metadata": {},
   "outputs": [],
   "source": [
    "def build_model(\n",
    "    input_shape,\n",
    "    head_size,\n",
    "    num_heads,\n",
    "    ff_dim,\n",
    "    num_transformer_blocks,\n",
    "    mlp_units,\n",
    "    dropout=0,\n",
    "    mlp_dropout=0,\n",
    "):\n",
    "    inputs = keras.Input(shape=input_shape)\n",
    "    x = inputs\n",
    "    for _ in range(num_transformer_blocks):\n",
    "        x = transformer_encoder(x, head_size, num_heads, ff_dim, dropout)\n",
    "\n",
    "    x = layers.GlobalAveragePooling1D(data_format=\"channels_first\")(x)\n",
    "    for dim in mlp_units:\n",
    "        x = layers.Dense(dim, activation=\"relu\")(x)\n",
    "        x = layers.Dropout(mlp_dropout)(x)\n",
    "    outputs = layers.Dense(np.shape(y_train)[1], activation=\"softmax\")(x)\n",
    "    return keras.Model(inputs, outputs)"
   ]
  },
  {
   "cell_type": "code",
   "execution_count": 14,
   "metadata": {},
   "outputs": [
    {
     "ename": "IndexError",
     "evalue": "Exception encountered when calling layer \"softmax\" (type Softmax).\n\ntuple index out of range\n\nCall arguments received:\n  • inputs=tf.Tensor(shape=(None, 4), dtype=float32)\n  • mask=None",
     "output_type": "error",
     "traceback": [
      "\u001b[1;31m---------------------------------------------------------------------------\u001b[0m",
      "\u001b[1;31mIndexError\u001b[0m                                Traceback (most recent call last)",
      "\u001b[1;32mc:\\Users\\danhe\\Code\\RMG_NDE_Disssertation\\SciClone_Transformer_Classification.ipynb Cell 14'\u001b[0m in \u001b[0;36m<cell line: 3>\u001b[1;34m()\u001b[0m\n\u001b[0;32m      <a href='vscode-notebook-cell:/c%3A/Users/danhe/Code/RMG_NDE_Disssertation/SciClone_Transformer_Classification.ipynb#ch0000003?line=0'>1</a>\u001b[0m input_shape \u001b[39m=\u001b[39m x_train\u001b[39m.\u001b[39mshape[\u001b[39m1\u001b[39m:]\n\u001b[1;32m----> <a href='vscode-notebook-cell:/c%3A/Users/danhe/Code/RMG_NDE_Disssertation/SciClone_Transformer_Classification.ipynb#ch0000003?line=2'>3</a>\u001b[0m model \u001b[39m=\u001b[39m build_model(\n\u001b[0;32m      <a href='vscode-notebook-cell:/c%3A/Users/danhe/Code/RMG_NDE_Disssertation/SciClone_Transformer_Classification.ipynb#ch0000003?line=3'>4</a>\u001b[0m     input_shape,\n\u001b[0;32m      <a href='vscode-notebook-cell:/c%3A/Users/danhe/Code/RMG_NDE_Disssertation/SciClone_Transformer_Classification.ipynb#ch0000003?line=4'>5</a>\u001b[0m     head_size\u001b[39m=\u001b[39;49m\u001b[39m256\u001b[39;49m,\n\u001b[0;32m      <a href='vscode-notebook-cell:/c%3A/Users/danhe/Code/RMG_NDE_Disssertation/SciClone_Transformer_Classification.ipynb#ch0000003?line=5'>6</a>\u001b[0m     num_heads\u001b[39m=\u001b[39;49m\u001b[39m4\u001b[39;49m,\n\u001b[0;32m      <a href='vscode-notebook-cell:/c%3A/Users/danhe/Code/RMG_NDE_Disssertation/SciClone_Transformer_Classification.ipynb#ch0000003?line=6'>7</a>\u001b[0m     ff_dim\u001b[39m=\u001b[39;49m\u001b[39m4\u001b[39;49m,\n\u001b[0;32m      <a href='vscode-notebook-cell:/c%3A/Users/danhe/Code/RMG_NDE_Disssertation/SciClone_Transformer_Classification.ipynb#ch0000003?line=7'>8</a>\u001b[0m     num_transformer_blocks\u001b[39m=\u001b[39;49m\u001b[39m4\u001b[39;49m,\n\u001b[0;32m      <a href='vscode-notebook-cell:/c%3A/Users/danhe/Code/RMG_NDE_Disssertation/SciClone_Transformer_Classification.ipynb#ch0000003?line=8'>9</a>\u001b[0m     mlp_units\u001b[39m=\u001b[39;49m[\u001b[39m128\u001b[39;49m],\n\u001b[0;32m     <a href='vscode-notebook-cell:/c%3A/Users/danhe/Code/RMG_NDE_Disssertation/SciClone_Transformer_Classification.ipynb#ch0000003?line=9'>10</a>\u001b[0m     mlp_dropout\u001b[39m=\u001b[39;49m\u001b[39m0.4\u001b[39;49m,\n\u001b[0;32m     <a href='vscode-notebook-cell:/c%3A/Users/danhe/Code/RMG_NDE_Disssertation/SciClone_Transformer_Classification.ipynb#ch0000003?line=10'>11</a>\u001b[0m     dropout\u001b[39m=\u001b[39;49m\u001b[39m0.25\u001b[39;49m,\n\u001b[0;32m     <a href='vscode-notebook-cell:/c%3A/Users/danhe/Code/RMG_NDE_Disssertation/SciClone_Transformer_Classification.ipynb#ch0000003?line=11'>12</a>\u001b[0m )\n\u001b[0;32m     <a href='vscode-notebook-cell:/c%3A/Users/danhe/Code/RMG_NDE_Disssertation/SciClone_Transformer_Classification.ipynb#ch0000003?line=13'>14</a>\u001b[0m model\u001b[39m.\u001b[39mcompile(\n\u001b[0;32m     <a href='vscode-notebook-cell:/c%3A/Users/danhe/Code/RMG_NDE_Disssertation/SciClone_Transformer_Classification.ipynb#ch0000003?line=14'>15</a>\u001b[0m     loss\u001b[39m=\u001b[39m\u001b[39m\"\u001b[39m\u001b[39msparse_categorical_crossentropy\u001b[39m\u001b[39m\"\u001b[39m,\n\u001b[0;32m     <a href='vscode-notebook-cell:/c%3A/Users/danhe/Code/RMG_NDE_Disssertation/SciClone_Transformer_Classification.ipynb#ch0000003?line=15'>16</a>\u001b[0m     optimizer\u001b[39m=\u001b[39mtf\u001b[39m.\u001b[39mkeras\u001b[39m.\u001b[39moptimizers\u001b[39m.\u001b[39mAdam(learning_rate\u001b[39m=\u001b[39m\u001b[39m1e-4\u001b[39m),\n\u001b[0;32m     <a href='vscode-notebook-cell:/c%3A/Users/danhe/Code/RMG_NDE_Disssertation/SciClone_Transformer_Classification.ipynb#ch0000003?line=16'>17</a>\u001b[0m     metrics\u001b[39m=\u001b[39m[\u001b[39m\"\u001b[39m\u001b[39msparse_categorical_accuracy\u001b[39m\u001b[39m\"\u001b[39m],\n\u001b[0;32m     <a href='vscode-notebook-cell:/c%3A/Users/danhe/Code/RMG_NDE_Disssertation/SciClone_Transformer_Classification.ipynb#ch0000003?line=17'>18</a>\u001b[0m )\n",
      "\u001b[1;32mc:\\Users\\danhe\\Code\\RMG_NDE_Disssertation\\SciClone_Transformer_Classification.ipynb Cell 13'\u001b[0m in \u001b[0;36mbuild_model\u001b[1;34m(input_shape, head_size, num_heads, ff_dim, num_transformer_blocks, mlp_units, dropout, mlp_dropout)\u001b[0m\n\u001b[0;32m     <a href='vscode-notebook-cell:/c%3A/Users/danhe/Code/RMG_NDE_Disssertation/SciClone_Transformer_Classification.ipynb#ch0000002?line=11'>12</a>\u001b[0m x \u001b[39m=\u001b[39m inputs\n\u001b[0;32m     <a href='vscode-notebook-cell:/c%3A/Users/danhe/Code/RMG_NDE_Disssertation/SciClone_Transformer_Classification.ipynb#ch0000002?line=12'>13</a>\u001b[0m \u001b[39mfor\u001b[39;00m _ \u001b[39min\u001b[39;00m \u001b[39mrange\u001b[39m(num_transformer_blocks):\n\u001b[1;32m---> <a href='vscode-notebook-cell:/c%3A/Users/danhe/Code/RMG_NDE_Disssertation/SciClone_Transformer_Classification.ipynb#ch0000002?line=13'>14</a>\u001b[0m     x \u001b[39m=\u001b[39m transformer_encoder(x, head_size, num_heads, ff_dim, dropout)\n\u001b[0;32m     <a href='vscode-notebook-cell:/c%3A/Users/danhe/Code/RMG_NDE_Disssertation/SciClone_Transformer_Classification.ipynb#ch0000002?line=15'>16</a>\u001b[0m x \u001b[39m=\u001b[39m layers\u001b[39m.\u001b[39mGlobalAveragePooling1D(data_format\u001b[39m=\u001b[39m\u001b[39m\"\u001b[39m\u001b[39mchannels_first\u001b[39m\u001b[39m\"\u001b[39m)(x)\n\u001b[0;32m     <a href='vscode-notebook-cell:/c%3A/Users/danhe/Code/RMG_NDE_Disssertation/SciClone_Transformer_Classification.ipynb#ch0000002?line=16'>17</a>\u001b[0m \u001b[39mfor\u001b[39;00m dim \u001b[39min\u001b[39;00m mlp_units:\n",
      "\u001b[1;32mc:\\Users\\danhe\\Code\\RMG_NDE_Disssertation\\SciClone_Transformer_Classification.ipynb Cell 12'\u001b[0m in \u001b[0;36mtransformer_encoder\u001b[1;34m(inputs, head_size, num_heads, ff_dim, dropout)\u001b[0m\n\u001b[0;32m      <a href='vscode-notebook-cell:/c%3A/Users/danhe/Code/RMG_NDE_Disssertation/SciClone_Transformer_Classification.ipynb#ch0000001?line=0'>1</a>\u001b[0m \u001b[39mdef\u001b[39;00m \u001b[39mtransformer_encoder\u001b[39m(inputs, head_size, num_heads, ff_dim, dropout\u001b[39m=\u001b[39m\u001b[39m0\u001b[39m):\n\u001b[0;32m      <a href='vscode-notebook-cell:/c%3A/Users/danhe/Code/RMG_NDE_Disssertation/SciClone_Transformer_Classification.ipynb#ch0000001?line=1'>2</a>\u001b[0m     \u001b[39m# Normalization and Attention\u001b[39;00m\n\u001b[0;32m      <a href='vscode-notebook-cell:/c%3A/Users/danhe/Code/RMG_NDE_Disssertation/SciClone_Transformer_Classification.ipynb#ch0000001?line=2'>3</a>\u001b[0m     x \u001b[39m=\u001b[39m layers\u001b[39m.\u001b[39mLayerNormalization(epsilon\u001b[39m=\u001b[39m\u001b[39m1e-6\u001b[39m)(inputs)\n\u001b[1;32m----> <a href='vscode-notebook-cell:/c%3A/Users/danhe/Code/RMG_NDE_Disssertation/SciClone_Transformer_Classification.ipynb#ch0000001?line=3'>4</a>\u001b[0m     x \u001b[39m=\u001b[39m layers\u001b[39m.\u001b[39;49mMultiHeadAttention(\n\u001b[0;32m      <a href='vscode-notebook-cell:/c%3A/Users/danhe/Code/RMG_NDE_Disssertation/SciClone_Transformer_Classification.ipynb#ch0000001?line=4'>5</a>\u001b[0m         key_dim\u001b[39m=\u001b[39;49mhead_size, num_heads\u001b[39m=\u001b[39;49mnum_heads, dropout\u001b[39m=\u001b[39;49mdropout\n\u001b[0;32m      <a href='vscode-notebook-cell:/c%3A/Users/danhe/Code/RMG_NDE_Disssertation/SciClone_Transformer_Classification.ipynb#ch0000001?line=5'>6</a>\u001b[0m     )(x, x)\n\u001b[0;32m      <a href='vscode-notebook-cell:/c%3A/Users/danhe/Code/RMG_NDE_Disssertation/SciClone_Transformer_Classification.ipynb#ch0000001?line=6'>7</a>\u001b[0m     x \u001b[39m=\u001b[39m layers\u001b[39m.\u001b[39mDropout(dropout)(x)\n\u001b[0;32m      <a href='vscode-notebook-cell:/c%3A/Users/danhe/Code/RMG_NDE_Disssertation/SciClone_Transformer_Classification.ipynb#ch0000001?line=7'>8</a>\u001b[0m     res \u001b[39m=\u001b[39m x \u001b[39m+\u001b[39m inputs\n",
      "File \u001b[1;32m~\\AppData\\Local\\Programs\\Python\\Python310\\lib\\site-packages\\keras\\utils\\traceback_utils.py:67\u001b[0m, in \u001b[0;36mfilter_traceback.<locals>.error_handler\u001b[1;34m(*args, **kwargs)\u001b[0m\n\u001b[0;32m     <a href='file:///c%3A/Users/danhe/AppData/Local/Programs/Python/Python310/lib/site-packages/keras/utils/traceback_utils.py?line=64'>65</a>\u001b[0m \u001b[39mexcept\u001b[39;00m \u001b[39mException\u001b[39;00m \u001b[39mas\u001b[39;00m e:  \u001b[39m# pylint: disable=broad-except\u001b[39;00m\n\u001b[0;32m     <a href='file:///c%3A/Users/danhe/AppData/Local/Programs/Python/Python310/lib/site-packages/keras/utils/traceback_utils.py?line=65'>66</a>\u001b[0m   filtered_tb \u001b[39m=\u001b[39m _process_traceback_frames(e\u001b[39m.\u001b[39m__traceback__)\n\u001b[1;32m---> <a href='file:///c%3A/Users/danhe/AppData/Local/Programs/Python/Python310/lib/site-packages/keras/utils/traceback_utils.py?line=66'>67</a>\u001b[0m   \u001b[39mraise\u001b[39;00m e\u001b[39m.\u001b[39mwith_traceback(filtered_tb) \u001b[39mfrom\u001b[39;00m \u001b[39mNone\u001b[39m\n\u001b[0;32m     <a href='file:///c%3A/Users/danhe/AppData/Local/Programs/Python/Python310/lib/site-packages/keras/utils/traceback_utils.py?line=67'>68</a>\u001b[0m \u001b[39mfinally\u001b[39;00m:\n\u001b[0;32m     <a href='file:///c%3A/Users/danhe/AppData/Local/Programs/Python/Python310/lib/site-packages/keras/utils/traceback_utils.py?line=68'>69</a>\u001b[0m   \u001b[39mdel\u001b[39;00m filtered_tb\n",
      "File \u001b[1;32m~\\AppData\\Local\\Programs\\Python\\Python310\\lib\\site-packages\\keras\\layers\\advanced_activations.py:349\u001b[0m, in \u001b[0;36mSoftmax.call\u001b[1;34m(self, inputs, mask)\u001b[0m\n\u001b[0;32m    <a href='file:///c%3A/Users/danhe/AppData/Local/Programs/Python/Python310/lib/site-packages/keras/layers/advanced_activations.py?line=345'>346</a>\u001b[0m     \u001b[39mreturn\u001b[39;00m tf\u001b[39m.\u001b[39mexp(inputs \u001b[39m-\u001b[39m tf\u001b[39m.\u001b[39mreduce_logsumexp(\n\u001b[0;32m    <a href='file:///c%3A/Users/danhe/AppData/Local/Programs/Python/Python310/lib/site-packages/keras/layers/advanced_activations.py?line=346'>347</a>\u001b[0m         inputs, axis\u001b[39m=\u001b[39m\u001b[39mself\u001b[39m\u001b[39m.\u001b[39maxis, keepdims\u001b[39m=\u001b[39m\u001b[39mTrue\u001b[39;00m))\n\u001b[0;32m    <a href='file:///c%3A/Users/danhe/AppData/Local/Programs/Python/Python310/lib/site-packages/keras/layers/advanced_activations.py?line=347'>348</a>\u001b[0m   \u001b[39melse\u001b[39;00m:\n\u001b[1;32m--> <a href='file:///c%3A/Users/danhe/AppData/Local/Programs/Python/Python310/lib/site-packages/keras/layers/advanced_activations.py?line=348'>349</a>\u001b[0m     \u001b[39mreturn\u001b[39;00m backend\u001b[39m.\u001b[39msoftmax(inputs, axis\u001b[39m=\u001b[39m\u001b[39mself\u001b[39;49m\u001b[39m.\u001b[39;49maxis[\u001b[39m0\u001b[39;49m])\n\u001b[0;32m    <a href='file:///c%3A/Users/danhe/AppData/Local/Programs/Python/Python310/lib/site-packages/keras/layers/advanced_activations.py?line=349'>350</a>\u001b[0m \u001b[39mreturn\u001b[39;00m backend\u001b[39m.\u001b[39msoftmax(inputs, axis\u001b[39m=\u001b[39m\u001b[39mself\u001b[39m\u001b[39m.\u001b[39maxis)\n",
      "\u001b[1;31mIndexError\u001b[0m: Exception encountered when calling layer \"softmax\" (type Softmax).\n\ntuple index out of range\n\nCall arguments received:\n  • inputs=tf.Tensor(shape=(None, 4), dtype=float32)\n  • mask=None"
     ]
    }
   ],
   "source": [
    "input_shape = x_train.shape[1:]\n",
    "\n",
    "model = build_model(\n",
    "    input_shape,\n",
    "    head_size=256,\n",
    "    num_heads=4,\n",
    "    ff_dim=4,\n",
    "    num_transformer_blocks=4,\n",
    "    mlp_units=[128],\n",
    "    mlp_dropout=0.4,\n",
    "    dropout=0.25,\n",
    ")\n",
    "\n",
    "model.compile(\n",
    "    loss=\"sparse_categorical_crossentropy\",\n",
    "    optimizer=tf.keras.optimizers.Adam(learning_rate=1e-4),\n",
    "    metrics=[\"sparse_categorical_accuracy\"],\n",
    ")\n"
   ]
  },
  {
   "cell_type": "code",
   "execution_count": null,
   "metadata": {},
   "outputs": [],
   "source": [
    "\n",
    "model.summary()\n",
    "\n",
    "callbacks = [keras.callbacks.EarlyStopping(patience=10, restore_best_weights=True)]\n"
   ]
  },
  {
   "cell_type": "code",
   "execution_count": null,
   "metadata": {},
   "outputs": [],
   "source": [
    "\n",
    "model.fit(\n",
    "    x_train,\n",
    "    y_train,\n",
    "    validation_split=0.2,\n",
    "    epochs=200,\n",
    "    batch_size=64,\n",
    "    callbacks=callbacks,\n",
    ")\n",
    "\n",
    "model.evaluate(x_test, y_test, verbose=1)"
   ]
  },
  {
   "cell_type": "code",
   "execution_count": null,
   "metadata": {},
   "outputs": [],
   "source": []
  }
 ],
 "metadata": {
  "interpreter": {
   "hash": "e5da5ae78488296d18f899f0f880093a0fd163678087b6422afc73601bec93bf"
  },
  "kernelspec": {
   "display_name": "Python 3.10.4 64-bit",
   "language": "python",
   "name": "python3"
  },
  "language_info": {
   "codemirror_mode": {
    "name": "ipython",
    "version": 3
   },
   "file_extension": ".py",
   "mimetype": "text/x-python",
   "name": "python",
   "nbconvert_exporter": "python",
   "pygments_lexer": "ipython3",
   "version": "3.10.4"
  },
  "orig_nbformat": 4
 },
 "nbformat": 4,
 "nbformat_minor": 2
}
