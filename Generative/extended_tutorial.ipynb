{
 "cells": [
  {
   "cell_type": "markdown",
   "id": "8269c499",
   "metadata": {},
   "source": [
    "# Extended Forecasting Tutorial"
   ]
  },
  {
   "cell_type": "code",
   "execution_count": 2,
   "id": "7eeedf40",
   "metadata": {
    "execution": {
     "iopub.execute_input": "2023-08-25T07:43:29.630076Z",
     "iopub.status.busy": "2023-08-25T07:43:29.629811Z",
     "iopub.status.idle": "2023-08-25T07:43:31.891272Z",
     "shell.execute_reply": "2023-08-25T07:43:31.890421Z"
    }
   },
   "outputs": [],
   "source": [
    "%matplotlib inline\n",
    "import mxnet as mx\n",
    "from mxnet import gluon\n",
    "import numpy as np\n",
    "import pandas as pd\n",
    "import matplotlib.pyplot as plt\n",
    "import json\n",
    "import os\n",
    "from itertools import islice\n",
    "from pathlib import Path"
   ]
  },
  {
   "cell_type": "code",
   "execution_count": 3,
   "id": "d38ef88b",
   "metadata": {
    "execution": {
     "iopub.execute_input": "2023-08-25T07:43:31.895130Z",
     "iopub.status.busy": "2023-08-25T07:43:31.894720Z",
     "iopub.status.idle": "2023-08-25T07:43:31.901772Z",
     "shell.execute_reply": "2023-08-25T07:43:31.901062Z"
    }
   },
   "outputs": [
    {
     "ename": "NameError",
     "evalue": "name 'mx' is not defined",
     "output_type": "error",
     "traceback": [
      "\u001b[0;31m---------------------------------------------------------------------------\u001b[0m",
      "\u001b[0;31mNameError\u001b[0m                                 Traceback (most recent call last)",
      "Cell \u001b[0;32mIn[3], line 1\u001b[0m\n\u001b[0;32m----> 1\u001b[0m mx\u001b[38;5;241m.\u001b[39mrandom\u001b[38;5;241m.\u001b[39mseed(\u001b[38;5;241m0\u001b[39m)\n\u001b[1;32m      2\u001b[0m np\u001b[38;5;241m.\u001b[39mrandom\u001b[38;5;241m.\u001b[39mseed(\u001b[38;5;241m0\u001b[39m)\n",
      "\u001b[0;31mNameError\u001b[0m: name 'mx' is not defined"
     ]
    }
   ],
   "source": [
    "mx.random.seed(0)\n",
    "np.random.seed(0)"
   ]
  },
  {
   "cell_type": "markdown",
   "id": "25b1b839",
   "metadata": {},
   "source": [
    "## Datasets\n",
    "\n",
    "The first requirement to use GluonTS is to have an appropriate dataset. GluonTS offers three different options to practitioners that want to experiment with the various modules: \n",
    "\n",
    "- Use an available dataset provided by GluonTS\n",
    "- Create an artificial dataset using GluonTS\n",
    "- Convert your dataset to a GluonTS friendly format\n",
    "\n",
    "In general, a dataset should satisfy some minimum format requirements to be compatible with GluonTS. In particular, it should be an iterable collection of data entries (time series), and each entry should have at least a `target` field, which contains the actual values of the time series, and a `start` field, which denotes the starting date of the time series. There are many more optional fields that we will go through in this tutorial.\n",
    "\n",
    "The datasets provided by GluonTS come in the appropriate format and they can be used without any post processing. However, a custom dataset needs to be converted. Fortunately this is an easy task.\n",
    "\n",
    "### Available datasets in GluonTS\n",
    "\n",
    "GluonTS comes with a number of available datasets."
   ]
  },
  {
   "cell_type": "code",
   "execution_count": 5,
   "id": "5501fa4a",
   "metadata": {
    "execution": {
     "iopub.execute_input": "2023-08-25T07:43:31.905817Z",
     "iopub.status.busy": "2023-08-25T07:43:31.905322Z",
     "iopub.status.idle": "2023-08-25T07:43:32.028237Z",
     "shell.execute_reply": "2023-08-25T07:43:32.027415Z"
    }
   },
   "outputs": [],
   "source": [
    "from gluonts.dataset.repository import get_dataset, dataset_names\n",
    "from gluonts.dataset.util import to_pandas"
   ]
  },
  {
   "cell_type": "code",
   "execution_count": 6,
   "id": "110b8dce",
   "metadata": {
    "execution": {
     "iopub.execute_input": "2023-08-25T07:43:32.032354Z",
     "iopub.status.busy": "2023-08-25T07:43:32.031815Z",
     "iopub.status.idle": "2023-08-25T07:43:32.037946Z",
     "shell.execute_reply": "2023-08-25T07:43:32.037061Z"
    }
   },
   "outputs": [
    {
     "name": "stdout",
     "output_type": "stream",
     "text": [
      "Available datasets: ['constant', 'exchange_rate', 'solar-energy', 'electricity', 'traffic', 'exchange_rate_nips', 'electricity_nips', 'traffic_nips', 'solar_nips', 'wiki2000_nips', 'wiki-rolling_nips', 'taxi_30min', 'kaggle_web_traffic_with_missing', 'kaggle_web_traffic_without_missing', 'kaggle_web_traffic_weekly', 'm1_yearly', 'm1_quarterly', 'm1_monthly', 'nn5_daily_with_missing', 'nn5_daily_without_missing', 'nn5_weekly', 'tourism_monthly', 'tourism_quarterly', 'tourism_yearly', 'cif_2016', 'london_smart_meters_without_missing', 'wind_farms_without_missing', 'car_parts_without_missing', 'dominick', 'fred_md', 'pedestrian_counts', 'hospital', 'covid_deaths', 'kdd_cup_2018_without_missing', 'weather', 'm3_monthly', 'm3_quarterly', 'm3_yearly', 'm3_other', 'm4_hourly', 'm4_daily', 'm4_weekly', 'm4_monthly', 'm4_quarterly', 'm4_yearly', 'm5', 'uber_tlc_daily', 'uber_tlc_hourly', 'airpassengers', 'australian_electricity_demand', 'electricity_hourly', 'electricity_weekly', 'rideshare_without_missing', 'saugeenday', 'solar_10_minutes', 'solar_weekly', 'sunspot_without_missing', 'temperature_rain_without_missing', 'vehicle_trips_without_missing']\n"
     ]
    }
   ],
   "source": [
    "print(f\"Available datasets: {dataset_names}\")"
   ]
  },
  {
   "cell_type": "markdown",
   "id": "82214d5e",
   "metadata": {},
   "source": [
    "To download one of the built-in datasets, simply call `get_dataset` with one of the above names. GluonTS can re-use the saved dataset so that it does not need to be downloaded again the next time around."
   ]
  },
  {
   "cell_type": "code",
   "execution_count": 7,
   "id": "693eb4c9",
   "metadata": {
    "execution": {
     "iopub.execute_input": "2023-08-25T07:43:32.041318Z",
     "iopub.status.busy": "2023-08-25T07:43:32.040837Z",
     "iopub.status.idle": "2023-08-25T07:43:32.046069Z",
     "shell.execute_reply": "2023-08-25T07:43:32.045142Z"
    }
   },
   "outputs": [],
   "source": [
    "dataset = get_dataset(\"m4_hourly\")"
   ]
  },
  {
   "cell_type": "markdown",
   "id": "4ab71e03",
   "metadata": {},
   "source": [
    "### What is in a dataset?\n",
    "\n",
    "In general, the datasets provided by GluonTS are objects that consists of three main members:\n",
    "\n",
    "- `dataset.train` is an iterable collection of data entries used for training. Each entry corresponds to one time series.\n",
    "- `dataset.test` is an iterable collection of data entries used for inference. The test dataset is an extended version of the train dataset that contains a window in the end of each time series that was not seen during training. This window has length equal to the recommended prediction length.\n",
    "- `dataset.metadata` contains metadata of the dataset such as the frequency of the time series, a recommended prediction horizon, associated features, etc.\n",
    "\n",
    "First, let's see what the first entry of the train dataset contains. We should expect at least a `target` and a `start` field in each entry, and the target of the test entry to have an additional window equal to `prediction_length`."
   ]
  },
  {
   "cell_type": "code",
   "execution_count": 8,
   "id": "b663a4ff",
   "metadata": {
    "execution": {
     "iopub.execute_input": "2023-08-25T07:43:32.049383Z",
     "iopub.status.busy": "2023-08-25T07:43:32.048914Z",
     "iopub.status.idle": "2023-08-25T07:43:32.056530Z",
     "shell.execute_reply": "2023-08-25T07:43:32.055732Z"
    }
   },
   "outputs": [
    {
     "data": {
      "text/plain": [
       "dict_keys(['target', 'start', 'feat_static_cat', 'item_id'])"
      ]
     },
     "execution_count": 8,
     "metadata": {},
     "output_type": "execute_result"
    }
   ],
   "source": [
    "# get the first time series in the training set\n",
    "train_entry = next(iter(dataset.train))\n",
    "train_entry.keys()"
   ]
  },
  {
   "cell_type": "markdown",
   "id": "cfafb591",
   "metadata": {},
   "source": [
    "We observe that apart from the required fields there is one more `feat_static_cat` field (we can safely ignore the `source` field). This shows that the dataset has some features apart from the values of the time series. For now, we will ignore this field too. We will explain it in detail later with all the other optional fields.\n",
    "\n",
    "We can similarly examine the first entry of the test dataset. We should expect exactly the same fields as in the train dataset."
   ]
  },
  {
   "cell_type": "code",
   "execution_count": 9,
   "id": "cd3a8651",
   "metadata": {
    "execution": {
     "iopub.execute_input": "2023-08-25T07:43:32.060211Z",
     "iopub.status.busy": "2023-08-25T07:43:32.059678Z",
     "iopub.status.idle": "2023-08-25T07:43:32.066042Z",
     "shell.execute_reply": "2023-08-25T07:43:32.065261Z"
    }
   },
   "outputs": [
    {
     "data": {
      "text/plain": [
       "dict_keys(['target', 'start', 'feat_static_cat', 'item_id'])"
      ]
     },
     "execution_count": 9,
     "metadata": {},
     "output_type": "execute_result"
    }
   ],
   "source": [
    "# get the first time series in the test set\n",
    "test_entry = next(iter(dataset.test))\n",
    "test_entry.keys()"
   ]
  },
  {
   "cell_type": "markdown",
   "id": "40678e1f",
   "metadata": {},
   "source": [
    "Moreover, we should expect that the target will have an additional window in the end with length equal to `prediction_length`. To better understand what this means we can visualize both the train and test time series."
   ]
  },
  {
   "cell_type": "code",
   "execution_count": 10,
   "id": "f09c3b8b",
   "metadata": {
    "execution": {
     "iopub.execute_input": "2023-08-25T07:43:32.069221Z",
     "iopub.status.busy": "2023-08-25T07:43:32.068793Z",
     "iopub.status.idle": "2023-08-25T07:43:32.573171Z",
     "shell.execute_reply": "2023-08-25T07:43:32.572421Z"
    }
   },
   "outputs": [
    {
     "data": {
      "image/png": "[encoded data removed]",
      "text/plain": [
       "<Figure size 1000x700 with 2 Axes>"
      ]
     },
     "metadata": {},
     "output_type": "display_data"
    }
   ],
   "source": [
    "test_series = to_pandas(test_entry)\n",
    "train_series = to_pandas(train_entry)\n",
    "\n",
    "fig, ax = plt.subplots(2, 1, sharex=True, sharey=True, figsize=(10, 7))\n",
    "\n",
    "train_series.plot(ax=ax[0])\n",
    "ax[0].grid(which=\"both\")\n",
    "ax[0].legend([\"train series\"], loc=\"upper left\")\n",
    "\n",
    "test_series.plot(ax=ax[1])\n",
    "ax[1].axvline(train_series.index[-1], color=\"r\")  # end of train dataset\n",
    "ax[1].grid(which=\"both\")\n",
    "ax[1].legend([\"test series\", \"end of train series\"], loc=\"upper left\")\n",
    "\n",
    "plt.show()"
   ]
  },
  {
   "cell_type": "code",
   "execution_count": 11,
   "id": "5dbf60a4",
   "metadata": {
    "execution": {
     "iopub.execute_input": "2023-08-25T07:43:32.576569Z",
     "iopub.status.busy": "2023-08-25T07:43:32.576295Z",
     "iopub.status.idle": "2023-08-25T07:43:32.581342Z",
     "shell.execute_reply": "2023-08-25T07:43:32.580703Z"
    }
   },
   "outputs": [
    {
     "name": "stdout",
     "output_type": "stream",
     "text": [
      "Length of forecasting window in test dataset: 48\n",
      "Recommended prediction horizon: 48\n",
      "Frequency of the time series: H\n"
     ]
    }
   ],
   "source": [
    "print(\n",
    "    f\"Length of forecasting window in test dataset: {len(test_series) - len(train_series)}\"\n",
    ")\n",
    "print(f\"Recommended prediction horizon: {dataset.metadata.prediction_length}\")\n",
    "print(f\"Frequency of the time series: {dataset.metadata.freq}\")"
   ]
  },
  {
   "cell_type": "markdown",
   "id": "077f955e",
   "metadata": {},
   "source": [
    "### Create artificial datasets\n",
    "\n",
    "We can easily create a complex artificial time series dataset using the `ComplexSeasonalTimeSeries` module."
   ]
  },
  {
   "cell_type": "code",
   "execution_count": 12,
   "id": "49730e9b",
   "metadata": {
    "execution": {
     "iopub.execute_input": "2023-08-25T07:43:32.584523Z",
     "iopub.status.busy": "2023-08-25T07:43:32.584093Z",
     "iopub.status.idle": "2023-08-25T07:43:32.587766Z",
     "shell.execute_reply": "2023-08-25T07:43:32.586962Z"
    }
   },
   "outputs": [],
   "source": [
    "from gluonts.dataset.artificial import ComplexSeasonalTimeSeries\n",
    "from gluonts.dataset.common import ListDataset"
   ]
  },
  {
   "cell_type": "code",
   "execution_count": 13,
   "id": "56001ae0",
   "metadata": {
    "execution": {
     "iopub.execute_input": "2023-08-25T07:43:32.590834Z",
     "iopub.status.busy": "2023-08-25T07:43:32.590421Z",
     "iopub.status.idle": "2023-08-25T07:43:32.595179Z",
     "shell.execute_reply": "2023-08-25T07:43:32.594435Z"
    }
   },
   "outputs": [],
   "source": [
    "artificial_dataset = ComplexSeasonalTimeSeries(\n",
    "    num_series=10,\n",
    "    prediction_length=21,\n",
    "    freq_str=\"H\",\n",
    "    length_low=30,\n",
    "    length_high=200,\n",
    "    min_val=-10000,\n",
    "    max_val=10000,\n",
    "    is_integer=False,\n",
    "    proportion_missing_values=0,\n",
    "    is_noise=True,\n",
    "    is_scale=True,\n",
    "    percentage_unique_timestamps=1,\n",
    "    is_out_of_bounds_date=True,\n",
    ")"
   ]
  },
  {
   "cell_type": "markdown",
   "id": "7c676b16",
   "metadata": {},
   "source": [
    "We can access some important metadata of the artificial dataset as follows:"
   ]
  },
  {
   "cell_type": "code",
   "execution_count": 14,
   "id": "87eea03c",
   "metadata": {
    "execution": {
     "iopub.execute_input": "2023-08-25T07:43:32.598359Z",
     "iopub.status.busy": "2023-08-25T07:43:32.597929Z",
     "iopub.status.idle": "2023-08-25T07:43:32.604060Z",
     "shell.execute_reply": "2023-08-25T07:43:32.601664Z"
    }
   },
   "outputs": [
    {
     "name": "stdout",
     "output_type": "stream",
     "text": [
      "prediction length: 21\n",
      "frequency: H\n"
     ]
    }
   ],
   "source": [
    "print(f\"prediction length: {artificial_dataset.metadata.prediction_length}\")\n",
    "print(f\"frequency: {artificial_dataset.metadata.freq}\")"
   ]
  },
  {
   "cell_type": "markdown",
   "id": "37e0c3ba",
   "metadata": {},
   "source": [
    "The artificial dataset that we created is a list of dictionaries. Each dictionary corresponds to a time series and it should contain the required fields."
   ]
  },
  {
   "cell_type": "code",
   "execution_count": 15,
   "id": "fbfd557e",
   "metadata": {
    "execution": {
     "iopub.execute_input": "2023-08-25T07:43:32.607183Z",
     "iopub.status.busy": "2023-08-25T07:43:32.606939Z",
     "iopub.status.idle": "2023-08-25T07:43:32.649685Z",
     "shell.execute_reply": "2023-08-25T07:43:32.648673Z"
    }
   },
   "outputs": [
    {
     "name": "stdout",
     "output_type": "stream",
     "text": [
      "type of train dataset: <class 'list'>\n",
      "train dataset fields: dict_keys(['start', 'target', 'item_id'])\n",
      "type of test dataset: <class 'list'>\n",
      "test dataset fields: dict_keys(['start', 'target', 'item_id'])\n"
     ]
    }
   ],
   "source": [
    "print(f\"type of train dataset: {type(artificial_dataset.train)}\")\n",
    "print(f\"train dataset fields: {artificial_dataset.train[0].keys()}\")\n",
    "print(f\"type of test dataset: {type(artificial_dataset.test)}\")\n",
    "print(f\"test dataset fields: {artificial_dataset.test[0].keys()}\")"
   ]
  },
  {
   "cell_type": "markdown",
   "id": "d41da9e9",
   "metadata": {},
   "source": [
    "In order to use the artificially created datasets (list of dictionaries) we need to convert them to `ListDataset` objects."
   ]
  },
  {
   "cell_type": "code",
   "execution_count": 16,
   "id": "65119b1a",
   "metadata": {
    "execution": {
     "iopub.execute_input": "2023-08-25T07:43:32.653352Z",
     "iopub.status.busy": "2023-08-25T07:43:32.653079Z",
     "iopub.status.idle": "2023-08-25T07:43:32.667953Z",
     "shell.execute_reply": "2023-08-25T07:43:32.667114Z"
    }
   },
   "outputs": [],
   "source": [
    "train_ds = ListDataset(artificial_dataset.train, freq=artificial_dataset.metadata.freq)"
   ]
  },
  {
   "cell_type": "code",
   "execution_count": 17,
   "id": "9de817b3",
   "metadata": {
    "execution": {
     "iopub.execute_input": "2023-08-25T07:43:32.670981Z",
     "iopub.status.busy": "2023-08-25T07:43:32.670724Z",
     "iopub.status.idle": "2023-08-25T07:43:32.685180Z",
     "shell.execute_reply": "2023-08-25T07:43:32.684482Z"
    }
   },
   "outputs": [],
   "source": [
    "test_ds = ListDataset(artificial_dataset.test, freq=artificial_dataset.metadata.freq)"
   ]
  },
  {
   "cell_type": "code",
   "execution_count": 18,
   "id": "b8691e16",
   "metadata": {
    "execution": {
     "iopub.execute_input": "2023-08-25T07:43:32.688365Z",
     "iopub.status.busy": "2023-08-25T07:43:32.688112Z",
     "iopub.status.idle": "2023-08-25T07:43:32.693613Z",
     "shell.execute_reply": "2023-08-25T07:43:32.692836Z"
    }
   },
   "outputs": [
    {
     "data": {
      "text/plain": [
       "dict_keys(['start', 'target', 'item_id'])"
      ]
     },
     "execution_count": 18,
     "metadata": {},
     "output_type": "execute_result"
    }
   ],
   "source": [
    "train_entry = next(iter(train_ds))\n",
    "train_entry.keys()"
   ]
  },
  {
   "cell_type": "code",
   "execution_count": 19,
   "id": "443f63f0",
   "metadata": {
    "execution": {
     "iopub.execute_input": "2023-08-25T07:43:32.697639Z",
     "iopub.status.busy": "2023-08-25T07:43:32.697168Z",
     "iopub.status.idle": "2023-08-25T07:43:32.702453Z",
     "shell.execute_reply": "2023-08-25T07:43:32.701831Z"
    }
   },
   "outputs": [
    {
     "data": {
      "text/plain": [
       "dict_keys(['start', 'target', 'item_id'])"
      ]
     },
     "execution_count": 19,
     "metadata": {},
     "output_type": "execute_result"
    }
   ],
   "source": [
    "test_entry = next(iter(test_ds))\n",
    "test_entry.keys()"
   ]
  },
  {
   "cell_type": "code",
   "execution_count": 20,
   "id": "25870c24",
   "metadata": {
    "execution": {
     "iopub.execute_input": "2023-08-25T07:43:32.705981Z",
     "iopub.status.busy": "2023-08-25T07:43:32.705374Z",
     "iopub.status.idle": "2023-08-25T07:43:32.952520Z",
     "shell.execute_reply": "2023-08-25T07:43:32.951473Z"
    }
   },
   "outputs": [
    {
     "data": {
      "image/png": "[encoded data removed]",
      "text/plain": [
       "<Figure size 1000x700 with 2 Axes>"
      ]
     },
     "metadata": {},
     "output_type": "display_data"
    }
   ],
   "source": [
    "test_series = to_pandas(test_entry)\n",
    "train_series = to_pandas(train_entry)\n",
    "\n",
    "fig, ax = plt.subplots(2, 1, sharex=True, sharey=True, figsize=(10, 7))\n",
    "\n",
    "train_series.plot(ax=ax[0])\n",
    "ax[0].grid(which=\"both\")\n",
    "ax[0].legend([\"train series\"], loc=\"upper left\")\n",
    "\n",
    "test_series.plot(ax=ax[1])\n",
    "ax[1].axvline(train_series.index[-1], color=\"r\")  # end of train dataset\n",
    "ax[1].grid(which=\"both\")\n",
    "ax[1].legend([\"test series\", \"end of train series\"], loc=\"upper left\")\n",
    "\n",
    "plt.show()"
   ]
  },
  {
   "cell_type": "markdown",
   "id": "3ce8a8b1",
   "metadata": {},
   "source": [
    "### Use your time series and features\n",
    "\n",
    "Now, we will see how we can convert any custom dataset with any associated features to an appropriate format for GluonTS.\n",
    "\n",
    "As already mentioned a dataset is required to have at least the `target` and the `start` fields. However, it may have more. Let's see what are all the available fields:"
   ]
  },
  {
   "cell_type": "code",
   "execution_count": 21,
   "id": "faf0857d",
   "metadata": {
    "execution": {
     "iopub.execute_input": "2023-08-25T07:43:32.956054Z",
     "iopub.status.busy": "2023-08-25T07:43:32.955778Z",
     "iopub.status.idle": "2023-08-25T07:43:32.961128Z",
     "shell.execute_reply": "2023-08-25T07:43:32.960278Z"
    }
   },
   "outputs": [],
   "source": [
    "from gluonts.dataset.field_names import FieldName"
   ]
  },
  {
   "cell_type": "code",
   "execution_count": 22,
   "id": "ccbc7205",
   "metadata": {
    "execution": {
     "iopub.execute_input": "2023-08-25T07:43:32.964252Z",
     "iopub.status.busy": "2023-08-25T07:43:32.963992Z",
     "iopub.status.idle": "2023-08-25T07:43:32.972116Z",
     "shell.execute_reply": "2023-08-25T07:43:32.971412Z"
    }
   },
   "outputs": [
    {
     "data": {
      "text/plain": [
       "[\"FieldName.ITEM_ID = 'item_id'\",\n",
       " \"FieldName.INFO = 'info'\",\n",
       " \"FieldName.START = 'start'\",\n",
       " \"FieldName.TARGET = 'target'\",\n",
       " \"FieldName.FEAT_STATIC_CAT = 'feat_static_cat'\",\n",
       " \"FieldName.FEAT_STATIC_REAL = 'feat_static_real'\",\n",
       " \"FieldName.FEAT_DYNAMIC_CAT = 'feat_dynamic_cat'\",\n",
       " \"FieldName.FEAT_DYNAMIC_REAL = 'feat_dynamic_real'\",\n",
       " \"FieldName.PAST_FEAT_DYNAMIC_CAT = 'past_feat_dynamic_cat'\",\n",
       " \"FieldName.PAST_FEAT_DYNAMIC_REAL = 'past_feat_dynamic_real'\",\n",
       " \"FieldName.FEAT_DYNAMIC_REAL_LEGACY = 'dynamic_feat'\",\n",
       " \"FieldName.FEAT_DYNAMIC = 'feat_dynamic'\",\n",
       " \"FieldName.PAST_FEAT_DYNAMIC = 'past_feat_dynamic'\",\n",
       " \"FieldName.FEAT_TIME = 'time_feat'\",\n",
       " \"FieldName.FEAT_CONST = 'feat_dynamic_const'\",\n",
       " \"FieldName.FEAT_AGE = 'feat_dynamic_age'\",\n",
       " \"FieldName.OBSERVED_VALUES = 'observed_values'\",\n",
       " \"FieldName.IS_PAD = 'is_pad'\",\n",
       " \"FieldName.FORECAST_START = 'forecast_start'\",\n",
       " \"FieldName.TARGET_DIM_INDICATOR = 'target_dimension_indicator'\"]"
      ]
     },
     "execution_count": 22,
     "metadata": {},
     "output_type": "execute_result"
    }
   ],
   "source": [
    "[\n",
    "    f\"FieldName.{k} = '{v}'\"\n",
    "    for k, v in FieldName.__dict__.items()\n",
    "    if not k.startswith(\"_\")\n",
    "]"
   ]
  },
  {
   "cell_type": "markdown",
   "id": "fe9f7ecc",
   "metadata": {},
   "source": [
    "The fields are split into three categories: the required ones, the optional ones, and the ones that can be added by the `Transformation` (explained in a while).\n",
    "\n",
    "Required:\n",
    "\n",
    "- `start`: start date of the time series\n",
    "- `target`: values of the time series\n",
    "\n",
    "Optional:\n",
    "\n",
    "- `feat_static_cat`: static (over time) categorical features, list with dimension equal to the number of features\n",
    "- `feat_static_real`: static (over time) real features, list with dimension equal to the number of features\n",
    "- `feat_dynamic_cat`: dynamic (over time) categorical features, array with shape equal to (number of features, target length)\n",
    "- `feat_dynamic_real`: dynamic (over time) real features, array with shape equal to (number of features, target length)\n",
    "\n",
    "Added by `Transformation`:\n",
    "\n",
    "- `time_feat`: time related features such as the month or the day \n",
    "- `feat_dynamic_const`: expands a constant value feature along the time axis\n",
    "- `feat_dynamic_age`: age feature, i.e., a feature that its value is small for distant past timestamps and it monotonically increases the more we approach the current timestamp\n",
    "- `observed_values`: indicator for observed values, i.e., a feature that equals to 1 if the value is observed and 0 if the value is missing\n",
    "- `is_pad`: indicator for each time step that shows if it is padded (if the length is not enough) \n",
    "- `forecast_start`: forecast start date\n",
    "\n",
    "As a simple example, we can create a custom dataset to see how we can use some of these fields. The dataset consists of a target, a real dynamic feature (which in this example we set to be the target value one period earlier), and a static categorical feature that indicates the sinusoid type (different phase) that we used to create the target."
   ]
  },
  {
   "cell_type": "code",
   "execution_count": 23,
   "id": "f1203c9e",
   "metadata": {
    "execution": {
     "iopub.execute_input": "2023-08-25T07:43:32.975112Z",
     "iopub.status.busy": "2023-08-25T07:43:32.974855Z",
     "iopub.status.idle": "2023-08-25T07:43:32.984186Z",
     "shell.execute_reply": "2023-08-25T07:43:32.983417Z"
    }
   },
   "outputs": [],
   "source": [
    "def create_dataset(num_series, num_steps, period=24, mu=1, sigma=0.3):\n",
    "    # create target: noise + pattern\n",
    "    # noise\n",
    "    noise = np.random.normal(mu, sigma, size=(num_series, num_steps))\n",
    "\n",
    "    # pattern - sinusoid with different phase\n",
    "    sin_minusPi_Pi = np.sin(\n",
    "        np.tile(np.linspace(-np.pi, np.pi, period), int(num_steps / period))\n",
    "    )\n",
    "    sin_Zero_2Pi = np.sin(\n",
    "        np.tile(np.linspace(0, 2 * np.pi, 24), int(num_steps / period))\n",
    "    )\n",
    "\n",
    "    pattern = np.concatenate(\n",
    "        (\n",
    "            np.tile(sin_minusPi_Pi.reshape(1, -1), (int(np.ceil(num_series / 2)), 1)),\n",
    "            np.tile(sin_Zero_2Pi.reshape(1, -1), (int(np.floor(num_series / 2)), 1)),\n",
    "        ),\n",
    "        axis=0,\n",
    "    )\n",
    "\n",
    "    target = noise + pattern\n",
    "\n",
    "    # create time features: use target one period earlier, append with zeros\n",
    "    feat_dynamic_real = np.concatenate(\n",
    "        (np.zeros((num_series, period)), target[:, :-period]), axis=1\n",
    "    )\n",
    "\n",
    "    # create categorical static feats: use the sinusoid type as a categorical feature\n",
    "    feat_static_cat = np.concatenate(\n",
    "        (\n",
    "            np.zeros(int(np.ceil(num_series / 2))),\n",
    "            np.ones(int(np.floor(num_series / 2))),\n",
    "        ),\n",
    "        axis=0,\n",
    "    )\n",
    "\n",
    "    return target, feat_dynamic_real, feat_static_cat"
   ]
  },
  {
   "cell_type": "code",
   "execution_count": 24,
   "id": "7f93bbc1",
   "metadata": {
    "execution": {
     "iopub.execute_input": "2023-08-25T07:43:32.987570Z",
     "iopub.status.busy": "2023-08-25T07:43:32.987095Z",
     "iopub.status.idle": "2023-08-25T07:43:32.999309Z",
     "shell.execute_reply": "2023-08-25T07:43:32.998574Z"
    }
   },
   "outputs": [],
   "source": [
    "# define the parameters of the dataset\n",
    "custom_ds_metadata = {\n",
    "    \"num_series\": 100,\n",
    "    \"num_steps\": 24 * 7,\n",
    "    \"prediction_length\": 24,\n",
    "    \"freq\": \"1H\",\n",
    "    \"start\": [pd.Period(\"01-01-2019\", freq=\"1H\") for _ in range(100)],\n",
    "}"
   ]
  },
  {
   "cell_type": "code",
   "execution_count": 25,
   "id": "02188188",
   "metadata": {
    "execution": {
     "iopub.execute_input": "2023-08-25T07:43:33.002463Z",
     "iopub.status.busy": "2023-08-25T07:43:33.001999Z",
     "iopub.status.idle": "2023-08-25T07:43:33.007093Z",
     "shell.execute_reply": "2023-08-25T07:43:33.006348Z"
    }
   },
   "outputs": [],
   "source": [
    "data_out = create_dataset(\n",
    "    custom_ds_metadata[\"num_series\"],\n",
    "    custom_ds_metadata[\"num_steps\"],\n",
    "    custom_ds_metadata[\"prediction_length\"],\n",
    ")\n",
    "\n",
    "target, feat_dynamic_real, feat_static_cat = data_out"
   ]
  },
  {
   "cell_type": "markdown",
   "id": "8ce52b15",
   "metadata": {},
   "source": [
    "We can easily create the train and test datasets by simply filling in the correct fields. Remember that for the train dataset we need to cut the last window."
   ]
  },
  {
   "cell_type": "code",
   "execution_count": 26,
   "id": "80c1d6f6",
   "metadata": {
    "execution": {
     "iopub.execute_input": "2023-08-25T07:43:33.010265Z",
     "iopub.status.busy": "2023-08-25T07:43:33.009792Z",
     "iopub.status.idle": "2023-08-25T07:43:33.018857Z",
     "shell.execute_reply": "2023-08-25T07:43:33.018196Z"
    }
   },
   "outputs": [],
   "source": [
    "train_ds = ListDataset(\n",
    "    [\n",
    "        {\n",
    "            FieldName.TARGET: target,\n",
    "            FieldName.START: start,\n",
    "            FieldName.FEAT_DYNAMIC_REAL: [fdr],\n",
    "            FieldName.FEAT_STATIC_CAT: [fsc],\n",
    "        }\n",
    "        for (target, start, fdr, fsc) in zip(\n",
    "            target[:, : -custom_ds_metadata[\"prediction_length\"]],\n",
    "            custom_ds_metadata[\"start\"],\n",
    "            feat_dynamic_real[:, : -custom_ds_metadata[\"prediction_length\"]],\n",
    "            feat_static_cat,\n",
    "        )\n",
    "    ],\n",
    "    freq=custom_ds_metadata[\"freq\"],\n",
    ")"
   ]
  },
  {
   "cell_type": "code",
   "execution_count": 27,
   "id": "4b1141e5",
   "metadata": {
    "execution": {
     "iopub.execute_input": "2023-08-25T07:43:33.021804Z",
     "iopub.status.busy": "2023-08-25T07:43:33.021413Z",
     "iopub.status.idle": "2023-08-25T07:43:33.030929Z",
     "shell.execute_reply": "2023-08-25T07:43:33.030241Z"
    }
   },
   "outputs": [],
   "source": [
    "test_ds = ListDataset(\n",
    "    [\n",
    "        {\n",
    "            FieldName.TARGET: target,\n",
    "            FieldName.START: start,\n",
    "            FieldName.FEAT_DYNAMIC_REAL: [fdr],\n",
    "            FieldName.FEAT_STATIC_CAT: [fsc],\n",
    "        }\n",
    "        for (target, start, fdr, fsc) in zip(\n",
    "            target, custom_ds_metadata[\"start\"], feat_dynamic_real, feat_static_cat\n",
    "        )\n",
    "    ],\n",
    "    freq=custom_ds_metadata[\"freq\"],\n",
    ")"
   ]
  },
  {
   "cell_type": "markdown",
   "id": "89e2f8cb",
   "metadata": {},
   "source": [
    "Now, we can examine each entry of the train and test datasets. We should expect that they have the following fields: `target`, `start`, `feat_dynamic_real` and `feat_static_cat`."
   ]
  },
  {
   "cell_type": "code",
   "execution_count": 28,
   "id": "cdce6c67",
   "metadata": {
    "execution": {
     "iopub.execute_input": "2023-08-25T07:43:33.034044Z",
     "iopub.status.busy": "2023-08-25T07:43:33.033795Z",
     "iopub.status.idle": "2023-08-25T07:43:33.039172Z",
     "shell.execute_reply": "2023-08-25T07:43:33.038393Z"
    }
   },
   "outputs": [
    {
     "data": {
      "text/plain": [
       "dict_keys(['target', 'start', 'feat_dynamic_real', 'feat_static_cat'])"
      ]
     },
     "execution_count": 28,
     "metadata": {},
     "output_type": "execute_result"
    }
   ],
   "source": [
    "train_entry = next(iter(train_ds))\n",
    "train_entry.keys()"
   ]
  },
  {
   "cell_type": "code",
   "execution_count": 29,
   "id": "aa4e3232",
   "metadata": {
    "execution": {
     "iopub.execute_input": "2023-08-25T07:43:33.043497Z",
     "iopub.status.busy": "2023-08-25T07:43:33.043104Z",
     "iopub.status.idle": "2023-08-25T07:43:33.048492Z",
     "shell.execute_reply": "2023-08-25T07:43:33.047732Z"
    }
   },
   "outputs": [
    {
     "data": {
      "text/plain": [
       "dict_keys(['target', 'start', 'feat_dynamic_real', 'feat_static_cat'])"
      ]
     },
     "execution_count": 29,
     "metadata": {},
     "output_type": "execute_result"
    }
   ],
   "source": [
    "test_entry = next(iter(test_ds))\n",
    "test_entry.keys()"
   ]
  },
  {
   "cell_type": "code",
   "execution_count": 30,
   "id": "d393036b",
   "metadata": {
    "execution": {
     "iopub.execute_input": "2023-08-25T07:43:33.052639Z",
     "iopub.status.busy": "2023-08-25T07:43:33.052253Z",
     "iopub.status.idle": "2023-08-25T07:43:33.312580Z",
     "shell.execute_reply": "2023-08-25T07:43:33.311812Z"
    }
   },
   "outputs": [
    {
     "data": {
      "image/png": "[encoded data removed]",
      "text/plain": [
       "<Figure size 1000x700 with 2 Axes>"
      ]
     },
     "metadata": {},
     "output_type": "display_data"
    }
   ],
   "source": [
    "test_series = to_pandas(test_entry)\n",
    "train_series = to_pandas(train_entry)\n",
    "\n",
    "fig, ax = plt.subplots(2, 1, sharex=True, sharey=True, figsize=(10, 7))\n",
    "\n",
    "train_series.plot(ax=ax[0])\n",
    "ax[0].grid(which=\"both\")\n",
    "ax[0].legend([\"train series\"], loc=\"upper left\")\n",
    "\n",
    "test_series.plot(ax=ax[1])\n",
    "ax[1].axvline(train_series.index[-1], color=\"r\")  # end of train dataset\n",
    "ax[1].grid(which=\"both\")\n",
    "ax[1].legend([\"test series\", \"end of train series\"], loc=\"upper left\")\n",
    "\n",
    "plt.show()"
   ]
  },
  {
   "cell_type": "markdown",
   "id": "450054ba",
   "metadata": {},
   "source": [
    "<span style=\"color:red\">*For the rest of the tutorial we will use the custom dataset*</span>\n",
    "\n",
    "## Transformations\n",
    "\n",
    "### Define a transformation\n",
    "\n",
    "The primary use case for a `Transformation` is for feature processing, e.g., adding a holiday feature and for defining the way the dataset will be split into appropriate windows during training and inference. \n",
    "\n",
    "In general, it gets an iterable collection of entries of a dataset and transform it to another iterable collection that can possibly contain more fields. The transformation is done by defining a set of \"actions\" to the raw dataset depending on what is useful to our model. This actions usually create some additional features or transform an existing feature. As an example, in the following we add the following transformations:\n",
    "\n",
    "- `AddObservedValuesIndicator`: Creates the `observed_values` field in the dataset, i.e., adds a feature that equals to 1 if the value is observed and 0 if the value is missing \n",
    "- `AddAgeFeature`: Creates the `feat_dynamic_age` field in the dataset, i.e., adds a feature that its value is small for distant past timestamps and it monotonically increases the more we approach the current timestamp   \n",
    "\n",
    "One more transformation that can be used is the `InstanceSplitter`, which is used to define how the datasets are going to be split in example windows during training, validation, or at prediction time. The `InstanceSplitter` is configured as follows (skipping the obvious fields):\n",
    "\n",
    "- `is_pad_field`: indicator if the time series is padded (if the length is not enough)\n",
    "- `train_sampler`: defines how the training windows are cut/sampled\n",
    "- `time_series_fields`: contains the time dependent features that need to be split in the same manner as the target"
   ]
  },
  {
   "cell_type": "code",
   "execution_count": 31,
   "id": "15db39ef",
   "metadata": {
    "execution": {
     "iopub.execute_input": "2023-08-25T07:43:33.316220Z",
     "iopub.status.busy": "2023-08-25T07:43:33.315506Z",
     "iopub.status.idle": "2023-08-25T07:43:33.351667Z",
     "shell.execute_reply": "2023-08-25T07:43:33.350846Z"
    }
   },
   "outputs": [],
   "source": [
    "from gluonts.transform import (\n",
    "    AddAgeFeature,\n",
    "    AddObservedValuesIndicator,\n",
    "    Chain,\n",
    "    ExpectedNumInstanceSampler,\n",
    "    InstanceSplitter,\n",
    "    SetFieldIfNotPresent,\n",
    ")"
   ]
  },
  {
   "cell_type": "code",
   "execution_count": 32,
   "id": "acd22d5f",
   "metadata": {
    "execution": {
     "iopub.execute_input": "2023-08-25T07:43:33.355789Z",
     "iopub.status.busy": "2023-08-25T07:43:33.355223Z",
     "iopub.status.idle": "2023-08-25T07:43:33.363495Z",
     "shell.execute_reply": "2023-08-25T07:43:33.362809Z"
    }
   },
   "outputs": [],
   "source": [
    "def create_transformation(freq, context_length, prediction_length):\n",
    "    return Chain(\n",
    "        [\n",
    "            AddObservedValuesIndicator(\n",
    "                target_field=FieldName.TARGET,\n",
    "                output_field=FieldName.OBSERVED_VALUES,\n",
    "            ),\n",
    "            AddAgeFeature(\n",
    "                target_field=FieldName.TARGET,\n",
    "                output_field=FieldName.FEAT_AGE,\n",
    "                pred_length=prediction_length,\n",
    "                log_scale=True,\n",
    "            ),\n",
    "            InstanceSplitter(\n",
    "                target_field=FieldName.TARGET,\n",
    "                is_pad_field=FieldName.IS_PAD,\n",
    "                start_field=FieldName.START,\n",
    "                forecast_start_field=FieldName.FORECAST_START,\n",
    "                instance_sampler=ExpectedNumInstanceSampler(\n",
    "                    num_instances=1,\n",
    "                    min_future=prediction_length,\n",
    "                ),\n",
    "                past_length=context_length,\n",
    "                future_length=prediction_length,\n",
    "                time_series_fields=[\n",
    "                    FieldName.FEAT_AGE,\n",
    "                    FieldName.FEAT_DYNAMIC_REAL,\n",
    "                    FieldName.OBSERVED_VALUES,\n",
    "                ],\n",
    "            ),\n",
    "        ]\n",
    "    )"
   ]
  },
  {
   "cell_type": "markdown",
   "id": "b1503d19",
   "metadata": {},
   "source": [
    "### Transform a dataset\n",
    "\n",
    "Now, we can create a transformation object by applying the above transformation to the custom dataset we have created."
   ]
  },
  {
   "cell_type": "code",
   "execution_count": 33,
   "id": "f88bea85",
   "metadata": {
    "execution": {
     "iopub.execute_input": "2023-08-25T07:43:33.366865Z",
     "iopub.status.busy": "2023-08-25T07:43:33.366460Z",
     "iopub.status.idle": "2023-08-25T07:43:33.370925Z",
     "shell.execute_reply": "2023-08-25T07:43:33.370150Z"
    }
   },
   "outputs": [],
   "source": [
    "transformation = create_transformation(\n",
    "    custom_ds_metadata[\"freq\"],\n",
    "    2 * custom_ds_metadata[\"prediction_length\"],  # can be any appropriate value\n",
    "    custom_ds_metadata[\"prediction_length\"],\n",
    ")"
   ]
  },
  {
   "cell_type": "code",
   "execution_count": 34,
   "id": "b4b2dd75",
   "metadata": {
    "execution": {
     "iopub.execute_input": "2023-08-25T07:43:33.374106Z",
     "iopub.status.busy": "2023-08-25T07:43:33.373654Z",
     "iopub.status.idle": "2023-08-25T07:43:33.378838Z",
     "shell.execute_reply": "2023-08-25T07:43:33.378143Z"
    }
   },
   "outputs": [],
   "source": [
    "train_tf = transformation(iter(train_ds), is_train=True)"
   ]
  },
  {
   "cell_type": "code",
   "execution_count": 35,
   "id": "297bd05b",
   "metadata": {
    "execution": {
     "iopub.execute_input": "2023-08-25T07:43:33.381866Z",
     "iopub.status.busy": "2023-08-25T07:43:33.381401Z",
     "iopub.status.idle": "2023-08-25T07:43:33.386483Z",
     "shell.execute_reply": "2023-08-25T07:43:33.385877Z"
    }
   },
   "outputs": [
    {
     "data": {
      "text/plain": [
       "generator"
      ]
     },
     "execution_count": 35,
     "metadata": {},
     "output_type": "execute_result"
    }
   ],
   "source": [
    "type(train_tf)"
   ]
  },
  {
   "cell_type": "markdown",
   "id": "0b84ddc3",
   "metadata": {},
   "source": [
    "As expected, the output is another iterable object. We can easily examine what is contained in an entry of the transformed dataset. The `InstanceSplitter` iterates over the transformed dataset and cuts windows by selecting randomly a time series and a starting point on that time series (this \"randomness\" is defined by the `instance_sampler`)."
   ]
  },
  {
   "cell_type": "code",
   "execution_count": 36,
   "id": "620eaba4",
   "metadata": {
    "execution": {
     "iopub.execute_input": "2023-08-25T07:43:33.389535Z",
     "iopub.status.busy": "2023-08-25T07:43:33.389066Z",
     "iopub.status.idle": "2023-08-25T07:43:33.396837Z",
     "shell.execute_reply": "2023-08-25T07:43:33.396060Z"
    }
   },
   "outputs": [
    {
     "data": {
      "text/plain": [
       "['start',\n",
       " 'feat_static_cat',\n",
       " 'past_feat_dynamic_age',\n",
       " 'future_feat_dynamic_age',\n",
       " 'past_feat_dynamic_real',\n",
       " 'future_feat_dynamic_real',\n",
       " 'past_observed_values',\n",
       " 'future_observed_values',\n",
       " 'past_target',\n",
       " 'future_target',\n",
       " 'past_is_pad',\n",
       " 'forecast_start']"
      ]
     },
     "execution_count": 36,
     "metadata": {},
     "output_type": "execute_result"
    }
   ],
   "source": [
    "train_tf_entry = next(iter(train_tf))\n",
    "[k for k in train_tf_entry.keys()]"
   ]
  },
  {
   "cell_type": "markdown",
   "id": "f6cbc621",
   "metadata": {},
   "source": [
    "The transformer has done what we asked. In particular it has added:\n",
    "\n",
    "- a field for observed values (`observed_values`)  \n",
    "- a field for the age feature (`feat_dynamic_age`)\n",
    "- some extra useful fields (`past_is_pad`, `forecast_start`)\n",
    "\n",
    "It has done one more important thing: it has split the window into past and future and has added the corresponding prefixes to all time dependent fields. This way we can easily use e.g., the `past_target` field as input and the `future_target` field to calculate the error of our predictions. Of course, the length of the past is equal to the `context_length` and of the future equal to the `prediction_length`."
   ]
  },
  {
   "cell_type": "code",
   "execution_count": 37,
   "id": "e5bee232",
   "metadata": {
    "execution": {
     "iopub.execute_input": "2023-08-25T07:43:33.400147Z",
     "iopub.status.busy": "2023-08-25T07:43:33.399563Z",
     "iopub.status.idle": "2023-08-25T07:43:33.405863Z",
     "shell.execute_reply": "2023-08-25T07:43:33.405039Z"
    }
   },
   "outputs": [
    {
     "name": "stdout",
     "output_type": "stream",
     "text": [
      "past target shape: (48,)\n",
      "future target shape: (24,)\n",
      "past observed values shape: (48,)\n",
      "future observed values shape: (24,)\n",
      "past age feature shape: (48, 1)\n",
      "future age feature shape: (24, 1)\n",
      "[0]\n"
     ]
    }
   ],
   "source": [
    "print(f\"past target shape: {train_tf_entry['past_target'].shape}\")\n",
    "print(f\"future target shape: {train_tf_entry['future_target'].shape}\")\n",
    "print(f\"past observed values shape: {train_tf_entry['past_observed_values'].shape}\")\n",
    "print(f\"future observed values shape: {train_tf_entry['future_observed_values'].shape}\")\n",
    "print(f\"past age feature shape: {train_tf_entry['past_feat_dynamic_age'].shape}\")\n",
    "print(f\"future age feature shape: {train_tf_entry['future_feat_dynamic_age'].shape}\")\n",
    "print(train_tf_entry[\"feat_static_cat\"])"
   ]
  },
  {
   "cell_type": "markdown",
   "id": "a8ba11c2",
   "metadata": {},
   "source": [
    "Just for comparison, let's see again what were the fields in the original dataset before the transformation:"
   ]
  },
  {
   "cell_type": "code",
   "execution_count": 38,
   "id": "d3eeca51",
   "metadata": {
    "execution": {
     "iopub.execute_input": "2023-08-25T07:43:33.409892Z",
     "iopub.status.busy": "2023-08-25T07:43:33.409423Z",
     "iopub.status.idle": "2023-08-25T07:43:33.414785Z",
     "shell.execute_reply": "2023-08-25T07:43:33.414106Z"
    }
   },
   "outputs": [
    {
     "data": {
      "text/plain": [
       "['target', 'start', 'feat_dynamic_real', 'feat_static_cat']"
      ]
     },
     "execution_count": 38,
     "metadata": {},
     "output_type": "execute_result"
    }
   ],
   "source": [
    "[k for k in next(iter(train_ds)).keys()]"
   ]
  },
  {
   "cell_type": "markdown",
   "id": "e8ed821c",
   "metadata": {},
   "source": [
    "Now, we can move on and see how the test dataset is split. As we saw, the transformation splits the windows into past and future. However, during inference (`is_train=False` in the transformation), the splitter always cuts the last window (of length `context_length`) of the dataset so it can be used to predict the subsequent unknown values of length `prediction_length`. \n",
    "\n",
    "So, how is the test dataset split in past and future since we do not know the future target? And what about the time dependent features?"
   ]
  },
  {
   "cell_type": "code",
   "execution_count": 39,
   "id": "b0e26b10",
   "metadata": {
    "execution": {
     "iopub.execute_input": "2023-08-25T07:43:33.417723Z",
     "iopub.status.busy": "2023-08-25T07:43:33.417262Z",
     "iopub.status.idle": "2023-08-25T07:43:33.421172Z",
     "shell.execute_reply": "2023-08-25T07:43:33.420402Z"
    }
   },
   "outputs": [],
   "source": [
    "test_tf = transformation(iter(test_ds), is_train=False)"
   ]
  },
  {
   "cell_type": "code",
   "execution_count": 40,
   "id": "2af6c660",
   "metadata": {
    "execution": {
     "iopub.execute_input": "2023-08-25T07:43:33.424505Z",
     "iopub.status.busy": "2023-08-25T07:43:33.424050Z",
     "iopub.status.idle": "2023-08-25T07:43:33.430175Z",
     "shell.execute_reply": "2023-08-25T07:43:33.429419Z"
    }
   },
   "outputs": [
    {
     "data": {
      "text/plain": [
       "['start',\n",
       " 'feat_static_cat',\n",
       " 'past_feat_dynamic_age',\n",
       " 'future_feat_dynamic_age',\n",
       " 'past_feat_dynamic_real',\n",
       " 'future_feat_dynamic_real',\n",
       " 'past_observed_values',\n",
       " 'future_observed_values',\n",
       " 'past_target',\n",
       " 'future_target',\n",
       " 'past_is_pad',\n",
       " 'forecast_start']"
      ]
     },
     "execution_count": 40,
     "metadata": {},
     "output_type": "execute_result"
    }
   ],
   "source": [
    "test_tf_entry = next(iter(test_tf))\n",
    "[k for k in test_tf_entry.keys()]"
   ]
  },
  {
   "cell_type": "code",
   "execution_count": 41,
   "id": "be432c90",
   "metadata": {
    "execution": {
     "iopub.execute_input": "2023-08-25T07:43:33.433867Z",
     "iopub.status.busy": "2023-08-25T07:43:33.433391Z",
     "iopub.status.idle": "2023-08-25T07:43:33.438883Z",
     "shell.execute_reply": "2023-08-25T07:43:33.438087Z"
    }
   },
   "outputs": [
    {
     "name": "stdout",
     "output_type": "stream",
     "text": [
      "past target shape: (48,)\n",
      "future target shape: (24,)\n",
      "past observed values shape: (48,)\n",
      "future observed values shape: (24,)\n",
      "past age feature shape: (48, 1)\n",
      "future age feature shape: (24, 1)\n",
      "[0]\n"
     ]
    }
   ],
   "source": [
    "print(f\"past target shape: {test_tf_entry['past_target'].shape}\")\n",
    "print(f\"future target shape: {test_tf_entry['future_target'].shape}\")\n",
    "print(f\"past observed values shape: {test_tf_entry['past_observed_values'].shape}\")\n",
    "print(f\"future observed values shape: {test_tf_entry['future_observed_values'].shape}\")\n",
    "print(f\"past age feature shape: {test_tf_entry['past_feat_dynamic_age'].shape}\")\n",
    "print(f\"future age feature shape: {test_tf_entry['future_feat_dynamic_age'].shape}\")\n",
    "print(test_tf_entry[\"feat_static_cat\"])"
   ]
  },
  {
   "cell_type": "markdown",
   "id": "ca30df78",
   "metadata": {},
   "source": [
    "The future target is empty but not the features - we always assume that we know the future features!\n",
    "\n",
    "All the things we did manually here are done by an internal block called `DataLoader`. It gets as an input the raw dataset (in appropriate format) and the transformation object and it outputs the transformed iterable dataset batch by batch. The only thing that we need to worry about is setting the transformation fields correctly!"
   ]
  },
  {
   "cell_type": "markdown",
   "id": "df416122",
   "metadata": {},
   "source": [
    "## Training an existing model\n",
    "\n",
    "GluonTS comes with a number of pre-built models. All the user needs to do is configure some hyperparameters. The existing models focus on (but are not limited to) probabilistic forecasting. Probabilistic forecasts are predictions in the form of a probability distribution, rather than simply a single point estimate. Having estimated the future distribution of each time step in the forecasting horizon, we can draw a sample from the distribution at each time step and thus create a \"sample path\" that can be seen as a possible realization of the future. In practice we draw multiple samples and create multiple sample paths which can be used for visualization, evaluation of the model, to derive statistics, etc.\n",
    "\n",
    "### Configuring an estimator\n",
    "\n",
    "We will begin with GluonTS's pre-built feedforward neural network estimator, a simple but powerful forecasting model. We will use this model to demonstrate the process of training a model, producing forecasts, and evaluating the results.\n",
    "\n",
    "GluonTS's built-in feedforward neural network (`SimpleFeedForwardEstimator`) accepts an input window of length `context_length` and predicts the distribution of the values of the subsequent `prediction_length` values. In GluonTS parlance, the feedforward neural network model is an example of `Estimator`. In GluonTS, `Estimator` objects represent a forecasting model as well as details such as its coefficients, weights, etc.\n",
    "\n",
    "In general, each estimator (pre-built or custom) is configured by a number of hyperparameters that can be either common (but not binding) among all estimators (e.g., the `prediction_length`) or specific for the particular estimator (e.g., number of layers for a neural network or the stride in a CNN).\n",
    "\n",
    "Finally, each estimator is configured by a `Trainer`, which defines how the model will be trained i.e., the number of epochs, the learning rate, etc."
   ]
  },
  {
   "cell_type": "code",
   "execution_count": 42,
   "id": "edcb9888",
   "metadata": {
    "execution": {
     "iopub.execute_input": "2023-08-25T07:43:33.443316Z",
     "iopub.status.busy": "2023-08-25T07:43:33.442637Z",
     "iopub.status.idle": "2023-08-25T07:43:33.778763Z",
     "shell.execute_reply": "2023-08-25T07:43:33.777969Z"
    }
   },
   "outputs": [
    {
     "ename": "ModuleNotFoundError",
     "evalue": "No module named 'mxnet'",
     "output_type": "error",
     "traceback": [
      "\u001b[0;31m---------------------------------------------------------------------------\u001b[0m",
      "\u001b[0;31mModuleNotFoundError\u001b[0m                       Traceback (most recent call last)",
      "Cell \u001b[0;32mIn[42], line 1\u001b[0m\n\u001b[0;32m----> 1\u001b[0m \u001b[38;5;28;01mfrom\u001b[39;00m \u001b[38;5;21;01mgluonts\u001b[39;00m\u001b[38;5;21;01m.\u001b[39;00m\u001b[38;5;21;01mmx\u001b[39;00m \u001b[38;5;28;01mimport\u001b[39;00m SimpleFeedForwardEstimator, Trainer\n",
      "File \u001b[0;32m~/.conda/envs/torchmpi/lib/python3.11/site-packages/gluonts/mx/__init__.py:21\u001b[0m\n\u001b[1;32m     18\u001b[0m \u001b[38;5;28;01mimport\u001b[39;00m \u001b[38;5;21;01mtyping\u001b[39;00m\n\u001b[1;32m     19\u001b[0m \u001b[38;5;28;01mfrom\u001b[39;00m \u001b[38;5;21;01mpkgutil\u001b[39;00m \u001b[38;5;28;01mimport\u001b[39;00m extend_path\n\u001b[0;32m---> 21\u001b[0m \u001b[38;5;28;01mimport\u001b[39;00m \u001b[38;5;21;01mmxnet\u001b[39;00m \u001b[38;5;28;01mas\u001b[39;00m \u001b[38;5;21;01mmx\u001b[39;00m\n\u001b[1;32m     23\u001b[0m __path__ \u001b[38;5;241m=\u001b[39m extend_path(__path__, \u001b[38;5;18m__name__\u001b[39m)  \u001b[38;5;66;03m# type: ignore\u001b[39;00m\n\u001b[1;32m     25\u001b[0m \u001b[38;5;66;03m# Tensor type for HybridBlocks in Gluon\u001b[39;00m\n",
      "\u001b[0;31mModuleNotFoundError\u001b[0m: No module named 'mxnet'"
     ]
    }
   ],
   "source": [
    "from gluonts.mx import SimpleFeedForwardEstimator, Trainer"
   ]
  },
  {
   "cell_type": "code",
   "execution_count": null,
   "id": "44f643b1",
   "metadata": {
    "execution": {
     "iopub.execute_input": "2023-08-25T07:43:33.782498Z",
     "iopub.status.busy": "2023-08-25T07:43:33.781987Z",
     "iopub.status.idle": "2023-08-25T07:43:33.787853Z",
     "shell.execute_reply": "2023-08-25T07:43:33.786877Z"
    }
   },
   "outputs": [],
   "source": [
    "estimator = SimpleFeedForwardEstimator(\n",
    "    num_hidden_dimensions=[10],\n",
    "    prediction_length=custom_ds_metadata[\"prediction_length\"],\n",
    "    context_length=2 * custom_ds_metadata[\"prediction_length\"],\n",
    "    trainer=Trainer(\n",
    "        ctx=\"cpu\",\n",
    "        epochs=5,\n",
    "        learning_rate=1e-3,\n",
    "        hybridize=False,\n",
    "        num_batches_per_epoch=100,\n",
    "    ),\n",
    ")"
   ]
  },
  {
   "cell_type": "markdown",
   "id": "49eff1cb",
   "metadata": {},
   "source": [
    "### Getting a predictor\n",
    "\n",
    "After specifying our estimator with all the necessary hyperparameters we can train it using our training dataset `dataset.train` by invoking the `train` method of the estimator. The training algorithm returns a fitted model (or a `Predictor` in GluonTS parlance) that can be used to construct forecasts.\n",
    "\n",
    "We should emphasize here that a single model, as the one defined above, is trained over all the time series contained in the training dataset `train_ds`. This results in a **global** model, suitable for prediction for all the time series in `train_ds` and possibly for other unseen related time series."
   ]
  },
  {
   "cell_type": "code",
   "execution_count": null,
   "id": "a6eca1ea",
   "metadata": {
    "execution": {
     "iopub.execute_input": "2023-08-25T07:43:33.790993Z",
     "iopub.status.busy": "2023-08-25T07:43:33.790525Z",
     "iopub.status.idle": "2023-08-25T07:43:37.968499Z",
     "shell.execute_reply": "2023-08-25T07:43:37.967809Z"
    }
   },
   "outputs": [],
   "source": [
    "predictor = estimator.train(train_ds)"
   ]
  },
  {
   "cell_type": "markdown",
   "id": "59077471",
   "metadata": {},
   "source": [
    "### Saving/Loading an existing model\n",
    "\n",
    "A fitted model, i.e., a `Predictor`, can be saved and loaded back easily:"
   ]
  },
  {
   "cell_type": "code",
   "execution_count": null,
   "id": "1bf118ac",
   "metadata": {
    "execution": {
     "iopub.execute_input": "2023-08-25T07:43:37.971684Z",
     "iopub.status.busy": "2023-08-25T07:43:37.971243Z",
     "iopub.status.idle": "2023-08-25T07:43:37.983633Z",
     "shell.execute_reply": "2023-08-25T07:43:37.982967Z"
    }
   },
   "outputs": [],
   "source": [
    "# save the trained model in tmp/\n",
    "from pathlib import Path\n",
    "\n",
    "predictor.serialize(Path(\"/tmp/\"))"
   ]
  },
  {
   "cell_type": "code",
   "execution_count": null,
   "id": "fe475198",
   "metadata": {
    "execution": {
     "iopub.execute_input": "2023-08-25T07:43:37.986845Z",
     "iopub.status.busy": "2023-08-25T07:43:37.986419Z",
     "iopub.status.idle": "2023-08-25T07:43:37.994813Z",
     "shell.execute_reply": "2023-08-25T07:43:37.994164Z"
    }
   },
   "outputs": [],
   "source": [
    "# loads it back\n",
    "from gluonts.model.predictor import Predictor\n",
    "\n",
    "predictor_deserialized = Predictor.deserialize(Path(\"/tmp/\"))"
   ]
  },
  {
   "cell_type": "markdown",
   "id": "f70a82a9",
   "metadata": {},
   "source": [
    "## Evaluation\n",
    "\n",
    "### Getting the forecasts\n",
    "\n",
    "With a predictor in hand, we can now predict the last window of the `dataset.test` and evaluate our model's performance.\n",
    "\n",
    "GluonTS comes with the `make_evaluation_predictions` function that automates the process of prediction and model evaluation. Roughly, this function performs the following steps:\n",
    "\n",
    "- Removes the final window of length `prediction_length` of the `dataset.test` that we want to predict\n",
    "- The estimator uses the remaining data to predict (in the form of sample paths) the \"future\" window that was just removed\n",
    "- The module outputs the forecast sample paths and the `dataset.test` (as python generator objects)"
   ]
  },
  {
   "cell_type": "code",
   "execution_count": null,
   "id": "970866f7",
   "metadata": {
    "execution": {
     "iopub.execute_input": "2023-08-25T07:43:37.997978Z",
     "iopub.status.busy": "2023-08-25T07:43:37.997558Z",
     "iopub.status.idle": "2023-08-25T07:43:38.003151Z",
     "shell.execute_reply": "2023-08-25T07:43:38.002509Z"
    }
   },
   "outputs": [],
   "source": [
    "from gluonts.evaluation import make_evaluation_predictions"
   ]
  },
  {
   "cell_type": "code",
   "execution_count": null,
   "id": "b937ed18",
   "metadata": {
    "execution": {
     "iopub.execute_input": "2023-08-25T07:43:38.006195Z",
     "iopub.status.busy": "2023-08-25T07:43:38.005782Z",
     "iopub.status.idle": "2023-08-25T07:43:38.009828Z",
     "shell.execute_reply": "2023-08-25T07:43:38.008989Z"
    }
   },
   "outputs": [],
   "source": [
    "forecast_it, ts_it = make_evaluation_predictions(\n",
    "    dataset=test_ds,  # test dataset\n",
    "    predictor=predictor,  # predictor\n",
    "    num_samples=100,  # number of sample paths we want for evaluation\n",
    ")"
   ]
  },
  {
   "cell_type": "markdown",
   "id": "f9bf9090",
   "metadata": {},
   "source": [
    "First, we can convert these generators to lists to ease the subsequent computations."
   ]
  },
  {
   "cell_type": "code",
   "execution_count": null,
   "id": "708df2fb",
   "metadata": {
    "execution": {
     "iopub.execute_input": "2023-08-25T07:43:38.013204Z",
     "iopub.status.busy": "2023-08-25T07:43:38.012961Z",
     "iopub.status.idle": "2023-08-25T07:43:38.101613Z",
     "shell.execute_reply": "2023-08-25T07:43:38.100758Z"
    }
   },
   "outputs": [],
   "source": [
    "forecasts = list(forecast_it)\n",
    "tss = list(ts_it)"
   ]
  },
  {
   "cell_type": "markdown",
   "id": "2284d987",
   "metadata": {},
   "source": [
    "We can examine the first element of these lists (that corresponds to the first time series of the dataset). Let's start with the list containing the time series, i.e., `tss`. We expect the first entry of `tss` to contain the (target of the) first time series of `test_ds`."
   ]
  },
  {
   "cell_type": "code",
   "execution_count": null,
   "id": "fdf2d0f8",
   "metadata": {
    "execution": {
     "iopub.execute_input": "2023-08-25T07:43:38.105619Z",
     "iopub.status.busy": "2023-08-25T07:43:38.105314Z",
     "iopub.status.idle": "2023-08-25T07:43:38.111120Z",
     "shell.execute_reply": "2023-08-25T07:43:38.110310Z"
    }
   },
   "outputs": [],
   "source": [
    "# first entry of the time series list\n",
    "ts_entry = tss[0]"
   ]
  },
  {
   "cell_type": "code",
   "execution_count": null,
   "id": "aeaf72af",
   "metadata": {
    "execution": {
     "iopub.execute_input": "2023-08-25T07:43:38.114362Z",
     "iopub.status.busy": "2023-08-25T07:43:38.114098Z",
     "iopub.status.idle": "2023-08-25T07:43:38.120875Z",
     "shell.execute_reply": "2023-08-25T07:43:38.120097Z"
    }
   },
   "outputs": [],
   "source": [
    "# first 5 values of the time series (convert from pandas to numpy)\n",
    "np.array(ts_entry[:5]).reshape(\n",
    "    -1,\n",
    ")"
   ]
  },
  {
   "cell_type": "code",
   "execution_count": null,
   "id": "62dadda7",
   "metadata": {
    "execution": {
     "iopub.execute_input": "2023-08-25T07:43:38.124778Z",
     "iopub.status.busy": "2023-08-25T07:43:38.124278Z",
     "iopub.status.idle": "2023-08-25T07:43:38.129326Z",
     "shell.execute_reply": "2023-08-25T07:43:38.128496Z"
    }
   },
   "outputs": [],
   "source": [
    "# first entry of test_ds\n",
    "test_ds_entry = next(iter(test_ds))"
   ]
  },
  {
   "cell_type": "code",
   "execution_count": null,
   "id": "9455649f",
   "metadata": {
    "execution": {
     "iopub.execute_input": "2023-08-25T07:43:38.132410Z",
     "iopub.status.busy": "2023-08-25T07:43:38.132004Z",
     "iopub.status.idle": "2023-08-25T07:43:38.138077Z",
     "shell.execute_reply": "2023-08-25T07:43:38.137435Z"
    }
   },
   "outputs": [],
   "source": [
    "# first 5 values\n",
    "test_ds_entry[\"target\"][:5]"
   ]
  },
  {
   "cell_type": "markdown",
   "id": "ffc2aed5",
   "metadata": {},
   "source": [
    "The entries in the `forecast` list are a bit more complex. They are objects that contain all the sample paths in the form of `numpy.ndarray` with dimension `(num_samples, prediction_length)`, the start date of the forecast, the frequency of the time series, etc. We can access all these information by simply invoking the corresponding attribute of the forecast object."
   ]
  },
  {
   "cell_type": "code",
   "execution_count": null,
   "id": "1b6c0206",
   "metadata": {
    "execution": {
     "iopub.execute_input": "2023-08-25T07:43:38.141319Z",
     "iopub.status.busy": "2023-08-25T07:43:38.140838Z",
     "iopub.status.idle": "2023-08-25T07:43:38.145109Z",
     "shell.execute_reply": "2023-08-25T07:43:38.144145Z"
    }
   },
   "outputs": [],
   "source": [
    "# first entry of the forecast list\n",
    "forecast_entry = forecasts[0]"
   ]
  },
  {
   "cell_type": "code",
   "execution_count": null,
   "id": "e1bb20f9",
   "metadata": {
    "execution": {
     "iopub.execute_input": "2023-08-25T07:43:38.148348Z",
     "iopub.status.busy": "2023-08-25T07:43:38.147873Z",
     "iopub.status.idle": "2023-08-25T07:43:38.152757Z",
     "shell.execute_reply": "2023-08-25T07:43:38.151980Z"
    }
   },
   "outputs": [],
   "source": [
    "print(f\"Number of sample paths: {forecast_entry.num_samples}\")\n",
    "print(f\"Dimension of samples: {forecast_entry.samples.shape}\")\n",
    "print(f\"Start date of the forecast window: {forecast_entry.start_date}\")\n",
    "print(f\"Frequency of the time series: {forecast_entry.freq}\")"
   ]
  },
  {
   "cell_type": "markdown",
   "id": "6cad3869",
   "metadata": {},
   "source": [
    "We can also do calculations to summarize the sample paths, such as computing the mean or a quantile for each of the 24 time steps in the forecast window."
   ]
  },
  {
   "cell_type": "code",
   "execution_count": null,
   "id": "7d0ded6c",
   "metadata": {
    "execution": {
     "iopub.execute_input": "2023-08-25T07:43:38.157082Z",
     "iopub.status.busy": "2023-08-25T07:43:38.156651Z",
     "iopub.status.idle": "2023-08-25T07:43:38.163327Z",
     "shell.execute_reply": "2023-08-25T07:43:38.162515Z"
    }
   },
   "outputs": [],
   "source": [
    "print(f\"Mean of the future window:\\n {forecast_entry.mean}\")\n",
    "print(f\"0.5-quantile (median) of the future window:\\n {forecast_entry.quantile(0.5)}\")"
   ]
  },
  {
   "cell_type": "markdown",
   "id": "7cd7de82",
   "metadata": {},
   "source": [
    "`Forecast` objects have a `plot` method that can summarize the forecast paths as the mean, prediction intervals, etc. The prediction intervals are shaded in different colors as a \"fan chart\"."
   ]
  },
  {
   "cell_type": "code",
   "execution_count": null,
   "id": "f2f3d27f",
   "metadata": {
    "execution": {
     "iopub.execute_input": "2023-08-25T07:43:38.166600Z",
     "iopub.status.busy": "2023-08-25T07:43:38.166138Z",
     "iopub.status.idle": "2023-08-25T07:43:38.357323Z",
     "shell.execute_reply": "2023-08-25T07:43:38.356592Z"
    }
   },
   "outputs": [],
   "source": [
    "plt.plot(ts_entry[-150:].to_timestamp())\n",
    "forecast_entry.plot(show_label=True)\n",
    "plt.legend()"
   ]
  },
  {
   "cell_type": "markdown",
   "id": "be635d3d",
   "metadata": {},
   "source": [
    "### Compute metrics\n",
    "\n",
    "We can also evaluate the quality of our forecasts numerically. In GluonTS, the `Evaluator` class can compute aggregate performance metrics, as well as metrics per time series (which can be useful for analyzing performance across heterogeneous time series)."
   ]
  },
  {
   "cell_type": "code",
   "execution_count": null,
   "id": "90824a14",
   "metadata": {
    "execution": {
     "iopub.execute_input": "2023-08-25T07:43:38.360692Z",
     "iopub.status.busy": "2023-08-25T07:43:38.360202Z",
     "iopub.status.idle": "2023-08-25T07:43:38.364314Z",
     "shell.execute_reply": "2023-08-25T07:43:38.363368Z"
    }
   },
   "outputs": [],
   "source": [
    "from gluonts.evaluation import Evaluator"
   ]
  },
  {
   "cell_type": "code",
   "execution_count": null,
   "id": "93e89e7c",
   "metadata": {
    "execution": {
     "iopub.execute_input": "2023-08-25T07:43:38.367624Z",
     "iopub.status.busy": "2023-08-25T07:43:38.367370Z",
     "iopub.status.idle": "2023-08-25T07:43:38.817227Z",
     "shell.execute_reply": "2023-08-25T07:43:38.816327Z"
    }
   },
   "outputs": [],
   "source": [
    "evaluator = Evaluator(quantiles=[0.1, 0.5, 0.9])\n",
    "agg_metrics, item_metrics = evaluator(tss, forecasts)"
   ]
  },
  {
   "cell_type": "markdown",
   "id": "c56a7a96",
   "metadata": {},
   "source": [
    "Aggregate metrics aggregate both across time-steps and across time series."
   ]
  },
  {
   "cell_type": "code",
   "execution_count": null,
   "id": "7f6213af",
   "metadata": {
    "execution": {
     "iopub.execute_input": "2023-08-25T07:43:38.821605Z",
     "iopub.status.busy": "2023-08-25T07:43:38.821034Z",
     "iopub.status.idle": "2023-08-25T07:43:38.828240Z",
     "shell.execute_reply": "2023-08-25T07:43:38.827448Z"
    }
   },
   "outputs": [],
   "source": [
    "print(json.dumps(agg_metrics, indent=4))"
   ]
  },
  {
   "cell_type": "markdown",
   "id": "b5ed3c9d",
   "metadata": {},
   "source": [
    "Individual metrics are aggregated only across time-steps."
   ]
  },
  {
   "cell_type": "code",
   "execution_count": null,
   "id": "29ae34bc",
   "metadata": {
    "execution": {
     "iopub.execute_input": "2023-08-25T07:43:38.831615Z",
     "iopub.status.busy": "2023-08-25T07:43:38.831158Z",
     "iopub.status.idle": "2023-08-25T07:43:38.853418Z",
     "shell.execute_reply": "2023-08-25T07:43:38.852569Z"
    }
   },
   "outputs": [],
   "source": [
    "item_metrics.head()"
   ]
  },
  {
   "cell_type": "code",
   "execution_count": null,
   "id": "2e0e47a7",
   "metadata": {
    "execution": {
     "iopub.execute_input": "2023-08-25T07:43:38.856923Z",
     "iopub.status.busy": "2023-08-25T07:43:38.856651Z",
     "iopub.status.idle": "2023-08-25T07:43:38.994725Z",
     "shell.execute_reply": "2023-08-25T07:43:38.993941Z"
    }
   },
   "outputs": [],
   "source": [
    "item_metrics.plot(x=\"MSIS\", y=\"MASE\", kind=\"scatter\")\n",
    "plt.grid(which=\"both\")\n",
    "plt.show()"
   ]
  },
  {
   "cell_type": "markdown",
   "id": "440da859",
   "metadata": {},
   "source": [
    "## Create your own model\n",
    "\n",
    "For creating our own forecast model we need to:\n",
    "\n",
    "- Define the training and prediction network\n",
    "- Define a new estimator that specifies any data processing and uses the networks\n",
    "\n",
    "The training and prediction networks can be arbitrarily complex but they should follow some basic rules:\n",
    "\n",
    "- Both should have a `hybrid_forward` method that defines what should happen when the network is called    \n",
    "- The training network's `hybrid_forward` should return a **loss** based on the prediction and the true values\n",
    "- The prediction network's `hybrid_forward` should return the predictions \n",
    "\n",
    "The estimator should also include the following methods:\n",
    "\n",
    "- `create_transformation`, defining all the data pre-processing transformations (like adding features)\n",
    "- `create_training_data_loader`, constructing the data loader that gives batches to be used in training, out of a given dataset\n",
    "- `create_training_network`, returning the training network configured with any necessary hyperparameters\n",
    "- `create_predictor`, creating the prediction network, and returning a `Predictor` object \n",
    "\n",
    "If a validation dataset is to be accepted, for some validation metric to be computed, then also the following should be defined:\n",
    "\n",
    "- `create_validation_data_loader`\n",
    "\n",
    "A `Predictor` defines the `predictor.predict` method of a given predictor. This method takes the test dataset, it passes it through the prediction network to take the predictions, and yields the predictions. You can think of the `Predictor` object as a wrapper of the prediction network that defines its `predict` method. \n",
    "\n",
    "In this section, we will start simple by creating a feedforward network that is restricted to point forecasts. Then, we will add complexity to the network by expanding it to probabilistic forecasting, considering features and scaling of the time series, and in the end we will replace it with an RNN.\n",
    "\n",
    "We need to emphasize that the way the following models are implemented and all the design choices that are made are neither binding nor necessarily optimal. Their sole purpose is to provide guidelines and hints on how to build a model. \n",
    "\n",
    "### Point forecasts with a simple feedforward network\n",
    "\n",
    "We can create a simple training network that defines a neural network that takes as input a window of length `context_length` and predicts the subsequent window of dimension `prediction_length` (thus, the output dimension of the network is `prediction_length`). The `hybrid_forward` method of the training network returns the mean of the L1 loss. \n",
    "\n",
    "The prediction network is (and should be) identical to the training network (by inheriting the class) and its `hybrid_forward` method returns the predictions."
   ]
  },
  {
   "cell_type": "code",
   "execution_count": null,
   "id": "fc2d423a",
   "metadata": {
    "execution": {
     "iopub.execute_input": "2023-08-25T07:43:38.998264Z",
     "iopub.status.busy": "2023-08-25T07:43:38.997801Z",
     "iopub.status.idle": "2023-08-25T07:43:39.006148Z",
     "shell.execute_reply": "2023-08-25T07:43:39.005298Z"
    }
   },
   "outputs": [],
   "source": [
    "class MyNetwork(gluon.HybridBlock):\n",
    "    def __init__(self, prediction_length, num_cells, **kwargs):\n",
    "        super().__init__(**kwargs)\n",
    "        self.prediction_length = prediction_length\n",
    "        self.num_cells = num_cells\n",
    "\n",
    "        with self.name_scope():\n",
    "            # Set up a 3 layer neural network that directly predicts the target values\n",
    "            self.nn = mx.gluon.nn.HybridSequential()\n",
    "            self.nn.add(mx.gluon.nn.Dense(units=self.num_cells, activation=\"relu\"))\n",
    "            self.nn.add(mx.gluon.nn.Dense(units=self.num_cells, activation=\"relu\"))\n",
    "            self.nn.add(\n",
    "                mx.gluon.nn.Dense(units=self.prediction_length, activation=\"softrelu\")\n",
    "            )\n",
    "\n",
    "\n",
    "class MyTrainNetwork(MyNetwork):\n",
    "    def hybrid_forward(self, F, past_target, future_target):\n",
    "        prediction = self.nn(past_target)\n",
    "        # calculate L1 loss with the future_target to learn the median\n",
    "        return (prediction - future_target).abs().mean(axis=-1)\n",
    "\n",
    "\n",
    "class MyPredNetwork(MyTrainNetwork):\n",
    "    # The prediction network only receives past_target and returns predictions\n",
    "    def hybrid_forward(self, F, past_target):\n",
    "        prediction = self.nn(past_target)\n",
    "        return prediction.expand_dims(axis=1)"
   ]
  },
  {
   "cell_type": "markdown",
   "id": "b891a5b2",
   "metadata": {},
   "source": [
    "The estimator class is configured by a few hyperparameters and implements the required methods."
   ]
  },
  {
   "cell_type": "code",
   "execution_count": null,
   "id": "ed6dea3a",
   "metadata": {
    "execution": {
     "iopub.execute_input": "2023-08-25T07:43:39.009799Z",
     "iopub.status.busy": "2023-08-25T07:43:39.009344Z",
     "iopub.status.idle": "2023-08-25T07:43:39.016237Z",
     "shell.execute_reply": "2023-08-25T07:43:39.015485Z"
    }
   },
   "outputs": [],
   "source": [
    "from functools import partial\n",
    "from mxnet.gluon import HybridBlock\n",
    "from gluonts.core.component import validated\n",
    "from gluonts.dataset.loader import TrainDataLoader\n",
    "from gluonts.model.predictor import Predictor\n",
    "from gluonts.mx import (\n",
    "    batchify,\n",
    "    copy_parameters,\n",
    "    get_hybrid_forward_input_names,\n",
    "    GluonEstimator,\n",
    "    RepresentableBlockPredictor,\n",
    "    Trainer,\n",
    ")\n",
    "from gluonts.transform import (\n",
    "    ExpectedNumInstanceSampler,\n",
    "    Transformation,\n",
    "    InstanceSplitter,\n",
    "    TestSplitSampler,\n",
    "    SelectFields,\n",
    "    Chain,\n",
    ")"
   ]
  },
  {
   "cell_type": "code",
   "execution_count": null,
   "id": "6bae1d3a",
   "metadata": {
    "execution": {
     "iopub.execute_input": "2023-08-25T07:43:39.019376Z",
     "iopub.status.busy": "2023-08-25T07:43:39.019128Z",
     "iopub.status.idle": "2023-08-25T07:43:39.032618Z",
     "shell.execute_reply": "2023-08-25T07:43:39.031516Z"
    }
   },
   "outputs": [],
   "source": [
    "class MyEstimator(GluonEstimator):\n",
    "    @validated()\n",
    "    def __init__(\n",
    "        self,\n",
    "        prediction_length: int,\n",
    "        context_length: int,\n",
    "        num_cells: int,\n",
    "        batch_size: int = 32,\n",
    "        trainer: Trainer = Trainer(),\n",
    "    ) -> None:\n",
    "        super().__init__(trainer=trainer, batch_size=batch_size)\n",
    "        self.prediction_length = prediction_length\n",
    "        self.context_length = context_length\n",
    "        self.num_cells = num_cells\n",
    "\n",
    "    def create_transformation(self):\n",
    "        return Chain([])\n",
    "\n",
    "    def create_training_data_loader(self, dataset, **kwargs):\n",
    "        instance_splitter = InstanceSplitter(\n",
    "            target_field=FieldName.TARGET,\n",
    "            is_pad_field=FieldName.IS_PAD,\n",
    "            start_field=FieldName.START,\n",
    "            forecast_start_field=FieldName.FORECAST_START,\n",
    "            instance_sampler=ExpectedNumInstanceSampler(\n",
    "                num_instances=1, min_future=self.prediction_length\n",
    "            ),\n",
    "            past_length=self.context_length,\n",
    "            future_length=self.prediction_length,\n",
    "        )\n",
    "        input_names = get_hybrid_forward_input_names(MyTrainNetwork)\n",
    "        return TrainDataLoader(\n",
    "            dataset=dataset,\n",
    "            transform=instance_splitter + SelectFields(input_names),\n",
    "            batch_size=self.batch_size,\n",
    "            stack_fn=partial(batchify, ctx=self.trainer.ctx, dtype=self.dtype),\n",
    "            **kwargs,\n",
    "        )\n",
    "\n",
    "    def create_training_network(self) -> MyTrainNetwork:\n",
    "        return MyTrainNetwork(\n",
    "            prediction_length=self.prediction_length, num_cells=self.num_cells\n",
    "        )\n",
    "\n",
    "    def create_predictor(\n",
    "        self, transformation: Transformation, trained_network: HybridBlock\n",
    "    ) -> Predictor:\n",
    "        prediction_splitter = InstanceSplitter(\n",
    "            target_field=FieldName.TARGET,\n",
    "            is_pad_field=FieldName.IS_PAD,\n",
    "            start_field=FieldName.START,\n",
    "            forecast_start_field=FieldName.FORECAST_START,\n",
    "            instance_sampler=TestSplitSampler(),\n",
    "            past_length=self.context_length,\n",
    "            future_length=self.prediction_length,\n",
    "        )\n",
    "\n",
    "        prediction_network = MyPredNetwork(\n",
    "            prediction_length=self.prediction_length, num_cells=self.num_cells\n",
    "        )\n",
    "\n",
    "        copy_parameters(trained_network, prediction_network)\n",
    "\n",
    "        return RepresentableBlockPredictor(\n",
    "            input_transform=transformation + prediction_splitter,\n",
    "            prediction_net=prediction_network,\n",
    "            batch_size=self.batch_size,\n",
    "            prediction_length=self.prediction_length,\n",
    "            ctx=self.trainer.ctx,\n",
    "        )"
   ]
  },
  {
   "cell_type": "markdown",
   "id": "e0694a25",
   "metadata": {},
   "source": [
    "After defining the training and prediction network, as well as the estimator class, we can follow exactly the same steps as with the existing models, i.e., we can specify our estimator by passing all the required hyperparameters to the estimator class, train the estimator by invoking its `train` method to create a predictor, and finally use the `make_evaluation_predictions` function to generate our forecasts."
   ]
  },
  {
   "cell_type": "code",
   "execution_count": null,
   "id": "40fc428b",
   "metadata": {
    "execution": {
     "iopub.execute_input": "2023-08-25T07:43:39.035835Z",
     "iopub.status.busy": "2023-08-25T07:43:39.035344Z",
     "iopub.status.idle": "2023-08-25T07:43:39.040522Z",
     "shell.execute_reply": "2023-08-25T07:43:39.039737Z"
    }
   },
   "outputs": [],
   "source": [
    "estimator = MyEstimator(\n",
    "    prediction_length=custom_ds_metadata[\"prediction_length\"],\n",
    "    context_length=2 * custom_ds_metadata[\"prediction_length\"],\n",
    "    num_cells=40,\n",
    "    trainer=Trainer(\n",
    "        ctx=\"cpu\",\n",
    "        epochs=5,\n",
    "        learning_rate=1e-3,\n",
    "        hybridize=False,\n",
    "        num_batches_per_epoch=100,\n",
    "    ),\n",
    ")"
   ]
  },
  {
   "cell_type": "markdown",
   "id": "ad59b0d2",
   "metadata": {},
   "source": [
    "The estimator can be trained using our training dataset `train_ds` just by invoking its `train` method. The training returns a predictor that can be used to predict."
   ]
  },
  {
   "cell_type": "code",
   "execution_count": null,
   "id": "c3585a7b",
   "metadata": {
    "execution": {
     "iopub.execute_input": "2023-08-25T07:43:39.043650Z",
     "iopub.status.busy": "2023-08-25T07:43:39.043188Z",
     "iopub.status.idle": "2023-08-25T07:43:40.966035Z",
     "shell.execute_reply": "2023-08-25T07:43:40.965327Z"
    }
   },
   "outputs": [],
   "source": [
    "predictor = estimator.train(train_ds)"
   ]
  },
  {
   "cell_type": "code",
   "execution_count": null,
   "id": "1eac94ce",
   "metadata": {
    "execution": {
     "iopub.execute_input": "2023-08-25T07:43:40.969612Z",
     "iopub.status.busy": "2023-08-25T07:43:40.969082Z",
     "iopub.status.idle": "2023-08-25T07:43:40.974114Z",
     "shell.execute_reply": "2023-08-25T07:43:40.973291Z"
    }
   },
   "outputs": [],
   "source": [
    "forecast_it, ts_it = make_evaluation_predictions(\n",
    "    dataset=test_ds,  # test dataset\n",
    "    predictor=predictor,  # predictor\n",
    "    num_samples=100,  # number of sample paths we want for evaluation\n",
    ")"
   ]
  },
  {
   "cell_type": "code",
   "execution_count": null,
   "id": "a43e2a26",
   "metadata": {
    "execution": {
     "iopub.execute_input": "2023-08-25T07:43:40.978007Z",
     "iopub.status.busy": "2023-08-25T07:43:40.977514Z",
     "iopub.status.idle": "2023-08-25T07:43:41.231325Z",
     "shell.execute_reply": "2023-08-25T07:43:41.229348Z"
    }
   },
   "outputs": [],
   "source": [
    "forecasts = list(forecast_it)\n",
    "tss = list(ts_it)"
   ]
  },
  {
   "cell_type": "code",
   "execution_count": null,
   "id": "b5a595fd",
   "metadata": {
    "execution": {
     "iopub.execute_input": "2023-08-25T07:43:41.237048Z",
     "iopub.status.busy": "2023-08-25T07:43:41.236439Z",
     "iopub.status.idle": "2023-08-25T07:43:41.433147Z",
     "shell.execute_reply": "2023-08-25T07:43:41.432343Z"
    }
   },
   "outputs": [],
   "source": [
    "plt.plot(tss[0][-150:].to_timestamp())\n",
    "forecasts[0].plot(show_label=True)\n",
    "plt.legend()"
   ]
  },
  {
   "cell_type": "markdown",
   "id": "22b1bbfa",
   "metadata": {},
   "source": [
    "Observe that we cannot actually see any prediction intervals in the predictions. This is expected since the model that we defined does not do probabilistic forecasting but it just gives point estimates. By requiring 100 sample paths (defined in `make_evaluation_predictions`) in such a network, we get 100 times the same output.\n",
    "\n",
    "### Probabilistic forecasting\n",
    "\n",
    "#### How does a model learn a distribution?\n",
    "\n",
    "Probabilistic forecasting requires that we learn the distribution of the future values of the time series and not the values themselves as in point forecasting. To achieve this, we need to specify the type of distribution that the future values follow. GluonTS comes with a number of different distributions that cover many use cases, such as Gaussian, Student-t and Uniform just to name a few.  \n",
    "\n",
    "\n",
    "In order to learn a distribution we need to learn its parameters. For example, in the simple case where we assume a Gaussian distribution, we need to learn the mean and the variance that fully specify the distribution.\n",
    "\n",
    "Each distribution that is available in GluonTS is defined by the corresponding `Distribution` class (e.g., `Gaussian`). This class defines -among others- the parameters of the distribution, its (log-)likelihood and a sampling method (given the parameters). \n",
    "\n",
    "However, it is not straightforward how to connect a model with such a distribution and learn its parameters. For this, each distribution comes with a `DistributionOutput` class (e.g., `GaussianOutput`). The role of this class is to connect a model with a distribution. Its main usage is to take the output of the model and map it to the parameters of the distribution. You can think of it as an additional projection layer on top of the model. The parameters of this layer are optimized along with the rest of the network.\n",
    "\n",
    "By including this projection layer, our model effectively learns the parameters of the (chosen) distribution of each time step. Such a model is usually optimized by choosing as a loss function the negative log-likelihood of the chosen distribution. After we optimize our model and learn the parameters we can sample or derive any other useful statistics from the learned distributions.\n",
    "\n",
    "#### Feedforward network for probabilistic forecasting\n",
    "\n",
    "Let's see what changes we need to make to the previous model to make it probabilistic: \n",
    "\n",
    "- First, we need to change the output of the network. In the point forecast network the output was a vector of length `prediction_length` that gave directly the point estimates. Now, we need to output a set of features that the `DistributionOutput` will use to project to the distribution parameters. These features should be different for each time step at the prediction horizon. Therefore we need an overall output of `prediction_length * num_features` values.\n",
    "- The `DistributionOutput` takes as input a tensor and uses the last dimension as features to be projected to the distribution parameters. Here, we need a distribution object for each time step, i.e., `prediction_length` distribution objects. Given that the output of the network has `prediction_length * num_features` values, we can reshape it to `(prediction_length, num_features)` and get the required distributions, while the last axis of length `num_features` will be projected to the distribution parameters. \n",
    "- We want the prediction network to output many sample paths for each time series. To achieve this we can repeat each time series as many times as the number of sample paths and do a standard forecast for each of them. \n",
    "\n",
    "Note that in all the tensors that we handle there is an initial dimension that refers to the batch, e.g., the output of the network has dimension `(batch_size, prediction_length * num_features)`."
   ]
  },
  {
   "cell_type": "code",
   "execution_count": null,
   "id": "fd87cb61",
   "metadata": {
    "execution": {
     "iopub.execute_input": "2023-08-25T07:43:41.436382Z",
     "iopub.status.busy": "2023-08-25T07:43:41.435865Z",
     "iopub.status.idle": "2023-08-25T07:43:41.440228Z",
     "shell.execute_reply": "2023-08-25T07:43:41.439387Z"
    }
   },
   "outputs": [],
   "source": [
    "from gluonts.mx import DistributionOutput, GaussianOutput"
   ]
  },
  {
   "cell_type": "code",
   "execution_count": null,
   "id": "d9b42788",
   "metadata": {
    "execution": {
     "iopub.execute_input": "2023-08-25T07:43:41.443459Z",
     "iopub.status.busy": "2023-08-25T07:43:41.442961Z",
     "iopub.status.idle": "2023-08-25T07:43:41.453903Z",
     "shell.execute_reply": "2023-08-25T07:43:41.453135Z"
    }
   },
   "outputs": [],
   "source": [
    "class MyProbNetwork(gluon.HybridBlock):\n",
    "    def __init__(\n",
    "        self, prediction_length, distr_output, num_cells, num_sample_paths=100, **kwargs\n",
    "    ) -> None:\n",
    "        super().__init__(**kwargs)\n",
    "        self.prediction_length = prediction_length\n",
    "        self.distr_output = distr_output\n",
    "        self.num_cells = num_cells\n",
    "        self.num_sample_paths = num_sample_paths\n",
    "        self.proj_distr_args = distr_output.get_args_proj()\n",
    "\n",
    "        with self.name_scope():\n",
    "            # Set up a 2 layer neural network that its ouput will be projected to the distribution parameters\n",
    "            self.nn = mx.gluon.nn.HybridSequential()\n",
    "            self.nn.add(mx.gluon.nn.Dense(units=self.num_cells, activation=\"relu\"))\n",
    "            self.nn.add(\n",
    "                mx.gluon.nn.Dense(\n",
    "                    units=self.prediction_length * self.num_cells, activation=\"relu\"\n",
    "                )\n",
    "            )\n",
    "\n",
    "\n",
    "class MyProbTrainNetwork(MyProbNetwork):\n",
    "    def hybrid_forward(self, F, past_target, future_target):\n",
    "        # compute network output\n",
    "        net_output = self.nn(past_target)\n",
    "\n",
    "        # (batch, prediction_length * nn_features)  ->  (batch, prediction_length, nn_features)\n",
    "        net_output = net_output.reshape(0, self.prediction_length, -1)\n",
    "\n",
    "        # project network output to distribution parameters domain\n",
    "        distr_args = self.proj_distr_args(net_output)\n",
    "\n",
    "        # compute distribution\n",
    "        distr = self.distr_output.distribution(distr_args)\n",
    "\n",
    "        # negative log-likelihood\n",
    "        loss = distr.loss(future_target)\n",
    "        return loss\n",
    "\n",
    "\n",
    "class MyProbPredNetwork(MyProbTrainNetwork):\n",
    "    # The prediction network only receives past_target and returns predictions\n",
    "    def hybrid_forward(self, F, past_target):\n",
    "        # repeat past target: from (batch_size, past_target_length) to\n",
    "        # (batch_size * num_sample_paths, past_target_length)\n",
    "        repeated_past_target = past_target.repeat(repeats=self.num_sample_paths, axis=0)\n",
    "\n",
    "        # compute network output\n",
    "        net_output = self.nn(repeated_past_target)\n",
    "\n",
    "        # (batch * num_sample_paths, prediction_length * nn_features)  ->  (batch * num_sample_paths, prediction_length, nn_features)\n",
    "        net_output = net_output.reshape(0, self.prediction_length, -1)\n",
    "\n",
    "        # project network output to distribution parameters domain\n",
    "        distr_args = self.proj_distr_args(net_output)\n",
    "\n",
    "        # compute distribution\n",
    "        distr = self.distr_output.distribution(distr_args)\n",
    "\n",
    "        # get (batch_size * num_sample_paths, prediction_length) samples\n",
    "        samples = distr.sample()\n",
    "\n",
    "        # reshape from (batch_size * num_sample_paths, prediction_length) to\n",
    "        # (batch_size, num_sample_paths, prediction_length)\n",
    "        return samples.reshape(\n",
    "            shape=(-1, self.num_sample_paths, self.prediction_length)\n",
    "        )"
   ]
  },
  {
   "cell_type": "markdown",
   "id": "f84f15de",
   "metadata": {},
   "source": [
    "The changes we need to do at the estimator are minor and they mainly reflect the additional `distr_output` parameter that our networks use."
   ]
  },
  {
   "cell_type": "code",
   "execution_count": null,
   "id": "d7172e19",
   "metadata": {
    "execution": {
     "iopub.execute_input": "2023-08-25T07:43:41.457416Z",
     "iopub.status.busy": "2023-08-25T07:43:41.457168Z",
     "iopub.status.idle": "2023-08-25T07:43:41.470709Z",
     "shell.execute_reply": "2023-08-25T07:43:41.469966Z"
    }
   },
   "outputs": [],
   "source": [
    "class MyProbEstimator(GluonEstimator):\n",
    "    @validated()\n",
    "    def __init__(\n",
    "        self,\n",
    "        prediction_length: int,\n",
    "        context_length: int,\n",
    "        distr_output: DistributionOutput,\n",
    "        num_cells: int,\n",
    "        num_sample_paths: int = 100,\n",
    "        batch_size: int = 32,\n",
    "        trainer: Trainer = Trainer(),\n",
    "    ) -> None:\n",
    "        super().__init__(trainer=trainer, batch_size=batch_size)\n",
    "        self.prediction_length = prediction_length\n",
    "        self.context_length = context_length\n",
    "        self.distr_output = distr_output\n",
    "        self.num_cells = num_cells\n",
    "        self.num_sample_paths = num_sample_paths\n",
    "\n",
    "    def create_transformation(self):\n",
    "        return Chain([])\n",
    "\n",
    "    def create_training_data_loader(self, dataset, **kwargs):\n",
    "        instance_splitter = InstanceSplitter(\n",
    "            target_field=FieldName.TARGET,\n",
    "            is_pad_field=FieldName.IS_PAD,\n",
    "            start_field=FieldName.START,\n",
    "            forecast_start_field=FieldName.FORECAST_START,\n",
    "            instance_sampler=ExpectedNumInstanceSampler(\n",
    "                num_instances=1, min_future=self.prediction_length\n",
    "            ),\n",
    "            past_length=self.context_length,\n",
    "            future_length=self.prediction_length,\n",
    "        )\n",
    "        input_names = get_hybrid_forward_input_names(MyProbTrainNetwork)\n",
    "        return TrainDataLoader(\n",
    "            dataset=dataset,\n",
    "            transform=instance_splitter + SelectFields(input_names),\n",
    "            batch_size=self.batch_size,\n",
    "            stack_fn=partial(batchify, ctx=self.trainer.ctx, dtype=self.dtype),\n",
    "            **kwargs,\n",
    "        )\n",
    "\n",
    "    def create_training_network(self) -> MyProbTrainNetwork:\n",
    "        return MyProbTrainNetwork(\n",
    "            prediction_length=self.prediction_length,\n",
    "            distr_output=self.distr_output,\n",
    "            num_cells=self.num_cells,\n",
    "            num_sample_paths=self.num_sample_paths,\n",
    "        )\n",
    "\n",
    "    def create_predictor(\n",
    "        self, transformation: Transformation, trained_network: HybridBlock\n",
    "    ) -> Predictor:\n",
    "        prediction_splitter = InstanceSplitter(\n",
    "            target_field=FieldName.TARGET,\n",
    "            is_pad_field=FieldName.IS_PAD,\n",
    "            start_field=FieldName.START,\n",
    "            forecast_start_field=FieldName.FORECAST_START,\n",
    "            instance_sampler=TestSplitSampler(),\n",
    "            past_length=self.context_length,\n",
    "            future_length=self.prediction_length,\n",
    "        )\n",
    "\n",
    "        prediction_network = MyProbPredNetwork(\n",
    "            prediction_length=self.prediction_length,\n",
    "            distr_output=self.distr_output,\n",
    "            num_cells=self.num_cells,\n",
    "            num_sample_paths=self.num_sample_paths,\n",
    "        )\n",
    "\n",
    "        copy_parameters(trained_network, prediction_network)\n",
    "\n",
    "        return RepresentableBlockPredictor(\n",
    "            input_transform=transformation + prediction_splitter,\n",
    "            prediction_net=prediction_network,\n",
    "            batch_size=self.batch_size,\n",
    "            prediction_length=self.prediction_length,\n",
    "            ctx=self.trainer.ctx,\n",
    "        )"
   ]
  },
  {
   "cell_type": "code",
   "execution_count": null,
   "id": "c8e5cd58",
   "metadata": {
    "execution": {
     "iopub.execute_input": "2023-08-25T07:43:41.473838Z",
     "iopub.status.busy": "2023-08-25T07:43:41.473141Z",
     "iopub.status.idle": "2023-08-25T07:43:41.478886Z",
     "shell.execute_reply": "2023-08-25T07:43:41.477960Z"
    }
   },
   "outputs": [],
   "source": [
    "estimator = MyProbEstimator(\n",
    "    prediction_length=custom_ds_metadata[\"prediction_length\"],\n",
    "    context_length=2 * custom_ds_metadata[\"prediction_length\"],\n",
    "    distr_output=GaussianOutput(),\n",
    "    num_cells=40,\n",
    "    trainer=Trainer(\n",
    "        ctx=\"cpu\",\n",
    "        epochs=5,\n",
    "        learning_rate=1e-3,\n",
    "        hybridize=False,\n",
    "        num_batches_per_epoch=100,\n",
    "    ),\n",
    ")"
   ]
  },
  {
   "cell_type": "code",
   "execution_count": null,
   "id": "ecb1a3b7",
   "metadata": {
    "execution": {
     "iopub.execute_input": "2023-08-25T07:43:41.482211Z",
     "iopub.status.busy": "2023-08-25T07:43:41.481818Z",
     "iopub.status.idle": "2023-08-25T07:43:44.054619Z",
     "shell.execute_reply": "2023-08-25T07:43:44.053177Z"
    }
   },
   "outputs": [],
   "source": [
    "predictor = estimator.train(train_ds)"
   ]
  },
  {
   "cell_type": "code",
   "execution_count": null,
   "id": "ef47ad43",
   "metadata": {
    "execution": {
     "iopub.execute_input": "2023-08-25T07:43:44.058048Z",
     "iopub.status.busy": "2023-08-25T07:43:44.057530Z",
     "iopub.status.idle": "2023-08-25T07:43:44.061719Z",
     "shell.execute_reply": "2023-08-25T07:43:44.061046Z"
    }
   },
   "outputs": [],
   "source": [
    "forecast_it, ts_it = make_evaluation_predictions(\n",
    "    dataset=test_ds,  # test dataset\n",
    "    predictor=predictor,  # predictor\n",
    "    num_samples=100,  # number of sample paths we want for evaluation\n",
    ")"
   ]
  },
  {
   "cell_type": "code",
   "execution_count": null,
   "id": "54dfea0d",
   "metadata": {
    "execution": {
     "iopub.execute_input": "2023-08-25T07:43:44.064715Z",
     "iopub.status.busy": "2023-08-25T07:43:44.064237Z",
     "iopub.status.idle": "2023-08-25T07:43:44.157021Z",
     "shell.execute_reply": "2023-08-25T07:43:44.156158Z"
    }
   },
   "outputs": [],
   "source": [
    "forecasts = list(forecast_it)\n",
    "tss = list(ts_it)"
   ]
  },
  {
   "cell_type": "code",
   "execution_count": null,
   "id": "195bd58c",
   "metadata": {
    "execution": {
     "iopub.execute_input": "2023-08-25T07:43:44.161628Z",
     "iopub.status.busy": "2023-08-25T07:43:44.161100Z",
     "iopub.status.idle": "2023-08-25T07:43:44.352990Z",
     "shell.execute_reply": "2023-08-25T07:43:44.352211Z"
    }
   },
   "outputs": [],
   "source": [
    "plt.plot(tss[0][-150:].to_timestamp())\n",
    "forecasts[0].plot(show_label=True)\n",
    "plt.legend()"
   ]
  },
  {
   "cell_type": "markdown",
   "id": "a89f893b",
   "metadata": {},
   "source": [
    "### Add features and scaling\n",
    "\n",
    "In the previous networks we used only the target and did not leverage any of the features of the dataset. Here we expand the probabilistic network by including the `feat_dynamic_real` field of the dataset that could enhance the forecasting power of our model. We achieve this by concatenating the target and the features to an enhanced vector that forms the new network input. \n",
    "\n",
    "All the features that are available in a dataset can be potentially used as inputs to our model. However, for the purposes of this example we will restrict ourselves to using only one feature.\n",
    "\n",
    "An important issue that a practitioner needs to deal with often is the different orders of magnitude in the values of the time series in a dataset. It is extremely helpful for a model to be trained and forecast values that lie roughly in the same value range. To address this issue, we add a `Scaler` to out model, that computes the scale of each time series. Then we can scale accordingly the values of the time series or any related features and use these as inputs to the network."
   ]
  },
  {
   "cell_type": "code",
   "execution_count": null,
   "id": "47d6263a",
   "metadata": {
    "execution": {
     "iopub.execute_input": "2023-08-25T07:43:44.356770Z",
     "iopub.status.busy": "2023-08-25T07:43:44.356023Z",
     "iopub.status.idle": "2023-08-25T07:43:44.360761Z",
     "shell.execute_reply": "2023-08-25T07:43:44.359960Z"
    }
   },
   "outputs": [],
   "source": [
    "from gluonts.mx import MeanScaler, NOPScaler"
   ]
  },
  {
   "cell_type": "code",
   "execution_count": null,
   "id": "333c2164",
   "metadata": {
    "execution": {
     "iopub.execute_input": "2023-08-25T07:43:44.364076Z",
     "iopub.status.busy": "2023-08-25T07:43:44.363820Z",
     "iopub.status.idle": "2023-08-25T07:43:44.381134Z",
     "shell.execute_reply": "2023-08-25T07:43:44.380235Z"
    }
   },
   "outputs": [],
   "source": [
    "class MyProbNetwork(gluon.HybridBlock):\n",
    "    def __init__(\n",
    "        self,\n",
    "        prediction_length,\n",
    "        context_length,\n",
    "        distr_output,\n",
    "        num_cells,\n",
    "        num_sample_paths=100,\n",
    "        scaling=True,\n",
    "        **kwargs\n",
    "    ) -> None:\n",
    "        super().__init__(**kwargs)\n",
    "        self.prediction_length = prediction_length\n",
    "        self.context_length = context_length\n",
    "        self.distr_output = distr_output\n",
    "        self.num_cells = num_cells\n",
    "        self.num_sample_paths = num_sample_paths\n",
    "        self.proj_distr_args = distr_output.get_args_proj()\n",
    "        self.scaling = scaling\n",
    "\n",
    "        with self.name_scope():\n",
    "            # Set up a 2 layer neural network that its ouput will be projected to the distribution parameters\n",
    "            self.nn = mx.gluon.nn.HybridSequential()\n",
    "            self.nn.add(mx.gluon.nn.Dense(units=self.num_cells, activation=\"relu\"))\n",
    "            self.nn.add(\n",
    "                mx.gluon.nn.Dense(\n",
    "                    units=self.prediction_length * self.num_cells, activation=\"relu\"\n",
    "                )\n",
    "            )\n",
    "\n",
    "            if scaling:\n",
    "                self.scaler = MeanScaler(keepdims=True)\n",
    "            else:\n",
    "                self.scaler = NOPScaler(keepdims=True)\n",
    "\n",
    "    def compute_scale(self, past_target, past_observed_values):\n",
    "        # scale shape is (batch_size, 1)\n",
    "        _, scale = self.scaler(\n",
    "            past_target.slice_axis(axis=1, begin=-self.context_length, end=None),\n",
    "            past_observed_values.slice_axis(\n",
    "                axis=1, begin=-self.context_length, end=None\n",
    "            ),\n",
    "        )\n",
    "\n",
    "        return scale\n",
    "\n",
    "\n",
    "class MyProbTrainNetwork(MyProbNetwork):\n",
    "    def hybrid_forward(\n",
    "        self,\n",
    "        F,\n",
    "        past_target,\n",
    "        future_target,\n",
    "        past_observed_values,\n",
    "        past_feat_dynamic_real,\n",
    "    ):\n",
    "        # compute scale\n",
    "        scale = self.compute_scale(past_target, past_observed_values)\n",
    "\n",
    "        # scale target and time features\n",
    "        past_target_scale = F.broadcast_div(past_target, scale)\n",
    "        past_feat_dynamic_real_scale = F.broadcast_div(\n",
    "            past_feat_dynamic_real.squeeze(axis=-1), scale\n",
    "        )\n",
    "\n",
    "        # concatenate target and time features to use them as input to the network\n",
    "        net_input = F.concat(past_target_scale, past_feat_dynamic_real_scale, dim=-1)\n",
    "\n",
    "        # compute network output\n",
    "        net_output = self.nn(net_input)\n",
    "\n",
    "        # (batch, prediction_length * nn_features)  ->  (batch, prediction_length, nn_features)\n",
    "        net_output = net_output.reshape(0, self.prediction_length, -1)\n",
    "\n",
    "        # project network output to distribution parameters domain\n",
    "        distr_args = self.proj_distr_args(net_output)\n",
    "\n",
    "        # compute distribution\n",
    "        distr = self.distr_output.distribution(distr_args, scale=scale)\n",
    "\n",
    "        # negative log-likelihood\n",
    "        loss = distr.loss(future_target)\n",
    "        return loss\n",
    "\n",
    "\n",
    "class MyProbPredNetwork(MyProbTrainNetwork):\n",
    "    # The prediction network only receives past_target and returns predictions\n",
    "    def hybrid_forward(\n",
    "        self, F, past_target, past_observed_values, past_feat_dynamic_real\n",
    "    ):\n",
    "        # repeat fields: from (batch_size, past_target_length) to\n",
    "        # (batch_size * num_sample_paths, past_target_length)\n",
    "        repeated_past_target = past_target.repeat(repeats=self.num_sample_paths, axis=0)\n",
    "        repeated_past_observed_values = past_observed_values.repeat(\n",
    "            repeats=self.num_sample_paths, axis=0\n",
    "        )\n",
    "        repeated_past_feat_dynamic_real = past_feat_dynamic_real.repeat(\n",
    "            repeats=self.num_sample_paths, axis=0\n",
    "        )\n",
    "\n",
    "        # compute scale\n",
    "        scale = self.compute_scale(repeated_past_target, repeated_past_observed_values)\n",
    "\n",
    "        # scale repeated target and time features\n",
    "        repeated_past_target_scale = F.broadcast_div(repeated_past_target, scale)\n",
    "        repeated_past_feat_dynamic_real_scale = F.broadcast_div(\n",
    "            repeated_past_feat_dynamic_real.squeeze(axis=-1), scale\n",
    "        )\n",
    "\n",
    "        # concatenate target and time features to use them as input to the network\n",
    "        net_input = F.concat(\n",
    "            repeated_past_target_scale, repeated_past_feat_dynamic_real_scale, dim=-1\n",
    "        )\n",
    "\n",
    "        # compute network oputput\n",
    "        net_output = self.nn(net_input)\n",
    "\n",
    "        # (batch * num_sample_paths, prediction_length * nn_features)  ->  (batch * num_sample_paths, prediction_length, nn_features)\n",
    "        net_output = net_output.reshape(0, self.prediction_length, -1)\n",
    "\n",
    "        # project network output to distribution parameters domain\n",
    "        distr_args = self.proj_distr_args(net_output)\n",
    "\n",
    "        # compute distribution\n",
    "        distr = self.distr_output.distribution(distr_args, scale=scale)\n",
    "\n",
    "        # get (batch_size * num_sample_paths, prediction_length) samples\n",
    "        samples = distr.sample()\n",
    "\n",
    "        # reshape from (batch_size * num_sample_paths, prediction_length) to\n",
    "        # (batch_size, num_sample_paths, prediction_length)\n",
    "        return samples.reshape(\n",
    "            shape=(-1, self.num_sample_paths, self.prediction_length)\n",
    "        )"
   ]
  },
  {
   "cell_type": "code",
   "execution_count": null,
   "id": "d413eda4",
   "metadata": {
    "execution": {
     "iopub.execute_input": "2023-08-25T07:43:44.384721Z",
     "iopub.status.busy": "2023-08-25T07:43:44.384016Z",
     "iopub.status.idle": "2023-08-25T07:43:44.399704Z",
     "shell.execute_reply": "2023-08-25T07:43:44.398863Z"
    }
   },
   "outputs": [],
   "source": [
    "class MyProbEstimator(GluonEstimator):\n",
    "    @validated()\n",
    "    def __init__(\n",
    "        self,\n",
    "        prediction_length: int,\n",
    "        context_length: int,\n",
    "        distr_output: DistributionOutput,\n",
    "        num_cells: int,\n",
    "        num_sample_paths: int = 100,\n",
    "        scaling: bool = True,\n",
    "        batch_size: int = 32,\n",
    "        trainer: Trainer = Trainer(),\n",
    "    ) -> None:\n",
    "        super().__init__(trainer=trainer, batch_size=batch_size)\n",
    "        self.prediction_length = prediction_length\n",
    "        self.context_length = context_length\n",
    "        self.distr_output = distr_output\n",
    "        self.num_cells = num_cells\n",
    "        self.num_sample_paths = num_sample_paths\n",
    "        self.scaling = scaling\n",
    "\n",
    "    def create_transformation(self):\n",
    "        # Feature transformation that the model uses for input.\n",
    "        return AddObservedValuesIndicator(\n",
    "            target_field=FieldName.TARGET,\n",
    "            output_field=FieldName.OBSERVED_VALUES,\n",
    "        )\n",
    "\n",
    "    def create_training_data_loader(self, dataset, **kwargs):\n",
    "        instance_splitter = InstanceSplitter(\n",
    "            target_field=FieldName.TARGET,\n",
    "            is_pad_field=FieldName.IS_PAD,\n",
    "            start_field=FieldName.START,\n",
    "            forecast_start_field=FieldName.FORECAST_START,\n",
    "            instance_sampler=ExpectedNumInstanceSampler(\n",
    "                num_instances=1, min_future=self.prediction_length\n",
    "            ),\n",
    "            past_length=self.context_length,\n",
    "            future_length=self.prediction_length,\n",
    "            time_series_fields=[\n",
    "                FieldName.FEAT_DYNAMIC_REAL,\n",
    "                FieldName.OBSERVED_VALUES,\n",
    "            ],\n",
    "        )\n",
    "        input_names = get_hybrid_forward_input_names(MyProbTrainNetwork)\n",
    "        return TrainDataLoader(\n",
    "            dataset=dataset,\n",
    "            transform=instance_splitter + SelectFields(input_names),\n",
    "            batch_size=self.batch_size,\n",
    "            stack_fn=partial(batchify, ctx=self.trainer.ctx, dtype=self.dtype),\n",
    "            **kwargs,\n",
    "        )\n",
    "\n",
    "    def create_training_network(self) -> MyProbTrainNetwork:\n",
    "        return MyProbTrainNetwork(\n",
    "            prediction_length=self.prediction_length,\n",
    "            context_length=self.context_length,\n",
    "            distr_output=self.distr_output,\n",
    "            num_cells=self.num_cells,\n",
    "            num_sample_paths=self.num_sample_paths,\n",
    "            scaling=self.scaling,\n",
    "        )\n",
    "\n",
    "    def create_predictor(\n",
    "        self, transformation: Transformation, trained_network: HybridBlock\n",
    "    ) -> Predictor:\n",
    "        prediction_splitter = InstanceSplitter(\n",
    "            target_field=FieldName.TARGET,\n",
    "            is_pad_field=FieldName.IS_PAD,\n",
    "            start_field=FieldName.START,\n",
    "            forecast_start_field=FieldName.FORECAST_START,\n",
    "            instance_sampler=TestSplitSampler(),\n",
    "            past_length=self.context_length,\n",
    "            future_length=self.prediction_length,\n",
    "            time_series_fields=[\n",
    "                FieldName.FEAT_DYNAMIC_REAL,\n",
    "                FieldName.OBSERVED_VALUES,\n",
    "            ],\n",
    "        )\n",
    "\n",
    "        prediction_network = MyProbPredNetwork(\n",
    "            prediction_length=self.prediction_length,\n",
    "            context_length=self.context_length,\n",
    "            distr_output=self.distr_output,\n",
    "            num_cells=self.num_cells,\n",
    "            num_sample_paths=self.num_sample_paths,\n",
    "            scaling=self.scaling,\n",
    "        )\n",
    "\n",
    "        copy_parameters(trained_network, prediction_network)\n",
    "\n",
    "        return RepresentableBlockPredictor(\n",
    "            input_transform=transformation + prediction_splitter,\n",
    "            prediction_net=prediction_network,\n",
    "            batch_size=self.batch_size,\n",
    "            prediction_length=self.prediction_length,\n",
    "            ctx=self.trainer.ctx,\n",
    "        )"
   ]
  },
  {
   "cell_type": "code",
   "execution_count": null,
   "id": "a4bf0673",
   "metadata": {
    "execution": {
     "iopub.execute_input": "2023-08-25T07:43:44.404634Z",
     "iopub.status.busy": "2023-08-25T07:43:44.404150Z",
     "iopub.status.idle": "2023-08-25T07:43:44.410585Z",
     "shell.execute_reply": "2023-08-25T07:43:44.409901Z"
    }
   },
   "outputs": [],
   "source": [
    "estimator = MyProbEstimator(\n",
    "    prediction_length=custom_ds_metadata[\"prediction_length\"],\n",
    "    context_length=2 * custom_ds_metadata[\"prediction_length\"],\n",
    "    distr_output=GaussianOutput(),\n",
    "    num_cells=40,\n",
    "    trainer=Trainer(\n",
    "        ctx=\"cpu\",\n",
    "        epochs=5,\n",
    "        learning_rate=1e-3,\n",
    "        hybridize=False,\n",
    "        num_batches_per_epoch=100,\n",
    "    ),\n",
    ")"
   ]
  },
  {
   "cell_type": "code",
   "execution_count": null,
   "id": "86574f83",
   "metadata": {
    "execution": {
     "iopub.execute_input": "2023-08-25T07:43:44.413515Z",
     "iopub.status.busy": "2023-08-25T07:43:44.413129Z",
     "iopub.status.idle": "2023-08-25T07:43:48.362968Z",
     "shell.execute_reply": "2023-08-25T07:43:48.361554Z"
    }
   },
   "outputs": [],
   "source": [
    "predictor = estimator.train(train_ds)"
   ]
  },
  {
   "cell_type": "code",
   "execution_count": null,
   "id": "6d03f110",
   "metadata": {
    "execution": {
     "iopub.execute_input": "2023-08-25T07:43:48.366376Z",
     "iopub.status.busy": "2023-08-25T07:43:48.365871Z",
     "iopub.status.idle": "2023-08-25T07:43:48.370348Z",
     "shell.execute_reply": "2023-08-25T07:43:48.369359Z"
    }
   },
   "outputs": [],
   "source": [
    "forecast_it, ts_it = make_evaluation_predictions(\n",
    "    dataset=test_ds,  # test dataset\n",
    "    predictor=predictor,  # predictor\n",
    "    num_samples=100,  # number of sample paths we want for evaluation\n",
    ")"
   ]
  },
  {
   "cell_type": "code",
   "execution_count": null,
   "id": "6b30c771",
   "metadata": {
    "execution": {
     "iopub.execute_input": "2023-08-25T07:43:48.373643Z",
     "iopub.status.busy": "2023-08-25T07:43:48.373164Z",
     "iopub.status.idle": "2023-08-25T07:43:48.481750Z",
     "shell.execute_reply": "2023-08-25T07:43:48.480895Z"
    }
   },
   "outputs": [],
   "source": [
    "forecasts = list(forecast_it)\n",
    "tss = list(ts_it)"
   ]
  },
  {
   "cell_type": "code",
   "execution_count": null,
   "id": "cd20e6c9",
   "metadata": {
    "execution": {
     "iopub.execute_input": "2023-08-25T07:43:48.485623Z",
     "iopub.status.busy": "2023-08-25T07:43:48.485078Z",
     "iopub.status.idle": "2023-08-25T07:43:48.677259Z",
     "shell.execute_reply": "2023-08-25T07:43:48.676550Z"
    }
   },
   "outputs": [],
   "source": [
    "plt.plot(tss[0][-150:].to_timestamp())\n",
    "forecasts[0].plot(show_label=True)\n",
    "plt.legend()"
   ]
  },
  {
   "cell_type": "markdown",
   "id": "00111880",
   "metadata": {},
   "source": [
    "### From feedforward to RNN\n",
    "\n",
    "In all the previous examples we have used a feedforward neural network as the base for our forecasting model. The main idea behind it was to use as an input to the network a window of the time series (of length `context_length`) and train the network to forecast the following window (of length `prediction_length`). \n",
    "\n",
    "In this section we will replace the feedforward network with a recurrent neural network (RNN). Due to the different nature of RNNs the structure of the networks will be a bit different. Let's see what are the major changes. \n",
    "\n",
    "#### Training\n",
    "\n",
    "The main idea behind RNN is the same as in the feedforward networks we already constructed: as we unroll the RNN at each time step we use as an input past values of the time series and forecast the next value. We can enhance the input by using multiple past values (for example specific lags based on seasonality patterns) or available features. However, in this example we will keep things simple and just use the last value of the time series. The output of the network at each time step is the distribution of the value of the next time step, where the state of the RNN is used as the feature vector for the parameter projection of the distribution.\n",
    "\n",
    "Due to the sequential nature of the RNN, the distinction between `past_` and `future_` in the cut window of the time series is not really necessary. Therefore, we can concatenate `past_target` and `future_target ` and treat it as a concrete `target` window that we wish to forecast. This means that the input to the RNN would be (sequentially) the window `target[-(context_length + prediction_length + 1):-1]` (one time step before the window we want to predict). As a consequence, we need to have `context_length + prediction_length + 1` available values at each window that we cut. We can define this in the `InstanceSplitter`. \n",
    "\n",
    "Overall, during training the steps are the following:\n",
    "\n",
    "- We pass sequentially through the RNN the target values `target[-(context_length + prediction_length + 1):-1]` \n",
    "- We use the state of the RNN at each time step as a feature vector and project it to the distribution parameter domain\n",
    "- The output at each time step is the distribution of the values of the next time step, which overall is the forecasted distribution for the window `target[-(context_length + prediction_length):]`\n",
    "\n",
    "The above steps are implemented in the `unroll_encoder` method.\n",
    "\n",
    "#### Inference\n",
    "\n",
    "During inference we know the values only of `past_target` therefore we cannot follow exactly the same steps as in training. However the main idea is very similar:\n",
    "\n",
    "- We pass sequentially through the RNN the past target values `past_target[-(context_length + 1):]` that effectively updates the state of the RNN\n",
    "- In the last time step the output of the RNN is effectively the distribution of the next value of the time series (which we do not know). Therefore we sample (`num_sample_paths` times) from this distribution and use the samples as inputs to the RNN for the next time step\n",
    "- We repeat the previous step `prediction_length` times \n",
    "\n",
    "The first step is implemented in `unroll_encoder` and the last steps in the `sample_decoder` method."
   ]
  },
  {
   "cell_type": "code",
   "execution_count": null,
   "id": "0ae9886e",
   "metadata": {
    "execution": {
     "iopub.execute_input": "2023-08-25T07:43:48.681124Z",
     "iopub.status.busy": "2023-08-25T07:43:48.680612Z",
     "iopub.status.idle": "2023-08-25T07:43:48.704651Z",
     "shell.execute_reply": "2023-08-25T07:43:48.703909Z"
    }
   },
   "outputs": [],
   "source": [
    "class MyProbRNN(gluon.HybridBlock):\n",
    "    def __init__(\n",
    "        self,\n",
    "        prediction_length,\n",
    "        context_length,\n",
    "        distr_output,\n",
    "        num_cells,\n",
    "        num_layers,\n",
    "        num_sample_paths=100,\n",
    "        scaling=True,\n",
    "        **kwargs\n",
    "    ) -> None:\n",
    "        super().__init__(**kwargs)\n",
    "        self.prediction_length = prediction_length\n",
    "        self.context_length = context_length\n",
    "        self.distr_output = distr_output\n",
    "        self.num_cells = num_cells\n",
    "        self.num_layers = num_layers\n",
    "        self.num_sample_paths = num_sample_paths\n",
    "        self.proj_distr_args = distr_output.get_args_proj()\n",
    "        self.scaling = scaling\n",
    "\n",
    "        with self.name_scope():\n",
    "            self.rnn = mx.gluon.rnn.HybridSequentialRNNCell()\n",
    "            for k in range(self.num_layers):\n",
    "                cell = mx.gluon.rnn.LSTMCell(hidden_size=self.num_cells)\n",
    "                cell = mx.gluon.rnn.ResidualCell(cell) if k > 0 else cell\n",
    "                self.rnn.add(cell)\n",
    "\n",
    "            if scaling:\n",
    "                self.scaler = MeanScaler(keepdims=True)\n",
    "            else:\n",
    "                self.scaler = NOPScaler(keepdims=True)\n",
    "\n",
    "    def compute_scale(self, past_target, past_observed_values):\n",
    "        # scale is computed on the context length last units of the past target\n",
    "        # scale shape is (batch_size, 1, *target_shape)\n",
    "        _, scale = self.scaler(\n",
    "            past_target.slice_axis(axis=1, begin=-self.context_length, end=None),\n",
    "            past_observed_values.slice_axis(\n",
    "                axis=1, begin=-self.context_length, end=None\n",
    "            ),\n",
    "        )\n",
    "\n",
    "        return scale\n",
    "\n",
    "    def unroll_encoder(\n",
    "        self,\n",
    "        F,\n",
    "        past_target,\n",
    "        past_observed_values,\n",
    "        future_target=None,\n",
    "        future_observed_values=None,\n",
    "    ):\n",
    "        # overall target field\n",
    "        # input target from -(context_length + prediction_length + 1) to -1\n",
    "        if future_target is not None:  # during training\n",
    "            target_in = F.concat(past_target, future_target, dim=-1).slice_axis(\n",
    "                axis=1,\n",
    "                begin=-(self.context_length + self.prediction_length + 1),\n",
    "                end=-1,\n",
    "            )\n",
    "\n",
    "            # overall observed_values field\n",
    "            # input observed_values corresponding to target_in\n",
    "            observed_values_in = F.concat(\n",
    "                past_observed_values, future_observed_values, dim=-1\n",
    "            ).slice_axis(\n",
    "                axis=1,\n",
    "                begin=-(self.context_length + self.prediction_length + 1),\n",
    "                end=-1,\n",
    "            )\n",
    "\n",
    "            rnn_length = self.context_length + self.prediction_length\n",
    "        else:  # during inference\n",
    "            target_in = past_target.slice_axis(\n",
    "                axis=1, begin=-(self.context_length + 1), end=-1\n",
    "            )\n",
    "\n",
    "            # overall observed_values field\n",
    "            # input observed_values corresponding to target_in\n",
    "            observed_values_in = past_observed_values.slice_axis(\n",
    "                axis=1, begin=-(self.context_length + 1), end=-1\n",
    "            )\n",
    "\n",
    "            rnn_length = self.context_length\n",
    "\n",
    "        # compute scale\n",
    "        scale = self.compute_scale(target_in, observed_values_in)\n",
    "\n",
    "        # scale target_in\n",
    "        target_in_scale = F.broadcast_div(target_in, scale)\n",
    "\n",
    "        # compute network output\n",
    "        net_output, states = self.rnn.unroll(\n",
    "            inputs=target_in_scale,\n",
    "            length=rnn_length,\n",
    "            layout=\"NTC\",\n",
    "            merge_outputs=True,\n",
    "        )\n",
    "\n",
    "        return net_output, states, scale\n",
    "\n",
    "\n",
    "class MyProbTrainRNN(MyProbRNN):\n",
    "    def hybrid_forward(\n",
    "        self,\n",
    "        F,\n",
    "        past_target,\n",
    "        future_target,\n",
    "        past_observed_values,\n",
    "        future_observed_values,\n",
    "    ):\n",
    "        net_output, _, scale = self.unroll_encoder(\n",
    "            F, past_target, past_observed_values, future_target, future_observed_values\n",
    "        )\n",
    "\n",
    "        # output target from -(context_length + prediction_length) to end\n",
    "        target_out = F.concat(past_target, future_target, dim=-1).slice_axis(\n",
    "            axis=1, begin=-(self.context_length + self.prediction_length), end=None\n",
    "        )\n",
    "\n",
    "        # project network output to distribution parameters domain\n",
    "        distr_args = self.proj_distr_args(net_output)\n",
    "\n",
    "        # compute distribution\n",
    "        distr = self.distr_output.distribution(distr_args, scale=scale)\n",
    "\n",
    "        # negative log-likelihood\n",
    "        loss = distr.loss(target_out)\n",
    "        return loss\n",
    "\n",
    "\n",
    "class MyProbPredRNN(MyProbTrainRNN):\n",
    "    def sample_decoder(self, F, past_target, states, scale):\n",
    "        # repeat fields: from (batch_size, past_target_length) to\n",
    "        # (batch_size * num_sample_paths, past_target_length)\n",
    "        repeated_states = [\n",
    "            s.repeat(repeats=self.num_sample_paths, axis=0) for s in states\n",
    "        ]\n",
    "        repeated_scale = scale.repeat(repeats=self.num_sample_paths, axis=0)\n",
    "\n",
    "        # first decoder input is the last value of the past_target, i.e.,\n",
    "        # the previous value of the first time step we want to forecast\n",
    "        decoder_input = past_target.slice_axis(axis=1, begin=-1, end=None).repeat(\n",
    "            repeats=self.num_sample_paths, axis=0\n",
    "        )\n",
    "\n",
    "        # list with samples at each time step\n",
    "        future_samples = []\n",
    "\n",
    "        # for each future time step we draw new samples for this time step and update the state\n",
    "        # the drawn samples are the inputs to the rnn at the next time step\n",
    "        for k in range(self.prediction_length):\n",
    "            rnn_outputs, repeated_states = self.rnn.unroll(\n",
    "                inputs=decoder_input,\n",
    "                length=1,\n",
    "                begin_state=repeated_states,\n",
    "                layout=\"NTC\",\n",
    "                merge_outputs=True,\n",
    "            )\n",
    "\n",
    "            # project network output to distribution parameters domain\n",
    "            distr_args = self.proj_distr_args(rnn_outputs)\n",
    "\n",
    "            # compute distribution\n",
    "            distr = self.distr_output.distribution(distr_args, scale=repeated_scale)\n",
    "\n",
    "            # draw samples (batch_size * num_samples, 1)\n",
    "            new_samples = distr.sample()\n",
    "\n",
    "            # append the samples of the current time step\n",
    "            future_samples.append(new_samples)\n",
    "\n",
    "            # update decoder input for the next time step\n",
    "            decoder_input = new_samples\n",
    "\n",
    "        samples = F.concat(*future_samples, dim=1)\n",
    "\n",
    "        # (batch_size, num_samples, prediction_length)\n",
    "        return samples.reshape(\n",
    "            shape=(-1, self.num_sample_paths, self.prediction_length)\n",
    "        )\n",
    "\n",
    "    def hybrid_forward(self, F, past_target, past_observed_values):\n",
    "        # unroll encoder over context_length\n",
    "        net_output, states, scale = self.unroll_encoder(\n",
    "            F, past_target, past_observed_values\n",
    "        )\n",
    "\n",
    "        samples = self.sample_decoder(F, past_target, states, scale)\n",
    "\n",
    "        return samples"
   ]
  },
  {
   "cell_type": "code",
   "execution_count": null,
   "id": "8ac4fbdf",
   "metadata": {
    "execution": {
     "iopub.execute_input": "2023-08-25T07:43:48.709391Z",
     "iopub.status.busy": "2023-08-25T07:43:48.708881Z",
     "iopub.status.idle": "2023-08-25T07:43:48.725199Z",
     "shell.execute_reply": "2023-08-25T07:43:48.724182Z"
    }
   },
   "outputs": [],
   "source": [
    "class MyProbRNNEstimator(GluonEstimator):\n",
    "    @validated()\n",
    "    def __init__(\n",
    "        self,\n",
    "        prediction_length: int,\n",
    "        context_length: int,\n",
    "        distr_output: DistributionOutput,\n",
    "        num_cells: int,\n",
    "        num_layers: int,\n",
    "        num_sample_paths: int = 100,\n",
    "        scaling: bool = True,\n",
    "        batch_size: int = 32,\n",
    "        trainer: Trainer = Trainer(),\n",
    "    ) -> None:\n",
    "        super().__init__(trainer=trainer, batch_size=batch_size)\n",
    "        self.prediction_length = prediction_length\n",
    "        self.context_length = context_length\n",
    "        self.distr_output = distr_output\n",
    "        self.num_cells = num_cells\n",
    "        self.num_layers = num_layers\n",
    "        self.num_sample_paths = num_sample_paths\n",
    "        self.scaling = scaling\n",
    "\n",
    "    def create_transformation(self):\n",
    "        # Feature transformation that the model uses for input.\n",
    "        return AddObservedValuesIndicator(\n",
    "            target_field=FieldName.TARGET,\n",
    "            output_field=FieldName.OBSERVED_VALUES,\n",
    "        )\n",
    "\n",
    "    def create_training_data_loader(self, dataset, **kwargs):\n",
    "        instance_splitter = InstanceSplitter(\n",
    "            target_field=FieldName.TARGET,\n",
    "            is_pad_field=FieldName.IS_PAD,\n",
    "            start_field=FieldName.START,\n",
    "            forecast_start_field=FieldName.FORECAST_START,\n",
    "            instance_sampler=ExpectedNumInstanceSampler(\n",
    "                num_instances=1,\n",
    "                min_future=self.prediction_length,\n",
    "            ),\n",
    "            past_length=self.context_length + 1,\n",
    "            future_length=self.prediction_length,\n",
    "            time_series_fields=[\n",
    "                FieldName.FEAT_DYNAMIC_REAL,\n",
    "                FieldName.OBSERVED_VALUES,\n",
    "            ],\n",
    "        )\n",
    "        input_names = get_hybrid_forward_input_names(MyProbTrainRNN)\n",
    "        return TrainDataLoader(\n",
    "            dataset=dataset,\n",
    "            transform=instance_splitter + SelectFields(input_names),\n",
    "            batch_size=self.batch_size,\n",
    "            stack_fn=partial(batchify, ctx=self.trainer.ctx, dtype=self.dtype),\n",
    "            **kwargs,\n",
    "        )\n",
    "\n",
    "    def create_training_network(self) -> MyProbTrainRNN:\n",
    "        return MyProbTrainRNN(\n",
    "            prediction_length=self.prediction_length,\n",
    "            context_length=self.context_length,\n",
    "            distr_output=self.distr_output,\n",
    "            num_cells=self.num_cells,\n",
    "            num_layers=self.num_layers,\n",
    "            num_sample_paths=self.num_sample_paths,\n",
    "            scaling=self.scaling,\n",
    "        )\n",
    "\n",
    "    def create_predictor(\n",
    "        self, transformation: Transformation, trained_network: HybridBlock\n",
    "    ) -> Predictor:\n",
    "        prediction_splitter = InstanceSplitter(\n",
    "            target_field=FieldName.TARGET,\n",
    "            is_pad_field=FieldName.IS_PAD,\n",
    "            start_field=FieldName.START,\n",
    "            forecast_start_field=FieldName.FORECAST_START,\n",
    "            instance_sampler=TestSplitSampler(),\n",
    "            past_length=self.context_length + 1,\n",
    "            future_length=self.prediction_length,\n",
    "            time_series_fields=[\n",
    "                FieldName.FEAT_DYNAMIC_REAL,\n",
    "                FieldName.OBSERVED_VALUES,\n",
    "            ],\n",
    "        )\n",
    "        prediction_network = MyProbPredRNN(\n",
    "            prediction_length=self.prediction_length,\n",
    "            context_length=self.context_length,\n",
    "            distr_output=self.distr_output,\n",
    "            num_cells=self.num_cells,\n",
    "            num_layers=self.num_layers,\n",
    "            num_sample_paths=self.num_sample_paths,\n",
    "            scaling=self.scaling,\n",
    "        )\n",
    "\n",
    "        copy_parameters(trained_network, prediction_network)\n",
    "\n",
    "        return RepresentableBlockPredictor(\n",
    "            input_transform=transformation + prediction_splitter,\n",
    "            prediction_net=prediction_network,\n",
    "            batch_size=self.batch_size,\n",
    "            prediction_length=self.prediction_length,\n",
    "            ctx=self.trainer.ctx,\n",
    "        )"
   ]
  },
  {
   "cell_type": "code",
   "execution_count": null,
   "id": "b96b0155",
   "metadata": {
    "execution": {
     "iopub.execute_input": "2023-08-25T07:43:48.728625Z",
     "iopub.status.busy": "2023-08-25T07:43:48.728066Z",
     "iopub.status.idle": "2023-08-25T07:43:48.733736Z",
     "shell.execute_reply": "2023-08-25T07:43:48.732649Z"
    }
   },
   "outputs": [],
   "source": [
    "estimator = MyProbRNNEstimator(\n",
    "    prediction_length=24,\n",
    "    context_length=48,\n",
    "    num_cells=40,\n",
    "    num_layers=2,\n",
    "    distr_output=GaussianOutput(),\n",
    "    trainer=Trainer(\n",
    "        ctx=\"cpu\",\n",
    "        epochs=5,\n",
    "        learning_rate=1e-3,\n",
    "        hybridize=False,\n",
    "        num_batches_per_epoch=100,\n",
    "    ),\n",
    ")"
   ]
  },
  {
   "cell_type": "code",
   "execution_count": null,
   "id": "c55fd290",
   "metadata": {
    "execution": {
     "iopub.execute_input": "2023-08-25T07:43:48.737561Z",
     "iopub.status.busy": "2023-08-25T07:43:48.737158Z",
     "iopub.status.idle": "2023-08-25T07:45:11.034531Z",
     "shell.execute_reply": "2023-08-25T07:45:11.033734Z"
    }
   },
   "outputs": [],
   "source": [
    "predictor = estimator.train(train_ds)"
   ]
  },
  {
   "cell_type": "code",
   "execution_count": null,
   "id": "99371f4d",
   "metadata": {
    "execution": {
     "iopub.execute_input": "2023-08-25T07:45:11.037987Z",
     "iopub.status.busy": "2023-08-25T07:45:11.037538Z",
     "iopub.status.idle": "2023-08-25T07:45:11.042028Z",
     "shell.execute_reply": "2023-08-25T07:45:11.041097Z"
    }
   },
   "outputs": [],
   "source": [
    "forecast_it, ts_it = make_evaluation_predictions(\n",
    "    dataset=test_ds,  # test dataset\n",
    "    predictor=predictor,  # predictor\n",
    "    num_samples=100,  # number of sample paths we want for evaluation\n",
    ")"
   ]
  },
  {
   "cell_type": "code",
   "execution_count": null,
   "id": "b2afcdcf",
   "metadata": {
    "execution": {
     "iopub.execute_input": "2023-08-25T07:45:11.045294Z",
     "iopub.status.busy": "2023-08-25T07:45:11.044821Z",
     "iopub.status.idle": "2023-08-25T07:45:13.171338Z",
     "shell.execute_reply": "2023-08-25T07:45:13.170464Z"
    }
   },
   "outputs": [],
   "source": [
    "forecasts = list(forecast_it)\n",
    "tss = list(ts_it)"
   ]
  },
  {
   "cell_type": "code",
   "execution_count": null,
   "id": "7a001474",
   "metadata": {
    "execution": {
     "iopub.execute_input": "2023-08-25T07:45:13.175873Z",
     "iopub.status.busy": "2023-08-25T07:45:13.175150Z",
     "iopub.status.idle": "2023-08-25T07:45:13.362513Z",
     "shell.execute_reply": "2023-08-25T07:45:13.360211Z"
    }
   },
   "outputs": [],
   "source": [
    "plt.plot(tss[0][-150:].to_timestamp())\n",
    "forecasts[0].plot(show_label=True)\n",
    "plt.legend()"
   ]
  }
 ],
 "metadata": {
  "kernelspec": {
   "display_name": "torchmpi",
   "language": "python",
   "name": "torchmpi"
  },
  "language_info": {
   "codemirror_mode": {
    "name": "ipython",
    "version": 3
   },
   "file_extension": ".py",
   "mimetype": "text/x-python",
   "name": "python",
   "nbconvert_exporter": "python",
   "pygments_lexer": "ipython3",
   "version": "3.11.4"
  }
 },
 "nbformat": 4,
 "nbformat_minor": 5
}
